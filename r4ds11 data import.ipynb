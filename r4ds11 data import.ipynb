{
 "cells": [
  {
   "cell_type": "raw",
   "metadata": {},
   "source": [
    "11 Data import"
   ]
  },
  {
   "cell_type": "raw",
   "metadata": {},
   "source": [
    "11.1 Introduction"
   ]
  },
  {
   "cell_type": "raw",
   "metadata": {},
   "source": [
    "Working with data provided by R packages is a great way to learn the tools of data science, but at some point you want to stop learning and start working with your own data. In this chapter, you’ll learn how to read plain-text rectangular files into R. Here, we’ll only scratch the surface of data import, but many of the principles will translate to other forms of data. We’ll finish with a few pointers to packages that are useful for other types of data."
   ]
  },
  {
   "cell_type": "raw",
   "metadata": {},
   "source": [
    "11.1.1 Prerequisites\n",
    "\n",
    "NN\n",
    "readr"
   ]
  },
  {
   "cell_type": "raw",
   "metadata": {},
   "source": [
    "In this chapter, you’ll learn how to load flat files in R with the readr package, which is part of the core tidyverse."
   ]
  },
  {
   "cell_type": "code",
   "execution_count": 1,
   "metadata": {},
   "outputs": [
    {
     "name": "stderr",
     "output_type": "stream",
     "text": [
      "Registered S3 methods overwritten by 'ggplot2':\n",
      "  method         from \n",
      "  [.quosures     rlang\n",
      "  c.quosures     rlang\n",
      "  print.quosures rlang\n",
      "Registered S3 method overwritten by 'rvest':\n",
      "  method            from\n",
      "  read_xml.response xml2\n",
      "── Attaching packages ─────────────────────────────────────── tidyverse 1.2.1 ──\n",
      "✔ ggplot2 3.1.1     ✔ purrr   0.3.2\n",
      "✔ tibble  2.1.1     ✔ dplyr   0.8.1\n",
      "✔ tidyr   0.8.3     ✔ stringr 1.4.0\n",
      "✔ readr   1.3.1     ✔ forcats 0.4.0\n",
      "── Conflicts ────────────────────────────────────────── tidyverse_conflicts() ──\n",
      "✖ dplyr::filter() masks stats::filter()\n",
      "✖ dplyr::lag()    masks stats::lag()\n"
     ]
    }
   ],
   "source": [
    "library(tidyverse)"
   ]
  },
  {
   "cell_type": "raw",
   "metadata": {},
   "source": [
    "11.2 Getting started"
   ]
  },
  {
   "cell_type": "raw",
   "metadata": {},
   "source": [
    "Most of readr’s functions are concerned with turning flat files into data frames:\n",
    "\n",
    "    read_csv() reads comma delimited files\n",
    "    read_csv2() reads semicolon separated files (common in countries where , is used as the decimal place)\n",
    "    read_tsv() reads tab delimited files\n",
    "    read_delim() reads in files with any delimiter.\n",
    "\n",
    "    read_fwf() reads fixed width files. You can specify fields either by their widths with fwf_widths() or their position with fwf_positions(). \n",
    "    read_table() reads a common variation of fixed width files where columns are separated by white space.\n",
    "\n",
    "    read_log() reads Apache style log files. (But also check out webreadr which is built on top of read_log() and provides many more helpful tools.)\n",
    "\n",
    "These functions all have similar syntax: once you’ve mastered one, you can use the others with ease. For the rest of this chapter we’ll focus on read_csv(). Not only are csv files one of the most common forms of data storage, but once you understand read_csv(), you can easily apply your knowledge to all the other functions in readr.\n",
    "\n",
    "The first argument to read_csv() is the most important: it’s the path to the file to read."
   ]
  },
  {
   "cell_type": "code",
   "execution_count": 4,
   "metadata": {},
   "outputs": [
    {
     "name": "stderr",
     "output_type": "stream",
     "text": [
      "Parsed with column specification:\n",
      "cols(\n",
      "  earn = col_double(),\n",
      "  height = col_double(),\n",
      "  sex = col_character(),\n",
      "  ed = col_double(),\n",
      "  age = col_double(),\n",
      "  race = col_character()\n",
      ")\n"
     ]
    }
   ],
   "source": [
    "heights <- read_csv(\"./heights.csv\")"
   ]
  },
  {
   "cell_type": "raw",
   "metadata": {},
   "source": [
    "When you run read_csv() it prints out a column specification that gives the name and type of each column. That’s an important part of readr, which we’ll come back to in parsing a file."
   ]
  },
  {
   "cell_type": "raw",
   "metadata": {},
   "source": [
    "You can also supply an inline csv file. This is useful for experimenting with readr and for creating reproducible examples to share with others:"
   ]
  },
  {
   "cell_type": "code",
   "execution_count": 5,
   "metadata": {},
   "outputs": [
    {
     "data": {
      "text/html": [
       "<table>\n",
       "<thead><tr><th scope=col>a</th><th scope=col>b</th><th scope=col>c</th></tr></thead>\n",
       "<tbody>\n",
       "\t<tr><td>1</td><td>2</td><td>3</td></tr>\n",
       "\t<tr><td>4</td><td>5</td><td>6</td></tr>\n",
       "</tbody>\n",
       "</table>\n"
      ],
      "text/latex": [
       "\\begin{tabular}{r|lll}\n",
       " a & b & c\\\\\n",
       "\\hline\n",
       "\t 1 & 2 & 3\\\\\n",
       "\t 4 & 5 & 6\\\\\n",
       "\\end{tabular}\n"
      ],
      "text/markdown": [
       "\n",
       "| a | b | c |\n",
       "|---|---|---|\n",
       "| 1 | 2 | 3 |\n",
       "| 4 | 5 | 6 |\n",
       "\n"
      ],
      "text/plain": [
       "  a b c\n",
       "1 1 2 3\n",
       "2 4 5 6"
      ]
     },
     "metadata": {},
     "output_type": "display_data"
    }
   ],
   "source": [
    "read_csv('a,b,c\n",
    "1,2,3\n",
    "4,5,6')"
   ]
  },
  {
   "cell_type": "raw",
   "metadata": {},
   "source": [
    "In both cases read_csv() uses the first line of the data for the column names, which is a very common convention. There are two cases where you might want to tweak this behaviour:\n",
    "\n",
    "1. Sometimes there are a few lines of metadata at the top of the file. You can use skip = n to skip the first n lines; or use comment = \"#\" to drop all lines that start with (e.g.) #."
   ]
  },
  {
   "cell_type": "code",
   "execution_count": 6,
   "metadata": {},
   "outputs": [
    {
     "data": {
      "text/html": [
       "<table>\n",
       "<thead><tr><th scope=col>x</th><th scope=col>y</th><th scope=col>z</th></tr></thead>\n",
       "<tbody>\n",
       "\t<tr><td>1</td><td>2</td><td>3</td></tr>\n",
       "</tbody>\n",
       "</table>\n"
      ],
      "text/latex": [
       "\\begin{tabular}{r|lll}\n",
       " x & y & z\\\\\n",
       "\\hline\n",
       "\t 1 & 2 & 3\\\\\n",
       "\\end{tabular}\n"
      ],
      "text/markdown": [
       "\n",
       "| x | y | z |\n",
       "|---|---|---|\n",
       "| 1 | 2 | 3 |\n",
       "\n"
      ],
      "text/plain": [
       "  x y z\n",
       "1 1 2 3"
      ]
     },
     "metadata": {},
     "output_type": "display_data"
    }
   ],
   "source": [
    "read_csv('The first line of metadata\n",
    "The second line of metadagta\n",
    "x,y,z\n",
    "1,2,3', skip = 2)"
   ]
  },
  {
   "cell_type": "code",
   "execution_count": 7,
   "metadata": {},
   "outputs": [
    {
     "data": {
      "text/html": [
       "<table>\n",
       "<thead><tr><th scope=col>x</th><th scope=col>y</th><th scope=col>z</th></tr></thead>\n",
       "<tbody>\n",
       "\t<tr><td>1</td><td>2</td><td>3</td></tr>\n",
       "</tbody>\n",
       "</table>\n"
      ],
      "text/latex": [
       "\\begin{tabular}{r|lll}\n",
       " x & y & z\\\\\n",
       "\\hline\n",
       "\t 1 & 2 & 3\\\\\n",
       "\\end{tabular}\n"
      ],
      "text/markdown": [
       "\n",
       "| x | y | z |\n",
       "|---|---|---|\n",
       "| 1 | 2 | 3 |\n",
       "\n"
      ],
      "text/plain": [
       "  x y z\n",
       "1 1 2 3"
      ]
     },
     "metadata": {},
     "output_type": "display_data"
    }
   ],
   "source": [
    "read_csv('# A comment I want to skip\n",
    "x,y,z\n",
    "1,2,3', comment = '#')\n"
   ]
  },
  {
   "cell_type": "raw",
   "metadata": {},
   "source": [
    "2. The data might not have column names. You can use col_names = FALSE to tell read_csv() not to treat the first row as headings, and instead label them sequentially from X1 to Xn:"
   ]
  },
  {
   "cell_type": "code",
   "execution_count": 8,
   "metadata": {},
   "outputs": [
    {
     "data": {
      "text/html": [
       "<table>\n",
       "<thead><tr><th scope=col>X1</th><th scope=col>X2</th><th scope=col>X3</th></tr></thead>\n",
       "<tbody>\n",
       "\t<tr><td>1</td><td>2</td><td>3</td></tr>\n",
       "\t<tr><td>4</td><td>5</td><td>6</td></tr>\n",
       "</tbody>\n",
       "</table>\n"
      ],
      "text/latex": [
       "\\begin{tabular}{r|lll}\n",
       " X1 & X2 & X3\\\\\n",
       "\\hline\n",
       "\t 1 & 2 & 3\\\\\n",
       "\t 4 & 5 & 6\\\\\n",
       "\\end{tabular}\n"
      ],
      "text/markdown": [
       "\n",
       "| X1 | X2 | X3 |\n",
       "|---|---|---|\n",
       "| 1 | 2 | 3 |\n",
       "| 4 | 5 | 6 |\n",
       "\n"
      ],
      "text/plain": [
       "  X1 X2 X3\n",
       "1 1  2  3 \n",
       "2 4  5  6 "
      ]
     },
     "metadata": {},
     "output_type": "display_data"
    }
   ],
   "source": [
    "read_csv('1,2,3\\n4,5,6', col_names=FALSE)"
   ]
  },
  {
   "cell_type": "raw",
   "metadata": {},
   "source": [
    "(\"\\n\" is a convenient shortcut for adding a new line. You’ll learn more about it and other types of string escape in string basics.)"
   ]
  },
  {
   "cell_type": "raw",
   "metadata": {},
   "source": [
    "Alternatively you can pass col_names a character vector which will be used as the column names:"
   ]
  },
  {
   "cell_type": "code",
   "execution_count": 9,
   "metadata": {},
   "outputs": [
    {
     "data": {
      "text/html": [
       "<table>\n",
       "<thead><tr><th scope=col>x</th><th scope=col>y</th><th scope=col>z</th></tr></thead>\n",
       "<tbody>\n",
       "\t<tr><td>1</td><td>2</td><td>3</td></tr>\n",
       "\t<tr><td>4</td><td>5</td><td>6</td></tr>\n",
       "</tbody>\n",
       "</table>\n"
      ],
      "text/latex": [
       "\\begin{tabular}{r|lll}\n",
       " x & y & z\\\\\n",
       "\\hline\n",
       "\t 1 & 2 & 3\\\\\n",
       "\t 4 & 5 & 6\\\\\n",
       "\\end{tabular}\n"
      ],
      "text/markdown": [
       "\n",
       "| x | y | z |\n",
       "|---|---|---|\n",
       "| 1 | 2 | 3 |\n",
       "| 4 | 5 | 6 |\n",
       "\n"
      ],
      "text/plain": [
       "  x y z\n",
       "1 1 2 3\n",
       "2 4 5 6"
      ]
     },
     "metadata": {},
     "output_type": "display_data"
    }
   ],
   "source": [
    "read_csv('1,2,3\\n4,5,6', col_names = c('x','y', 'z'))"
   ]
  },
  {
   "cell_type": "raw",
   "metadata": {},
   "source": [
    "Another option that commonly needs tweaking is na: this specifies the value (or values) that are used to represent missing values in your file:"
   ]
  },
  {
   "cell_type": "code",
   "execution_count": 10,
   "metadata": {},
   "outputs": [
    {
     "data": {
      "text/html": [
       "<table>\n",
       "<thead><tr><th scope=col>a</th><th scope=col>b</th><th scope=col>c</th></tr></thead>\n",
       "<tbody>\n",
       "\t<tr><td>1 </td><td>2 </td><td>NA</td></tr>\n",
       "</tbody>\n",
       "</table>\n"
      ],
      "text/latex": [
       "\\begin{tabular}{r|lll}\n",
       " a & b & c\\\\\n",
       "\\hline\n",
       "\t 1  & 2  & NA\\\\\n",
       "\\end{tabular}\n"
      ],
      "text/markdown": [
       "\n",
       "| a | b | c |\n",
       "|---|---|---|\n",
       "| 1  | 2  | NA |\n",
       "\n"
      ],
      "text/plain": [
       "  a b c \n",
       "1 1 2 NA"
      ]
     },
     "metadata": {},
     "output_type": "display_data"
    }
   ],
   "source": [
    "read_csv('a,b,c\\n1,2,.', na='.')"
   ]
  },
  {
   "cell_type": "raw",
   "metadata": {},
   "source": [
    "This is all you need to know to read ~75% of CSV files that you’ll encounter in practice. You can also easily adapt what you’ve learned to read tab separated files with read_tsv() and fixed width files with read_fwf(). \n",
    "\n",
    "To read in more challenging files, you’ll need to learn more about how readr parses each column, turning them into R vectors."
   ]
  },
  {
   "cell_type": "raw",
   "metadata": {},
   "source": [
    "11.2.1 Compared to base R"
   ]
  },
  {
   "cell_type": "raw",
   "metadata": {},
   "source": [
    "If you’ve used R before, you might wonder why we’re not using read.csv(). There are a few good reasons to favour readr functions over the base equivalents:\n",
    "\n",
    "*   They are typically much faster (~10x) than their base equivalents. Long running jobs have a progress bar, so you can see what’s happening. If you’re looking for raw speed, try data.table::fread(). It doesn’t fit quite so well into the tidyverse, but it can be quite a bit faster.\n",
    "\n",
    "*   They produce tibbles, they don’t convert character vectors to factors, use row names, or munge the column names. These are common sources of frustration with the base R functions.\n",
    "\n",
    "*   They are more reproducible. Base R functions inherit some behaviour from your operating system and environment variables, so import code that works on your computer might not work on someone else’s."
   ]
  },
  {
   "cell_type": "raw",
   "metadata": {},
   "source": [
    "11.2.2 Exercises"
   ]
  },
  {
   "cell_type": "raw",
   "metadata": {},
   "source": [
    "1. What function would you use to read a file where fields were separated with\n",
    "“|”?"
   ]
  },
  {
   "cell_type": "code",
   "execution_count": 38,
   "metadata": {},
   "outputs": [
    {
     "ename": "ERROR",
     "evalue": "Error: `file` must be a string, raw vector or a connection.\n",
     "output_type": "error",
     "traceback": [
      "Error: `file` must be a string, raw vector or a connection.\nTraceback:\n",
      "1. read_delim(file, delim = \"|\")",
      "2. read_delimited(file, tokenizer, col_names = col_names, col_types = col_types, \n .     locale = locale, skip = skip, skip_empty_rows = skip_empty_rows, \n .     comment = comment, n_max = n_max, guess_max = guess_max, \n .     progress = progress)",
      "3. col_spec_standardise(data, skip = skip, skip_empty_rows = skip_empty_rows, \n .     comment = comment, guess_max = guess_max, col_names = col_names, \n .     col_types = col_types, tokenizer = tokenizer, locale = locale)",
      "4. datasource(file, skip = skip, skip_empty_rows = skip_empty_rows, \n .     comment = comment)",
      "5. stop(\"`file` must be a string, raw vector or a connection.\", \n .     call. = FALSE)"
     ]
    }
   ],
   "source": [
    "read_delim(file, delim = \"|\")"
   ]
  },
  {
   "cell_type": "raw",
   "metadata": {},
   "source": [
    "2. Apart from file, skip, and comment, what other arguments do read_csv() and read_tsv() have in common?"
   ]
  },
  {
   "cell_type": "code",
   "execution_count": 43,
   "metadata": {},
   "outputs": [
    {
     "data": {
      "text/html": [
       "<ol class=list-inline>\n",
       "\t<li>'file'</li>\n",
       "\t<li>'col_names'</li>\n",
       "\t<li>'col_types'</li>\n",
       "\t<li>'locale'</li>\n",
       "\t<li>'na'</li>\n",
       "\t<li>'quoted_na'</li>\n",
       "\t<li>'quote'</li>\n",
       "\t<li>'comment'</li>\n",
       "\t<li>'trim_ws'</li>\n",
       "\t<li>'skip'</li>\n",
       "\t<li>'n_max'</li>\n",
       "\t<li>'guess_max'</li>\n",
       "\t<li>'progress'</li>\n",
       "\t<li>'skip_empty_rows'</li>\n",
       "</ol>\n"
      ],
      "text/latex": [
       "\\begin{enumerate*}\n",
       "\\item 'file'\n",
       "\\item 'col\\_names'\n",
       "\\item 'col\\_types'\n",
       "\\item 'locale'\n",
       "\\item 'na'\n",
       "\\item 'quoted\\_na'\n",
       "\\item 'quote'\n",
       "\\item 'comment'\n",
       "\\item 'trim\\_ws'\n",
       "\\item 'skip'\n",
       "\\item 'n\\_max'\n",
       "\\item 'guess\\_max'\n",
       "\\item 'progress'\n",
       "\\item 'skip\\_empty\\_rows'\n",
       "\\end{enumerate*}\n"
      ],
      "text/markdown": [
       "1. 'file'\n",
       "2. 'col_names'\n",
       "3. 'col_types'\n",
       "4. 'locale'\n",
       "5. 'na'\n",
       "6. 'quoted_na'\n",
       "7. 'quote'\n",
       "8. 'comment'\n",
       "9. 'trim_ws'\n",
       "10. 'skip'\n",
       "11. 'n_max'\n",
       "12. 'guess_max'\n",
       "13. 'progress'\n",
       "14. 'skip_empty_rows'\n",
       "\n",
       "\n"
      ],
      "text/plain": [
       " [1] \"file\"            \"col_names\"       \"col_types\"       \"locale\"         \n",
       " [5] \"na\"              \"quoted_na\"       \"quote\"           \"comment\"        \n",
       " [9] \"trim_ws\"         \"skip\"            \"n_max\"           \"guess_max\"      \n",
       "[13] \"progress\"        \"skip_empty_rows\""
      ]
     },
     "metadata": {},
     "output_type": "display_data"
    },
    {
     "data": {
      "text/html": [
       "<ol class=list-inline>\n",
       "\t<li>'file'</li>\n",
       "\t<li>'col_names'</li>\n",
       "\t<li>'col_types'</li>\n",
       "\t<li>'locale'</li>\n",
       "\t<li>'na'</li>\n",
       "\t<li>'quoted_na'</li>\n",
       "\t<li>'quote'</li>\n",
       "\t<li>'comment'</li>\n",
       "\t<li>'trim_ws'</li>\n",
       "\t<li>'skip'</li>\n",
       "\t<li>'n_max'</li>\n",
       "\t<li>'guess_max'</li>\n",
       "\t<li>'progress'</li>\n",
       "\t<li>'skip_empty_rows'</li>\n",
       "</ol>\n"
      ],
      "text/latex": [
       "\\begin{enumerate*}\n",
       "\\item 'file'\n",
       "\\item 'col\\_names'\n",
       "\\item 'col\\_types'\n",
       "\\item 'locale'\n",
       "\\item 'na'\n",
       "\\item 'quoted\\_na'\n",
       "\\item 'quote'\n",
       "\\item 'comment'\n",
       "\\item 'trim\\_ws'\n",
       "\\item 'skip'\n",
       "\\item 'n\\_max'\n",
       "\\item 'guess\\_max'\n",
       "\\item 'progress'\n",
       "\\item 'skip\\_empty\\_rows'\n",
       "\\end{enumerate*}\n"
      ],
      "text/markdown": [
       "1. 'file'\n",
       "2. 'col_names'\n",
       "3. 'col_types'\n",
       "4. 'locale'\n",
       "5. 'na'\n",
       "6. 'quoted_na'\n",
       "7. 'quote'\n",
       "8. 'comment'\n",
       "9. 'trim_ws'\n",
       "10. 'skip'\n",
       "11. 'n_max'\n",
       "12. 'guess_max'\n",
       "13. 'progress'\n",
       "14. 'skip_empty_rows'\n",
       "\n",
       "\n"
      ],
      "text/plain": [
       " [1] \"file\"            \"col_names\"       \"col_types\"       \"locale\"         \n",
       " [5] \"na\"              \"quoted_na\"       \"quote\"           \"comment\"        \n",
       " [9] \"trim_ws\"         \"skip\"            \"n_max\"           \"guess_max\"      \n",
       "[13] \"progress\"        \"skip_empty_rows\""
      ]
     },
     "metadata": {},
     "output_type": "display_data"
    }
   ],
   "source": [
    "intersect(names(formals(read_csv)), names(formals(read_tsv)))\n",
    "union(names(formals(read_csv)), names(formals(read_tsv)))"
   ]
  },
  {
   "cell_type": "raw",
   "metadata": {},
   "source": [
    "* col_names and col_types are used to specify the column names and how to parse the columns\n",
    "* locale is important for determining things like the encoding and whether “.” or “,” is used as a decimal mark.\n",
    "* na and quoted_na control which strings are treated as missing values when parsing vectors\n",
    "* trim_ws trims whitespace before and after cells before parsing\n",
    "* n_max sets how many rows to read\n",
    "* guess_max sets how many rows to use when guessing the column type\n",
    "* progress determines whether a progress bar is shown."
   ]
  },
  {
   "cell_type": "raw",
   "metadata": {},
   "source": [
    "[******** extremely useful]"
   ]
  },
  {
   "cell_type": "code",
   "execution_count": 40,
   "metadata": {},
   "outputs": [
    {
     "data": {
      "text/plain": [
       "$file\n",
       "\n",
       "\n",
       "$col_names\n",
       "[1] TRUE\n",
       "\n",
       "$col_types\n",
       "NULL\n",
       "\n",
       "$locale\n",
       "default_locale()\n",
       "\n",
       "$na\n",
       "c(\"\", \"NA\")\n",
       "\n",
       "$quoted_na\n",
       "[1] TRUE\n",
       "\n",
       "$quote\n",
       "[1] \"\\\"\"\n",
       "\n",
       "$comment\n",
       "[1] \"\"\n",
       "\n",
       "$trim_ws\n",
       "[1] TRUE\n",
       "\n",
       "$skip\n",
       "[1] 0\n",
       "\n",
       "$n_max\n",
       "[1] Inf\n",
       "\n",
       "$guess_max\n",
       "min(1000, n_max)\n",
       "\n",
       "$progress\n",
       "show_progress()\n",
       "\n",
       "$skip_empty_rows\n",
       "[1] TRUE\n"
      ]
     },
     "metadata": {},
     "output_type": "display_data"
    }
   ],
   "source": [
    "formals(read_csv)"
   ]
  },
  {
   "cell_type": "raw",
   "metadata": {},
   "source": [
    "3. What are the most important arguments to read_fwf()?\n",
    "\n",
    "The most important argument to read_fwf() which reads “fixed-width formats”, is col_positions which tells the function where data columns begin and end."
   ]
  },
  {
   "cell_type": "code",
   "execution_count": 44,
   "metadata": {},
   "outputs": [
    {
     "data": {
      "text/plain": [
       "$file\n",
       "\n",
       "\n",
       "$col_positions\n",
       "\n",
       "\n",
       "$col_types\n",
       "NULL\n",
       "\n",
       "$locale\n",
       "default_locale()\n",
       "\n",
       "$na\n",
       "c(\"\", \"NA\")\n",
       "\n",
       "$comment\n",
       "[1] \"\"\n",
       "\n",
       "$trim_ws\n",
       "[1] TRUE\n",
       "\n",
       "$skip\n",
       "[1] 0\n",
       "\n",
       "$n_max\n",
       "[1] Inf\n",
       "\n",
       "$guess_max\n",
       "min(n_max, 1000)\n",
       "\n",
       "$progress\n",
       "show_progress()\n",
       "\n",
       "$skip_empty_rows\n",
       "[1] TRUE\n"
      ]
     },
     "metadata": {},
     "output_type": "display_data"
    }
   ],
   "source": [
    "formals(read_fwf)"
   ]
  },
  {
   "cell_type": "raw",
   "metadata": {},
   "source": [
    "read_delim()\n",
    "read_csv()\n",
    "\n",
    "4. Sometimes strings in a CSV file contain commas. To prevent them from causing problems they need to be surrounded by a quoting character, like \" or '. By convention, read_csv() assumes that the quoting character will be \", and if you want to change it you’ll need to use read_delim() instead. What arguments do you need to specify to read the following text into a data frame?  NOTY THE CASE ANY MORE CAN USE READ_CSV\n",
    "\n",
    "\"x,y\\n1,'a,b'\"\n",
    "\n",
    "For read_delim(), we will will need to specify a delimiter, in this case \",\", and a quote argument."
   ]
  },
  {
   "cell_type": "code",
   "execution_count": 47,
   "metadata": {},
   "outputs": [
    {
     "data": {
      "text/html": [
       "<table>\n",
       "<thead><tr><th scope=col>x</th><th scope=col>y</th></tr></thead>\n",
       "<tbody>\n",
       "\t<tr><td>1  </td><td>a,b</td></tr>\n",
       "</tbody>\n",
       "</table>\n"
      ],
      "text/latex": [
       "\\begin{tabular}{r|ll}\n",
       " x & y\\\\\n",
       "\\hline\n",
       "\t 1   & a,b\\\\\n",
       "\\end{tabular}\n"
      ],
      "text/markdown": [
       "\n",
       "| x | y |\n",
       "|---|---|\n",
       "| 1   | a,b |\n",
       "\n"
      ],
      "text/plain": [
       "  x y  \n",
       "1 1 a,b"
      ]
     },
     "metadata": {},
     "output_type": "display_data"
    }
   ],
   "source": [
    "x <- \"x,y\\n1,'a,b'\"\n",
    "read_delim(file = x, delim\",\", quote = \"'\")"
   ]
  },
  {
   "cell_type": "raw",
   "metadata": {},
   "source": [
    "However, this question is out of date. read_csv() now supports a quote argument, so the following code works."
   ]
  },
  {
   "cell_type": "code",
   "execution_count": 48,
   "metadata": {},
   "outputs": [
    {
     "data": {
      "text/html": [
       "<table>\n",
       "<thead><tr><th scope=col>x</th><th scope=col>y</th></tr></thead>\n",
       "<tbody>\n",
       "\t<tr><td>1  </td><td>a,b</td></tr>\n",
       "</tbody>\n",
       "</table>\n"
      ],
      "text/latex": [
       "\\begin{tabular}{r|ll}\n",
       " x & y\\\\\n",
       "\\hline\n",
       "\t 1   & a,b\\\\\n",
       "\\end{tabular}\n"
      ],
      "text/markdown": [
       "\n",
       "| x | y |\n",
       "|---|---|\n",
       "| 1   | a,b |\n",
       "\n"
      ],
      "text/plain": [
       "  x y  \n",
       "1 1 a,b"
      ]
     },
     "metadata": {},
     "output_type": "display_data"
    }
   ],
   "source": [
    "read_csv(x, quote = \"'\")"
   ]
  },
  {
   "cell_type": "code",
   "execution_count": 46,
   "metadata": {},
   "outputs": [
    {
     "data": {
      "text/plain": [
       "$file\n",
       "\n",
       "\n",
       "$delim\n",
       "\n",
       "\n",
       "$quote\n",
       "[1] \"\\\"\"\n",
       "\n",
       "$escape_backslash\n",
       "[1] FALSE\n",
       "\n",
       "$escape_double\n",
       "[1] TRUE\n",
       "\n",
       "$col_names\n",
       "[1] TRUE\n",
       "\n",
       "$col_types\n",
       "NULL\n",
       "\n",
       "$locale\n",
       "default_locale()\n",
       "\n",
       "$na\n",
       "c(\"\", \"NA\")\n",
       "\n",
       "$quoted_na\n",
       "[1] TRUE\n",
       "\n",
       "$comment\n",
       "[1] \"\"\n",
       "\n",
       "$trim_ws\n",
       "[1] FALSE\n",
       "\n",
       "$skip\n",
       "[1] 0\n",
       "\n",
       "$n_max\n",
       "[1] Inf\n",
       "\n",
       "$guess_max\n",
       "min(1000, n_max)\n",
       "\n",
       "$progress\n",
       "show_progress()\n",
       "\n",
       "$skip_empty_rows\n",
       "[1] TRUE\n"
      ]
     },
     "metadata": {},
     "output_type": "display_data"
    }
   ],
   "source": [
    "formals(read_delim)"
   ]
  },
  {
   "cell_type": "raw",
   "metadata": {},
   "source": [
    "5. Identify what is wrong with each of the following inline CSV files. What happens when you run the code?\n",
    "\n",
    "read_csv(\"a,b\\n1,2,3\\n4,5,6\")  # 2 col labels but 3 cols of data\n",
    "\n",
    "Only two columns are specified in the header “a” and “b”, but the rows have three columns, so the last column is dropped.\n",
    "\n",
    "read_csv(\"a,b,c\\n1,2\\n1,2,3,4\") # 3 col labels but row 2 only has 2 cols\n",
    "\n",
    "The numbers of columns in the data do not match the number of columns in the header (three). In row one, there are only two values, so column c is set to missing. In row two, there is an extra value, and that value is dropped.\n",
    "\n",
    "read_csv(\"a,b\\n\\\"1\")  # not sure whats that\n",
    "\n",
    "It’s not clear what the intent was here. The opening quote \"1 is dropped because it is not closed, and a is treated as an integer.\n",
    "\n",
    "read_csv(\"a,b\\n\\\"1\")  # not sure whats that\n",
    "\n",
    "Both “a” and “b” are treated as character vectors since they contain non-numeric strings. This may have been intentional, or the author may have intended the values of the columns to be “1,2” and “a,b”.\n",
    "\n",
    "read_csv(\"a,b\\n\\\"1\")  # not sure whats that\n",
    "\n",
    "The values are separated by “;” rather than “,”. Use read_csv2() instead:\n",
    "\n"
   ]
  },
  {
   "cell_type": "code",
   "execution_count": 11,
   "metadata": {},
   "outputs": [
    {
     "name": "stderr",
     "output_type": "stream",
     "text": [
      "Warning message:\n",
      "“2 parsing failures.\n",
      "row col  expected    actual         file\n",
      "  1  -- 2 columns 3 columns literal data\n",
      "  2  -- 2 columns 3 columns literal data\n",
      "”"
     ]
    },
    {
     "data": {
      "text/html": [
       "<table>\n",
       "<thead><tr><th scope=col>a</th><th scope=col>b</th></tr></thead>\n",
       "<tbody>\n",
       "\t<tr><td>1</td><td>2</td></tr>\n",
       "\t<tr><td>4</td><td>5</td></tr>\n",
       "</tbody>\n",
       "</table>\n"
      ],
      "text/latex": [
       "\\begin{tabular}{r|ll}\n",
       " a & b\\\\\n",
       "\\hline\n",
       "\t 1 & 2\\\\\n",
       "\t 4 & 5\\\\\n",
       "\\end{tabular}\n"
      ],
      "text/markdown": [
       "\n",
       "| a | b |\n",
       "|---|---|\n",
       "| 1 | 2 |\n",
       "| 4 | 5 |\n",
       "\n"
      ],
      "text/plain": [
       "  a b\n",
       "1 1 2\n",
       "2 4 5"
      ]
     },
     "metadata": {},
     "output_type": "display_data"
    },
    {
     "name": "stderr",
     "output_type": "stream",
     "text": [
      "Warning message:\n",
      "“2 parsing failures.\n",
      "row col  expected    actual         file\n",
      "  1  -- 3 columns 2 columns literal data\n",
      "  2  -- 3 columns 4 columns literal data\n",
      "”"
     ]
    },
    {
     "data": {
      "text/html": [
       "<table>\n",
       "<thead><tr><th scope=col>a</th><th scope=col>b</th><th scope=col>c</th></tr></thead>\n",
       "<tbody>\n",
       "\t<tr><td>1 </td><td>2 </td><td>NA</td></tr>\n",
       "\t<tr><td>1 </td><td>2 </td><td> 3</td></tr>\n",
       "</tbody>\n",
       "</table>\n"
      ],
      "text/latex": [
       "\\begin{tabular}{r|lll}\n",
       " a & b & c\\\\\n",
       "\\hline\n",
       "\t 1  & 2  & NA\\\\\n",
       "\t 1  & 2  &  3\\\\\n",
       "\\end{tabular}\n"
      ],
      "text/markdown": [
       "\n",
       "| a | b | c |\n",
       "|---|---|---|\n",
       "| 1  | 2  | NA |\n",
       "| 1  | 2  |  3 |\n",
       "\n"
      ],
      "text/plain": [
       "  a b c \n",
       "1 1 2 NA\n",
       "2 1 2  3"
      ]
     },
     "metadata": {},
     "output_type": "display_data"
    },
    {
     "name": "stderr",
     "output_type": "stream",
     "text": [
      "Warning message:\n",
      "“2 parsing failures.\n",
      "row col                     expected    actual         file\n",
      "  1  a  closing quote at end of file           literal data\n",
      "  1  -- 2 columns                    1 columns literal data\n",
      "”"
     ]
    },
    {
     "data": {
      "text/html": [
       "<table>\n",
       "<thead><tr><th scope=col>a</th><th scope=col>b</th></tr></thead>\n",
       "<tbody>\n",
       "\t<tr><td>1 </td><td>NA</td></tr>\n",
       "</tbody>\n",
       "</table>\n"
      ],
      "text/latex": [
       "\\begin{tabular}{r|ll}\n",
       " a & b\\\\\n",
       "\\hline\n",
       "\t 1  & NA\\\\\n",
       "\\end{tabular}\n"
      ],
      "text/markdown": [
       "\n",
       "| a | b |\n",
       "|---|---|\n",
       "| 1  | NA |\n",
       "\n"
      ],
      "text/plain": [
       "  a b \n",
       "1 1 NA"
      ]
     },
     "metadata": {},
     "output_type": "display_data"
    },
    {
     "data": {
      "text/html": [
       "<table>\n",
       "<thead><tr><th scope=col>a</th><th scope=col>b</th></tr></thead>\n",
       "<tbody>\n",
       "\t<tr><td>1</td><td>2</td></tr>\n",
       "\t<tr><td>a</td><td>b</td></tr>\n",
       "</tbody>\n",
       "</table>\n"
      ],
      "text/latex": [
       "\\begin{tabular}{r|ll}\n",
       " a & b\\\\\n",
       "\\hline\n",
       "\t 1 & 2\\\\\n",
       "\t a & b\\\\\n",
       "\\end{tabular}\n"
      ],
      "text/markdown": [
       "\n",
       "| a | b |\n",
       "|---|---|\n",
       "| 1 | 2 |\n",
       "| a | b |\n",
       "\n"
      ],
      "text/plain": [
       "  a b\n",
       "1 1 2\n",
       "2 a b"
      ]
     },
     "metadata": {},
     "output_type": "display_data"
    },
    {
     "data": {
      "text/html": [
       "<table>\n",
       "<thead><tr><th scope=col>a;b</th></tr></thead>\n",
       "<tbody>\n",
       "\t<tr><td>1;3</td></tr>\n",
       "</tbody>\n",
       "</table>\n"
      ],
      "text/latex": [
       "\\begin{tabular}{r|l}\n",
       " a;b\\\\\n",
       "\\hline\n",
       "\t 1;3\\\\\n",
       "\\end{tabular}\n"
      ],
      "text/markdown": [
       "\n",
       "| a;b |\n",
       "|---|\n",
       "| 1;3 |\n",
       "\n"
      ],
      "text/plain": [
       "  a;b\n",
       "1 1;3"
      ]
     },
     "metadata": {},
     "output_type": "display_data"
    }
   ],
   "source": [
    "read_csv(\"a,b\\n1,2,3\\n4,5,6\")  # 2 col labels but 3 cols of data\n",
    "read_csv(\"a,b,c\\n1,2\\n1,2,3,4\") # 3 col labels but row 2 only has 2 cols\n",
    "read_csv(\"a,b\\n\\\"1\")  # not sure whats that\n",
    "read_csv(\"a,b\\n1,2\\na,b\")\n",
    "c"
   ]
  },
  {
   "cell_type": "raw",
   "metadata": {},
   "source": [
    "11.3 Parsing a vector"
   ]
  },
  {
   "cell_type": "raw",
   "metadata": {},
   "source": [
    "Before we get into the details of how readr reads files from disk, we need to take a little detour to talk about the parse_*() functions. These functions take a character vector and return a more specialised vector like a logical, integer, or date:"
   ]
  },
  {
   "cell_type": "code",
   "execution_count": 12,
   "metadata": {},
   "outputs": [
    {
     "name": "stdout",
     "output_type": "stream",
     "text": [
      " logi [1:3] TRUE FALSE NA\n",
      " int [1:3] 1 2 3\n",
      " Date[1:2], format: \"2010-01-01\" \"1979-10-14\"\n"
     ]
    }
   ],
   "source": [
    "str(parse_logical(c(\"TRUE\", \"FALSE\", \"NA\")))\n",
    "str(parse_integer(c(\"1\", \"2\", \"3\")))\n",
    "str(parse_date(c(\"2010-01-01\", \"1979-10-14\")))"
   ]
  },
  {
   "cell_type": "raw",
   "metadata": {},
   "source": [
    "These functions are useful in their own right, but are also an important building block for readr. Once you’ve learned how the individual parsers work in this section, we’ll circle back and see how they fit together to parse a complete file in the next section.\n",
    "\n",
    "Like all functions in the tidyverse, the parse_*() functions are uniform: the first argument is a character vector to parse, and the na argument specifies which strings should be treated as missing:"
   ]
  },
  {
   "cell_type": "code",
   "execution_count": 13,
   "metadata": {},
   "outputs": [
    {
     "data": {
      "text/html": [
       "<ol class=list-inline>\n",
       "\t<li>1</li>\n",
       "\t<li>231</li>\n",
       "\t<li>&lt;NA&gt;</li>\n",
       "\t<li>456</li>\n",
       "</ol>\n"
      ],
      "text/latex": [
       "\\begin{enumerate*}\n",
       "\\item 1\n",
       "\\item 231\n",
       "\\item <NA>\n",
       "\\item 456\n",
       "\\end{enumerate*}\n"
      ],
      "text/markdown": [
       "1. 1\n",
       "2. 231\n",
       "3. &lt;NA&gt;\n",
       "4. 456\n",
       "\n",
       "\n"
      ],
      "text/plain": [
       "[1]   1 231  NA 456"
      ]
     },
     "metadata": {},
     "output_type": "display_data"
    }
   ],
   "source": [
    "parse_integer(c(\"1\", \"231\", \".\", \"456\"), na = \".\")"
   ]
  },
  {
   "cell_type": "raw",
   "metadata": {},
   "source": [
    "If parsing fails, you’ll get a warning:"
   ]
  },
  {
   "cell_type": "code",
   "execution_count": 14,
   "metadata": {},
   "outputs": [
    {
     "name": "stderr",
     "output_type": "stream",
     "text": [
      "Warning message:\n",
      "“2 parsing failures.\n",
      "row col               expected actual\n",
      "  3  -- an integer                abc\n",
      "  4  -- no trailing characters    .45\n",
      "”"
     ]
    }
   ],
   "source": [
    "x <- parse_integer(c(\"123\", \"345\", \"abc\", \"123.45\"))"
   ]
  },
  {
   "cell_type": "raw",
   "metadata": {},
   "source": [
    "And the failures will be missing in the output:"
   ]
  },
  {
   "cell_type": "code",
   "execution_count": 15,
   "metadata": {},
   "outputs": [
    {
     "data": {
      "text/html": [
       "<ol class=list-inline>\n",
       "\t<li>123</li>\n",
       "\t<li>345</li>\n",
       "\t<li>&lt;NA&gt;</li>\n",
       "\t<li>&lt;NA&gt;</li>\n",
       "</ol>\n"
      ],
      "text/latex": [
       "\\begin{enumerate*}\n",
       "\\item 123\n",
       "\\item 345\n",
       "\\item <NA>\n",
       "\\item <NA>\n",
       "\\end{enumerate*}\n"
      ],
      "text/markdown": [
       "1. 123\n",
       "2. 345\n",
       "3. &lt;NA&gt;\n",
       "4. &lt;NA&gt;\n",
       "\n",
       "\n"
      ],
      "text/plain": [
       "[1] 123 345  NA  NA\n",
       "attr(,\"problems\")\n",
       "# A tibble: 2 x 4\n",
       "    row   col expected               actual\n",
       "  <int> <int> <chr>                  <chr> \n",
       "1     3    NA an integer             abc   \n",
       "2     4    NA no trailing characters .45   "
      ]
     },
     "metadata": {},
     "output_type": "display_data"
    }
   ],
   "source": [
    "x"
   ]
  },
  {
   "cell_type": "raw",
   "metadata": {},
   "source": [
    "NN\n",
    "problems()\n",
    "\n",
    "If there are many parsing failures, you’ll need to use problems() to get the complete set. This returns a tibble, which you can then manipulate with dplyr."
   ]
  },
  {
   "cell_type": "code",
   "execution_count": 17,
   "metadata": {},
   "outputs": [
    {
     "data": {
      "text/html": [
       "<table>\n",
       "<thead><tr><th scope=col>row</th><th scope=col>col</th><th scope=col>expected</th><th scope=col>actual</th></tr></thead>\n",
       "<tbody>\n",
       "\t<tr><td>3                     </td><td>NA                    </td><td>an integer            </td><td>abc                   </td></tr>\n",
       "\t<tr><td>4                     </td><td>NA                    </td><td>no trailing characters</td><td>.45                   </td></tr>\n",
       "</tbody>\n",
       "</table>\n"
      ],
      "text/latex": [
       "\\begin{tabular}{r|llll}\n",
       " row & col & expected & actual\\\\\n",
       "\\hline\n",
       "\t 3                      & NA                     & an integer             & abc                   \\\\\n",
       "\t 4                      & NA                     & no trailing characters & .45                   \\\\\n",
       "\\end{tabular}\n"
      ],
      "text/markdown": [
       "\n",
       "| row | col | expected | actual |\n",
       "|---|---|---|---|\n",
       "| 3                      | NA                     | an integer             | abc                    |\n",
       "| 4                      | NA                     | no trailing characters | .45                    |\n",
       "\n"
      ],
      "text/plain": [
       "  row col expected               actual\n",
       "1 3   NA  an integer             abc   \n",
       "2 4   NA  no trailing characters .45   "
      ]
     },
     "metadata": {},
     "output_type": "display_data"
    }
   ],
   "source": [
    "problems(x)"
   ]
  },
  {
   "cell_type": "raw",
   "metadata": {},
   "source": [
    "Using parsers is mostly a matter of understanding what’s available and how they deal with different types of input. There are eight particularly important parsers:\n",
    "\n",
    "    parse_logical()\n",
    "    parse_integer() \n",
    "    parse logicals and integers respectively. There’s basically nothing that can go wrong with these parsers so I won’t describe them here further.\n",
    "\n",
    "    parse_double() \n",
    "    is a strict numeric parser\n",
    "    parse_number() \n",
    "    is a flexible numeric parser. \n",
    "    These are more complicated than you might expect because different parts of the world write numbers in different ways.\n",
    "\n",
    "    parse_character() \n",
    "    seems so simple that it shouldn’t be necessary. But one complication makes it quite important: character encodings.\n",
    "\n",
    "    parse_factor() \n",
    "    create factors, the data structure that R uses to represent categorical variables with fixed and known values.\n",
    "\n",
    "    parse_datetime()\n",
    "    parse_date()\n",
    "    parse_time() \n",
    "    allow you to parse various date & time specifications. These are the most complicated because there are so many different ways of writing dates.\n",
    "\n",
    "The following sections describe these parsers in more detail."
   ]
  },
  {
   "cell_type": "raw",
   "metadata": {},
   "source": [
    "11.3.1 Numbers"
   ]
  },
  {
   "cell_type": "raw",
   "metadata": {},
   "source": [
    "It seems like it should be straightforward to parse a number, but three problems make it tricky:\n",
    "\n",
    "    People write numbers differently in different parts of the world. For example, some countries use . in between the integer and fractional parts of a real number, while others use ,.\n",
    "\n",
    "    Numbers are often surrounded by other characters that provide some context, like “$1000” or “10%”.\n",
    "\n",
    "    Numbers often contain “grouping” characters to make them easier to read, like “1,000,000”, and these grouping characters vary around the world.\n",
    "\n",
    "NN\n",
    "locale\n",
    "decimal_mark\n",
    "\n",
    "To address the first problem, readr has the notion of a “locale”, an object that specifies parsing options that differ from place to place. When parsing numbers, the most important option is the character you use for the decimal mark. You can override the default value of . by creating a new locale and setting the decimal_mark argument:"
   ]
  },
  {
   "cell_type": "code",
   "execution_count": 18,
   "metadata": {},
   "outputs": [
    {
     "data": {
      "text/html": [
       "1.23"
      ],
      "text/latex": [
       "1.23"
      ],
      "text/markdown": [
       "1.23"
      ],
      "text/plain": [
       "[1] 1.23"
      ]
     },
     "metadata": {},
     "output_type": "display_data"
    },
    {
     "data": {
      "text/html": [
       "1.23"
      ],
      "text/latex": [
       "1.23"
      ],
      "text/markdown": [
       "1.23"
      ],
      "text/plain": [
       "[1] 1.23"
      ]
     },
     "metadata": {},
     "output_type": "display_data"
    }
   ],
   "source": [
    "parse_double(\"1.23\")\n",
    "parse_double(\"1,23\", locale = locale(decimal_mark = \",\"))"
   ]
  },
  {
   "cell_type": "raw",
   "metadata": {},
   "source": [
    "readr’s default locale is US-centric, because generally R is US-centric (i.e. the documentation of base R is written in American English). An alternative approach would be to try and guess the defaults from your operating system. This is hard to do well, and, more importantly, makes your code fragile: even if it works on your computer, it might fail when you email it to a colleague in another country."
   ]
  },
  {
   "cell_type": "raw",
   "metadata": {},
   "source": [
    "parse_number() \n",
    "addresses the second problem: it ignores non-numeric characters before and after the number. This is particularly useful for currencies and percentages, but also works to extract numbers embedded in text."
   ]
  },
  {
   "cell_type": "code",
   "execution_count": 19,
   "metadata": {},
   "outputs": [
    {
     "data": {
      "text/html": [
       "100"
      ],
      "text/latex": [
       "100"
      ],
      "text/markdown": [
       "100"
      ],
      "text/plain": [
       "[1] 100"
      ]
     },
     "metadata": {},
     "output_type": "display_data"
    },
    {
     "data": {
      "text/html": [
       "20"
      ],
      "text/latex": [
       "20"
      ],
      "text/markdown": [
       "20"
      ],
      "text/plain": [
       "[1] 20"
      ]
     },
     "metadata": {},
     "output_type": "display_data"
    },
    {
     "data": {
      "text/html": [
       "123.45"
      ],
      "text/latex": [
       "123.45"
      ],
      "text/markdown": [
       "123.45"
      ],
      "text/plain": [
       "[1] 123.45"
      ]
     },
     "metadata": {},
     "output_type": "display_data"
    }
   ],
   "source": [
    "parse_number(\"$100\")\n",
    "parse_number(\"20%\")\n",
    "parse_number(\"It cost $123.45\")"
   ]
  },
  {
   "cell_type": "raw",
   "metadata": {},
   "source": [
    "The final problem is addressed by the combination of parse_number() and the locale as parse_number() will ignore the “grouping mark”:"
   ]
  },
  {
   "cell_type": "code",
   "execution_count": 20,
   "metadata": {},
   "outputs": [
    {
     "data": {
      "text/html": [
       "123456789"
      ],
      "text/latex": [
       "123456789"
      ],
      "text/markdown": [
       "123456789"
      ],
      "text/plain": [
       "[1] 123456789"
      ]
     },
     "metadata": {},
     "output_type": "display_data"
    },
    {
     "data": {
      "text/html": [
       "123456789"
      ],
      "text/latex": [
       "123456789"
      ],
      "text/markdown": [
       "123456789"
      ],
      "text/plain": [
       "[1] 123456789"
      ]
     },
     "metadata": {},
     "output_type": "display_data"
    },
    {
     "data": {
      "text/html": [
       "123456789"
      ],
      "text/latex": [
       "123456789"
      ],
      "text/markdown": [
       "123456789"
      ],
      "text/plain": [
       "[1] 123456789"
      ]
     },
     "metadata": {},
     "output_type": "display_data"
    }
   ],
   "source": [
    "parse_number(\"$123,456,789\")\n",
    "parse_number(\"123.456.789\", locale = locale(grouping_mark = \".\"))\n",
    "parse_number(\"123'456'789\", locale = locale(grouping_mark = \"'\"))"
   ]
  },
  {
   "cell_type": "raw",
   "metadata": {},
   "source": [
    "11.3.2 Strings"
   ]
  },
  {
   "cell_type": "raw",
   "metadata": {},
   "source": [
    "NN\n",
    "charToRaw()\n",
    "\n",
    "It seems like parse_character() should be really simple — it could just return its input. Unfortunately life isn’t so simple, as there are multiple ways to represent the same string. To understand what’s going on, we need to dive into the details of how computers represent strings. In R, we can get at the underlying representation of a string using charToRaw():"
   ]
  },
  {
   "cell_type": "code",
   "execution_count": 21,
   "metadata": {},
   "outputs": [
    {
     "data": {
      "text/plain": [
       "[1] 48 61 64 6c 65 79"
      ]
     },
     "metadata": {},
     "output_type": "display_data"
    }
   ],
   "source": [
    "charToRaw(\"Hadley\")"
   ]
  },
  {
   "cell_type": "raw",
   "metadata": {},
   "source": [
    "hexadecimal\n",
    "UTF-8\n",
    "\n",
    "Each hexadecimal number represents a byte of information: 48 is H, 61 is a, and so on. The mapping from hexadecimal number to character is called the encoding, and in this case the encoding is called ASCII. ASCII does a great job of representing English characters, because it’s the American Standard Code for Information Interchange.\n",
    "\n",
    "Things get more complicated for languages other than English. In the early days of computing there were many competing standards for encoding non-English characters, and to correctly interpret a string you needed to know both the values and the encoding. For example, two common encodings are Latin1 (aka ISO-8859-1, used for Western European languages) and Latin2 (aka ISO-8859-2, used for Eastern European languages). In Latin1, the byte b1 is “±”, but in Latin2, it’s “ą”! Fortunately, today there is one standard that is supported almost everywhere: UTF-8. UTF-8 can encode just about every character used by humans today, as well as many extra symbols (like emoji!).\n",
    "\n",
    "readr uses UTF-8 everywhere: it assumes your data is UTF-8 encoded when you read it, and always uses it when writing. This is a good default, but will fail for data produced by older systems that don’t understand UTF-8. If this happens to you, your strings will look weird when you print them. Sometimes just one or two characters might be messed up; other times you’ll get complete gibberish. For example:"
   ]
  },
  {
   "cell_type": "code",
   "execution_count": 22,
   "metadata": {},
   "outputs": [
    {
     "data": {
      "text/html": [
       "'El Ni\\xf1o was particularly bad this year'"
      ],
      "text/latex": [
       "'El Ni\\textbackslash{}xf1o was particularly bad this year'"
      ],
      "text/markdown": [
       "'El Ni\\xf1o was particularly bad this year'"
      ],
      "text/plain": [
       "[1] \"El Ni\\xf1o was particularly bad this year\""
      ]
     },
     "metadata": {},
     "output_type": "display_data"
    },
    {
     "data": {
      "text/html": [
       "'\\x82\\xb1\\x82\\xf1\\x82\\u0242\\xbf\\x82\\xcd'"
      ],
      "text/latex": [
       "'\\textbackslash{}x82\\textbackslash{}xb1\\textbackslash{}x82\\textbackslash{}xf1\\textbackslash{}x82\\textbackslash{}u0242\\textbackslash{}xbf\\textbackslash{}x82\\textbackslash{}xcd'"
      ],
      "text/markdown": [
       "'\\x82\\xb1\\x82\\xf1\\x82\\u0242\\xbf\\x82\\xcd'"
      ],
      "text/plain": [
       "[1] \"\\x82\\xb1\\x82\\xf1\\x82\\u0242\\xbf\\x82\\xcd\""
      ]
     },
     "metadata": {},
     "output_type": "display_data"
    }
   ],
   "source": [
    "x1 <- \"El Ni\\xf1o was particularly bad this year\"\n",
    "x2 <- \"\\x82\\xb1\\x82\\xf1\\x82\\xc9\\x82\\xbf\\x82\\xcd\"\n",
    "x1\n",
    "x2"
   ]
  },
  {
   "cell_type": "raw",
   "metadata": {},
   "source": [
    "To fix the problem you need to specify the encoding in parse_character():"
   ]
  },
  {
   "cell_type": "code",
   "execution_count": 23,
   "metadata": {},
   "outputs": [
    {
     "data": {
      "text/html": [
       "'El Niño was particularly bad this year'"
      ],
      "text/latex": [
       "'El Niño was particularly bad this year'"
      ],
      "text/markdown": [
       "'El Niño was particularly bad this year'"
      ],
      "text/plain": [
       "[1] \"El Niño was particularly bad this year\""
      ]
     },
     "metadata": {},
     "output_type": "display_data"
    },
    {
     "data": {
      "text/html": [
       "'こんにちは'"
      ],
      "text/latex": [
       "'こんにちは'"
      ],
      "text/markdown": [
       "'こんにちは'"
      ],
      "text/plain": [
       "[1] \"こんにちは\""
      ]
     },
     "metadata": {},
     "output_type": "display_data"
    }
   ],
   "source": [
    "parse_character(x1, locale = locale(encoding = \"Latin1\"))\n",
    "parse_character(x2, locale = locale(encoding = \"Shift-JIS\"))"
   ]
  },
  {
   "cell_type": "raw",
   "metadata": {},
   "source": [
    "NN\n",
    "guess_encoding()\n",
    "\n",
    "How do you find the correct encoding? If you’re lucky, it’ll be included somewhere in the data documentation. Unfortunately, that’s rarely the case, so readr provides guess_encoding() to help you figure it out. It’s not foolproof, and it works better when you have lots of text (unlike here), but it’s a reasonable place to start. Expect to try a few different encodings before you find the right one."
   ]
  },
  {
   "cell_type": "code",
   "execution_count": 24,
   "metadata": {},
   "outputs": [
    {
     "data": {
      "text/html": [
       "<table>\n",
       "<thead><tr><th scope=col>encoding</th><th scope=col>confidence</th></tr></thead>\n",
       "<tbody>\n",
       "\t<tr><td>ISO-8859-1</td><td>0.46      </td></tr>\n",
       "\t<tr><td>ISO-8859-9</td><td>0.23      </td></tr>\n",
       "</tbody>\n",
       "</table>\n"
      ],
      "text/latex": [
       "\\begin{tabular}{r|ll}\n",
       " encoding & confidence\\\\\n",
       "\\hline\n",
       "\t ISO-8859-1 & 0.46      \\\\\n",
       "\t ISO-8859-9 & 0.23      \\\\\n",
       "\\end{tabular}\n"
      ],
      "text/markdown": [
       "\n",
       "| encoding | confidence |\n",
       "|---|---|\n",
       "| ISO-8859-1 | 0.46       |\n",
       "| ISO-8859-9 | 0.23       |\n",
       "\n"
      ],
      "text/plain": [
       "  encoding   confidence\n",
       "1 ISO-8859-1 0.46      \n",
       "2 ISO-8859-9 0.23      "
      ]
     },
     "metadata": {},
     "output_type": "display_data"
    },
    {
     "data": {
      "text/html": [
       "<table>\n",
       "<thead><tr><th scope=col>encoding</th><th scope=col>confidence</th></tr></thead>\n",
       "<tbody>\n",
       "\t<tr><td>KOI8-R</td><td>0.42  </td></tr>\n",
       "</tbody>\n",
       "</table>\n"
      ],
      "text/latex": [
       "\\begin{tabular}{r|ll}\n",
       " encoding & confidence\\\\\n",
       "\\hline\n",
       "\t KOI8-R & 0.42  \\\\\n",
       "\\end{tabular}\n"
      ],
      "text/markdown": [
       "\n",
       "| encoding | confidence |\n",
       "|---|---|\n",
       "| KOI8-R | 0.42   |\n",
       "\n"
      ],
      "text/plain": [
       "  encoding confidence\n",
       "1 KOI8-R   0.42      "
      ]
     },
     "metadata": {},
     "output_type": "display_data"
    }
   ],
   "source": [
    "guess_encoding(charToRaw(x1))\n",
    "guess_encoding(charToRaw(x2))"
   ]
  },
  {
   "cell_type": "code",
   "execution_count": 26,
   "metadata": {},
   "outputs": [
    {
     "data": {
      "text/html": [
       "'El Niño was particularly bad this year'"
      ],
      "text/latex": [
       "'El Niño was particularly bad this year'"
      ],
      "text/markdown": [
       "'El Niño was particularly bad this year'"
      ],
      "text/plain": [
       "[1] \"El Niño was particularly bad this year\""
      ]
     },
     "metadata": {},
     "output_type": "display_data"
    },
    {
     "data": {
      "text/html": [
       "'┌╠┌Я┌и┌©┌м'"
      ],
      "text/latex": [
       "'┌╠┌Я┌и┌©┌м'"
      ],
      "text/markdown": [
       "'┌╠┌Я┌и┌©┌м'"
      ],
      "text/plain": [
       "[1] \"┌╠┌Я┌и┌©┌м\""
      ]
     },
     "metadata": {},
     "output_type": "display_data"
    }
   ],
   "source": [
    "parse_character(x1, locale = locale(encoding = \"ISO-8859-1\"))\n",
    "parse_character(x2, locale = locale(encoding = \"KOI8-R\"))"
   ]
  },
  {
   "cell_type": "markdown",
   "metadata": {},
   "source": [
    "The first argument to guess_encoding() can either be a path to a file, or, as in this case, a raw vector (useful if the strings are already in R).\n",
    "\n",
    "Encodings are a rich and complex topic, and I’ve only scratched the surface here. If you’d like to learn more I’d recommend reading the detailed explanation at http://kunststube.net/encoding/."
   ]
  },
  {
   "cell_type": "raw",
   "metadata": {},
   "source": [
    "11.3.3 Factors"
   ]
  },
  {
   "cell_type": "raw",
   "metadata": {},
   "source": [
    "R uses factors to represent categorical variables that have a known set of possible values. Give parse_factor() a vector of known levels to generate a warning whenever an unexpected value is present:"
   ]
  },
  {
   "cell_type": "code",
   "execution_count": 28,
   "metadata": {},
   "outputs": [
    {
     "name": "stderr",
     "output_type": "stream",
     "text": [
      "Warning message:\n",
      "“1 parsing failure.\n",
      "row col           expected   actual\n",
      "  3  -- value in level set bananana\n",
      "”"
     ]
    },
    {
     "data": {
      "text/html": [
       "<ol class=list-inline>\n",
       "\t<li>apple</li>\n",
       "\t<li>banana</li>\n",
       "\t<li>&lt;NA&gt;</li>\n",
       "</ol>\n",
       "\n",
       "<details>\n",
       "\t<summary style=display:list-item;cursor:pointer>\n",
       "\t\t<strong>Levels</strong>:\n",
       "\t</summary>\n",
       "\t<ol class=list-inline>\n",
       "\t\t<li>'apple'</li>\n",
       "\t\t<li>'banana'</li>\n",
       "\t</ol>\n",
       "</details>"
      ],
      "text/latex": [
       "\\begin{enumerate*}\n",
       "\\item apple\n",
       "\\item banana\n",
       "\\item <NA>\n",
       "\\end{enumerate*}\n",
       "\n",
       "\\emph{Levels}: \\begin{enumerate*}\n",
       "\\item 'apple'\n",
       "\\item 'banana'\n",
       "\\end{enumerate*}\n"
      ],
      "text/markdown": [
       "1. apple\n",
       "2. banana\n",
       "3. &lt;NA&gt;\n",
       "\n",
       "\n",
       "\n",
       "**Levels**: 1. 'apple'\n",
       "2. 'banana'\n",
       "\n",
       "\n"
      ],
      "text/plain": [
       "[1] apple  banana <NA>  \n",
       "attr(,\"problems\")\n",
       "# A tibble: 1 x 4\n",
       "    row   col expected           actual  \n",
       "  <int> <int> <chr>              <chr>   \n",
       "1     3    NA value in level set bananana\n",
       "Levels: apple banana"
      ]
     },
     "metadata": {},
     "output_type": "display_data"
    }
   ],
   "source": [
    "fruit <- c(\"apple\", \"banana\")\n",
    "parse_factor(c(\"apple\", \"banana\", \"bananana\"), levels = fruit)"
   ]
  },
  {
   "cell_type": "raw",
   "metadata": {},
   "source": [
    "But if you have many problematic entries, it’s often easier to leave as character vectors and then use the tools you’ll learn about in strings and factors to clean them up."
   ]
  },
  {
   "cell_type": "raw",
   "metadata": {},
   "source": [
    "11.3.4 Dates, date-times, and times"
   ]
  },
  {
   "cell_type": "markdown",
   "metadata": {},
   "source": [
    "You pick between three parsers depending on whether you want a date (the number of days since 1970-01-01), a date-time (the number of seconds since midnight 1970-01-01), or a time (the number of seconds since midnight). When called without any additional arguments:\n",
    "\n",
    "parse_datetime() \n",
    "expects an ISO8601 date-time. ISO8601 is an international standard in which the components of a date are organised from biggest to smallest: year, month, day, hour, minute, second.  This is the most important date/time standard, and if you work with dates and times frequently, I recommend reading https:\n",
    "    \n",
    "    \n",
    "    //en.wikipedia.org/wiki/ISO_8601"
   ]
  },
  {
   "cell_type": "code",
   "execution_count": 29,
   "metadata": {},
   "outputs": [
    {
     "data": {
      "text/plain": [
       "[1] \"2010-10-01 20:10:00 UTC\""
      ]
     },
     "metadata": {},
     "output_type": "display_data"
    },
    {
     "data": {
      "text/plain": [
       "[1] \"2010-10-10 UTC\""
      ]
     },
     "metadata": {},
     "output_type": "display_data"
    }
   ],
   "source": [
    "parse_datetime(\"2010-10-01T2010\")\n",
    "parse_datetime(\"20101010\")"
   ]
  },
  {
   "cell_type": "raw",
   "metadata": {},
   "source": [
    "parse_date() \n",
    "expects a four digit year, a - or /, the month, a - or /, then the day:"
   ]
  },
  {
   "cell_type": "code",
   "execution_count": 30,
   "metadata": {},
   "outputs": [
    {
     "data": {
      "text/html": [
       "<time datetime=\"2010-10-01\">2010-10-01</time>"
      ],
      "text/latex": [
       "2010-10-01"
      ],
      "text/markdown": [
       "2010-10-01"
      ],
      "text/plain": [
       "[1] \"2010-10-01\""
      ]
     },
     "metadata": {},
     "output_type": "display_data"
    }
   ],
   "source": [
    "parse_date(\"2010-10-01\")"
   ]
  },
  {
   "cell_type": "raw",
   "metadata": {},
   "source": [
    "parse_time() expects the hour, :, minutes, optionally : and seconds, and an optional am/pm specifier:"
   ]
  },
  {
   "cell_type": "code",
   "execution_count": 31,
   "metadata": {},
   "outputs": [
    {
     "data": {
      "text/plain": [
       "01:10:00"
      ]
     },
     "metadata": {},
     "output_type": "display_data"
    },
    {
     "data": {
      "text/plain": [
       "20:10:01"
      ]
     },
     "metadata": {},
     "output_type": "display_data"
    }
   ],
   "source": [
    "library(hms)\n",
    "parse_time(\"01:10 am\")\n",
    "parse_time(\"20:10:01\")"
   ]
  },
  {
   "cell_type": "raw",
   "metadata": {},
   "source": [
    "Base R doesn’t have a great built in class for time data, so we use the one provided in the hms package."
   ]
  },
  {
   "cell_type": "raw",
   "metadata": {},
   "source": [
    "If these defaults don’t work for your data you can supply your own date-time format, built up of the following pieces:\n",
    "\n",
    "Year\n",
    "    %Y (4 digits).\n",
    "    %y (2 digits); 00-69 -> 2000-2069, 70-99 -> 1970-1999.\n",
    "    \n",
    "Month\n",
    "    %m (2 digits).\n",
    "    %b (abbreviated name, like “Jan”).\n",
    "    %B (full name, “January”).\n",
    "\n",
    "Day\n",
    "    %d (2 digits).\n",
    "    %e (optional leading space).\n",
    "\n",
    "Time\n",
    "    %H 0-23 hour.\n",
    "    %I 0-12, must be used with %p.\n",
    "    %p AM/PM indicator.\n",
    "    %M minutes.\n",
    "    %S integer seconds.\n",
    "    %OS real seconds.\n",
    "    %Z Time zone (as name, e.g. America/Chicago). \n",
    "        Beware of abbreviations: \n",
    "        if you’re American, note that “EST” is a Canadian time zone \n",
    "        that does not have daylight savings time. \n",
    "        It is not Eastern Standard Time! \n",
    "        We’ll come back to this time zones.\n",
    "    %z (as offset from UTC, e.g. +0800).\n",
    "\n",
    "Non-digits\n",
    "    %. skips one non-digit character.\n",
    "    %* skips any number of non-digits.\n",
    "\n",
    "The best way to figure out the correct format is to create a few examples in a character vector, and test with one of the parsing functions. \n",
    "\n",
    "For example:"
   ]
  },
  {
   "cell_type": "code",
   "execution_count": 32,
   "metadata": {},
   "outputs": [
    {
     "data": {
      "text/html": [
       "<time datetime=\"2015-01-02\">2015-01-02</time>"
      ],
      "text/latex": [
       "2015-01-02"
      ],
      "text/markdown": [
       "2015-01-02"
      ],
      "text/plain": [
       "[1] \"2015-01-02\""
      ]
     },
     "metadata": {},
     "output_type": "display_data"
    },
    {
     "data": {
      "text/html": [
       "<time datetime=\"2015-02-01\">2015-02-01</time>"
      ],
      "text/latex": [
       "2015-02-01"
      ],
      "text/markdown": [
       "2015-02-01"
      ],
      "text/plain": [
       "[1] \"2015-02-01\""
      ]
     },
     "metadata": {},
     "output_type": "display_data"
    },
    {
     "data": {
      "text/html": [
       "<time datetime=\"2001-02-15\">2001-02-15</time>"
      ],
      "text/latex": [
       "2001-02-15"
      ],
      "text/markdown": [
       "2001-02-15"
      ],
      "text/plain": [
       "[1] \"2001-02-15\""
      ]
     },
     "metadata": {},
     "output_type": "display_data"
    }
   ],
   "source": [
    "parse_date(\"01/02/15\", \"%m/%d/%y\")\n",
    "parse_date(\"01/02/15\", \"%d/%m/%y\")\n",
    "parse_date(\"01/02/15\", \"%y/%m/%d\")"
   ]
  },
  {
   "cell_type": "raw",
   "metadata": {},
   "source": [
    "If you’re using %b or %B with non-English month names, you’ll need to set the lang argument to locale(). See the list of built-in languages in date_names_langs(), or if your language is not already included, create your own with date_names()."
   ]
  },
  {
   "cell_type": "code",
   "execution_count": 49,
   "metadata": {},
   "outputs": [
    {
     "data": {
      "text/html": [
       "<ol class=list-inline>\n",
       "\t<li>'af'</li>\n",
       "\t<li>'agq'</li>\n",
       "\t<li>'ak'</li>\n",
       "\t<li>'am'</li>\n",
       "\t<li>'ar'</li>\n",
       "\t<li>'as'</li>\n",
       "\t<li>'asa'</li>\n",
       "\t<li>'az'</li>\n",
       "\t<li>'bas'</li>\n",
       "\t<li>'be'</li>\n",
       "\t<li>'bem'</li>\n",
       "\t<li>'bez'</li>\n",
       "\t<li>'bg'</li>\n",
       "\t<li>'bm'</li>\n",
       "\t<li>'bn'</li>\n",
       "\t<li>'bo'</li>\n",
       "\t<li>'br'</li>\n",
       "\t<li>'brx'</li>\n",
       "\t<li>'bs'</li>\n",
       "\t<li>'ca'</li>\n",
       "\t<li>'cgg'</li>\n",
       "\t<li>'chr'</li>\n",
       "\t<li>'cs'</li>\n",
       "\t<li>'cy'</li>\n",
       "\t<li>'da'</li>\n",
       "\t<li>'dav'</li>\n",
       "\t<li>'de'</li>\n",
       "\t<li>'dje'</li>\n",
       "\t<li>'dsb'</li>\n",
       "\t<li>'dua'</li>\n",
       "\t<li>'dyo'</li>\n",
       "\t<li>'dz'</li>\n",
       "\t<li>'ebu'</li>\n",
       "\t<li>'ee'</li>\n",
       "\t<li>'el'</li>\n",
       "\t<li>'en'</li>\n",
       "\t<li>'eo'</li>\n",
       "\t<li>'es'</li>\n",
       "\t<li>'et'</li>\n",
       "\t<li>'eu'</li>\n",
       "\t<li>'ewo'</li>\n",
       "\t<li>'fa'</li>\n",
       "\t<li>'ff'</li>\n",
       "\t<li>'fi'</li>\n",
       "\t<li>'fil'</li>\n",
       "\t<li>'fo'</li>\n",
       "\t<li>'fr'</li>\n",
       "\t<li>'fur'</li>\n",
       "\t<li>'fy'</li>\n",
       "\t<li>'ga'</li>\n",
       "\t<li>'gd'</li>\n",
       "\t<li>'gl'</li>\n",
       "\t<li>'gsw'</li>\n",
       "\t<li>'gu'</li>\n",
       "\t<li>'guz'</li>\n",
       "\t<li>'gv'</li>\n",
       "\t<li>'ha'</li>\n",
       "\t<li>'haw'</li>\n",
       "\t<li>'he'</li>\n",
       "\t<li>'hi'</li>\n",
       "\t<li>'hr'</li>\n",
       "\t<li>'hsb'</li>\n",
       "\t<li>'hu'</li>\n",
       "\t<li>'hy'</li>\n",
       "\t<li>'id'</li>\n",
       "\t<li>'ig'</li>\n",
       "\t<li>'ii'</li>\n",
       "\t<li>'is'</li>\n",
       "\t<li>'it'</li>\n",
       "\t<li>'ja'</li>\n",
       "\t<li>'jgo'</li>\n",
       "\t<li>'jmc'</li>\n",
       "\t<li>'ka'</li>\n",
       "\t<li>'kab'</li>\n",
       "\t<li>'kam'</li>\n",
       "\t<li>'kde'</li>\n",
       "\t<li>'kea'</li>\n",
       "\t<li>'khq'</li>\n",
       "\t<li>'ki'</li>\n",
       "\t<li>'kk'</li>\n",
       "\t<li>'kkj'</li>\n",
       "\t<li>'kl'</li>\n",
       "\t<li>'kln'</li>\n",
       "\t<li>'km'</li>\n",
       "\t<li>'kn'</li>\n",
       "\t<li>'ko'</li>\n",
       "\t<li>'kok'</li>\n",
       "\t<li>'ks'</li>\n",
       "\t<li>'ksb'</li>\n",
       "\t<li>'ksf'</li>\n",
       "\t<li>'ksh'</li>\n",
       "\t<li>'kw'</li>\n",
       "\t<li>'ky'</li>\n",
       "\t<li>'lag'</li>\n",
       "\t<li>'lb'</li>\n",
       "\t<li>'lg'</li>\n",
       "\t<li>'lkt'</li>\n",
       "\t<li>'ln'</li>\n",
       "\t<li>'lo'</li>\n",
       "\t<li>'lt'</li>\n",
       "\t<li>'lu'</li>\n",
       "\t<li>'luo'</li>\n",
       "\t<li>'luy'</li>\n",
       "\t<li>'lv'</li>\n",
       "\t<li>'mas'</li>\n",
       "\t<li>'mer'</li>\n",
       "\t<li>'mfe'</li>\n",
       "\t<li>'mg'</li>\n",
       "\t<li>'mgh'</li>\n",
       "\t<li>'mgo'</li>\n",
       "\t<li>'mk'</li>\n",
       "\t<li>'ml'</li>\n",
       "\t<li>'mn'</li>\n",
       "\t<li>'mr'</li>\n",
       "\t<li>'ms'</li>\n",
       "\t<li>'mt'</li>\n",
       "\t<li>'mua'</li>\n",
       "\t<li>'my'</li>\n",
       "\t<li>'naq'</li>\n",
       "\t<li>'nb'</li>\n",
       "\t<li>'nd'</li>\n",
       "\t<li>'ne'</li>\n",
       "\t<li>'nl'</li>\n",
       "\t<li>'nmg'</li>\n",
       "\t<li>'nn'</li>\n",
       "\t<li>'nnh'</li>\n",
       "\t<li>'nus'</li>\n",
       "\t<li>'nyn'</li>\n",
       "\t<li>'om'</li>\n",
       "\t<li>'or'</li>\n",
       "\t<li>'os'</li>\n",
       "\t<li>'pa'</li>\n",
       "\t<li>'pl'</li>\n",
       "\t<li>'ps'</li>\n",
       "\t<li>'pt'</li>\n",
       "\t<li>'qu'</li>\n",
       "\t<li>'rm'</li>\n",
       "\t<li>'rn'</li>\n",
       "\t<li>'ro'</li>\n",
       "\t<li>'rof'</li>\n",
       "\t<li>'ru'</li>\n",
       "\t<li>'rw'</li>\n",
       "\t<li>'rwk'</li>\n",
       "\t<li>'sah'</li>\n",
       "\t<li>'saq'</li>\n",
       "\t<li>'sbp'</li>\n",
       "\t<li>'se'</li>\n",
       "\t<li>'seh'</li>\n",
       "\t<li>'ses'</li>\n",
       "\t<li>'sg'</li>\n",
       "\t<li>'shi'</li>\n",
       "\t<li>'si'</li>\n",
       "\t<li>'sk'</li>\n",
       "\t<li>'sl'</li>\n",
       "\t<li>'smn'</li>\n",
       "\t<li>'sn'</li>\n",
       "\t<li>'so'</li>\n",
       "\t<li>'sq'</li>\n",
       "\t<li>'sr'</li>\n",
       "\t<li>'sv'</li>\n",
       "\t<li>'sw'</li>\n",
       "\t<li>'ta'</li>\n",
       "\t<li>'te'</li>\n",
       "\t<li>'teo'</li>\n",
       "\t<li>'th'</li>\n",
       "\t<li>'ti'</li>\n",
       "\t<li>'to'</li>\n",
       "\t<li>'tr'</li>\n",
       "\t<li>'twq'</li>\n",
       "\t<li>'tzm'</li>\n",
       "\t<li>'ug'</li>\n",
       "\t<li>'uk'</li>\n",
       "\t<li>'ur'</li>\n",
       "\t<li>'uz'</li>\n",
       "\t<li>'vai'</li>\n",
       "\t<li>'vi'</li>\n",
       "\t<li>'vun'</li>\n",
       "\t<li>'wae'</li>\n",
       "\t<li>'xog'</li>\n",
       "\t<li>'yav'</li>\n",
       "\t<li>'yi'</li>\n",
       "\t<li>'yo'</li>\n",
       "\t<li>'zgh'</li>\n",
       "\t<li>'zh'</li>\n",
       "\t<li>'zu'</li>\n",
       "</ol>\n"
      ],
      "text/latex": [
       "\\begin{enumerate*}\n",
       "\\item 'af'\n",
       "\\item 'agq'\n",
       "\\item 'ak'\n",
       "\\item 'am'\n",
       "\\item 'ar'\n",
       "\\item 'as'\n",
       "\\item 'asa'\n",
       "\\item 'az'\n",
       "\\item 'bas'\n",
       "\\item 'be'\n",
       "\\item 'bem'\n",
       "\\item 'bez'\n",
       "\\item 'bg'\n",
       "\\item 'bm'\n",
       "\\item 'bn'\n",
       "\\item 'bo'\n",
       "\\item 'br'\n",
       "\\item 'brx'\n",
       "\\item 'bs'\n",
       "\\item 'ca'\n",
       "\\item 'cgg'\n",
       "\\item 'chr'\n",
       "\\item 'cs'\n",
       "\\item 'cy'\n",
       "\\item 'da'\n",
       "\\item 'dav'\n",
       "\\item 'de'\n",
       "\\item 'dje'\n",
       "\\item 'dsb'\n",
       "\\item 'dua'\n",
       "\\item 'dyo'\n",
       "\\item 'dz'\n",
       "\\item 'ebu'\n",
       "\\item 'ee'\n",
       "\\item 'el'\n",
       "\\item 'en'\n",
       "\\item 'eo'\n",
       "\\item 'es'\n",
       "\\item 'et'\n",
       "\\item 'eu'\n",
       "\\item 'ewo'\n",
       "\\item 'fa'\n",
       "\\item 'ff'\n",
       "\\item 'fi'\n",
       "\\item 'fil'\n",
       "\\item 'fo'\n",
       "\\item 'fr'\n",
       "\\item 'fur'\n",
       "\\item 'fy'\n",
       "\\item 'ga'\n",
       "\\item 'gd'\n",
       "\\item 'gl'\n",
       "\\item 'gsw'\n",
       "\\item 'gu'\n",
       "\\item 'guz'\n",
       "\\item 'gv'\n",
       "\\item 'ha'\n",
       "\\item 'haw'\n",
       "\\item 'he'\n",
       "\\item 'hi'\n",
       "\\item 'hr'\n",
       "\\item 'hsb'\n",
       "\\item 'hu'\n",
       "\\item 'hy'\n",
       "\\item 'id'\n",
       "\\item 'ig'\n",
       "\\item 'ii'\n",
       "\\item 'is'\n",
       "\\item 'it'\n",
       "\\item 'ja'\n",
       "\\item 'jgo'\n",
       "\\item 'jmc'\n",
       "\\item 'ka'\n",
       "\\item 'kab'\n",
       "\\item 'kam'\n",
       "\\item 'kde'\n",
       "\\item 'kea'\n",
       "\\item 'khq'\n",
       "\\item 'ki'\n",
       "\\item 'kk'\n",
       "\\item 'kkj'\n",
       "\\item 'kl'\n",
       "\\item 'kln'\n",
       "\\item 'km'\n",
       "\\item 'kn'\n",
       "\\item 'ko'\n",
       "\\item 'kok'\n",
       "\\item 'ks'\n",
       "\\item 'ksb'\n",
       "\\item 'ksf'\n",
       "\\item 'ksh'\n",
       "\\item 'kw'\n",
       "\\item 'ky'\n",
       "\\item 'lag'\n",
       "\\item 'lb'\n",
       "\\item 'lg'\n",
       "\\item 'lkt'\n",
       "\\item 'ln'\n",
       "\\item 'lo'\n",
       "\\item 'lt'\n",
       "\\item 'lu'\n",
       "\\item 'luo'\n",
       "\\item 'luy'\n",
       "\\item 'lv'\n",
       "\\item 'mas'\n",
       "\\item 'mer'\n",
       "\\item 'mfe'\n",
       "\\item 'mg'\n",
       "\\item 'mgh'\n",
       "\\item 'mgo'\n",
       "\\item 'mk'\n",
       "\\item 'ml'\n",
       "\\item 'mn'\n",
       "\\item 'mr'\n",
       "\\item 'ms'\n",
       "\\item 'mt'\n",
       "\\item 'mua'\n",
       "\\item 'my'\n",
       "\\item 'naq'\n",
       "\\item 'nb'\n",
       "\\item 'nd'\n",
       "\\item 'ne'\n",
       "\\item 'nl'\n",
       "\\item 'nmg'\n",
       "\\item 'nn'\n",
       "\\item 'nnh'\n",
       "\\item 'nus'\n",
       "\\item 'nyn'\n",
       "\\item 'om'\n",
       "\\item 'or'\n",
       "\\item 'os'\n",
       "\\item 'pa'\n",
       "\\item 'pl'\n",
       "\\item 'ps'\n",
       "\\item 'pt'\n",
       "\\item 'qu'\n",
       "\\item 'rm'\n",
       "\\item 'rn'\n",
       "\\item 'ro'\n",
       "\\item 'rof'\n",
       "\\item 'ru'\n",
       "\\item 'rw'\n",
       "\\item 'rwk'\n",
       "\\item 'sah'\n",
       "\\item 'saq'\n",
       "\\item 'sbp'\n",
       "\\item 'se'\n",
       "\\item 'seh'\n",
       "\\item 'ses'\n",
       "\\item 'sg'\n",
       "\\item 'shi'\n",
       "\\item 'si'\n",
       "\\item 'sk'\n",
       "\\item 'sl'\n",
       "\\item 'smn'\n",
       "\\item 'sn'\n",
       "\\item 'so'\n",
       "\\item 'sq'\n",
       "\\item 'sr'\n",
       "\\item 'sv'\n",
       "\\item 'sw'\n",
       "\\item 'ta'\n",
       "\\item 'te'\n",
       "\\item 'teo'\n",
       "\\item 'th'\n",
       "\\item 'ti'\n",
       "\\item 'to'\n",
       "\\item 'tr'\n",
       "\\item 'twq'\n",
       "\\item 'tzm'\n",
       "\\item 'ug'\n",
       "\\item 'uk'\n",
       "\\item 'ur'\n",
       "\\item 'uz'\n",
       "\\item 'vai'\n",
       "\\item 'vi'\n",
       "\\item 'vun'\n",
       "\\item 'wae'\n",
       "\\item 'xog'\n",
       "\\item 'yav'\n",
       "\\item 'yi'\n",
       "\\item 'yo'\n",
       "\\item 'zgh'\n",
       "\\item 'zh'\n",
       "\\item 'zu'\n",
       "\\end{enumerate*}\n"
      ],
      "text/markdown": [
       "1. 'af'\n",
       "2. 'agq'\n",
       "3. 'ak'\n",
       "4. 'am'\n",
       "5. 'ar'\n",
       "6. 'as'\n",
       "7. 'asa'\n",
       "8. 'az'\n",
       "9. 'bas'\n",
       "10. 'be'\n",
       "11. 'bem'\n",
       "12. 'bez'\n",
       "13. 'bg'\n",
       "14. 'bm'\n",
       "15. 'bn'\n",
       "16. 'bo'\n",
       "17. 'br'\n",
       "18. 'brx'\n",
       "19. 'bs'\n",
       "20. 'ca'\n",
       "21. 'cgg'\n",
       "22. 'chr'\n",
       "23. 'cs'\n",
       "24. 'cy'\n",
       "25. 'da'\n",
       "26. 'dav'\n",
       "27. 'de'\n",
       "28. 'dje'\n",
       "29. 'dsb'\n",
       "30. 'dua'\n",
       "31. 'dyo'\n",
       "32. 'dz'\n",
       "33. 'ebu'\n",
       "34. 'ee'\n",
       "35. 'el'\n",
       "36. 'en'\n",
       "37. 'eo'\n",
       "38. 'es'\n",
       "39. 'et'\n",
       "40. 'eu'\n",
       "41. 'ewo'\n",
       "42. 'fa'\n",
       "43. 'ff'\n",
       "44. 'fi'\n",
       "45. 'fil'\n",
       "46. 'fo'\n",
       "47. 'fr'\n",
       "48. 'fur'\n",
       "49. 'fy'\n",
       "50. 'ga'\n",
       "51. 'gd'\n",
       "52. 'gl'\n",
       "53. 'gsw'\n",
       "54. 'gu'\n",
       "55. 'guz'\n",
       "56. 'gv'\n",
       "57. 'ha'\n",
       "58. 'haw'\n",
       "59. 'he'\n",
       "60. 'hi'\n",
       "61. 'hr'\n",
       "62. 'hsb'\n",
       "63. 'hu'\n",
       "64. 'hy'\n",
       "65. 'id'\n",
       "66. 'ig'\n",
       "67. 'ii'\n",
       "68. 'is'\n",
       "69. 'it'\n",
       "70. 'ja'\n",
       "71. 'jgo'\n",
       "72. 'jmc'\n",
       "73. 'ka'\n",
       "74. 'kab'\n",
       "75. 'kam'\n",
       "76. 'kde'\n",
       "77. 'kea'\n",
       "78. 'khq'\n",
       "79. 'ki'\n",
       "80. 'kk'\n",
       "81. 'kkj'\n",
       "82. 'kl'\n",
       "83. 'kln'\n",
       "84. 'km'\n",
       "85. 'kn'\n",
       "86. 'ko'\n",
       "87. 'kok'\n",
       "88. 'ks'\n",
       "89. 'ksb'\n",
       "90. 'ksf'\n",
       "91. 'ksh'\n",
       "92. 'kw'\n",
       "93. 'ky'\n",
       "94. 'lag'\n",
       "95. 'lb'\n",
       "96. 'lg'\n",
       "97. 'lkt'\n",
       "98. 'ln'\n",
       "99. 'lo'\n",
       "100. 'lt'\n",
       "101. 'lu'\n",
       "102. 'luo'\n",
       "103. 'luy'\n",
       "104. 'lv'\n",
       "105. 'mas'\n",
       "106. 'mer'\n",
       "107. 'mfe'\n",
       "108. 'mg'\n",
       "109. 'mgh'\n",
       "110. 'mgo'\n",
       "111. 'mk'\n",
       "112. 'ml'\n",
       "113. 'mn'\n",
       "114. 'mr'\n",
       "115. 'ms'\n",
       "116. 'mt'\n",
       "117. 'mua'\n",
       "118. 'my'\n",
       "119. 'naq'\n",
       "120. 'nb'\n",
       "121. 'nd'\n",
       "122. 'ne'\n",
       "123. 'nl'\n",
       "124. 'nmg'\n",
       "125. 'nn'\n",
       "126. 'nnh'\n",
       "127. 'nus'\n",
       "128. 'nyn'\n",
       "129. 'om'\n",
       "130. 'or'\n",
       "131. 'os'\n",
       "132. 'pa'\n",
       "133. 'pl'\n",
       "134. 'ps'\n",
       "135. 'pt'\n",
       "136. 'qu'\n",
       "137. 'rm'\n",
       "138. 'rn'\n",
       "139. 'ro'\n",
       "140. 'rof'\n",
       "141. 'ru'\n",
       "142. 'rw'\n",
       "143. 'rwk'\n",
       "144. 'sah'\n",
       "145. 'saq'\n",
       "146. 'sbp'\n",
       "147. 'se'\n",
       "148. 'seh'\n",
       "149. 'ses'\n",
       "150. 'sg'\n",
       "151. 'shi'\n",
       "152. 'si'\n",
       "153. 'sk'\n",
       "154. 'sl'\n",
       "155. 'smn'\n",
       "156. 'sn'\n",
       "157. 'so'\n",
       "158. 'sq'\n",
       "159. 'sr'\n",
       "160. 'sv'\n",
       "161. 'sw'\n",
       "162. 'ta'\n",
       "163. 'te'\n",
       "164. 'teo'\n",
       "165. 'th'\n",
       "166. 'ti'\n",
       "167. 'to'\n",
       "168. 'tr'\n",
       "169. 'twq'\n",
       "170. 'tzm'\n",
       "171. 'ug'\n",
       "172. 'uk'\n",
       "173. 'ur'\n",
       "174. 'uz'\n",
       "175. 'vai'\n",
       "176. 'vi'\n",
       "177. 'vun'\n",
       "178. 'wae'\n",
       "179. 'xog'\n",
       "180. 'yav'\n",
       "181. 'yi'\n",
       "182. 'yo'\n",
       "183. 'zgh'\n",
       "184. 'zh'\n",
       "185. 'zu'\n",
       "\n",
       "\n"
      ],
      "text/plain": [
       "  [1] \"af\"  \"agq\" \"ak\"  \"am\"  \"ar\"  \"as\"  \"asa\" \"az\"  \"bas\" \"be\"  \"bem\" \"bez\"\n",
       " [13] \"bg\"  \"bm\"  \"bn\"  \"bo\"  \"br\"  \"brx\" \"bs\"  \"ca\"  \"cgg\" \"chr\" \"cs\"  \"cy\" \n",
       " [25] \"da\"  \"dav\" \"de\"  \"dje\" \"dsb\" \"dua\" \"dyo\" \"dz\"  \"ebu\" \"ee\"  \"el\"  \"en\" \n",
       " [37] \"eo\"  \"es\"  \"et\"  \"eu\"  \"ewo\" \"fa\"  \"ff\"  \"fi\"  \"fil\" \"fo\"  \"fr\"  \"fur\"\n",
       " [49] \"fy\"  \"ga\"  \"gd\"  \"gl\"  \"gsw\" \"gu\"  \"guz\" \"gv\"  \"ha\"  \"haw\" \"he\"  \"hi\" \n",
       " [61] \"hr\"  \"hsb\" \"hu\"  \"hy\"  \"id\"  \"ig\"  \"ii\"  \"is\"  \"it\"  \"ja\"  \"jgo\" \"jmc\"\n",
       " [73] \"ka\"  \"kab\" \"kam\" \"kde\" \"kea\" \"khq\" \"ki\"  \"kk\"  \"kkj\" \"kl\"  \"kln\" \"km\" \n",
       " [85] \"kn\"  \"ko\"  \"kok\" \"ks\"  \"ksb\" \"ksf\" \"ksh\" \"kw\"  \"ky\"  \"lag\" \"lb\"  \"lg\" \n",
       " [97] \"lkt\" \"ln\"  \"lo\"  \"lt\"  \"lu\"  \"luo\" \"luy\" \"lv\"  \"mas\" \"mer\" \"mfe\" \"mg\" \n",
       "[109] \"mgh\" \"mgo\" \"mk\"  \"ml\"  \"mn\"  \"mr\"  \"ms\"  \"mt\"  \"mua\" \"my\"  \"naq\" \"nb\" \n",
       "[121] \"nd\"  \"ne\"  \"nl\"  \"nmg\" \"nn\"  \"nnh\" \"nus\" \"nyn\" \"om\"  \"or\"  \"os\"  \"pa\" \n",
       "[133] \"pl\"  \"ps\"  \"pt\"  \"qu\"  \"rm\"  \"rn\"  \"ro\"  \"rof\" \"ru\"  \"rw\"  \"rwk\" \"sah\"\n",
       "[145] \"saq\" \"sbp\" \"se\"  \"seh\" \"ses\" \"sg\"  \"shi\" \"si\"  \"sk\"  \"sl\"  \"smn\" \"sn\" \n",
       "[157] \"so\"  \"sq\"  \"sr\"  \"sv\"  \"sw\"  \"ta\"  \"te\"  \"teo\" \"th\"  \"ti\"  \"to\"  \"tr\" \n",
       "[169] \"twq\" \"tzm\" \"ug\"  \"uk\"  \"ur\"  \"uz\"  \"vai\" \"vi\"  \"vun\" \"wae\" \"xog\" \"yav\"\n",
       "[181] \"yi\"  \"yo\"  \"zgh\" \"zh\"  \"zu\" "
      ]
     },
     "metadata": {},
     "output_type": "display_data"
    }
   ],
   "source": [
    "date_names_langs()"
   ]
  },
  {
   "cell_type": "code",
   "execution_count": 50,
   "metadata": {},
   "outputs": [
    {
     "data": {
      "text/html": [
       "<time datetime=\"2015-01-01\">2015-01-01</time>"
      ],
      "text/latex": [
       "2015-01-01"
      ],
      "text/markdown": [
       "2015-01-01"
      ],
      "text/plain": [
       "[1] \"2015-01-01\""
      ]
     },
     "metadata": {},
     "output_type": "display_data"
    }
   ],
   "source": [
    "parse_date(\"1 janvier 2015\", \"%d %B %Y\", locale = locale(\"fr\"))"
   ]
  },
  {
   "cell_type": "raw",
   "metadata": {},
   "source": [
    "11.3.5 Exercises"
   ]
  },
  {
   "cell_type": "raw",
   "metadata": {},
   "source": [
    "1. What are the most important arguments to locale()?\n",
    "\n",
    "The locale object has arguments to set the following:\n",
    "\n",
    "date and time formats: \n",
    "    date_names\n",
    "    date_format\n",
    "    time_format\n",
    "time zone: \n",
    "    tz\n",
    "numbers: \n",
    "    decimal_mark \n",
    "    grouping_mark\n",
    "encoding: \n",
    "    encoding"
   ]
  },
  {
   "cell_type": "code",
   "execution_count": 51,
   "metadata": {},
   "outputs": [
    {
     "data": {
      "text/plain": [
       "$date_names\n",
       "[1] \"en\"\n",
       "\n",
       "$date_format\n",
       "[1] \"%AD\"\n",
       "\n",
       "$time_format\n",
       "[1] \"%AT\"\n",
       "\n",
       "$decimal_mark\n",
       "[1] \".\"\n",
       "\n",
       "$grouping_mark\n",
       "[1] \",\"\n",
       "\n",
       "$tz\n",
       "[1] \"UTC\"\n",
       "\n",
       "$encoding\n",
       "[1] \"UTF-8\"\n",
       "\n",
       "$asciify\n",
       "[1] FALSE\n"
      ]
     },
     "metadata": {},
     "output_type": "display_data"
    }
   ],
   "source": [
    "formals(locale)"
   ]
  },
  {
   "cell_type": "raw",
   "metadata": {},
   "source": [
    "2. What happens if you try and set decimal_mark and grouping_mark to the same character? What happens to the default value of grouping_mark when you set decimal_mark to “,”? \n",
    "What happens to the default value of decimal_mark when you set the grouping_mark to “.”?\n",
    "\n",
    "If the decimal and grouping marks are set to the same character, locale throws an error:\n",
    "\n",
    "If the decimal_mark is set to the comma \",\", then the grouping mark is set to the period \".\":\n",
    "\n",
    "If the grouping mark is set to a period, then the decimal mark is set to a comma"
   ]
  },
  {
   "cell_type": "code",
   "execution_count": 52,
   "metadata": {},
   "outputs": [
    {
     "ename": "ERROR",
     "evalue": "Error: `decimal_mark` and `grouping_mark` must be different\n",
     "output_type": "error",
     "traceback": [
      "Error: `decimal_mark` and `grouping_mark` must be different\nTraceback:\n",
      "1. locale(decimal_mark = \".\", grouping_mark = \".\")",
      "2. stop(\"`decimal_mark` and `grouping_mark` must be different\", \n .     call. = FALSE)"
     ]
    }
   ],
   "source": [
    "locale(decimal_mark = \".\", grouping_mark = \".\")"
   ]
  },
  {
   "cell_type": "code",
   "execution_count": 53,
   "metadata": {},
   "outputs": [
    {
     "data": {
      "text/plain": [
       "<locale>\n",
       "Numbers:  123.456,78\n",
       "Formats:  %AD / %AT\n",
       "Timezone: UTC\n",
       "Encoding: UTF-8\n",
       "<date_names>\n",
       "Days:   Sunday (Sun), Monday (Mon), Tuesday (Tue), Wednesday (Wed), Thursday\n",
       "        (Thu), Friday (Fri), Saturday (Sat)\n",
       "Months: January (Jan), February (Feb), March (Mar), April (Apr), May (May),\n",
       "        June (Jun), July (Jul), August (Aug), September (Sep), October\n",
       "        (Oct), November (Nov), December (Dec)\n",
       "AM/PM:  AM/PM"
      ]
     },
     "metadata": {},
     "output_type": "display_data"
    }
   ],
   "source": [
    "locale(decimal_mark = \",\")"
   ]
  },
  {
   "cell_type": "code",
   "execution_count": 54,
   "metadata": {},
   "outputs": [
    {
     "data": {
      "text/plain": [
       "<locale>\n",
       "Numbers:  123,456.78\n",
       "Formats:  %AD / %AT\n",
       "Timezone: UTC\n",
       "Encoding: UTF-8\n",
       "<date_names>\n",
       "Days:   Sunday (Sun), Monday (Mon), Tuesday (Tue), Wednesday (Wed), Thursday\n",
       "        (Thu), Friday (Fri), Saturday (Sat)\n",
       "Months: January (Jan), February (Feb), March (Mar), April (Apr), May (May),\n",
       "        June (Jun), July (Jul), August (Aug), September (Sep), October\n",
       "        (Oct), November (Nov), December (Dec)\n",
       "AM/PM:  AM/PM"
      ]
     },
     "metadata": {},
     "output_type": "display_data"
    }
   ],
   "source": [
    "locale(grouping_mark = \",\")"
   ]
  },
  {
   "cell_type": "raw",
   "metadata": {},
   "source": [
    "3. I didn’t discuss the date_format and time_format options to locale(). What do they do? Construct an example that shows when they might be useful.\n",
    "\n",
    "They provide default date and time formats. The readr vignette discusses using these to parse dates: since dates can include languages specific weekday and month names, and different conventions for specifying AM/PM"
   ]
  },
  {
   "cell_type": "code",
   "execution_count": 55,
   "metadata": {},
   "outputs": [
    {
     "data": {
      "text/plain": [
       "<locale>\n",
       "Numbers:  123,456.78\n",
       "Formats:  %AD / %AT\n",
       "Timezone: UTC\n",
       "Encoding: UTF-8\n",
       "<date_names>\n",
       "Days:   Sunday (Sun), Monday (Mon), Tuesday (Tue), Wednesday (Wed), Thursday\n",
       "        (Thu), Friday (Fri), Saturday (Sat)\n",
       "Months: January (Jan), February (Feb), March (Mar), April (Apr), May (May),\n",
       "        June (Jun), July (Jul), August (Aug), September (Sep), October\n",
       "        (Oct), November (Nov), December (Dec)\n",
       "AM/PM:  AM/PM"
      ]
     },
     "metadata": {},
     "output_type": "display_data"
    }
   ],
   "source": [
    "locale()"
   ]
  },
  {
   "cell_type": "raw",
   "metadata": {},
   "source": [
    "Examples from the readr vignette of parsing French dates"
   ]
  },
  {
   "cell_type": "code",
   "execution_count": 56,
   "metadata": {},
   "outputs": [
    {
     "data": {
      "text/html": [
       "<time datetime=\"2015-01-01\">2015-01-01</time>"
      ],
      "text/latex": [
       "2015-01-01"
      ],
      "text/markdown": [
       "2015-01-01"
      ],
      "text/plain": [
       "[1] \"2015-01-01\""
      ]
     },
     "metadata": {},
     "output_type": "display_data"
    },
    {
     "data": {
      "text/html": [
       "<time datetime=\"1979-10-14\">1979-10-14</time>"
      ],
      "text/latex": [
       "1979-10-14"
      ],
      "text/markdown": [
       "1979-10-14"
      ],
      "text/plain": [
       "[1] \"1979-10-14\""
      ]
     },
     "metadata": {},
     "output_type": "display_data"
    }
   ],
   "source": [
    "parse_date(\"1 janvier 2015\", \"%d %B %Y\", locale = locale(\"fr\"))\n",
    "parse_date(\"14 oct. 1979\", \"%d %b %Y\", locale = locale(\"fr\"))"
   ]
  },
  {
   "cell_type": "raw",
   "metadata": {},
   "source": [
    "Apparently the time format is not used for anything, but the date format is used for guessing column types."
   ]
  },
  {
   "cell_type": "raw",
   "metadata": {},
   "source": [
    "4. If you live outside the US, create a new locale object that encapsulates the settings for the types of file you read most commonly.\n",
    "\n",
    "Read the help page for locale() using ?locale to learn about the different variables that can be set.\n",
    "\n",
    "As an example, consider Australia. Most of the defaults values are valid, except that the date format is “(d)d/mm/yyyy”, meaning that January 2, 2006 is written as 02/01/2006.\n",
    "\n",
    "However, default locale will parse that date as February 1, 2006."
   ]
  },
  {
   "cell_type": "code",
   "execution_count": 61,
   "metadata": {},
   "outputs": [
    {
     "name": "stderr",
     "output_type": "stream",
     "text": [
      "Warning message:\n",
      "“1 parsing failure.\n",
      "row col   expected   actual\n",
      "  1  -- date like  02/01/06\n",
      "”"
     ]
    },
    {
     "data": {
      "text/html": [
       "<time datetime=\"&lt;NA&gt;\">&lt;NA&gt;</time>"
      ],
      "text/latex": [
       "<NA>"
      ],
      "text/markdown": [
       "&lt;NA&gt;"
      ],
      "text/plain": [
       "[1] NA"
      ]
     },
     "metadata": {},
     "output_type": "display_data"
    }
   ],
   "source": [
    "parse_date(\"02/01/2006\")\n"
   ]
  },
  {
   "cell_type": "code",
   "execution_count": 63,
   "metadata": {},
   "outputs": [
    {
     "data": {
      "text/html": [
       "<time datetime=\"2006-01-02\">2006-01-02</time>"
      ],
      "text/latex": [
       "2006-01-02"
      ],
      "text/markdown": [
       "2006-01-02"
      ],
      "text/plain": [
       "[1] \"2006-01-02\""
      ]
     },
     "metadata": {},
     "output_type": "display_data"
    }
   ],
   "source": [
    "au_locale <- locale(date_format = \"%d/%m/%Y\")\n",
    "parse_date(\"02/01/2006\", locale = au_locale)"
   ]
  },
  {
   "cell_type": "raw",
   "metadata": {},
   "source": [
    "5. What’s the difference between read_csv() and read_csv2()?\n",
    "\n",
    "The delimiter. The function read_csv() uses a comma, while read_csv2() uses a semi-colon (;). Using a semi-colon is useful when commas are used as the decimal point (as in Europe)."
   ]
  },
  {
   "cell_type": "raw",
   "metadata": {},
   "source": [
    "6. What are the most common encodings used in Europe? What are the most common encodings used in Asia? Do some googling to find out."
   ]
  },
  {
   "cell_type": "raw",
   "metadata": {},
   "source": [
    "UTF-8 is standard now, and ASCII has been around forever.\n",
    "\n",
    "For the European languages, there are separate encodings for Romance languages and Eastern European languages using Latin script, Cyrillic, Greek, Hebrew, Turkish: usually with separate ISO and Windows encoding standards. There is also Mac OS Roman.\n",
    "\n",
    "For Asian languages Arabic and Vietnamese have ISO and Windows standards. The other major Asian scripts have their own:\n",
    "\n",
    "    Japanese: JIS X 0208, Shift JIS, ISO-2022-JP\n",
    "    Chinese: GB 2312, GBK, GB 18030\n",
    "    Korean: KS X 1001, EUC-KR, ISO-2022-KR\n",
    "\n",
    "The list in the documentation for stringi::stri_enc_detect() is a good list of encodings since it supports the most common encodings.\n",
    "\n",
    "    Western European Latin script languages: ISO-8859-1, Windows-1250 (also CP-1250 for code-point)\n",
    "    Eastern European Latin script languages: ISO-8859-2, Windows-1252\n",
    "    Greek: ISO-8859-7\n",
    "    Turkish: ISO-8859-9, Windows-1254\n",
    "    Hebrew: ISO-8859-8, IBM424, Windows 1255\n",
    "    Russian: Windows 1251\n",
    "    Japanese: Shift JIS, ISO-2022-JP, EUC-JP\n",
    "    Korean: ISO-2022-KR, EUC-KR\n",
    "    Chinese: GB18030, ISO-2022-CN (Simplified), Big5 (Traditional)\n",
    "    Arabic: ISO-8859-6, IBM420, Windows 1256\n",
    "\n",
    "For more information on character encodings see the following sources.\n",
    "\n",
    "    The Wikipedia page Character encoding, has a good list of encodings.\n",
    "    Unicode CLDR project\n",
    "    What is the most common encoding of each language (Stack Overflow)\n",
    "    “What Every Programmer Absolutely, Positively Needs To Know About Encodings And Character Sets To Work With Text”, http://kunststube.net/encoding/.\n",
    "\n",
    "Programs that identify the encoding of text include:\n",
    "\n",
    "    readr::guess_encoding()\n",
    "    stringi::str_enc_detect()\n",
    "    iconv\n",
    "    chardet (Python)"
   ]
  },
  {
   "cell_type": "raw",
   "metadata": {},
   "source": [
    "7. Generate the correct format string to parse each of the following dates and times:"
   ]
  },
  {
   "cell_type": "code",
   "execution_count": 37,
   "metadata": {},
   "outputs": [],
   "source": [
    "d1 <- \"January 1, 2010\"\n",
    "d2 <- \"2015-Mar-07\"\n",
    "d3 <- \"06-Jun-2017\"\n",
    "d4 <- c(\"August 19 (2015)\", \"July 1 (2015)\")\n",
    "d5 <- \"12/30/14\" # Dec 30, 2014\n",
    "t1 <- \"1705\"\n",
    "t2 <- \"11:15:10.12 PM\""
   ]
  },
  {
   "cell_type": "code",
   "execution_count": 64,
   "metadata": {},
   "outputs": [
    {
     "data": {
      "text/html": [
       "<time datetime=\"2010-01-01\">2010-01-01</time>"
      ],
      "text/latex": [
       "2010-01-01"
      ],
      "text/markdown": [
       "2010-01-01"
      ],
      "text/plain": [
       "[1] \"2010-01-01\""
      ]
     },
     "metadata": {},
     "output_type": "display_data"
    },
    {
     "data": {
      "text/html": [
       "<time datetime=\"2015-03-07\">2015-03-07</time>"
      ],
      "text/latex": [
       "2015-03-07"
      ],
      "text/markdown": [
       "2015-03-07"
      ],
      "text/plain": [
       "[1] \"2015-03-07\""
      ]
     },
     "metadata": {},
     "output_type": "display_data"
    },
    {
     "data": {
      "text/html": [
       "<time datetime=\"2017-06-06\">2017-06-06</time>"
      ],
      "text/latex": [
       "2017-06-06"
      ],
      "text/markdown": [
       "2017-06-06"
      ],
      "text/plain": [
       "[1] \"2017-06-06\""
      ]
     },
     "metadata": {},
     "output_type": "display_data"
    },
    {
     "data": {
      "text/html": [
       "<ol class=list-inline>\n",
       "\t<li><time datetime=\"2015-08-19\">2015-08-19</time></li>\n",
       "\t<li><time datetime=\"2015-07-01\">2015-07-01</time></li>\n",
       "</ol>\n"
      ],
      "text/latex": [
       "\\begin{enumerate*}\n",
       "\\item 2015-08-19\n",
       "\\item 2015-07-01\n",
       "\\end{enumerate*}\n"
      ],
      "text/markdown": [
       "1. 2015-08-19\n",
       "2. 2015-07-01\n",
       "\n",
       "\n"
      ],
      "text/plain": [
       "[1] \"2015-08-19\" \"2015-07-01\""
      ]
     },
     "metadata": {},
     "output_type": "display_data"
    },
    {
     "data": {
      "text/html": [
       "<time datetime=\"2014-12-30\">2014-12-30</time>"
      ],
      "text/latex": [
       "2014-12-30"
      ],
      "text/markdown": [
       "2014-12-30"
      ],
      "text/plain": [
       "[1] \"2014-12-30\""
      ]
     },
     "metadata": {},
     "output_type": "display_data"
    },
    {
     "data": {
      "text/plain": [
       "17:05:00"
      ]
     },
     "metadata": {},
     "output_type": "display_data"
    },
    {
     "data": {
      "text/plain": [
       "23:15:10.12"
      ]
     },
     "metadata": {},
     "output_type": "display_data"
    }
   ],
   "source": [
    "parse_date(d1, \"%B %d, %Y\")\n",
    "parse_date(d2, \"%Y-%b-%d\")\n",
    "parse_date(d3, \"%d-%b-%Y\")\n",
    "parse_date(d4, \"%B %d (%Y)\")\n",
    "parse_date(d5, \"%m/%d/%y\")\n",
    "parse_time(t1, \"%H%M\")\n",
    "parse_time(t2, \"%H:%M:%OS %p\")  # t2 uses real seconds"
   ]
  },
  {
   "cell_type": "raw",
   "metadata": {},
   "source": [
    "11.4 Parsing a file"
   ]
  },
  {
   "cell_type": "raw",
   "metadata": {},
   "source": [
    "Now that you’ve learned how to parse an individual vector, it’s time to return to the beginning and explore how readr parses a file. There are two new things that you’ll learn about in this section:\n",
    "\n",
    "How readr automatically guesses the type of each column.\n",
    "How to override the default specification."
   ]
  },
  {
   "cell_type": "raw",
   "metadata": {},
   "source": [
    "11.4.1 Strategy"
   ]
  },
  {
   "cell_type": "raw",
   "metadata": {},
   "source": [
    "guess_parser\n",
    "parse_guess\n",
    "\n",
    "readr uses a heuristic to figure out the type of each column: it reads the first 1000 rows and uses some (moderately conservative) heuristics to figure out the type of each column. You can emulate this process with a character vector using guess_parser(), which returns readr’s best guess, and parse_guess() which uses that guess to parse the column:"
   ]
  },
  {
   "cell_type": "code",
   "execution_count": 65,
   "metadata": {},
   "outputs": [
    {
     "data": {
      "text/html": [
       "'date'"
      ],
      "text/latex": [
       "'date'"
      ],
      "text/markdown": [
       "'date'"
      ],
      "text/plain": [
       "[1] \"date\""
      ]
     },
     "metadata": {},
     "output_type": "display_data"
    },
    {
     "data": {
      "text/html": [
       "'time'"
      ],
      "text/latex": [
       "'time'"
      ],
      "text/markdown": [
       "'time'"
      ],
      "text/plain": [
       "[1] \"time\""
      ]
     },
     "metadata": {},
     "output_type": "display_data"
    },
    {
     "data": {
      "text/html": [
       "'logical'"
      ],
      "text/latex": [
       "'logical'"
      ],
      "text/markdown": [
       "'logical'"
      ],
      "text/plain": [
       "[1] \"logical\""
      ]
     },
     "metadata": {},
     "output_type": "display_data"
    },
    {
     "data": {
      "text/html": [
       "'double'"
      ],
      "text/latex": [
       "'double'"
      ],
      "text/markdown": [
       "'double'"
      ],
      "text/plain": [
       "[1] \"double\""
      ]
     },
     "metadata": {},
     "output_type": "display_data"
    },
    {
     "data": {
      "text/html": [
       "'number'"
      ],
      "text/latex": [
       "'number'"
      ],
      "text/markdown": [
       "'number'"
      ],
      "text/plain": [
       "[1] \"number\""
      ]
     },
     "metadata": {},
     "output_type": "display_data"
    },
    {
     "name": "stdout",
     "output_type": "stream",
     "text": [
      " Date[1:1], format: \"2010-10-10\"\n"
     ]
    }
   ],
   "source": [
    "guess_parser(\"2010-10-01\")\n",
    "guess_parser(\"15:01\")\n",
    "guess_parser(c(\"TRUE\", \"FALSE\"))\n",
    "guess_parser(c(\"1\", \"5\", \"9\"))\n",
    "guess_parser(c(\"12,352,561\"))\n",
    "str(parse_guess(\"2010-10-10\"))"
   ]
  },
  {
   "cell_type": "raw",
   "metadata": {},
   "source": [
    "The heuristic tries each of the following types, stopping when it finds a match:\n",
    "\n",
    "    logical: contains only “F”, “T”, “FALSE”, or “TRUE”.\n",
    "    integer: contains only numeric characters (and -).\n",
    "    double: contains only valid doubles (including numbers like 4.5e-5).\n",
    "    number: contains valid doubles with the grouping mark inside.\n",
    "    time: matches the default time_format.\n",
    "    date: matches the default date_format.\n",
    "    date-time: any ISO8601 date.\n",
    "\n",
    "If none of these rules apply, then the column will stay as a vector of strings."
   ]
  },
  {
   "cell_type": "raw",
   "metadata": {},
   "source": [
    "11.4.2 Problems"
   ]
  },
  {
   "cell_type": "raw",
   "metadata": {},
   "source": [
    "These defaults don’t always work for larger files. There are two basic problems:\n",
    "\n",
    "1. The first thousand rows might be a special case, and readr guesses a type that is not sufficiently general. For example, you might have a column of doubles that only contains integers in the first 1000 rows.\n",
    "\n",
    "2. The column might contain a lot of missing values. If the first 1000 rows contain only NAs, readr will guess that it’s a character vector, whereas you probably want to parse it as something more specific.\n",
    "\n",
    "readr contains a challenging CSV that illustrates both of these problems:"
   ]
  },
  {
   "cell_type": "code",
   "execution_count": 66,
   "metadata": {},
   "outputs": [
    {
     "name": "stderr",
     "output_type": "stream",
     "text": [
      "Parsed with column specification:\n",
      "cols(\n",
      "  x = col_double(),\n",
      "  y = col_logical()\n",
      ")\n",
      "Warning message:\n",
      "“1000 parsing failures.\n",
      " row col           expected     actual                                                          file\n",
      "1001   y 1/0/T/F/TRUE/FALSE 2015-01-16 '/anaconda3/envs/r/lib/R/library/readr/extdata/challenge.csv'\n",
      "1002   y 1/0/T/F/TRUE/FALSE 2018-05-18 '/anaconda3/envs/r/lib/R/library/readr/extdata/challenge.csv'\n",
      "1003   y 1/0/T/F/TRUE/FALSE 2015-09-05 '/anaconda3/envs/r/lib/R/library/readr/extdata/challenge.csv'\n",
      "1004   y 1/0/T/F/TRUE/FALSE 2012-11-28 '/anaconda3/envs/r/lib/R/library/readr/extdata/challenge.csv'\n",
      "1005   y 1/0/T/F/TRUE/FALSE 2020-01-13 '/anaconda3/envs/r/lib/R/library/readr/extdata/challenge.csv'\n",
      ".... ... .................. .......... .............................................................\n",
      "See problems(...) for more details.\n",
      "”"
     ]
    }
   ],
   "source": [
    "challenge <- read_csv(readr_example(\"challenge.csv\"))"
   ]
  },
  {
   "cell_type": "code",
   "execution_count": 67,
   "metadata": {},
   "outputs": [
    {
     "data": {
      "text/html": [
       "<table>\n",
       "<thead><tr><th scope=col>row</th><th scope=col>col</th><th scope=col>expected</th><th scope=col>actual</th><th scope=col>file</th></tr></thead>\n",
       "<tbody>\n",
       "\t<tr><td>1001                                                         </td><td>y                                                            </td><td>1/0/T/F/TRUE/FALSE                                           </td><td>2015-01-16                                                   </td><td>'/anaconda3/envs/r/lib/R/library/readr/extdata/challenge.csv'</td></tr>\n",
       "\t<tr><td>1002                                                         </td><td>y                                                            </td><td>1/0/T/F/TRUE/FALSE                                           </td><td>2018-05-18                                                   </td><td>'/anaconda3/envs/r/lib/R/library/readr/extdata/challenge.csv'</td></tr>\n",
       "\t<tr><td>1003                                                         </td><td>y                                                            </td><td>1/0/T/F/TRUE/FALSE                                           </td><td>2015-09-05                                                   </td><td>'/anaconda3/envs/r/lib/R/library/readr/extdata/challenge.csv'</td></tr>\n",
       "\t<tr><td>1004                                                         </td><td>y                                                            </td><td>1/0/T/F/TRUE/FALSE                                           </td><td>2012-11-28                                                   </td><td>'/anaconda3/envs/r/lib/R/library/readr/extdata/challenge.csv'</td></tr>\n",
       "\t<tr><td>1005                                                         </td><td>y                                                            </td><td>1/0/T/F/TRUE/FALSE                                           </td><td>2020-01-13                                                   </td><td>'/anaconda3/envs/r/lib/R/library/readr/extdata/challenge.csv'</td></tr>\n",
       "\t<tr><td>1006                                                         </td><td>y                                                            </td><td>1/0/T/F/TRUE/FALSE                                           </td><td>2016-04-17                                                   </td><td>'/anaconda3/envs/r/lib/R/library/readr/extdata/challenge.csv'</td></tr>\n",
       "\t<tr><td>1007                                                         </td><td>y                                                            </td><td>1/0/T/F/TRUE/FALSE                                           </td><td>2011-05-14                                                   </td><td>'/anaconda3/envs/r/lib/R/library/readr/extdata/challenge.csv'</td></tr>\n",
       "\t<tr><td>1008                                                         </td><td>y                                                            </td><td>1/0/T/F/TRUE/FALSE                                           </td><td>2020-07-18                                                   </td><td>'/anaconda3/envs/r/lib/R/library/readr/extdata/challenge.csv'</td></tr>\n",
       "\t<tr><td>1009                                                         </td><td>y                                                            </td><td>1/0/T/F/TRUE/FALSE                                           </td><td>2011-04-30                                                   </td><td>'/anaconda3/envs/r/lib/R/library/readr/extdata/challenge.csv'</td></tr>\n",
       "\t<tr><td>1010                                                         </td><td>y                                                            </td><td>1/0/T/F/TRUE/FALSE                                           </td><td>2010-05-11                                                   </td><td>'/anaconda3/envs/r/lib/R/library/readr/extdata/challenge.csv'</td></tr>\n",
       "\t<tr><td>1011                                                         </td><td>y                                                            </td><td>1/0/T/F/TRUE/FALSE                                           </td><td>2014-11-02                                                   </td><td>'/anaconda3/envs/r/lib/R/library/readr/extdata/challenge.csv'</td></tr>\n",
       "\t<tr><td>1012                                                         </td><td>y                                                            </td><td>1/0/T/F/TRUE/FALSE                                           </td><td>2014-06-23                                                   </td><td>'/anaconda3/envs/r/lib/R/library/readr/extdata/challenge.csv'</td></tr>\n",
       "\t<tr><td>1013                                                         </td><td>y                                                            </td><td>1/0/T/F/TRUE/FALSE                                           </td><td>2017-05-31                                                   </td><td>'/anaconda3/envs/r/lib/R/library/readr/extdata/challenge.csv'</td></tr>\n",
       "\t<tr><td>1014                                                         </td><td>y                                                            </td><td>1/0/T/F/TRUE/FALSE                                           </td><td>2017-11-18                                                   </td><td>'/anaconda3/envs/r/lib/R/library/readr/extdata/challenge.csv'</td></tr>\n",
       "\t<tr><td>1015                                                         </td><td>y                                                            </td><td>1/0/T/F/TRUE/FALSE                                           </td><td>2013-04-20                                                   </td><td>'/anaconda3/envs/r/lib/R/library/readr/extdata/challenge.csv'</td></tr>\n",
       "\t<tr><td>1016                                                         </td><td>y                                                            </td><td>1/0/T/F/TRUE/FALSE                                           </td><td>2010-12-11                                                   </td><td>'/anaconda3/envs/r/lib/R/library/readr/extdata/challenge.csv'</td></tr>\n",
       "\t<tr><td>1017                                                         </td><td>y                                                            </td><td>1/0/T/F/TRUE/FALSE                                           </td><td>2022-10-10                                                   </td><td>'/anaconda3/envs/r/lib/R/library/readr/extdata/challenge.csv'</td></tr>\n",
       "\t<tr><td>1018                                                         </td><td>y                                                            </td><td>1/0/T/F/TRUE/FALSE                                           </td><td>2010-11-11                                                   </td><td>'/anaconda3/envs/r/lib/R/library/readr/extdata/challenge.csv'</td></tr>\n",
       "\t<tr><td>1019                                                         </td><td>y                                                            </td><td>1/0/T/F/TRUE/FALSE                                           </td><td>2015-03-22                                                   </td><td>'/anaconda3/envs/r/lib/R/library/readr/extdata/challenge.csv'</td></tr>\n",
       "\t<tr><td>1020                                                         </td><td>y                                                            </td><td>1/0/T/F/TRUE/FALSE                                           </td><td>2013-12-25                                                   </td><td>'/anaconda3/envs/r/lib/R/library/readr/extdata/challenge.csv'</td></tr>\n",
       "\t<tr><td>1021                                                         </td><td>y                                                            </td><td>1/0/T/F/TRUE/FALSE                                           </td><td>2011-02-27                                                   </td><td>'/anaconda3/envs/r/lib/R/library/readr/extdata/challenge.csv'</td></tr>\n",
       "\t<tr><td>1022                                                         </td><td>y                                                            </td><td>1/0/T/F/TRUE/FALSE                                           </td><td>2015-12-14                                                   </td><td>'/anaconda3/envs/r/lib/R/library/readr/extdata/challenge.csv'</td></tr>\n",
       "\t<tr><td>1023                                                         </td><td>y                                                            </td><td>1/0/T/F/TRUE/FALSE                                           </td><td>2021-02-10                                                   </td><td>'/anaconda3/envs/r/lib/R/library/readr/extdata/challenge.csv'</td></tr>\n",
       "\t<tr><td>1024                                                         </td><td>y                                                            </td><td>1/0/T/F/TRUE/FALSE                                           </td><td>2012-11-28                                                   </td><td>'/anaconda3/envs/r/lib/R/library/readr/extdata/challenge.csv'</td></tr>\n",
       "\t<tr><td>1025                                                         </td><td>y                                                            </td><td>1/0/T/F/TRUE/FALSE                                           </td><td>2020-04-04                                                   </td><td>'/anaconda3/envs/r/lib/R/library/readr/extdata/challenge.csv'</td></tr>\n",
       "\t<tr><td>1026                                                         </td><td>y                                                            </td><td>1/0/T/F/TRUE/FALSE                                           </td><td>2021-04-08                                                   </td><td>'/anaconda3/envs/r/lib/R/library/readr/extdata/challenge.csv'</td></tr>\n",
       "\t<tr><td>1027                                                         </td><td>y                                                            </td><td>1/0/T/F/TRUE/FALSE                                           </td><td>2022-03-13                                                   </td><td>'/anaconda3/envs/r/lib/R/library/readr/extdata/challenge.csv'</td></tr>\n",
       "\t<tr><td>1028                                                         </td><td>y                                                            </td><td>1/0/T/F/TRUE/FALSE                                           </td><td>2010-03-28                                                   </td><td>'/anaconda3/envs/r/lib/R/library/readr/extdata/challenge.csv'</td></tr>\n",
       "\t<tr><td>1029                                                         </td><td>y                                                            </td><td>1/0/T/F/TRUE/FALSE                                           </td><td>2023-01-04                                                   </td><td>'/anaconda3/envs/r/lib/R/library/readr/extdata/challenge.csv'</td></tr>\n",
       "\t<tr><td>1030                                                         </td><td>y                                                            </td><td>1/0/T/F/TRUE/FALSE                                           </td><td>2012-04-02                                                   </td><td>'/anaconda3/envs/r/lib/R/library/readr/extdata/challenge.csv'</td></tr>\n",
       "\t<tr><td>...</td><td>...</td><td>...</td><td>...</td><td>...</td></tr>\n",
       "\t<tr><td>1971                                                         </td><td>y                                                            </td><td>1/0/T/F/TRUE/FALSE                                           </td><td>2020-06-10                                                   </td><td>'/anaconda3/envs/r/lib/R/library/readr/extdata/challenge.csv'</td></tr>\n",
       "\t<tr><td>1972                                                         </td><td>y                                                            </td><td>1/0/T/F/TRUE/FALSE                                           </td><td>2013-11-08                                                   </td><td>'/anaconda3/envs/r/lib/R/library/readr/extdata/challenge.csv'</td></tr>\n",
       "\t<tr><td>1973                                                         </td><td>y                                                            </td><td>1/0/T/F/TRUE/FALSE                                           </td><td>2017-07-12                                                   </td><td>'/anaconda3/envs/r/lib/R/library/readr/extdata/challenge.csv'</td></tr>\n",
       "\t<tr><td>1974                                                         </td><td>y                                                            </td><td>1/0/T/F/TRUE/FALSE                                           </td><td>2016-08-12                                                   </td><td>'/anaconda3/envs/r/lib/R/library/readr/extdata/challenge.csv'</td></tr>\n",
       "\t<tr><td>1975                                                         </td><td>y                                                            </td><td>1/0/T/F/TRUE/FALSE                                           </td><td>2022-05-12                                                   </td><td>'/anaconda3/envs/r/lib/R/library/readr/extdata/challenge.csv'</td></tr>\n",
       "\t<tr><td>1976                                                         </td><td>y                                                            </td><td>1/0/T/F/TRUE/FALSE                                           </td><td>2020-08-11                                                   </td><td>'/anaconda3/envs/r/lib/R/library/readr/extdata/challenge.csv'</td></tr>\n",
       "\t<tr><td>1977                                                         </td><td>y                                                            </td><td>1/0/T/F/TRUE/FALSE                                           </td><td>2011-10-26                                                   </td><td>'/anaconda3/envs/r/lib/R/library/readr/extdata/challenge.csv'</td></tr>\n",
       "\t<tr><td>1978                                                         </td><td>y                                                            </td><td>1/0/T/F/TRUE/FALSE                                           </td><td>2015-12-09                                                   </td><td>'/anaconda3/envs/r/lib/R/library/readr/extdata/challenge.csv'</td></tr>\n",
       "\t<tr><td>1979                                                         </td><td>y                                                            </td><td>1/0/T/F/TRUE/FALSE                                           </td><td>2012-09-27                                                   </td><td>'/anaconda3/envs/r/lib/R/library/readr/extdata/challenge.csv'</td></tr>\n",
       "\t<tr><td>1980                                                         </td><td>y                                                            </td><td>1/0/T/F/TRUE/FALSE                                           </td><td>2013-02-04                                                   </td><td>'/anaconda3/envs/r/lib/R/library/readr/extdata/challenge.csv'</td></tr>\n",
       "\t<tr><td>1981                                                         </td><td>y                                                            </td><td>1/0/T/F/TRUE/FALSE                                           </td><td>2010-11-29                                                   </td><td>'/anaconda3/envs/r/lib/R/library/readr/extdata/challenge.csv'</td></tr>\n",
       "\t<tr><td>1982                                                         </td><td>y                                                            </td><td>1/0/T/F/TRUE/FALSE                                           </td><td>2013-10-16                                                   </td><td>'/anaconda3/envs/r/lib/R/library/readr/extdata/challenge.csv'</td></tr>\n",
       "\t<tr><td>1983                                                         </td><td>y                                                            </td><td>1/0/T/F/TRUE/FALSE                                           </td><td>2015-04-26                                                   </td><td>'/anaconda3/envs/r/lib/R/library/readr/extdata/challenge.csv'</td></tr>\n",
       "\t<tr><td>1984                                                         </td><td>y                                                            </td><td>1/0/T/F/TRUE/FALSE                                           </td><td>2011-04-12                                                   </td><td>'/anaconda3/envs/r/lib/R/library/readr/extdata/challenge.csv'</td></tr>\n",
       "\t<tr><td>1985                                                         </td><td>y                                                            </td><td>1/0/T/F/TRUE/FALSE                                           </td><td>2017-01-30                                                   </td><td>'/anaconda3/envs/r/lib/R/library/readr/extdata/challenge.csv'</td></tr>\n",
       "\t<tr><td>1986                                                         </td><td>y                                                            </td><td>1/0/T/F/TRUE/FALSE                                           </td><td>2014-06-08                                                   </td><td>'/anaconda3/envs/r/lib/R/library/readr/extdata/challenge.csv'</td></tr>\n",
       "\t<tr><td>1987                                                         </td><td>y                                                            </td><td>1/0/T/F/TRUE/FALSE                                           </td><td>2016-10-19                                                   </td><td>'/anaconda3/envs/r/lib/R/library/readr/extdata/challenge.csv'</td></tr>\n",
       "\t<tr><td>1988                                                         </td><td>y                                                            </td><td>1/0/T/F/TRUE/FALSE                                           </td><td>2023-09-01                                                   </td><td>'/anaconda3/envs/r/lib/R/library/readr/extdata/challenge.csv'</td></tr>\n",
       "\t<tr><td>1989                                                         </td><td>y                                                            </td><td>1/0/T/F/TRUE/FALSE                                           </td><td>2010-01-09                                                   </td><td>'/anaconda3/envs/r/lib/R/library/readr/extdata/challenge.csv'</td></tr>\n",
       "\t<tr><td>1990                                                         </td><td>y                                                            </td><td>1/0/T/F/TRUE/FALSE                                           </td><td>2020-01-11                                                   </td><td>'/anaconda3/envs/r/lib/R/library/readr/extdata/challenge.csv'</td></tr>\n",
       "\t<tr><td>1991                                                         </td><td>y                                                            </td><td>1/0/T/F/TRUE/FALSE                                           </td><td>2016-12-16                                                   </td><td>'/anaconda3/envs/r/lib/R/library/readr/extdata/challenge.csv'</td></tr>\n",
       "\t<tr><td>1992                                                         </td><td>y                                                            </td><td>1/0/T/F/TRUE/FALSE                                           </td><td>2010-01-03                                                   </td><td>'/anaconda3/envs/r/lib/R/library/readr/extdata/challenge.csv'</td></tr>\n",
       "\t<tr><td>1993                                                         </td><td>y                                                            </td><td>1/0/T/F/TRUE/FALSE                                           </td><td>2016-04-23                                                   </td><td>'/anaconda3/envs/r/lib/R/library/readr/extdata/challenge.csv'</td></tr>\n",
       "\t<tr><td>1994                                                         </td><td>y                                                            </td><td>1/0/T/F/TRUE/FALSE                                           </td><td>2016-08-10                                                   </td><td>'/anaconda3/envs/r/lib/R/library/readr/extdata/challenge.csv'</td></tr>\n",
       "\t<tr><td>1995                                                         </td><td>y                                                            </td><td>1/0/T/F/TRUE/FALSE                                           </td><td>2019-11-21                                                   </td><td>'/anaconda3/envs/r/lib/R/library/readr/extdata/challenge.csv'</td></tr>\n",
       "\t<tr><td>1996                                                         </td><td>y                                                            </td><td>1/0/T/F/TRUE/FALSE                                           </td><td>2018-03-29                                                   </td><td>'/anaconda3/envs/r/lib/R/library/readr/extdata/challenge.csv'</td></tr>\n",
       "\t<tr><td>1997                                                         </td><td>y                                                            </td><td>1/0/T/F/TRUE/FALSE                                           </td><td>2014-08-04                                                   </td><td>'/anaconda3/envs/r/lib/R/library/readr/extdata/challenge.csv'</td></tr>\n",
       "\t<tr><td>1998                                                         </td><td>y                                                            </td><td>1/0/T/F/TRUE/FALSE                                           </td><td>2015-08-16                                                   </td><td>'/anaconda3/envs/r/lib/R/library/readr/extdata/challenge.csv'</td></tr>\n",
       "\t<tr><td>1999                                                         </td><td>y                                                            </td><td>1/0/T/F/TRUE/FALSE                                           </td><td>2020-02-04                                                   </td><td>'/anaconda3/envs/r/lib/R/library/readr/extdata/challenge.csv'</td></tr>\n",
       "\t<tr><td>2000                                                         </td><td>y                                                            </td><td>1/0/T/F/TRUE/FALSE                                           </td><td>2019-01-06                                                   </td><td>'/anaconda3/envs/r/lib/R/library/readr/extdata/challenge.csv'</td></tr>\n",
       "</tbody>\n",
       "</table>\n"
      ],
      "text/latex": [
       "\\begin{tabular}{r|lllll}\n",
       " row & col & expected & actual & file\\\\\n",
       "\\hline\n",
       "\t 1001                                                          & y                                                             & 1/0/T/F/TRUE/FALSE                                            & 2015-01-16                                                    & '/anaconda3/envs/r/lib/R/library/readr/extdata/challenge.csv'\\\\\n",
       "\t 1002                                                          & y                                                             & 1/0/T/F/TRUE/FALSE                                            & 2018-05-18                                                    & '/anaconda3/envs/r/lib/R/library/readr/extdata/challenge.csv'\\\\\n",
       "\t 1003                                                          & y                                                             & 1/0/T/F/TRUE/FALSE                                            & 2015-09-05                                                    & '/anaconda3/envs/r/lib/R/library/readr/extdata/challenge.csv'\\\\\n",
       "\t 1004                                                          & y                                                             & 1/0/T/F/TRUE/FALSE                                            & 2012-11-28                                                    & '/anaconda3/envs/r/lib/R/library/readr/extdata/challenge.csv'\\\\\n",
       "\t 1005                                                          & y                                                             & 1/0/T/F/TRUE/FALSE                                            & 2020-01-13                                                    & '/anaconda3/envs/r/lib/R/library/readr/extdata/challenge.csv'\\\\\n",
       "\t 1006                                                          & y                                                             & 1/0/T/F/TRUE/FALSE                                            & 2016-04-17                                                    & '/anaconda3/envs/r/lib/R/library/readr/extdata/challenge.csv'\\\\\n",
       "\t 1007                                                          & y                                                             & 1/0/T/F/TRUE/FALSE                                            & 2011-05-14                                                    & '/anaconda3/envs/r/lib/R/library/readr/extdata/challenge.csv'\\\\\n",
       "\t 1008                                                          & y                                                             & 1/0/T/F/TRUE/FALSE                                            & 2020-07-18                                                    & '/anaconda3/envs/r/lib/R/library/readr/extdata/challenge.csv'\\\\\n",
       "\t 1009                                                          & y                                                             & 1/0/T/F/TRUE/FALSE                                            & 2011-04-30                                                    & '/anaconda3/envs/r/lib/R/library/readr/extdata/challenge.csv'\\\\\n",
       "\t 1010                                                          & y                                                             & 1/0/T/F/TRUE/FALSE                                            & 2010-05-11                                                    & '/anaconda3/envs/r/lib/R/library/readr/extdata/challenge.csv'\\\\\n",
       "\t 1011                                                          & y                                                             & 1/0/T/F/TRUE/FALSE                                            & 2014-11-02                                                    & '/anaconda3/envs/r/lib/R/library/readr/extdata/challenge.csv'\\\\\n",
       "\t 1012                                                          & y                                                             & 1/0/T/F/TRUE/FALSE                                            & 2014-06-23                                                    & '/anaconda3/envs/r/lib/R/library/readr/extdata/challenge.csv'\\\\\n",
       "\t 1013                                                          & y                                                             & 1/0/T/F/TRUE/FALSE                                            & 2017-05-31                                                    & '/anaconda3/envs/r/lib/R/library/readr/extdata/challenge.csv'\\\\\n",
       "\t 1014                                                          & y                                                             & 1/0/T/F/TRUE/FALSE                                            & 2017-11-18                                                    & '/anaconda3/envs/r/lib/R/library/readr/extdata/challenge.csv'\\\\\n",
       "\t 1015                                                          & y                                                             & 1/0/T/F/TRUE/FALSE                                            & 2013-04-20                                                    & '/anaconda3/envs/r/lib/R/library/readr/extdata/challenge.csv'\\\\\n",
       "\t 1016                                                          & y                                                             & 1/0/T/F/TRUE/FALSE                                            & 2010-12-11                                                    & '/anaconda3/envs/r/lib/R/library/readr/extdata/challenge.csv'\\\\\n",
       "\t 1017                                                          & y                                                             & 1/0/T/F/TRUE/FALSE                                            & 2022-10-10                                                    & '/anaconda3/envs/r/lib/R/library/readr/extdata/challenge.csv'\\\\\n",
       "\t 1018                                                          & y                                                             & 1/0/T/F/TRUE/FALSE                                            & 2010-11-11                                                    & '/anaconda3/envs/r/lib/R/library/readr/extdata/challenge.csv'\\\\\n",
       "\t 1019                                                          & y                                                             & 1/0/T/F/TRUE/FALSE                                            & 2015-03-22                                                    & '/anaconda3/envs/r/lib/R/library/readr/extdata/challenge.csv'\\\\\n",
       "\t 1020                                                          & y                                                             & 1/0/T/F/TRUE/FALSE                                            & 2013-12-25                                                    & '/anaconda3/envs/r/lib/R/library/readr/extdata/challenge.csv'\\\\\n",
       "\t 1021                                                          & y                                                             & 1/0/T/F/TRUE/FALSE                                            & 2011-02-27                                                    & '/anaconda3/envs/r/lib/R/library/readr/extdata/challenge.csv'\\\\\n",
       "\t 1022                                                          & y                                                             & 1/0/T/F/TRUE/FALSE                                            & 2015-12-14                                                    & '/anaconda3/envs/r/lib/R/library/readr/extdata/challenge.csv'\\\\\n",
       "\t 1023                                                          & y                                                             & 1/0/T/F/TRUE/FALSE                                            & 2021-02-10                                                    & '/anaconda3/envs/r/lib/R/library/readr/extdata/challenge.csv'\\\\\n",
       "\t 1024                                                          & y                                                             & 1/0/T/F/TRUE/FALSE                                            & 2012-11-28                                                    & '/anaconda3/envs/r/lib/R/library/readr/extdata/challenge.csv'\\\\\n",
       "\t 1025                                                          & y                                                             & 1/0/T/F/TRUE/FALSE                                            & 2020-04-04                                                    & '/anaconda3/envs/r/lib/R/library/readr/extdata/challenge.csv'\\\\\n",
       "\t 1026                                                          & y                                                             & 1/0/T/F/TRUE/FALSE                                            & 2021-04-08                                                    & '/anaconda3/envs/r/lib/R/library/readr/extdata/challenge.csv'\\\\\n",
       "\t 1027                                                          & y                                                             & 1/0/T/F/TRUE/FALSE                                            & 2022-03-13                                                    & '/anaconda3/envs/r/lib/R/library/readr/extdata/challenge.csv'\\\\\n",
       "\t 1028                                                          & y                                                             & 1/0/T/F/TRUE/FALSE                                            & 2010-03-28                                                    & '/anaconda3/envs/r/lib/R/library/readr/extdata/challenge.csv'\\\\\n",
       "\t 1029                                                          & y                                                             & 1/0/T/F/TRUE/FALSE                                            & 2023-01-04                                                    & '/anaconda3/envs/r/lib/R/library/readr/extdata/challenge.csv'\\\\\n",
       "\t 1030                                                          & y                                                             & 1/0/T/F/TRUE/FALSE                                            & 2012-04-02                                                    & '/anaconda3/envs/r/lib/R/library/readr/extdata/challenge.csv'\\\\\n",
       "\t ... & ... & ... & ... & ...\\\\\n",
       "\t 1971                                                          & y                                                             & 1/0/T/F/TRUE/FALSE                                            & 2020-06-10                                                    & '/anaconda3/envs/r/lib/R/library/readr/extdata/challenge.csv'\\\\\n",
       "\t 1972                                                          & y                                                             & 1/0/T/F/TRUE/FALSE                                            & 2013-11-08                                                    & '/anaconda3/envs/r/lib/R/library/readr/extdata/challenge.csv'\\\\\n",
       "\t 1973                                                          & y                                                             & 1/0/T/F/TRUE/FALSE                                            & 2017-07-12                                                    & '/anaconda3/envs/r/lib/R/library/readr/extdata/challenge.csv'\\\\\n",
       "\t 1974                                                          & y                                                             & 1/0/T/F/TRUE/FALSE                                            & 2016-08-12                                                    & '/anaconda3/envs/r/lib/R/library/readr/extdata/challenge.csv'\\\\\n",
       "\t 1975                                                          & y                                                             & 1/0/T/F/TRUE/FALSE                                            & 2022-05-12                                                    & '/anaconda3/envs/r/lib/R/library/readr/extdata/challenge.csv'\\\\\n",
       "\t 1976                                                          & y                                                             & 1/0/T/F/TRUE/FALSE                                            & 2020-08-11                                                    & '/anaconda3/envs/r/lib/R/library/readr/extdata/challenge.csv'\\\\\n",
       "\t 1977                                                          & y                                                             & 1/0/T/F/TRUE/FALSE                                            & 2011-10-26                                                    & '/anaconda3/envs/r/lib/R/library/readr/extdata/challenge.csv'\\\\\n",
       "\t 1978                                                          & y                                                             & 1/0/T/F/TRUE/FALSE                                            & 2015-12-09                                                    & '/anaconda3/envs/r/lib/R/library/readr/extdata/challenge.csv'\\\\\n",
       "\t 1979                                                          & y                                                             & 1/0/T/F/TRUE/FALSE                                            & 2012-09-27                                                    & '/anaconda3/envs/r/lib/R/library/readr/extdata/challenge.csv'\\\\\n",
       "\t 1980                                                          & y                                                             & 1/0/T/F/TRUE/FALSE                                            & 2013-02-04                                                    & '/anaconda3/envs/r/lib/R/library/readr/extdata/challenge.csv'\\\\\n",
       "\t 1981                                                          & y                                                             & 1/0/T/F/TRUE/FALSE                                            & 2010-11-29                                                    & '/anaconda3/envs/r/lib/R/library/readr/extdata/challenge.csv'\\\\\n",
       "\t 1982                                                          & y                                                             & 1/0/T/F/TRUE/FALSE                                            & 2013-10-16                                                    & '/anaconda3/envs/r/lib/R/library/readr/extdata/challenge.csv'\\\\\n",
       "\t 1983                                                          & y                                                             & 1/0/T/F/TRUE/FALSE                                            & 2015-04-26                                                    & '/anaconda3/envs/r/lib/R/library/readr/extdata/challenge.csv'\\\\\n",
       "\t 1984                                                          & y                                                             & 1/0/T/F/TRUE/FALSE                                            & 2011-04-12                                                    & '/anaconda3/envs/r/lib/R/library/readr/extdata/challenge.csv'\\\\\n",
       "\t 1985                                                          & y                                                             & 1/0/T/F/TRUE/FALSE                                            & 2017-01-30                                                    & '/anaconda3/envs/r/lib/R/library/readr/extdata/challenge.csv'\\\\\n",
       "\t 1986                                                          & y                                                             & 1/0/T/F/TRUE/FALSE                                            & 2014-06-08                                                    & '/anaconda3/envs/r/lib/R/library/readr/extdata/challenge.csv'\\\\\n",
       "\t 1987                                                          & y                                                             & 1/0/T/F/TRUE/FALSE                                            & 2016-10-19                                                    & '/anaconda3/envs/r/lib/R/library/readr/extdata/challenge.csv'\\\\\n",
       "\t 1988                                                          & y                                                             & 1/0/T/F/TRUE/FALSE                                            & 2023-09-01                                                    & '/anaconda3/envs/r/lib/R/library/readr/extdata/challenge.csv'\\\\\n",
       "\t 1989                                                          & y                                                             & 1/0/T/F/TRUE/FALSE                                            & 2010-01-09                                                    & '/anaconda3/envs/r/lib/R/library/readr/extdata/challenge.csv'\\\\\n",
       "\t 1990                                                          & y                                                             & 1/0/T/F/TRUE/FALSE                                            & 2020-01-11                                                    & '/anaconda3/envs/r/lib/R/library/readr/extdata/challenge.csv'\\\\\n",
       "\t 1991                                                          & y                                                             & 1/0/T/F/TRUE/FALSE                                            & 2016-12-16                                                    & '/anaconda3/envs/r/lib/R/library/readr/extdata/challenge.csv'\\\\\n",
       "\t 1992                                                          & y                                                             & 1/0/T/F/TRUE/FALSE                                            & 2010-01-03                                                    & '/anaconda3/envs/r/lib/R/library/readr/extdata/challenge.csv'\\\\\n",
       "\t 1993                                                          & y                                                             & 1/0/T/F/TRUE/FALSE                                            & 2016-04-23                                                    & '/anaconda3/envs/r/lib/R/library/readr/extdata/challenge.csv'\\\\\n",
       "\t 1994                                                          & y                                                             & 1/0/T/F/TRUE/FALSE                                            & 2016-08-10                                                    & '/anaconda3/envs/r/lib/R/library/readr/extdata/challenge.csv'\\\\\n",
       "\t 1995                                                          & y                                                             & 1/0/T/F/TRUE/FALSE                                            & 2019-11-21                                                    & '/anaconda3/envs/r/lib/R/library/readr/extdata/challenge.csv'\\\\\n",
       "\t 1996                                                          & y                                                             & 1/0/T/F/TRUE/FALSE                                            & 2018-03-29                                                    & '/anaconda3/envs/r/lib/R/library/readr/extdata/challenge.csv'\\\\\n",
       "\t 1997                                                          & y                                                             & 1/0/T/F/TRUE/FALSE                                            & 2014-08-04                                                    & '/anaconda3/envs/r/lib/R/library/readr/extdata/challenge.csv'\\\\\n",
       "\t 1998                                                          & y                                                             & 1/0/T/F/TRUE/FALSE                                            & 2015-08-16                                                    & '/anaconda3/envs/r/lib/R/library/readr/extdata/challenge.csv'\\\\\n",
       "\t 1999                                                          & y                                                             & 1/0/T/F/TRUE/FALSE                                            & 2020-02-04                                                    & '/anaconda3/envs/r/lib/R/library/readr/extdata/challenge.csv'\\\\\n",
       "\t 2000                                                          & y                                                             & 1/0/T/F/TRUE/FALSE                                            & 2019-01-06                                                    & '/anaconda3/envs/r/lib/R/library/readr/extdata/challenge.csv'\\\\\n",
       "\\end{tabular}\n"
      ],
      "text/markdown": [
       "\n",
       "| row | col | expected | actual | file |\n",
       "|---|---|---|---|---|\n",
       "| 1001                                                          | y                                                             | 1/0/T/F/TRUE/FALSE                                            | 2015-01-16                                                    | '/anaconda3/envs/r/lib/R/library/readr/extdata/challenge.csv' |\n",
       "| 1002                                                          | y                                                             | 1/0/T/F/TRUE/FALSE                                            | 2018-05-18                                                    | '/anaconda3/envs/r/lib/R/library/readr/extdata/challenge.csv' |\n",
       "| 1003                                                          | y                                                             | 1/0/T/F/TRUE/FALSE                                            | 2015-09-05                                                    | '/anaconda3/envs/r/lib/R/library/readr/extdata/challenge.csv' |\n",
       "| 1004                                                          | y                                                             | 1/0/T/F/TRUE/FALSE                                            | 2012-11-28                                                    | '/anaconda3/envs/r/lib/R/library/readr/extdata/challenge.csv' |\n",
       "| 1005                                                          | y                                                             | 1/0/T/F/TRUE/FALSE                                            | 2020-01-13                                                    | '/anaconda3/envs/r/lib/R/library/readr/extdata/challenge.csv' |\n",
       "| 1006                                                          | y                                                             | 1/0/T/F/TRUE/FALSE                                            | 2016-04-17                                                    | '/anaconda3/envs/r/lib/R/library/readr/extdata/challenge.csv' |\n",
       "| 1007                                                          | y                                                             | 1/0/T/F/TRUE/FALSE                                            | 2011-05-14                                                    | '/anaconda3/envs/r/lib/R/library/readr/extdata/challenge.csv' |\n",
       "| 1008                                                          | y                                                             | 1/0/T/F/TRUE/FALSE                                            | 2020-07-18                                                    | '/anaconda3/envs/r/lib/R/library/readr/extdata/challenge.csv' |\n",
       "| 1009                                                          | y                                                             | 1/0/T/F/TRUE/FALSE                                            | 2011-04-30                                                    | '/anaconda3/envs/r/lib/R/library/readr/extdata/challenge.csv' |\n",
       "| 1010                                                          | y                                                             | 1/0/T/F/TRUE/FALSE                                            | 2010-05-11                                                    | '/anaconda3/envs/r/lib/R/library/readr/extdata/challenge.csv' |\n",
       "| 1011                                                          | y                                                             | 1/0/T/F/TRUE/FALSE                                            | 2014-11-02                                                    | '/anaconda3/envs/r/lib/R/library/readr/extdata/challenge.csv' |\n",
       "| 1012                                                          | y                                                             | 1/0/T/F/TRUE/FALSE                                            | 2014-06-23                                                    | '/anaconda3/envs/r/lib/R/library/readr/extdata/challenge.csv' |\n",
       "| 1013                                                          | y                                                             | 1/0/T/F/TRUE/FALSE                                            | 2017-05-31                                                    | '/anaconda3/envs/r/lib/R/library/readr/extdata/challenge.csv' |\n",
       "| 1014                                                          | y                                                             | 1/0/T/F/TRUE/FALSE                                            | 2017-11-18                                                    | '/anaconda3/envs/r/lib/R/library/readr/extdata/challenge.csv' |\n",
       "| 1015                                                          | y                                                             | 1/0/T/F/TRUE/FALSE                                            | 2013-04-20                                                    | '/anaconda3/envs/r/lib/R/library/readr/extdata/challenge.csv' |\n",
       "| 1016                                                          | y                                                             | 1/0/T/F/TRUE/FALSE                                            | 2010-12-11                                                    | '/anaconda3/envs/r/lib/R/library/readr/extdata/challenge.csv' |\n",
       "| 1017                                                          | y                                                             | 1/0/T/F/TRUE/FALSE                                            | 2022-10-10                                                    | '/anaconda3/envs/r/lib/R/library/readr/extdata/challenge.csv' |\n",
       "| 1018                                                          | y                                                             | 1/0/T/F/TRUE/FALSE                                            | 2010-11-11                                                    | '/anaconda3/envs/r/lib/R/library/readr/extdata/challenge.csv' |\n",
       "| 1019                                                          | y                                                             | 1/0/T/F/TRUE/FALSE                                            | 2015-03-22                                                    | '/anaconda3/envs/r/lib/R/library/readr/extdata/challenge.csv' |\n",
       "| 1020                                                          | y                                                             | 1/0/T/F/TRUE/FALSE                                            | 2013-12-25                                                    | '/anaconda3/envs/r/lib/R/library/readr/extdata/challenge.csv' |\n",
       "| 1021                                                          | y                                                             | 1/0/T/F/TRUE/FALSE                                            | 2011-02-27                                                    | '/anaconda3/envs/r/lib/R/library/readr/extdata/challenge.csv' |\n",
       "| 1022                                                          | y                                                             | 1/0/T/F/TRUE/FALSE                                            | 2015-12-14                                                    | '/anaconda3/envs/r/lib/R/library/readr/extdata/challenge.csv' |\n",
       "| 1023                                                          | y                                                             | 1/0/T/F/TRUE/FALSE                                            | 2021-02-10                                                    | '/anaconda3/envs/r/lib/R/library/readr/extdata/challenge.csv' |\n",
       "| 1024                                                          | y                                                             | 1/0/T/F/TRUE/FALSE                                            | 2012-11-28                                                    | '/anaconda3/envs/r/lib/R/library/readr/extdata/challenge.csv' |\n",
       "| 1025                                                          | y                                                             | 1/0/T/F/TRUE/FALSE                                            | 2020-04-04                                                    | '/anaconda3/envs/r/lib/R/library/readr/extdata/challenge.csv' |\n",
       "| 1026                                                          | y                                                             | 1/0/T/F/TRUE/FALSE                                            | 2021-04-08                                                    | '/anaconda3/envs/r/lib/R/library/readr/extdata/challenge.csv' |\n",
       "| 1027                                                          | y                                                             | 1/0/T/F/TRUE/FALSE                                            | 2022-03-13                                                    | '/anaconda3/envs/r/lib/R/library/readr/extdata/challenge.csv' |\n",
       "| 1028                                                          | y                                                             | 1/0/T/F/TRUE/FALSE                                            | 2010-03-28                                                    | '/anaconda3/envs/r/lib/R/library/readr/extdata/challenge.csv' |\n",
       "| 1029                                                          | y                                                             | 1/0/T/F/TRUE/FALSE                                            | 2023-01-04                                                    | '/anaconda3/envs/r/lib/R/library/readr/extdata/challenge.csv' |\n",
       "| 1030                                                          | y                                                             | 1/0/T/F/TRUE/FALSE                                            | 2012-04-02                                                    | '/anaconda3/envs/r/lib/R/library/readr/extdata/challenge.csv' |\n",
       "| ... | ... | ... | ... | ... |\n",
       "| 1971                                                          | y                                                             | 1/0/T/F/TRUE/FALSE                                            | 2020-06-10                                                    | '/anaconda3/envs/r/lib/R/library/readr/extdata/challenge.csv' |\n",
       "| 1972                                                          | y                                                             | 1/0/T/F/TRUE/FALSE                                            | 2013-11-08                                                    | '/anaconda3/envs/r/lib/R/library/readr/extdata/challenge.csv' |\n",
       "| 1973                                                          | y                                                             | 1/0/T/F/TRUE/FALSE                                            | 2017-07-12                                                    | '/anaconda3/envs/r/lib/R/library/readr/extdata/challenge.csv' |\n",
       "| 1974                                                          | y                                                             | 1/0/T/F/TRUE/FALSE                                            | 2016-08-12                                                    | '/anaconda3/envs/r/lib/R/library/readr/extdata/challenge.csv' |\n",
       "| 1975                                                          | y                                                             | 1/0/T/F/TRUE/FALSE                                            | 2022-05-12                                                    | '/anaconda3/envs/r/lib/R/library/readr/extdata/challenge.csv' |\n",
       "| 1976                                                          | y                                                             | 1/0/T/F/TRUE/FALSE                                            | 2020-08-11                                                    | '/anaconda3/envs/r/lib/R/library/readr/extdata/challenge.csv' |\n",
       "| 1977                                                          | y                                                             | 1/0/T/F/TRUE/FALSE                                            | 2011-10-26                                                    | '/anaconda3/envs/r/lib/R/library/readr/extdata/challenge.csv' |\n",
       "| 1978                                                          | y                                                             | 1/0/T/F/TRUE/FALSE                                            | 2015-12-09                                                    | '/anaconda3/envs/r/lib/R/library/readr/extdata/challenge.csv' |\n",
       "| 1979                                                          | y                                                             | 1/0/T/F/TRUE/FALSE                                            | 2012-09-27                                                    | '/anaconda3/envs/r/lib/R/library/readr/extdata/challenge.csv' |\n",
       "| 1980                                                          | y                                                             | 1/0/T/F/TRUE/FALSE                                            | 2013-02-04                                                    | '/anaconda3/envs/r/lib/R/library/readr/extdata/challenge.csv' |\n",
       "| 1981                                                          | y                                                             | 1/0/T/F/TRUE/FALSE                                            | 2010-11-29                                                    | '/anaconda3/envs/r/lib/R/library/readr/extdata/challenge.csv' |\n",
       "| 1982                                                          | y                                                             | 1/0/T/F/TRUE/FALSE                                            | 2013-10-16                                                    | '/anaconda3/envs/r/lib/R/library/readr/extdata/challenge.csv' |\n",
       "| 1983                                                          | y                                                             | 1/0/T/F/TRUE/FALSE                                            | 2015-04-26                                                    | '/anaconda3/envs/r/lib/R/library/readr/extdata/challenge.csv' |\n",
       "| 1984                                                          | y                                                             | 1/0/T/F/TRUE/FALSE                                            | 2011-04-12                                                    | '/anaconda3/envs/r/lib/R/library/readr/extdata/challenge.csv' |\n",
       "| 1985                                                          | y                                                             | 1/0/T/F/TRUE/FALSE                                            | 2017-01-30                                                    | '/anaconda3/envs/r/lib/R/library/readr/extdata/challenge.csv' |\n",
       "| 1986                                                          | y                                                             | 1/0/T/F/TRUE/FALSE                                            | 2014-06-08                                                    | '/anaconda3/envs/r/lib/R/library/readr/extdata/challenge.csv' |\n",
       "| 1987                                                          | y                                                             | 1/0/T/F/TRUE/FALSE                                            | 2016-10-19                                                    | '/anaconda3/envs/r/lib/R/library/readr/extdata/challenge.csv' |\n",
       "| 1988                                                          | y                                                             | 1/0/T/F/TRUE/FALSE                                            | 2023-09-01                                                    | '/anaconda3/envs/r/lib/R/library/readr/extdata/challenge.csv' |\n",
       "| 1989                                                          | y                                                             | 1/0/T/F/TRUE/FALSE                                            | 2010-01-09                                                    | '/anaconda3/envs/r/lib/R/library/readr/extdata/challenge.csv' |\n",
       "| 1990                                                          | y                                                             | 1/0/T/F/TRUE/FALSE                                            | 2020-01-11                                                    | '/anaconda3/envs/r/lib/R/library/readr/extdata/challenge.csv' |\n",
       "| 1991                                                          | y                                                             | 1/0/T/F/TRUE/FALSE                                            | 2016-12-16                                                    | '/anaconda3/envs/r/lib/R/library/readr/extdata/challenge.csv' |\n",
       "| 1992                                                          | y                                                             | 1/0/T/F/TRUE/FALSE                                            | 2010-01-03                                                    | '/anaconda3/envs/r/lib/R/library/readr/extdata/challenge.csv' |\n",
       "| 1993                                                          | y                                                             | 1/0/T/F/TRUE/FALSE                                            | 2016-04-23                                                    | '/anaconda3/envs/r/lib/R/library/readr/extdata/challenge.csv' |\n",
       "| 1994                                                          | y                                                             | 1/0/T/F/TRUE/FALSE                                            | 2016-08-10                                                    | '/anaconda3/envs/r/lib/R/library/readr/extdata/challenge.csv' |\n",
       "| 1995                                                          | y                                                             | 1/0/T/F/TRUE/FALSE                                            | 2019-11-21                                                    | '/anaconda3/envs/r/lib/R/library/readr/extdata/challenge.csv' |\n",
       "| 1996                                                          | y                                                             | 1/0/T/F/TRUE/FALSE                                            | 2018-03-29                                                    | '/anaconda3/envs/r/lib/R/library/readr/extdata/challenge.csv' |\n",
       "| 1997                                                          | y                                                             | 1/0/T/F/TRUE/FALSE                                            | 2014-08-04                                                    | '/anaconda3/envs/r/lib/R/library/readr/extdata/challenge.csv' |\n",
       "| 1998                                                          | y                                                             | 1/0/T/F/TRUE/FALSE                                            | 2015-08-16                                                    | '/anaconda3/envs/r/lib/R/library/readr/extdata/challenge.csv' |\n",
       "| 1999                                                          | y                                                             | 1/0/T/F/TRUE/FALSE                                            | 2020-02-04                                                    | '/anaconda3/envs/r/lib/R/library/readr/extdata/challenge.csv' |\n",
       "| 2000                                                          | y                                                             | 1/0/T/F/TRUE/FALSE                                            | 2019-01-06                                                    | '/anaconda3/envs/r/lib/R/library/readr/extdata/challenge.csv' |\n",
       "\n"
      ],
      "text/plain": [
       "     row  col expected           actual    \n",
       "1    1001 y   1/0/T/F/TRUE/FALSE 2015-01-16\n",
       "2    1002 y   1/0/T/F/TRUE/FALSE 2018-05-18\n",
       "3    1003 y   1/0/T/F/TRUE/FALSE 2015-09-05\n",
       "4    1004 y   1/0/T/F/TRUE/FALSE 2012-11-28\n",
       "5    1005 y   1/0/T/F/TRUE/FALSE 2020-01-13\n",
       "6    1006 y   1/0/T/F/TRUE/FALSE 2016-04-17\n",
       "7    1007 y   1/0/T/F/TRUE/FALSE 2011-05-14\n",
       "8    1008 y   1/0/T/F/TRUE/FALSE 2020-07-18\n",
       "9    1009 y   1/0/T/F/TRUE/FALSE 2011-04-30\n",
       "10   1010 y   1/0/T/F/TRUE/FALSE 2010-05-11\n",
       "11   1011 y   1/0/T/F/TRUE/FALSE 2014-11-02\n",
       "12   1012 y   1/0/T/F/TRUE/FALSE 2014-06-23\n",
       "13   1013 y   1/0/T/F/TRUE/FALSE 2017-05-31\n",
       "14   1014 y   1/0/T/F/TRUE/FALSE 2017-11-18\n",
       "15   1015 y   1/0/T/F/TRUE/FALSE 2013-04-20\n",
       "16   1016 y   1/0/T/F/TRUE/FALSE 2010-12-11\n",
       "17   1017 y   1/0/T/F/TRUE/FALSE 2022-10-10\n",
       "18   1018 y   1/0/T/F/TRUE/FALSE 2010-11-11\n",
       "19   1019 y   1/0/T/F/TRUE/FALSE 2015-03-22\n",
       "20   1020 y   1/0/T/F/TRUE/FALSE 2013-12-25\n",
       "21   1021 y   1/0/T/F/TRUE/FALSE 2011-02-27\n",
       "22   1022 y   1/0/T/F/TRUE/FALSE 2015-12-14\n",
       "23   1023 y   1/0/T/F/TRUE/FALSE 2021-02-10\n",
       "24   1024 y   1/0/T/F/TRUE/FALSE 2012-11-28\n",
       "25   1025 y   1/0/T/F/TRUE/FALSE 2020-04-04\n",
       "26   1026 y   1/0/T/F/TRUE/FALSE 2021-04-08\n",
       "27   1027 y   1/0/T/F/TRUE/FALSE 2022-03-13\n",
       "28   1028 y   1/0/T/F/TRUE/FALSE 2010-03-28\n",
       "29   1029 y   1/0/T/F/TRUE/FALSE 2023-01-04\n",
       "30   1030 y   1/0/T/F/TRUE/FALSE 2012-04-02\n",
       "...  ...  ... ...                ...       \n",
       "971  1971 y   1/0/T/F/TRUE/FALSE 2020-06-10\n",
       "972  1972 y   1/0/T/F/TRUE/FALSE 2013-11-08\n",
       "973  1973 y   1/0/T/F/TRUE/FALSE 2017-07-12\n",
       "974  1974 y   1/0/T/F/TRUE/FALSE 2016-08-12\n",
       "975  1975 y   1/0/T/F/TRUE/FALSE 2022-05-12\n",
       "976  1976 y   1/0/T/F/TRUE/FALSE 2020-08-11\n",
       "977  1977 y   1/0/T/F/TRUE/FALSE 2011-10-26\n",
       "978  1978 y   1/0/T/F/TRUE/FALSE 2015-12-09\n",
       "979  1979 y   1/0/T/F/TRUE/FALSE 2012-09-27\n",
       "980  1980 y   1/0/T/F/TRUE/FALSE 2013-02-04\n",
       "981  1981 y   1/0/T/F/TRUE/FALSE 2010-11-29\n",
       "982  1982 y   1/0/T/F/TRUE/FALSE 2013-10-16\n",
       "983  1983 y   1/0/T/F/TRUE/FALSE 2015-04-26\n",
       "984  1984 y   1/0/T/F/TRUE/FALSE 2011-04-12\n",
       "985  1985 y   1/0/T/F/TRUE/FALSE 2017-01-30\n",
       "986  1986 y   1/0/T/F/TRUE/FALSE 2014-06-08\n",
       "987  1987 y   1/0/T/F/TRUE/FALSE 2016-10-19\n",
       "988  1988 y   1/0/T/F/TRUE/FALSE 2023-09-01\n",
       "989  1989 y   1/0/T/F/TRUE/FALSE 2010-01-09\n",
       "990  1990 y   1/0/T/F/TRUE/FALSE 2020-01-11\n",
       "991  1991 y   1/0/T/F/TRUE/FALSE 2016-12-16\n",
       "992  1992 y   1/0/T/F/TRUE/FALSE 2010-01-03\n",
       "993  1993 y   1/0/T/F/TRUE/FALSE 2016-04-23\n",
       "994  1994 y   1/0/T/F/TRUE/FALSE 2016-08-10\n",
       "995  1995 y   1/0/T/F/TRUE/FALSE 2019-11-21\n",
       "996  1996 y   1/0/T/F/TRUE/FALSE 2018-03-29\n",
       "997  1997 y   1/0/T/F/TRUE/FALSE 2014-08-04\n",
       "998  1998 y   1/0/T/F/TRUE/FALSE 2015-08-16\n",
       "999  1999 y   1/0/T/F/TRUE/FALSE 2020-02-04\n",
       "1000 2000 y   1/0/T/F/TRUE/FALSE 2019-01-06\n",
       "     file                                                         \n",
       "1    '/anaconda3/envs/r/lib/R/library/readr/extdata/challenge.csv'\n",
       "2    '/anaconda3/envs/r/lib/R/library/readr/extdata/challenge.csv'\n",
       "3    '/anaconda3/envs/r/lib/R/library/readr/extdata/challenge.csv'\n",
       "4    '/anaconda3/envs/r/lib/R/library/readr/extdata/challenge.csv'\n",
       "5    '/anaconda3/envs/r/lib/R/library/readr/extdata/challenge.csv'\n",
       "6    '/anaconda3/envs/r/lib/R/library/readr/extdata/challenge.csv'\n",
       "7    '/anaconda3/envs/r/lib/R/library/readr/extdata/challenge.csv'\n",
       "8    '/anaconda3/envs/r/lib/R/library/readr/extdata/challenge.csv'\n",
       "9    '/anaconda3/envs/r/lib/R/library/readr/extdata/challenge.csv'\n",
       "10   '/anaconda3/envs/r/lib/R/library/readr/extdata/challenge.csv'\n",
       "11   '/anaconda3/envs/r/lib/R/library/readr/extdata/challenge.csv'\n",
       "12   '/anaconda3/envs/r/lib/R/library/readr/extdata/challenge.csv'\n",
       "13   '/anaconda3/envs/r/lib/R/library/readr/extdata/challenge.csv'\n",
       "14   '/anaconda3/envs/r/lib/R/library/readr/extdata/challenge.csv'\n",
       "15   '/anaconda3/envs/r/lib/R/library/readr/extdata/challenge.csv'\n",
       "16   '/anaconda3/envs/r/lib/R/library/readr/extdata/challenge.csv'\n",
       "17   '/anaconda3/envs/r/lib/R/library/readr/extdata/challenge.csv'\n",
       "18   '/anaconda3/envs/r/lib/R/library/readr/extdata/challenge.csv'\n",
       "19   '/anaconda3/envs/r/lib/R/library/readr/extdata/challenge.csv'\n",
       "20   '/anaconda3/envs/r/lib/R/library/readr/extdata/challenge.csv'\n",
       "21   '/anaconda3/envs/r/lib/R/library/readr/extdata/challenge.csv'\n",
       "22   '/anaconda3/envs/r/lib/R/library/readr/extdata/challenge.csv'\n",
       "23   '/anaconda3/envs/r/lib/R/library/readr/extdata/challenge.csv'\n",
       "24   '/anaconda3/envs/r/lib/R/library/readr/extdata/challenge.csv'\n",
       "25   '/anaconda3/envs/r/lib/R/library/readr/extdata/challenge.csv'\n",
       "26   '/anaconda3/envs/r/lib/R/library/readr/extdata/challenge.csv'\n",
       "27   '/anaconda3/envs/r/lib/R/library/readr/extdata/challenge.csv'\n",
       "28   '/anaconda3/envs/r/lib/R/library/readr/extdata/challenge.csv'\n",
       "29   '/anaconda3/envs/r/lib/R/library/readr/extdata/challenge.csv'\n",
       "30   '/anaconda3/envs/r/lib/R/library/readr/extdata/challenge.csv'\n",
       "...  ...                                                          \n",
       "971  '/anaconda3/envs/r/lib/R/library/readr/extdata/challenge.csv'\n",
       "972  '/anaconda3/envs/r/lib/R/library/readr/extdata/challenge.csv'\n",
       "973  '/anaconda3/envs/r/lib/R/library/readr/extdata/challenge.csv'\n",
       "974  '/anaconda3/envs/r/lib/R/library/readr/extdata/challenge.csv'\n",
       "975  '/anaconda3/envs/r/lib/R/library/readr/extdata/challenge.csv'\n",
       "976  '/anaconda3/envs/r/lib/R/library/readr/extdata/challenge.csv'\n",
       "977  '/anaconda3/envs/r/lib/R/library/readr/extdata/challenge.csv'\n",
       "978  '/anaconda3/envs/r/lib/R/library/readr/extdata/challenge.csv'\n",
       "979  '/anaconda3/envs/r/lib/R/library/readr/extdata/challenge.csv'\n",
       "980  '/anaconda3/envs/r/lib/R/library/readr/extdata/challenge.csv'\n",
       "981  '/anaconda3/envs/r/lib/R/library/readr/extdata/challenge.csv'\n",
       "982  '/anaconda3/envs/r/lib/R/library/readr/extdata/challenge.csv'\n",
       "983  '/anaconda3/envs/r/lib/R/library/readr/extdata/challenge.csv'\n",
       "984  '/anaconda3/envs/r/lib/R/library/readr/extdata/challenge.csv'\n",
       "985  '/anaconda3/envs/r/lib/R/library/readr/extdata/challenge.csv'\n",
       "986  '/anaconda3/envs/r/lib/R/library/readr/extdata/challenge.csv'\n",
       "987  '/anaconda3/envs/r/lib/R/library/readr/extdata/challenge.csv'\n",
       "988  '/anaconda3/envs/r/lib/R/library/readr/extdata/challenge.csv'\n",
       "989  '/anaconda3/envs/r/lib/R/library/readr/extdata/challenge.csv'\n",
       "990  '/anaconda3/envs/r/lib/R/library/readr/extdata/challenge.csv'\n",
       "991  '/anaconda3/envs/r/lib/R/library/readr/extdata/challenge.csv'\n",
       "992  '/anaconda3/envs/r/lib/R/library/readr/extdata/challenge.csv'\n",
       "993  '/anaconda3/envs/r/lib/R/library/readr/extdata/challenge.csv'\n",
       "994  '/anaconda3/envs/r/lib/R/library/readr/extdata/challenge.csv'\n",
       "995  '/anaconda3/envs/r/lib/R/library/readr/extdata/challenge.csv'\n",
       "996  '/anaconda3/envs/r/lib/R/library/readr/extdata/challenge.csv'\n",
       "997  '/anaconda3/envs/r/lib/R/library/readr/extdata/challenge.csv'\n",
       "998  '/anaconda3/envs/r/lib/R/library/readr/extdata/challenge.csv'\n",
       "999  '/anaconda3/envs/r/lib/R/library/readr/extdata/challenge.csv'\n",
       "1000 '/anaconda3/envs/r/lib/R/library/readr/extdata/challenge.csv'"
      ]
     },
     "metadata": {},
     "output_type": "display_data"
    }
   ],
   "source": [
    "problems(challenge)"
   ]
  },
  {
   "cell_type": "raw",
   "metadata": {},
   "source": [
    "A good strategy is to work column by column until there are no problems remaining. Here we can see that there are a lot of parsing problems with the x column - there are trailing characters after the integer value. That suggests we need to use a double parser instead.\n",
    "\n",
    "To fix the call, start by copying and pasting the column specification into your original call:"
   ]
  },
  {
   "cell_type": "code",
   "execution_count": 68,
   "metadata": {},
   "outputs": [
    {
     "name": "stderr",
     "output_type": "stream",
     "text": [
      "Warning message:\n",
      "“1000 parsing failures.\n",
      " row col               expected             actual                                                          file\n",
      "1001   x no trailing characters .23837975086644292 '/anaconda3/envs/r/lib/R/library/readr/extdata/challenge.csv'\n",
      "1002   x no trailing characters .41167997173033655 '/anaconda3/envs/r/lib/R/library/readr/extdata/challenge.csv'\n",
      "1003   x no trailing characters .7460716762579978  '/anaconda3/envs/r/lib/R/library/readr/extdata/challenge.csv'\n",
      "1004   x no trailing characters .723450553836301   '/anaconda3/envs/r/lib/R/library/readr/extdata/challenge.csv'\n",
      "1005   x no trailing characters .614524137461558   '/anaconda3/envs/r/lib/R/library/readr/extdata/challenge.csv'\n",
      ".... ... ...................... .................. .............................................................\n",
      "See problems(...) for more details.\n",
      "”"
     ]
    }
   ],
   "source": [
    "challenge <- read_csv(\n",
    "  readr_example(\"challenge.csv\"), \n",
    "  col_types = cols(\n",
    "    x = col_integer(),\n",
    "    y = col_character()\n",
    "  )\n",
    ")"
   ]
  },
  {
   "cell_type": "raw",
   "metadata": {},
   "source": [
    "Then you can tweak the type of the x column:"
   ]
  },
  {
   "cell_type": "code",
   "execution_count": 69,
   "metadata": {},
   "outputs": [],
   "source": [
    "challenge <- read_csv(\n",
    "  readr_example(\"challenge.csv\"), \n",
    "  col_types = cols(\n",
    "    x = col_double(),\n",
    "    y = col_character()\n",
    "  )\n",
    ")"
   ]
  },
  {
   "cell_type": "raw",
   "metadata": {},
   "source": [
    "That fixes the first problem, but if we look at the last few rows, you’ll see that they’re dates stored in a character vector:"
   ]
  },
  {
   "cell_type": "code",
   "execution_count": 70,
   "metadata": {},
   "outputs": [
    {
     "data": {
      "text/html": [
       "<table>\n",
       "<thead><tr><th scope=col>x</th><th scope=col>y</th></tr></thead>\n",
       "<tbody>\n",
       "\t<tr><td>0.8052743 </td><td>2019-11-21</td></tr>\n",
       "\t<tr><td>0.1635163 </td><td>2018-03-29</td></tr>\n",
       "\t<tr><td>0.4719390 </td><td>2014-08-04</td></tr>\n",
       "\t<tr><td>0.7183186 </td><td>2015-08-16</td></tr>\n",
       "\t<tr><td>0.2698786 </td><td>2020-02-04</td></tr>\n",
       "\t<tr><td>0.6082372 </td><td>2019-01-06</td></tr>\n",
       "</tbody>\n",
       "</table>\n"
      ],
      "text/latex": [
       "\\begin{tabular}{r|ll}\n",
       " x & y\\\\\n",
       "\\hline\n",
       "\t 0.8052743  & 2019-11-21\\\\\n",
       "\t 0.1635163  & 2018-03-29\\\\\n",
       "\t 0.4719390  & 2014-08-04\\\\\n",
       "\t 0.7183186  & 2015-08-16\\\\\n",
       "\t 0.2698786  & 2020-02-04\\\\\n",
       "\t 0.6082372  & 2019-01-06\\\\\n",
       "\\end{tabular}\n"
      ],
      "text/markdown": [
       "\n",
       "| x | y |\n",
       "|---|---|\n",
       "| 0.8052743  | 2019-11-21 |\n",
       "| 0.1635163  | 2018-03-29 |\n",
       "| 0.4719390  | 2014-08-04 |\n",
       "| 0.7183186  | 2015-08-16 |\n",
       "| 0.2698786  | 2020-02-04 |\n",
       "| 0.6082372  | 2019-01-06 |\n",
       "\n"
      ],
      "text/plain": [
       "  x         y         \n",
       "1 0.8052743 2019-11-21\n",
       "2 0.1635163 2018-03-29\n",
       "3 0.4719390 2014-08-04\n",
       "4 0.7183186 2015-08-16\n",
       "5 0.2698786 2020-02-04\n",
       "6 0.6082372 2019-01-06"
      ]
     },
     "metadata": {},
     "output_type": "display_data"
    }
   ],
   "source": [
    "tail(challenge)"
   ]
  },
  {
   "cell_type": "raw",
   "metadata": {},
   "source": [
    "You can fix that by specifying that y is a date column:"
   ]
  },
  {
   "cell_type": "code",
   "execution_count": 71,
   "metadata": {},
   "outputs": [
    {
     "data": {
      "text/html": [
       "<table>\n",
       "<thead><tr><th scope=col>x</th><th scope=col>y</th></tr></thead>\n",
       "<tbody>\n",
       "\t<tr><td>0.8052743 </td><td>2019-11-21</td></tr>\n",
       "\t<tr><td>0.1635163 </td><td>2018-03-29</td></tr>\n",
       "\t<tr><td>0.4719390 </td><td>2014-08-04</td></tr>\n",
       "\t<tr><td>0.7183186 </td><td>2015-08-16</td></tr>\n",
       "\t<tr><td>0.2698786 </td><td>2020-02-04</td></tr>\n",
       "\t<tr><td>0.6082372 </td><td>2019-01-06</td></tr>\n",
       "</tbody>\n",
       "</table>\n"
      ],
      "text/latex": [
       "\\begin{tabular}{r|ll}\n",
       " x & y\\\\\n",
       "\\hline\n",
       "\t 0.8052743  & 2019-11-21\\\\\n",
       "\t 0.1635163  & 2018-03-29\\\\\n",
       "\t 0.4719390  & 2014-08-04\\\\\n",
       "\t 0.7183186  & 2015-08-16\\\\\n",
       "\t 0.2698786  & 2020-02-04\\\\\n",
       "\t 0.6082372  & 2019-01-06\\\\\n",
       "\\end{tabular}\n"
      ],
      "text/markdown": [
       "\n",
       "| x | y |\n",
       "|---|---|\n",
       "| 0.8052743  | 2019-11-21 |\n",
       "| 0.1635163  | 2018-03-29 |\n",
       "| 0.4719390  | 2014-08-04 |\n",
       "| 0.7183186  | 2015-08-16 |\n",
       "| 0.2698786  | 2020-02-04 |\n",
       "| 0.6082372  | 2019-01-06 |\n",
       "\n"
      ],
      "text/plain": [
       "  x         y         \n",
       "1 0.8052743 2019-11-21\n",
       "2 0.1635163 2018-03-29\n",
       "3 0.4719390 2014-08-04\n",
       "4 0.7183186 2015-08-16\n",
       "5 0.2698786 2020-02-04\n",
       "6 0.6082372 2019-01-06"
      ]
     },
     "metadata": {},
     "output_type": "display_data"
    }
   ],
   "source": [
    "challenge <- read_csv(\n",
    "  readr_example(\"challenge.csv\"), \n",
    "  col_types = cols(\n",
    "    x = col_double(),\n",
    "    y = col_date()\n",
    "  )\n",
    ")\n",
    "tail(challenge)"
   ]
  },
  {
   "cell_type": "raw",
   "metadata": {},
   "source": [
    "stop_for_problems\n",
    "parse_xyz\n",
    "col_xyz\n",
    "\n",
    "Every parse_xyz() function has a corresponding col_xyz() function. You use parse_xyz() when the data is in a character vector in R already; you use col_xyz() when you want to tell readr how to load the data.\n",
    "\n",
    "I highly recommend always supplying col_types, building up from the print-out provided by readr. This ensures that you have a consistent and reproducible data import script. If you rely on the default guesses and your data changes, readr will continue to read it in. If you want to be really strict, use stop_for_problems(): that will throw an error and stop your script if there are any parsing problems."
   ]
  },
  {
   "cell_type": "raw",
   "metadata": {},
   "source": [
    "11.4.3 Other strategies"
   ]
  },
  {
   "cell_type": "raw",
   "metadata": {},
   "source": [
    "There are a few other general strategies to help you parse files:\n",
    "\n",
    "In the previous example, we just got unlucky: if we look at just one more row than the default, we can correctly parse in one shot:"
   ]
  },
  {
   "cell_type": "code",
   "execution_count": 72,
   "metadata": {},
   "outputs": [
    {
     "name": "stderr",
     "output_type": "stream",
     "text": [
      "Parsed with column specification:\n",
      "cols(\n",
      "  x = col_double(),\n",
      "  y = col_date(format = \"\")\n",
      ")\n"
     ]
    },
    {
     "data": {
      "text/html": [
       "<table>\n",
       "<thead><tr><th scope=col>x</th><th scope=col>y</th></tr></thead>\n",
       "<tbody>\n",
       "\t<tr><td> 404</td><td>NA  </td></tr>\n",
       "\t<tr><td>4172</td><td>NA  </td></tr>\n",
       "\t<tr><td>3004</td><td>NA  </td></tr>\n",
       "\t<tr><td> 787</td><td>NA  </td></tr>\n",
       "\t<tr><td>  37</td><td>NA  </td></tr>\n",
       "\t<tr><td>2332</td><td>NA  </td></tr>\n",
       "\t<tr><td>2489</td><td>NA  </td></tr>\n",
       "\t<tr><td>1449</td><td>NA  </td></tr>\n",
       "\t<tr><td>3665</td><td>NA  </td></tr>\n",
       "\t<tr><td>3863</td><td>NA  </td></tr>\n",
       "\t<tr><td>4374</td><td>NA  </td></tr>\n",
       "\t<tr><td> 875</td><td>NA  </td></tr>\n",
       "\t<tr><td> 172</td><td>NA  </td></tr>\n",
       "\t<tr><td>1602</td><td>NA  </td></tr>\n",
       "\t<tr><td>2012</td><td>NA  </td></tr>\n",
       "\t<tr><td> 979</td><td>NA  </td></tr>\n",
       "\t<tr><td>2018</td><td>NA  </td></tr>\n",
       "\t<tr><td> 319</td><td>NA  </td></tr>\n",
       "\t<tr><td>1944</td><td>NA  </td></tr>\n",
       "\t<tr><td>4878</td><td>NA  </td></tr>\n",
       "\t<tr><td>1450</td><td>NA  </td></tr>\n",
       "\t<tr><td>3392</td><td>NA  </td></tr>\n",
       "\t<tr><td>3677</td><td>NA  </td></tr>\n",
       "\t<tr><td> 980</td><td>NA  </td></tr>\n",
       "\t<tr><td>4903</td><td>NA  </td></tr>\n",
       "\t<tr><td>3708</td><td>NA  </td></tr>\n",
       "\t<tr><td> 258</td><td>NA  </td></tr>\n",
       "\t<tr><td>2652</td><td>NA  </td></tr>\n",
       "\t<tr><td>3480</td><td>NA  </td></tr>\n",
       "\t<tr><td>3443</td><td>NA  </td></tr>\n",
       "\t<tr><td>...</td><td>...</td></tr>\n",
       "\t<tr><td>0.14324546</td><td>2020-06-10</td></tr>\n",
       "\t<tr><td>0.42678032</td><td>2013-11-08</td></tr>\n",
       "\t<tr><td>0.56445359</td><td>2017-07-12</td></tr>\n",
       "\t<tr><td>0.18729942</td><td>2016-08-12</td></tr>\n",
       "\t<tr><td>0.60274952</td><td>2022-05-12</td></tr>\n",
       "\t<tr><td>0.73487829</td><td>2020-08-11</td></tr>\n",
       "\t<tr><td>0.06834881</td><td>2011-10-26</td></tr>\n",
       "\t<tr><td>0.78291796</td><td>2015-12-09</td></tr>\n",
       "\t<tr><td>0.92149271</td><td>2012-09-27</td></tr>\n",
       "\t<tr><td>0.04428217</td><td>2013-02-04</td></tr>\n",
       "\t<tr><td>0.71311485</td><td>2010-11-29</td></tr>\n",
       "\t<tr><td>0.90388602</td><td>2013-10-16</td></tr>\n",
       "\t<tr><td>0.73958150</td><td>2015-04-26</td></tr>\n",
       "\t<tr><td>0.17217563</td><td>2011-04-12</td></tr>\n",
       "\t<tr><td>0.18658998</td><td>2017-01-30</td></tr>\n",
       "\t<tr><td>0.38248836</td><td>2014-06-08</td></tr>\n",
       "\t<tr><td>0.45361328</td><td>2016-10-19</td></tr>\n",
       "\t<tr><td>0.45513148</td><td>2023-09-01</td></tr>\n",
       "\t<tr><td>0.17310278</td><td>2010-01-09</td></tr>\n",
       "\t<tr><td>0.30541726</td><td>2020-01-11</td></tr>\n",
       "\t<tr><td>0.86775210</td><td>2016-12-16</td></tr>\n",
       "\t<tr><td>0.26023225</td><td>2010-01-03</td></tr>\n",
       "\t<tr><td>0.68087076</td><td>2016-04-23</td></tr>\n",
       "\t<tr><td>0.85357656</td><td>2016-08-10</td></tr>\n",
       "\t<tr><td>0.80527431</td><td>2019-11-21</td></tr>\n",
       "\t<tr><td>0.16351634</td><td>2018-03-29</td></tr>\n",
       "\t<tr><td>0.47193898</td><td>2014-08-04</td></tr>\n",
       "\t<tr><td>0.71831865</td><td>2015-08-16</td></tr>\n",
       "\t<tr><td>0.26987859</td><td>2020-02-04</td></tr>\n",
       "\t<tr><td>0.60823719</td><td>2019-01-06</td></tr>\n",
       "</tbody>\n",
       "</table>\n"
      ],
      "text/latex": [
       "\\begin{tabular}{r|ll}\n",
       " x & y\\\\\n",
       "\\hline\n",
       "\t  404 & NA  \\\\\n",
       "\t 4172 & NA  \\\\\n",
       "\t 3004 & NA  \\\\\n",
       "\t  787 & NA  \\\\\n",
       "\t   37 & NA  \\\\\n",
       "\t 2332 & NA  \\\\\n",
       "\t 2489 & NA  \\\\\n",
       "\t 1449 & NA  \\\\\n",
       "\t 3665 & NA  \\\\\n",
       "\t 3863 & NA  \\\\\n",
       "\t 4374 & NA  \\\\\n",
       "\t  875 & NA  \\\\\n",
       "\t  172 & NA  \\\\\n",
       "\t 1602 & NA  \\\\\n",
       "\t 2012 & NA  \\\\\n",
       "\t  979 & NA  \\\\\n",
       "\t 2018 & NA  \\\\\n",
       "\t  319 & NA  \\\\\n",
       "\t 1944 & NA  \\\\\n",
       "\t 4878 & NA  \\\\\n",
       "\t 1450 & NA  \\\\\n",
       "\t 3392 & NA  \\\\\n",
       "\t 3677 & NA  \\\\\n",
       "\t  980 & NA  \\\\\n",
       "\t 4903 & NA  \\\\\n",
       "\t 3708 & NA  \\\\\n",
       "\t  258 & NA  \\\\\n",
       "\t 2652 & NA  \\\\\n",
       "\t 3480 & NA  \\\\\n",
       "\t 3443 & NA  \\\\\n",
       "\t ... & ...\\\\\n",
       "\t 0.14324546 & 2020-06-10\\\\\n",
       "\t 0.42678032 & 2013-11-08\\\\\n",
       "\t 0.56445359 & 2017-07-12\\\\\n",
       "\t 0.18729942 & 2016-08-12\\\\\n",
       "\t 0.60274952 & 2022-05-12\\\\\n",
       "\t 0.73487829 & 2020-08-11\\\\\n",
       "\t 0.06834881 & 2011-10-26\\\\\n",
       "\t 0.78291796 & 2015-12-09\\\\\n",
       "\t 0.92149271 & 2012-09-27\\\\\n",
       "\t 0.04428217 & 2013-02-04\\\\\n",
       "\t 0.71311485 & 2010-11-29\\\\\n",
       "\t 0.90388602 & 2013-10-16\\\\\n",
       "\t 0.73958150 & 2015-04-26\\\\\n",
       "\t 0.17217563 & 2011-04-12\\\\\n",
       "\t 0.18658998 & 2017-01-30\\\\\n",
       "\t 0.38248836 & 2014-06-08\\\\\n",
       "\t 0.45361328 & 2016-10-19\\\\\n",
       "\t 0.45513148 & 2023-09-01\\\\\n",
       "\t 0.17310278 & 2010-01-09\\\\\n",
       "\t 0.30541726 & 2020-01-11\\\\\n",
       "\t 0.86775210 & 2016-12-16\\\\\n",
       "\t 0.26023225 & 2010-01-03\\\\\n",
       "\t 0.68087076 & 2016-04-23\\\\\n",
       "\t 0.85357656 & 2016-08-10\\\\\n",
       "\t 0.80527431 & 2019-11-21\\\\\n",
       "\t 0.16351634 & 2018-03-29\\\\\n",
       "\t 0.47193898 & 2014-08-04\\\\\n",
       "\t 0.71831865 & 2015-08-16\\\\\n",
       "\t 0.26987859 & 2020-02-04\\\\\n",
       "\t 0.60823719 & 2019-01-06\\\\\n",
       "\\end{tabular}\n"
      ],
      "text/markdown": [
       "\n",
       "| x | y |\n",
       "|---|---|\n",
       "|  404 | NA   |\n",
       "| 4172 | NA   |\n",
       "| 3004 | NA   |\n",
       "|  787 | NA   |\n",
       "|   37 | NA   |\n",
       "| 2332 | NA   |\n",
       "| 2489 | NA   |\n",
       "| 1449 | NA   |\n",
       "| 3665 | NA   |\n",
       "| 3863 | NA   |\n",
       "| 4374 | NA   |\n",
       "|  875 | NA   |\n",
       "|  172 | NA   |\n",
       "| 1602 | NA   |\n",
       "| 2012 | NA   |\n",
       "|  979 | NA   |\n",
       "| 2018 | NA   |\n",
       "|  319 | NA   |\n",
       "| 1944 | NA   |\n",
       "| 4878 | NA   |\n",
       "| 1450 | NA   |\n",
       "| 3392 | NA   |\n",
       "| 3677 | NA   |\n",
       "|  980 | NA   |\n",
       "| 4903 | NA   |\n",
       "| 3708 | NA   |\n",
       "|  258 | NA   |\n",
       "| 2652 | NA   |\n",
       "| 3480 | NA   |\n",
       "| 3443 | NA   |\n",
       "| ... | ... |\n",
       "| 0.14324546 | 2020-06-10 |\n",
       "| 0.42678032 | 2013-11-08 |\n",
       "| 0.56445359 | 2017-07-12 |\n",
       "| 0.18729942 | 2016-08-12 |\n",
       "| 0.60274952 | 2022-05-12 |\n",
       "| 0.73487829 | 2020-08-11 |\n",
       "| 0.06834881 | 2011-10-26 |\n",
       "| 0.78291796 | 2015-12-09 |\n",
       "| 0.92149271 | 2012-09-27 |\n",
       "| 0.04428217 | 2013-02-04 |\n",
       "| 0.71311485 | 2010-11-29 |\n",
       "| 0.90388602 | 2013-10-16 |\n",
       "| 0.73958150 | 2015-04-26 |\n",
       "| 0.17217563 | 2011-04-12 |\n",
       "| 0.18658998 | 2017-01-30 |\n",
       "| 0.38248836 | 2014-06-08 |\n",
       "| 0.45361328 | 2016-10-19 |\n",
       "| 0.45513148 | 2023-09-01 |\n",
       "| 0.17310278 | 2010-01-09 |\n",
       "| 0.30541726 | 2020-01-11 |\n",
       "| 0.86775210 | 2016-12-16 |\n",
       "| 0.26023225 | 2010-01-03 |\n",
       "| 0.68087076 | 2016-04-23 |\n",
       "| 0.85357656 | 2016-08-10 |\n",
       "| 0.80527431 | 2019-11-21 |\n",
       "| 0.16351634 | 2018-03-29 |\n",
       "| 0.47193898 | 2014-08-04 |\n",
       "| 0.71831865 | 2015-08-16 |\n",
       "| 0.26987859 | 2020-02-04 |\n",
       "| 0.60823719 | 2019-01-06 |\n",
       "\n"
      ],
      "text/plain": [
       "     x          y         \n",
       "1     404       <NA>      \n",
       "2    4172       <NA>      \n",
       "3    3004       <NA>      \n",
       "4     787       <NA>      \n",
       "5      37       <NA>      \n",
       "6    2332       <NA>      \n",
       "7    2489       <NA>      \n",
       "8    1449       <NA>      \n",
       "9    3665       <NA>      \n",
       "10   3863       <NA>      \n",
       "11   4374       <NA>      \n",
       "12    875       <NA>      \n",
       "13    172       <NA>      \n",
       "14   1602       <NA>      \n",
       "15   2012       <NA>      \n",
       "16    979       <NA>      \n",
       "17   2018       <NA>      \n",
       "18    319       <NA>      \n",
       "19   1944       <NA>      \n",
       "20   4878       <NA>      \n",
       "21   1450       <NA>      \n",
       "22   3392       <NA>      \n",
       "23   3677       <NA>      \n",
       "24    980       <NA>      \n",
       "25   4903       <NA>      \n",
       "26   3708       <NA>      \n",
       "27    258       <NA>      \n",
       "28   2652       <NA>      \n",
       "29   3480       <NA>      \n",
       "30   3443       <NA>      \n",
       "...  ...        ...       \n",
       "1971 0.14324546 2020-06-10\n",
       "1972 0.42678032 2013-11-08\n",
       "1973 0.56445359 2017-07-12\n",
       "1974 0.18729942 2016-08-12\n",
       "1975 0.60274952 2022-05-12\n",
       "1976 0.73487829 2020-08-11\n",
       "1977 0.06834881 2011-10-26\n",
       "1978 0.78291796 2015-12-09\n",
       "1979 0.92149271 2012-09-27\n",
       "1980 0.04428217 2013-02-04\n",
       "1981 0.71311485 2010-11-29\n",
       "1982 0.90388602 2013-10-16\n",
       "1983 0.73958150 2015-04-26\n",
       "1984 0.17217563 2011-04-12\n",
       "1985 0.18658998 2017-01-30\n",
       "1986 0.38248836 2014-06-08\n",
       "1987 0.45361328 2016-10-19\n",
       "1988 0.45513148 2023-09-01\n",
       "1989 0.17310278 2010-01-09\n",
       "1990 0.30541726 2020-01-11\n",
       "1991 0.86775210 2016-12-16\n",
       "1992 0.26023225 2010-01-03\n",
       "1993 0.68087076 2016-04-23\n",
       "1994 0.85357656 2016-08-10\n",
       "1995 0.80527431 2019-11-21\n",
       "1996 0.16351634 2018-03-29\n",
       "1997 0.47193898 2014-08-04\n",
       "1998 0.71831865 2015-08-16\n",
       "1999 0.26987859 2020-02-04\n",
       "2000 0.60823719 2019-01-06"
      ]
     },
     "metadata": {},
     "output_type": "display_data"
    }
   ],
   "source": [
    "challenge2 <- read_csv(readr_example(\"challenge.csv\"), guess_max = 1001)\n",
    "challenge2"
   ]
  },
  {
   "cell_type": "raw",
   "metadata": {},
   "source": [
    "Sometimes it’s easier to diagnose problems if you just read in all the columns as character vectors"
   ]
  },
  {
   "cell_type": "code",
   "execution_count": 73,
   "metadata": {},
   "outputs": [],
   "source": [
    "challenge2 <- read_csv(readr_example(\"challenge.csv\"), \n",
    "  col_types = cols(.default = col_character())\n",
    ")"
   ]
  },
  {
   "cell_type": "raw",
   "metadata": {},
   "source": [
    "This is particularly useful in conjunction with type_convert(), which applies the parsing heuristics to the character columns in a data frame."
   ]
  },
  {
   "cell_type": "code",
   "execution_count": 74,
   "metadata": {},
   "outputs": [
    {
     "data": {
      "text/html": [
       "<table>\n",
       "<thead><tr><th scope=col>x</th><th scope=col>y</th></tr></thead>\n",
       "<tbody>\n",
       "\t<tr><td>1   </td><td>1.21</td></tr>\n",
       "\t<tr><td>2   </td><td>2.32</td></tr>\n",
       "\t<tr><td>3   </td><td>4.56</td></tr>\n",
       "</tbody>\n",
       "</table>\n"
      ],
      "text/latex": [
       "\\begin{tabular}{r|ll}\n",
       " x & y\\\\\n",
       "\\hline\n",
       "\t 1    & 1.21\\\\\n",
       "\t 2    & 2.32\\\\\n",
       "\t 3    & 4.56\\\\\n",
       "\\end{tabular}\n"
      ],
      "text/markdown": [
       "\n",
       "| x | y |\n",
       "|---|---|\n",
       "| 1    | 1.21 |\n",
       "| 2    | 2.32 |\n",
       "| 3    | 4.56 |\n",
       "\n"
      ],
      "text/plain": [
       "  x y   \n",
       "1 1 1.21\n",
       "2 2 2.32\n",
       "3 3 4.56"
      ]
     },
     "metadata": {},
     "output_type": "display_data"
    }
   ],
   "source": [
    "df <- tribble(\n",
    "  ~x,  ~y,\n",
    "  \"1\", \"1.21\",\n",
    "  \"2\", \"2.32\",\n",
    "  \"3\", \"4.56\"\n",
    ")\n",
    "df"
   ]
  },
  {
   "cell_type": "code",
   "execution_count": 75,
   "metadata": {},
   "outputs": [
    {
     "name": "stderr",
     "output_type": "stream",
     "text": [
      "Parsed with column specification:\n",
      "cols(\n",
      "  x = col_double(),\n",
      "  y = col_double()\n",
      ")\n"
     ]
    },
    {
     "data": {
      "text/html": [
       "<table>\n",
       "<thead><tr><th scope=col>x</th><th scope=col>y</th></tr></thead>\n",
       "<tbody>\n",
       "\t<tr><td>1   </td><td>1.21</td></tr>\n",
       "\t<tr><td>2   </td><td>2.32</td></tr>\n",
       "\t<tr><td>3   </td><td>4.56</td></tr>\n",
       "</tbody>\n",
       "</table>\n"
      ],
      "text/latex": [
       "\\begin{tabular}{r|ll}\n",
       " x & y\\\\\n",
       "\\hline\n",
       "\t 1    & 1.21\\\\\n",
       "\t 2    & 2.32\\\\\n",
       "\t 3    & 4.56\\\\\n",
       "\\end{tabular}\n"
      ],
      "text/markdown": [
       "\n",
       "| x | y |\n",
       "|---|---|\n",
       "| 1    | 1.21 |\n",
       "| 2    | 2.32 |\n",
       "| 3    | 4.56 |\n",
       "\n"
      ],
      "text/plain": [
       "  x y   \n",
       "1 1 1.21\n",
       "2 2 2.32\n",
       "3 3 4.56"
      ]
     },
     "metadata": {},
     "output_type": "display_data"
    }
   ],
   "source": [
    "type_convert(df)"
   ]
  },
  {
   "cell_type": "raw",
   "metadata": {},
   "source": [
    "If you’re reading a very large file, you might want to set n_max to a smallish number like 10,000 or 100,000. That will accelerate your iterations while you eliminate common problems.\n",
    "\n",
    "If you’re having major parsing problems, sometimes it’s easier to just read into a character vector of lines with read_lines(), or even a character vector of length 1 with read_file(). Then you can use the string parsing skills you’ll learn later to parse more exotic formats."
   ]
  },
  {
   "cell_type": "raw",
   "metadata": {},
   "source": [
    "11.5 Writing to a file"
   ]
  },
  {
   "cell_type": "raw",
   "metadata": {},
   "source": [
    "write_csv\n",
    "write_tsv\n",
    "write_excel_csv\n",
    "\n",
    "readr also comes with two useful functions for writing data back to disk: write_csv() and write_tsv(). Both functions increase the chances of the output file being read back in correctly by:\n",
    "\n",
    "Always encoding strings in UTF-8.\n",
    "\n",
    "Saving dates and date-times in ISO8601 format so they are easily parsed elsewhere.\n",
    "\n",
    "If you want to export a csv file to Excel, use write_excel_csv() — this writes a special character (a “byte order mark”) at the start of the file which tells Excel that you’re using the UTF-8 encoding.\n",
    "\n",
    "The most important arguments are x (the data frame to save), and path (the location to save it). You can also specify how missing values are written with na, and if you want to append to an existing file."
   ]
  },
  {
   "cell_type": "code",
   "execution_count": 76,
   "metadata": {},
   "outputs": [],
   "source": [
    "write_csv(challenge, \"challenge.csv\")"
   ]
  },
  {
   "cell_type": "raw",
   "metadata": {},
   "source": [
    "Note that the type information is lost when you save to csv:"
   ]
  },
  {
   "cell_type": "code",
   "execution_count": 77,
   "metadata": {},
   "outputs": [
    {
     "data": {
      "text/html": [
       "<table>\n",
       "<thead><tr><th scope=col>x</th><th scope=col>y</th></tr></thead>\n",
       "<tbody>\n",
       "\t<tr><td> 404</td><td>NA  </td></tr>\n",
       "\t<tr><td>4172</td><td>NA  </td></tr>\n",
       "\t<tr><td>3004</td><td>NA  </td></tr>\n",
       "\t<tr><td> 787</td><td>NA  </td></tr>\n",
       "\t<tr><td>  37</td><td>NA  </td></tr>\n",
       "\t<tr><td>2332</td><td>NA  </td></tr>\n",
       "\t<tr><td>2489</td><td>NA  </td></tr>\n",
       "\t<tr><td>1449</td><td>NA  </td></tr>\n",
       "\t<tr><td>3665</td><td>NA  </td></tr>\n",
       "\t<tr><td>3863</td><td>NA  </td></tr>\n",
       "\t<tr><td>4374</td><td>NA  </td></tr>\n",
       "\t<tr><td> 875</td><td>NA  </td></tr>\n",
       "\t<tr><td> 172</td><td>NA  </td></tr>\n",
       "\t<tr><td>1602</td><td>NA  </td></tr>\n",
       "\t<tr><td>2012</td><td>NA  </td></tr>\n",
       "\t<tr><td> 979</td><td>NA  </td></tr>\n",
       "\t<tr><td>2018</td><td>NA  </td></tr>\n",
       "\t<tr><td> 319</td><td>NA  </td></tr>\n",
       "\t<tr><td>1944</td><td>NA  </td></tr>\n",
       "\t<tr><td>4878</td><td>NA  </td></tr>\n",
       "\t<tr><td>1450</td><td>NA  </td></tr>\n",
       "\t<tr><td>3392</td><td>NA  </td></tr>\n",
       "\t<tr><td>3677</td><td>NA  </td></tr>\n",
       "\t<tr><td> 980</td><td>NA  </td></tr>\n",
       "\t<tr><td>4903</td><td>NA  </td></tr>\n",
       "\t<tr><td>3708</td><td>NA  </td></tr>\n",
       "\t<tr><td> 258</td><td>NA  </td></tr>\n",
       "\t<tr><td>2652</td><td>NA  </td></tr>\n",
       "\t<tr><td>3480</td><td>NA  </td></tr>\n",
       "\t<tr><td>3443</td><td>NA  </td></tr>\n",
       "\t<tr><td>...</td><td>...</td></tr>\n",
       "\t<tr><td>0.14324546</td><td>2020-06-10</td></tr>\n",
       "\t<tr><td>0.42678032</td><td>2013-11-08</td></tr>\n",
       "\t<tr><td>0.56445359</td><td>2017-07-12</td></tr>\n",
       "\t<tr><td>0.18729942</td><td>2016-08-12</td></tr>\n",
       "\t<tr><td>0.60274952</td><td>2022-05-12</td></tr>\n",
       "\t<tr><td>0.73487829</td><td>2020-08-11</td></tr>\n",
       "\t<tr><td>0.06834881</td><td>2011-10-26</td></tr>\n",
       "\t<tr><td>0.78291796</td><td>2015-12-09</td></tr>\n",
       "\t<tr><td>0.92149271</td><td>2012-09-27</td></tr>\n",
       "\t<tr><td>0.04428217</td><td>2013-02-04</td></tr>\n",
       "\t<tr><td>0.71311485</td><td>2010-11-29</td></tr>\n",
       "\t<tr><td>0.90388602</td><td>2013-10-16</td></tr>\n",
       "\t<tr><td>0.73958150</td><td>2015-04-26</td></tr>\n",
       "\t<tr><td>0.17217563</td><td>2011-04-12</td></tr>\n",
       "\t<tr><td>0.18658998</td><td>2017-01-30</td></tr>\n",
       "\t<tr><td>0.38248836</td><td>2014-06-08</td></tr>\n",
       "\t<tr><td>0.45361328</td><td>2016-10-19</td></tr>\n",
       "\t<tr><td>0.45513148</td><td>2023-09-01</td></tr>\n",
       "\t<tr><td>0.17310278</td><td>2010-01-09</td></tr>\n",
       "\t<tr><td>0.30541726</td><td>2020-01-11</td></tr>\n",
       "\t<tr><td>0.86775210</td><td>2016-12-16</td></tr>\n",
       "\t<tr><td>0.26023225</td><td>2010-01-03</td></tr>\n",
       "\t<tr><td>0.68087076</td><td>2016-04-23</td></tr>\n",
       "\t<tr><td>0.85357656</td><td>2016-08-10</td></tr>\n",
       "\t<tr><td>0.80527431</td><td>2019-11-21</td></tr>\n",
       "\t<tr><td>0.16351634</td><td>2018-03-29</td></tr>\n",
       "\t<tr><td>0.47193898</td><td>2014-08-04</td></tr>\n",
       "\t<tr><td>0.71831865</td><td>2015-08-16</td></tr>\n",
       "\t<tr><td>0.26987859</td><td>2020-02-04</td></tr>\n",
       "\t<tr><td>0.60823719</td><td>2019-01-06</td></tr>\n",
       "</tbody>\n",
       "</table>\n"
      ],
      "text/latex": [
       "\\begin{tabular}{r|ll}\n",
       " x & y\\\\\n",
       "\\hline\n",
       "\t  404 & NA  \\\\\n",
       "\t 4172 & NA  \\\\\n",
       "\t 3004 & NA  \\\\\n",
       "\t  787 & NA  \\\\\n",
       "\t   37 & NA  \\\\\n",
       "\t 2332 & NA  \\\\\n",
       "\t 2489 & NA  \\\\\n",
       "\t 1449 & NA  \\\\\n",
       "\t 3665 & NA  \\\\\n",
       "\t 3863 & NA  \\\\\n",
       "\t 4374 & NA  \\\\\n",
       "\t  875 & NA  \\\\\n",
       "\t  172 & NA  \\\\\n",
       "\t 1602 & NA  \\\\\n",
       "\t 2012 & NA  \\\\\n",
       "\t  979 & NA  \\\\\n",
       "\t 2018 & NA  \\\\\n",
       "\t  319 & NA  \\\\\n",
       "\t 1944 & NA  \\\\\n",
       "\t 4878 & NA  \\\\\n",
       "\t 1450 & NA  \\\\\n",
       "\t 3392 & NA  \\\\\n",
       "\t 3677 & NA  \\\\\n",
       "\t  980 & NA  \\\\\n",
       "\t 4903 & NA  \\\\\n",
       "\t 3708 & NA  \\\\\n",
       "\t  258 & NA  \\\\\n",
       "\t 2652 & NA  \\\\\n",
       "\t 3480 & NA  \\\\\n",
       "\t 3443 & NA  \\\\\n",
       "\t ... & ...\\\\\n",
       "\t 0.14324546 & 2020-06-10\\\\\n",
       "\t 0.42678032 & 2013-11-08\\\\\n",
       "\t 0.56445359 & 2017-07-12\\\\\n",
       "\t 0.18729942 & 2016-08-12\\\\\n",
       "\t 0.60274952 & 2022-05-12\\\\\n",
       "\t 0.73487829 & 2020-08-11\\\\\n",
       "\t 0.06834881 & 2011-10-26\\\\\n",
       "\t 0.78291796 & 2015-12-09\\\\\n",
       "\t 0.92149271 & 2012-09-27\\\\\n",
       "\t 0.04428217 & 2013-02-04\\\\\n",
       "\t 0.71311485 & 2010-11-29\\\\\n",
       "\t 0.90388602 & 2013-10-16\\\\\n",
       "\t 0.73958150 & 2015-04-26\\\\\n",
       "\t 0.17217563 & 2011-04-12\\\\\n",
       "\t 0.18658998 & 2017-01-30\\\\\n",
       "\t 0.38248836 & 2014-06-08\\\\\n",
       "\t 0.45361328 & 2016-10-19\\\\\n",
       "\t 0.45513148 & 2023-09-01\\\\\n",
       "\t 0.17310278 & 2010-01-09\\\\\n",
       "\t 0.30541726 & 2020-01-11\\\\\n",
       "\t 0.86775210 & 2016-12-16\\\\\n",
       "\t 0.26023225 & 2010-01-03\\\\\n",
       "\t 0.68087076 & 2016-04-23\\\\\n",
       "\t 0.85357656 & 2016-08-10\\\\\n",
       "\t 0.80527431 & 2019-11-21\\\\\n",
       "\t 0.16351634 & 2018-03-29\\\\\n",
       "\t 0.47193898 & 2014-08-04\\\\\n",
       "\t 0.71831865 & 2015-08-16\\\\\n",
       "\t 0.26987859 & 2020-02-04\\\\\n",
       "\t 0.60823719 & 2019-01-06\\\\\n",
       "\\end{tabular}\n"
      ],
      "text/markdown": [
       "\n",
       "| x | y |\n",
       "|---|---|\n",
       "|  404 | NA   |\n",
       "| 4172 | NA   |\n",
       "| 3004 | NA   |\n",
       "|  787 | NA   |\n",
       "|   37 | NA   |\n",
       "| 2332 | NA   |\n",
       "| 2489 | NA   |\n",
       "| 1449 | NA   |\n",
       "| 3665 | NA   |\n",
       "| 3863 | NA   |\n",
       "| 4374 | NA   |\n",
       "|  875 | NA   |\n",
       "|  172 | NA   |\n",
       "| 1602 | NA   |\n",
       "| 2012 | NA   |\n",
       "|  979 | NA   |\n",
       "| 2018 | NA   |\n",
       "|  319 | NA   |\n",
       "| 1944 | NA   |\n",
       "| 4878 | NA   |\n",
       "| 1450 | NA   |\n",
       "| 3392 | NA   |\n",
       "| 3677 | NA   |\n",
       "|  980 | NA   |\n",
       "| 4903 | NA   |\n",
       "| 3708 | NA   |\n",
       "|  258 | NA   |\n",
       "| 2652 | NA   |\n",
       "| 3480 | NA   |\n",
       "| 3443 | NA   |\n",
       "| ... | ... |\n",
       "| 0.14324546 | 2020-06-10 |\n",
       "| 0.42678032 | 2013-11-08 |\n",
       "| 0.56445359 | 2017-07-12 |\n",
       "| 0.18729942 | 2016-08-12 |\n",
       "| 0.60274952 | 2022-05-12 |\n",
       "| 0.73487829 | 2020-08-11 |\n",
       "| 0.06834881 | 2011-10-26 |\n",
       "| 0.78291796 | 2015-12-09 |\n",
       "| 0.92149271 | 2012-09-27 |\n",
       "| 0.04428217 | 2013-02-04 |\n",
       "| 0.71311485 | 2010-11-29 |\n",
       "| 0.90388602 | 2013-10-16 |\n",
       "| 0.73958150 | 2015-04-26 |\n",
       "| 0.17217563 | 2011-04-12 |\n",
       "| 0.18658998 | 2017-01-30 |\n",
       "| 0.38248836 | 2014-06-08 |\n",
       "| 0.45361328 | 2016-10-19 |\n",
       "| 0.45513148 | 2023-09-01 |\n",
       "| 0.17310278 | 2010-01-09 |\n",
       "| 0.30541726 | 2020-01-11 |\n",
       "| 0.86775210 | 2016-12-16 |\n",
       "| 0.26023225 | 2010-01-03 |\n",
       "| 0.68087076 | 2016-04-23 |\n",
       "| 0.85357656 | 2016-08-10 |\n",
       "| 0.80527431 | 2019-11-21 |\n",
       "| 0.16351634 | 2018-03-29 |\n",
       "| 0.47193898 | 2014-08-04 |\n",
       "| 0.71831865 | 2015-08-16 |\n",
       "| 0.26987859 | 2020-02-04 |\n",
       "| 0.60823719 | 2019-01-06 |\n",
       "\n"
      ],
      "text/plain": [
       "     x          y         \n",
       "1     404       <NA>      \n",
       "2    4172       <NA>      \n",
       "3    3004       <NA>      \n",
       "4     787       <NA>      \n",
       "5      37       <NA>      \n",
       "6    2332       <NA>      \n",
       "7    2489       <NA>      \n",
       "8    1449       <NA>      \n",
       "9    3665       <NA>      \n",
       "10   3863       <NA>      \n",
       "11   4374       <NA>      \n",
       "12    875       <NA>      \n",
       "13    172       <NA>      \n",
       "14   1602       <NA>      \n",
       "15   2012       <NA>      \n",
       "16    979       <NA>      \n",
       "17   2018       <NA>      \n",
       "18    319       <NA>      \n",
       "19   1944       <NA>      \n",
       "20   4878       <NA>      \n",
       "21   1450       <NA>      \n",
       "22   3392       <NA>      \n",
       "23   3677       <NA>      \n",
       "24    980       <NA>      \n",
       "25   4903       <NA>      \n",
       "26   3708       <NA>      \n",
       "27    258       <NA>      \n",
       "28   2652       <NA>      \n",
       "29   3480       <NA>      \n",
       "30   3443       <NA>      \n",
       "...  ...        ...       \n",
       "1971 0.14324546 2020-06-10\n",
       "1972 0.42678032 2013-11-08\n",
       "1973 0.56445359 2017-07-12\n",
       "1974 0.18729942 2016-08-12\n",
       "1975 0.60274952 2022-05-12\n",
       "1976 0.73487829 2020-08-11\n",
       "1977 0.06834881 2011-10-26\n",
       "1978 0.78291796 2015-12-09\n",
       "1979 0.92149271 2012-09-27\n",
       "1980 0.04428217 2013-02-04\n",
       "1981 0.71311485 2010-11-29\n",
       "1982 0.90388602 2013-10-16\n",
       "1983 0.73958150 2015-04-26\n",
       "1984 0.17217563 2011-04-12\n",
       "1985 0.18658998 2017-01-30\n",
       "1986 0.38248836 2014-06-08\n",
       "1987 0.45361328 2016-10-19\n",
       "1988 0.45513148 2023-09-01\n",
       "1989 0.17310278 2010-01-09\n",
       "1990 0.30541726 2020-01-11\n",
       "1991 0.86775210 2016-12-16\n",
       "1992 0.26023225 2010-01-03\n",
       "1993 0.68087076 2016-04-23\n",
       "1994 0.85357656 2016-08-10\n",
       "1995 0.80527431 2019-11-21\n",
       "1996 0.16351634 2018-03-29\n",
       "1997 0.47193898 2014-08-04\n",
       "1998 0.71831865 2015-08-16\n",
       "1999 0.26987859 2020-02-04\n",
       "2000 0.60823719 2019-01-06"
      ]
     },
     "metadata": {},
     "output_type": "display_data"
    }
   ],
   "source": [
    "challenge"
   ]
  },
  {
   "cell_type": "code",
   "execution_count": 78,
   "metadata": {},
   "outputs": [
    {
     "name": "stderr",
     "output_type": "stream",
     "text": [
      "Parsed with column specification:\n",
      "cols(\n",
      "  x = col_double(),\n",
      "  y = col_logical()\n",
      ")\n",
      "Warning message:\n",
      "“1000 parsing failures.\n",
      " row col           expected     actual              file\n",
      "1001   y 1/0/T/F/TRUE/FALSE 2015-01-16 'challenge-2.csv'\n",
      "1002   y 1/0/T/F/TRUE/FALSE 2018-05-18 'challenge-2.csv'\n",
      "1003   y 1/0/T/F/TRUE/FALSE 2015-09-05 'challenge-2.csv'\n",
      "1004   y 1/0/T/F/TRUE/FALSE 2012-11-28 'challenge-2.csv'\n",
      "1005   y 1/0/T/F/TRUE/FALSE 2020-01-13 'challenge-2.csv'\n",
      ".... ... .................. .......... .................\n",
      "See problems(...) for more details.\n",
      "”"
     ]
    },
    {
     "data": {
      "text/html": [
       "<table>\n",
       "<thead><tr><th scope=col>x</th><th scope=col>y</th></tr></thead>\n",
       "<tbody>\n",
       "\t<tr><td> 404</td><td>NA  </td></tr>\n",
       "\t<tr><td>4172</td><td>NA  </td></tr>\n",
       "\t<tr><td>3004</td><td>NA  </td></tr>\n",
       "\t<tr><td> 787</td><td>NA  </td></tr>\n",
       "\t<tr><td>  37</td><td>NA  </td></tr>\n",
       "\t<tr><td>2332</td><td>NA  </td></tr>\n",
       "\t<tr><td>2489</td><td>NA  </td></tr>\n",
       "\t<tr><td>1449</td><td>NA  </td></tr>\n",
       "\t<tr><td>3665</td><td>NA  </td></tr>\n",
       "\t<tr><td>3863</td><td>NA  </td></tr>\n",
       "\t<tr><td>4374</td><td>NA  </td></tr>\n",
       "\t<tr><td> 875</td><td>NA  </td></tr>\n",
       "\t<tr><td> 172</td><td>NA  </td></tr>\n",
       "\t<tr><td>1602</td><td>NA  </td></tr>\n",
       "\t<tr><td>2012</td><td>NA  </td></tr>\n",
       "\t<tr><td> 979</td><td>NA  </td></tr>\n",
       "\t<tr><td>2018</td><td>NA  </td></tr>\n",
       "\t<tr><td> 319</td><td>NA  </td></tr>\n",
       "\t<tr><td>1944</td><td>NA  </td></tr>\n",
       "\t<tr><td>4878</td><td>NA  </td></tr>\n",
       "\t<tr><td>1450</td><td>NA  </td></tr>\n",
       "\t<tr><td>3392</td><td>NA  </td></tr>\n",
       "\t<tr><td>3677</td><td>NA  </td></tr>\n",
       "\t<tr><td> 980</td><td>NA  </td></tr>\n",
       "\t<tr><td>4903</td><td>NA  </td></tr>\n",
       "\t<tr><td>3708</td><td>NA  </td></tr>\n",
       "\t<tr><td> 258</td><td>NA  </td></tr>\n",
       "\t<tr><td>2652</td><td>NA  </td></tr>\n",
       "\t<tr><td>3480</td><td>NA  </td></tr>\n",
       "\t<tr><td>3443</td><td>NA  </td></tr>\n",
       "\t<tr><td>...</td><td>...</td></tr>\n",
       "\t<tr><td>0.14324546</td><td>NA        </td></tr>\n",
       "\t<tr><td>0.42678032</td><td>NA        </td></tr>\n",
       "\t<tr><td>0.56445359</td><td>NA        </td></tr>\n",
       "\t<tr><td>0.18729942</td><td>NA        </td></tr>\n",
       "\t<tr><td>0.60274952</td><td>NA        </td></tr>\n",
       "\t<tr><td>0.73487829</td><td>NA        </td></tr>\n",
       "\t<tr><td>0.06834881</td><td>NA        </td></tr>\n",
       "\t<tr><td>0.78291796</td><td>NA        </td></tr>\n",
       "\t<tr><td>0.92149271</td><td>NA        </td></tr>\n",
       "\t<tr><td>0.04428217</td><td>NA        </td></tr>\n",
       "\t<tr><td>0.71311485</td><td>NA        </td></tr>\n",
       "\t<tr><td>0.90388602</td><td>NA        </td></tr>\n",
       "\t<tr><td>0.73958150</td><td>NA        </td></tr>\n",
       "\t<tr><td>0.17217563</td><td>NA        </td></tr>\n",
       "\t<tr><td>0.18658998</td><td>NA        </td></tr>\n",
       "\t<tr><td>0.38248836</td><td>NA        </td></tr>\n",
       "\t<tr><td>0.45361328</td><td>NA        </td></tr>\n",
       "\t<tr><td>0.45513148</td><td>NA        </td></tr>\n",
       "\t<tr><td>0.17310278</td><td>NA        </td></tr>\n",
       "\t<tr><td>0.30541726</td><td>NA        </td></tr>\n",
       "\t<tr><td>0.86775210</td><td>NA        </td></tr>\n",
       "\t<tr><td>0.26023225</td><td>NA        </td></tr>\n",
       "\t<tr><td>0.68087076</td><td>NA        </td></tr>\n",
       "\t<tr><td>0.85357656</td><td>NA        </td></tr>\n",
       "\t<tr><td>0.80527431</td><td>NA        </td></tr>\n",
       "\t<tr><td>0.16351634</td><td>NA        </td></tr>\n",
       "\t<tr><td>0.47193898</td><td>NA        </td></tr>\n",
       "\t<tr><td>0.71831865</td><td>NA        </td></tr>\n",
       "\t<tr><td>0.26987859</td><td>NA        </td></tr>\n",
       "\t<tr><td>0.60823719</td><td>NA        </td></tr>\n",
       "</tbody>\n",
       "</table>\n"
      ],
      "text/latex": [
       "\\begin{tabular}{r|ll}\n",
       " x & y\\\\\n",
       "\\hline\n",
       "\t  404 & NA  \\\\\n",
       "\t 4172 & NA  \\\\\n",
       "\t 3004 & NA  \\\\\n",
       "\t  787 & NA  \\\\\n",
       "\t   37 & NA  \\\\\n",
       "\t 2332 & NA  \\\\\n",
       "\t 2489 & NA  \\\\\n",
       "\t 1449 & NA  \\\\\n",
       "\t 3665 & NA  \\\\\n",
       "\t 3863 & NA  \\\\\n",
       "\t 4374 & NA  \\\\\n",
       "\t  875 & NA  \\\\\n",
       "\t  172 & NA  \\\\\n",
       "\t 1602 & NA  \\\\\n",
       "\t 2012 & NA  \\\\\n",
       "\t  979 & NA  \\\\\n",
       "\t 2018 & NA  \\\\\n",
       "\t  319 & NA  \\\\\n",
       "\t 1944 & NA  \\\\\n",
       "\t 4878 & NA  \\\\\n",
       "\t 1450 & NA  \\\\\n",
       "\t 3392 & NA  \\\\\n",
       "\t 3677 & NA  \\\\\n",
       "\t  980 & NA  \\\\\n",
       "\t 4903 & NA  \\\\\n",
       "\t 3708 & NA  \\\\\n",
       "\t  258 & NA  \\\\\n",
       "\t 2652 & NA  \\\\\n",
       "\t 3480 & NA  \\\\\n",
       "\t 3443 & NA  \\\\\n",
       "\t ... & ...\\\\\n",
       "\t 0.14324546 & NA        \\\\\n",
       "\t 0.42678032 & NA        \\\\\n",
       "\t 0.56445359 & NA        \\\\\n",
       "\t 0.18729942 & NA        \\\\\n",
       "\t 0.60274952 & NA        \\\\\n",
       "\t 0.73487829 & NA        \\\\\n",
       "\t 0.06834881 & NA        \\\\\n",
       "\t 0.78291796 & NA        \\\\\n",
       "\t 0.92149271 & NA        \\\\\n",
       "\t 0.04428217 & NA        \\\\\n",
       "\t 0.71311485 & NA        \\\\\n",
       "\t 0.90388602 & NA        \\\\\n",
       "\t 0.73958150 & NA        \\\\\n",
       "\t 0.17217563 & NA        \\\\\n",
       "\t 0.18658998 & NA        \\\\\n",
       "\t 0.38248836 & NA        \\\\\n",
       "\t 0.45361328 & NA        \\\\\n",
       "\t 0.45513148 & NA        \\\\\n",
       "\t 0.17310278 & NA        \\\\\n",
       "\t 0.30541726 & NA        \\\\\n",
       "\t 0.86775210 & NA        \\\\\n",
       "\t 0.26023225 & NA        \\\\\n",
       "\t 0.68087076 & NA        \\\\\n",
       "\t 0.85357656 & NA        \\\\\n",
       "\t 0.80527431 & NA        \\\\\n",
       "\t 0.16351634 & NA        \\\\\n",
       "\t 0.47193898 & NA        \\\\\n",
       "\t 0.71831865 & NA        \\\\\n",
       "\t 0.26987859 & NA        \\\\\n",
       "\t 0.60823719 & NA        \\\\\n",
       "\\end{tabular}\n"
      ],
      "text/markdown": [
       "\n",
       "| x | y |\n",
       "|---|---|\n",
       "|  404 | NA   |\n",
       "| 4172 | NA   |\n",
       "| 3004 | NA   |\n",
       "|  787 | NA   |\n",
       "|   37 | NA   |\n",
       "| 2332 | NA   |\n",
       "| 2489 | NA   |\n",
       "| 1449 | NA   |\n",
       "| 3665 | NA   |\n",
       "| 3863 | NA   |\n",
       "| 4374 | NA   |\n",
       "|  875 | NA   |\n",
       "|  172 | NA   |\n",
       "| 1602 | NA   |\n",
       "| 2012 | NA   |\n",
       "|  979 | NA   |\n",
       "| 2018 | NA   |\n",
       "|  319 | NA   |\n",
       "| 1944 | NA   |\n",
       "| 4878 | NA   |\n",
       "| 1450 | NA   |\n",
       "| 3392 | NA   |\n",
       "| 3677 | NA   |\n",
       "|  980 | NA   |\n",
       "| 4903 | NA   |\n",
       "| 3708 | NA   |\n",
       "|  258 | NA   |\n",
       "| 2652 | NA   |\n",
       "| 3480 | NA   |\n",
       "| 3443 | NA   |\n",
       "| ... | ... |\n",
       "| 0.14324546 | NA         |\n",
       "| 0.42678032 | NA         |\n",
       "| 0.56445359 | NA         |\n",
       "| 0.18729942 | NA         |\n",
       "| 0.60274952 | NA         |\n",
       "| 0.73487829 | NA         |\n",
       "| 0.06834881 | NA         |\n",
       "| 0.78291796 | NA         |\n",
       "| 0.92149271 | NA         |\n",
       "| 0.04428217 | NA         |\n",
       "| 0.71311485 | NA         |\n",
       "| 0.90388602 | NA         |\n",
       "| 0.73958150 | NA         |\n",
       "| 0.17217563 | NA         |\n",
       "| 0.18658998 | NA         |\n",
       "| 0.38248836 | NA         |\n",
       "| 0.45361328 | NA         |\n",
       "| 0.45513148 | NA         |\n",
       "| 0.17310278 | NA         |\n",
       "| 0.30541726 | NA         |\n",
       "| 0.86775210 | NA         |\n",
       "| 0.26023225 | NA         |\n",
       "| 0.68087076 | NA         |\n",
       "| 0.85357656 | NA         |\n",
       "| 0.80527431 | NA         |\n",
       "| 0.16351634 | NA         |\n",
       "| 0.47193898 | NA         |\n",
       "| 0.71831865 | NA         |\n",
       "| 0.26987859 | NA         |\n",
       "| 0.60823719 | NA         |\n",
       "\n"
      ],
      "text/plain": [
       "     x          y  \n",
       "1     404       NA \n",
       "2    4172       NA \n",
       "3    3004       NA \n",
       "4     787       NA \n",
       "5      37       NA \n",
       "6    2332       NA \n",
       "7    2489       NA \n",
       "8    1449       NA \n",
       "9    3665       NA \n",
       "10   3863       NA \n",
       "11   4374       NA \n",
       "12    875       NA \n",
       "13    172       NA \n",
       "14   1602       NA \n",
       "15   2012       NA \n",
       "16    979       NA \n",
       "17   2018       NA \n",
       "18    319       NA \n",
       "19   1944       NA \n",
       "20   4878       NA \n",
       "21   1450       NA \n",
       "22   3392       NA \n",
       "23   3677       NA \n",
       "24    980       NA \n",
       "25   4903       NA \n",
       "26   3708       NA \n",
       "27    258       NA \n",
       "28   2652       NA \n",
       "29   3480       NA \n",
       "30   3443       NA \n",
       "...  ...        ...\n",
       "1971 0.14324546 NA \n",
       "1972 0.42678032 NA \n",
       "1973 0.56445359 NA \n",
       "1974 0.18729942 NA \n",
       "1975 0.60274952 NA \n",
       "1976 0.73487829 NA \n",
       "1977 0.06834881 NA \n",
       "1978 0.78291796 NA \n",
       "1979 0.92149271 NA \n",
       "1980 0.04428217 NA \n",
       "1981 0.71311485 NA \n",
       "1982 0.90388602 NA \n",
       "1983 0.73958150 NA \n",
       "1984 0.17217563 NA \n",
       "1985 0.18658998 NA \n",
       "1986 0.38248836 NA \n",
       "1987 0.45361328 NA \n",
       "1988 0.45513148 NA \n",
       "1989 0.17310278 NA \n",
       "1990 0.30541726 NA \n",
       "1991 0.86775210 NA \n",
       "1992 0.26023225 NA \n",
       "1993 0.68087076 NA \n",
       "1994 0.85357656 NA \n",
       "1995 0.80527431 NA \n",
       "1996 0.16351634 NA \n",
       "1997 0.47193898 NA \n",
       "1998 0.71831865 NA \n",
       "1999 0.26987859 NA \n",
       "2000 0.60823719 NA "
      ]
     },
     "metadata": {},
     "output_type": "display_data"
    }
   ],
   "source": [
    "write_csv(challenge, \"challenge-2.csv\")\n",
    "read_csv(\"challenge-2.csv\")"
   ]
  },
  {
   "cell_type": "raw",
   "metadata": {},
   "source": [
    "This makes CSVs a little unreliable for caching interim results—you need to recreate the column specification every time you load in. There are two alternatives:\n",
    "\n",
    "write_rds\n",
    "read_rds\n",
    "readRDS\n",
    "saveRDS\n",
    "\n",
    "1. write_rds() and read_rds() are uniform wrappers around the base functions readRDS() and saveRDS(). These store data in R’s custom binary format called RDS:"
   ]
  },
  {
   "cell_type": "code",
   "execution_count": 79,
   "metadata": {},
   "outputs": [
    {
     "data": {
      "text/html": [
       "<table>\n",
       "<thead><tr><th scope=col>x</th><th scope=col>y</th></tr></thead>\n",
       "<tbody>\n",
       "\t<tr><td> 404</td><td>NA  </td></tr>\n",
       "\t<tr><td>4172</td><td>NA  </td></tr>\n",
       "\t<tr><td>3004</td><td>NA  </td></tr>\n",
       "\t<tr><td> 787</td><td>NA  </td></tr>\n",
       "\t<tr><td>  37</td><td>NA  </td></tr>\n",
       "\t<tr><td>2332</td><td>NA  </td></tr>\n",
       "\t<tr><td>2489</td><td>NA  </td></tr>\n",
       "\t<tr><td>1449</td><td>NA  </td></tr>\n",
       "\t<tr><td>3665</td><td>NA  </td></tr>\n",
       "\t<tr><td>3863</td><td>NA  </td></tr>\n",
       "\t<tr><td>4374</td><td>NA  </td></tr>\n",
       "\t<tr><td> 875</td><td>NA  </td></tr>\n",
       "\t<tr><td> 172</td><td>NA  </td></tr>\n",
       "\t<tr><td>1602</td><td>NA  </td></tr>\n",
       "\t<tr><td>2012</td><td>NA  </td></tr>\n",
       "\t<tr><td> 979</td><td>NA  </td></tr>\n",
       "\t<tr><td>2018</td><td>NA  </td></tr>\n",
       "\t<tr><td> 319</td><td>NA  </td></tr>\n",
       "\t<tr><td>1944</td><td>NA  </td></tr>\n",
       "\t<tr><td>4878</td><td>NA  </td></tr>\n",
       "\t<tr><td>1450</td><td>NA  </td></tr>\n",
       "\t<tr><td>3392</td><td>NA  </td></tr>\n",
       "\t<tr><td>3677</td><td>NA  </td></tr>\n",
       "\t<tr><td> 980</td><td>NA  </td></tr>\n",
       "\t<tr><td>4903</td><td>NA  </td></tr>\n",
       "\t<tr><td>3708</td><td>NA  </td></tr>\n",
       "\t<tr><td> 258</td><td>NA  </td></tr>\n",
       "\t<tr><td>2652</td><td>NA  </td></tr>\n",
       "\t<tr><td>3480</td><td>NA  </td></tr>\n",
       "\t<tr><td>3443</td><td>NA  </td></tr>\n",
       "\t<tr><td>...</td><td>...</td></tr>\n",
       "\t<tr><td>0.14324546</td><td>2020-06-10</td></tr>\n",
       "\t<tr><td>0.42678032</td><td>2013-11-08</td></tr>\n",
       "\t<tr><td>0.56445359</td><td>2017-07-12</td></tr>\n",
       "\t<tr><td>0.18729942</td><td>2016-08-12</td></tr>\n",
       "\t<tr><td>0.60274952</td><td>2022-05-12</td></tr>\n",
       "\t<tr><td>0.73487829</td><td>2020-08-11</td></tr>\n",
       "\t<tr><td>0.06834881</td><td>2011-10-26</td></tr>\n",
       "\t<tr><td>0.78291796</td><td>2015-12-09</td></tr>\n",
       "\t<tr><td>0.92149271</td><td>2012-09-27</td></tr>\n",
       "\t<tr><td>0.04428217</td><td>2013-02-04</td></tr>\n",
       "\t<tr><td>0.71311485</td><td>2010-11-29</td></tr>\n",
       "\t<tr><td>0.90388602</td><td>2013-10-16</td></tr>\n",
       "\t<tr><td>0.73958150</td><td>2015-04-26</td></tr>\n",
       "\t<tr><td>0.17217563</td><td>2011-04-12</td></tr>\n",
       "\t<tr><td>0.18658998</td><td>2017-01-30</td></tr>\n",
       "\t<tr><td>0.38248836</td><td>2014-06-08</td></tr>\n",
       "\t<tr><td>0.45361328</td><td>2016-10-19</td></tr>\n",
       "\t<tr><td>0.45513148</td><td>2023-09-01</td></tr>\n",
       "\t<tr><td>0.17310278</td><td>2010-01-09</td></tr>\n",
       "\t<tr><td>0.30541726</td><td>2020-01-11</td></tr>\n",
       "\t<tr><td>0.86775210</td><td>2016-12-16</td></tr>\n",
       "\t<tr><td>0.26023225</td><td>2010-01-03</td></tr>\n",
       "\t<tr><td>0.68087076</td><td>2016-04-23</td></tr>\n",
       "\t<tr><td>0.85357656</td><td>2016-08-10</td></tr>\n",
       "\t<tr><td>0.80527431</td><td>2019-11-21</td></tr>\n",
       "\t<tr><td>0.16351634</td><td>2018-03-29</td></tr>\n",
       "\t<tr><td>0.47193898</td><td>2014-08-04</td></tr>\n",
       "\t<tr><td>0.71831865</td><td>2015-08-16</td></tr>\n",
       "\t<tr><td>0.26987859</td><td>2020-02-04</td></tr>\n",
       "\t<tr><td>0.60823719</td><td>2019-01-06</td></tr>\n",
       "</tbody>\n",
       "</table>\n"
      ],
      "text/latex": [
       "\\begin{tabular}{r|ll}\n",
       " x & y\\\\\n",
       "\\hline\n",
       "\t  404 & NA  \\\\\n",
       "\t 4172 & NA  \\\\\n",
       "\t 3004 & NA  \\\\\n",
       "\t  787 & NA  \\\\\n",
       "\t   37 & NA  \\\\\n",
       "\t 2332 & NA  \\\\\n",
       "\t 2489 & NA  \\\\\n",
       "\t 1449 & NA  \\\\\n",
       "\t 3665 & NA  \\\\\n",
       "\t 3863 & NA  \\\\\n",
       "\t 4374 & NA  \\\\\n",
       "\t  875 & NA  \\\\\n",
       "\t  172 & NA  \\\\\n",
       "\t 1602 & NA  \\\\\n",
       "\t 2012 & NA  \\\\\n",
       "\t  979 & NA  \\\\\n",
       "\t 2018 & NA  \\\\\n",
       "\t  319 & NA  \\\\\n",
       "\t 1944 & NA  \\\\\n",
       "\t 4878 & NA  \\\\\n",
       "\t 1450 & NA  \\\\\n",
       "\t 3392 & NA  \\\\\n",
       "\t 3677 & NA  \\\\\n",
       "\t  980 & NA  \\\\\n",
       "\t 4903 & NA  \\\\\n",
       "\t 3708 & NA  \\\\\n",
       "\t  258 & NA  \\\\\n",
       "\t 2652 & NA  \\\\\n",
       "\t 3480 & NA  \\\\\n",
       "\t 3443 & NA  \\\\\n",
       "\t ... & ...\\\\\n",
       "\t 0.14324546 & 2020-06-10\\\\\n",
       "\t 0.42678032 & 2013-11-08\\\\\n",
       "\t 0.56445359 & 2017-07-12\\\\\n",
       "\t 0.18729942 & 2016-08-12\\\\\n",
       "\t 0.60274952 & 2022-05-12\\\\\n",
       "\t 0.73487829 & 2020-08-11\\\\\n",
       "\t 0.06834881 & 2011-10-26\\\\\n",
       "\t 0.78291796 & 2015-12-09\\\\\n",
       "\t 0.92149271 & 2012-09-27\\\\\n",
       "\t 0.04428217 & 2013-02-04\\\\\n",
       "\t 0.71311485 & 2010-11-29\\\\\n",
       "\t 0.90388602 & 2013-10-16\\\\\n",
       "\t 0.73958150 & 2015-04-26\\\\\n",
       "\t 0.17217563 & 2011-04-12\\\\\n",
       "\t 0.18658998 & 2017-01-30\\\\\n",
       "\t 0.38248836 & 2014-06-08\\\\\n",
       "\t 0.45361328 & 2016-10-19\\\\\n",
       "\t 0.45513148 & 2023-09-01\\\\\n",
       "\t 0.17310278 & 2010-01-09\\\\\n",
       "\t 0.30541726 & 2020-01-11\\\\\n",
       "\t 0.86775210 & 2016-12-16\\\\\n",
       "\t 0.26023225 & 2010-01-03\\\\\n",
       "\t 0.68087076 & 2016-04-23\\\\\n",
       "\t 0.85357656 & 2016-08-10\\\\\n",
       "\t 0.80527431 & 2019-11-21\\\\\n",
       "\t 0.16351634 & 2018-03-29\\\\\n",
       "\t 0.47193898 & 2014-08-04\\\\\n",
       "\t 0.71831865 & 2015-08-16\\\\\n",
       "\t 0.26987859 & 2020-02-04\\\\\n",
       "\t 0.60823719 & 2019-01-06\\\\\n",
       "\\end{tabular}\n"
      ],
      "text/markdown": [
       "\n",
       "| x | y |\n",
       "|---|---|\n",
       "|  404 | NA   |\n",
       "| 4172 | NA   |\n",
       "| 3004 | NA   |\n",
       "|  787 | NA   |\n",
       "|   37 | NA   |\n",
       "| 2332 | NA   |\n",
       "| 2489 | NA   |\n",
       "| 1449 | NA   |\n",
       "| 3665 | NA   |\n",
       "| 3863 | NA   |\n",
       "| 4374 | NA   |\n",
       "|  875 | NA   |\n",
       "|  172 | NA   |\n",
       "| 1602 | NA   |\n",
       "| 2012 | NA   |\n",
       "|  979 | NA   |\n",
       "| 2018 | NA   |\n",
       "|  319 | NA   |\n",
       "| 1944 | NA   |\n",
       "| 4878 | NA   |\n",
       "| 1450 | NA   |\n",
       "| 3392 | NA   |\n",
       "| 3677 | NA   |\n",
       "|  980 | NA   |\n",
       "| 4903 | NA   |\n",
       "| 3708 | NA   |\n",
       "|  258 | NA   |\n",
       "| 2652 | NA   |\n",
       "| 3480 | NA   |\n",
       "| 3443 | NA   |\n",
       "| ... | ... |\n",
       "| 0.14324546 | 2020-06-10 |\n",
       "| 0.42678032 | 2013-11-08 |\n",
       "| 0.56445359 | 2017-07-12 |\n",
       "| 0.18729942 | 2016-08-12 |\n",
       "| 0.60274952 | 2022-05-12 |\n",
       "| 0.73487829 | 2020-08-11 |\n",
       "| 0.06834881 | 2011-10-26 |\n",
       "| 0.78291796 | 2015-12-09 |\n",
       "| 0.92149271 | 2012-09-27 |\n",
       "| 0.04428217 | 2013-02-04 |\n",
       "| 0.71311485 | 2010-11-29 |\n",
       "| 0.90388602 | 2013-10-16 |\n",
       "| 0.73958150 | 2015-04-26 |\n",
       "| 0.17217563 | 2011-04-12 |\n",
       "| 0.18658998 | 2017-01-30 |\n",
       "| 0.38248836 | 2014-06-08 |\n",
       "| 0.45361328 | 2016-10-19 |\n",
       "| 0.45513148 | 2023-09-01 |\n",
       "| 0.17310278 | 2010-01-09 |\n",
       "| 0.30541726 | 2020-01-11 |\n",
       "| 0.86775210 | 2016-12-16 |\n",
       "| 0.26023225 | 2010-01-03 |\n",
       "| 0.68087076 | 2016-04-23 |\n",
       "| 0.85357656 | 2016-08-10 |\n",
       "| 0.80527431 | 2019-11-21 |\n",
       "| 0.16351634 | 2018-03-29 |\n",
       "| 0.47193898 | 2014-08-04 |\n",
       "| 0.71831865 | 2015-08-16 |\n",
       "| 0.26987859 | 2020-02-04 |\n",
       "| 0.60823719 | 2019-01-06 |\n",
       "\n"
      ],
      "text/plain": [
       "     x          y         \n",
       "1     404       <NA>      \n",
       "2    4172       <NA>      \n",
       "3    3004       <NA>      \n",
       "4     787       <NA>      \n",
       "5      37       <NA>      \n",
       "6    2332       <NA>      \n",
       "7    2489       <NA>      \n",
       "8    1449       <NA>      \n",
       "9    3665       <NA>      \n",
       "10   3863       <NA>      \n",
       "11   4374       <NA>      \n",
       "12    875       <NA>      \n",
       "13    172       <NA>      \n",
       "14   1602       <NA>      \n",
       "15   2012       <NA>      \n",
       "16    979       <NA>      \n",
       "17   2018       <NA>      \n",
       "18    319       <NA>      \n",
       "19   1944       <NA>      \n",
       "20   4878       <NA>      \n",
       "21   1450       <NA>      \n",
       "22   3392       <NA>      \n",
       "23   3677       <NA>      \n",
       "24    980       <NA>      \n",
       "25   4903       <NA>      \n",
       "26   3708       <NA>      \n",
       "27    258       <NA>      \n",
       "28   2652       <NA>      \n",
       "29   3480       <NA>      \n",
       "30   3443       <NA>      \n",
       "...  ...        ...       \n",
       "1971 0.14324546 2020-06-10\n",
       "1972 0.42678032 2013-11-08\n",
       "1973 0.56445359 2017-07-12\n",
       "1974 0.18729942 2016-08-12\n",
       "1975 0.60274952 2022-05-12\n",
       "1976 0.73487829 2020-08-11\n",
       "1977 0.06834881 2011-10-26\n",
       "1978 0.78291796 2015-12-09\n",
       "1979 0.92149271 2012-09-27\n",
       "1980 0.04428217 2013-02-04\n",
       "1981 0.71311485 2010-11-29\n",
       "1982 0.90388602 2013-10-16\n",
       "1983 0.73958150 2015-04-26\n",
       "1984 0.17217563 2011-04-12\n",
       "1985 0.18658998 2017-01-30\n",
       "1986 0.38248836 2014-06-08\n",
       "1987 0.45361328 2016-10-19\n",
       "1988 0.45513148 2023-09-01\n",
       "1989 0.17310278 2010-01-09\n",
       "1990 0.30541726 2020-01-11\n",
       "1991 0.86775210 2016-12-16\n",
       "1992 0.26023225 2010-01-03\n",
       "1993 0.68087076 2016-04-23\n",
       "1994 0.85357656 2016-08-10\n",
       "1995 0.80527431 2019-11-21\n",
       "1996 0.16351634 2018-03-29\n",
       "1997 0.47193898 2014-08-04\n",
       "1998 0.71831865 2015-08-16\n",
       "1999 0.26987859 2020-02-04\n",
       "2000 0.60823719 2019-01-06"
      ]
     },
     "metadata": {},
     "output_type": "display_data"
    }
   ],
   "source": [
    "write_rds(challenge, \"challenge.rds\")\n",
    "read_rds(\"challenge.rds\")"
   ]
  },
  {
   "cell_type": "raw",
   "metadata": {},
   "source": [
    "2. The feather package implements a fast binary file format that can be shared across programming languages:"
   ]
  },
  {
   "cell_type": "code",
   "execution_count": 82,
   "metadata": {},
   "outputs": [
    {
     "name": "stderr",
     "output_type": "stream",
     "text": [
      "Updating HTML index of packages in '.Library'\n",
      "Making 'packages.html' ... done\n"
     ]
    }
   ],
   "source": [
    "#install.packages('feather')"
   ]
  },
  {
   "cell_type": "code",
   "execution_count": 83,
   "metadata": {},
   "outputs": [
    {
     "data": {
      "text/html": [
       "<table>\n",
       "<thead><tr><th scope=col>x</th><th scope=col>y</th></tr></thead>\n",
       "<tbody>\n",
       "\t<tr><td> 404</td><td>NA  </td></tr>\n",
       "\t<tr><td>4172</td><td>NA  </td></tr>\n",
       "\t<tr><td>3004</td><td>NA  </td></tr>\n",
       "\t<tr><td> 787</td><td>NA  </td></tr>\n",
       "\t<tr><td>  37</td><td>NA  </td></tr>\n",
       "\t<tr><td>2332</td><td>NA  </td></tr>\n",
       "\t<tr><td>2489</td><td>NA  </td></tr>\n",
       "\t<tr><td>1449</td><td>NA  </td></tr>\n",
       "\t<tr><td>3665</td><td>NA  </td></tr>\n",
       "\t<tr><td>3863</td><td>NA  </td></tr>\n",
       "\t<tr><td>4374</td><td>NA  </td></tr>\n",
       "\t<tr><td> 875</td><td>NA  </td></tr>\n",
       "\t<tr><td> 172</td><td>NA  </td></tr>\n",
       "\t<tr><td>1602</td><td>NA  </td></tr>\n",
       "\t<tr><td>2012</td><td>NA  </td></tr>\n",
       "\t<tr><td> 979</td><td>NA  </td></tr>\n",
       "\t<tr><td>2018</td><td>NA  </td></tr>\n",
       "\t<tr><td> 319</td><td>NA  </td></tr>\n",
       "\t<tr><td>1944</td><td>NA  </td></tr>\n",
       "\t<tr><td>4878</td><td>NA  </td></tr>\n",
       "\t<tr><td>1450</td><td>NA  </td></tr>\n",
       "\t<tr><td>3392</td><td>NA  </td></tr>\n",
       "\t<tr><td>3677</td><td>NA  </td></tr>\n",
       "\t<tr><td> 980</td><td>NA  </td></tr>\n",
       "\t<tr><td>4903</td><td>NA  </td></tr>\n",
       "\t<tr><td>3708</td><td>NA  </td></tr>\n",
       "\t<tr><td> 258</td><td>NA  </td></tr>\n",
       "\t<tr><td>2652</td><td>NA  </td></tr>\n",
       "\t<tr><td>3480</td><td>NA  </td></tr>\n",
       "\t<tr><td>3443</td><td>NA  </td></tr>\n",
       "\t<tr><td>...</td><td>...</td></tr>\n",
       "\t<tr><td>0.14324546</td><td>2020-06-10</td></tr>\n",
       "\t<tr><td>0.42678032</td><td>2013-11-08</td></tr>\n",
       "\t<tr><td>0.56445359</td><td>2017-07-12</td></tr>\n",
       "\t<tr><td>0.18729942</td><td>2016-08-12</td></tr>\n",
       "\t<tr><td>0.60274952</td><td>2022-05-12</td></tr>\n",
       "\t<tr><td>0.73487829</td><td>2020-08-11</td></tr>\n",
       "\t<tr><td>0.06834881</td><td>2011-10-26</td></tr>\n",
       "\t<tr><td>0.78291796</td><td>2015-12-09</td></tr>\n",
       "\t<tr><td>0.92149271</td><td>2012-09-27</td></tr>\n",
       "\t<tr><td>0.04428217</td><td>2013-02-04</td></tr>\n",
       "\t<tr><td>0.71311485</td><td>2010-11-29</td></tr>\n",
       "\t<tr><td>0.90388602</td><td>2013-10-16</td></tr>\n",
       "\t<tr><td>0.73958150</td><td>2015-04-26</td></tr>\n",
       "\t<tr><td>0.17217563</td><td>2011-04-12</td></tr>\n",
       "\t<tr><td>0.18658998</td><td>2017-01-30</td></tr>\n",
       "\t<tr><td>0.38248836</td><td>2014-06-08</td></tr>\n",
       "\t<tr><td>0.45361328</td><td>2016-10-19</td></tr>\n",
       "\t<tr><td>0.45513148</td><td>2023-09-01</td></tr>\n",
       "\t<tr><td>0.17310278</td><td>2010-01-09</td></tr>\n",
       "\t<tr><td>0.30541726</td><td>2020-01-11</td></tr>\n",
       "\t<tr><td>0.86775210</td><td>2016-12-16</td></tr>\n",
       "\t<tr><td>0.26023225</td><td>2010-01-03</td></tr>\n",
       "\t<tr><td>0.68087076</td><td>2016-04-23</td></tr>\n",
       "\t<tr><td>0.85357656</td><td>2016-08-10</td></tr>\n",
       "\t<tr><td>0.80527431</td><td>2019-11-21</td></tr>\n",
       "\t<tr><td>0.16351634</td><td>2018-03-29</td></tr>\n",
       "\t<tr><td>0.47193898</td><td>2014-08-04</td></tr>\n",
       "\t<tr><td>0.71831865</td><td>2015-08-16</td></tr>\n",
       "\t<tr><td>0.26987859</td><td>2020-02-04</td></tr>\n",
       "\t<tr><td>0.60823719</td><td>2019-01-06</td></tr>\n",
       "</tbody>\n",
       "</table>\n"
      ],
      "text/latex": [
       "\\begin{tabular}{r|ll}\n",
       " x & y\\\\\n",
       "\\hline\n",
       "\t  404 & NA  \\\\\n",
       "\t 4172 & NA  \\\\\n",
       "\t 3004 & NA  \\\\\n",
       "\t  787 & NA  \\\\\n",
       "\t   37 & NA  \\\\\n",
       "\t 2332 & NA  \\\\\n",
       "\t 2489 & NA  \\\\\n",
       "\t 1449 & NA  \\\\\n",
       "\t 3665 & NA  \\\\\n",
       "\t 3863 & NA  \\\\\n",
       "\t 4374 & NA  \\\\\n",
       "\t  875 & NA  \\\\\n",
       "\t  172 & NA  \\\\\n",
       "\t 1602 & NA  \\\\\n",
       "\t 2012 & NA  \\\\\n",
       "\t  979 & NA  \\\\\n",
       "\t 2018 & NA  \\\\\n",
       "\t  319 & NA  \\\\\n",
       "\t 1944 & NA  \\\\\n",
       "\t 4878 & NA  \\\\\n",
       "\t 1450 & NA  \\\\\n",
       "\t 3392 & NA  \\\\\n",
       "\t 3677 & NA  \\\\\n",
       "\t  980 & NA  \\\\\n",
       "\t 4903 & NA  \\\\\n",
       "\t 3708 & NA  \\\\\n",
       "\t  258 & NA  \\\\\n",
       "\t 2652 & NA  \\\\\n",
       "\t 3480 & NA  \\\\\n",
       "\t 3443 & NA  \\\\\n",
       "\t ... & ...\\\\\n",
       "\t 0.14324546 & 2020-06-10\\\\\n",
       "\t 0.42678032 & 2013-11-08\\\\\n",
       "\t 0.56445359 & 2017-07-12\\\\\n",
       "\t 0.18729942 & 2016-08-12\\\\\n",
       "\t 0.60274952 & 2022-05-12\\\\\n",
       "\t 0.73487829 & 2020-08-11\\\\\n",
       "\t 0.06834881 & 2011-10-26\\\\\n",
       "\t 0.78291796 & 2015-12-09\\\\\n",
       "\t 0.92149271 & 2012-09-27\\\\\n",
       "\t 0.04428217 & 2013-02-04\\\\\n",
       "\t 0.71311485 & 2010-11-29\\\\\n",
       "\t 0.90388602 & 2013-10-16\\\\\n",
       "\t 0.73958150 & 2015-04-26\\\\\n",
       "\t 0.17217563 & 2011-04-12\\\\\n",
       "\t 0.18658998 & 2017-01-30\\\\\n",
       "\t 0.38248836 & 2014-06-08\\\\\n",
       "\t 0.45361328 & 2016-10-19\\\\\n",
       "\t 0.45513148 & 2023-09-01\\\\\n",
       "\t 0.17310278 & 2010-01-09\\\\\n",
       "\t 0.30541726 & 2020-01-11\\\\\n",
       "\t 0.86775210 & 2016-12-16\\\\\n",
       "\t 0.26023225 & 2010-01-03\\\\\n",
       "\t 0.68087076 & 2016-04-23\\\\\n",
       "\t 0.85357656 & 2016-08-10\\\\\n",
       "\t 0.80527431 & 2019-11-21\\\\\n",
       "\t 0.16351634 & 2018-03-29\\\\\n",
       "\t 0.47193898 & 2014-08-04\\\\\n",
       "\t 0.71831865 & 2015-08-16\\\\\n",
       "\t 0.26987859 & 2020-02-04\\\\\n",
       "\t 0.60823719 & 2019-01-06\\\\\n",
       "\\end{tabular}\n"
      ],
      "text/markdown": [
       "\n",
       "| x | y |\n",
       "|---|---|\n",
       "|  404 | NA   |\n",
       "| 4172 | NA   |\n",
       "| 3004 | NA   |\n",
       "|  787 | NA   |\n",
       "|   37 | NA   |\n",
       "| 2332 | NA   |\n",
       "| 2489 | NA   |\n",
       "| 1449 | NA   |\n",
       "| 3665 | NA   |\n",
       "| 3863 | NA   |\n",
       "| 4374 | NA   |\n",
       "|  875 | NA   |\n",
       "|  172 | NA   |\n",
       "| 1602 | NA   |\n",
       "| 2012 | NA   |\n",
       "|  979 | NA   |\n",
       "| 2018 | NA   |\n",
       "|  319 | NA   |\n",
       "| 1944 | NA   |\n",
       "| 4878 | NA   |\n",
       "| 1450 | NA   |\n",
       "| 3392 | NA   |\n",
       "| 3677 | NA   |\n",
       "|  980 | NA   |\n",
       "| 4903 | NA   |\n",
       "| 3708 | NA   |\n",
       "|  258 | NA   |\n",
       "| 2652 | NA   |\n",
       "| 3480 | NA   |\n",
       "| 3443 | NA   |\n",
       "| ... | ... |\n",
       "| 0.14324546 | 2020-06-10 |\n",
       "| 0.42678032 | 2013-11-08 |\n",
       "| 0.56445359 | 2017-07-12 |\n",
       "| 0.18729942 | 2016-08-12 |\n",
       "| 0.60274952 | 2022-05-12 |\n",
       "| 0.73487829 | 2020-08-11 |\n",
       "| 0.06834881 | 2011-10-26 |\n",
       "| 0.78291796 | 2015-12-09 |\n",
       "| 0.92149271 | 2012-09-27 |\n",
       "| 0.04428217 | 2013-02-04 |\n",
       "| 0.71311485 | 2010-11-29 |\n",
       "| 0.90388602 | 2013-10-16 |\n",
       "| 0.73958150 | 2015-04-26 |\n",
       "| 0.17217563 | 2011-04-12 |\n",
       "| 0.18658998 | 2017-01-30 |\n",
       "| 0.38248836 | 2014-06-08 |\n",
       "| 0.45361328 | 2016-10-19 |\n",
       "| 0.45513148 | 2023-09-01 |\n",
       "| 0.17310278 | 2010-01-09 |\n",
       "| 0.30541726 | 2020-01-11 |\n",
       "| 0.86775210 | 2016-12-16 |\n",
       "| 0.26023225 | 2010-01-03 |\n",
       "| 0.68087076 | 2016-04-23 |\n",
       "| 0.85357656 | 2016-08-10 |\n",
       "| 0.80527431 | 2019-11-21 |\n",
       "| 0.16351634 | 2018-03-29 |\n",
       "| 0.47193898 | 2014-08-04 |\n",
       "| 0.71831865 | 2015-08-16 |\n",
       "| 0.26987859 | 2020-02-04 |\n",
       "| 0.60823719 | 2019-01-06 |\n",
       "\n"
      ],
      "text/plain": [
       "     x          y         \n",
       "1     404       <NA>      \n",
       "2    4172       <NA>      \n",
       "3    3004       <NA>      \n",
       "4     787       <NA>      \n",
       "5      37       <NA>      \n",
       "6    2332       <NA>      \n",
       "7    2489       <NA>      \n",
       "8    1449       <NA>      \n",
       "9    3665       <NA>      \n",
       "10   3863       <NA>      \n",
       "11   4374       <NA>      \n",
       "12    875       <NA>      \n",
       "13    172       <NA>      \n",
       "14   1602       <NA>      \n",
       "15   2012       <NA>      \n",
       "16    979       <NA>      \n",
       "17   2018       <NA>      \n",
       "18    319       <NA>      \n",
       "19   1944       <NA>      \n",
       "20   4878       <NA>      \n",
       "21   1450       <NA>      \n",
       "22   3392       <NA>      \n",
       "23   3677       <NA>      \n",
       "24    980       <NA>      \n",
       "25   4903       <NA>      \n",
       "26   3708       <NA>      \n",
       "27    258       <NA>      \n",
       "28   2652       <NA>      \n",
       "29   3480       <NA>      \n",
       "30   3443       <NA>      \n",
       "...  ...        ...       \n",
       "1971 0.14324546 2020-06-10\n",
       "1972 0.42678032 2013-11-08\n",
       "1973 0.56445359 2017-07-12\n",
       "1974 0.18729942 2016-08-12\n",
       "1975 0.60274952 2022-05-12\n",
       "1976 0.73487829 2020-08-11\n",
       "1977 0.06834881 2011-10-26\n",
       "1978 0.78291796 2015-12-09\n",
       "1979 0.92149271 2012-09-27\n",
       "1980 0.04428217 2013-02-04\n",
       "1981 0.71311485 2010-11-29\n",
       "1982 0.90388602 2013-10-16\n",
       "1983 0.73958150 2015-04-26\n",
       "1984 0.17217563 2011-04-12\n",
       "1985 0.18658998 2017-01-30\n",
       "1986 0.38248836 2014-06-08\n",
       "1987 0.45361328 2016-10-19\n",
       "1988 0.45513148 2023-09-01\n",
       "1989 0.17310278 2010-01-09\n",
       "1990 0.30541726 2020-01-11\n",
       "1991 0.86775210 2016-12-16\n",
       "1992 0.26023225 2010-01-03\n",
       "1993 0.68087076 2016-04-23\n",
       "1994 0.85357656 2016-08-10\n",
       "1995 0.80527431 2019-11-21\n",
       "1996 0.16351634 2018-03-29\n",
       "1997 0.47193898 2014-08-04\n",
       "1998 0.71831865 2015-08-16\n",
       "1999 0.26987859 2020-02-04\n",
       "2000 0.60823719 2019-01-06"
      ]
     },
     "metadata": {},
     "output_type": "display_data"
    }
   ],
   "source": [
    "library(feather)\n",
    "write_feather(challenge, \"challenge.feather\")\n",
    "read_feather(\"challenge.feather\")"
   ]
  },
  {
   "cell_type": "raw",
   "metadata": {},
   "source": [
    "Feather tends to be faster than RDS and is usable outside of R. RDS supports list-columns (which you’ll learn about in many models); feather currently does not."
   ]
  },
  {
   "cell_type": "raw",
   "metadata": {},
   "source": [
    "11.6 Other types of data"
   ]
  },
  {
   "cell_type": "markdown",
   "metadata": {},
   "source": [
    "To get other types of data into R, we recommend starting with the tidyverse packages listed below. They’re certainly not perfect, but they are a good place to start. For rectangular data:\n",
    "\n",
    "haven reads SPSS, Stata, and SAS files.\n",
    "\n",
    "readxl reads excel files (both .xls and .xlsx).\n",
    "\n",
    "DBI, along with a database specific backend (e.g. RMySQL, RSQLite, RPostgreSQL etc) allows you to run SQL queries against a database and return a data frame.\n",
    "\n",
    "For hierarchical data: use jsonlite (by Jeroen Ooms) for json, and xml2 for XML. Jenny Bryan has some excellent worked examples at https://jennybc.github.io/purrr-tutorial/.\n",
    "\n",
    "For other file types, try the R data import/export manual and the rio package."
   ]
  },
  {
   "cell_type": "raw",
   "metadata": {},
   "source": []
  },
  {
   "cell_type": "raw",
   "metadata": {},
   "source": []
  },
  {
   "cell_type": "raw",
   "metadata": {},
   "source": []
  },
  {
   "cell_type": "raw",
   "metadata": {},
   "source": []
  },
  {
   "cell_type": "raw",
   "metadata": {},
   "source": []
  },
  {
   "cell_type": "raw",
   "metadata": {},
   "source": []
  }
 ],
 "metadata": {
  "kernelspec": {
   "display_name": "R",
   "language": "R",
   "name": "ir"
  },
  "language_info": {
   "codemirror_mode": "r",
   "file_extension": ".r",
   "mimetype": "text/x-r-source",
   "name": "R",
   "pygments_lexer": "r",
   "version": "3.6.0"
  }
 },
 "nbformat": 4,
 "nbformat_minor": 2
}
