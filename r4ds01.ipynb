{
 "cells": [
  {
   "cell_type": "raw",
   "metadata": {},
   "source": [
    "1 Introduction\n",
    "\n",
    "Data science is an exciting discipline that allows you to turn raw data into understanding, insight, and knowledge. The goal of “R for Data Science” is to help you learn the most important tools in R that will allow you to do data science. After reading this book, you’ll have the tools to tackle a wide variety of data science challenges, using the best parts of R.\n",
    "\n",
    "1.1 What you will learn\n",
    "\n",
    "Data science is a huge field, and there’s no way you can master it by reading a single book. The goal of this book is to give you a solid foundation in the most important tools. Our model of the tools needed in a typical data science project looks something like this:"
   ]
  },
  {
   "attachments": {
    "data-science.png": {
     "image/png": "[encoded data removed]"
    }
   },
   "cell_type": "markdown",
   "metadata": {},
   "source": [
    "![data-science.png](attachment:data-science.png)"
   ]
  },
  {
   "cell_type": "raw",
   "metadata": {},
   "source": [
    "First you must import your data into R. Load it into a data frame in R. \n",
    "\n",
    "NN \n",
    "Tidy = consistent form: match semantics = stored format --> col = var and row = obs\n",
    "\n",
    "Once you’ve imported your data, it is a good idea to tidy it. Tidying your data means storing it in a consistent form that matches the semantics of the dataset with the way it is stored. In brief, when your data is tidy, each column is a variable, and each row is an observation. Tidy data is important because the consistent structure lets you focus your struggle on questions about the data, not fighting to get the data into the right form for different functions.\n",
    "\n",
    "NN\n",
    "Transform: narrow to relevant obs, create new var = f(existing var), calc summary stats\n",
    "\n",
    "Once you have tidy data, a common first step is to transform it. Transformation includes narrowing in on observations of interest (like all people in one city, or all data from the last year), creating new variables that are functions of existing variables (like computing speed from distance and time), and calculating a set of summary statistics (like counts or means). Together, tidying and transforming are called wrangling!\n",
    "\n",
    "NN\n",
    "Visualize and model\n",
    "\n",
    "Once you have tidy data with the variables you need, there are two main engines of knowledge generation: visualisation and modelling. These have complementary strengths and weaknesses so any real analysis will iterate between them many times.\n",
    "\n",
    "NN\n",
    "Visualize: see unexpected, raise new questions; does not scale\n",
    "\n",
    "Visualisation is a fundamentally human activity. A good visualisation will show you things that you did not expect, or raise new questions about the data. A good visualisation might also hint that you’re asking the wrong question, or you need to collect different data. Visualisations can surprise you, but don’t scale particularly well because they require a human to interpret them.\n",
    "\n",
    "NN\n",
    "Models: visuals may make questions concise; models answer the questions, but make assumptions\n",
    "Model cannot question its own assumptions; so it cannot surprise you.\n",
    "\n",
    "Models are complementary tools to visualisation. Once you have made your questions sufficiently precise, you can use a model to answer them. Models are a fundamentally mathematical or computational tool, so they generally scale well. Even when they don’t, it’s usually cheaper to buy more computers than it is to buy more brains! But every model makes assumptions, and by its very nature a model cannot question its own assumptions. That means a model cannot fundamentally surprise you.\n",
    "\n",
    "NN\n",
    "Communicate results; proves you comprehend them.\n",
    "\n",
    "The last step of data science is communication, an absolutely critical part of any data analysis project. It doesn’t matter how well your models and visualisation have led you to understand the data unless you can also communicate your results to others."
   ]
  },
  {
   "cell_type": "raw",
   "metadata": {},
   "source": [
    "1.3.4 Hypothesis confirmation\n",
    "\n",
    "NN\n",
    "Hypothesis generation = this book = EDA --> hypothesis generation\n",
    "Hypothesis confirmation aka confirmatory analysis\n",
    "    requires math model to generate falsifiable predictions / sophisticated statistics\n",
    "\n",
    "It’s possible to divide data analysis into two camps: hypothesis generation and hypothesis confirmation (sometimes called confirmatory analysis). The focus of this book is unabashedly on hypothesis generation, or data exploration. Here you’ll look deeply at the data and, in combination with your subject knowledge, generate many interesting hypotheses to help explain why the data behaves the way it does. You evaluate the hypotheses informally, using your scepticism to challenge the data in multiple ways.\n",
    "\n",
    "The complement of hypothesis generation is hypothesis confirmation. Hypothesis confirmation is hard for two reasons:\n",
    "\n",
    "You need a precise mathematical model in order to generate falsifiable predictions. This often requires considerable statistical sophistication.\n",
    "\n",
    "NN\n",
    "Can use an observation only once; as you use once, you are back to exploratory analysis\n",
    "Must 'preregister' = write out analysis plan in advance and not deviate even when see the data\n",
    "\n",
    "You can only use an observation once to confirm a hypothesis. As soon as you use it more than once you’re back to doing exploratory analysis. This means to do hypothesis confirmation you need to “preregister” (write out in advance) your analysis plan, and not deviate from it even when you have seen the data. We’ll talk a little about some strategies you can use to make this easier in modelling.\n",
    "\n",
    "NN\n",
    "models = exploration and confirmation\n",
    "visuals = confirmation and exploration\n",
    "\n",
    "It’s common to think about modelling as a tool for hypothesis confirmation, and visualisation as a tool for hypothesis generation. But that’s a false dichotomy: models are often used for exploration, and with a little care you can use visualisation for confirmation. The key difference is how often do you look at each observation: if you look only once, it’s confirmation; if you look more than once, it’s exploration.\n",
    "\n"
   ]
  },
  {
   "cell_type": "raw",
   "metadata": {},
   "source": [
    "1.4.3 The tidyverse\n",
    "\n",
    "You’ll also need to install some R packages. An R package is a collection of functions, data, and documentation that extends the capabilities of base R. Using packages is key to the successful use of R. The majority of the packages that you will learn in this book are part of the so-called tidyverse. The packages in the tidyverse share a common philosophy of data and R programming, and are designed to work together naturally.\n",
    "\n",
    "You can install the complete tidyverse with a single line of code:"
   ]
  },
  {
   "cell_type": "code",
   "execution_count": 1,
   "metadata": {},
   "outputs": [
    {
     "name": "stderr",
     "output_type": "stream",
     "text": [
      "Updating HTML index of packages in '.Library'\n",
      "Making 'packages.html' ... done\n"
     ]
    }
   ],
   "source": [
    "install.packages(\"tidyverse\")"
   ]
  },
  {
   "cell_type": "raw",
   "metadata": {},
   "source": [
    "You will not be able to use the functions, objects, and help files in a package until you load it with library(). Once you have installed a package, you can load it with the library() function:\n",
    "\n",
    "This tells you that tidyverse is loading the ggplot2, tibble, tidyr, readr, purrr, and dplyr packages. These are considered to be the core of the tidyverse because you’ll use them in almost every analysis.\n",
    "\n",
    "Packages in the tidyverse change fairly frequently. You can see if updates are available, and optionally install them, by running tidyverse_update()."
   ]
  },
  {
   "cell_type": "raw",
   "metadata": {},
   "source": [
    "library(tidyverse)"
   ]
  },
  {
   "cell_type": "raw",
   "metadata": {},
   "source": [
    "There are many other excellent packages that are not part of the tidyverse, because they solve problems in a different domain, or are designed with a different set of underlying principles. These packages provide data on airline flights, world development, and baseball that we’ll use to illustrate key data science ideas."
   ]
  },
  {
   "cell_type": "code",
   "execution_count": 4,
   "metadata": {},
   "outputs": [
    {
     "name": "stderr",
     "output_type": "stream",
     "text": [
      "Updating HTML index of packages in '.Library'\n",
      "Making 'packages.html' ... done\n"
     ]
    }
   ],
   "source": [
    "install.packages(c(\"nycflights13\", \"gapminder\", \"Lahman\"))"
   ]
  },
  {
   "cell_type": "raw",
   "metadata": {},
   "source": [
    "1.5 Running R code\n",
    "\n",
    "The previous section showed you a couple of examples of running R code. Code in the book looks like this:"
   ]
  },
  {
   "cell_type": "code",
   "execution_count": 5,
   "metadata": {},
   "outputs": [
    {
     "data": {
      "text/html": [
       "3"
      ],
      "text/latex": [
       "3"
      ],
      "text/markdown": [
       "3"
      ],
      "text/plain": [
       "[1] 3"
      ]
     },
     "metadata": {},
     "output_type": "display_data"
    }
   ],
   "source": [
    "1+2"
   ]
  },
  {
   "cell_type": "raw",
   "metadata": {},
   "source": [
    "Throughout the book we use a consistent set of conventions to refer to code:\n",
    "\n",
    "Functions are in a code font and followed by parentheses, like sum(), or mean().\n",
    "\n",
    "Other R objects (like data or function arguments) are in a code font, without parentheses, like flights or x.\n",
    "\n",
    "If we want to make it clear what package an object comes from, we’ll use the package name followed by two colons, like \n",
    "dplyr::mutate(), \n",
    "or\n",
    "nycflights13::flights.\n",
    "This is also valid R code."
   ]
  },
  {
   "cell_type": "markdown",
   "metadata": {},
   "source": [
    "1.6 Getting help and learning more\n",
    "\n",
    "This book is not an island; there is no single resource that will allow you to master R. As you start to apply the techniques described in this book to your own data you will soon find questions that I do not answer. This section describes a few tips on how to get help, and to help you keep learning.\n",
    "\n",
    "If you get stuck, start with Google. Typically adding “R” to a query is enough to restrict it to relevant results: if the search isn’t useful, it often means that there aren’t any R-specific results available. Google is particularly useful for error messages. If you get an error message and you have no idea what it means, try googling it! Chances are that someone else has been confused by it in the past, and there will be help somewhere on the web. (If the error message isn’t in English, run Sys.setenv(LANGUAGE = \"en\") and re-run the code; you’re more likely to find help for English error messages.)\n",
    "\n",
    "If Google doesn’t help, try stackoverflow. Start by spending a little time searching for an existing answer, including [R] to restrict your search to questions and answers that use R. If you don’t find anything useful, prepare a minimal reproducible example or reprex. A good reprex makes it easier for other people to help you, and often you’ll figure out the problem yourself in the course of making it.\n",
    "\n",
    "There are three things you need to include to make your example reproducible: required packages, data, and code.\n",
    "\n",
    "Packages should be loaded at the top of the script, so it’s easy to see which ones the example needs. This is a good time to check that you’re using the latest version of each package; it’s possible you’ve discovered a bug that’s been fixed since you installed the package. For packages in the tidyverse, the easiest way to check is to run tidyverse_update().\n",
    "\n",
    "The easiest way to include data in a question is to use dput() to generate the R code to recreate it. For example, to recreate the mtcars dataset in R, I’d perform the following steps:\n",
    "\n",
    "Run dput(mtcars) in R\n",
    "Copy the output\n",
    "In my reproducible script, type mtcars <- then paste.\n",
    "Try and find the smallest subset of your data that still reveals the problem.\n",
    "\n",
    "Spend a little bit of time ensuring that your code is easy for others to read:\n",
    "\n",
    "Make sure you’ve used spaces and your variable names are concise, yet informative.\n",
    "\n",
    "Use comments to indicate where your problem lies.\n",
    "\n",
    "Do your best to remove everything that is not related to the problem.\n",
    "The shorter your code is, the easier it is to understand, and the easier it is to fix.\n",
    "\n",
    "Finish by checking that you have actually made a reproducible example by starting a fresh R session and copying and pasting your script in.\n",
    "\n",
    "You should also spend some time preparing yourself to solve problems before they occur. Investing a little time in learning R each day will pay off handsomely in the long run. One way is to follow what Hadley, Garrett, and everyone else at RStudio are doing on the RStudio blog. This is where we post announcements about new packages, new IDE features, and in-person courses. You might also want to follow Hadley (@hadleywickham) or Garrett (@statgarrett) on Twitter, or follow @rstudiotips to keep up with new features in the IDE.\n",
    "\n",
    "To keep up with the R community more broadly, we recommend reading http://www.r-bloggers.com: it aggregates over 500 blogs about R from around the world. If you’re an active Twitter user, follow the #rstats hashtag. Twitter is one of the key tools that Hadley uses to keep up with new developments in the community."
   ]
  }
 ],
 "metadata": {
  "kernelspec": {
   "display_name": "R",
   "language": "R",
   "name": "ir"
  },
  "language_info": {
   "codemirror_mode": "r",
   "file_extension": ".r",
   "mimetype": "text/x-r-source",
   "name": "R",
   "pygments_lexer": "r",
   "version": "4.1.2"
  }
 },
 "nbformat": 4,
 "nbformat_minor": 2
}
