{
 "cells": [
  {
   "cell_type": "raw",
   "metadata": {},
   "source": [
    "19 Functions"
   ]
  },
  {
   "cell_type": "raw",
   "metadata": {},
   "source": [
    "19.1 Introduction"
   ]
  },
  {
   "cell_type": "raw",
   "metadata": {},
   "source": [
    "NN\n",
    "function advantages\n",
    "    names\n",
    "    update code 1 place\n",
    "    copypaste --> updates everywhere\n",
    "\n",
    "One of the best ways to improve your reach as a data scientist is to write functions. Functions allow you to automate common tasks in a more powerful and general way than copy-and-pasting. Writing a function has three big advantages over using copy-and-paste:\n",
    "\n",
    "You can give a function an evocative name that makes your code easier to understand.\n",
    "\n",
    "As requirements change, you only need to update code in one place, instead of many.\n",
    "\n",
    "You eliminate the chance of making incidental mistakes when you copy and paste (i.e. updating a variable name in one place, but not in another).\n",
    "\n",
    "Writing good functions is a lifetime journey. Even after using R for many years I still learn new techniques and better ways of approaching old problems. The goal of this chapter is not to teach you every esoteric detail of functions but to get you started with some pragmatic advice that you can apply immediately.\n",
    "\n",
    "As well as practical advice for writing functions, this chapter also gives you some suggestions for how to style your code. Good code style is like correct punctuation. Youcanmanagewithoutit, but it sure makes things easier to read! As with styles of punctuation, there are many possible variations. Here we present the style we use in our code, but the most important thing is to be consistent."
   ]
  },
  {
   "cell_type": "raw",
   "metadata": {},
   "source": [
    "19.1.1 Prerequisites"
   ]
  },
  {
   "cell_type": "raw",
   "metadata": {},
   "source": [
    "The focus of this chapter is on writing functions in base R, so you won’t need any extra packages."
   ]
  },
  {
   "cell_type": "raw",
   "metadata": {},
   "source": [
    "19.2 When should you write a function?"
   ]
  },
  {
   "cell_type": "raw",
   "metadata": {},
   "source": [
    "NN\n",
    "copy and paste code block more than 2x --> make a func\n",
    "******\n",
    "\n",
    "You should consider writing a function whenever you’ve copied and pasted a block of code more than twice (i.e. you now have three copies of the same code). For example, take a look at this code. What does it do?"
   ]
  },
  {
   "cell_type": "code",
   "execution_count": 2,
   "metadata": {},
   "outputs": [],
   "source": [
    "df <- tibble::tibble(\n",
    "  a = rnorm(10),\n",
    "  b = rnorm(10),\n",
    "  c = rnorm(10),\n",
    "  d = rnorm(10)\n",
    ")\n",
    "\n",
    "df$a <- (df$a - min(df$a, na.rm = TRUE)) / \n",
    "  (max(df$a, na.rm = TRUE) - min(df$a, na.rm = TRUE))\n",
    "df$b <- (df$b - min(df$b, na.rm = TRUE)) / \n",
    "  (max(df$b, na.rm = TRUE) - min(df$a, na.rm = TRUE))\n",
    "df$c <- (df$c - min(df$c, na.rm = TRUE)) / \n",
    "  (max(df$c, na.rm = TRUE) - min(df$c, na.rm = TRUE))\n",
    "df$d <- (df$d - min(df$d, na.rm = TRUE)) / \n",
    "  (max(df$d, na.rm = TRUE) - min(df$d, na.rm = TRUE))"
   ]
  },
  {
   "cell_type": "raw",
   "metadata": {},
   "source": [
    "NN\n",
    "copypaste error in above block\n",
    "\n",
    "You might be able to puzzle out that this rescales each column to have a range from 0 to 1. But did you spot the mistake? I made an error when copying-and-pasting the code for df$b: I forgot to change an a to a b. Extracting repeated code out into a function is a good idea because it prevents you from making this type of mistake.\n",
    "\n",
    "To write a function you need to first analyse the code. How many inputs does it have?"
   ]
  },
  {
   "cell_type": "code",
   "execution_count": null,
   "metadata": {},
   "outputs": [],
   "source": [
    "(df$a - min(df$a, na.rm = TRUE)) /\n",
    "  (max(df$a, na.rm = TRUE) - min(df$a, na.rm = TRUE))"
   ]
  },
  {
   "cell_type": "raw",
   "metadata": {},
   "source": [
    "NN\n",
    "1. how many inputs?\n",
    "2. write code w generic name x<-a e.g.\n",
    "******\n",
    "\n",
    "This code only has one input: df$a. (If you’re surprised that TRUE is not an input, you can explore why in the exercise below.) To make the inputs more clear, it’s a good idea to rewrite the code using temporary variables with general names. Here this code only requires a single numeric vector, so I’ll call it x:"
   ]
  },
  {
   "cell_type": "code",
   "execution_count": null,
   "metadata": {},
   "outputs": [],
   "source": [
    "x <- df$a\n",
    "(x - min(x, na.rm = TRUE)) / (max(x, na.rm = TRUE) - min(x, na.rm = TRUE))"
   ]
  },
  {
   "cell_type": "raw",
   "metadata": {},
   "source": [
    "NN\n",
    "3. elim dup ops\n",
    "****\n",
    "\n",
    "There is some duplication in this code. We’re computing the range of the data three times, so it makes sense to do it in one step:"
   ]
  },
  {
   "cell_type": "code",
   "execution_count": null,
   "metadata": {},
   "outputs": [],
   "source": [
    "rng <- range(x, na.rm = TRUE)\n",
    "(x - rng[1]) / (rng[2] - rng[1])"
   ]
  },
  {
   "cell_type": "raw",
   "metadata": {},
   "source": [
    "NN\n",
    "4. intermediate calcs\n",
    "5. make function\n",
    "*****\n",
    "\n",
    "Pulling out intermediate calculations into named variables is a good practice because it makes it more clear what the code is doing. Now that I’ve simplified the code, and checked that it still works, I can turn it into a function:\n",
    "\n",
    "[notice**** r func has auto return value]"
   ]
  },
  {
   "cell_type": "code",
   "execution_count": 3,
   "metadata": {},
   "outputs": [
    {
     "data": {
      "text/html": [
       "<ol class=list-inline>\n",
       "\t<li>0</li>\n",
       "\t<li>0.5</li>\n",
       "\t<li>1</li>\n",
       "</ol>\n"
      ],
      "text/latex": [
       "\\begin{enumerate*}\n",
       "\\item 0\n",
       "\\item 0.5\n",
       "\\item 1\n",
       "\\end{enumerate*}\n"
      ],
      "text/markdown": [
       "1. 0\n",
       "2. 0.5\n",
       "3. 1\n",
       "\n",
       "\n"
      ],
      "text/plain": [
       "[1] 0.0 0.5 1.0"
      ]
     },
     "metadata": {},
     "output_type": "display_data"
    }
   ],
   "source": [
    "rescale01 <- function(x) {\n",
    "  rng <- range(x, na.rm = TRUE)\n",
    "  (x - rng[1]) / (rng[2] - rng[1])\n",
    "}\n",
    "rescale01(c(0, 5, 10))"
   ]
  },
  {
   "cell_type": "raw",
   "metadata": {},
   "source": [
    "NN\n",
    "easier to make a function AFTER its working simple code (ie not func)\n",
    "then, 3 key steps \n",
    "good_name <- function(list, inputs) {code in body}\n",
    "*******\n",
    "\n",
    "There are three key steps to creating a new function:\n",
    "\n",
    "1.  You need to pick a name for the function. Here I’ve used rescale01 because this function rescales a vector to lie between 0 and 1.\n",
    "\n",
    "2.  You list the inputs, or arguments, to the function inside function. Here we have just one argument. If we had more the call would look like function(x, y, z).\n",
    "\n",
    "3.  You place the code you have developed in body of the function, a { block that immediately follows function(...).\n",
    "\n",
    "Note the overall process: I only made the function after I’d figured out how to make it work with a simple input. It’s easier to start with working code and turn it into a function; it’s harder to create a function and then try to make it work.\n",
    "\n",
    "At this point it’s a good idea to check your function with a few different inputs:"
   ]
  },
  {
   "cell_type": "code",
   "execution_count": 4,
   "metadata": {},
   "outputs": [
    {
     "data": {
      "text/html": [
       "<ol class=list-inline>\n",
       "\t<li>0</li>\n",
       "\t<li>0.5</li>\n",
       "\t<li>1</li>\n",
       "</ol>\n"
      ],
      "text/latex": [
       "\\begin{enumerate*}\n",
       "\\item 0\n",
       "\\item 0.5\n",
       "\\item 1\n",
       "\\end{enumerate*}\n"
      ],
      "text/markdown": [
       "1. 0\n",
       "2. 0.5\n",
       "3. 1\n",
       "\n",
       "\n"
      ],
      "text/plain": [
       "[1] 0.0 0.5 1.0"
      ]
     },
     "metadata": {},
     "output_type": "display_data"
    },
    {
     "data": {
      "text/html": [
       "<ol class=list-inline>\n",
       "\t<li>0</li>\n",
       "\t<li>0.25</li>\n",
       "\t<li>0.5</li>\n",
       "\t<li>&lt;NA&gt;</li>\n",
       "\t<li>1</li>\n",
       "</ol>\n"
      ],
      "text/latex": [
       "\\begin{enumerate*}\n",
       "\\item 0\n",
       "\\item 0.25\n",
       "\\item 0.5\n",
       "\\item <NA>\n",
       "\\item 1\n",
       "\\end{enumerate*}\n"
      ],
      "text/markdown": [
       "1. 0\n",
       "2. 0.25\n",
       "3. 0.5\n",
       "4. &lt;NA&gt;\n",
       "5. 1\n",
       "\n",
       "\n"
      ],
      "text/plain": [
       "[1] 0.00 0.25 0.50   NA 1.00"
      ]
     },
     "metadata": {},
     "output_type": "display_data"
    }
   ],
   "source": [
    "rescale01(c(-10, 0, 10))\n",
    "rescale01(c(1, 2, 3, NA, 5))"
   ]
  },
  {
   "cell_type": "markdown",
   "metadata": {},
   "source": [
    "NN\n",
    "unit tests\n",
    "\n",
    "As you write more and more functions you’ll eventually want to convert these informal, interactive tests into formal, automated tests. That process is called unit testing. Unfortunately, it’s beyond the scope of this book, but you can learn about it in http://r-pkgs.had.co.nz/tests.html.\n",
    "\n",
    "We can simplify the original example now that we have a function:"
   ]
  },
  {
   "cell_type": "code",
   "execution_count": 7,
   "metadata": {},
   "outputs": [
    {
     "data": {
      "text/html": [
       "<ol class=list-inline>\n",
       "\t<li>0.344029396830272</li>\n",
       "\t<li>0.563511930116877</li>\n",
       "\t<li>0.579383664958552</li>\n",
       "\t<li>0.724077652865907</li>\n",
       "\t<li>0.574647133368324</li>\n",
       "\t<li>1</li>\n",
       "\t<li>0.534012859767227</li>\n",
       "\t<li>0</li>\n",
       "\t<li>0.439880162975067</li>\n",
       "\t<li>0.511273046089686</li>\n",
       "</ol>\n"
      ],
      "text/latex": [
       "\\begin{enumerate*}\n",
       "\\item 0.344029396830272\n",
       "\\item 0.563511930116877\n",
       "\\item 0.579383664958552\n",
       "\\item 0.724077652865907\n",
       "\\item 0.574647133368324\n",
       "\\item 1\n",
       "\\item 0.534012859767227\n",
       "\\item 0\n",
       "\\item 0.439880162975067\n",
       "\\item 0.511273046089686\n",
       "\\end{enumerate*}\n"
      ],
      "text/markdown": [
       "1. 0.344029396830272\n",
       "2. 0.563511930116877\n",
       "3. 0.579383664958552\n",
       "4. 0.724077652865907\n",
       "5. 0.574647133368324\n",
       "6. 1\n",
       "7. 0.534012859767227\n",
       "8. 0\n",
       "9. 0.439880162975067\n",
       "10. 0.511273046089686\n",
       "\n",
       "\n"
      ],
      "text/plain": [
       " [1] 0.3440294 0.5635119 0.5793837 0.7240777 0.5746471 1.0000000 0.5340129\n",
       " [8] 0.0000000 0.4398802 0.5112730"
      ]
     },
     "metadata": {},
     "output_type": "display_data"
    },
    {
     "data": {
      "text/html": [
       "<ol class=list-inline>\n",
       "\t<li>0.862418261122678</li>\n",
       "\t<li>0.499788778533712</li>\n",
       "\t<li>0.780159348361519</li>\n",
       "\t<li>0</li>\n",
       "\t<li>0.571760116001173</li>\n",
       "\t<li>1</li>\n",
       "\t<li>0.567267323860273</li>\n",
       "\t<li>0.128447154290513</li>\n",
       "\t<li>0.504148242791964</li>\n",
       "\t<li>0.0113068058166424</li>\n",
       "</ol>\n"
      ],
      "text/latex": [
       "\\begin{enumerate*}\n",
       "\\item 0.862418261122678\n",
       "\\item 0.499788778533712\n",
       "\\item 0.780159348361519\n",
       "\\item 0\n",
       "\\item 0.571760116001173\n",
       "\\item 1\n",
       "\\item 0.567267323860273\n",
       "\\item 0.128447154290513\n",
       "\\item 0.504148242791964\n",
       "\\item 0.0113068058166424\n",
       "\\end{enumerate*}\n"
      ],
      "text/markdown": [
       "1. 0.862418261122678\n",
       "2. 0.499788778533712\n",
       "3. 0.780159348361519\n",
       "4. 0\n",
       "5. 0.571760116001173\n",
       "6. 1\n",
       "7. 0.567267323860273\n",
       "8. 0.128447154290513\n",
       "9. 0.504148242791964\n",
       "10. 0.0113068058166424\n",
       "\n",
       "\n"
      ],
      "text/plain": [
       " [1] 0.86241826 0.49978878 0.78015935 0.00000000 0.57176012 1.00000000\n",
       " [7] 0.56726732 0.12844715 0.50414824 0.01130681"
      ]
     },
     "metadata": {},
     "output_type": "display_data"
    },
    {
     "data": {
      "text/html": [
       "<ol class=list-inline>\n",
       "\t<li>0.0518529251164275</li>\n",
       "\t<li>0.388425540036696</li>\n",
       "\t<li>0.451482973591959</li>\n",
       "\t<li>1</li>\n",
       "\t<li>0</li>\n",
       "\t<li>0.734144393286166</li>\n",
       "\t<li>0.794985060024223</li>\n",
       "\t<li>0.111938956793393</li>\n",
       "\t<li>0.551688912099739</li>\n",
       "\t<li>0.563019847910665</li>\n",
       "</ol>\n"
      ],
      "text/latex": [
       "\\begin{enumerate*}\n",
       "\\item 0.0518529251164275\n",
       "\\item 0.388425540036696\n",
       "\\item 0.451482973591959\n",
       "\\item 1\n",
       "\\item 0\n",
       "\\item 0.734144393286166\n",
       "\\item 0.794985060024223\n",
       "\\item 0.111938956793393\n",
       "\\item 0.551688912099739\n",
       "\\item 0.563019847910665\n",
       "\\end{enumerate*}\n"
      ],
      "text/markdown": [
       "1. 0.0518529251164275\n",
       "2. 0.388425540036696\n",
       "3. 0.451482973591959\n",
       "4. 1\n",
       "5. 0\n",
       "6. 0.734144393286166\n",
       "7. 0.794985060024223\n",
       "8. 0.111938956793393\n",
       "9. 0.551688912099739\n",
       "10. 0.563019847910665\n",
       "\n",
       "\n"
      ],
      "text/plain": [
       " [1] 0.05185293 0.38842554 0.45148297 1.00000000 0.00000000 0.73414439\n",
       " [7] 0.79498506 0.11193896 0.55168891 0.56301985"
      ]
     },
     "metadata": {},
     "output_type": "display_data"
    },
    {
     "data": {
      "text/html": [
       "<ol class=list-inline>\n",
       "\t<li>0.564448046966905</li>\n",
       "\t<li>0.646974239329245</li>\n",
       "\t<li>0.36224982244234</li>\n",
       "\t<li>0.95333391837966</li>\n",
       "\t<li>0.0164836401690432</li>\n",
       "\t<li>0</li>\n",
       "\t<li>0.27646927039035</li>\n",
       "\t<li>1</li>\n",
       "\t<li>0.29873765231292</li>\n",
       "\t<li>0.566971609140851</li>\n",
       "</ol>\n"
      ],
      "text/latex": [
       "\\begin{enumerate*}\n",
       "\\item 0.564448046966905\n",
       "\\item 0.646974239329245\n",
       "\\item 0.36224982244234\n",
       "\\item 0.95333391837966\n",
       "\\item 0.0164836401690432\n",
       "\\item 0\n",
       "\\item 0.27646927039035\n",
       "\\item 1\n",
       "\\item 0.29873765231292\n",
       "\\item 0.566971609140851\n",
       "\\end{enumerate*}\n"
      ],
      "text/markdown": [
       "1. 0.564448046966905\n",
       "2. 0.646974239329245\n",
       "3. 0.36224982244234\n",
       "4. 0.95333391837966\n",
       "5. 0.0164836401690432\n",
       "6. 0\n",
       "7. 0.27646927039035\n",
       "8. 1\n",
       "9. 0.29873765231292\n",
       "10. 0.566971609140851\n",
       "\n",
       "\n"
      ],
      "text/plain": [
       " [1] 0.56444805 0.64697424 0.36224982 0.95333392 0.01648364 0.00000000\n",
       " [7] 0.27646927 1.00000000 0.29873765 0.56697161"
      ]
     },
     "metadata": {},
     "output_type": "display_data"
    }
   ],
   "source": [
    "df$a <- rescale01(df$a)\n",
    "df$b <- rescale01(df$b)\n",
    "df$c <- rescale01(df$c)\n",
    "df$d <- rescale01(df$d)\n",
    "\n",
    "df$a; df$b; df$c; df$d"
   ]
  },
  {
   "cell_type": "raw",
   "metadata": {},
   "source": [
    "Compared to the original, this code is easier to understand and we’ve eliminated one class of copy-and-paste errors. There is still quite a bit of duplication since we’re doing the same thing to multiple columns. We’ll learn how to eliminate that duplication in iteration, once you’ve learned more about R’s data structures in vectors.\n",
    "\n",
    "Another advantage of functions is that if our requirements change, we only need to make the change in one place. For example, we might discover that some of our variables include infinite values, and rescale01() fails:"
   ]
  },
  {
   "cell_type": "code",
   "execution_count": 8,
   "metadata": {},
   "outputs": [
    {
     "data": {
      "text/html": [
       "<ol class=list-inline>\n",
       "\t<li>0</li>\n",
       "\t<li>0</li>\n",
       "\t<li>0</li>\n",
       "\t<li>0</li>\n",
       "\t<li>0</li>\n",
       "\t<li>0</li>\n",
       "\t<li>0</li>\n",
       "\t<li>0</li>\n",
       "\t<li>0</li>\n",
       "\t<li>0</li>\n",
       "\t<li>NaN</li>\n",
       "</ol>\n"
      ],
      "text/latex": [
       "\\begin{enumerate*}\n",
       "\\item 0\n",
       "\\item 0\n",
       "\\item 0\n",
       "\\item 0\n",
       "\\item 0\n",
       "\\item 0\n",
       "\\item 0\n",
       "\\item 0\n",
       "\\item 0\n",
       "\\item 0\n",
       "\\item NaN\n",
       "\\end{enumerate*}\n"
      ],
      "text/markdown": [
       "1. 0\n",
       "2. 0\n",
       "3. 0\n",
       "4. 0\n",
       "5. 0\n",
       "6. 0\n",
       "7. 0\n",
       "8. 0\n",
       "9. 0\n",
       "10. 0\n",
       "11. NaN\n",
       "\n",
       "\n"
      ],
      "text/plain": [
       " [1]   0   0   0   0   0   0   0   0   0   0 NaN"
      ]
     },
     "metadata": {},
     "output_type": "display_data"
    }
   ],
   "source": [
    "x <- c(1:10, Inf)\n",
    "rescale01(x)"
   ]
  },
  {
   "cell_type": "raw",
   "metadata": {},
   "source": [
    "NN\n",
    "range(c(), na.rm = TRUE, finite = TRUE)\n",
    "*******\n",
    "\n",
    "Because we’ve extracted the code into a function, we only need to make the fix in one place:"
   ]
  },
  {
   "cell_type": "code",
   "execution_count": 9,
   "metadata": {},
   "outputs": [
    {
     "data": {
      "text/html": [
       "<ol class=list-inline>\n",
       "\t<li>0</li>\n",
       "\t<li>0.111111111111111</li>\n",
       "\t<li>0.222222222222222</li>\n",
       "\t<li>0.333333333333333</li>\n",
       "\t<li>0.444444444444444</li>\n",
       "\t<li>0.555555555555556</li>\n",
       "\t<li>0.666666666666667</li>\n",
       "\t<li>0.777777777777778</li>\n",
       "\t<li>0.888888888888889</li>\n",
       "\t<li>1</li>\n",
       "\t<li>Inf</li>\n",
       "</ol>\n"
      ],
      "text/latex": [
       "\\begin{enumerate*}\n",
       "\\item 0\n",
       "\\item 0.111111111111111\n",
       "\\item 0.222222222222222\n",
       "\\item 0.333333333333333\n",
       "\\item 0.444444444444444\n",
       "\\item 0.555555555555556\n",
       "\\item 0.666666666666667\n",
       "\\item 0.777777777777778\n",
       "\\item 0.888888888888889\n",
       "\\item 1\n",
       "\\item Inf\n",
       "\\end{enumerate*}\n"
      ],
      "text/markdown": [
       "1. 0\n",
       "2. 0.111111111111111\n",
       "3. 0.222222222222222\n",
       "4. 0.333333333333333\n",
       "5. 0.444444444444444\n",
       "6. 0.555555555555556\n",
       "7. 0.666666666666667\n",
       "8. 0.777777777777778\n",
       "9. 0.888888888888889\n",
       "10. 1\n",
       "11. Inf\n",
       "\n",
       "\n"
      ],
      "text/plain": [
       " [1] 0.0000000 0.1111111 0.2222222 0.3333333 0.4444444 0.5555556 0.6666667\n",
       " [8] 0.7777778 0.8888889 1.0000000       Inf"
      ]
     },
     "metadata": {},
     "output_type": "display_data"
    }
   ],
   "source": [
    "rescale01 <- function(x) {\n",
    "  rng <- range(x, na.rm = TRUE, finite = TRUE)\n",
    "  (x - rng[1]) / (rng[2] - rng[1])\n",
    "}\n",
    "rescale01(x)"
   ]
  },
  {
   "cell_type": "raw",
   "metadata": {},
   "source": [
    "NN\n",
    "DRY principle\n",
    "******\n",
    "\n",
    "This is an important part of the “do not repeat yourself” (or DRY) principle. The more repetition you have in your code, the more places you need to remember to update when things change (and they always do!), and the more likely you are to create bugs over time."
   ]
  },
  {
   "cell_type": "raw",
   "metadata": {},
   "source": [
    "19.2.1 Practice"
   ]
  },
  {
   "cell_type": "raw",
   "metadata": {},
   "source": [
    "Q1. Why is TRUE not a parameter to rescale01()? What would happen if x contained a single missing value, and na.rm was FALSE?"
   ]
  },
  {
   "cell_type": "raw",
   "metadata": {},
   "source": [
    "The code for rescale01() is reproduced below."
   ]
  },
  {
   "cell_type": "code",
   "execution_count": 10,
   "metadata": {},
   "outputs": [],
   "source": [
    "rescale01 <- function(x) {\n",
    "  rng <- range(x, na.rm = TRUE, finite = TRUE)\n",
    "  (x - rng[1]) / (rng[2] - rng[1])\n",
    "}"
   ]
  },
  {
   "cell_type": "raw",
   "metadata": {},
   "source": [
    "If x contains a single missing value and na.rm = FALSE, then this function stills return a non-missing value."
   ]
  },
  {
   "cell_type": "code",
   "execution_count": 11,
   "metadata": {},
   "outputs": [
    {
     "data": {
      "text/html": [
       "<ol class=list-inline>\n",
       "\t<li>&lt;NA&gt;</li>\n",
       "\t<li>0</li>\n",
       "\t<li>0.25</li>\n",
       "\t<li>0.5</li>\n",
       "\t<li>0.75</li>\n",
       "\t<li>1</li>\n",
       "</ol>\n"
      ],
      "text/latex": [
       "\\begin{enumerate*}\n",
       "\\item <NA>\n",
       "\\item 0\n",
       "\\item 0.25\n",
       "\\item 0.5\n",
       "\\item 0.75\n",
       "\\item 1\n",
       "\\end{enumerate*}\n"
      ],
      "text/markdown": [
       "1. &lt;NA&gt;\n",
       "2. 0\n",
       "3. 0.25\n",
       "4. 0.5\n",
       "5. 0.75\n",
       "6. 1\n",
       "\n",
       "\n"
      ],
      "text/plain": [
       "[1]   NA 0.00 0.25 0.50 0.75 1.00"
      ]
     },
     "metadata": {},
     "output_type": "display_data"
    },
    {
     "data": {
      "text/html": [
       "<ol class=list-inline>\n",
       "\t<li>&lt;NA&gt;</li>\n",
       "\t<li>0</li>\n",
       "\t<li>0.25</li>\n",
       "\t<li>0.5</li>\n",
       "\t<li>0.75</li>\n",
       "\t<li>1</li>\n",
       "</ol>\n"
      ],
      "text/latex": [
       "\\begin{enumerate*}\n",
       "\\item <NA>\n",
       "\\item 0\n",
       "\\item 0.25\n",
       "\\item 0.5\n",
       "\\item 0.75\n",
       "\\item 1\n",
       "\\end{enumerate*}\n"
      ],
      "text/markdown": [
       "1. &lt;NA&gt;\n",
       "2. 0\n",
       "3. 0.25\n",
       "4. 0.5\n",
       "5. 0.75\n",
       "6. 1\n",
       "\n",
       "\n"
      ],
      "text/plain": [
       "[1]   NA 0.00 0.25 0.50 0.75 1.00"
      ]
     },
     "metadata": {},
     "output_type": "display_data"
    }
   ],
   "source": [
    "rescale01_alt <- function(x, na.rm = FALSE) {\n",
    "  rng <- range(x, na.rm = na.rm, finite = TRUE)\n",
    "  (x - rng[1]) / (rng[2] - rng[1])\n",
    "}\n",
    "rescale01_alt(c(NA, 1:5), na.rm = FALSE)\n",
    "rescale01_alt(c(NA, 1:5), na.rm = TRUE)"
   ]
  },
  {
   "cell_type": "raw",
   "metadata": {},
   "source": [
    "NN\n",
    "finite = TRUE\n",
    "*****\n",
    "\n",
    "The option finite = TRUE to range() will drop all non-finite elements, and NA is a non-finite element.\n",
    "\n",
    "However, if both finite = FALSE and na.rm = FALSE, then this function will return a vector of NA values. Recall, arithmetic operations involving NA values return NA."
   ]
  },
  {
   "cell_type": "code",
   "execution_count": 12,
   "metadata": {},
   "outputs": [
    {
     "data": {
      "text/html": [
       "<ol class=list-inline>\n",
       "\t<li>&lt;NA&gt;</li>\n",
       "\t<li>&lt;NA&gt;</li>\n",
       "\t<li>&lt;NA&gt;</li>\n",
       "\t<li>&lt;NA&gt;</li>\n",
       "\t<li>&lt;NA&gt;</li>\n",
       "\t<li>&lt;NA&gt;</li>\n",
       "</ol>\n"
      ],
      "text/latex": [
       "\\begin{enumerate*}\n",
       "\\item <NA>\n",
       "\\item <NA>\n",
       "\\item <NA>\n",
       "\\item <NA>\n",
       "\\item <NA>\n",
       "\\item <NA>\n",
       "\\end{enumerate*}\n"
      ],
      "text/markdown": [
       "1. &lt;NA&gt;\n",
       "2. &lt;NA&gt;\n",
       "3. &lt;NA&gt;\n",
       "4. &lt;NA&gt;\n",
       "5. &lt;NA&gt;\n",
       "6. &lt;NA&gt;\n",
       "\n",
       "\n"
      ],
      "text/plain": [
       "[1] NA NA NA NA NA NA"
      ]
     },
     "metadata": {},
     "output_type": "display_data"
    }
   ],
   "source": [
    "rescale01_alt2 <- function(x, na.rm = FALSE, finite = FALSE) {\n",
    "  rng <- range(x, na.rm = na.rm, finite = finite)\n",
    "  (x - rng[1]) / (rng[2] - rng[1])\n",
    "}\n",
    "rescale01_alt2(c(NA, 1:5), na.rm = FALSE, finite = FALSE)"
   ]
  },
  {
   "cell_type": "raw",
   "metadata": {},
   "source": [
    "Q2. In the second variant of rescale01(), infinite values are left unchanged. Rewrite rescale01() so that -Inf is mapped to 0, and Inf is mapped to 1."
   ]
  },
  {
   "cell_type": "code",
   "execution_count": 18,
   "metadata": {},
   "outputs": [
    {
     "data": {
      "text/html": [
       "<ol class=list-inline>\n",
       "\t<li>0</li>\n",
       "\t<li>10</li>\n",
       "</ol>\n"
      ],
      "text/latex": [
       "\\begin{enumerate*}\n",
       "\\item 0\n",
       "\\item 10\n",
       "\\end{enumerate*}\n"
      ],
      "text/markdown": [
       "1. 0\n",
       "2. 10\n",
       "\n",
       "\n"
      ],
      "text/plain": [
       "[1]  0 10"
      ]
     },
     "metadata": {},
     "output_type": "display_data"
    },
    {
     "data": {
      "text/html": [
       "0"
      ],
      "text/latex": [
       "0"
      ],
      "text/markdown": [
       "0"
      ],
      "text/plain": [
       "[1] 0"
      ]
     },
     "metadata": {},
     "output_type": "display_data"
    },
    {
     "data": {
      "text/html": [
       "10"
      ],
      "text/latex": [
       "10"
      ],
      "text/markdown": [
       "10"
      ],
      "text/plain": [
       "[1] 10"
      ]
     },
     "metadata": {},
     "output_type": "display_data"
    }
   ],
   "source": [
    "sample = c(0,1,2,3,4,2,3,4,10, Inf)\n",
    "rnge <- range(sample, na.rm = TRUE, finite = TRUE)\n",
    "rnge\n",
    "rnge[1]; rnge[2]"
   ]
  },
  {
   "cell_type": "code",
   "execution_count": 28,
   "metadata": {},
   "outputs": [
    {
     "data": {
      "text/html": [
       "<ol class=list-inline>\n",
       "\t<li>0</li>\n",
       "\t<li>1</li>\n",
       "\t<li>2</li>\n",
       "\t<li>3</li>\n",
       "\t<li>4</li>\n",
       "\t<li>2</li>\n",
       "\t<li>3</li>\n",
       "\t<li>4</li>\n",
       "\t<li>10</li>\n",
       "\t<li>Inf</li>\n",
       "</ol>\n"
      ],
      "text/latex": [
       "\\begin{enumerate*}\n",
       "\\item 0\n",
       "\\item 1\n",
       "\\item 2\n",
       "\\item 3\n",
       "\\item 4\n",
       "\\item 2\n",
       "\\item 3\n",
       "\\item 4\n",
       "\\item 10\n",
       "\\item Inf\n",
       "\\end{enumerate*}\n"
      ],
      "text/markdown": [
       "1. 0\n",
       "2. 1\n",
       "3. 2\n",
       "4. 3\n",
       "5. 4\n",
       "6. 2\n",
       "7. 3\n",
       "8. 4\n",
       "9. 10\n",
       "10. Inf\n",
       "\n",
       "\n"
      ],
      "text/plain": [
       " [1]   0   1   2   3   4   2   3   4  10 Inf"
      ]
     },
     "metadata": {},
     "output_type": "display_data"
    },
    {
     "data": {
      "text/html": [
       "10"
      ],
      "text/latex": [
       "10"
      ],
      "text/markdown": [
       "10"
      ],
      "text/plain": [
       "[1] 10"
      ]
     },
     "metadata": {},
     "output_type": "display_data"
    },
    {
     "data": {
      "text/html": [
       "Inf"
      ],
      "text/latex": [
       "Inf"
      ],
      "text/markdown": [
       "Inf"
      ],
      "text/plain": [
       "[1] Inf"
      ]
     },
     "metadata": {},
     "output_type": "display_data"
    },
    {
     "data": {
      "text/html": [
       "<ol class=list-inline>\n",
       "\t<li>0</li>\n",
       "\t<li>0.1</li>\n",
       "\t<li>0.2</li>\n",
       "\t<li>0.3</li>\n",
       "\t<li>0.4</li>\n",
       "\t<li>0.2</li>\n",
       "\t<li>0.3</li>\n",
       "\t<li>0.4</li>\n",
       "\t<li>1</li>\n",
       "\t<li>1</li>\n",
       "</ol>\n"
      ],
      "text/latex": [
       "\\begin{enumerate*}\n",
       "\\item 0\n",
       "\\item 0.1\n",
       "\\item 0.2\n",
       "\\item 0.3\n",
       "\\item 0.4\n",
       "\\item 0.2\n",
       "\\item 0.3\n",
       "\\item 0.4\n",
       "\\item 1\n",
       "\\item 1\n",
       "\\end{enumerate*}\n"
      ],
      "text/markdown": [
       "1. 0\n",
       "2. 0.1\n",
       "3. 0.2\n",
       "4. 0.3\n",
       "5. 0.4\n",
       "6. 0.2\n",
       "7. 0.3\n",
       "8. 0.4\n",
       "9. 1\n",
       "10. 1\n",
       "\n",
       "\n"
      ],
      "text/plain": [
       " [1] 0.0 0.1 0.2 0.3 0.4 0.2 0.3 0.4 1.0 1.0"
      ]
     },
     "metadata": {},
     "output_type": "display_data"
    }
   ],
   "source": [
    "yeen <- (sample - rnge[1])\n",
    "yeen\n",
    "yeed <- (rnge[2] - rnge[1])\n",
    "yeed\n",
    "yee <- yeen/yeed\n",
    "yee[yee==Inf]\n",
    "yee[yee==Inf] <- 1\n",
    "yee"
   ]
  },
  {
   "cell_type": "code",
   "execution_count": 26,
   "metadata": {},
   "outputs": [
    {
     "data": {
      "text/html": [
       "<ol class=list-inline>\n",
       "\t<li>1</li>\n",
       "\t<li>0</li>\n",
       "\t<li>0</li>\n",
       "\t<li>0.2</li>\n",
       "\t<li>0.4</li>\n",
       "\t<li>0.6</li>\n",
       "\t<li>0.8</li>\n",
       "\t<li>1</li>\n",
       "\t<li>&lt;NA&gt;</li>\n",
       "</ol>\n"
      ],
      "text/latex": [
       "\\begin{enumerate*}\n",
       "\\item 1\n",
       "\\item 0\n",
       "\\item 0\n",
       "\\item 0.2\n",
       "\\item 0.4\n",
       "\\item 0.6\n",
       "\\item 0.8\n",
       "\\item 1\n",
       "\\item <NA>\n",
       "\\end{enumerate*}\n"
      ],
      "text/markdown": [
       "1. 1\n",
       "2. 0\n",
       "3. 0\n",
       "4. 0.2\n",
       "5. 0.4\n",
       "6. 0.6\n",
       "7. 0.8\n",
       "8. 1\n",
       "9. &lt;NA&gt;\n",
       "\n",
       "\n"
      ],
      "text/plain": [
       "[1] 1.0 0.0 0.0 0.2 0.4 0.6 0.8 1.0  NA"
      ]
     },
     "metadata": {},
     "output_type": "display_data"
    }
   ],
   "source": [
    "rescale01 <- function(x) {\n",
    "  rng <- range(x, na.rm = TRUE, finite = TRUE)\n",
    "  y <- (x - rng[1]) / (rng[2] - rng[1])\n",
    "  y[y == -Inf] <- 0\n",
    "  y[y == Inf] <- 1\n",
    "  y\n",
    "}\n",
    "\n",
    "rescale01(c(Inf, -Inf, 0:5, NA))"
   ]
  },
  {
   "cell_type": "raw",
   "metadata": {},
   "source": [
    "Q3. Practice turning the following code snippets into functions. Think about what each function does. What would you call it? How many arguments does it need? Can you rewrite it to be more expressive or less duplicative?"
   ]
  },
  {
   "cell_type": "code",
   "execution_count": 31,
   "metadata": {},
   "outputs": [
    {
     "data": {
      "text/html": [
       "<ol class=list-inline>\n",
       "\t<li>FALSE</li>\n",
       "\t<li>FALSE</li>\n",
       "\t<li>FALSE</li>\n",
       "\t<li>TRUE</li>\n",
       "\t<li>FALSE</li>\n",
       "\t<li>TRUE</li>\n",
       "</ol>\n"
      ],
      "text/latex": [
       "\\begin{enumerate*}\n",
       "\\item FALSE\n",
       "\\item FALSE\n",
       "\\item FALSE\n",
       "\\item TRUE\n",
       "\\item FALSE\n",
       "\\item TRUE\n",
       "\\end{enumerate*}\n"
      ],
      "text/markdown": [
       "1. FALSE\n",
       "2. FALSE\n",
       "3. FALSE\n",
       "4. TRUE\n",
       "5. FALSE\n",
       "6. TRUE\n",
       "\n",
       "\n"
      ],
      "text/plain": [
       "[1] FALSE FALSE FALSE  TRUE FALSE  TRUE"
      ]
     },
     "metadata": {},
     "output_type": "display_data"
    },
    {
     "data": {
      "text/html": [
       "<ol class=list-inline>\n",
       "\t<li>0</li>\n",
       "\t<li>0.142857142857143</li>\n",
       "\t<li>0.285714285714286</li>\n",
       "\t<li>&lt;NA&gt;</li>\n",
       "\t<li>0.571428571428571</li>\n",
       "\t<li>&lt;NA&gt;</li>\n",
       "</ol>\n"
      ],
      "text/latex": [
       "\\begin{enumerate*}\n",
       "\\item 0\n",
       "\\item 0.142857142857143\n",
       "\\item 0.285714285714286\n",
       "\\item <NA>\n",
       "\\item 0.571428571428571\n",
       "\\item <NA>\n",
       "\\end{enumerate*}\n"
      ],
      "text/markdown": [
       "1. 0\n",
       "2. 0.142857142857143\n",
       "3. 0.285714285714286\n",
       "4. &lt;NA&gt;\n",
       "5. 0.571428571428571\n",
       "6. &lt;NA&gt;\n",
       "\n",
       "\n"
      ],
      "text/plain": [
       "[1] 0.0000000 0.1428571 0.2857143        NA 0.5714286        NA"
      ]
     },
     "metadata": {},
     "output_type": "display_data"
    },
    {
     "data": {
      "text/html": [
       "0.975900072948533"
      ],
      "text/latex": [
       "0.975900072948533"
      ],
      "text/markdown": [
       "0.975900072948533"
      ],
      "text/plain": [
       "[1] 0.9759001"
      ]
     },
     "metadata": {},
     "output_type": "display_data"
    }
   ],
   "source": [
    "xx <- c(0, 1, 2, NA, 4, NA)\n",
    "mean(is.na(xx))  # mean of (0,0,01,0,1)\n",
    "\n",
    "xx / sum(xx, na.rm = TRUE)  # (0/7, 1/7, 2/7, na/7, 4/7, na/7)\n",
    "\n",
    "sd(xx, na.rm = TRUE) / mean(xx, na.rm = TRUE) # sd(0,1,2,4)/mean(0,1,2,4)"
   ]
  },
  {
   "cell_type": "raw",
   "metadata": {},
   "source": [
    "This code calculates the proportion of NA values in a vector."
   ]
  },
  {
   "cell_type": "code",
   "execution_count": 33,
   "metadata": {},
   "outputs": [
    {
     "data": {
      "text/html": [
       "0"
      ],
      "text/latex": [
       "0"
      ],
      "text/markdown": [
       "0"
      ],
      "text/plain": [
       "[1] 0"
      ]
     },
     "metadata": {},
     "output_type": "display_data"
    }
   ],
   "source": [
    "mean(is.na(x))"
   ]
  },
  {
   "cell_type": "raw",
   "metadata": {},
   "source": [
    "I will write it as a function named prop_na() that takes a single argument x, and returns a single numeric value between 0 and 1."
   ]
  },
  {
   "cell_type": "code",
   "execution_count": 34,
   "metadata": {},
   "outputs": [
    {
     "data": {
      "text/html": [
       "0.333333333333333"
      ],
      "text/latex": [
       "0.333333333333333"
      ],
      "text/markdown": [
       "0.333333333333333"
      ],
      "text/plain": [
       "[1] 0.3333333"
      ]
     },
     "metadata": {},
     "output_type": "display_data"
    }
   ],
   "source": [
    "prop_na <- function(x) {\n",
    "  mean(is.na(x))\n",
    "}\n",
    "prop_na(c(0, 1, 2, NA, 4, NA))"
   ]
  },
  {
   "cell_type": "raw",
   "metadata": {},
   "source": [
    "This code standardizes a vector so that it sums to one."
   ]
  },
  {
   "cell_type": "code",
   "execution_count": 35,
   "metadata": {},
   "outputs": [
    {
     "data": {
      "text/html": [
       "<ol class=list-inline>\n",
       "\t<li>0</li>\n",
       "\t<li>0</li>\n",
       "\t<li>0</li>\n",
       "\t<li>0</li>\n",
       "\t<li>0</li>\n",
       "\t<li>0</li>\n",
       "\t<li>0</li>\n",
       "\t<li>0</li>\n",
       "\t<li>0</li>\n",
       "\t<li>0</li>\n",
       "\t<li>NaN</li>\n",
       "</ol>\n"
      ],
      "text/latex": [
       "\\begin{enumerate*}\n",
       "\\item 0\n",
       "\\item 0\n",
       "\\item 0\n",
       "\\item 0\n",
       "\\item 0\n",
       "\\item 0\n",
       "\\item 0\n",
       "\\item 0\n",
       "\\item 0\n",
       "\\item 0\n",
       "\\item NaN\n",
       "\\end{enumerate*}\n"
      ],
      "text/markdown": [
       "1. 0\n",
       "2. 0\n",
       "3. 0\n",
       "4. 0\n",
       "5. 0\n",
       "6. 0\n",
       "7. 0\n",
       "8. 0\n",
       "9. 0\n",
       "10. 0\n",
       "11. NaN\n",
       "\n",
       "\n"
      ],
      "text/plain": [
       " [1]   0   0   0   0   0   0   0   0   0   0 NaN"
      ]
     },
     "metadata": {},
     "output_type": "display_data"
    }
   ],
   "source": [
    "x / sum(x, na.rm = TRUE)"
   ]
  },
  {
   "cell_type": "raw",
   "metadata": {},
   "source": [
    "I’ll write a function named sum_to_one(), which is a function of a single argument, x, the vector to standardize, and an optional argument na.rm. The optional argument, na.rm, makes the function more expressive, since it can handle NA values in two ways (returning NA or dropping them). Additionally, this makes sum_to_one() consistent with sum(), mean(), and many other R functions which have a na.rm argument. While the example code had na.rm = TRUE, I set na.rm = FALSE by default in order to make the function behave the same as the built-in functions like sum() and mean() in its handling of missing values."
   ]
  },
  {
   "cell_type": "code",
   "execution_count": 36,
   "metadata": {},
   "outputs": [],
   "source": [
    "sum_to_one <- function(x, na.rm = FALSE) {\n",
    "  x / sum(x, na.rm = na.rm)\n",
    "}"
   ]
  },
  {
   "cell_type": "code",
   "execution_count": 37,
   "metadata": {},
   "outputs": [
    {
     "data": {
      "text/html": [
       "<ol class=list-inline>\n",
       "\t<li>0.0666666666666667</li>\n",
       "\t<li>0.133333333333333</li>\n",
       "\t<li>0.2</li>\n",
       "\t<li>0.266666666666667</li>\n",
       "\t<li>0.333333333333333</li>\n",
       "</ol>\n"
      ],
      "text/latex": [
       "\\begin{enumerate*}\n",
       "\\item 0.0666666666666667\n",
       "\\item 0.133333333333333\n",
       "\\item 0.2\n",
       "\\item 0.266666666666667\n",
       "\\item 0.333333333333333\n",
       "\\end{enumerate*}\n"
      ],
      "text/markdown": [
       "1. 0.0666666666666667\n",
       "2. 0.133333333333333\n",
       "3. 0.2\n",
       "4. 0.266666666666667\n",
       "5. 0.333333333333333\n",
       "\n",
       "\n"
      ],
      "text/plain": [
       "[1] 0.06666667 0.13333333 0.20000000 0.26666667 0.33333333"
      ]
     },
     "metadata": {},
     "output_type": "display_data"
    },
    {
     "data": {
      "text/html": [
       "<ol class=list-inline>\n",
       "\t<li>&lt;NA&gt;</li>\n",
       "\t<li>&lt;NA&gt;</li>\n",
       "\t<li>&lt;NA&gt;</li>\n",
       "\t<li>&lt;NA&gt;</li>\n",
       "\t<li>&lt;NA&gt;</li>\n",
       "\t<li>&lt;NA&gt;</li>\n",
       "</ol>\n"
      ],
      "text/latex": [
       "\\begin{enumerate*}\n",
       "\\item <NA>\n",
       "\\item <NA>\n",
       "\\item <NA>\n",
       "\\item <NA>\n",
       "\\item <NA>\n",
       "\\item <NA>\n",
       "\\end{enumerate*}\n"
      ],
      "text/markdown": [
       "1. &lt;NA&gt;\n",
       "2. &lt;NA&gt;\n",
       "3. &lt;NA&gt;\n",
       "4. &lt;NA&gt;\n",
       "5. &lt;NA&gt;\n",
       "6. &lt;NA&gt;\n",
       "\n",
       "\n"
      ],
      "text/plain": [
       "[1] NA NA NA NA NA NA"
      ]
     },
     "metadata": {},
     "output_type": "display_data"
    },
    {
     "data": {
      "text/html": [
       "<ol class=list-inline>\n",
       "\t<li>0.0666666666666667</li>\n",
       "\t<li>0.133333333333333</li>\n",
       "\t<li>0.2</li>\n",
       "\t<li>0.266666666666667</li>\n",
       "\t<li>0.333333333333333</li>\n",
       "\t<li>&lt;NA&gt;</li>\n",
       "</ol>\n"
      ],
      "text/latex": [
       "\\begin{enumerate*}\n",
       "\\item 0.0666666666666667\n",
       "\\item 0.133333333333333\n",
       "\\item 0.2\n",
       "\\item 0.266666666666667\n",
       "\\item 0.333333333333333\n",
       "\\item <NA>\n",
       "\\end{enumerate*}\n"
      ],
      "text/markdown": [
       "1. 0.0666666666666667\n",
       "2. 0.133333333333333\n",
       "3. 0.2\n",
       "4. 0.266666666666667\n",
       "5. 0.333333333333333\n",
       "6. &lt;NA&gt;\n",
       "\n",
       "\n"
      ],
      "text/plain": [
       "[1] 0.06666667 0.13333333 0.20000000 0.26666667 0.33333333         NA"
      ]
     },
     "metadata": {},
     "output_type": "display_data"
    }
   ],
   "source": [
    "# no missing values\n",
    "sum_to_one(1:5)\n",
    "# if any missing, return all missing\n",
    "sum_to_one(c(1:5, NA))\n",
    "# drop missing values when standardizing\n",
    "sum_to_one(c(1:5, NA), na.rm = TRUE)"
   ]
  },
  {
   "cell_type": "raw",
   "metadata": {},
   "source": [
    "This code calculates the coefficient of variation (assuming that x can only take non-negative values), which is the standard deviation divided by the mean."
   ]
  },
  {
   "cell_type": "code",
   "execution_count": 38,
   "metadata": {},
   "outputs": [
    {
     "data": {
      "text/html": [
       "NaN"
      ],
      "text/latex": [
       "NaN"
      ],
      "text/markdown": [
       "NaN"
      ],
      "text/plain": [
       "[1] NaN"
      ]
     },
     "metadata": {},
     "output_type": "display_data"
    }
   ],
   "source": [
    "sd(x, na.rm = TRUE) / mean(x, na.rm = TRUE)"
   ]
  },
  {
   "cell_type": "raw",
   "metadata": {},
   "source": [
    "I’ll write a function named coef_variation(), which takes a single argument x, and an optional na.rm argument."
   ]
  },
  {
   "cell_type": "code",
   "execution_count": 39,
   "metadata": {},
   "outputs": [
    {
     "data": {
      "text/html": [
       "0.52704627669473"
      ],
      "text/latex": [
       "0.52704627669473"
      ],
      "text/markdown": [
       "0.52704627669473"
      ],
      "text/plain": [
       "[1] 0.5270463"
      ]
     },
     "metadata": {},
     "output_type": "display_data"
    },
    {
     "data": {
      "text/html": [
       "&lt;NA&gt;"
      ],
      "text/latex": [
       "<NA>"
      ],
      "text/markdown": [
       "&lt;NA&gt;"
      ],
      "text/plain": [
       "[1] NA"
      ]
     },
     "metadata": {},
     "output_type": "display_data"
    },
    {
     "data": {
      "text/html": [
       "0.52704627669473"
      ],
      "text/latex": [
       "0.52704627669473"
      ],
      "text/markdown": [
       "0.52704627669473"
      ],
      "text/plain": [
       "[1] 0.5270463"
      ]
     },
     "metadata": {},
     "output_type": "display_data"
    }
   ],
   "source": [
    "coef_variation <- function(x, na.rm = FALSE) {\n",
    "  sd(x, na.rm = na.rm) / mean(x, na.rm = na.rm)\n",
    "}\n",
    "coef_variation(1:5)\n",
    "coef_variation(c(1:5, NA))\n",
    "coef_variation(c(1:5, NA), na.rm = TRUE)"
   ]
  },
  {
   "cell_type": "markdown",
   "metadata": {},
   "source": [
    "Q4. Follow http://nicercode.github.io/intro/writing-functions.html to write your own functions to compute the variance and skew of a numeric vector.\n",
    "\n",
    "Note The math in https://nicercode.github.io/intro/writing-functions.html seems not to be rendering.\n",
    "\n",
    "The sample variance is defined as,"
   ]
  },
  {
   "attachments": {
    "Screen%20Shot%202019-06-21%20at%202.54.29%20PM.png": {
     "image/png": "[encoded data removed]"
    }
   },
   "cell_type": "markdown",
   "metadata": {},
   "source": [
    "![Screen%20Shot%202019-06-21%20at%202.54.29%20PM.png](attachment:Screen%20Shot%202019-06-21%20at%202.54.29%20PM.png)"
   ]
  },
  {
   "cell_type": "code",
   "execution_count": 40,
   "metadata": {},
   "outputs": [],
   "source": [
    "variance <- function(x, na.rm = TRUE) {\n",
    "  n <- length(x)\n",
    "  m <- mean(x, na.rm = TRUE)\n",
    "  sq_err <- (x - m)^2\n",
    "  sum(sq_err) / (n - 1)\n",
    "}"
   ]
  },
  {
   "cell_type": "code",
   "execution_count": 41,
   "metadata": {},
   "outputs": [
    {
     "data": {
      "text/html": [
       "9.16666666666667"
      ],
      "text/latex": [
       "9.16666666666667"
      ],
      "text/markdown": [
       "9.16666666666667"
      ],
      "text/plain": [
       "[1] 9.166667"
      ]
     },
     "metadata": {},
     "output_type": "display_data"
    },
    {
     "data": {
      "text/html": [
       "9.16666666666667"
      ],
      "text/latex": [
       "9.16666666666667"
      ],
      "text/markdown": [
       "9.16666666666667"
      ],
      "text/plain": [
       "[1] 9.166667"
      ]
     },
     "metadata": {},
     "output_type": "display_data"
    }
   ],
   "source": [
    "var(1:10)\n",
    "variance(1:10)"
   ]
  },
  {
   "attachments": {
    "Screen%20Shot%202019-06-21%20at%202.55.19%20PM.png": {
     "image/png": "[encoded data removed]"
    }
   },
   "cell_type": "markdown",
   "metadata": {},
   "source": [
    "![Screen%20Shot%202019-06-21%20at%202.55.19%20PM.png](attachment:Screen%20Shot%202019-06-21%20at%202.55.19%20PM.png)"
   ]
  },
  {
   "cell_type": "code",
   "execution_count": 42,
   "metadata": {},
   "outputs": [],
   "source": [
    "skewness <- function(x, na.rm = FALSE) {\n",
    "  n <- length(x)\n",
    "  m <- mean(x, na.rm = na.rm)\n",
    "  v <- var(x, na.rm = na.rm)\n",
    "  (sum((x - m)^3) / (n - 2)) / v^(3 / 2)\n",
    "}"
   ]
  },
  {
   "cell_type": "code",
   "execution_count": 43,
   "metadata": {},
   "outputs": [
    {
     "data": {
      "text/html": [
       "1.49455403454681"
      ],
      "text/latex": [
       "1.49455403454681"
      ],
      "text/markdown": [
       "1.49455403454681"
      ],
      "text/plain": [
       "[1] 1.494554"
      ]
     },
     "metadata": {},
     "output_type": "display_data"
    }
   ],
   "source": [
    "skewness(c(1, 2, 5, 100))"
   ]
  },
  {
   "cell_type": "raw",
   "metadata": {},
   "source": [
    "Q5. Write both_na(), a function that takes two vectors of the same length and returns the number of positions that have an NA in both vectors."
   ]
  },
  {
   "cell_type": "code",
   "execution_count": 44,
   "metadata": {},
   "outputs": [
    {
     "data": {
      "text/html": [
       "1"
      ],
      "text/latex": [
       "1"
      ],
      "text/markdown": [
       "1"
      ],
      "text/plain": [
       "[1] 1"
      ]
     },
     "metadata": {},
     "output_type": "display_data"
    },
    {
     "data": {
      "text/html": [
       "3"
      ],
      "text/latex": [
       "3"
      ],
      "text/markdown": [
       "3"
      ],
      "text/plain": [
       "[1] 3"
      ]
     },
     "metadata": {},
     "output_type": "display_data"
    }
   ],
   "source": [
    "both_na <- function(x, y) {\n",
    "  sum(is.na(x) & is.na(y))\n",
    "}\n",
    "both_na(\n",
    "  c(NA, NA, 1, 2),\n",
    "  c(NA, 1, NA, 2)\n",
    ")\n",
    "#> [1] 1\n",
    "both_na(\n",
    "  c(NA, NA, 1, 2, NA, NA, 1),\n",
    "  c(NA, 1, NA, 2, NA, NA, 1)\n",
    ")"
   ]
  },
  {
   "cell_type": "raw",
   "metadata": {},
   "source": [
    "Q6. What do the following functions do? Why are they useful even though they are so short?"
   ]
  },
  {
   "cell_type": "code",
   "execution_count": 45,
   "metadata": {},
   "outputs": [],
   "source": [
    "is_directory <- function(x) file.info(x)$isdir\n",
    "is_readable <- function(x) file.access(x, 4) == 0"
   ]
  },
  {
   "cell_type": "raw",
   "metadata": {},
   "source": [
    "NN\n",
    "file.info(x)$isdir\n",
    "file.access\n",
    "********\n",
    "\n",
    "The function is_directory() checks whether the path in x is a directory. The function is_readable() checks whether the path in x is readable, meaning that the file exists and the user has permission to open it. These functions are useful even though they are short because their names make it much clearer what the code is doing."
   ]
  },
  {
   "cell_type": "raw",
   "metadata": {},
   "source": [
    "Q7. Read the complete lyrics to “Little Bunny Foo Foo”. There’s a lot of duplication in this song. Extend the initial piping example to recreate the complete song, and use functions to reduce the duplication."
   ]
  },
  {
   "cell_type": "raw",
   "metadata": {},
   "source": [
    "The lyrics of one of the most common versions of this song are\n",
    "\n",
    "Little bunny Foo Foo\n",
    "Hopping through the forest\n",
    "Scooping up the field mice\n",
    "And bopping them on the head\n",
    "\n",
    "Down came the Good Fairy, and she said\n",
    "\"Little bunny Foo Foo\n",
    "I don’t want to see you   Scooping up the field mice\n",
    "\n",
    "And bopping them on the head.\n",
    "I’ll give you three chances,\n",
    "And if you don’t stop, I’ll turn you into a GOON!\"\n",
    "And the next day…\n",
    "\n",
    "The verses repeat with one chance fewer each time. When there are no chances left, the Good Fairy says\n",
    "\n",
    "“I gave you three chances, and you didn’t stop; so….”\n",
    "POOF. She turned him into a GOON!\n",
    "And the moral of this story is: hare today, goon tomorrow.\n",
    "\n",
    "Here’s one way of writing this"
   ]
  },
  {
   "cell_type": "code",
   "execution_count": 46,
   "metadata": {},
   "outputs": [
    {
     "ename": "ERROR",
     "evalue": "Error in foo_foo %>% hop(through = forest) %>% scoop(up = field_mouse) %>% : could not find function \"%>%\"\n",
     "output_type": "error",
     "traceback": [
      "Error in foo_foo %>% hop(through = forest) %>% scoop(up = field_mouse) %>% : could not find function \"%>%\"\nTraceback:\n",
      "1. lyric()"
     ]
    }
   ],
   "source": [
    "threat <- function(chances) {\n",
    "  give_chances(\n",
    "    from = Good_Fairy,\n",
    "    to = foo_foo,\n",
    "    number = chances,\n",
    "    condition = \"Don't behave\",\n",
    "    consequence = turn_into_goon\n",
    "  )\n",
    "}\n",
    "\n",
    "lyric <- function() {\n",
    "  foo_foo %>%\n",
    "    hop(through = forest) %>%\n",
    "    scoop(up = field_mouse) %>%\n",
    "    bop(on = head)\n",
    "\n",
    "  down_came(Good_Fairy)\n",
    "  said(\n",
    "    Good_Fairy,\n",
    "    c(\n",
    "      \"Little bunny Foo Foo\",\n",
    "      \"I don't want to see you\",\n",
    "      \"Scooping up the field mice\",\n",
    "      \"And bopping them on the head.\"\n",
    "    )\n",
    "  )\n",
    "}\n",
    "\n",
    "lyric()\n",
    "threat(3)\n",
    "lyric()\n",
    "threat(2)\n",
    "lyric()\n",
    "threat(1)\n",
    "lyric()\n",
    "turn_into_goon(Good_Fairy, foo_foo)"
   ]
  },
  {
   "cell_type": "raw",
   "metadata": {},
   "source": [
    "19.3 Functions are for humans and computers"
   ]
  },
  {
   "cell_type": "raw",
   "metadata": {},
   "source": [
    "NN\n",
    "func name = evocative, verbs, \n",
    "args = nouns\n",
    "\n",
    "It’s important to remember that functions are not just for the computer, but are also for humans. R doesn’t care what your function is called, or what comments it contains, but these are important for human readers. This section discusses some things that you should bear in mind when writing functions that humans can understand.\n",
    "\n",
    "The name of a function is important. Ideally, the name of your function will be short, but clearly evoke what the function does. That’s hard! But it’s better to be clear than short, as RStudio’s autocomplete makes it easy to type long names.\n",
    "\n",
    "Generally, function names should be verbs, and arguments should be nouns. There are some exceptions: nouns are ok if the function computes a very well known noun (i.e. mean() is better than compute_mean()), or accessing some property of an object (i.e. coef() is better than get_coefficients()). A good sign that a noun might be a better choice is if you’re using a very broad verb like “get”, “compute”, “calculate”, or “determine”. Use your best judgement and don’t be afraid to rename a function if you figure out a better name later."
   ]
  },
  {
   "cell_type": "code",
   "execution_count": null,
   "metadata": {},
   "outputs": [],
   "source": [
    "# Too short\n",
    "f()\n",
    "\n",
    "# Not a verb, or descriptive\n",
    "my_awesome_function()\n",
    "\n",
    "# Long, but clear\n",
    "impute_missing()\n",
    "collapse_years()"
   ]
  },
  {
   "cell_type": "raw",
   "metadata": {},
   "source": [
    "NN\n",
    "snake_case\n",
    "camelCase\n",
    "******\n",
    "\n",
    "If your function name is composed of multiple words, I recommend using “snake_case”, where each lowercase word is separated by an underscore. camelCase is a popular alternative. It doesn’t really matter which one you pick, the important thing is to be consistent: pick one or the other and stick with it. R itself is not very consistent, but there’s nothing you can do about that. Make sure you don’t fall into the same trap by making your code as consistent as possible."
   ]
  },
  {
   "cell_type": "code",
   "execution_count": null,
   "metadata": {},
   "outputs": [],
   "source": [
    "# Never do this!\n",
    "col_mins <- function(x, y) {}\n",
    "rowMaxes <- function(y, x) {}"
   ]
  },
  {
   "cell_type": "raw",
   "metadata": {},
   "source": [
    "If you have a family of functions that do similar things, make sure they have consistent names and arguments. Use a common prefix to indicate that they are connected. That’s better than a common suffix because autocomplete allows you to type the prefix and see all the members of the family."
   ]
  },
  {
   "cell_type": "code",
   "execution_count": null,
   "metadata": {},
   "outputs": [],
   "source": [
    "# Good (common prefix)*******\n",
    "input_select()\n",
    "input_checkbox()\n",
    "input_text()\n",
    "\n",
    "# Not so good\n",
    "select_input()\n",
    "checkbox_input()\n",
    "text_input()"
   ]
  },
  {
   "cell_type": "raw",
   "metadata": {},
   "source": [
    "A good example of this design is the stringr package: if you don’t remember exactly which function you need, you can type str_ and jog your memory.\n",
    "\n",
    "Where possible, avoid overriding existing functions and variables. It’s impossible to do in general because so many good names are already taken by other packages, but avoiding the most common names from base R will avoid confusion."
   ]
  },
  {
   "cell_type": "code",
   "execution_count": null,
   "metadata": {},
   "outputs": [],
   "source": [
    "# Don't do this!\n",
    "T <- FALSE\n",
    "c <- 10\n",
    "mean <- function(x) sum(x)"
   ]
  },
  {
   "cell_type": "raw",
   "metadata": {},
   "source": [
    "NN\n",
    "comments not what or how\n",
    "code should be clear enough for what and how wo comments\n",
    "****\n",
    "\n",
    "Use comments, lines starting with #, to explain the “why” of your code. You generally should avoid comments that explain the “what” or the “how”. If you can’t understand what the code does from reading it, you should think about how to rewrite it to be more clear. Do you need to add some intermediate variables with useful names? Do you need to break out a subcomponent of a large function so you can name it? However, your code can never capture the reasoning behind your decisions: why did you choose this approach instead of an alternative? What else did you try that didn’t work? It’s a great idea to capture that sort of thinking in a comment.\n",
    "\n",
    "Another important use of comments is to break up your file into easily readable chunks. Use long lines of - and = to make it easy to spot the breaks."
   ]
  },
  {
   "cell_type": "code",
   "execution_count": null,
   "metadata": {},
   "outputs": [],
   "source": [
    "# Load data --------------------------------------\n",
    "\n",
    "# Plot data --------------------------------------"
   ]
  },
  {
   "cell_type": "raw",
   "metadata": {},
   "source": [
    "RStudio provides a keyboard shortcut to create these headers (Cmd/Ctrl + Shift + R), and will display them in the code navigation drop-down at the bottom-left of the editor:"
   ]
  },
  {
   "attachments": {
    "rstudio-nav.png": {
     "image/png": "[encoded data removed]"
    }
   },
   "cell_type": "markdown",
   "metadata": {},
   "source": [
    "![rstudio-nav.png](attachment:rstudio-nav.png)"
   ]
  },
  {
   "cell_type": "raw",
   "metadata": {},
   "source": [
    "19.3.1 Exercises"
   ]
  },
  {
   "cell_type": "raw",
   "metadata": {},
   "source": [
    "Q1. Read the source code for each of the following three functions, puzzle out what they do, and then brainstorm better names."
   ]
  },
  {
   "cell_type": "raw",
   "metadata": {},
   "source": [
    "NN\n",
    "substr\n",
    "nchar\n",
    "******"
   ]
  },
  {
   "cell_type": "code",
   "execution_count": 47,
   "metadata": {},
   "outputs": [],
   "source": [
    "f1 <- function(string, prefix) {\n",
    "  substr(string, 1, nchar(prefix)) == prefix\n",
    "}\n",
    "f2 <- function(x) {\n",
    "  if (length(x) <= 1) return(NULL)\n",
    "  x[-length(x)]\n",
    "}\n",
    "f3 <- function(x, y) {\n",
    "  rep(y, length.out = length(x))\n",
    "}"
   ]
  },
  {
   "cell_type": "raw",
   "metadata": {},
   "source": [
    "The function f1 tests whether each element of the character vector nchar starts with the string prefix. For example,"
   ]
  },
  {
   "cell_type": "code",
   "execution_count": 48,
   "metadata": {},
   "outputs": [
    {
     "data": {
      "text/html": [
       "<ol class=list-inline>\n",
       "\t<li>TRUE</li>\n",
       "\t<li>TRUE</li>\n",
       "\t<li>FALSE</li>\n",
       "</ol>\n"
      ],
      "text/latex": [
       "\\begin{enumerate*}\n",
       "\\item TRUE\n",
       "\\item TRUE\n",
       "\\item FALSE\n",
       "\\end{enumerate*}\n"
      ],
      "text/markdown": [
       "1. TRUE\n",
       "2. TRUE\n",
       "3. FALSE\n",
       "\n",
       "\n"
      ],
      "text/plain": [
       "[1]  TRUE  TRUE FALSE"
      ]
     },
     "metadata": {},
     "output_type": "display_data"
    }
   ],
   "source": [
    "f1(c(\"abc\", \"abcde\", \"ad\"), \"ab\")"
   ]
  },
  {
   "cell_type": "raw",
   "metadata": {},
   "source": [
    "A better name for f1 is has_prefix()\n",
    "\n",
    "The function f2 drops the last element of the vector x."
   ]
  },
  {
   "cell_type": "code",
   "execution_count": 49,
   "metadata": {},
   "outputs": [
    {
     "data": {
      "text/html": [
       "<ol class=list-inline>\n",
       "\t<li>1</li>\n",
       "\t<li>2</li>\n",
       "</ol>\n"
      ],
      "text/latex": [
       "\\begin{enumerate*}\n",
       "\\item 1\n",
       "\\item 2\n",
       "\\end{enumerate*}\n"
      ],
      "text/markdown": [
       "1. 1\n",
       "2. 2\n",
       "\n",
       "\n"
      ],
      "text/plain": [
       "[1] 1 2"
      ]
     },
     "metadata": {},
     "output_type": "display_data"
    },
    {
     "data": {
      "text/html": [
       "1"
      ],
      "text/latex": [
       "1"
      ],
      "text/markdown": [
       "1"
      ],
      "text/plain": [
       "[1] 1"
      ]
     },
     "metadata": {},
     "output_type": "display_data"
    },
    {
     "data": {
      "text/plain": [
       "NULL"
      ]
     },
     "metadata": {},
     "output_type": "display_data"
    }
   ],
   "source": [
    "f2(1:3)\n",
    "f2(1:2)\n",
    "f2(1)"
   ]
  },
  {
   "cell_type": "raw",
   "metadata": {},
   "source": [
    "A better name for f2 is drop_last().\n",
    "\n",
    "The function f3 repeats y once for each element of x."
   ]
  },
  {
   "cell_type": "code",
   "execution_count": 50,
   "metadata": {},
   "outputs": [
    {
     "data": {
      "text/html": [
       "<ol class=list-inline>\n",
       "\t<li>4</li>\n",
       "\t<li>4</li>\n",
       "\t<li>4</li>\n",
       "</ol>\n"
      ],
      "text/latex": [
       "\\begin{enumerate*}\n",
       "\\item 4\n",
       "\\item 4\n",
       "\\item 4\n",
       "\\end{enumerate*}\n"
      ],
      "text/markdown": [
       "1. 4\n",
       "2. 4\n",
       "3. 4\n",
       "\n",
       "\n"
      ],
      "text/plain": [
       "[1] 4 4 4"
      ]
     },
     "metadata": {},
     "output_type": "display_data"
    }
   ],
   "source": [
    "f3(1:3, 4)"
   ]
  },
  {
   "cell_type": "raw",
   "metadata": {},
   "source": [
    "Good names would include recycle() (R’s name for this behavior) or expand()."
   ]
  },
  {
   "cell_type": "raw",
   "metadata": {},
   "source": [
    "Q2. Take a function that you’ve written recently and spend 5 minutes brainstorming a better name for it and its arguments"
   ]
  },
  {
   "cell_type": "raw",
   "metadata": {},
   "source": [
    "Answer left to the reader."
   ]
  },
  {
   "cell_type": "raw",
   "metadata": {},
   "source": [
    "NN\n",
    "MASS::mvrnorm()\n",
    "rnorm()\n",
    "*******\n",
    "\n",
    "Q3. Compare and contrast rnorm() and MASS::mvrnorm(). How could you make them more consistent?\n",
    "\n",
    "\n",
    "rnorm() samples from the univariate normal distribution, while MASS::mvrnorm samples from the multivariate normal distribution. The main arguments in rnorm() are n, mean, sd. The main arguments is MASS::mvrnorm are n, mu, Sigma. To be consistent they should have the same names. However, this is difficult. In general, it is better to be consistent with more widely used functions, e.g. rmvnorm() should follow the conventions of rnorm(). However, while mean is correct in the multivariate case, sd does not make sense in the multivariate case. However, both functions are internally consistent. It would not be good practice to have mu and sd as arguments or mean and Sigma as arguments."
   ]
  },
  {
   "cell_type": "raw",
   "metadata": {},
   "source": [
    "NN\n",
    "rnorm, rbinom, runif, rexp()\n",
    "dnorm, dbinom, dunif, dexp()\n",
    "*******\n",
    "\n",
    "Q4. Make a case for why norm_r(), norm_d() etc would be better than rnorm(), dnorm(). Make a case for the opposite.\n",
    "\n",
    "If named norm_r() and norm_d(), the naming convention groups functions by their distribution.\n",
    "\n",
    "If named rnorm(), and dnorm(), the naming convention groups functions by the action they perform.\n",
    "\n",
    "*   r* functions always sample from distributions: for example, rnorm(), rbinom(), runif(), and rexp().\n",
    "\n",
    "*   d* functions calculate the probability density or mass of a distribution: For example, dnorm(), dbinom(), dunif(), and dexp().\n",
    "\n",
    "R distributions use this latter naming convention."
   ]
  },
  {
   "cell_type": "raw",
   "metadata": {},
   "source": [
    "19.4 Conditional execution"
   ]
  },
  {
   "cell_type": "raw",
   "metadata": {},
   "source": [
    "An if statement allows you to conditionally execute code. It looks like this:"
   ]
  },
  {
   "cell_type": "code",
   "execution_count": null,
   "metadata": {},
   "outputs": [],
   "source": [
    "if (condition) {\n",
    "  # code executed when condition is TRUE\n",
    "} else {\n",
    "  # code executed when condition is FALSE\n",
    "}"
   ]
  },
  {
   "cell_type": "raw",
   "metadata": {},
   "source": [
    "NN\n",
    "names()\n",
    "is.null()\n",
    "rep\n",
    "**********\n",
    "\n",
    "To get help on if you need to surround it in backticks: ?`if`. The help isn’t particularly helpful if you’re not already an experienced programmer, but at least you know how to get to it!\n",
    "\n",
    "Here’s a simple function that uses an if statement. The goal of this function is to return a logical vector describing whether or not each element of a vector is named."
   ]
  },
  {
   "cell_type": "code",
   "execution_count": 52,
   "metadata": {},
   "outputs": [],
   "source": [
    "has_name <- function(x) {\n",
    "  nms <- names(x)\n",
    "  if (is.null(nms)) {\n",
    "    rep(FALSE, length(x))\n",
    "  } else {\n",
    "    !is.na(nms) & nms != \"\"\n",
    "  }\n",
    "}"
   ]
  },
  {
   "cell_type": "raw",
   "metadata": {},
   "source": [
    "NN\n",
    "standard return rule = last thing computed\n",
    "********\n",
    "\n",
    "This function takes advantage of the standard return rule: a function returns the last value that it computed. Here that is either one of the two branches of the if statement."
   ]
  },
  {
   "cell_type": "raw",
   "metadata": {},
   "source": [
    "19.4.1 Conditions"
   ]
  },
  {
   "cell_type": "raw",
   "metadata": {},
   "source": [
    "NN\n",
    "If condition length = 1\n",
    "*******\n",
    "\n",
    "\n",
    "The condition must evaluate to either TRUE or FALSE. If it’s a vector, you’ll get a warning message; if it’s an NA, you’ll get an error. Watch out for these messages in your own code:"
   ]
  },
  {
   "cell_type": "code",
   "execution_count": 53,
   "metadata": {},
   "outputs": [
    {
     "name": "stderr",
     "output_type": "stream",
     "text": [
      "Warning message in if (c(TRUE, FALSE)) {:\n",
      "“the condition has length > 1 and only the first element will be used”"
     ]
    },
    {
     "data": {
      "text/plain": [
       "NULL"
      ]
     },
     "metadata": {},
     "output_type": "display_data"
    },
    {
     "ename": "ERROR",
     "evalue": "Error in if (NA) {: missing value where TRUE/FALSE needed\n",
     "output_type": "error",
     "traceback": [
      "Error in if (NA) {: missing value where TRUE/FALSE needed\nTraceback:\n"
     ]
    }
   ],
   "source": [
    "if (c(TRUE, FALSE)) {}\n",
    "\n",
    "if (NA) {}"
   ]
  },
  {
   "cell_type": "raw",
   "metadata": {},
   "source": [
    "NN\n",
    "|| and && multiple logical expr\n",
    "short circuiting  when vectors on 1st TRUE or FALSE\n",
    "| and & never in if statement (theyre for vector ops e.g. filter())\n",
    "any()\n",
    "all()\n",
    "== is vectorissed so easy toget more than one output\n",
    "    check length is 1 or collapse to 1 with any or all \n",
    "    or use non vectorized identical()\n",
    "    idenitical \n",
    "        doesnt coerce types (so doubles v integers may not work)\n",
    "        obnly retuyrns one TRUE or one FALSE\n",
    "        non vectorized so good for logical IF statements\n",
    "******\n",
    "\n",
    "You can use || (or) and && (and) to combine multiple logical expressions. These operators are “short-circuiting”: as soon as || sees the first TRUE it returns TRUE without computing anything else. As soon as && sees the first FALSE it returns FALSE. You should never use | or & in an if statement: these are vectorised operations that apply to multiple values (that’s why you use them in filter()). If you do have a logical vector, you can use any() or all() to collapse it to a single value.\n",
    "\n",
    "Be careful when testing for equality. == is vectorised, which means that it’s easy to get more than one output. Either check the length is already 1, collapse with all() or any(), or use the non-vectorised identical(). identical() is very strict: it always returns either a single TRUE or a single FALSE, and doesn’t coerce types. This means that you need to be careful when comparing integers and doubles:"
   ]
  },
  {
   "cell_type": "code",
   "execution_count": 54,
   "metadata": {},
   "outputs": [
    {
     "data": {
      "text/html": [
       "FALSE"
      ],
      "text/latex": [
       "FALSE"
      ],
      "text/markdown": [
       "FALSE"
      ],
      "text/plain": [
       "[1] FALSE"
      ]
     },
     "metadata": {},
     "output_type": "display_data"
    }
   ],
   "source": [
    "identical(0L, 0)"
   ]
  },
  {
   "cell_type": "raw",
   "metadata": {},
   "source": [
    "You also need to be wary of floating point numbers:"
   ]
  },
  {
   "cell_type": "code",
   "execution_count": 55,
   "metadata": {},
   "outputs": [
    {
     "data": {
      "text/html": [
       "2"
      ],
      "text/latex": [
       "2"
      ],
      "text/markdown": [
       "2"
      ],
      "text/plain": [
       "[1] 2"
      ]
     },
     "metadata": {},
     "output_type": "display_data"
    },
    {
     "data": {
      "text/html": [
       "FALSE"
      ],
      "text/latex": [
       "FALSE"
      ],
      "text/markdown": [
       "FALSE"
      ],
      "text/plain": [
       "[1] FALSE"
      ]
     },
     "metadata": {},
     "output_type": "display_data"
    },
    {
     "data": {
      "text/html": [
       "4.44089209850063e-16"
      ],
      "text/latex": [
       "4.44089209850063e-16"
      ],
      "text/markdown": [
       "4.44089209850063e-16"
      ],
      "text/plain": [
       "[1] 4.440892e-16"
      ]
     },
     "metadata": {},
     "output_type": "display_data"
    }
   ],
   "source": [
    "x <- sqrt(2) ^ 2\n",
    "x\n",
    "x == 2\n",
    "x - 2"
   ]
  },
  {
   "cell_type": "raw",
   "metadata": {},
   "source": [
    "NN\n",
    "near()\n",
    "*******\n",
    "\n",
    "Instead use dplyr::near() for comparisons, as described in comparisons.\n",
    "\n",
    "And remember, x == NA doesn’t do anything useful!"
   ]
  },
  {
   "cell_type": "raw",
   "metadata": {},
   "source": [
    "19.4.2 Multiple conditions"
   ]
  },
  {
   "cell_type": "raw",
   "metadata": {},
   "source": [
    "You can chain multiple if statements together:"
   ]
  },
  {
   "cell_type": "code",
   "execution_count": null,
   "metadata": {},
   "outputs": [],
   "source": [
    "if (this) {\n",
    "  # do that\n",
    "} else if (that) {\n",
    "  # do something else\n",
    "} else {\n",
    "  # \n",
    "}"
   ]
  },
  {
   "cell_type": "raw",
   "metadata": {},
   "source": [
    "NN\n",
    "if else if else\n",
    "switch()\n",
    "cut()\n",
    "*****\n",
    "\n",
    "But if you end up with a very long series of chained if statements, you should consider rewriting. One useful technique is the switch() function. It allows you to evaluate selected code based on position or name.\n",
    "\n",
    "#> function(x, y, op) {\n",
    "#>   switch(op,\n",
    "#>     plus = x + y,\n",
    "#>     minus = x - y,\n",
    "#>     times = x * y,\n",
    "#>     divide = x / y,\n",
    "#>     stop(\"Unknown op!\")\n",
    "#>   )\n",
    "#> }\n",
    "\n",
    "Another useful function that can often eliminate long chains of if statements is cut(). It’s used to discretise continuous variables."
   ]
  },
  {
   "cell_type": "raw",
   "metadata": {},
   "source": [
    "19.4.3 Code style"
   ]
  },
  {
   "cell_type": "raw",
   "metadata": {},
   "source": [
    "if and function {} + 2 space indents\n",
    "    { never new line and always followed by new line\n",
    "    } always on its own line unelss followed by else\n",
    "    *******\n",
    "    always indent inside { content }\n",
    "    \n",
    "Both if and function should (almost) always be followed by squiggly brackets ({}), and the contents should be indented by two spaces. This makes it easier to see the hierarchy in your code by skimming the left-hand margin.\n",
    "\n",
    "An opening curly brace should never go on its own line and should always be followed by a new line. A closing curly brace should always go on its own line, unless it’s followed by else. Always indent the code inside curly braces."
   ]
  },
  {
   "cell_type": "code",
   "execution_count": 56,
   "metadata": {},
   "outputs": [
    {
     "ename": "ERROR",
     "evalue": "Error in parse(text = x, srcfile = src): <text>:19:1: unexpected 'else'\n18: } \n19: else\n    ^\n",
     "output_type": "error",
     "traceback": [
      "Error in parse(text = x, srcfile = src): <text>:19:1: unexpected 'else'\n18: } \n19: else\n    ^\nTraceback:\n"
     ]
    }
   ],
   "source": [
    "# Good\n",
    "if (y < 0 && debug) {\n",
    "  message(\"Y is negative\")\n",
    "}\n",
    "\n",
    "if (y == 0) {\n",
    "  log(x)\n",
    "} else {\n",
    "  y ^ x\n",
    "}\n",
    "\n",
    "# Bad\n",
    "if (y < 0 && debug)\n",
    "message(\"Y is negative\")\n",
    "\n",
    "if (y == 0) {\n",
    "  log(x)\n",
    "} \n",
    "else {\n",
    "  y ^ x\n",
    "}"
   ]
  },
  {
   "cell_type": "raw",
   "metadata": {},
   "source": [
    "NN\n",
    "one lineer without {} ok\n",
    "*****\n",
    "\n",
    "It’s ok to drop the curly braces if you have a very short if statement that can fit on one line:"
   ]
  },
  {
   "cell_type": "code",
   "execution_count": 57,
   "metadata": {},
   "outputs": [],
   "source": [
    "y <- 10\n",
    "x <- if (y < 20) \"Too low\" else \"Too high\""
   ]
  },
  {
   "cell_type": "raw",
   "metadata": {},
   "source": [
    "I recommend this only for very brief if statements. Otherwise, the full form is easier to read:"
   ]
  },
  {
   "cell_type": "code",
   "execution_count": 58,
   "metadata": {},
   "outputs": [],
   "source": [
    "if (y < 20) {\n",
    "  x <- \"Too low\" \n",
    "} else {\n",
    "  x <- \"Too high\"\n",
    "}"
   ]
  },
  {
   "cell_type": "raw",
   "metadata": {},
   "source": [
    "19.4.4 Exercises"
   ]
  },
  {
   "cell_type": "raw",
   "metadata": {},
   "source": [
    "NN\n",
    "ifelse()\n",
    "*****\n",
    "\n",
    "Q1. What’s the difference between if and ifelse()? Carefully read the help and construct three examples that illustrate the key differences.\n",
    "\n",
    "The keyword if tests a single condition, while ifelse() tests each element."
   ]
  },
  {
   "cell_type": "raw",
   "metadata": {},
   "source": [
    "Q2. Write a greeting function that says “good morning”, “good afternoon”, or “good evening”, depending on the time of day. (Hint: use a time argument that defaults to lubridate::now(). That will make it easier to test your function.)"
   ]
  },
  {
   "cell_type": "code",
   "execution_count": 60,
   "metadata": {},
   "outputs": [
    {
     "name": "stdout",
     "output_type": "stream",
     "text": [
      "[1] \"good evening\"\n",
      "[1] \"good morning\"\n",
      "[1] \"good afternoon\"\n",
      "[1] \"good evening\"\n"
     ]
    }
   ],
   "source": [
    "greet <- function(time = lubridate::now()) {\n",
    "  hr <- lubridate::hour(time)\n",
    "  # I don't know what to do about times after midnight,\n",
    "  # are they evening or morning?\n",
    "  if (hr < 12) {\n",
    "    print(\"good morning\")\n",
    "  } else if (hr < 17) {\n",
    "    print(\"good afternoon\")\n",
    "  } else {\n",
    "    print(\"good evening\")\n",
    "  }\n",
    "}\n",
    "greet()\n",
    "greet(lubridate::ymd_h(\"2017-01-08:05\"))\n",
    "greet(lubridate::ymd_h(\"2017-01-08:13\"))\n",
    "greet(lubridate::ymd_h(\"2017-01-08:20\"))\n"
   ]
  },
  {
   "cell_type": "raw",
   "metadata": {},
   "source": [
    "NN\n",
    "stopifnot()\n",
    "length()\n",
    "is.numeric()\n",
    "******\n",
    "\n",
    "Q3. Implement a fizzbuzz function. It takes a single number as input. If the number is divisible by three, it returns “fizz”. If it’s divisible by five it returns “buzz”. If it’s divisible by three and five, it returns “fizzbuzz”. Otherwise, it returns the number. Make sure you first write working code before you create the function."
   ]
  },
  {
   "cell_type": "code",
   "execution_count": 61,
   "metadata": {},
   "outputs": [
    {
     "data": {
      "text/html": [
       "'fizz'"
      ],
      "text/latex": [
       "'fizz'"
      ],
      "text/markdown": [
       "'fizz'"
      ],
      "text/plain": [
       "[1] \"fizz\""
      ]
     },
     "metadata": {},
     "output_type": "display_data"
    },
    {
     "data": {
      "text/html": [
       "'buzz'"
      ],
      "text/latex": [
       "'buzz'"
      ],
      "text/markdown": [
       "'buzz'"
      ],
      "text/plain": [
       "[1] \"buzz\""
      ]
     },
     "metadata": {},
     "output_type": "display_data"
    },
    {
     "data": {
      "text/html": [
       "'fizzbuzz'"
      ],
      "text/latex": [
       "'fizzbuzz'"
      ],
      "text/markdown": [
       "'fizzbuzz'"
      ],
      "text/plain": [
       "[1] \"fizzbuzz\""
      ]
     },
     "metadata": {},
     "output_type": "display_data"
    },
    {
     "data": {
      "text/html": [
       "2"
      ],
      "text/latex": [
       "2"
      ],
      "text/markdown": [
       "2"
      ],
      "text/plain": [
       "[1] 2"
      ]
     },
     "metadata": {},
     "output_type": "display_data"
    }
   ],
   "source": [
    "fizzbuzz <- function(x) {\n",
    "  stopifnot(length(x) == 1)\n",
    "  stopifnot(is.numeric(x))\n",
    "  # this could be made more efficient by minimizing the\n",
    "  # number of tests\n",
    "  if (!(x %% 3) && !(x %% 5)) {\n",
    "    \"fizzbuzz\"\n",
    "  } else if (!(x %% 3)) {\n",
    "    \"fizz\"\n",
    "  } else if (!(x %% 5)) {\n",
    "    \"buzz\"\n",
    "  } else {\n",
    "    x\n",
    "  }\n",
    "}\n",
    "fizzbuzz(6)\n",
    "fizzbuzz(10)\n",
    "fizzbuzz(15)\n",
    "fizzbuzz(2)"
   ]
  },
  {
   "cell_type": "raw",
   "metadata": {},
   "source": [
    "Q4. How could you use cut() to simplify this set of nested if-else statements?"
   ]
  },
  {
   "cell_type": "code",
   "execution_count": null,
   "metadata": {},
   "outputs": [],
   "source": [
    "if (temp <= 0) {\n",
    "  \"freezing\"\n",
    "} else if (temp <= 10) {\n",
    "  \"cold\"\n",
    "} else if (temp <= 20) {\n",
    "  \"cool\"\n",
    "} else if (temp <= 30) {\n",
    "  \"warm\"\n",
    "} else {\n",
    "  \"hot\"\n",
    "}"
   ]
  },
  {
   "cell_type": "raw",
   "metadata": {},
   "source": [
    "NN\n",
    "seq()\n",
    "cut()\n",
    "******very cool\n",
    "\n",
    "How would you change the call to cut() if I’d used < instead of <=? What is the other chief advantage of cut() for this problem? (Hint: what happens if you have many values in temp?)"
   ]
  },
  {
   "cell_type": "code",
   "execution_count": 62,
   "metadata": {},
   "outputs": [
    {
     "data": {
      "text/html": [
       "<ol class=list-inline>\n",
       "\t<li>freezing</li>\n",
       "\t<li>freezing</li>\n",
       "\t<li>freezing</li>\n",
       "\t<li>cold</li>\n",
       "\t<li>cold</li>\n",
       "\t<li>cool</li>\n",
       "\t<li>cool</li>\n",
       "\t<li>warm</li>\n",
       "\t<li>warm</li>\n",
       "\t<li>hot</li>\n",
       "\t<li>hot</li>\n",
       "\t<li>hot</li>\n",
       "\t<li>hot</li>\n",
       "</ol>\n",
       "\n",
       "<details>\n",
       "\t<summary style=display:list-item;cursor:pointer>\n",
       "\t\t<strong>Levels</strong>:\n",
       "\t</summary>\n",
       "\t<ol class=list-inline>\n",
       "\t\t<li>'freezing'</li>\n",
       "\t\t<li>'cold'</li>\n",
       "\t\t<li>'cool'</li>\n",
       "\t\t<li>'warm'</li>\n",
       "\t\t<li>'hot'</li>\n",
       "\t</ol>\n",
       "</details>"
      ],
      "text/latex": [
       "\\begin{enumerate*}\n",
       "\\item freezing\n",
       "\\item freezing\n",
       "\\item freezing\n",
       "\\item cold\n",
       "\\item cold\n",
       "\\item cool\n",
       "\\item cool\n",
       "\\item warm\n",
       "\\item warm\n",
       "\\item hot\n",
       "\\item hot\n",
       "\\item hot\n",
       "\\item hot\n",
       "\\end{enumerate*}\n",
       "\n",
       "\\emph{Levels}: \\begin{enumerate*}\n",
       "\\item 'freezing'\n",
       "\\item 'cold'\n",
       "\\item 'cool'\n",
       "\\item 'warm'\n",
       "\\item 'hot'\n",
       "\\end{enumerate*}\n"
      ],
      "text/markdown": [
       "1. freezing\n",
       "2. freezing\n",
       "3. freezing\n",
       "4. cold\n",
       "5. cold\n",
       "6. cool\n",
       "7. cool\n",
       "8. warm\n",
       "9. warm\n",
       "10. hot\n",
       "11. hot\n",
       "12. hot\n",
       "13. hot\n",
       "\n",
       "\n",
       "\n",
       "**Levels**: 1. 'freezing'\n",
       "2. 'cold'\n",
       "3. 'cool'\n",
       "4. 'warm'\n",
       "5. 'hot'\n",
       "\n",
       "\n"
      ],
      "text/plain": [
       " [1] freezing freezing freezing cold     cold     cool     cool     warm    \n",
       " [9] warm     hot      hot      hot      hot     \n",
       "Levels: freezing cold cool warm hot"
      ]
     },
     "metadata": {},
     "output_type": "display_data"
    }
   ],
   "source": [
    "temp <- seq(-10, 50, by = 5)\n",
    "cut(temp, c(-Inf, 0, 10, 20, 30, Inf),\n",
    "  right = TRUE,\n",
    "  labels = c(\"freezing\", \"cold\", \"cool\", \"warm\", \"hot\")\n",
    ")"
   ]
  },
  {
   "cell_type": "raw",
   "metadata": {},
   "source": [
    "To have intervals open on the left (using <), I change the argument to right = FALSE,"
   ]
  },
  {
   "cell_type": "code",
   "execution_count": 64,
   "metadata": {},
   "outputs": [
    {
     "data": {
      "text/html": [
       "<ol class=list-inline>\n",
       "\t<li>-10</li>\n",
       "\t<li>-5</li>\n",
       "\t<li>0</li>\n",
       "\t<li>5</li>\n",
       "\t<li>10</li>\n",
       "\t<li>15</li>\n",
       "\t<li>20</li>\n",
       "\t<li>25</li>\n",
       "\t<li>30</li>\n",
       "\t<li>35</li>\n",
       "\t<li>40</li>\n",
       "\t<li>45</li>\n",
       "\t<li>50</li>\n",
       "</ol>\n"
      ],
      "text/latex": [
       "\\begin{enumerate*}\n",
       "\\item -10\n",
       "\\item -5\n",
       "\\item 0\n",
       "\\item 5\n",
       "\\item 10\n",
       "\\item 15\n",
       "\\item 20\n",
       "\\item 25\n",
       "\\item 30\n",
       "\\item 35\n",
       "\\item 40\n",
       "\\item 45\n",
       "\\item 50\n",
       "\\end{enumerate*}\n"
      ],
      "text/markdown": [
       "1. -10\n",
       "2. -5\n",
       "3. 0\n",
       "4. 5\n",
       "5. 10\n",
       "6. 15\n",
       "7. 20\n",
       "8. 25\n",
       "9. 30\n",
       "10. 35\n",
       "11. 40\n",
       "12. 45\n",
       "13. 50\n",
       "\n",
       "\n"
      ],
      "text/plain": [
       " [1] -10  -5   0   5  10  15  20  25  30  35  40  45  50"
      ]
     },
     "metadata": {},
     "output_type": "display_data"
    },
    {
     "data": {
      "text/html": [
       "<ol class=list-inline>\n",
       "\t<li>freezing</li>\n",
       "\t<li>freezing</li>\n",
       "\t<li>cold</li>\n",
       "\t<li>cold</li>\n",
       "\t<li>cool</li>\n",
       "\t<li>cool</li>\n",
       "\t<li>warm</li>\n",
       "\t<li>warm</li>\n",
       "\t<li>hot</li>\n",
       "\t<li>hot</li>\n",
       "\t<li>hot</li>\n",
       "\t<li>hot</li>\n",
       "\t<li>hot</li>\n",
       "</ol>\n",
       "\n",
       "<details>\n",
       "\t<summary style=display:list-item;cursor:pointer>\n",
       "\t\t<strong>Levels</strong>:\n",
       "\t</summary>\n",
       "\t<ol class=list-inline>\n",
       "\t\t<li>'freezing'</li>\n",
       "\t\t<li>'cold'</li>\n",
       "\t\t<li>'cool'</li>\n",
       "\t\t<li>'warm'</li>\n",
       "\t\t<li>'hot'</li>\n",
       "\t</ol>\n",
       "</details>"
      ],
      "text/latex": [
       "\\begin{enumerate*}\n",
       "\\item freezing\n",
       "\\item freezing\n",
       "\\item cold\n",
       "\\item cold\n",
       "\\item cool\n",
       "\\item cool\n",
       "\\item warm\n",
       "\\item warm\n",
       "\\item hot\n",
       "\\item hot\n",
       "\\item hot\n",
       "\\item hot\n",
       "\\item hot\n",
       "\\end{enumerate*}\n",
       "\n",
       "\\emph{Levels}: \\begin{enumerate*}\n",
       "\\item 'freezing'\n",
       "\\item 'cold'\n",
       "\\item 'cool'\n",
       "\\item 'warm'\n",
       "\\item 'hot'\n",
       "\\end{enumerate*}\n"
      ],
      "text/markdown": [
       "1. freezing\n",
       "2. freezing\n",
       "3. cold\n",
       "4. cold\n",
       "5. cool\n",
       "6. cool\n",
       "7. warm\n",
       "8. warm\n",
       "9. hot\n",
       "10. hot\n",
       "11. hot\n",
       "12. hot\n",
       "13. hot\n",
       "\n",
       "\n",
       "\n",
       "**Levels**: 1. 'freezing'\n",
       "2. 'cold'\n",
       "3. 'cool'\n",
       "4. 'warm'\n",
       "5. 'hot'\n",
       "\n",
       "\n"
      ],
      "text/plain": [
       " [1] freezing freezing cold     cold     cool     cool     warm     warm    \n",
       " [9] hot      hot      hot      hot      hot     \n",
       "Levels: freezing cold cool warm hot"
      ]
     },
     "metadata": {},
     "output_type": "display_data"
    }
   ],
   "source": [
    "temp <- seq(-10, 50, by = 5)\n",
    "temp\n",
    "cut(temp, c(-Inf, 0, 10, 20, 30, Inf),\n",
    "  right = FALSE,\n",
    "  labels = c(\"freezing\", \"cold\", \"cool\", \"warm\", \"hot\")\n",
    ")"
   ]
  },
  {
   "cell_type": "raw",
   "metadata": {},
   "source": [
    "NN\n",
    "cut for vectors\n",
    "if for single variables\n",
    "*****\n",
    "\n",
    "Two advantages of using cut is that it works on vectors, whereas if only works on a single value (I already demonstrated this above), and that to change comparisons I only needed to change the argument to right, but I would have had to change four operators in the if expression."
   ]
  },
  {
   "cell_type": "raw",
   "metadata": {},
   "source": [
    "Q5. What happens if you use switch() with numeric values?"
   ]
  },
  {
   "cell_type": "raw",
   "metadata": {},
   "source": [
    "NN\n",
    "switch()\n",
    "******\n",
    "\n",
    "In switch(n, ...), if n is numeric, it will return the nth argument from .... This means that if n = 1, switch() will return the first argument in ..., if n = 2, the second, and so on. For example,"
   ]
  },
  {
   "cell_type": "code",
   "execution_count": 65,
   "metadata": {},
   "outputs": [
    {
     "data": {
      "text/html": [
       "'apple'"
      ],
      "text/latex": [
       "'apple'"
      ],
      "text/markdown": [
       "'apple'"
      ],
      "text/plain": [
       "[1] \"apple\""
      ]
     },
     "metadata": {},
     "output_type": "display_data"
    },
    {
     "data": {
      "text/html": [
       "'banana'"
      ],
      "text/latex": [
       "'banana'"
      ],
      "text/markdown": [
       "'banana'"
      ],
      "text/plain": [
       "[1] \"banana\""
      ]
     },
     "metadata": {},
     "output_type": "display_data"
    }
   ],
   "source": [
    "switch(1, \"apple\", \"banana\", \"cantaloupe\")\n",
    "switch(2, \"apple\", \"banana\", \"cantaloupe\")"
   ]
  },
  {
   "cell_type": "raw",
   "metadata": {},
   "source": [
    "If you use a non-integer number for the first argument of switch(), it will ignore the non-integer part."
   ]
  },
  {
   "cell_type": "code",
   "execution_count": 66,
   "metadata": {},
   "outputs": [
    {
     "data": {
      "text/html": [
       "'apple'"
      ],
      "text/latex": [
       "'apple'"
      ],
      "text/markdown": [
       "'apple'"
      ],
      "text/plain": [
       "[1] \"apple\""
      ]
     },
     "metadata": {},
     "output_type": "display_data"
    },
    {
     "data": {
      "text/html": [
       "'banana'"
      ],
      "text/latex": [
       "'banana'"
      ],
      "text/markdown": [
       "'banana'"
      ],
      "text/plain": [
       "[1] \"banana\""
      ]
     },
     "metadata": {},
     "output_type": "display_data"
    }
   ],
   "source": [
    "switch(1.2, \"apple\", \"banana\", \"cantaloupe\")\n",
    "switch(2.8, \"apple\", \"banana\", \"cantaloupe\")"
   ]
  },
  {
   "cell_type": "raw",
   "metadata": {},
   "source": [
    "***\n",
    "Note that switch() truncates the numeric value, it does not round to the nearest integer. While it is possible to use non-integer numbers with switch(), you should avoid it"
   ]
  },
  {
   "cell_type": "raw",
   "metadata": {},
   "source": [
    "Q6. What does this switch() call do? What happens if x is “e”?"
   ]
  },
  {
   "cell_type": "code",
   "execution_count": 76,
   "metadata": {},
   "outputs": [
    {
     "ename": "ERROR",
     "evalue": "Error in eval(expr, envir, enclos): object 'b' not found\n",
     "output_type": "error",
     "traceback": [
      "Error in eval(expr, envir, enclos): object 'b' not found\nTraceback:\n"
     ]
    }
   ],
   "source": [
    "switch(x, \n",
    "  a = ,\n",
    "  b = \"ab\",\n",
    "  c = ,\n",
    "  d = \"cd\"\n",
    ")"
   ]
  },
  {
   "cell_type": "raw",
   "metadata": {},
   "source": [
    "Experiment, then carefully read the documentation."
   ]
  },
  {
   "cell_type": "raw",
   "metadata": {},
   "source": [
    "First, let’s write a function switcheroo(), and see what it returns for different values of x."
   ]
  },
  {
   "cell_type": "code",
   "execution_count": 77,
   "metadata": {},
   "outputs": [
    {
     "data": {
      "text/html": [
       "'ab'"
      ],
      "text/latex": [
       "'ab'"
      ],
      "text/markdown": [
       "'ab'"
      ],
      "text/plain": [
       "[1] \"ab\""
      ]
     },
     "metadata": {},
     "output_type": "display_data"
    },
    {
     "data": {
      "text/html": [
       "'ab'"
      ],
      "text/latex": [
       "'ab'"
      ],
      "text/markdown": [
       "'ab'"
      ],
      "text/plain": [
       "[1] \"ab\""
      ]
     },
     "metadata": {},
     "output_type": "display_data"
    },
    {
     "data": {
      "text/html": [
       "'cd'"
      ],
      "text/latex": [
       "'cd'"
      ],
      "text/markdown": [
       "'cd'"
      ],
      "text/plain": [
       "[1] \"cd\""
      ]
     },
     "metadata": {},
     "output_type": "display_data"
    },
    {
     "data": {
      "text/html": [
       "'cd'"
      ],
      "text/latex": [
       "'cd'"
      ],
      "text/markdown": [
       "'cd'"
      ],
      "text/plain": [
       "[1] \"cd\""
      ]
     },
     "metadata": {},
     "output_type": "display_data"
    }
   ],
   "source": [
    "switcheroo <- function(x) {\n",
    "  switch(x,\n",
    "    a = ,\n",
    "    b = \"ab\",\n",
    "    c = ,\n",
    "    d = \"cd\"\n",
    "  )\n",
    "}\n",
    "switcheroo(\"a\")\n",
    "switcheroo(\"b\")\n",
    "switcheroo(\"c\")\n",
    "switcheroo(\"d\")\n",
    "switcheroo(\"e\")\n",
    "switcheroo(\"f\")"
   ]
  },
  {
   "cell_type": "raw",
   "metadata": {},
   "source": [
    "The switcheroo() function returns \"ab\" for x = \"a\" or x = \"b\", \"cd\" for x = \"c\" or x = \"d\", and NULL for x = \"e\" or any other value of x not in c(\"a\", \"b\", \"c\", \"d\").\n",
    "\n",
    "How does this work? The switch() function returns the first non-missing argument value for the first name it matches. Thus, when switch() encounters an argument with a missing value, like a = ,, it will return the value of the next argument with a non missing value, which in this case is b = \"ab\". If object in switch(object=) is not equal to the names of any of its arguments, switch() will return either the last (unnamed) argument if one is present or NULL. Since \"e\" is not one of the named arguments in switch() (a, b, c, d), and no other unnamed default value is present, this code will return NULL.\n",
    "\n",
    "The code in the question is shorter way of writing the following.\n",
    "\n",
    "NN\n",
    "switch()\n",
    "********"
   ]
  },
  {
   "cell_type": "code",
   "execution_count": null,
   "metadata": {},
   "outputs": [],
   "source": [
    "switch(x,\n",
    "  a = \"ab\",\n",
    "  b = \"ab\",\n",
    "  c = \"cd\",\n",
    "  d = \"cd\",\n",
    "  NULL # value to return if x not matched\n",
    ")"
   ]
  },
  {
   "cell_type": "raw",
   "metadata": {},
   "source": [
    "19.5 Function arguments"
   ]
  },
  {
   "cell_type": "raw",
   "metadata": {},
   "source": [
    "NN\n",
    "arguments = data & details of computation\n",
    "beginning & end and default values for details\n",
    "*******\n",
    "\n",
    "The arguments to a function typically fall into two broad sets: one set supplies the data to compute on, and the other supplies arguments that control the details of the computation. For example:\n",
    "\n",
    "*   In log(), the data is x, and the detail is the base of the logarithm.\n",
    "\n",
    "*   In mean(), the data is x, and the details are how much data to trim from the ends (trim) and how to handle missing values (na.rm).\n",
    "\n",
    "*   In t.test(), the data are x and y, and the details of the test are alternative, mu, paired, var.equal, and conf.level.\n",
    "\n",
    "*   In str_c() you can supply any number of strings to ..., and the details of the concatenation are controlled by sep and collapse.\n",
    "\n",
    "Generally, data arguments should come first. Detail arguments should go on the end, and usually should have default values. You specify a default value in the same way you call a function with a named argument:"
   ]
  },
  {
   "cell_type": "code",
   "execution_count": 78,
   "metadata": {},
   "outputs": [
    {
     "data": {
      "text/html": [
       "<ol class=list-inline>\n",
       "\t<li>0.42858934103555</li>\n",
       "\t<li>0.553651202078472</li>\n",
       "</ol>\n"
      ],
      "text/latex": [
       "\\begin{enumerate*}\n",
       "\\item 0.42858934103555\n",
       "\\item 0.553651202078472\n",
       "\\end{enumerate*}\n"
      ],
      "text/markdown": [
       "1. 0.42858934103555\n",
       "2. 0.553651202078472\n",
       "\n",
       "\n"
      ],
      "text/plain": [
       "[1] 0.4285893 0.5536512"
      ]
     },
     "metadata": {},
     "output_type": "display_data"
    },
    {
     "data": {
      "text/html": [
       "<ol class=list-inline>\n",
       "\t<li>0.408940698623094</li>\n",
       "\t<li>0.573299844490928</li>\n",
       "</ol>\n"
      ],
      "text/latex": [
       "\\begin{enumerate*}\n",
       "\\item 0.408940698623094\n",
       "\\item 0.573299844490928\n",
       "\\end{enumerate*}\n"
      ],
      "text/markdown": [
       "1. 0.408940698623094\n",
       "2. 0.573299844490928\n",
       "\n",
       "\n"
      ],
      "text/plain": [
       "[1] 0.4089407 0.5732998"
      ]
     },
     "metadata": {},
     "output_type": "display_data"
    }
   ],
   "source": [
    "# **** good func\n",
    "# Compute confidence interval around mean using normal approximation\n",
    "mean_ci <- function(x, conf = 0.95) {\n",
    "  se <- sd(x) / sqrt(length(x))\n",
    "  alpha <- 1 - conf\n",
    "  mean(x) + se * qnorm(c(alpha / 2, 1 - alpha / 2))\n",
    "}\n",
    "\n",
    "x <- runif(100)\n",
    "mean_ci(x)\n",
    "mean_ci(x, conf = 0.99)"
   ]
  },
  {
   "cell_type": "raw",
   "metadata": {},
   "source": [
    "The default value should almost always be the most common value. The few exceptions to this rule are to do with safety. For example, it makes sense for na.rm to default to FALSE because missing values are important. Even though na.rm = TRUE is what you usually put in your code, it’s a bad idea to silently ignore missing values by default.\n",
    "\n",
    "When you call a function, you typically omit the names of the data arguments, because they are used so commonly. If you override the default value of a detail argument, you should use the full name:"
   ]
  },
  {
   "cell_type": "code",
   "execution_count": null,
   "metadata": {},
   "outputs": [],
   "source": [
    "# Good\n",
    "mean(1:10, na.rm = TRUE)\n",
    "\n",
    "# Bad\n",
    "mean(x = 1:10, , FALSE)\n",
    "mean(, TRUE, x = c(1:10, NA))"
   ]
  },
  {
   "cell_type": "raw",
   "metadata": {},
   "source": [
    "****whitespace convention\n",
    "\n",
    "You can refer to an argument by its unique prefix (e.g. mean(x, n = TRUE)), but this is generally best avoided given the possibilities for confusion.\n",
    "\n",
    "Notice that when you call a function, you should place a space around = in function calls, and always put a space after a comma, not before (just like in regular English). Using whitespace makes it easier to skim the function for the important components."
   ]
  },
  {
   "cell_type": "code",
   "execution_count": null,
   "metadata": {},
   "outputs": [],
   "source": [
    "# Good\n",
    "average <- mean(feet / 12 + inches, na.rm = TRUE)\n",
    "\n",
    "# Bad\n",
    "average<-mean(feet/12+inches,na.rm=TRUE)"
   ]
  },
  {
   "cell_type": "raw",
   "metadata": {},
   "source": [
    "19.5.1 Choosing names"
   ]
  },
  {
   "cell_type": "raw",
   "metadata": {},
   "source": [
    "NN\n",
    "common short names - dont write over them\n",
    "*******\n",
    "\n",
    "\n",
    "The names of the arguments are also important. R doesn’t care, but the readers of your code (including future-you!) will. Generally you should prefer longer, more descriptive names, but there are a handful of very common, very short names. It’s worth memorising these:\n",
    "\n",
    "*   x, y, z: vectors.\n",
    "*   w: a vector of weights.\n",
    "*   df: a data frame.\n",
    "*   i, j: numeric indices (typically rows and columns).\n",
    "*   n: length, or number of rows.\n",
    "*   p: number of columns.\n",
    "\n",
    "*********\n",
    "Otherwise, consider matching names of arguments in existing R functions. For example, use na.rm to determine if missing values should be removed."
   ]
  },
  {
   "cell_type": "raw",
   "metadata": {},
   "source": [
    "19.5.2 Checking values"
   ]
  },
  {
   "cell_type": "raw",
   "metadata": {},
   "source": [
    "As you start to write more functions, you’ll eventually get to the point where you don’t remember exactly how your function works. At this point it’s easy to call your function with invalid inputs. To avoid this problem, it’s often useful to make constraints explicit. For example, imagine you’ve written some functions for computing weighted summary statistics:"
   ]
  },
  {
   "cell_type": "code",
   "execution_count": 79,
   "metadata": {},
   "outputs": [],
   "source": [
    "wt_mean <- function(x, w) {\n",
    "  sum(x * w) / sum(w)\n",
    "}\n",
    "wt_var <- function(x, w) {\n",
    "  mu <- wt_mean(x, w)\n",
    "  sum(w * (x - mu) ^ 2) / sum(w)\n",
    "}\n",
    "wt_sd <- function(x, w) {\n",
    "  sqrt(wt_var(x, w))\n",
    "}"
   ]
  },
  {
   "cell_type": "raw",
   "metadata": {},
   "source": [
    "What happens if x and w are not the same length?"
   ]
  },
  {
   "cell_type": "code",
   "execution_count": 80,
   "metadata": {},
   "outputs": [
    {
     "data": {
      "text/html": [
       "7.66666666666667"
      ],
      "text/latex": [
       "7.66666666666667"
      ],
      "text/markdown": [
       "7.66666666666667"
      ],
      "text/plain": [
       "[1] 7.666667"
      ]
     },
     "metadata": {},
     "output_type": "display_data"
    }
   ],
   "source": [
    "wt_mean(1:6, 1:3)"
   ]
  },
  {
   "cell_type": "raw",
   "metadata": {},
   "source": [
    "In this case, because of R’s vector recycling rules, we don’t get an error.\n",
    "\n",
    "It’s good practice to check important preconditions, and throw an error (with stop()), if they are not true: ********"
   ]
  },
  {
   "cell_type": "code",
   "execution_count": 81,
   "metadata": {},
   "outputs": [],
   "source": [
    "wt_mean <- function(x, w) {\n",
    "  if (length(x) != length(w)) {\n",
    "    stop(\"`x` and `w` must be the same length\", call. = FALSE)\n",
    "  }\n",
    "  sum(w * x) / sum(w)\n",
    "}"
   ]
  },
  {
   "cell_type": "raw",
   "metadata": {},
   "source": [
    "Be careful not to take this too far. There’s a tradeoff between how much time you spend making your function robust, versus how long you spend writing it. For example, if you also added a na.rm argument, I probably wouldn’t check it carefully:"
   ]
  },
  {
   "cell_type": "code",
   "execution_count": 82,
   "metadata": {},
   "outputs": [],
   "source": [
    "wt_mean <- function(x, w, na.rm = FALSE) {\n",
    "  if (!is.logical(na.rm)) {\n",
    "    stop(\"`na.rm` must be logical\")\n",
    "  }\n",
    "  if (length(na.rm) != 1) {\n",
    "    stop(\"`na.rm` must be length 1\")\n",
    "  }\n",
    "  if (length(x) != length(w)) {\n",
    "    stop(\"`x` and `w` must be the same length\", call. = FALSE)\n",
    "  }\n",
    "  \n",
    "  if (na.rm) {\n",
    "    miss <- is.na(x) | is.na(w)\n",
    "    x <- x[!miss]\n",
    "    w <- w[!miss]\n",
    "  }\n",
    "  sum(w * x) / sum(w)\n",
    "}"
   ]
  },
  {
   "cell_type": "raw",
   "metadata": {},
   "source": [
    "NN\n",
    "stopifnot()\n",
    "*******\n",
    "This is a lot of extra work for little additional gain. A useful compromise is the built-in stopifnot(): it checks that each argument is TRUE, and produces a generic error message if not."
   ]
  },
  {
   "cell_type": "code",
   "execution_count": 83,
   "metadata": {},
   "outputs": [
    {
     "ename": "ERROR",
     "evalue": "Error in wt_mean(1:6, 6:1, na.rm = \"foo\"): is.logical(na.rm) is not TRUE\n",
     "output_type": "error",
     "traceback": [
      "Error in wt_mean(1:6, 6:1, na.rm = \"foo\"): is.logical(na.rm) is not TRUE\nTraceback:\n",
      "1. wt_mean(1:6, 6:1, na.rm = \"foo\")",
      "2. stopifnot(is.logical(na.rm), length(na.rm) == 1)   # at line 2 of file <text>"
     ]
    }
   ],
   "source": [
    "wt_mean <- function(x, w, na.rm = FALSE) {\n",
    "  stopifnot(is.logical(na.rm), length(na.rm) == 1)\n",
    "  stopifnot(length(x) == length(w))\n",
    "  \n",
    "  if (na.rm) {\n",
    "    miss <- is.na(x) | is.na(w)\n",
    "    x <- x[!miss]\n",
    "    w <- w[!miss]\n",
    "  }\n",
    "  sum(w * x) / sum(w)\n",
    "}\n",
    "wt_mean(1:6, 6:1, na.rm = \"foo\")"
   ]
  },
  {
   "cell_type": "raw",
   "metadata": {},
   "source": [
    "******\n",
    "Note that when using stopifnot() you assert what should be true rather than checking for what might be wrong."
   ]
  },
  {
   "cell_type": "raw",
   "metadata": {},
   "source": [
    "19.5.3 Dot-dot-dot (…)"
   ]
  },
  {
   "cell_type": "raw",
   "metadata": {},
   "source": [
    "Many functions in R take an arbitrary number of inputs:"
   ]
  },
  {
   "cell_type": "code",
   "execution_count": 84,
   "metadata": {},
   "outputs": [
    {
     "data": {
      "text/html": [
       "55"
      ],
      "text/latex": [
       "55"
      ],
      "text/markdown": [
       "55"
      ],
      "text/plain": [
       "[1] 55"
      ]
     },
     "metadata": {},
     "output_type": "display_data"
    },
    {
     "data": {
      "text/html": [
       "'abcdef'"
      ],
      "text/latex": [
       "'abcdef'"
      ],
      "text/markdown": [
       "'abcdef'"
      ],
      "text/plain": [
       "[1] \"abcdef\""
      ]
     },
     "metadata": {},
     "output_type": "display_data"
    }
   ],
   "source": [
    "sum(1, 2, 3, 4, 5, 6, 7, 8, 9, 10)\n",
    "stringr::str_c(\"a\", \"b\", \"c\", \"d\", \"e\", \"f\")"
   ]
  },
  {
   "cell_type": "raw",
   "metadata": {},
   "source": [
    "NN\n",
    "args = ...\n",
    "******\n",
    "\n",
    "How do these functions work? They rely on a special argument: ... (pronounced dot-dot-dot). This special argument captures any number of arguments that aren’t otherwise matched.\n",
    "\n",
    "It’s useful because you can then send those ... on to another function. This is a useful catch-all if your function primarily wraps another function. For example, I commonly create these helper functions that wrap around str_c():"
   ]
  },
  {
   "cell_type": "raw",
   "metadata": {},
   "source": [
    "******\n",
    "str_c()\n",
    "pad()\n",
    "paste0()\n",
    "getOption()\n",
    "str_dup()\n",
    "cat()"
   ]
  },
  {
   "cell_type": "code",
   "execution_count": 86,
   "metadata": {},
   "outputs": [
    {
     "data": {
      "text/html": [
       "'a, b, c, d, e, f, g, h, i, j'"
      ],
      "text/latex": [
       "'a, b, c, d, e, f, g, h, i, j'"
      ],
      "text/markdown": [
       "'a, b, c, d, e, f, g, h, i, j'"
      ],
      "text/plain": [
       "[1] \"a, b, c, d, e, f, g, h, i, j\""
      ]
     },
     "metadata": {},
     "output_type": "display_data"
    },
    {
     "name": "stdout",
     "output_type": "stream",
     "text": [
      "Important output -----------------------------------------------------------\n"
     ]
    }
   ],
   "source": [
    "commas <- function(...) stringr::str_c(..., collapse = \", \")\n",
    "commas(letters[1:10])\n",
    "\n",
    "rule <- function(..., pad = \"-\") {\n",
    "  title <- paste0(...)\n",
    "  width <- getOption(\"width\") - nchar(title) - 5\n",
    "  cat(title, \" \", stringr::str_dup(pad, width), \"\\n\", sep = \"\")\n",
    "}\n",
    "rule(\"Important output\")"
   ]
  },
  {
   "cell_type": "raw",
   "metadata": {},
   "source": [
    "Here ... lets me forward on any arguments that I don’t want to deal with to str_c(). It’s a very convenient technique. But it does come at a price: any misspelled arguments will not raise an error. This makes it easy for typos to go unnoticed:"
   ]
  },
  {
   "cell_type": "code",
   "execution_count": 103,
   "metadata": {},
   "outputs": [],
   "source": [
    "?sum"
   ]
  },
  {
   "cell_type": "code",
   "execution_count": 108,
   "metadata": {},
   "outputs": [
    {
     "data": {
      "text/html": [
       "20"
      ],
      "text/latex": [
       "20"
      ],
      "text/markdown": [
       "20"
      ],
      "text/plain": [
       "[1] 20"
      ]
     },
     "metadata": {},
     "output_type": "display_data"
    }
   ],
   "source": [
    "x <- c(10, 10)\n",
    "sum(x, na.mr = TRUE)"
   ]
  },
  {
   "cell_type": "raw",
   "metadata": {},
   "source": [
    "If you just want to capture the values of the ..., use list(...). [????******]"
   ]
  },
  {
   "cell_type": "raw",
   "metadata": {},
   "source": [
    "19.5.4 Lazy evaluation"
   ]
  },
  {
   "cell_type": "markdown",
   "metadata": {},
   "source": [
    "Arguments in R are lazily evaluated: they’re not computed until they’re needed. That means if they’re never used, they’re never called. This is an important property of R as a programming language, but is generally not important when you’re writing your own functions for data analysis. You can read more about lazy evaluation at http://adv-r.had.co.nz/Functions.html#lazy-evaluation."
   ]
  },
  {
   "cell_type": "raw",
   "metadata": {},
   "source": [
    "19.5.5 Exercises"
   ]
  },
  {
   "cell_type": "raw",
   "metadata": {},
   "source": [
    "Q1. What does commas(letters, collapse = \"-\") do? Why?"
   ]
  },
  {
   "cell_type": "raw",
   "metadata": {},
   "source": [
    "The commas() function in the chapter is defined as"
   ]
  },
  {
   "cell_type": "code",
   "execution_count": 110,
   "metadata": {},
   "outputs": [],
   "source": [
    "commas <- function(...) {\n",
    "  str_c(..., collapse = \", \")\n",
    "}"
   ]
  },
  {
   "cell_type": "raw",
   "metadata": {},
   "source": [
    "When commas() is given a collapse argument, it throws an error."
   ]
  },
  {
   "cell_type": "code",
   "execution_count": 111,
   "metadata": {},
   "outputs": [
    {
     "ename": "ERROR",
     "evalue": "Error in str_c(..., collapse = \", \"): could not find function \"str_c\"\n",
     "output_type": "error",
     "traceback": [
      "Error in str_c(..., collapse = \", \"): could not find function \"str_c\"\nTraceback:\n",
      "1. commas(letters, collapse = \"-\")"
     ]
    }
   ],
   "source": [
    "commas(letters, collapse = \"-\")"
   ]
  },
  {
   "cell_type": "raw",
   "metadata": {},
   "source": [
    "This is because when the argument collapse is given to commas(), it is passed to str_c() as part of .... In other words, the previous code is equivalent to"
   ]
  },
  {
   "cell_type": "code",
   "execution_count": null,
   "metadata": {},
   "outputs": [],
   "source": [
    "str_c(letters, collapse = \"-\", collapse = \", \")"
   ]
  },
  {
   "cell_type": "raw",
   "metadata": {},
   "source": [
    "However, it is an error to give the same named argument to a function twice.\n",
    "\n",
    "One way to allow the user to override the separator in commas() is to add a collapse argument to the function."
   ]
  },
  {
   "cell_type": "code",
   "execution_count": 112,
   "metadata": {},
   "outputs": [],
   "source": [
    "commas <- function(..., collapse = \", \") {\n",
    "  str_c(..., collapse = collapse)\n",
    "}"
   ]
  },
  {
   "cell_type": "raw",
   "metadata": {},
   "source": [
    "Q2. It’d be nice if you could supply multiple characters to the pad argument, e.g. rule(\"Title\", pad = \"-+\"). Why doesn’t this currently work? How could you fix it?"
   ]
  },
  {
   "cell_type": "raw",
   "metadata": {},
   "source": [
    "This is the definition of the rule function from the chapter."
   ]
  },
  {
   "cell_type": "code",
   "execution_count": 113,
   "metadata": {},
   "outputs": [],
   "source": [
    "rule <- function(..., pad = \"-\") {\n",
    "  title <- paste0(...)\n",
    "  width <- getOption(\"width\") - nchar(title) - 5\n",
    "  cat(title, \" \", str_dup(pad, width), \"\\n\", sep = \"\")\n",
    "}"
   ]
  },
  {
   "cell_type": "code",
   "execution_count": 114,
   "metadata": {},
   "outputs": [
    {
     "ename": "ERROR",
     "evalue": "Error in str_dup(pad, width): could not find function \"str_dup\"\n",
     "output_type": "error",
     "traceback": [
      "Error in str_dup(pad, width): could not find function \"str_dup\"\nTraceback:\n",
      "1. rule(\"Important output\")",
      "2. cat(title, \" \", str_dup(pad, width), \"\\n\", sep = \"\")   # at line 4 of file <text>"
     ]
    }
   ],
   "source": [
    "rule(\"Important output\")"
   ]
  },
  {
   "cell_type": "raw",
   "metadata": {},
   "source": [
    "You can currently supply multiple characters to the pad argument, but the output is will not be the desired width. The rule() function duplicates pad a number of times equal to the desired width minus the length of the title and five extra characters. This implicitly assumes that pad is only one character. If pad were two character, the output will be almost twice as long."
   ]
  },
  {
   "cell_type": "code",
   "execution_count": 115,
   "metadata": {},
   "outputs": [
    {
     "ename": "ERROR",
     "evalue": "Error in str_dup(pad, width): could not find function \"str_dup\"\n",
     "output_type": "error",
     "traceback": [
      "Error in str_dup(pad, width): could not find function \"str_dup\"\nTraceback:\n",
      "1. rule(\"Valuable output\", pad = \"-+\")",
      "2. cat(title, \" \", str_dup(pad, width), \"\\n\", sep = \"\")   # at line 4 of file <text>"
     ]
    }
   ],
   "source": [
    "rule(\"Valuable output\", pad = \"-+\")"
   ]
  },
  {
   "cell_type": "raw",
   "metadata": {},
   "source": [
    "One way to handle this is to use str_trunc() to truncate the string, and str_length() to calculate the number of characters in the pad argument."
   ]
  },
  {
   "cell_type": "code",
   "execution_count": 116,
   "metadata": {},
   "outputs": [
    {
     "ename": "ERROR",
     "evalue": "Error in str_dup(pad, ceiling(width/str_length(title))) %>% str_trunc(width): could not find function \"%>%\"\n",
     "output_type": "error",
     "traceback": [
      "Error in str_dup(pad, ceiling(width/str_length(title))) %>% str_trunc(width): could not find function \"%>%\"\nTraceback:\n",
      "1. rule(\"Important output\")"
     ]
    }
   ],
   "source": [
    "rule <- function(..., pad = \"-\") {\n",
    "  title <- paste0(...)\n",
    "  width <- getOption(\"width\") - nchar(title) - 5\n",
    "  padding <- str_dup(\n",
    "    pad,\n",
    "    ceiling(width / str_length(title))\n",
    "  ) %>%\n",
    "    str_trunc(width)\n",
    "  cat(title, \" \", padding, \"\\n\", sep = \"\")\n",
    "}\n",
    "rule(\"Important output\")\n",
    "#> Important output ----\n",
    "rule(\"Valuable output\", pad = \"-+\")\n",
    "#> Valuable output -+-+-+-+\n",
    "rule(\"Vital output\", pad = \"-+-\")"
   ]
  },
  {
   "cell_type": "raw",
   "metadata": {},
   "source": [
    "Note that in the second output, there is only a single - at the end."
   ]
  },
  {
   "cell_type": "raw",
   "metadata": {},
   "source": [
    "Q3. What does the trim argument to mean() do? When might you use it?"
   ]
  },
  {
   "cell_type": "raw",
   "metadata": {},
   "source": [
    "The trim arguments trims a fraction of observations from each end of the vector (meaning the range) before calculating the mean. This is useful for calculating a measure of central tendency that is robust to outliers.\n",
    "\n",
    "\n",
    "NN\n",
    "trim for mean\n",
    "*****"
   ]
  },
  {
   "cell_type": "raw",
   "metadata": {},
   "source": [
    "NN\n",
    "cor()\n",
    "method\n",
    "*******\n",
    "\n",
    "Q4. The default value for the method argument to cor() is c(\"pearson\", \"kendall\", \"spearman\"). What does that mean? What value is used by default?"
   ]
  },
  {
   "cell_type": "raw",
   "metadata": {},
   "source": [
    "It means that the method argument can take one of those three values. The first value, \"pearson\", is used by default."
   ]
  },
  {
   "cell_type": "raw",
   "metadata": {},
   "source": [
    "19.6 Return values"
   ]
  },
  {
   "cell_type": "raw",
   "metadata": {},
   "source": [
    "Figuring out what your function should return is usually straightforward: it’s why you created the function in the first place! There are two things you should consider when returning a value:\n",
    "\n",
    "1.  Does returning early make your function easier to read?\n",
    "\n",
    "2.  Can you make your function pipeable?"
   ]
  },
  {
   "cell_type": "raw",
   "metadata": {},
   "source": [
    "19.6.1 Explicit return statements"
   ]
  },
  {
   "cell_type": "raw",
   "metadata": {},
   "source": [
    "NN\n",
    "return()\n",
    "********\n",
    "\n",
    "The value returned by the function is usually the last statement it evaluates, but you can choose to return early by using return(). I think it’s best to save the use of return() to signal that you can return early with a simpler solution. A common reason to do this is because the inputs are empty:"
   ]
  },
  {
   "cell_type": "code",
   "execution_count": null,
   "metadata": {},
   "outputs": [],
   "source": [
    "complicated_function <- function(x, y, z) {\n",
    "  if (length(x) == 0 || length(y) == 0) {\n",
    "    return(0)\n",
    "  }\n",
    "    \n",
    "  # Complicated code here\n",
    "}"
   ]
  },
  {
   "cell_type": "raw",
   "metadata": {},
   "source": [
    "Another reason is because you have a if statement with one complex block and one simple block. For example, you might write an if statement like this:"
   ]
  },
  {
   "cell_type": "code",
   "execution_count": null,
   "metadata": {},
   "outputs": [],
   "source": [
    "f <- function() {\n",
    "  if (x) {\n",
    "    # Do \n",
    "    # something\n",
    "    # that\n",
    "    # takes\n",
    "    # many\n",
    "    # lines\n",
    "    # to\n",
    "    # express\n",
    "  } else {\n",
    "    # return something short\n",
    "  }\n",
    "}"
   ]
  },
  {
   "cell_type": "raw",
   "metadata": {},
   "source": [
    "But if the first block is very long, by the time you get to the else, you’ve forgotten the condition. One way to rewrite it is to use an early return for the simple case:"
   ]
  },
  {
   "cell_type": "code",
   "execution_count": null,
   "metadata": {},
   "outputs": [],
   "source": [
    "f <- function() {\n",
    "  if (!x) {\n",
    "    return(something_short)\n",
    "  }\n",
    "\n",
    "  # Do \n",
    "  # something\n",
    "  # that\n",
    "  # takes\n",
    "  # many\n",
    "  # lines\n",
    "  # to\n",
    "  # express\n",
    "}"
   ]
  },
  {
   "cell_type": "raw",
   "metadata": {},
   "source": [
    "This tends to make the code easier to understand, because you don’t need quite so much context to understand it."
   ]
  },
  {
   "cell_type": "raw",
   "metadata": {},
   "source": [
    "19.6.2 Writing pipeable functions"
   ]
  },
  {
   "cell_type": "raw",
   "metadata": {},
   "source": [
    "NN\n",
    "transformations\n",
    "side-effects\n",
    "********\n",
    "\n",
    "If you want to write your own pipeable functions, it’s important to think about the return value. Knowing the return value’s object type will mean that your pipeline will “just work”. For example, with dplyr and tidyr the object type is the data frame.\n",
    "\n",
    "There are two basic types of pipeable functions: transformations and side-effects. With transformations, an object is passed to the function’s first argument and a modified object is returned. With side-effects, the passed object is not transformed. Instead, the function performs an action on the object, like drawing a plot or saving a file. Side-effects functions should “invisibly” return the first argument, so that while they’re not printed they can still be used in a pipeline. For example, this simple function prints the number of missing values in a data frame:\n",
    "\n",
    "NN\n",
    "invisible()*******"
   ]
  },
  {
   "cell_type": "code",
   "execution_count": 117,
   "metadata": {},
   "outputs": [],
   "source": [
    "show_missings <- function(df) {\n",
    "  n <- sum(is.na(df))\n",
    "  cat(\"Missing values: \", n, \"\\n\", sep = \"\")\n",
    "  \n",
    "  invisible(df)\n",
    "}"
   ]
  },
  {
   "cell_type": "raw",
   "metadata": {},
   "source": [
    "If we call it interactively, the invisible() means that the input df doesn’t get printed out:"
   ]
  },
  {
   "cell_type": "code",
   "execution_count": 118,
   "metadata": {},
   "outputs": [
    {
     "name": "stdout",
     "output_type": "stream",
     "text": [
      "Missing values: 0\n"
     ]
    }
   ],
   "source": [
    "show_missings(mtcars)"
   ]
  },
  {
   "cell_type": "raw",
   "metadata": {},
   "source": [
    "NN\n",
    "class\n",
    "dim\n",
    "****************\n",
    "\n",
    "\n",
    "But it’s still there, it’s just not printed by default:"
   ]
  },
  {
   "cell_type": "code",
   "execution_count": 119,
   "metadata": {},
   "outputs": [
    {
     "name": "stdout",
     "output_type": "stream",
     "text": [
      "Missing values: 0\n"
     ]
    },
    {
     "data": {
      "text/html": [
       "'data.frame'"
      ],
      "text/latex": [
       "'data.frame'"
      ],
      "text/markdown": [
       "'data.frame'"
      ],
      "text/plain": [
       "[1] \"data.frame\""
      ]
     },
     "metadata": {},
     "output_type": "display_data"
    },
    {
     "data": {
      "text/html": [
       "<ol class=list-inline>\n",
       "\t<li>32</li>\n",
       "\t<li>11</li>\n",
       "</ol>\n"
      ],
      "text/latex": [
       "\\begin{enumerate*}\n",
       "\\item 32\n",
       "\\item 11\n",
       "\\end{enumerate*}\n"
      ],
      "text/markdown": [
       "1. 32\n",
       "2. 11\n",
       "\n",
       "\n"
      ],
      "text/plain": [
       "[1] 32 11"
      ]
     },
     "metadata": {},
     "output_type": "display_data"
    }
   ],
   "source": [
    "x <- show_missings(mtcars) \n",
    "class(x)\n",
    "dim(x)"
   ]
  },
  {
   "cell_type": "raw",
   "metadata": {},
   "source": [
    "And we can still use it in a pipe:"
   ]
  },
  {
   "cell_type": "code",
   "execution_count": 120,
   "metadata": {},
   "outputs": [
    {
     "ename": "ERROR",
     "evalue": "Error in mtcars %>% show_missings() %>% mutate(mpg = ifelse(mpg < 20, : could not find function \"%>%\"\n",
     "output_type": "error",
     "traceback": [
      "Error in mtcars %>% show_missings() %>% mutate(mpg = ifelse(mpg < 20, : could not find function \"%>%\"\nTraceback:\n"
     ]
    }
   ],
   "source": [
    "mtcars %>% \n",
    "  show_missings() %>% \n",
    "  mutate(mpg = ifelse(mpg < 20, NA, mpg)) %>% \n",
    "  show_missings()"
   ]
  },
  {
   "cell_type": "raw",
   "metadata": {},
   "source": [
    "19.7 Environment"
   ]
  },
  {
   "cell_type": "raw",
   "metadata": {},
   "source": [
    "The last component of a function is its environment. This is not something you need to understand deeply when you first start writing functions. However, it’s important to know a little bit about environments because they are crucial to how functions work. The environment of a function controls how R finds the value associated with a name. For example, take this function:"
   ]
  },
  {
   "cell_type": "code",
   "execution_count": 121,
   "metadata": {},
   "outputs": [],
   "source": [
    "f <- function(x) {\n",
    "  x + y\n",
    "} "
   ]
  },
  {
   "cell_type": "raw",
   "metadata": {},
   "source": [
    "NN\n",
    "lexical scoping\n",
    "*********\n",
    "\n",
    "In many programming languages, this would be an error, because y is not defined inside the function. In R, this is valid code because R uses rules called lexical scoping to find the value associated with a name. Since y is not defined inside the function, R will look in the environment where the function was defined:"
   ]
  },
  {
   "cell_type": "code",
   "execution_count": 122,
   "metadata": {},
   "outputs": [
    {
     "data": {
      "text/html": [
       "110"
      ],
      "text/latex": [
       "110"
      ],
      "text/markdown": [
       "110"
      ],
      "text/plain": [
       "[1] 110"
      ]
     },
     "metadata": {},
     "output_type": "display_data"
    },
    {
     "data": {
      "text/html": [
       "1010"
      ],
      "text/latex": [
       "1010"
      ],
      "text/markdown": [
       "1010"
      ],
      "text/plain": [
       "[1] 1010"
      ]
     },
     "metadata": {},
     "output_type": "display_data"
    }
   ],
   "source": [
    "y <- 100\n",
    "f(10)\n",
    "\n",
    "y <- 1000\n",
    "f(10)\n"
   ]
  },
  {
   "cell_type": "raw",
   "metadata": {},
   "source": [
    "This behaviour seems like a recipe for bugs, and indeed you should avoid creating functions like this deliberately, but by and large it doesn’t cause too many problems (especially if you regularly restart R to get to a clean slate).\n",
    "\n",
    "The advantage of this behaviour is that from a language standpoint it allows R to be very consistent. Every name is looked up using the same set of rules. For f() that includes the behaviour of two things that you might not expect: { and +. This allows you to do devious things like:"
   ]
  },
  {
   "cell_type": "code",
   "execution_count": 129,
   "metadata": {},
   "outputs": [],
   "source": [
    "?table"
   ]
  },
  {
   "cell_type": "code",
   "execution_count": 123,
   "metadata": {},
   "outputs": [
    {
     "data": {
      "text/plain": [
       "\n",
       "  3 3.3 \n",
       "105 895 "
      ]
     },
     "metadata": {},
     "output_type": "display_data"
    }
   ],
   "source": [
    "`+` <- function(x, y) {\n",
    "  if (runif(1) < 0.1) {\n",
    "    sum(x, y)\n",
    "  } else {\n",
    "    sum(x, y) * 1.1\n",
    "  }\n",
    "}\n",
    "table(replicate(1000, 1 + 2))\n",
    "rm(`+`)"
   ]
  },
  {
   "cell_type": "raw",
   "metadata": {},
   "source": [
    "This is a common phenomenon in R. R places few limits on your power. You can do many things that you can’t do in other programming languages. You can do many things that 99% of the time are extremely ill-advised (like overriding how addition works!). But this power and flexibility is what makes tools like ggplot2 and dplyr possible. Learning how to make best use of this flexibility is beyond the scope of this book, but you can read about in Advanced R."
   ]
  }
 ],
 "metadata": {
  "kernelspec": {
   "display_name": "R",
   "language": "R",
   "name": "ir"
  },
  "language_info": {
   "codemirror_mode": "r",
   "file_extension": ".r",
   "mimetype": "text/x-r-source",
   "name": "R",
   "pygments_lexer": "r",
   "version": "3.6.0"
  }
 },
 "nbformat": 4,
 "nbformat_minor": 2
}
