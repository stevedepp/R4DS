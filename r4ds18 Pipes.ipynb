{
 "cells": [
  {
   "cell_type": "raw",
   "metadata": {},
   "source": [
    "18 Pipes"
   ]
  },
  {
   "cell_type": "raw",
   "metadata": {},
   "source": [
    "18.1 Introduction"
   ]
  },
  {
   "cell_type": "raw",
   "metadata": {},
   "source": [
    "Pipes are a powerful tool for clearly expressing a sequence of multiple operations. So far, you’ve been using them without knowing how they work, or what the alternatives are. Now, in this chapter, it’s time to explore the pipe in more detail. You’ll learn the alternatives to the pipe, when you shouldn’t use the pipe, and some useful related tools."
   ]
  },
  {
   "cell_type": "raw",
   "metadata": {},
   "source": [
    "18.1.1 Prerequisites"
   ]
  },
  {
   "cell_type": "raw",
   "metadata": {},
   "source": [
    "The pipe, %>%, comes from the magrittr package by Stefan Milton Bache. Packages in the tidyverse load %>% for you automatically, so you don’t usually load magrittr explicitly. Here, however, we’re focussing on piping, and we aren’t loading any other packages, so we will load it explicitly."
   ]
  },
  {
   "cell_type": "code",
   "execution_count": 5,
   "metadata": {},
   "outputs": [],
   "source": [
    "library(magrittr)"
   ]
  },
  {
   "cell_type": "raw",
   "metadata": {},
   "source": [
    "18.2 Piping alternatives"
   ]
  },
  {
   "cell_type": "raw",
   "metadata": {},
   "source": [
    "The point of the pipe is to help you write code in a way that is easier to read and understand. To see why the pipe is so useful, we’re going to explore a number of ways of writing the same code. Let’s use code to tell a story about a little bunny named Foo Foo:\n",
    "\n",
    "    Little bunny Foo Foo\n",
    "    Went hopping through the forest\n",
    "    Scooping up the field mice\n",
    "    And bopping them on the head\n",
    "\n",
    "This is a popular Children’s poem that is accompanied by hand actions.\n",
    "\n",
    "We’ll start by defining an object to represent little bunny Foo Foo:"
   ]
  },
  {
   "cell_type": "code",
   "execution_count": 4,
   "metadata": {},
   "outputs": [
    {
     "ename": "ERROR",
     "evalue": "Error in little_bunny(): could not find function \"little_bunny\"\n",
     "output_type": "error",
     "traceback": [
      "Error in little_bunny(): could not find function \"little_bunny\"\nTraceback:\n"
     ]
    }
   ],
   "source": [
    "foo_foo <- little_bunny()"
   ]
  },
  {
   "cell_type": "raw",
   "metadata": {},
   "source": [
    "And we’ll use a function for each key verb: \n",
    "\n",
    "    hop(), \n",
    "    scoop(), and \n",
    "    bop(). \n",
    "    \n",
    "Using this object and these verbs, there are (at least) four ways we could retell the story in code:\n",
    "\n",
    "Save each intermediate step as a new object.\n",
    "Overwrite the original object many times.\n",
    "Compose functions.\n",
    "Use the pipe.\n",
    "We’ll work through each approach, showing you the code and talking about the advantages and disadvantages."
   ]
  },
  {
   "cell_type": "raw",
   "metadata": {},
   "source": [
    "18.2.1 Intermediate steps"
   ]
  },
  {
   "cell_type": "raw",
   "metadata": {},
   "source": [
    "The simplest approach is to save each step as a new object:"
   ]
  },
  {
   "cell_type": "code",
   "execution_count": 3,
   "metadata": {},
   "outputs": [
    {
     "ename": "ERROR",
     "evalue": "Error in hop(foo_foo, through = forest): could not find function \"hop\"\n",
     "output_type": "error",
     "traceback": [
      "Error in hop(foo_foo, through = forest): could not find function \"hop\"\nTraceback:\n"
     ]
    }
   ],
   "source": [
    "foo_foo_1 <- hop(foo_foo, through = forest)\n",
    "foo_foo_2 <- scoop(foo_foo_1, up = field_mice)\n",
    "foo_foo_3 <- bop(foo_foo_2, on = head)"
   ]
  },
  {
   "cell_type": "raw",
   "metadata": {},
   "source": [
    "NN\n",
    "object_size()\n",
    "object.size()\n",
    "******\n",
    "\n",
    "The main downside of this form is that it forces you to name each intermediate element. If there are natural names, this is a good idea, and you should do it. But many times, like this in this example, there aren’t natural names, and you add numeric suffixes to make the names unique. That leads to two problems:\n",
    "\n",
    "    The code is cluttered with unimportant names\n",
    "\n",
    "    You have to carefully increment the suffix on each line.\n",
    "\n",
    "Whenever I write code like this, I invariably use the wrong number on one line and then spend 10 minutes scratching my head and trying to figure out what went wrong with my code.\n",
    "\n",
    "You may also worry that this form creates many copies of your data and takes up a lot of memory. Surprisingly, that’s not the case. First, note that proactively worrying about memory is not a useful way to spend your time: worry about it when it becomes a problem (i.e. you run out of memory), not before. Second, R isn’t stupid, and it will share columns across data frames, where possible. Let’s take a look at an actual data manipulation pipeline where we add a new column to ggplot2::diamonds:"
   ]
  },
  {
   "cell_type": "code",
   "execution_count": 6,
   "metadata": {},
   "outputs": [
    {
     "data": {
      "text/plain": [
       "3.46 MB"
      ]
     },
     "metadata": {},
     "output_type": "display_data"
    },
    {
     "data": {
      "text/plain": [
       "3.89 MB"
      ]
     },
     "metadata": {},
     "output_type": "display_data"
    },
    {
     "data": {
      "text/plain": [
       "3.89 MB"
      ]
     },
     "metadata": {},
     "output_type": "display_data"
    }
   ],
   "source": [
    "library(pryr)\n",
    "diamonds <- ggplot2::diamonds\n",
    "diamonds2 <- diamonds %>% \n",
    "  dplyr::mutate(price_per_carat = price / carat)\n",
    "\n",
    "pryr::object_size(diamonds)\n",
    "pryr::object_size(diamonds2)\n",
    "pryr::object_size(diamonds, diamonds2)"
   ]
  },
  {
   "cell_type": "raw",
   "metadata": {},
   "source": [
    "pryr::object_size() gives the memory occupied by all of its arguments. The results seem counterintuitive at first:\n",
    "\n",
    "diamonds takes up 3.46 MB,\n",
    "diamonds2 takes up 3.89 MB,\n",
    "diamonds and diamonds2 together take up 3.89 MB!\n",
    "How can that work? Well, diamonds2 has 10 columns in common with diamonds: there’s no need to duplicate all that data, so the two data frames have variables in common. These variables will only get copied if you modify one of them. In the following example, we modify a single value in diamonds$carat. That means the carat variable can no longer be shared between the two data frames, and a copy must be made. The size of each data frame is unchanged, but the collective size increases:"
   ]
  },
  {
   "cell_type": "code",
   "execution_count": 7,
   "metadata": {},
   "outputs": [
    {
     "data": {
      "text/plain": [
       "3.46 MB"
      ]
     },
     "metadata": {},
     "output_type": "display_data"
    },
    {
     "data": {
      "text/plain": [
       "3.89 MB"
      ]
     },
     "metadata": {},
     "output_type": "display_data"
    },
    {
     "data": {
      "text/plain": [
       "4.32 MB"
      ]
     },
     "metadata": {},
     "output_type": "display_data"
    }
   ],
   "source": [
    "diamonds$carat[1] <- NA\n",
    "pryr::object_size(diamonds)\n",
    "pryr::object_size(diamonds2)\n",
    "pryr::object_size(diamonds, diamonds2)"
   ]
  },
  {
   "cell_type": "raw",
   "metadata": {},
   "source": [
    "(Note that we use pryr::object_size() here, not the built-in object.size(). object.size() only takes a single object so it can’t compute how data is shared across multiple objects.)"
   ]
  },
  {
   "cell_type": "raw",
   "metadata": {},
   "source": [
    "18.2.2 Overwrite the original"
   ]
  },
  {
   "cell_type": "raw",
   "metadata": {},
   "source": [
    "Instead of creating intermediate objects at each step, we could overwrite the original object:"
   ]
  },
  {
   "cell_type": "code",
   "execution_count": 8,
   "metadata": {},
   "outputs": [
    {
     "ename": "ERROR",
     "evalue": "Error in hop(foo_foo, through = forest): could not find function \"hop\"\n",
     "output_type": "error",
     "traceback": [
      "Error in hop(foo_foo, through = forest): could not find function \"hop\"\nTraceback:\n"
     ]
    }
   ],
   "source": [
    "foo_foo <- hop(foo_foo, through = forest)\n",
    "foo_foo <- scoop(foo_foo, up = field_mice)\n",
    "foo_foo <- bop(foo_foo, on = head)"
   ]
  },
  {
   "cell_type": "raw",
   "metadata": {},
   "source": [
    "This is less typing (and less thinking), so you’re less likely to make mistakes. However, there are two problems:\n",
    "\n",
    "1.  Debugging is painful: if you make a mistake you’ll need to re-run the complete pipeline from the beginning.\n",
    "\n",
    "2.  The repetition of the object being transformed (we’ve written foo_foo six times!) obscures what’s changing on each line."
   ]
  },
  {
   "cell_type": "raw",
   "metadata": {},
   "source": [
    "18.2.3 Function composition"
   ]
  },
  {
   "cell_type": "raw",
   "metadata": {},
   "source": [
    "Another approach is to abandon assignment and just string the function calls together:"
   ]
  },
  {
   "cell_type": "code",
   "execution_count": null,
   "metadata": {},
   "outputs": [],
   "source": [
    "bop(\n",
    "  scoop(\n",
    "    hop(foo_foo, through = forest),\n",
    "    up = field_mice\n",
    "  ), \n",
    "  on = head\n",
    ")\n"
   ]
  },
  {
   "cell_type": "raw",
   "metadata": {},
   "source": [
    "Here the disadvantage is that you have to read from inside-out, from right-to-left, and that the arguments end up spread far apart (evocatively called the dagwood sandwhich problem). In short, this code is hard for a human to consume."
   ]
  },
  {
   "cell_type": "raw",
   "metadata": {},
   "source": [
    "18.2.4 Use the pipe"
   ]
  },
  {
   "cell_type": "raw",
   "metadata": {},
   "source": [
    "Finally, we can use the pipe:"
   ]
  },
  {
   "cell_type": "code",
   "execution_count": null,
   "metadata": {},
   "outputs": [],
   "source": [
    "foo_foo %>%\n",
    "  hop(through = forest) %>%\n",
    "  scoop(up = field_mice) %>%\n",
    "  bop(on = head)"
   ]
  },
  {
   "cell_type": "raw",
   "metadata": {},
   "source": [
    "NN\n",
    "“lexical transformation”\n",
    "*******\n",
    "\n",
    "This is my favourite form, because it focusses on verbs, not nouns. You can read this series of function compositions like it’s a set of imperative actions. Foo Foo hops, then scoops, then bops. The downside, of course, is that you need to be familiar with the pipe. If you’ve never seen %>% before, you’ll have no idea what this code does. Fortunately, most people pick up the idea very quickly, so when you share your code with others who aren’t familiar with the pipe, you can easily teach them.\n",
    "\n",
    "The pipe works by performing a “lexical transformation”: behind the scenes, magrittr reassembles the code in the pipe to a form that works by overwriting an intermediate object. When you run a pipe like the one above, magrittr does something like this:"
   ]
  },
  {
   "cell_type": "code",
   "execution_count": 9,
   "metadata": {},
   "outputs": [
    {
     "ename": "ERROR",
     "evalue": "Error in hop(., through = forest): could not find function \"hop\"\n",
     "output_type": "error",
     "traceback": [
      "Error in hop(., through = forest): could not find function \"hop\"\nTraceback:\n",
      "1. my_pipe(foo_foo)"
     ]
    }
   ],
   "source": [
    "my_pipe <- function(.) {\n",
    "  . <- hop(., through = forest)\n",
    "  . <- scoop(., up = field_mice)\n",
    "  bop(., on = head)\n",
    "}\n",
    "my_pipe(foo_foo)"
   ]
  },
  {
   "cell_type": "raw",
   "metadata": {},
   "source": [
    "NN\n",
    "assign()\n",
    "get()\n",
    "load()\n",
    "*****\n",
    "\n",
    "This means that the pipe won’t work for two classes of functions:\n",
    "\n",
    "1.  Functions that use the current environment. For example, assign() will create a new variable with the given name in the current environment:"
   ]
  },
  {
   "cell_type": "code",
   "execution_count": 11,
   "metadata": {},
   "outputs": [
    {
     "data": {
      "text/html": [
       "10"
      ],
      "text/latex": [
       "10"
      ],
      "text/markdown": [
       "10"
      ],
      "text/plain": [
       "[1] 10"
      ]
     },
     "metadata": {},
     "output_type": "display_data"
    },
    {
     "data": {
      "text/html": [
       "10"
      ],
      "text/latex": [
       "10"
      ],
      "text/markdown": [
       "10"
      ],
      "text/plain": [
       "[1] 10"
      ]
     },
     "metadata": {},
     "output_type": "display_data"
    }
   ],
   "source": [
    "assign(\"x\", 10)\n",
    "x\n",
    "\n",
    "\"x\" %>% assign(100)\n",
    "x"
   ]
  },
  {
   "cell_type": "raw",
   "metadata": {},
   "source": [
    "The use of assign with the pipe does not work because it assigns it to a temporary environment used by %>%. If you do want to use assign with the pipe, you must be explicit about the environment:"
   ]
  },
  {
   "cell_type": "code",
   "execution_count": 12,
   "metadata": {},
   "outputs": [
    {
     "data": {
      "text/html": [
       "100"
      ],
      "text/latex": [
       "100"
      ],
      "text/markdown": [
       "100"
      ],
      "text/plain": [
       "[1] 100"
      ]
     },
     "metadata": {},
     "output_type": "display_data"
    }
   ],
   "source": [
    "env <- environment()\n",
    "\"x\" %>% assign(100, envir = env)\n",
    "x"
   ]
  },
  {
   "cell_type": "raw",
   "metadata": {},
   "source": [
    "Other functions with this problem include get() and load()."
   ]
  },
  {
   "cell_type": "raw",
   "metadata": {},
   "source": [
    "NN\n",
    "tryCatch()\n",
    "try()\n",
    "suppressMessages()\n",
    "suppressWarnings()\n",
    "******\n",
    "\n",
    "2. Functions that use lazy evaluation. In R, function arguments are only computed when the function uses them, not prior to calling the function. The pipe computes each element in turn, so you can’t rely on this behaviour.\n",
    "\n",
    "One place that this is a problem is tryCatch(), which lets you capture and handle errors:"
   ]
  },
  {
   "cell_type": "code",
   "execution_count": 13,
   "metadata": {},
   "outputs": [
    {
     "data": {
      "text/html": [
       "'An error'"
      ],
      "text/latex": [
       "'An error'"
      ],
      "text/markdown": [
       "'An error'"
      ],
      "text/plain": [
       "[1] \"An error\""
      ]
     },
     "metadata": {},
     "output_type": "display_data"
    },
    {
     "ename": "ERROR",
     "evalue": "Error in eval(lhs, parent, parent): !\n",
     "output_type": "error",
     "traceback": [
      "Error in eval(lhs, parent, parent): !\nTraceback:\n",
      "1. stop(\"!\") %>% tryCatch(error = function(e) \"An error\")",
      "2. eval(lhs, parent, parent)",
      "3. eval(lhs, parent, parent)",
      "4. stop(\"!\")"
     ]
    }
   ],
   "source": [
    "tryCatch(stop(\"!\"), error = function(e) \"An error\")\n",
    "\n",
    "stop(\"!\") %>% \n",
    "  tryCatch(error = function(e) \"An error\")"
   ]
  },
  {
   "cell_type": "raw",
   "metadata": {},
   "source": [
    "There are a relatively wide class of functions with this behaviour, including try(), suppressMessages(), and suppressWarnings() in base R."
   ]
  },
  {
   "cell_type": "raw",
   "metadata": {},
   "source": [
    "18.3 When not to use the pipe"
   ]
  },
  {
   "cell_type": "raw",
   "metadata": {},
   "source": [
    "NN\n",
    "intermediate objects when steps > 10\n",
    "2 or more primary objects\n",
    "pips are fundamentally linear\n",
    "directed graph w complex dependency structure: pipes --> confusion\n",
    "******\n",
    "\n",
    "The pipe is a powerful tool, but it’s not the only tool at your disposal, and it doesn’t solve every problem! Pipes are most useful for rewriting a fairly short linear sequence of operations. I think you should reach for another tool when:\n",
    "\n",
    "*   Your pipes are longer than (say) ten steps. In that case, create intermediate objects with meaningful names. That will make debugging easier, because you can more easily check the intermediate results, and it makes it easier to understand your code, because the variable names can help communicate intent.\n",
    "\n",
    "*   You have multiple inputs or outputs. If there isn’t one primary object being transformed, but two or more objects being combined together, don’t use the pipe.\n",
    "\n",
    "*   You are starting to think about a directed graph with a complex dependency structure. Pipes are fundamentally linear and expressing complex relationships with them will typically yield confusing code."
   ]
  },
  {
   "cell_type": "raw",
   "metadata": {},
   "source": [
    "18.4 Other tools from magrittr"
   ]
  },
  {
   "cell_type": "raw",
   "metadata": {},
   "source": [
    "NN\n",
    "%T>% \n",
    "*******\n",
    "\n",
    "\n",
    "All packages in the tidyverse automatically make %>% available for you, so you don’t normally load magrittr explicitly. However, there are some other useful tools inside magrittr that you might want to try out:\n",
    "\n",
    "*   When working with more complex pipes, it’s sometimes useful to call a function for its side-effects. Maybe you want to print out the current object, or plot it, or save it to disk. Many times, such functions don’t return anything, effectively terminating the pipe.\n",
    "\n",
    "    To work around this problem, you can use the “tee” pipe. %T>% works like %>% except that it returns the left-hand side instead of the right-hand side. It’s called “tee” because it’s like a literal T-shaped pipe.\n",
    "    \n",
    "[plot() here is shown terminating the %>% pipe but not the %T>% pipe"
   ]
  },
  {
   "cell_type": "code",
   "execution_count": 15,
   "metadata": {},
   "outputs": [
    {
     "data": {
      "text/html": [
       "<ol class=list-inline>\n",
       "\t<li>-0.458156050943712</li>\n",
       "\t<li>-1.19957517639967</li>\n",
       "\t<li>-0.36744247595987</li>\n",
       "\t<li>0.721963556579182</li>\n",
       "\t<li>-0.650070355219109</li>\n",
       "\t<li>0.198077386382208</li>\n",
       "\t<li>-0.215244694115641</li>\n",
       "\t<li>-1.57503452742078</li>\n",
       "\t<li>0.409722386748001</li>\n",
       "\t<li>-0.115955459499524</li>\n",
       "\t<li>-0.722586875648904</li>\n",
       "\t<li>0.592202639597567</li>\n",
       "\t<li>-0.643863516323896</li>\n",
       "\t<li>0.340270339717786</li>\n",
       "\t<li>0.0874179613225091</li>\n",
       "\t<li>-0.910841864680617</li>\n",
       "\t<li>0.47295201764039</li>\n",
       "\t<li>1.62053185175162</li>\n",
       "\t<li>0.483956044694553</li>\n",
       "\t<li>2.10370719729816</li>\n",
       "\t<li>-0.731504284956835</li>\n",
       "\t<li>-1.34323890763962</li>\n",
       "\t<li>0.751500330613314</li>\n",
       "\t<li>-0.380573070728707</li>\n",
       "\t<li>0.206364000123432</li>\n",
       "\t<li>1.50167633641958</li>\n",
       "\t<li>0.824813742823805</li>\n",
       "\t<li>-0.164819630996353</li>\n",
       "\t<li>0.237529784656463</li>\n",
       "\t<li>-0.0566538349253356</li>\n",
       "\t<li>1.39402759636467</li>\n",
       "\t<li>-0.588805590845166</li>\n",
       "\t<li>-1.44285563033638</li>\n",
       "\t<li>0.443586212861289</li>\n",
       "\t<li>0.948182969820254</li>\n",
       "\t<li>0.614071829830367</li>\n",
       "\t<li>0.425693615745062</li>\n",
       "\t<li>0.121282974927087</li>\n",
       "\t<li>0.549553092831308</li>\n",
       "\t<li>1.36002641376545</li>\n",
       "\t<li>-0.180930869598528</li>\n",
       "\t<li>1.03309717668125</li>\n",
       "\t<li>0.401237371725556</li>\n",
       "\t<li>2.96708521319162</li>\n",
       "\t<li>-0.15273098522023</li>\n",
       "\t<li>-0.802414220449715</li>\n",
       "\t<li>-0.53215569830321</li>\n",
       "\t<li>-1.81478590820532</li>\n",
       "\t<li>0.679437661432852</li>\n",
       "\t<li>0.191337742447828</li>\n",
       "\t<li>0.21645610439401</li>\n",
       "\t<li>1.42945113463294</li>\n",
       "\t<li>-0.466589034700287</li>\n",
       "\t<li>-1.46254827867155</li>\n",
       "\t<li>0.780632689823225</li>\n",
       "\t<li>1.76691152513989</li>\n",
       "\t<li>0.800661606620931</li>\n",
       "\t<li>-0.247554584215989</li>\n",
       "\t<li>-0.298859974459421</li>\n",
       "\t<li>0.42927777817117</li>\n",
       "\t<li>0.370447361970303</li>\n",
       "\t<li>-0.944303636482141</li>\n",
       "\t<li>-0.0701518872336106</li>\n",
       "\t<li>0.28282553450185</li>\n",
       "\t<li>-0.286505190868386</li>\n",
       "\t<li>0.401625429740541</li>\n",
       "\t<li>-0.210266776636745</li>\n",
       "\t<li>0.50955676626978</li>\n",
       "\t<li>-1.42135864184553</li>\n",
       "\t<li>0.368152103593122</li>\n",
       "\t<li>0.223268793834117</li>\n",
       "\t<li>-0.0922047979918809</li>\n",
       "\t<li>-0.660715852727829</li>\n",
       "\t<li>-2.28408799543942</li>\n",
       "\t<li>-0.579892399283781</li>\n",
       "\t<li>0.091539667002811</li>\n",
       "\t<li>2.54930055257962</li>\n",
       "\t<li>-0.567709940972315</li>\n",
       "\t<li>-0.277950740667608</li>\n",
       "\t<li>0.36872006415566</li>\n",
       "\t<li>-0.294247140097483</li>\n",
       "\t<li>-0.83811583791672</li>\n",
       "\t<li>0.0965289843683386</li>\n",
       "\t<li>-0.787091015315829</li>\n",
       "\t<li>-0.325123712928633</li>\n",
       "\t<li>-0.199287312586789</li>\n",
       "\t<li>2.69384945415052</li>\n",
       "\t<li>-0.664568225816475</li>\n",
       "\t<li>0.412852578606241</li>\n",
       "\t<li>-1.45053592649578</li>\n",
       "\t<li>0.962865021876827</li>\n",
       "\t<li>-1.0474327661745</li>\n",
       "\t<li>1.98365656145397</li>\n",
       "\t<li>-1.46418499741082</li>\n",
       "\t<li>1.22824368826504</li>\n",
       "\t<li>0.182081763988311</li>\n",
       "\t<li>-1.72122339996247</li>\n",
       "\t<li>-0.867188918018545</li>\n",
       "\t<li>0.741828753388196</li>\n",
       "\t<li>0.335723055798395</li>\n",
       "</ol>\n"
      ],
      "text/latex": [
       "\\begin{enumerate*}\n",
       "\\item -0.458156050943712\n",
       "\\item -1.19957517639967\n",
       "\\item -0.36744247595987\n",
       "\\item 0.721963556579182\n",
       "\\item -0.650070355219109\n",
       "\\item 0.198077386382208\n",
       "\\item -0.215244694115641\n",
       "\\item -1.57503452742078\n",
       "\\item 0.409722386748001\n",
       "\\item -0.115955459499524\n",
       "\\item -0.722586875648904\n",
       "\\item 0.592202639597567\n",
       "\\item -0.643863516323896\n",
       "\\item 0.340270339717786\n",
       "\\item 0.0874179613225091\n",
       "\\item -0.910841864680617\n",
       "\\item 0.47295201764039\n",
       "\\item 1.62053185175162\n",
       "\\item 0.483956044694553\n",
       "\\item 2.10370719729816\n",
       "\\item -0.731504284956835\n",
       "\\item -1.34323890763962\n",
       "\\item 0.751500330613314\n",
       "\\item -0.380573070728707\n",
       "\\item 0.206364000123432\n",
       "\\item 1.50167633641958\n",
       "\\item 0.824813742823805\n",
       "\\item -0.164819630996353\n",
       "\\item 0.237529784656463\n",
       "\\item -0.0566538349253356\n",
       "\\item 1.39402759636467\n",
       "\\item -0.588805590845166\n",
       "\\item -1.44285563033638\n",
       "\\item 0.443586212861289\n",
       "\\item 0.948182969820254\n",
       "\\item 0.614071829830367\n",
       "\\item 0.425693615745062\n",
       "\\item 0.121282974927087\n",
       "\\item 0.549553092831308\n",
       "\\item 1.36002641376545\n",
       "\\item -0.180930869598528\n",
       "\\item 1.03309717668125\n",
       "\\item 0.401237371725556\n",
       "\\item 2.96708521319162\n",
       "\\item -0.15273098522023\n",
       "\\item -0.802414220449715\n",
       "\\item -0.53215569830321\n",
       "\\item -1.81478590820532\n",
       "\\item 0.679437661432852\n",
       "\\item 0.191337742447828\n",
       "\\item 0.21645610439401\n",
       "\\item 1.42945113463294\n",
       "\\item -0.466589034700287\n",
       "\\item -1.46254827867155\n",
       "\\item 0.780632689823225\n",
       "\\item 1.76691152513989\n",
       "\\item 0.800661606620931\n",
       "\\item -0.247554584215989\n",
       "\\item -0.298859974459421\n",
       "\\item 0.42927777817117\n",
       "\\item 0.370447361970303\n",
       "\\item -0.944303636482141\n",
       "\\item -0.0701518872336106\n",
       "\\item 0.28282553450185\n",
       "\\item -0.286505190868386\n",
       "\\item 0.401625429740541\n",
       "\\item -0.210266776636745\n",
       "\\item 0.50955676626978\n",
       "\\item -1.42135864184553\n",
       "\\item 0.368152103593122\n",
       "\\item 0.223268793834117\n",
       "\\item -0.0922047979918809\n",
       "\\item -0.660715852727829\n",
       "\\item -2.28408799543942\n",
       "\\item -0.579892399283781\n",
       "\\item 0.091539667002811\n",
       "\\item 2.54930055257962\n",
       "\\item -0.567709940972315\n",
       "\\item -0.277950740667608\n",
       "\\item 0.36872006415566\n",
       "\\item -0.294247140097483\n",
       "\\item -0.83811583791672\n",
       "\\item 0.0965289843683386\n",
       "\\item -0.787091015315829\n",
       "\\item -0.325123712928633\n",
       "\\item -0.199287312586789\n",
       "\\item 2.69384945415052\n",
       "\\item -0.664568225816475\n",
       "\\item 0.412852578606241\n",
       "\\item -1.45053592649578\n",
       "\\item 0.962865021876827\n",
       "\\item -1.0474327661745\n",
       "\\item 1.98365656145397\n",
       "\\item -1.46418499741082\n",
       "\\item 1.22824368826504\n",
       "\\item 0.182081763988311\n",
       "\\item -1.72122339996247\n",
       "\\item -0.867188918018545\n",
       "\\item 0.741828753388196\n",
       "\\item 0.335723055798395\n",
       "\\end{enumerate*}\n"
      ],
      "text/markdown": [
       "1. -0.458156050943712\n",
       "2. -1.19957517639967\n",
       "3. -0.36744247595987\n",
       "4. 0.721963556579182\n",
       "5. -0.650070355219109\n",
       "6. 0.198077386382208\n",
       "7. -0.215244694115641\n",
       "8. -1.57503452742078\n",
       "9. 0.409722386748001\n",
       "10. -0.115955459499524\n",
       "11. -0.722586875648904\n",
       "12. 0.592202639597567\n",
       "13. -0.643863516323896\n",
       "14. 0.340270339717786\n",
       "15. 0.0874179613225091\n",
       "16. -0.910841864680617\n",
       "17. 0.47295201764039\n",
       "18. 1.62053185175162\n",
       "19. 0.483956044694553\n",
       "20. 2.10370719729816\n",
       "21. -0.731504284956835\n",
       "22. -1.34323890763962\n",
       "23. 0.751500330613314\n",
       "24. -0.380573070728707\n",
       "25. 0.206364000123432\n",
       "26. 1.50167633641958\n",
       "27. 0.824813742823805\n",
       "28. -0.164819630996353\n",
       "29. 0.237529784656463\n",
       "30. -0.0566538349253356\n",
       "31. 1.39402759636467\n",
       "32. -0.588805590845166\n",
       "33. -1.44285563033638\n",
       "34. 0.443586212861289\n",
       "35. 0.948182969820254\n",
       "36. 0.614071829830367\n",
       "37. 0.425693615745062\n",
       "38. 0.121282974927087\n",
       "39. 0.549553092831308\n",
       "40. 1.36002641376545\n",
       "41. -0.180930869598528\n",
       "42. 1.03309717668125\n",
       "43. 0.401237371725556\n",
       "44. 2.96708521319162\n",
       "45. -0.15273098522023\n",
       "46. -0.802414220449715\n",
       "47. -0.53215569830321\n",
       "48. -1.81478590820532\n",
       "49. 0.679437661432852\n",
       "50. 0.191337742447828\n",
       "51. 0.21645610439401\n",
       "52. 1.42945113463294\n",
       "53. -0.466589034700287\n",
       "54. -1.46254827867155\n",
       "55. 0.780632689823225\n",
       "56. 1.76691152513989\n",
       "57. 0.800661606620931\n",
       "58. -0.247554584215989\n",
       "59. -0.298859974459421\n",
       "60. 0.42927777817117\n",
       "61. 0.370447361970303\n",
       "62. -0.944303636482141\n",
       "63. -0.0701518872336106\n",
       "64. 0.28282553450185\n",
       "65. -0.286505190868386\n",
       "66. 0.401625429740541\n",
       "67. -0.210266776636745\n",
       "68. 0.50955676626978\n",
       "69. -1.42135864184553\n",
       "70. 0.368152103593122\n",
       "71. 0.223268793834117\n",
       "72. -0.0922047979918809\n",
       "73. -0.660715852727829\n",
       "74. -2.28408799543942\n",
       "75. -0.579892399283781\n",
       "76. 0.091539667002811\n",
       "77. 2.54930055257962\n",
       "78. -0.567709940972315\n",
       "79. -0.277950740667608\n",
       "80. 0.36872006415566\n",
       "81. -0.294247140097483\n",
       "82. -0.83811583791672\n",
       "83. 0.0965289843683386\n",
       "84. -0.787091015315829\n",
       "85. -0.325123712928633\n",
       "86. -0.199287312586789\n",
       "87. 2.69384945415052\n",
       "88. -0.664568225816475\n",
       "89. 0.412852578606241\n",
       "90. -1.45053592649578\n",
       "91. 0.962865021876827\n",
       "92. -1.0474327661745\n",
       "93. 1.98365656145397\n",
       "94. -1.46418499741082\n",
       "95. 1.22824368826504\n",
       "96. 0.182081763988311\n",
       "97. -1.72122339996247\n",
       "98. -0.867188918018545\n",
       "99. 0.741828753388196\n",
       "100. 0.335723055798395\n",
       "\n",
       "\n"
      ],
      "text/plain": [
       "  [1] -0.45815605 -1.19957518 -0.36744248  0.72196356 -0.65007036  0.19807739\n",
       "  [7] -0.21524469 -1.57503453  0.40972239 -0.11595546 -0.72258688  0.59220264\n",
       " [13] -0.64386352  0.34027034  0.08741796 -0.91084186  0.47295202  1.62053185\n",
       " [19]  0.48395604  2.10370720 -0.73150428 -1.34323891  0.75150033 -0.38057307\n",
       " [25]  0.20636400  1.50167634  0.82481374 -0.16481963  0.23752978 -0.05665383\n",
       " [31]  1.39402760 -0.58880559 -1.44285563  0.44358621  0.94818297  0.61407183\n",
       " [37]  0.42569362  0.12128297  0.54955309  1.36002641 -0.18093087  1.03309718\n",
       " [43]  0.40123737  2.96708521 -0.15273099 -0.80241422 -0.53215570 -1.81478591\n",
       " [49]  0.67943766  0.19133774  0.21645610  1.42945113 -0.46658903 -1.46254828\n",
       " [55]  0.78063269  1.76691153  0.80066161 -0.24755458 -0.29885997  0.42927778\n",
       " [61]  0.37044736 -0.94430364 -0.07015189  0.28282553 -0.28650519  0.40162543\n",
       " [67] -0.21026678  0.50955677 -1.42135864  0.36815210  0.22326879 -0.09220480\n",
       " [73] -0.66071585 -2.28408800 -0.57989240  0.09153967  2.54930055 -0.56770994\n",
       " [79] -0.27795074  0.36872006 -0.29424714 -0.83811584  0.09652898 -0.78709102\n",
       " [85] -0.32512371 -0.19928731  2.69384945 -0.66456823  0.41285258 -1.45053593\n",
       " [91]  0.96286502 -1.04743277  1.98365656 -1.46418500  1.22824369  0.18208176\n",
       " [97] -1.72122340 -0.86718892  0.74182875  0.33572306"
      ]
     },
     "metadata": {},
     "output_type": "display_data"
    }
   ],
   "source": [
    "rnorm(100)"
   ]
  },
  {
   "cell_type": "code",
   "execution_count": 16,
   "metadata": {},
   "outputs": [
    {
     "data": {
      "text/html": [
       "<table>\n",
       "<tbody>\n",
       "\t<tr><td> 0.41039274</td><td>-0.07317980</td></tr>\n",
       "\t<tr><td>-0.19356736</td><td>-1.77221339</td></tr>\n",
       "\t<tr><td> 0.50121203</td><td>-0.31644033</td></tr>\n",
       "\t<tr><td> 0.25552500</td><td> 0.81904454</td></tr>\n",
       "\t<tr><td> 0.84639267</td><td> 0.31172803</td></tr>\n",
       "\t<tr><td>-0.54697172</td><td> 0.82272380</td></tr>\n",
       "\t<tr><td>-0.98921467</td><td>-1.14471082</td></tr>\n",
       "\t<tr><td>-0.31176877</td><td>-0.59183313</td></tr>\n",
       "\t<tr><td> 0.71812636</td><td> 1.11101317</td></tr>\n",
       "\t<tr><td>-0.91839373</td><td> 0.14114939</td></tr>\n",
       "\t<tr><td>-0.37665074</td><td>-1.52603175</td></tr>\n",
       "\t<tr><td> 0.04037647</td><td> 0.03119735</td></tr>\n",
       "\t<tr><td> 0.17047453</td><td> 0.42654976</td></tr>\n",
       "\t<tr><td>-1.93766294</td><td>-0.33449493</td></tr>\n",
       "\t<tr><td>-0.84390960</td><td>-0.03043810</td></tr>\n",
       "\t<tr><td> 0.25908507</td><td> 0.01797801</td></tr>\n",
       "\t<tr><td> 0.68599873</td><td> 0.89935702</td></tr>\n",
       "\t<tr><td> 1.78600645</td><td> 0.78246079</td></tr>\n",
       "\t<tr><td>-1.16444282</td><td> 0.37557624</td></tr>\n",
       "\t<tr><td> 0.77378762</td><td>-1.18269203</td></tr>\n",
       "\t<tr><td>-0.16535972</td><td> 0.16969247</td></tr>\n",
       "\t<tr><td> 0.90703975</td><td>-1.61544559</td></tr>\n",
       "\t<tr><td>-0.95432980</td><td>-0.72415276</td></tr>\n",
       "\t<tr><td>-1.44803216</td><td>-0.03211472</td></tr>\n",
       "\t<tr><td> 0.55348098</td><td>-0.17782405</td></tr>\n",
       "\t<tr><td>-0.48656587</td><td>-0.90551978</td></tr>\n",
       "\t<tr><td>-0.34428072</td><td> 0.54400751</td></tr>\n",
       "\t<tr><td> 0.12325052</td><td> 0.28372140</td></tr>\n",
       "\t<tr><td>-1.01510639</td><td> 0.46890496</td></tr>\n",
       "\t<tr><td>-0.48701380</td><td> 2.11642796</td></tr>\n",
       "\t<tr><td>-1.38163407</td><td>-1.45952875</td></tr>\n",
       "\t<tr><td>-0.20230569</td><td>-0.56331132</td></tr>\n",
       "\t<tr><td>-0.24350429</td><td> 1.49473262</td></tr>\n",
       "\t<tr><td> 0.37305143</td><td>-1.29932423</td></tr>\n",
       "\t<tr><td> 0.63393928</td><td> 0.88814290</td></tr>\n",
       "\t<tr><td>-1.54183328</td><td> 1.43191309</td></tr>\n",
       "\t<tr><td> 0.77686373</td><td> 1.03444769</td></tr>\n",
       "\t<tr><td>-1.24877468</td><td>-0.35514024</td></tr>\n",
       "\t<tr><td>-0.13968827</td><td> 1.59595107</td></tr>\n",
       "\t<tr><td>-0.62320047</td><td>-1.04638220</td></tr>\n",
       "\t<tr><td> 0.57738752</td><td> 0.02258488</td></tr>\n",
       "\t<tr><td> 0.90864017</td><td> 2.64543105</td></tr>\n",
       "\t<tr><td>-0.89153499</td><td>-1.37506496</td></tr>\n",
       "\t<tr><td> 1.44657334</td><td> 0.88883590</td></tr>\n",
       "\t<tr><td>-0.31157452</td><td>-1.17783713</td></tr>\n",
       "\t<tr><td>-0.88331756</td><td> 0.24429067</td></tr>\n",
       "\t<tr><td>-0.09153434</td><td> 1.92133778</td></tr>\n",
       "\t<tr><td>-1.15617749</td><td>-0.81897387</td></tr>\n",
       "\t<tr><td> 1.57948185</td><td>-0.35994234</td></tr>\n",
       "\t<tr><td>-0.60297821</td><td>-0.87367317</td></tr>\n",
       "</tbody>\n",
       "</table>\n"
      ],
      "text/latex": [
       "\\begin{tabular}{ll}\n",
       "\t  0.41039274 & -0.07317980\\\\\n",
       "\t -0.19356736 & -1.77221339\\\\\n",
       "\t  0.50121203 & -0.31644033\\\\\n",
       "\t  0.25552500 &  0.81904454\\\\\n",
       "\t  0.84639267 &  0.31172803\\\\\n",
       "\t -0.54697172 &  0.82272380\\\\\n",
       "\t -0.98921467 & -1.14471082\\\\\n",
       "\t -0.31176877 & -0.59183313\\\\\n",
       "\t  0.71812636 &  1.11101317\\\\\n",
       "\t -0.91839373 &  0.14114939\\\\\n",
       "\t -0.37665074 & -1.52603175\\\\\n",
       "\t  0.04037647 &  0.03119735\\\\\n",
       "\t  0.17047453 &  0.42654976\\\\\n",
       "\t -1.93766294 & -0.33449493\\\\\n",
       "\t -0.84390960 & -0.03043810\\\\\n",
       "\t  0.25908507 &  0.01797801\\\\\n",
       "\t  0.68599873 &  0.89935702\\\\\n",
       "\t  1.78600645 &  0.78246079\\\\\n",
       "\t -1.16444282 &  0.37557624\\\\\n",
       "\t  0.77378762 & -1.18269203\\\\\n",
       "\t -0.16535972 &  0.16969247\\\\\n",
       "\t  0.90703975 & -1.61544559\\\\\n",
       "\t -0.95432980 & -0.72415276\\\\\n",
       "\t -1.44803216 & -0.03211472\\\\\n",
       "\t  0.55348098 & -0.17782405\\\\\n",
       "\t -0.48656587 & -0.90551978\\\\\n",
       "\t -0.34428072 &  0.54400751\\\\\n",
       "\t  0.12325052 &  0.28372140\\\\\n",
       "\t -1.01510639 &  0.46890496\\\\\n",
       "\t -0.48701380 &  2.11642796\\\\\n",
       "\t -1.38163407 & -1.45952875\\\\\n",
       "\t -0.20230569 & -0.56331132\\\\\n",
       "\t -0.24350429 &  1.49473262\\\\\n",
       "\t  0.37305143 & -1.29932423\\\\\n",
       "\t  0.63393928 &  0.88814290\\\\\n",
       "\t -1.54183328 &  1.43191309\\\\\n",
       "\t  0.77686373 &  1.03444769\\\\\n",
       "\t -1.24877468 & -0.35514024\\\\\n",
       "\t -0.13968827 &  1.59595107\\\\\n",
       "\t -0.62320047 & -1.04638220\\\\\n",
       "\t  0.57738752 &  0.02258488\\\\\n",
       "\t  0.90864017 &  2.64543105\\\\\n",
       "\t -0.89153499 & -1.37506496\\\\\n",
       "\t  1.44657334 &  0.88883590\\\\\n",
       "\t -0.31157452 & -1.17783713\\\\\n",
       "\t -0.88331756 &  0.24429067\\\\\n",
       "\t -0.09153434 &  1.92133778\\\\\n",
       "\t -1.15617749 & -0.81897387\\\\\n",
       "\t  1.57948185 & -0.35994234\\\\\n",
       "\t -0.60297821 & -0.87367317\\\\\n",
       "\\end{tabular}\n"
      ],
      "text/markdown": [
       "\n",
       "|  0.41039274 | -0.07317980 |\n",
       "| -0.19356736 | -1.77221339 |\n",
       "|  0.50121203 | -0.31644033 |\n",
       "|  0.25552500 |  0.81904454 |\n",
       "|  0.84639267 |  0.31172803 |\n",
       "| -0.54697172 |  0.82272380 |\n",
       "| -0.98921467 | -1.14471082 |\n",
       "| -0.31176877 | -0.59183313 |\n",
       "|  0.71812636 |  1.11101317 |\n",
       "| -0.91839373 |  0.14114939 |\n",
       "| -0.37665074 | -1.52603175 |\n",
       "|  0.04037647 |  0.03119735 |\n",
       "|  0.17047453 |  0.42654976 |\n",
       "| -1.93766294 | -0.33449493 |\n",
       "| -0.84390960 | -0.03043810 |\n",
       "|  0.25908507 |  0.01797801 |\n",
       "|  0.68599873 |  0.89935702 |\n",
       "|  1.78600645 |  0.78246079 |\n",
       "| -1.16444282 |  0.37557624 |\n",
       "|  0.77378762 | -1.18269203 |\n",
       "| -0.16535972 |  0.16969247 |\n",
       "|  0.90703975 | -1.61544559 |\n",
       "| -0.95432980 | -0.72415276 |\n",
       "| -1.44803216 | -0.03211472 |\n",
       "|  0.55348098 | -0.17782405 |\n",
       "| -0.48656587 | -0.90551978 |\n",
       "| -0.34428072 |  0.54400751 |\n",
       "|  0.12325052 |  0.28372140 |\n",
       "| -1.01510639 |  0.46890496 |\n",
       "| -0.48701380 |  2.11642796 |\n",
       "| -1.38163407 | -1.45952875 |\n",
       "| -0.20230569 | -0.56331132 |\n",
       "| -0.24350429 |  1.49473262 |\n",
       "|  0.37305143 | -1.29932423 |\n",
       "|  0.63393928 |  0.88814290 |\n",
       "| -1.54183328 |  1.43191309 |\n",
       "|  0.77686373 |  1.03444769 |\n",
       "| -1.24877468 | -0.35514024 |\n",
       "| -0.13968827 |  1.59595107 |\n",
       "| -0.62320047 | -1.04638220 |\n",
       "|  0.57738752 |  0.02258488 |\n",
       "|  0.90864017 |  2.64543105 |\n",
       "| -0.89153499 | -1.37506496 |\n",
       "|  1.44657334 |  0.88883590 |\n",
       "| -0.31157452 | -1.17783713 |\n",
       "| -0.88331756 |  0.24429067 |\n",
       "| -0.09153434 |  1.92133778 |\n",
       "| -1.15617749 | -0.81897387 |\n",
       "|  1.57948185 | -0.35994234 |\n",
       "| -0.60297821 | -0.87367317 |\n",
       "\n"
      ],
      "text/plain": [
       "      [,1]        [,2]       \n",
       " [1,]  0.41039274 -0.07317980\n",
       " [2,] -0.19356736 -1.77221339\n",
       " [3,]  0.50121203 -0.31644033\n",
       " [4,]  0.25552500  0.81904454\n",
       " [5,]  0.84639267  0.31172803\n",
       " [6,] -0.54697172  0.82272380\n",
       " [7,] -0.98921467 -1.14471082\n",
       " [8,] -0.31176877 -0.59183313\n",
       " [9,]  0.71812636  1.11101317\n",
       "[10,] -0.91839373  0.14114939\n",
       "[11,] -0.37665074 -1.52603175\n",
       "[12,]  0.04037647  0.03119735\n",
       "[13,]  0.17047453  0.42654976\n",
       "[14,] -1.93766294 -0.33449493\n",
       "[15,] -0.84390960 -0.03043810\n",
       "[16,]  0.25908507  0.01797801\n",
       "[17,]  0.68599873  0.89935702\n",
       "[18,]  1.78600645  0.78246079\n",
       "[19,] -1.16444282  0.37557624\n",
       "[20,]  0.77378762 -1.18269203\n",
       "[21,] -0.16535972  0.16969247\n",
       "[22,]  0.90703975 -1.61544559\n",
       "[23,] -0.95432980 -0.72415276\n",
       "[24,] -1.44803216 -0.03211472\n",
       "[25,]  0.55348098 -0.17782405\n",
       "[26,] -0.48656587 -0.90551978\n",
       "[27,] -0.34428072  0.54400751\n",
       "[28,]  0.12325052  0.28372140\n",
       "[29,] -1.01510639  0.46890496\n",
       "[30,] -0.48701380  2.11642796\n",
       "[31,] -1.38163407 -1.45952875\n",
       "[32,] -0.20230569 -0.56331132\n",
       "[33,] -0.24350429  1.49473262\n",
       "[34,]  0.37305143 -1.29932423\n",
       "[35,]  0.63393928  0.88814290\n",
       "[36,] -1.54183328  1.43191309\n",
       "[37,]  0.77686373  1.03444769\n",
       "[38,] -1.24877468 -0.35514024\n",
       "[39,] -0.13968827  1.59595107\n",
       "[40,] -0.62320047 -1.04638220\n",
       "[41,]  0.57738752  0.02258488\n",
       "[42,]  0.90864017  2.64543105\n",
       "[43,] -0.89153499 -1.37506496\n",
       "[44,]  1.44657334  0.88883590\n",
       "[45,] -0.31157452 -1.17783713\n",
       "[46,] -0.88331756  0.24429067\n",
       "[47,] -0.09153434  1.92133778\n",
       "[48,] -1.15617749 -0.81897387\n",
       "[49,]  1.57948185 -0.35994234\n",
       "[50,] -0.60297821 -0.87367317"
      ]
     },
     "metadata": {},
     "output_type": "display_data"
    }
   ],
   "source": [
    "rnorm(100) %>%\n",
    "  matrix(ncol = 2)"
   ]
  },
  {
   "cell_type": "raw",
   "metadata": {},
   "source": [
    "[the NULL belongs to the 1st 'str()' command and the 2nd \" num [1:50, 1:2] -0.0278 -0.2662 -0.621 0.4008 -0.6426 ...\" belongs to the 2nd 'str()' command."
   ]
  },
  {
   "cell_type": "code",
   "execution_count": 14,
   "metadata": {},
   "outputs": [
    {
     "name": "stdout",
     "output_type": "stream",
     "text": [
      " NULL\n"
     ]
    },
    {
     "data": {
      "image/png": "[encoded data removed]",
      "text/plain": [
       "plot without title"
      ]
     },
     "metadata": {},
     "output_type": "display_data"
    },
    {
     "name": "stdout",
     "output_type": "stream",
     "text": [
      " num [1:50, 1:2] -0.0278 -0.2662 -0.621 0.4008 -0.6426 ...\n"
     ]
    },
    {
     "data": {
      "image/png": "[encoded data removed]",
      "text/plain": [
       "plot without title"
      ]
     },
     "metadata": {},
     "output_type": "display_data"
    }
   ],
   "source": [
    "rnorm(100) %>%\n",
    "  matrix(ncol = 2) %>%\n",
    "  plot() %>%\n",
    "  str()\n",
    "\n",
    "rnorm(100) %>%\n",
    "  matrix(ncol = 2) %T>%\n",
    "  plot() %>%\n",
    "  str()"
   ]
  },
  {
   "cell_type": "raw",
   "metadata": {},
   "source": [
    "NN\n",
    "%$%   for vector needy functions\n",
    "%<>%  to save yourself the <-\n",
    "when not df object oriented API\n",
    "********\n",
    "\n",
    "*   If you’re working with functions that don’t have a data frame based API\n",
    "(i.e. you pass them individual vectors, not a data frame and expressions to be evaluated in the context of that data frame), you might find %$% useful. It “explodes” out the variables in a data frame so that you can refer to them explicitly. This is useful when working with many functions in base R:\n",
    "\n",
    "[so here cor() needs the vectors not the df]"
   ]
  },
  {
   "cell_type": "code",
   "execution_count": 19,
   "metadata": {},
   "outputs": [
    {
     "data": {
      "text/html": [
       "-0.847551379262479"
      ],
      "text/latex": [
       "-0.847551379262479"
      ],
      "text/markdown": [
       "-0.847551379262479"
      ],
      "text/plain": [
       "[1] -0.8475514"
      ]
     },
     "metadata": {},
     "output_type": "display_data"
    }
   ],
   "source": [
    "mtcars %$%\n",
    "  cor(disp, mpg)"
   ]
  },
  {
   "cell_type": "raw",
   "metadata": {},
   "source": [
    "For assignment magrittr provides the %<>% operator which allows you to replace code like:"
   ]
  },
  {
   "cell_type": "code",
   "execution_count": 20,
   "metadata": {},
   "outputs": [],
   "source": [
    "mtcars <- mtcars %>% \n",
    "  transform(cyl = cyl * 2)"
   ]
  },
  {
   "cell_type": "raw",
   "metadata": {},
   "source": [
    "with"
   ]
  },
  {
   "cell_type": "code",
   "execution_count": 21,
   "metadata": {},
   "outputs": [],
   "source": [
    "mtcars %<>% transform(cyl = cyl * 2)"
   ]
  },
  {
   "cell_type": "raw",
   "metadata": {},
   "source": [
    "I’m not a fan of this operator because I think assignment is such a special operation that it should always be clear when it’s occurring. In my opinion, a little bit of duplication (i.e. repeating the name of the object twice) is fine in return for making assignment more explicit."
   ]
  }
 ],
 "metadata": {
  "kernelspec": {
   "display_name": "R",
   "language": "R",
   "name": "ir"
  },
  "language_info": {
   "codemirror_mode": "r",
   "file_extension": ".r",
   "mimetype": "text/x-r-source",
   "name": "R",
   "pygments_lexer": "r",
   "version": "3.6.0"
  }
 },
 "nbformat": 4,
 "nbformat_minor": 2
}
