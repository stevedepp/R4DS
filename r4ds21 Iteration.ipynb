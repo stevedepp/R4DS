{
 "cells": [
  {
   "cell_type": "raw",
   "metadata": {},
   "source": [
    "21 Iteration"
   ]
  },
  {
   "cell_type": "raw",
   "metadata": {},
   "source": [
    "21.1 Introduction"
   ]
  },
  {
   "cell_type": "raw",
   "metadata": {},
   "source": [
    "In functions, we talked about how important it is to reduce duplication in your code by creating functions instead of copying-and-pasting. Reducing code duplication has three main benefits:\n",
    "\n",
    "1.    It’s easier to see the intent of your code, because your eyes are drawn to what’s different, not what stays the same.\n",
    "\n",
    "2.    It’s easier to respond to changes in requirements. As your needs change, you only need to make changes in one place, rather than remembering to change every place that you copied-and-pasted the code.\n",
    "\n",
    "3.    You’re likely to have fewer bugs because each line of code is used in more places.\n",
    "    \n",
    "One tool for reducing duplication is functions, which reduce duplication by identifying repeated patterns of code and extract them out into independent pieces that can be easily reused and updated. Another tool for reducing duplication is iteration, which helps you when you need to do the same thing to multiple inputs: repeating the same operation on different columns, or on different datasets. In this chapter you’ll learn about two important iteration paradigms: imperative programming and functional programming. On the imperative side you have tools like for loops and while loops, which are a great place to start because they make iteration very explicit, so it’s obvious what’s happening. However, for loops are quite verbose, and require quite a bit of bookkeeping code that is duplicated for every for loop. Functional programming (FP) offers tools to extract out this duplicated code, so each common for loop pattern gets its own function. Once you master the vocabulary of FP, you can solve many common iteration problems with less code, more ease, and fewer errors.\n",
    "\n",
    "\n",
    "NN\n",
    "repeated patterns in code\n",
    "independent pieces to be reused\n",
    "2 iteration pardigms\n",
    "    imperative programming\n",
    "        for loops\n",
    "        while loops\n",
    "        require bookkeeping code\n",
    "    functional programming"
   ]
  },
  {
   "cell_type": "raw",
   "metadata": {},
   "source": [
    "21.1.1 Prerequisites"
   ]
  },
  {
   "cell_type": "raw",
   "metadata": {},
   "source": [
    "Once you’ve mastered the for loops provided by base R, you’ll learn some of the powerful programming tools provided by purrr, one of the tidyverse core packages."
   ]
  },
  {
   "cell_type": "code",
   "execution_count": 1,
   "metadata": {},
   "outputs": [
    {
     "name": "stderr",
     "output_type": "stream",
     "text": [
      "Registered S3 methods overwritten by 'ggplot2':\n",
      "  method         from \n",
      "  [.quosures     rlang\n",
      "  c.quosures     rlang\n",
      "  print.quosures rlang\n",
      "Registered S3 method overwritten by 'rvest':\n",
      "  method            from\n",
      "  read_xml.response xml2\n",
      "── Attaching packages ─────────────────────────────────────── tidyverse 1.2.1 ──\n",
      "✔ ggplot2 3.1.1     ✔ purrr   0.3.2\n",
      "✔ tibble  2.1.1     ✔ dplyr   0.8.1\n",
      "✔ tidyr   0.8.3     ✔ stringr 1.4.0\n",
      "✔ readr   1.3.1     ✔ forcats 0.4.0\n",
      "── Conflicts ────────────────────────────────────────── tidyverse_conflicts() ──\n",
      "✖ dplyr::filter() masks stats::filter()\n",
      "✖ dplyr::lag()    masks stats::lag()\n"
     ]
    }
   ],
   "source": [
    "library(tidyverse)"
   ]
  },
  {
   "cell_type": "raw",
   "metadata": {},
   "source": [
    "21.2 For loops"
   ]
  },
  {
   "cell_type": "raw",
   "metadata": {},
   "source": [
    "Imagine we have this simple tibble:"
   ]
  },
  {
   "cell_type": "code",
   "execution_count": 2,
   "metadata": {},
   "outputs": [
    {
     "data": {
      "text/html": [
       "<ol class=list-inline>\n",
       "\t<li>1.31455127905285</li>\n",
       "\t<li>-0.592103665246212</li>\n",
       "</ol>\n"
      ],
      "text/latex": [
       "\\begin{enumerate*}\n",
       "\\item 1.31455127905285\n",
       "\\item -0.592103665246212\n",
       "\\end{enumerate*}\n"
      ],
      "text/markdown": [
       "1. 1.31455127905285\n",
       "2. -0.592103665246212\n",
       "\n",
       "\n"
      ],
      "text/plain": [
       "[1]  1.3145513 -0.5921037"
      ]
     },
     "metadata": {},
     "output_type": "display_data"
    }
   ],
   "source": [
    "a = rnorm(2)\n",
    "a"
   ]
  },
  {
   "cell_type": "code",
   "execution_count": 3,
   "metadata": {},
   "outputs": [
    {
     "data": {
      "text/html": [
       "<table>\n",
       "<thead><tr><th scope=col>a</th><th scope=col>b</th><th scope=col>c</th><th scope=col>d</th></tr></thead>\n",
       "<tbody>\n",
       "\t<tr><td>-0.7816989 </td><td> 0.9214213 </td><td> 1.97841853</td><td> 0.5412725 </td></tr>\n",
       "\t<tr><td> 0.4480275 </td><td>-0.1845544 </td><td>-0.55704765</td><td> 0.3833860 </td></tr>\n",
       "\t<tr><td>-1.6027979 </td><td> 0.3905496 </td><td>-1.07190124</td><td>-0.7122425 </td></tr>\n",
       "\t<tr><td> 1.7121638 </td><td> 2.1520426 </td><td> 1.54789251</td><td> 1.1147392 </td></tr>\n",
       "\t<tr><td> 0.4126358 </td><td>-0.2907011 </td><td>-0.39592135</td><td> 0.3404386 </td></tr>\n",
       "\t<tr><td> 0.4527419 </td><td>-0.3853694 </td><td> 0.07390508</td><td> 0.2777829 </td></tr>\n",
       "\t<tr><td>-0.5669043 </td><td>-0.6382094 </td><td> 1.41254326</td><td> 0.1248700 </td></tr>\n",
       "\t<tr><td> 1.3383811 </td><td> 1.2153443 </td><td>-1.20651582</td><td> 0.8483119 </td></tr>\n",
       "\t<tr><td> 0.8653405 </td><td> 1.0918863 </td><td> 0.03521022</td><td> 0.7643241 </td></tr>\n",
       "\t<tr><td> 0.9779263 </td><td> 0.1048041 </td><td> 1.81368407</td><td> 0.6333511 </td></tr>\n",
       "</tbody>\n",
       "</table>\n"
      ],
      "text/latex": [
       "\\begin{tabular}{r|llll}\n",
       " a & b & c & d\\\\\n",
       "\\hline\n",
       "\t -0.7816989  &  0.9214213  &  1.97841853 &  0.5412725 \\\\\n",
       "\t  0.4480275  & -0.1845544  & -0.55704765 &  0.3833860 \\\\\n",
       "\t -1.6027979  &  0.3905496  & -1.07190124 & -0.7122425 \\\\\n",
       "\t  1.7121638  &  2.1520426  &  1.54789251 &  1.1147392 \\\\\n",
       "\t  0.4126358  & -0.2907011  & -0.39592135 &  0.3404386 \\\\\n",
       "\t  0.4527419  & -0.3853694  &  0.07390508 &  0.2777829 \\\\\n",
       "\t -0.5669043  & -0.6382094  &  1.41254326 &  0.1248700 \\\\\n",
       "\t  1.3383811  &  1.2153443  & -1.20651582 &  0.8483119 \\\\\n",
       "\t  0.8653405  &  1.0918863  &  0.03521022 &  0.7643241 \\\\\n",
       "\t  0.9779263  &  0.1048041  &  1.81368407 &  0.6333511 \\\\\n",
       "\\end{tabular}\n"
      ],
      "text/markdown": [
       "\n",
       "| a | b | c | d |\n",
       "|---|---|---|---|\n",
       "| -0.7816989  |  0.9214213  |  1.97841853 |  0.5412725  |\n",
       "|  0.4480275  | -0.1845544  | -0.55704765 |  0.3833860  |\n",
       "| -1.6027979  |  0.3905496  | -1.07190124 | -0.7122425  |\n",
       "|  1.7121638  |  2.1520426  |  1.54789251 |  1.1147392  |\n",
       "|  0.4126358  | -0.2907011  | -0.39592135 |  0.3404386  |\n",
       "|  0.4527419  | -0.3853694  |  0.07390508 |  0.2777829  |\n",
       "| -0.5669043  | -0.6382094  |  1.41254326 |  0.1248700  |\n",
       "|  1.3383811  |  1.2153443  | -1.20651582 |  0.8483119  |\n",
       "|  0.8653405  |  1.0918863  |  0.03521022 |  0.7643241  |\n",
       "|  0.9779263  |  0.1048041  |  1.81368407 |  0.6333511  |\n",
       "\n"
      ],
      "text/plain": [
       "   a          b          c           d         \n",
       "1  -0.7816989  0.9214213  1.97841853  0.5412725\n",
       "2   0.4480275 -0.1845544 -0.55704765  0.3833860\n",
       "3  -1.6027979  0.3905496 -1.07190124 -0.7122425\n",
       "4   1.7121638  2.1520426  1.54789251  1.1147392\n",
       "5   0.4126358 -0.2907011 -0.39592135  0.3404386\n",
       "6   0.4527419 -0.3853694  0.07390508  0.2777829\n",
       "7  -0.5669043 -0.6382094  1.41254326  0.1248700\n",
       "8   1.3383811  1.2153443 -1.20651582  0.8483119\n",
       "9   0.8653405  1.0918863  0.03521022  0.7643241\n",
       "10  0.9779263  0.1048041  1.81368407  0.6333511"
      ]
     },
     "metadata": {},
     "output_type": "display_data"
    }
   ],
   "source": [
    "df <- tibble(\n",
    "  a = rnorm(10),\n",
    "  b = rnorm(10),\n",
    "  c = rnorm(10),\n",
    "  d = rnorm(10)\n",
    ")\n",
    "df"
   ]
  },
  {
   "cell_type": "raw",
   "metadata": {},
   "source": [
    "We want to compute the median of each column. You could do with copy-and-paste:b"
   ]
  },
  {
   "cell_type": "code",
   "execution_count": 4,
   "metadata": {},
   "outputs": [
    {
     "data": {
      "text/html": [
       "0.450384697357588"
      ],
      "text/latex": [
       "0.450384697357588"
      ],
      "text/markdown": [
       "0.450384697357588"
      ],
      "text/plain": [
       "[1] 0.4503847"
      ]
     },
     "metadata": {},
     "output_type": "display_data"
    },
    {
     "data": {
      "text/html": [
       "0.247676821907768"
      ],
      "text/latex": [
       "0.247676821907768"
      ],
      "text/markdown": [
       "0.247676821907768"
      ],
      "text/plain": [
       "[1] 0.2476768"
      ]
     },
     "metadata": {},
     "output_type": "display_data"
    },
    {
     "data": {
      "text/html": [
       "0.0545576508865171"
      ],
      "text/latex": [
       "0.0545576508865171"
      ],
      "text/markdown": [
       "0.0545576508865171"
      ],
      "text/plain": [
       "[1] 0.05455765"
      ]
     },
     "metadata": {},
     "output_type": "display_data"
    },
    {
     "data": {
      "text/html": [
       "0.462329249686353"
      ],
      "text/latex": [
       "0.462329249686353"
      ],
      "text/markdown": [
       "0.462329249686353"
      ],
      "text/plain": [
       "[1] 0.4623292"
      ]
     },
     "metadata": {},
     "output_type": "display_data"
    }
   ],
   "source": [
    "median(df$a)\n",
    "median(df$b)\n",
    "median(df$c)\n",
    "median(df$d)"
   ]
  },
  {
   "cell_type": "raw",
   "metadata": {},
   "source": [
    "But that breaks our rule of thumb: never copy and paste more than twice. Instead, we could use a for loop:"
   ]
  },
  {
   "cell_type": "code",
   "execution_count": 5,
   "metadata": {},
   "outputs": [
    {
     "data": {
      "text/html": [
       "<ol class=list-inline>\n",
       "\t<li>0</li>\n",
       "\t<li>0</li>\n",
       "\t<li>0</li>\n",
       "\t<li>0</li>\n",
       "</ol>\n"
      ],
      "text/latex": [
       "\\begin{enumerate*}\n",
       "\\item 0\n",
       "\\item 0\n",
       "\\item 0\n",
       "\\item 0\n",
       "\\end{enumerate*}\n"
      ],
      "text/markdown": [
       "1. 0\n",
       "2. 0\n",
       "3. 0\n",
       "4. 0\n",
       "\n",
       "\n"
      ],
      "text/plain": [
       "[1] 0 0 0 0"
      ]
     },
     "metadata": {},
     "output_type": "display_data"
    },
    {
     "name": "stdout",
     "output_type": "stream",
     "text": [
      " [1] -0.7816989  0.4480275 -1.6027979  1.7121638  0.4126358  0.4527419\n",
      " [7] -0.5669043  1.3383811  0.8653405  0.9779263\n",
      " [1]  0.9214213 -0.1845544  0.3905496  2.1520426 -0.2907011 -0.3853694\n",
      " [7] -0.6382094  1.2153443  1.0918863  0.1048041\n",
      " [1]  1.97841853 -0.55704765 -1.07190124  1.54789251 -0.39592135  0.07390508\n",
      " [7]  1.41254326 -1.20651582  0.03521022  1.81368407\n",
      " [1]  0.5412725  0.3833860 -0.7122425  1.1147392  0.3404386  0.2777829\n",
      " [7]  0.1248700  0.8483119  0.7643241  0.6333511\n"
     ]
    },
    {
     "data": {
      "text/html": [
       "<ol class=list-inline>\n",
       "\t<li>0.450384697357588</li>\n",
       "\t<li>0.247676821907768</li>\n",
       "\t<li>0.0545576508865171</li>\n",
       "\t<li>0.462329249686353</li>\n",
       "</ol>\n"
      ],
      "text/latex": [
       "\\begin{enumerate*}\n",
       "\\item 0.450384697357588\n",
       "\\item 0.247676821907768\n",
       "\\item 0.0545576508865171\n",
       "\\item 0.462329249686353\n",
       "\\end{enumerate*}\n"
      ],
      "text/markdown": [
       "1. 0.450384697357588\n",
       "2. 0.247676821907768\n",
       "3. 0.0545576508865171\n",
       "4. 0.462329249686353\n",
       "\n",
       "\n"
      ],
      "text/plain": [
       "[1] 0.45038470 0.24767682 0.05455765 0.46232925"
      ]
     },
     "metadata": {},
     "output_type": "display_data"
    }
   ],
   "source": [
    "output <- vector(\"double\", ncol(df))  # 1. output\n",
    "output\n",
    "for (i in seq_along(df)) {            # 2. sequence\n",
    "    print(df[[i]])\n",
    "    output[[i]] <- median(df[[i]])      # 3. body\n",
    "}\n",
    "output"
   ]
  },
  {
   "cell_type": "raw",
   "metadata": {},
   "source": [
    "NN\n",
    "ingredients\n",
    "    vector('double',length(x))\n",
    "        not c()\n",
    "        type and length are key to vector def\n",
    "    seq_along like \"1:length(x)\"\n",
    "    *******\n",
    "    \n",
    "Every for loop has three components:\n",
    "\n",
    "1.  The output: output <- vector(\"double\", length(x)). Before you start the loop, you must always allocate sufficient space for the output. This is very important for efficiency: if you grow the for loop at each iteration using c() (for example), your for loop will be very slow.\n",
    "\n",
    "    A general way of creating an empty vector of given length is the vector() function. It has two arguments: the type of the vector (“logical”, “integer”, “double”, “character”, etc) and the length of the vector.\n",
    "\n",
    "2.  The sequence: i in seq_along(df). This determines what to loop over: each run of the for loop will assign i to a different value from seq_along(df). It’s useful to think of i as a pronoun, like “it”.\n",
    "\n",
    "    You might not have seen seq_along() before. It’s a safe version of the familiar 1:length(l), with an important difference: if you have a zero-length vector, seq_along() does the right thing:"
   ]
  },
  {
   "cell_type": "code",
   "execution_count": 6,
   "metadata": {},
   "outputs": [
    {
     "data": {
      "text/html": [
       "<ol class=list-inline>\n",
       "\t<li>0</li>\n",
       "\t<li>0</li>\n",
       "\t<li>0</li>\n",
       "\t<li>0</li>\n",
       "</ol>\n"
      ],
      "text/latex": [
       "\\begin{enumerate*}\n",
       "\\item 0\n",
       "\\item 0\n",
       "\\item 0\n",
       "\\item 0\n",
       "\\end{enumerate*}\n"
      ],
      "text/markdown": [
       "1. 0\n",
       "2. 0\n",
       "3. 0\n",
       "4. 0\n",
       "\n",
       "\n"
      ],
      "text/plain": [
       "[1] 0 0 0 0"
      ]
     },
     "metadata": {},
     "output_type": "display_data"
    },
    {
     "name": "stdout",
     "output_type": "stream",
     "text": [
      " [1] -0.7816989  0.4480275 -1.6027979  1.7121638  0.4126358  0.4527419\n",
      " [7] -0.5669043  1.3383811  0.8653405  0.9779263\n",
      " [1]  0.9214213 -0.1845544  0.3905496  2.1520426 -0.2907011 -0.3853694\n",
      " [7] -0.6382094  1.2153443  1.0918863  0.1048041\n",
      " [1]  1.97841853 -0.55704765 -1.07190124  1.54789251 -0.39592135  0.07390508\n",
      " [7]  1.41254326 -1.20651582  0.03521022  1.81368407\n",
      " [1]  0.5412725  0.3833860 -0.7122425  1.1147392  0.3404386  0.2777829\n",
      " [7]  0.1248700  0.8483119  0.7643241  0.6333511\n"
     ]
    },
    {
     "data": {
      "text/html": [
       "<ol class=list-inline>\n",
       "\t<li>0.450384697357588</li>\n",
       "\t<li>0.247676821907768</li>\n",
       "\t<li>0.0545576508865171</li>\n",
       "\t<li>0.462329249686353</li>\n",
       "</ol>\n"
      ],
      "text/latex": [
       "\\begin{enumerate*}\n",
       "\\item 0.450384697357588\n",
       "\\item 0.247676821907768\n",
       "\\item 0.0545576508865171\n",
       "\\item 0.462329249686353\n",
       "\\end{enumerate*}\n"
      ],
      "text/markdown": [
       "1. 0.450384697357588\n",
       "2. 0.247676821907768\n",
       "3. 0.0545576508865171\n",
       "4. 0.462329249686353\n",
       "\n",
       "\n"
      ],
      "text/plain": [
       "[1] 0.45038470 0.24767682 0.05455765 0.46232925"
      ]
     },
     "metadata": {},
     "output_type": "display_data"
    }
   ],
   "source": [
    "# mycode showing 1:length(output) version\n",
    "output <- vector(\"double\", ncol(df))  # 1. output\n",
    "output\n",
    "for (i in 1:length(output)) {            # 2. sequence\n",
    "    print(df[[i]])\n",
    "    output[[i]] <- median(df[[i]])      # 3. body\n",
    "}\n",
    "output"
   ]
  },
  {
   "cell_type": "code",
   "execution_count": 7,
   "metadata": {},
   "outputs": [
    {
     "data": {
      "text/html": [],
      "text/latex": [],
      "text/markdown": [],
      "text/plain": [
       "integer(0)"
      ]
     },
     "metadata": {},
     "output_type": "display_data"
    },
    {
     "data": {
      "text/html": [
       "<ol class=list-inline>\n",
       "\t<li>1</li>\n",
       "\t<li>0</li>\n",
       "</ol>\n"
      ],
      "text/latex": [
       "\\begin{enumerate*}\n",
       "\\item 1\n",
       "\\item 0\n",
       "\\end{enumerate*}\n"
      ],
      "text/markdown": [
       "1. 1\n",
       "2. 0\n",
       "\n",
       "\n"
      ],
      "text/plain": [
       "[1] 1 0"
      ]
     },
     "metadata": {},
     "output_type": "display_data"
    }
   ],
   "source": [
    "y <- vector(\"double\", 0)\n",
    "seq_along(y)\n",
    "1:length(y)"
   ]
  },
  {
   "cell_type": "raw",
   "metadata": {},
   "source": [
    "    You probably won’t create a zero-length vector deliberately, but it’s easy to create them accidentally. If you use 1:length(x) instead of seq_along(x), you’re likely to get a confusing error message.\n",
    "\n",
    "3.  The body: output[[i]] <- median(df[[i]]). This is the code that does the work. It’s run repeatedly, each time with a different value for i. The first iteration will run output[[1]] <- median(df[[1]]), the second will run output[[2]] <- median(df[[2]]), and so on.\n",
    "\n",
    "That’s all there is to the for loop! Now is a good time to practice creating some basic (and not so basic) for loops using the exercises below. Then we’ll move on some variations of the for loop that help you solve other problems that will crop up in practice."
   ]
  },
  {
   "cell_type": "raw",
   "metadata": {},
   "source": [
    "21.2.1 Exercises"
   ]
  },
  {
   "cell_type": "raw",
   "metadata": {},
   "source": [
    "Q1. Write for loops to:"
   ]
  },
  {
   "cell_type": "raw",
   "metadata": {},
   "source": [
    "Q1a. Compute the mean of every column in mtcars.\n",
    "\n",
    "NN\n",
    "names() gives col names\n",
    "ncol() gives number of cols\n",
    "class() gives the type of data\n",
    "output vector as 'list' allows multiple values per value\n",
    "******"
   ]
  },
  {
   "cell_type": "code",
   "execution_count": 8,
   "metadata": {},
   "outputs": [
    {
     "data": {
      "text/html": [
       "<table>\n",
       "<thead><tr><th></th><th scope=col>mpg</th><th scope=col>cyl</th><th scope=col>disp</th><th scope=col>hp</th><th scope=col>drat</th><th scope=col>wt</th><th scope=col>qsec</th><th scope=col>vs</th><th scope=col>am</th><th scope=col>gear</th><th scope=col>carb</th></tr></thead>\n",
       "<tbody>\n",
       "\t<tr><th scope=row>Mazda RX4</th><td>21.0 </td><td>6    </td><td>160  </td><td>110  </td><td>3.90 </td><td>2.620</td><td>16.46</td><td>0    </td><td>1    </td><td>4    </td><td>4    </td></tr>\n",
       "\t<tr><th scope=row>Mazda RX4 Wag</th><td>21.0 </td><td>6    </td><td>160  </td><td>110  </td><td>3.90 </td><td>2.875</td><td>17.02</td><td>0    </td><td>1    </td><td>4    </td><td>4    </td></tr>\n",
       "\t<tr><th scope=row>Datsun 710</th><td>22.8 </td><td>4    </td><td>108  </td><td> 93  </td><td>3.85 </td><td>2.320</td><td>18.61</td><td>1    </td><td>1    </td><td>4    </td><td>1    </td></tr>\n",
       "\t<tr><th scope=row>Hornet 4 Drive</th><td>21.4 </td><td>6    </td><td>258  </td><td>110  </td><td>3.08 </td><td>3.215</td><td>19.44</td><td>1    </td><td>0    </td><td>3    </td><td>1    </td></tr>\n",
       "\t<tr><th scope=row>Hornet Sportabout</th><td>18.7 </td><td>8    </td><td>360  </td><td>175  </td><td>3.15 </td><td>3.440</td><td>17.02</td><td>0    </td><td>0    </td><td>3    </td><td>2    </td></tr>\n",
       "\t<tr><th scope=row>Valiant</th><td>18.1 </td><td>6    </td><td>225  </td><td>105  </td><td>2.76 </td><td>3.460</td><td>20.22</td><td>1    </td><td>0    </td><td>3    </td><td>1    </td></tr>\n",
       "</tbody>\n",
       "</table>\n"
      ],
      "text/latex": [
       "\\begin{tabular}{r|lllllllllll}\n",
       "  & mpg & cyl & disp & hp & drat & wt & qsec & vs & am & gear & carb\\\\\n",
       "\\hline\n",
       "\tMazda RX4 & 21.0  & 6     & 160   & 110   & 3.90  & 2.620 & 16.46 & 0     & 1     & 4     & 4    \\\\\n",
       "\tMazda RX4 Wag & 21.0  & 6     & 160   & 110   & 3.90  & 2.875 & 17.02 & 0     & 1     & 4     & 4    \\\\\n",
       "\tDatsun 710 & 22.8  & 4     & 108   &  93   & 3.85  & 2.320 & 18.61 & 1     & 1     & 4     & 1    \\\\\n",
       "\tHornet 4 Drive & 21.4  & 6     & 258   & 110   & 3.08  & 3.215 & 19.44 & 1     & 0     & 3     & 1    \\\\\n",
       "\tHornet Sportabout & 18.7  & 8     & 360   & 175   & 3.15  & 3.440 & 17.02 & 0     & 0     & 3     & 2    \\\\\n",
       "\tValiant & 18.1  & 6     & 225   & 105   & 2.76  & 3.460 & 20.22 & 1     & 0     & 3     & 1    \\\\\n",
       "\\end{tabular}\n"
      ],
      "text/markdown": [
       "\n",
       "| <!--/--> | mpg | cyl | disp | hp | drat | wt | qsec | vs | am | gear | carb |\n",
       "|---|---|---|---|---|---|---|---|---|---|---|---|\n",
       "| Mazda RX4 | 21.0  | 6     | 160   | 110   | 3.90  | 2.620 | 16.46 | 0     | 1     | 4     | 4     |\n",
       "| Mazda RX4 Wag | 21.0  | 6     | 160   | 110   | 3.90  | 2.875 | 17.02 | 0     | 1     | 4     | 4     |\n",
       "| Datsun 710 | 22.8  | 4     | 108   |  93   | 3.85  | 2.320 | 18.61 | 1     | 1     | 4     | 1     |\n",
       "| Hornet 4 Drive | 21.4  | 6     | 258   | 110   | 3.08  | 3.215 | 19.44 | 1     | 0     | 3     | 1     |\n",
       "| Hornet Sportabout | 18.7  | 8     | 360   | 175   | 3.15  | 3.440 | 17.02 | 0     | 0     | 3     | 2     |\n",
       "| Valiant | 18.1  | 6     | 225   | 105   | 2.76  | 3.460 | 20.22 | 1     | 0     | 3     | 1     |\n",
       "\n"
      ],
      "text/plain": [
       "                  mpg  cyl disp hp  drat wt    qsec  vs am gear carb\n",
       "Mazda RX4         21.0 6   160  110 3.90 2.620 16.46 0  1  4    4   \n",
       "Mazda RX4 Wag     21.0 6   160  110 3.90 2.875 17.02 0  1  4    4   \n",
       "Datsun 710        22.8 4   108   93 3.85 2.320 18.61 1  1  4    1   \n",
       "Hornet 4 Drive    21.4 6   258  110 3.08 3.215 19.44 1  0  3    1   \n",
       "Hornet Sportabout 18.7 8   360  175 3.15 3.440 17.02 0  0  3    2   \n",
       "Valiant           18.1 6   225  105 2.76 3.460 20.22 1  0  3    1   "
      ]
     },
     "metadata": {},
     "output_type": "display_data"
    },
    {
     "data": {
      "text/html": [
       "<ol class=list-inline>\n",
       "\t<li>'mpg'</li>\n",
       "\t<li>'cyl'</li>\n",
       "\t<li>'disp'</li>\n",
       "\t<li>'hp'</li>\n",
       "\t<li>'drat'</li>\n",
       "\t<li>'wt'</li>\n",
       "\t<li>'qsec'</li>\n",
       "\t<li>'vs'</li>\n",
       "\t<li>'am'</li>\n",
       "\t<li>'gear'</li>\n",
       "\t<li>'carb'</li>\n",
       "</ol>\n"
      ],
      "text/latex": [
       "\\begin{enumerate*}\n",
       "\\item 'mpg'\n",
       "\\item 'cyl'\n",
       "\\item 'disp'\n",
       "\\item 'hp'\n",
       "\\item 'drat'\n",
       "\\item 'wt'\n",
       "\\item 'qsec'\n",
       "\\item 'vs'\n",
       "\\item 'am'\n",
       "\\item 'gear'\n",
       "\\item 'carb'\n",
       "\\end{enumerate*}\n"
      ],
      "text/markdown": [
       "1. 'mpg'\n",
       "2. 'cyl'\n",
       "3. 'disp'\n",
       "4. 'hp'\n",
       "5. 'drat'\n",
       "6. 'wt'\n",
       "7. 'qsec'\n",
       "8. 'vs'\n",
       "9. 'am'\n",
       "10. 'gear'\n",
       "11. 'carb'\n",
       "\n",
       "\n"
      ],
      "text/plain": [
       " [1] \"mpg\"  \"cyl\"  \"disp\" \"hp\"   \"drat\" \"wt\"   \"qsec\" \"vs\"   \"am\"   \"gear\"\n",
       "[11] \"carb\""
      ]
     },
     "metadata": {},
     "output_type": "display_data"
    }
   ],
   "source": [
    "head(mtcars)\n",
    "names(mtcars)"
   ]
  },
  {
   "cell_type": "code",
   "execution_count": 9,
   "metadata": {},
   "outputs": [
    {
     "data": {
      "text/html": [
       "<dl class=dl-horizontal>\n",
       "\t<dt>mpg</dt>\n",
       "\t\t<dd>20.090625</dd>\n",
       "\t<dt>cyl</dt>\n",
       "\t\t<dd>6.1875</dd>\n",
       "\t<dt>disp</dt>\n",
       "\t\t<dd>230.721875</dd>\n",
       "\t<dt>hp</dt>\n",
       "\t\t<dd>146.6875</dd>\n",
       "\t<dt>drat</dt>\n",
       "\t\t<dd>3.5965625</dd>\n",
       "\t<dt>wt</dt>\n",
       "\t\t<dd>3.21725</dd>\n",
       "\t<dt>qsec</dt>\n",
       "\t\t<dd>17.84875</dd>\n",
       "\t<dt>vs</dt>\n",
       "\t\t<dd>0.4375</dd>\n",
       "\t<dt>am</dt>\n",
       "\t\t<dd>0.40625</dd>\n",
       "\t<dt>gear</dt>\n",
       "\t\t<dd>3.6875</dd>\n",
       "\t<dt>carb</dt>\n",
       "\t\t<dd>2.8125</dd>\n",
       "</dl>\n"
      ],
      "text/latex": [
       "\\begin{description*}\n",
       "\\item[mpg] 20.090625\n",
       "\\item[cyl] 6.1875\n",
       "\\item[disp] 230.721875\n",
       "\\item[hp] 146.6875\n",
       "\\item[drat] 3.5965625\n",
       "\\item[wt] 3.21725\n",
       "\\item[qsec] 17.84875\n",
       "\\item[vs] 0.4375\n",
       "\\item[am] 0.40625\n",
       "\\item[gear] 3.6875\n",
       "\\item[carb] 2.8125\n",
       "\\end{description*}\n"
      ],
      "text/markdown": [
       "mpg\n",
       ":   20.090625cyl\n",
       ":   6.1875disp\n",
       ":   230.721875hp\n",
       ":   146.6875drat\n",
       ":   3.5965625wt\n",
       ":   3.21725qsec\n",
       ":   17.84875vs\n",
       ":   0.4375am\n",
       ":   0.40625gear\n",
       ":   3.6875carb\n",
       ":   2.8125\n",
       "\n"
      ],
      "text/plain": [
       "       mpg        cyl       disp         hp       drat         wt       qsec \n",
       " 20.090625   6.187500 230.721875 146.687500   3.596563   3.217250  17.848750 \n",
       "        vs         am       gear       carb \n",
       "  0.437500   0.406250   3.687500   2.812500 "
      ]
     },
     "metadata": {},
     "output_type": "display_data"
    }
   ],
   "source": [
    "output <- vector(\"double\", ncol(mtcars))\n",
    "names(output) <- names(mtcars)\n",
    "for (i in names(mtcars)) {\n",
    "  output[i] <- mean(mtcars[[i]])\n",
    "}\n",
    "output"
   ]
  },
  {
   "cell_type": "raw",
   "metadata": {},
   "source": [
    "Q1b. Determine the type of each column in nycflights13::flights.\n",
    "\n",
    "I used a list, not a character vector, since the class of an object can have multiple values. For example, the class of the time_hour column is POSIXct, POSIXt.*******"
   ]
  },
  {
   "cell_type": "code",
   "execution_count": 10,
   "metadata": {},
   "outputs": [
    {
     "data": {
      "text/html": [
       "<dl>\n",
       "\t<dt>$year</dt>\n",
       "\t\t<dd>'integer'</dd>\n",
       "\t<dt>$month</dt>\n",
       "\t\t<dd>'integer'</dd>\n",
       "\t<dt>$day</dt>\n",
       "\t\t<dd>'integer'</dd>\n",
       "\t<dt>$dep_time</dt>\n",
       "\t\t<dd>'integer'</dd>\n",
       "\t<dt>$sched_dep_time</dt>\n",
       "\t\t<dd>'integer'</dd>\n",
       "\t<dt>$dep_delay</dt>\n",
       "\t\t<dd>'numeric'</dd>\n",
       "\t<dt>$arr_time</dt>\n",
       "\t\t<dd>'integer'</dd>\n",
       "\t<dt>$sched_arr_time</dt>\n",
       "\t\t<dd>'integer'</dd>\n",
       "\t<dt>$arr_delay</dt>\n",
       "\t\t<dd>'numeric'</dd>\n",
       "\t<dt>$carrier</dt>\n",
       "\t\t<dd>'character'</dd>\n",
       "\t<dt>$flight</dt>\n",
       "\t\t<dd>'integer'</dd>\n",
       "\t<dt>$tailnum</dt>\n",
       "\t\t<dd>'character'</dd>\n",
       "\t<dt>$origin</dt>\n",
       "\t\t<dd>'character'</dd>\n",
       "\t<dt>$dest</dt>\n",
       "\t\t<dd>'character'</dd>\n",
       "\t<dt>$air_time</dt>\n",
       "\t\t<dd>'numeric'</dd>\n",
       "\t<dt>$distance</dt>\n",
       "\t\t<dd>'numeric'</dd>\n",
       "\t<dt>$hour</dt>\n",
       "\t\t<dd>'numeric'</dd>\n",
       "\t<dt>$minute</dt>\n",
       "\t\t<dd>'numeric'</dd>\n",
       "\t<dt>$time_hour</dt>\n",
       "\t\t<dd><ol class=list-inline>\n",
       "\t<li>'POSIXct'</li>\n",
       "\t<li>'POSIXt'</li>\n",
       "</ol>\n",
       "</dd>\n",
       "</dl>\n"
      ],
      "text/latex": [
       "\\begin{description}\n",
       "\\item[\\$year] 'integer'\n",
       "\\item[\\$month] 'integer'\n",
       "\\item[\\$day] 'integer'\n",
       "\\item[\\$dep\\_time] 'integer'\n",
       "\\item[\\$sched\\_dep\\_time] 'integer'\n",
       "\\item[\\$dep\\_delay] 'numeric'\n",
       "\\item[\\$arr\\_time] 'integer'\n",
       "\\item[\\$sched\\_arr\\_time] 'integer'\n",
       "\\item[\\$arr\\_delay] 'numeric'\n",
       "\\item[\\$carrier] 'character'\n",
       "\\item[\\$flight] 'integer'\n",
       "\\item[\\$tailnum] 'character'\n",
       "\\item[\\$origin] 'character'\n",
       "\\item[\\$dest] 'character'\n",
       "\\item[\\$air\\_time] 'numeric'\n",
       "\\item[\\$distance] 'numeric'\n",
       "\\item[\\$hour] 'numeric'\n",
       "\\item[\\$minute] 'numeric'\n",
       "\\item[\\$time\\_hour] \\begin{enumerate*}\n",
       "\\item 'POSIXct'\n",
       "\\item 'POSIXt'\n",
       "\\end{enumerate*}\n",
       "\n",
       "\\end{description}\n"
      ],
      "text/markdown": [
       "$year\n",
       ":   'integer'\n",
       "$month\n",
       ":   'integer'\n",
       "$day\n",
       ":   'integer'\n",
       "$dep_time\n",
       ":   'integer'\n",
       "$sched_dep_time\n",
       ":   'integer'\n",
       "$dep_delay\n",
       ":   'numeric'\n",
       "$arr_time\n",
       ":   'integer'\n",
       "$sched_arr_time\n",
       ":   'integer'\n",
       "$arr_delay\n",
       ":   'numeric'\n",
       "$carrier\n",
       ":   'character'\n",
       "$flight\n",
       ":   'integer'\n",
       "$tailnum\n",
       ":   'character'\n",
       "$origin\n",
       ":   'character'\n",
       "$dest\n",
       ":   'character'\n",
       "$air_time\n",
       ":   'numeric'\n",
       "$distance\n",
       ":   'numeric'\n",
       "$hour\n",
       ":   'numeric'\n",
       "$minute\n",
       ":   'numeric'\n",
       "$time_hour\n",
       ":   1. 'POSIXct'\n",
       "2. 'POSIXt'\n",
       "\n",
       "\n",
       "\n",
       "\n",
       "\n"
      ],
      "text/plain": [
       "$year\n",
       "[1] \"integer\"\n",
       "\n",
       "$month\n",
       "[1] \"integer\"\n",
       "\n",
       "$day\n",
       "[1] \"integer\"\n",
       "\n",
       "$dep_time\n",
       "[1] \"integer\"\n",
       "\n",
       "$sched_dep_time\n",
       "[1] \"integer\"\n",
       "\n",
       "$dep_delay\n",
       "[1] \"numeric\"\n",
       "\n",
       "$arr_time\n",
       "[1] \"integer\"\n",
       "\n",
       "$sched_arr_time\n",
       "[1] \"integer\"\n",
       "\n",
       "$arr_delay\n",
       "[1] \"numeric\"\n",
       "\n",
       "$carrier\n",
       "[1] \"character\"\n",
       "\n",
       "$flight\n",
       "[1] \"integer\"\n",
       "\n",
       "$tailnum\n",
       "[1] \"character\"\n",
       "\n",
       "$origin\n",
       "[1] \"character\"\n",
       "\n",
       "$dest\n",
       "[1] \"character\"\n",
       "\n",
       "$air_time\n",
       "[1] \"numeric\"\n",
       "\n",
       "$distance\n",
       "[1] \"numeric\"\n",
       "\n",
       "$hour\n",
       "[1] \"numeric\"\n",
       "\n",
       "$minute\n",
       "[1] \"numeric\"\n",
       "\n",
       "$time_hour\n",
       "[1] \"POSIXct\" \"POSIXt\" \n"
      ]
     },
     "metadata": {},
     "output_type": "display_data"
    }
   ],
   "source": [
    "output <- vector(\"list\", ncol(nycflights13::flights))\n",
    "names(output) <- names(nycflights13::flights)\n",
    "for (i in names(nycflights13::flights)) {\n",
    "  output[[i]] <- class(nycflights13::flights[[i]])\n",
    "}\n",
    "output"
   ]
  },
  {
   "cell_type": "raw",
   "metadata": {},
   "source": [
    "Q1c. Compute the number of unique values in each column of iris.\n",
    "\n",
    "NN\n",
    "ive seen distinct but not unique in r\n",
    "length(unique(iris[[i]]))\n",
    "*****"
   ]
  },
  {
   "cell_type": "code",
   "execution_count": 70,
   "metadata": {},
   "outputs": [
    {
     "data": {
      "text/html": [
       "<table>\n",
       "<thead><tr><th scope=col>Sepal.Length</th><th scope=col>Sepal.Width</th><th scope=col>Petal.Length</th><th scope=col>Petal.Width</th><th scope=col>Species</th></tr></thead>\n",
       "<tbody>\n",
       "\t<tr><td>5.1   </td><td>3.5   </td><td>1.4   </td><td>0.2   </td><td>setosa</td></tr>\n",
       "\t<tr><td>4.9   </td><td>3.0   </td><td>1.4   </td><td>0.2   </td><td>setosa</td></tr>\n",
       "\t<tr><td>4.7   </td><td>3.2   </td><td>1.3   </td><td>0.2   </td><td>setosa</td></tr>\n",
       "\t<tr><td>4.6   </td><td>3.1   </td><td>1.5   </td><td>0.2   </td><td>setosa</td></tr>\n",
       "\t<tr><td>5.0   </td><td>3.6   </td><td>1.4   </td><td>0.2   </td><td>setosa</td></tr>\n",
       "\t<tr><td>5.4   </td><td>3.9   </td><td>1.7   </td><td>0.4   </td><td>setosa</td></tr>\n",
       "</tbody>\n",
       "</table>\n"
      ],
      "text/latex": [
       "\\begin{tabular}{r|lllll}\n",
       " Sepal.Length & Sepal.Width & Petal.Length & Petal.Width & Species\\\\\n",
       "\\hline\n",
       "\t 5.1    & 3.5    & 1.4    & 0.2    & setosa\\\\\n",
       "\t 4.9    & 3.0    & 1.4    & 0.2    & setosa\\\\\n",
       "\t 4.7    & 3.2    & 1.3    & 0.2    & setosa\\\\\n",
       "\t 4.6    & 3.1    & 1.5    & 0.2    & setosa\\\\\n",
       "\t 5.0    & 3.6    & 1.4    & 0.2    & setosa\\\\\n",
       "\t 5.4    & 3.9    & 1.7    & 0.4    & setosa\\\\\n",
       "\\end{tabular}\n"
      ],
      "text/markdown": [
       "\n",
       "| Sepal.Length | Sepal.Width | Petal.Length | Petal.Width | Species |\n",
       "|---|---|---|---|---|\n",
       "| 5.1    | 3.5    | 1.4    | 0.2    | setosa |\n",
       "| 4.9    | 3.0    | 1.4    | 0.2    | setosa |\n",
       "| 4.7    | 3.2    | 1.3    | 0.2    | setosa |\n",
       "| 4.6    | 3.1    | 1.5    | 0.2    | setosa |\n",
       "| 5.0    | 3.6    | 1.4    | 0.2    | setosa |\n",
       "| 5.4    | 3.9    | 1.7    | 0.4    | setosa |\n",
       "\n"
      ],
      "text/plain": [
       "  Sepal.Length Sepal.Width Petal.Length Petal.Width Species\n",
       "1 5.1          3.5         1.4          0.2         setosa \n",
       "2 4.9          3.0         1.4          0.2         setosa \n",
       "3 4.7          3.2         1.3          0.2         setosa \n",
       "4 4.6          3.1         1.5          0.2         setosa \n",
       "5 5.0          3.6         1.4          0.2         setosa \n",
       "6 5.4          3.9         1.7          0.4         setosa "
      ]
     },
     "metadata": {},
     "output_type": "display_data"
    },
    {
     "ename": "ERROR",
     "evalue": "Error in eval(expr, envir, enclos): object 'show_mean' not found\n",
     "output_type": "error",
     "traceback": [
      "Error in eval(expr, envir, enclos): object 'show_mean' not found\nTraceback:\n"
     ]
    }
   ],
   "source": [
    "data(\"iris\")\n",
    "head(iris)"
   ]
  },
  {
   "cell_type": "code",
   "execution_count": 12,
   "metadata": {},
   "outputs": [
    {
     "data": {
      "text/html": [
       "<dl class=dl-horizontal>\n",
       "\t<dt>Sepal.Length</dt>\n",
       "\t\t<dd>35</dd>\n",
       "\t<dt>Sepal.Width</dt>\n",
       "\t\t<dd>23</dd>\n",
       "\t<dt>Petal.Length</dt>\n",
       "\t\t<dd>43</dd>\n",
       "\t<dt>Petal.Width</dt>\n",
       "\t\t<dd>22</dd>\n",
       "\t<dt>Species</dt>\n",
       "\t\t<dd>3</dd>\n",
       "</dl>\n"
      ],
      "text/latex": [
       "\\begin{description*}\n",
       "\\item[Sepal.Length] 35\n",
       "\\item[Sepal.Width] 23\n",
       "\\item[Petal.Length] 43\n",
       "\\item[Petal.Width] 22\n",
       "\\item[Species] 3\n",
       "\\end{description*}\n"
      ],
      "text/markdown": [
       "Sepal.Length\n",
       ":   35Sepal.Width\n",
       ":   23Petal.Length\n",
       ":   43Petal.Width\n",
       ":   22Species\n",
       ":   3\n",
       "\n"
      ],
      "text/plain": [
       "Sepal.Length  Sepal.Width Petal.Length  Petal.Width      Species \n",
       "          35           23           43           22            3 "
      ]
     },
     "metadata": {},
     "output_type": "display_data"
    }
   ],
   "source": [
    "data(\"iris\")\n",
    "iris_uniq <- vector(\"double\", ncol(iris))\n",
    "names(iris_uniq) <- names(iris)\n",
    "for (i in names(iris)) {\n",
    "  iris_uniq[i] <- length(unique(iris[[i]]))\n",
    "}\n",
    "iris_uniq"
   ]
  },
  {
   "cell_type": "raw",
   "metadata": {},
   "source": [
    "Q1d. Generate 10 random normals for each of μ = −10, 0, 10, and 100."
   ]
  },
  {
   "cell_type": "code",
   "execution_count": 13,
   "metadata": {},
   "outputs": [
    {
     "data": {
      "text/html": [
       "<ol>\n",
       "\t<li><ol class=list-inline>\n",
       "\t<li>-10.4544797538212</li>\n",
       "\t<li>-11.4661589110113</li>\n",
       "\t<li>-11.1215708624389</li>\n",
       "\t<li>-9.66304197483855</li>\n",
       "\t<li>-11.2795061551982</li>\n",
       "\t<li>-8.84773781825441</li>\n",
       "\t<li>-11.1511354936471</li>\n",
       "\t<li>-9.36447599357896</li>\n",
       "\t<li>-9.75615833014962</li>\n",
       "\t<li>-10.2402202681537</li>\n",
       "</ol>\n",
       "</li>\n",
       "\t<li><ol class=list-inline>\n",
       "\t<li>0.294951769098682</li>\n",
       "\t<li>-0.478072957504698</li>\n",
       "\t<li>0.589337095929296</li>\n",
       "\t<li>-0.102376612021875</li>\n",
       "\t<li>-0.433599872167965</li>\n",
       "\t<li>-1.17758496945308</li>\n",
       "\t<li>0.543417909509648</li>\n",
       "\t<li>1.00857861060262</li>\n",
       "\t<li>-0.513353897118163</li>\n",
       "\t<li>0.850730109805311</li>\n",
       "</ol>\n",
       "</li>\n",
       "\t<li><ol class=list-inline>\n",
       "\t<li>8.89235835572963</li>\n",
       "\t<li>9.06419703630107</li>\n",
       "\t<li>9.4366568467121</li>\n",
       "\t<li>8.94075828879654</li>\n",
       "\t<li>9.68251036169903</li>\n",
       "\t<li>9.38634776631404</li>\n",
       "\t<li>8.60200753909083</li>\n",
       "\t<li>10.1191230101681</li>\n",
       "\t<li>9.61734252892649</li>\n",
       "\t<li>10.1692257662417</li>\n",
       "</ol>\n",
       "</li>\n",
       "\t<li><ol class=list-inline>\n",
       "\t<li>99.3261637825987</li>\n",
       "\t<li>99.5996771106932</li>\n",
       "\t<li>101.267174947878</li>\n",
       "\t<li>99.9649683695334</li>\n",
       "\t<li>99.6836087962724</li>\n",
       "\t<li>98.8515912665048</li>\n",
       "\t<li>99.8293375440038</li>\n",
       "\t<li>100.957220604083</li>\n",
       "\t<li>100.618020455962</li>\n",
       "\t<li>102.338654277474</li>\n",
       "</ol>\n",
       "</li>\n",
       "</ol>\n"
      ],
      "text/latex": [
       "\\begin{enumerate}\n",
       "\\item \\begin{enumerate*}\n",
       "\\item -10.4544797538212\n",
       "\\item -11.4661589110113\n",
       "\\item -11.1215708624389\n",
       "\\item -9.66304197483855\n",
       "\\item -11.2795061551982\n",
       "\\item -8.84773781825441\n",
       "\\item -11.1511354936471\n",
       "\\item -9.36447599357896\n",
       "\\item -9.75615833014962\n",
       "\\item -10.2402202681537\n",
       "\\end{enumerate*}\n",
       "\n",
       "\\item \\begin{enumerate*}\n",
       "\\item 0.294951769098682\n",
       "\\item -0.478072957504698\n",
       "\\item 0.589337095929296\n",
       "\\item -0.102376612021875\n",
       "\\item -0.433599872167965\n",
       "\\item -1.17758496945308\n",
       "\\item 0.543417909509648\n",
       "\\item 1.00857861060262\n",
       "\\item -0.513353897118163\n",
       "\\item 0.850730109805311\n",
       "\\end{enumerate*}\n",
       "\n",
       "\\item \\begin{enumerate*}\n",
       "\\item 8.89235835572963\n",
       "\\item 9.06419703630107\n",
       "\\item 9.4366568467121\n",
       "\\item 8.94075828879654\n",
       "\\item 9.68251036169903\n",
       "\\item 9.38634776631404\n",
       "\\item 8.60200753909083\n",
       "\\item 10.1191230101681\n",
       "\\item 9.61734252892649\n",
       "\\item 10.1692257662417\n",
       "\\end{enumerate*}\n",
       "\n",
       "\\item \\begin{enumerate*}\n",
       "\\item 99.3261637825987\n",
       "\\item 99.5996771106932\n",
       "\\item 101.267174947878\n",
       "\\item 99.9649683695334\n",
       "\\item 99.6836087962724\n",
       "\\item 98.8515912665048\n",
       "\\item 99.8293375440038\n",
       "\\item 100.957220604083\n",
       "\\item 100.618020455962\n",
       "\\item 102.338654277474\n",
       "\\end{enumerate*}\n",
       "\n",
       "\\end{enumerate}\n"
      ],
      "text/markdown": [
       "1. 1. -10.4544797538212\n",
       "2. -11.4661589110113\n",
       "3. -11.1215708624389\n",
       "4. -9.66304197483855\n",
       "5. -11.2795061551982\n",
       "6. -8.84773781825441\n",
       "7. -11.1511354936471\n",
       "8. -9.36447599357896\n",
       "9. -9.75615833014962\n",
       "10. -10.2402202681537\n",
       "\n",
       "\n",
       "\n",
       "2. 1. 0.294951769098682\n",
       "2. -0.478072957504698\n",
       "3. 0.589337095929296\n",
       "4. -0.102376612021875\n",
       "5. -0.433599872167965\n",
       "6. -1.17758496945308\n",
       "7. 0.543417909509648\n",
       "8. 1.00857861060262\n",
       "9. -0.513353897118163\n",
       "10. 0.850730109805311\n",
       "\n",
       "\n",
       "\n",
       "3. 1. 8.89235835572963\n",
       "2. 9.06419703630107\n",
       "3. 9.4366568467121\n",
       "4. 8.94075828879654\n",
       "5. 9.68251036169903\n",
       "6. 9.38634776631404\n",
       "7. 8.60200753909083\n",
       "8. 10.1191230101681\n",
       "9. 9.61734252892649\n",
       "10. 10.1692257662417\n",
       "\n",
       "\n",
       "\n",
       "4. 1. 99.3261637825987\n",
       "2. 99.5996771106932\n",
       "3. 101.267174947878\n",
       "4. 99.9649683695334\n",
       "5. 99.6836087962724\n",
       "6. 98.8515912665048\n",
       "7. 99.8293375440038\n",
       "8. 100.957220604083\n",
       "9. 100.618020455962\n",
       "10. 102.338654277474\n",
       "\n",
       "\n",
       "\n",
       "\n",
       "\n"
      ],
      "text/plain": [
       "[[1]]\n",
       " [1] -10.454480 -11.466159 -11.121571  -9.663042 -11.279506  -8.847738\n",
       " [7] -11.151135  -9.364476  -9.756158 -10.240220\n",
       "\n",
       "[[2]]\n",
       " [1]  0.2949518 -0.4780730  0.5893371 -0.1023766 -0.4335999 -1.1775850\n",
       " [7]  0.5434179  1.0085786 -0.5133539  0.8507301\n",
       "\n",
       "[[3]]\n",
       " [1]  8.892358  9.064197  9.436657  8.940758  9.682510  9.386348  8.602008\n",
       " [8] 10.119123  9.617343 10.169226\n",
       "\n",
       "[[4]]\n",
       " [1]  99.32616  99.59968 101.26717  99.96497  99.68361  98.85159  99.82934\n",
       " [8] 100.95722 100.61802 102.33865\n"
      ]
     },
     "metadata": {},
     "output_type": "display_data"
    }
   ],
   "source": [
    "# number to draw\n",
    "n <- 10\n",
    "# values of the mean\n",
    "mu <- c(-10, 0, 10, 100)\n",
    "normals <- vector(\"list\", length(mu))  # each item is a list of 10 rand norm*******\n",
    "for (i in seq_along(normals)) {\n",
    "  normals[[i]] <- rnorm(n, mean = mu[i])\n",
    "}\n",
    "normals"
   ]
  },
  {
   "cell_type": "raw",
   "metadata": {},
   "source": [
    "Think about the output, sequence, and body before you start writing the loop.\n",
    "However, we don’t need a for loop for this since rnorm() recycle the mean argument.\n",
    "\n",
    "NN\n",
    "matrix(, ncol=n)\n",
    "rnmorn(number, mean)\n",
    "*******"
   ]
  },
  {
   "cell_type": "code",
   "execution_count": 14,
   "metadata": {},
   "outputs": [
    {
     "data": {
      "text/html": [
       "<table>\n",
       "<tbody>\n",
       "\t<tr><td>-10.270747   </td><td> -9.102175   </td><td>-11.290873752</td><td>-10.402977   </td><td> -9.623420   </td><td>-10.06711502 </td><td>-9.602786    </td><td>-9.389376    </td><td>-10.6388785  </td><td> -8.4227131  </td></tr>\n",
       "\t<tr><td> -1.185813   </td><td> -1.273825   </td><td>  0.009054116</td><td> -1.652531   </td><td>  0.199246   </td><td> -0.02696273 </td><td> 1.436711    </td><td> 1.619169    </td><td> -0.3908689  </td><td> -0.6036633  </td></tr>\n",
       "\t<tr><td> 11.703003   </td><td>  9.143180   </td><td> 12.202055822</td><td>  8.205394   </td><td> 10.257324   </td><td>  9.86861015 </td><td>11.399829    </td><td> 9.668611    </td><td>  9.7744392  </td><td> 11.2922697  </td></tr>\n",
       "\t<tr><td> 99.064576   </td><td>100.216306   </td><td> 99.801773425</td><td> 97.796639   </td><td>100.283471   </td><td> 99.55168223 </td><td>98.488696    </td><td>99.251443    </td><td> 98.9916994  </td><td>102.3317704  </td></tr>\n",
       "</tbody>\n",
       "</table>\n"
      ],
      "text/latex": [
       "\\begin{tabular}{llllllllll}\n",
       "\t -10.270747    &  -9.102175    & -11.290873752 & -10.402977    &  -9.623420    & -10.06711502  & -9.602786     & -9.389376     & -10.6388785   &  -8.4227131  \\\\\n",
       "\t  -1.185813    &  -1.273825    &   0.009054116 &  -1.652531    &   0.199246    &  -0.02696273  &  1.436711     &  1.619169     &  -0.3908689   &  -0.6036633  \\\\\n",
       "\t  11.703003    &   9.143180    &  12.202055822 &   8.205394    &  10.257324    &   9.86861015  & 11.399829     &  9.668611     &   9.7744392   &  11.2922697  \\\\\n",
       "\t  99.064576    & 100.216306    &  99.801773425 &  97.796639    & 100.283471    &  99.55168223  & 98.488696     & 99.251443     &  98.9916994   & 102.3317704  \\\\\n",
       "\\end{tabular}\n"
      ],
      "text/markdown": [
       "\n",
       "| -10.270747    |  -9.102175    | -11.290873752 | -10.402977    |  -9.623420    | -10.06711502  | -9.602786     | -9.389376     | -10.6388785   |  -8.4227131   |\n",
       "|  -1.185813    |  -1.273825    |   0.009054116 |  -1.652531    |   0.199246    |  -0.02696273  |  1.436711     |  1.619169     |  -0.3908689   |  -0.6036633   |\n",
       "|  11.703003    |   9.143180    |  12.202055822 |   8.205394    |  10.257324    |   9.86861015  | 11.399829     |  9.668611     |   9.7744392   |  11.2922697   |\n",
       "|  99.064576    | 100.216306    |  99.801773425 |  97.796639    | 100.283471    |  99.55168223  | 98.488696     | 99.251443     |  98.9916994   | 102.3317704   |\n",
       "\n"
      ],
      "text/plain": [
       "     [,1]       [,2]       [,3]          [,4]       [,5]       [,6]        \n",
       "[1,] -10.270747  -9.102175 -11.290873752 -10.402977  -9.623420 -10.06711502\n",
       "[2,]  -1.185813  -1.273825   0.009054116  -1.652531   0.199246  -0.02696273\n",
       "[3,]  11.703003   9.143180  12.202055822   8.205394  10.257324   9.86861015\n",
       "[4,]  99.064576 100.216306  99.801773425  97.796639 100.283471  99.55168223\n",
       "     [,7]      [,8]      [,9]        [,10]      \n",
       "[1,] -9.602786 -9.389376 -10.6388785  -8.4227131\n",
       "[2,]  1.436711  1.619169  -0.3908689  -0.6036633\n",
       "[3,] 11.399829  9.668611   9.7744392  11.2922697\n",
       "[4,] 98.488696 99.251443  98.9916994 102.3317704"
      ]
     },
     "metadata": {},
     "output_type": "display_data"
    }
   ],
   "source": [
    "matrix(rnorm(n * length(mu), mean = mu), ncol = n)"
   ]
  },
  {
   "cell_type": "raw",
   "metadata": {},
   "source": [
    "Q2. Eliminate the for loop in each of the following examples by taking advantage of an existing function that works with vectors:"
   ]
  },
  {
   "cell_type": "code",
   "execution_count": 15,
   "metadata": {},
   "outputs": [],
   "source": [
    "# 2a\n",
    "out <- \"\"\n",
    "for (x in letters) {\n",
    "  out <- stringr::str_c(out, x)\n",
    "}\n",
    "\n",
    "# 2b\n",
    "x <- sample(100)\n",
    "sd <- 0\n",
    "for (i in seq_along(x)) {\n",
    "  sd <- sd + (x[i] - mean(x)) ^ 2\n",
    "}\n",
    "sd <- sqrt(sd / (length(x) - 1))\n",
    "\n",
    "# 2c\n",
    "x <- runif(100)\n",
    "out <- vector(\"numeric\", length(x))\n",
    "out[1] <- x[1]\n",
    "for (i in 2:length(x)) {\n",
    "  out[i] <- out[i - 1] + x[i]\n",
    "}"
   ]
  },
  {
   "cell_type": "raw",
   "metadata": {},
   "source": [
    "2a"
   ]
  },
  {
   "cell_type": "code",
   "execution_count": 16,
   "metadata": {},
   "outputs": [
    {
     "data": {
      "text/html": [
       "'ab'"
      ],
      "text/latex": [
       "'ab'"
      ],
      "text/markdown": [
       "'ab'"
      ],
      "text/plain": [
       "[1] \"ab\""
      ]
     },
     "metadata": {},
     "output_type": "display_data"
    },
    {
     "data": {
      "text/html": [
       "'abcdefghijklmnopqrstuvwxyz'"
      ],
      "text/latex": [
       "'abcdefghijklmnopqrstuvwxyz'"
      ],
      "text/markdown": [
       "'abcdefghijklmnopqrstuvwxyz'"
      ],
      "text/plain": [
       "[1] \"abcdefghijklmnopqrstuvwxyz\""
      ]
     },
     "metadata": {},
     "output_type": "display_data"
    }
   ],
   "source": [
    "out <- ''\n",
    "out <- str_c(out, 'a')\n",
    "out <- str_c(out, 'b')\n",
    "out\n",
    "\n",
    "out <- \"\"\n",
    "for (x in letters) {\n",
    "  out <- str_c(out, x)\n",
    "}\n",
    "out\n"
   ]
  },
  {
   "cell_type": "raw",
   "metadata": {},
   "source": [
    "Since str_c() already works with vectors, use str_c() with the collapse argument to return a single string."
   ]
  },
  {
   "cell_type": "code",
   "execution_count": 17,
   "metadata": {},
   "outputs": [
    {
     "data": {
      "text/html": [
       "<ol class=list-inline>\n",
       "\t<li>'a'</li>\n",
       "\t<li>'b'</li>\n",
       "\t<li>'c'</li>\n",
       "\t<li>'d'</li>\n",
       "\t<li>'e'</li>\n",
       "\t<li>'f'</li>\n",
       "\t<li>'g'</li>\n",
       "\t<li>'h'</li>\n",
       "\t<li>'i'</li>\n",
       "\t<li>'j'</li>\n",
       "\t<li>'k'</li>\n",
       "\t<li>'l'</li>\n",
       "\t<li>'m'</li>\n",
       "\t<li>'n'</li>\n",
       "\t<li>'o'</li>\n",
       "\t<li>'p'</li>\n",
       "\t<li>'q'</li>\n",
       "\t<li>'r'</li>\n",
       "\t<li>'s'</li>\n",
       "\t<li>'t'</li>\n",
       "\t<li>'u'</li>\n",
       "\t<li>'v'</li>\n",
       "\t<li>'w'</li>\n",
       "\t<li>'x'</li>\n",
       "\t<li>'y'</li>\n",
       "\t<li>'z'</li>\n",
       "</ol>\n"
      ],
      "text/latex": [
       "\\begin{enumerate*}\n",
       "\\item 'a'\n",
       "\\item 'b'\n",
       "\\item 'c'\n",
       "\\item 'd'\n",
       "\\item 'e'\n",
       "\\item 'f'\n",
       "\\item 'g'\n",
       "\\item 'h'\n",
       "\\item 'i'\n",
       "\\item 'j'\n",
       "\\item 'k'\n",
       "\\item 'l'\n",
       "\\item 'm'\n",
       "\\item 'n'\n",
       "\\item 'o'\n",
       "\\item 'p'\n",
       "\\item 'q'\n",
       "\\item 'r'\n",
       "\\item 's'\n",
       "\\item 't'\n",
       "\\item 'u'\n",
       "\\item 'v'\n",
       "\\item 'w'\n",
       "\\item 'x'\n",
       "\\item 'y'\n",
       "\\item 'z'\n",
       "\\end{enumerate*}\n"
      ],
      "text/markdown": [
       "1. 'a'\n",
       "2. 'b'\n",
       "3. 'c'\n",
       "4. 'd'\n",
       "5. 'e'\n",
       "6. 'f'\n",
       "7. 'g'\n",
       "8. 'h'\n",
       "9. 'i'\n",
       "10. 'j'\n",
       "11. 'k'\n",
       "12. 'l'\n",
       "13. 'm'\n",
       "14. 'n'\n",
       "15. 'o'\n",
       "16. 'p'\n",
       "17. 'q'\n",
       "18. 'r'\n",
       "19. 's'\n",
       "20. 't'\n",
       "21. 'u'\n",
       "22. 'v'\n",
       "23. 'w'\n",
       "24. 'x'\n",
       "25. 'y'\n",
       "26. 'z'\n",
       "\n",
       "\n"
      ],
      "text/plain": [
       " [1] \"a\" \"b\" \"c\" \"d\" \"e\" \"f\" \"g\" \"h\" \"i\" \"j\" \"k\" \"l\" \"m\" \"n\" \"o\" \"p\" \"q\" \"r\" \"s\"\n",
       "[20] \"t\" \"u\" \"v\" \"w\" \"x\" \"y\" \"z\""
      ]
     },
     "metadata": {},
     "output_type": "display_data"
    },
    {
     "data": {
      "text/html": [
       "'abcdefghijklmnopqrstuvwxyz'"
      ],
      "text/latex": [
       "'abcdefghijklmnopqrstuvwxyz'"
      ],
      "text/markdown": [
       "'abcdefghijklmnopqrstuvwxyz'"
      ],
      "text/plain": [
       "[1] \"abcdefghijklmnopqrstuvwxyz\""
      ]
     },
     "metadata": {},
     "output_type": "display_data"
    }
   ],
   "source": [
    "letters\n",
    "str_c(letters, collapse = \"\")"
   ]
  },
  {
   "cell_type": "code",
   "execution_count": 18,
   "metadata": {},
   "outputs": [
    {
     "data": {
      "text/html": [
       "'steve depp'"
      ],
      "text/latex": [
       "'steve depp'"
      ],
      "text/markdown": [
       "'steve depp'"
      ],
      "text/plain": [
       "[1] \"steve depp\""
      ]
     },
     "metadata": {},
     "output_type": "display_data"
    }
   ],
   "source": [
    "(name <- str_c(c('steve','depp'), collapse = ' '))"
   ]
  },
  {
   "cell_type": "raw",
   "metadata": {},
   "source": [
    "2b\n",
    "For this [next one] I’m going to rename the variable sd to something different because sd is the name of the function we want to use.  rename to \"sd.\""
   ]
  },
  {
   "cell_type": "raw",
   "metadata": {},
   "source": [
    "sample(n) gives n items from 0 to n, but if do sample(n, m) it gives m items from 0 to n"
   ]
  },
  {
   "cell_type": "code",
   "execution_count": 19,
   "metadata": {},
   "outputs": [
    {
     "data": {
      "text/html": [
       "<ol class=list-inline>\n",
       "\t<li>2</li>\n",
       "\t<li>30</li>\n",
       "</ol>\n"
      ],
      "text/latex": [
       "\\begin{enumerate*}\n",
       "\\item 2\n",
       "\\item 30\n",
       "\\end{enumerate*}\n"
      ],
      "text/markdown": [
       "1. 2\n",
       "2. 30\n",
       "\n",
       "\n"
      ],
      "text/plain": [
       "[1]  2 30"
      ]
     },
     "metadata": {},
     "output_type": "display_data"
    },
    {
     "data": {
      "text/html": [
       "<ol class=list-inline>\n",
       "\t<li>3</li>\n",
       "\t<li>8</li>\n",
       "\t<li>7</li>\n",
       "\t<li>6</li>\n",
       "\t<li>5</li>\n",
       "\t<li>9</li>\n",
       "\t<li>2</li>\n",
       "\t<li>4</li>\n",
       "\t<li>1</li>\n",
       "</ol>\n"
      ],
      "text/latex": [
       "\\begin{enumerate*}\n",
       "\\item 3\n",
       "\\item 8\n",
       "\\item 7\n",
       "\\item 6\n",
       "\\item 5\n",
       "\\item 9\n",
       "\\item 2\n",
       "\\item 4\n",
       "\\item 1\n",
       "\\end{enumerate*}\n"
      ],
      "text/markdown": [
       "1. 3\n",
       "2. 8\n",
       "3. 7\n",
       "4. 6\n",
       "5. 5\n",
       "6. 9\n",
       "7. 2\n",
       "8. 4\n",
       "9. 1\n",
       "\n",
       "\n"
      ],
      "text/plain": [
       "[1] 3 8 7 6 5 9 2 4 1"
      ]
     },
     "metadata": {},
     "output_type": "display_data"
    },
    {
     "data": {
      "text/html": [
       "<pre class=language-r><code>function (x, size, replace = FALSE, prob = NULL) \n",
       "{\n",
       "<span style=white-space:pre-wrap>    if (length(x) == 1L &amp;&amp; is.numeric(x) &amp;&amp; is.finite(x) &amp;&amp; x &gt;= </span>\n",
       "<span style=white-space:pre-wrap>        1) {</span>\n",
       "<span style=white-space:pre-wrap>        if (missing(size)) </span>\n",
       "<span style=white-space:pre-wrap>            size &lt;- x</span>\n",
       "<span style=white-space:pre-wrap>        sample.int(x, size, replace, prob)</span>\n",
       "<span style=white-space:pre-wrap>    }</span>\n",
       "<span style=white-space:pre-wrap>    else {</span>\n",
       "<span style=white-space:pre-wrap>        if (missing(size)) </span>\n",
       "<span style=white-space:pre-wrap>            size &lt;- length(x)</span>\n",
       "<span style=white-space:pre-wrap>        x[sample.int(length(x), size, replace, prob)]</span>\n",
       "<span style=white-space:pre-wrap>    }</span>\n",
       "}</code></pre>"
      ],
      "text/latex": [
       "\\begin{minted}{r}\n",
       "function (x, size, replace = FALSE, prob = NULL) \n",
       "\\{\n",
       "    if (length(x) == 1L \\&\\& is.numeric(x) \\&\\& is.finite(x) \\&\\& x >= \n",
       "        1) \\{\n",
       "        if (missing(size)) \n",
       "            size <- x\n",
       "        sample.int(x, size, replace, prob)\n",
       "    \\}\n",
       "    else \\{\n",
       "        if (missing(size)) \n",
       "            size <- length(x)\n",
       "        x{[}sample.int(length(x), size, replace, prob){]}\n",
       "    \\}\n",
       "\\}\n",
       "\\end{minted}"
      ],
      "text/markdown": [
       "```r\n",
       "function (x, size, replace = FALSE, prob = NULL) \n",
       "{\n",
       "    if (length(x) == 1L && is.numeric(x) && is.finite(x) && x >= \n",
       "        1) {\n",
       "        if (missing(size)) \n",
       "            size <- x\n",
       "        sample.int(x, size, replace, prob)\n",
       "    }\n",
       "    else {\n",
       "        if (missing(size)) \n",
       "            size <- length(x)\n",
       "        x[sample.int(length(x), size, replace, prob)]\n",
       "    }\n",
       "}\n",
       "```"
      ],
      "text/plain": [
       "function (x, size, replace = FALSE, prob = NULL) \n",
       "{\n",
       "    if (length(x) == 1L && is.numeric(x) && is.finite(x) && x >= \n",
       "        1) {\n",
       "        if (missing(size)) \n",
       "            size <- x\n",
       "        sample.int(x, size, replace, prob)\n",
       "    }\n",
       "    else {\n",
       "        if (missing(size)) \n",
       "            size <- length(x)\n",
       "        x[sample.int(length(x), size, replace, prob)]\n",
       "    }\n",
       "}\n",
       "<bytecode: 0x7f9ce8fc5c38>\n",
       "<environment: namespace:base>"
      ]
     },
     "metadata": {},
     "output_type": "display_data"
    }
   ],
   "source": [
    "sample(100,2);sample(9); sample"
   ]
  },
  {
   "cell_type": "code",
   "execution_count": 20,
   "metadata": {},
   "outputs": [
    {
     "data": {
      "text/html": [
       "29.011491975882"
      ],
      "text/latex": [
       "29.011491975882"
      ],
      "text/markdown": [
       "29.011491975882"
      ],
      "text/plain": [
       "[1] 29.01149"
      ]
     },
     "metadata": {},
     "output_type": "display_data"
    }
   ],
   "source": [
    "x <- sample(100)\n",
    "sd <- 0\n",
    "for (i in seq_along(x)) {\n",
    "  sd <- sd + (x[i] - mean(x)) ^ 2\n",
    "}\n",
    "sd <- sqrt(sd / (length(x) - 1))\n",
    "sd #always the same cuz x is always all number 1-100"
   ]
  },
  {
   "cell_type": "raw",
   "metadata": {},
   "source": [
    "We could simply use the sd function."
   ]
  },
  {
   "cell_type": "code",
   "execution_count": 21,
   "metadata": {},
   "outputs": [
    {
     "data": {
      "text/html": [
       "29.011491975882"
      ],
      "text/latex": [
       "29.011491975882"
      ],
      "text/markdown": [
       "29.011491975882"
      ],
      "text/plain": [
       "[1] 29.01149"
      ]
     },
     "metadata": {},
     "output_type": "display_data"
    },
    {
     "data": {
      "text/html": [
       "29.011491975882"
      ],
      "text/latex": [
       "29.011491975882"
      ],
      "text/markdown": [
       "29.011491975882"
      ],
      "text/plain": [
       "[1] 29.01149"
      ]
     },
     "metadata": {},
     "output_type": "display_data"
    }
   ],
   "source": [
    "x <- sample(100)\n",
    "sd. <- 0\n",
    "for (i in seq_along(x)) {\n",
    "  sd. <- sd. + (x[i] - mean(x))^2\n",
    "}\n",
    "sd. <- sqrt(sd. / (length(x) - 1))\n",
    "sd.\n",
    "sd(x)"
   ]
  },
  {
   "cell_type": "raw",
   "metadata": {},
   "source": [
    "Or if there was a need to use the equation (e.g. for pedagogical reasons), then the functions mean() and sum() already work with vectors:"
   ]
  },
  {
   "cell_type": "code",
   "execution_count": 22,
   "metadata": {},
   "outputs": [
    {
     "data": {
      "text/html": [
       "29.011491975882"
      ],
      "text/latex": [
       "29.011491975882"
      ],
      "text/markdown": [
       "29.011491975882"
      ],
      "text/plain": [
       "[1] 29.01149"
      ]
     },
     "metadata": {},
     "output_type": "display_data"
    }
   ],
   "source": [
    "sqrt(sum((x - mean(x))^2) / (length(x) - 1))"
   ]
  },
  {
   "cell_type": "raw",
   "metadata": {},
   "source": [
    "NN\n",
    "all_equal()\n",
    "********"
   ]
  },
  {
   "cell_type": "code",
   "execution_count": 23,
   "metadata": {},
   "outputs": [
    {
     "data": {
      "text/html": [
       "<ol class=list-inline>\n",
       "\t<li>0.627284296089783</li>\n",
       "\t<li>1.00916336034425</li>\n",
       "\t<li>1.71697283349931</li>\n",
       "\t<li>2.10314562614076</li>\n",
       "\t<li>2.43968909629621</li>\n",
       "\t<li>3.32554982602596</li>\n",
       "\t<li>3.48456545034423</li>\n",
       "\t<li>4.23605310218409</li>\n",
       "\t<li>4.5734815984033</li>\n",
       "\t<li>4.86443631211296</li>\n",
       "\t<li>4.96133360476233</li>\n",
       "\t<li>5.04287537117489</li>\n",
       "\t<li>5.26476968196221</li>\n",
       "\t<li>5.2947523035109</li>\n",
       "\t<li>5.68026660289615</li>\n",
       "\t<li>6.65156779205427</li>\n",
       "\t<li>7.12753117037937</li>\n",
       "\t<li>7.55309909651987</li>\n",
       "\t<li>7.61368605843745</li>\n",
       "\t<li>8.43724396149628</li>\n",
       "\t<li>9.28766165371053</li>\n",
       "\t<li>10.0295086614788</li>\n",
       "\t<li>10.1333341707941</li>\n",
       "\t<li>10.6849962186534</li>\n",
       "\t<li>11.2059349506162</li>\n",
       "\t<li>11.49959978275</li>\n",
       "\t<li>12.4724347861484</li>\n",
       "\t<li>12.7318185085896</li>\n",
       "\t<li>13.6518723547924</li>\n",
       "\t<li>13.9545064121485</li>\n",
       "\t<li>14.7980813889299</li>\n",
       "\t<li>15.4284101044759</li>\n",
       "\t<li>16.4029025891796</li>\n",
       "\t<li>16.8651209976524</li>\n",
       "\t<li>17.543690147344</li>\n",
       "\t<li>18.2533135414124</li>\n",
       "\t<li>19.0062656013761</li>\n",
       "\t<li>19.3272049259394</li>\n",
       "\t<li>19.931469418807</li>\n",
       "\t<li>20.8619143809192</li>\n",
       "\t<li>21.0047623198479</li>\n",
       "\t<li>21.4646004203241</li>\n",
       "\t<li>22.0931377396919</li>\n",
       "\t<li>22.5477037108503</li>\n",
       "\t<li>22.8402584763244</li>\n",
       "\t<li>23.0027847334277</li>\n",
       "\t<li>23.4406892287079</li>\n",
       "\t<li>23.9445188930258</li>\n",
       "\t<li>24.1466369573027</li>\n",
       "\t<li>24.4054798958823</li>\n",
       "\t<li>24.6097727662418</li>\n",
       "\t<li>25.0887725756038</li>\n",
       "\t<li>25.6934043786023</li>\n",
       "\t<li>26.3244643241633</li>\n",
       "\t<li>26.4455114162993</li>\n",
       "\t<li>27.4299689049367</li>\n",
       "\t<li>27.8412207846995</li>\n",
       "\t<li>28.1164340628311</li>\n",
       "\t<li>28.7781739607453</li>\n",
       "\t<li>29.4517522009555</li>\n",
       "\t<li>29.5118694913108</li>\n",
       "\t<li>29.8188473754562</li>\n",
       "\t<li>30.5653560569044</li>\n",
       "\t<li>31.4957716730423</li>\n",
       "\t<li>31.6178666565102</li>\n",
       "\t<li>32.5043111341074</li>\n",
       "\t<li>33.2759361902718</li>\n",
       "\t<li>33.4352360751946</li>\n",
       "\t<li>34.375376165146</li>\n",
       "\t<li>34.4876185883768</li>\n",
       "\t<li>35.1877505399752</li>\n",
       "\t<li>35.8642784599215</li>\n",
       "\t<li>36.7421106128022</li>\n",
       "\t<li>37.1836203616112</li>\n",
       "\t<li>37.7648737286218</li>\n",
       "\t<li>38.0543687378522</li>\n",
       "\t<li>38.9027932218742</li>\n",
       "\t<li>38.9045759676956</li>\n",
       "\t<li>39.6166897602379</li>\n",
       "\t<li>40.6149548047688</li>\n",
       "\t<li>40.6830160778482</li>\n",
       "\t<li>41.1201332600322</li>\n",
       "\t<li>41.9222714260686</li>\n",
       "\t<li>42.2709670234472</li>\n",
       "\t<li>42.4924507196993</li>\n",
       "\t<li>42.5380664665718</li>\n",
       "\t<li>43.0719815287739</li>\n",
       "\t<li>44.0653315482195</li>\n",
       "\t<li>44.9183760788292</li>\n",
       "\t<li>45.440434878692</li>\n",
       "\t<li>46.3277830486186</li>\n",
       "\t<li>47.0812263153493</li>\n",
       "\t<li>47.7793177382555</li>\n",
       "\t<li>48.4392797446344</li>\n",
       "\t<li>48.6185295204632</li>\n",
       "\t<li>49.2743892201688</li>\n",
       "\t<li>49.9463823423721</li>\n",
       "\t<li>50.9123523603193</li>\n",
       "\t<li>51.9065666261595</li>\n",
       "\t<li>52.076496347785</li>\n",
       "</ol>\n"
      ],
      "text/latex": [
       "\\begin{enumerate*}\n",
       "\\item 0.627284296089783\n",
       "\\item 1.00916336034425\n",
       "\\item 1.71697283349931\n",
       "\\item 2.10314562614076\n",
       "\\item 2.43968909629621\n",
       "\\item 3.32554982602596\n",
       "\\item 3.48456545034423\n",
       "\\item 4.23605310218409\n",
       "\\item 4.5734815984033\n",
       "\\item 4.86443631211296\n",
       "\\item 4.96133360476233\n",
       "\\item 5.04287537117489\n",
       "\\item 5.26476968196221\n",
       "\\item 5.2947523035109\n",
       "\\item 5.68026660289615\n",
       "\\item 6.65156779205427\n",
       "\\item 7.12753117037937\n",
       "\\item 7.55309909651987\n",
       "\\item 7.61368605843745\n",
       "\\item 8.43724396149628\n",
       "\\item 9.28766165371053\n",
       "\\item 10.0295086614788\n",
       "\\item 10.1333341707941\n",
       "\\item 10.6849962186534\n",
       "\\item 11.2059349506162\n",
       "\\item 11.49959978275\n",
       "\\item 12.4724347861484\n",
       "\\item 12.7318185085896\n",
       "\\item 13.6518723547924\n",
       "\\item 13.9545064121485\n",
       "\\item 14.7980813889299\n",
       "\\item 15.4284101044759\n",
       "\\item 16.4029025891796\n",
       "\\item 16.8651209976524\n",
       "\\item 17.543690147344\n",
       "\\item 18.2533135414124\n",
       "\\item 19.0062656013761\n",
       "\\item 19.3272049259394\n",
       "\\item 19.931469418807\n",
       "\\item 20.8619143809192\n",
       "\\item 21.0047623198479\n",
       "\\item 21.4646004203241\n",
       "\\item 22.0931377396919\n",
       "\\item 22.5477037108503\n",
       "\\item 22.8402584763244\n",
       "\\item 23.0027847334277\n",
       "\\item 23.4406892287079\n",
       "\\item 23.9445188930258\n",
       "\\item 24.1466369573027\n",
       "\\item 24.4054798958823\n",
       "\\item 24.6097727662418\n",
       "\\item 25.0887725756038\n",
       "\\item 25.6934043786023\n",
       "\\item 26.3244643241633\n",
       "\\item 26.4455114162993\n",
       "\\item 27.4299689049367\n",
       "\\item 27.8412207846995\n",
       "\\item 28.1164340628311\n",
       "\\item 28.7781739607453\n",
       "\\item 29.4517522009555\n",
       "\\item 29.5118694913108\n",
       "\\item 29.8188473754562\n",
       "\\item 30.5653560569044\n",
       "\\item 31.4957716730423\n",
       "\\item 31.6178666565102\n",
       "\\item 32.5043111341074\n",
       "\\item 33.2759361902718\n",
       "\\item 33.4352360751946\n",
       "\\item 34.375376165146\n",
       "\\item 34.4876185883768\n",
       "\\item 35.1877505399752\n",
       "\\item 35.8642784599215\n",
       "\\item 36.7421106128022\n",
       "\\item 37.1836203616112\n",
       "\\item 37.7648737286218\n",
       "\\item 38.0543687378522\n",
       "\\item 38.9027932218742\n",
       "\\item 38.9045759676956\n",
       "\\item 39.6166897602379\n",
       "\\item 40.6149548047688\n",
       "\\item 40.6830160778482\n",
       "\\item 41.1201332600322\n",
       "\\item 41.9222714260686\n",
       "\\item 42.2709670234472\n",
       "\\item 42.4924507196993\n",
       "\\item 42.5380664665718\n",
       "\\item 43.0719815287739\n",
       "\\item 44.0653315482195\n",
       "\\item 44.9183760788292\n",
       "\\item 45.440434878692\n",
       "\\item 46.3277830486186\n",
       "\\item 47.0812263153493\n",
       "\\item 47.7793177382555\n",
       "\\item 48.4392797446344\n",
       "\\item 48.6185295204632\n",
       "\\item 49.2743892201688\n",
       "\\item 49.9463823423721\n",
       "\\item 50.9123523603193\n",
       "\\item 51.9065666261595\n",
       "\\item 52.076496347785\n",
       "\\end{enumerate*}\n"
      ],
      "text/markdown": [
       "1. 0.627284296089783\n",
       "2. 1.00916336034425\n",
       "3. 1.71697283349931\n",
       "4. 2.10314562614076\n",
       "5. 2.43968909629621\n",
       "6. 3.32554982602596\n",
       "7. 3.48456545034423\n",
       "8. 4.23605310218409\n",
       "9. 4.5734815984033\n",
       "10. 4.86443631211296\n",
       "11. 4.96133360476233\n",
       "12. 5.04287537117489\n",
       "13. 5.26476968196221\n",
       "14. 5.2947523035109\n",
       "15. 5.68026660289615\n",
       "16. 6.65156779205427\n",
       "17. 7.12753117037937\n",
       "18. 7.55309909651987\n",
       "19. 7.61368605843745\n",
       "20. 8.43724396149628\n",
       "21. 9.28766165371053\n",
       "22. 10.0295086614788\n",
       "23. 10.1333341707941\n",
       "24. 10.6849962186534\n",
       "25. 11.2059349506162\n",
       "26. 11.49959978275\n",
       "27. 12.4724347861484\n",
       "28. 12.7318185085896\n",
       "29. 13.6518723547924\n",
       "30. 13.9545064121485\n",
       "31. 14.7980813889299\n",
       "32. 15.4284101044759\n",
       "33. 16.4029025891796\n",
       "34. 16.8651209976524\n",
       "35. 17.543690147344\n",
       "36. 18.2533135414124\n",
       "37. 19.0062656013761\n",
       "38. 19.3272049259394\n",
       "39. 19.931469418807\n",
       "40. 20.8619143809192\n",
       "41. 21.0047623198479\n",
       "42. 21.4646004203241\n",
       "43. 22.0931377396919\n",
       "44. 22.5477037108503\n",
       "45. 22.8402584763244\n",
       "46. 23.0027847334277\n",
       "47. 23.4406892287079\n",
       "48. 23.9445188930258\n",
       "49. 24.1466369573027\n",
       "50. 24.4054798958823\n",
       "51. 24.6097727662418\n",
       "52. 25.0887725756038\n",
       "53. 25.6934043786023\n",
       "54. 26.3244643241633\n",
       "55. 26.4455114162993\n",
       "56. 27.4299689049367\n",
       "57. 27.8412207846995\n",
       "58. 28.1164340628311\n",
       "59. 28.7781739607453\n",
       "60. 29.4517522009555\n",
       "61. 29.5118694913108\n",
       "62. 29.8188473754562\n",
       "63. 30.5653560569044\n",
       "64. 31.4957716730423\n",
       "65. 31.6178666565102\n",
       "66. 32.5043111341074\n",
       "67. 33.2759361902718\n",
       "68. 33.4352360751946\n",
       "69. 34.375376165146\n",
       "70. 34.4876185883768\n",
       "71. 35.1877505399752\n",
       "72. 35.8642784599215\n",
       "73. 36.7421106128022\n",
       "74. 37.1836203616112\n",
       "75. 37.7648737286218\n",
       "76. 38.0543687378522\n",
       "77. 38.9027932218742\n",
       "78. 38.9045759676956\n",
       "79. 39.6166897602379\n",
       "80. 40.6149548047688\n",
       "81. 40.6830160778482\n",
       "82. 41.1201332600322\n",
       "83. 41.9222714260686\n",
       "84. 42.2709670234472\n",
       "85. 42.4924507196993\n",
       "86. 42.5380664665718\n",
       "87. 43.0719815287739\n",
       "88. 44.0653315482195\n",
       "89. 44.9183760788292\n",
       "90. 45.440434878692\n",
       "91. 46.3277830486186\n",
       "92. 47.0812263153493\n",
       "93. 47.7793177382555\n",
       "94. 48.4392797446344\n",
       "95. 48.6185295204632\n",
       "96. 49.2743892201688\n",
       "97. 49.9463823423721\n",
       "98. 50.9123523603193\n",
       "99. 51.9065666261595\n",
       "100. 52.076496347785\n",
       "\n",
       "\n"
      ],
      "text/plain": [
       "  [1]  0.6272843  1.0091634  1.7169728  2.1031456  2.4396891  3.3255498\n",
       "  [7]  3.4845655  4.2360531  4.5734816  4.8644363  4.9613336  5.0428754\n",
       " [13]  5.2647697  5.2947523  5.6802666  6.6515678  7.1275312  7.5530991\n",
       " [19]  7.6136861  8.4372440  9.2876617 10.0295087 10.1333342 10.6849962\n",
       " [25] 11.2059350 11.4995998 12.4724348 12.7318185 13.6518724 13.9545064\n",
       " [31] 14.7980814 15.4284101 16.4029026 16.8651210 17.5436901 18.2533135\n",
       " [37] 19.0062656 19.3272049 19.9314694 20.8619144 21.0047623 21.4646004\n",
       " [43] 22.0931377 22.5477037 22.8402585 23.0027847 23.4406892 23.9445189\n",
       " [49] 24.1466370 24.4054799 24.6097728 25.0887726 25.6934044 26.3244643\n",
       " [55] 26.4455114 27.4299689 27.8412208 28.1164341 28.7781740 29.4517522\n",
       " [61] 29.5118695 29.8188474 30.5653561 31.4957717 31.6178667 32.5043111\n",
       " [67] 33.2759362 33.4352361 34.3753762 34.4876186 35.1877505 35.8642785\n",
       " [73] 36.7421106 37.1836204 37.7648737 38.0543687 38.9027932 38.9045760\n",
       " [79] 39.6166898 40.6149548 40.6830161 41.1201333 41.9222714 42.2709670\n",
       " [85] 42.4924507 42.5380665 43.0719815 44.0653315 44.9183761 45.4404349\n",
       " [91] 46.3277830 47.0812263 47.7793177 48.4392797 48.6185295 49.2743892\n",
       " [97] 49.9463823 50.9123524 51.9065666 52.0764963"
      ]
     },
     "metadata": {},
     "output_type": "display_data"
    },
    {
     "data": {
      "text/html": [
       "TRUE"
      ],
      "text/latex": [
       "TRUE"
      ],
      "text/markdown": [
       "TRUE"
      ],
      "text/plain": [
       "[1] TRUE"
      ]
     },
     "metadata": {},
     "output_type": "display_data"
    }
   ],
   "source": [
    "# 2c\n",
    "\n",
    "x <- runif(100)\n",
    "out <- vector(\"numeric\", length(x))\n",
    "out[1] <- x[1]\n",
    "for (i in 2:length(x)) {\n",
    "  out[i] <- out[i - 1] + x[i]\n",
    "}\n",
    "out\n",
    "#The code above is calculating a cumulative sum. Use the function cumsum()\n",
    "all.equal(cumsum(x), out)"
   ]
  },
  {
   "cell_type": "raw",
   "metadata": {},
   "source": [
    "Q3. Combine your function writing and for loop skills:"
   ]
  },
  {
   "cell_type": "raw",
   "metadata": {},
   "source": [
    "Q3a. Write a for loop that prints() the lyrics to the children’s song “Alice the camel”.\n",
    "\n",
    "The lyrics for Alice the Camel are:\n",
    "\n",
    "Alice the camel has five humps.\n",
    "Alice the camel has five humps.\n",
    "Alice the camel has five humps.\n",
    "So go, Alice, go.\n",
    "\n",
    "This verse is repeated, each time with one fewer hump, until there are no humps. The last verse, with no humps, is:\n",
    "\n",
    "Alice the camel has no humps.\n",
    "Alice the camel has no humps.\n",
    "Alice the camel has no humps.\n",
    "Now Alice is a horse.\n",
    "\n",
    "We’ll iterate from five to no humps, and print out a different last line if there are no humps."
   ]
  },
  {
   "cell_type": "raw",
   "metadata": {},
   "source": [
    "heres how cat and str_c work togetehr ******\n",
    "cat takes a str buiolt by str_c"
   ]
  },
  {
   "cell_type": "code",
   "execution_count": 24,
   "metadata": {},
   "outputs": [
    {
     "name": "stdout",
     "output_type": "stream",
     "text": [
      "gg gg \n"
     ]
    },
    {
     "data": {
      "text/html": [
       "<ol class=list-inline>\n",
       "\t<li>'fig'</li>\n",
       "\t<li>'fig'</li>\n",
       "\t<li>'fig'</li>\n",
       "</ol>\n"
      ],
      "text/latex": [
       "\\begin{enumerate*}\n",
       "\\item 'fig'\n",
       "\\item 'fig'\n",
       "\\item 'fig'\n",
       "\\end{enumerate*}\n"
      ],
      "text/markdown": [
       "1. 'fig'\n",
       "2. 'fig'\n",
       "3. 'fig'\n",
       "\n",
       "\n"
      ],
      "text/plain": [
       "[1] \"fig\" \"fig\" \"fig\""
      ]
     },
     "metadata": {},
     "output_type": "display_data"
    },
    {
     "data": {
      "text/html": [
       "'Alice the camel has five humps.\\nAlice the camel has five humps.\\nAlice the camel has five humps.'"
      ],
      "text/latex": [
       "'Alice the camel has five humps.\\textbackslash{}nAlice the camel has five humps.\\textbackslash{}nAlice the camel has five humps.'"
      ],
      "text/markdown": [
       "'Alice the camel has five humps.\\nAlice the camel has five humps.\\nAlice the camel has five humps.'"
      ],
      "text/plain": [
       "[1] \"Alice the camel has five humps.\\nAlice the camel has five humps.\\nAlice the camel has five humps.\""
      ]
     },
     "metadata": {},
     "output_type": "display_data"
    },
    {
     "name": "stdout",
     "output_type": "stream",
     "text": [
      "Alice the camel has five humps.\n",
      "Alice the camel has five humps.\n",
      "Alice the camel has five humps. \n"
     ]
    },
    {
     "data": {
      "text/plain": [
       "NULL"
      ]
     },
     "metadata": {},
     "output_type": "display_data"
    },
    {
     "name": "stdout",
     "output_type": "stream",
     "text": [
      "Alice the camel has five humps.\n",
      "Alice the camel has five humps.\n",
      "Alice the camel has five humps. \n"
     ]
    }
   ],
   "source": [
    "cat('gg','gg', \"\\n\")\n",
    "rep(\"fig\", 3)\n",
    "\n",
    "someverse<- str_c(\"Alice the camel has \", rep('five', 3), \" humps.\",collapse = \"\\n\")\n",
    "someverse\n",
    "\n",
    "somereprise <- cat(someverse,'\\n')\n",
    "somereprise\n",
    "cat(str_c(\"Alice the camel has \", rep('five', 3), \" humps.\",\n",
    "    collapse = \"\\n\"\n",
    "  ), \"\\n\")"
   ]
  },
  {
   "cell_type": "code",
   "execution_count": 25,
   "metadata": {},
   "outputs": [
    {
     "name": "stdout",
     "output_type": "stream",
     "text": [
      "Alice the camel has five humps.\n",
      "Alice the camel has five humps.\n",
      "Alice the camel has five humps. \n",
      "So go, Alice, go.\n",
      "\n",
      "Alice the camel has four humps.\n",
      "Alice the camel has four humps.\n",
      "Alice the camel has four humps. \n",
      "So go, Alice, go.\n",
      "\n",
      "Alice the camel has three humps.\n",
      "Alice the camel has three humps.\n",
      "Alice the camel has three humps. \n",
      "So go, Alice, go.\n",
      "\n",
      "Alice the camel has two humps.\n",
      "Alice the camel has two humps.\n",
      "Alice the camel has two humps. \n",
      "So go, Alice, go.\n",
      "\n",
      "Alice the camel has one humps.\n",
      "Alice the camel has one humps.\n",
      "Alice the camel has one humps. \n",
      "So go, Alice, go.\n",
      "\n",
      "Alice the camel has no humps.\n",
      "Alice the camel has no humps.\n",
      "Alice the camel has no humps. \n",
      "Now Alice is a horse.\n",
      "\n"
     ]
    }
   ],
   "source": [
    "humps <- c(\"five\", \"four\", \"three\", \"two\", \"one\", \"no\")\n",
    "for (i in humps) {\n",
    "  cat(str_c(\"Alice the camel has \", rep(i, 3), \" humps.\",\n",
    "    collapse = \"\\n\"\n",
    "  ), \"\\n\")\n",
    "  if (i == \"no\") {\n",
    "    cat(\"Now Alice is a horse.\\n\")\n",
    "  } else {\n",
    "    cat(\"So go, Alice, go.\\n\")\n",
    "  }\n",
    "  cat(\"\\n\")\n",
    "}"
   ]
  },
  {
   "cell_type": "raw",
   "metadata": {},
   "source": [
    "Q3b. Convert the nursery rhyme “ten in the bed” to a function. Generalise it to any number of people in any sleeping structure.\n",
    "\n",
    "Here we go!\n",
    "There were ten in the bed\n",
    "and the little one said,\n",
    "“Roll over, roll over.”\n",
    "So they all rolled over and one fell out.\n",
    "\n",
    "This verse is repeated, each time with one fewer in the bed, until there is one left. That last verse is:\n",
    "\n",
    "One! There was one in the bed\n",
    "and the little one said,\n",
    "“I’m lonely…”"
   ]
  },
  {
   "cell_type": "code",
   "execution_count": 26,
   "metadata": {},
   "outputs": [
    {
     "name": "stdout",
     "output_type": "stream",
     "text": [
      "There were ten in the bed\n",
      "and the little one said\n",
      "Roll over, roll over\n",
      "So they all rolled over and one fell out.\n",
      "\n",
      "There were nine in the bed\n",
      "and the little one said\n",
      "Roll over, roll over\n",
      "So they all rolled over and one fell out.\n",
      "\n",
      "There were eight in the bed\n",
      "and the little one said\n",
      "Roll over, roll over\n",
      "So they all rolled over and one fell out.\n",
      "\n",
      "There were seven in the bed\n",
      "and the little one said\n",
      "Roll over, roll over\n",
      "So they all rolled over and one fell out.\n",
      "\n",
      "There were six in the bed\n",
      "and the little one said\n",
      "Roll over, roll over\n",
      "So they all rolled over and one fell out.\n",
      "\n",
      "There were five in the bed\n",
      "and the little one said\n",
      "Roll over, roll over\n",
      "So they all rolled over and one fell out.\n",
      "\n",
      "There were four in the bed\n",
      "and the little one said\n",
      "Roll over, roll over\n",
      "So they all rolled over and one fell out.\n",
      "\n",
      "There were three in the bed\n",
      "and the little one said\n",
      "Roll over, roll over\n",
      "So they all rolled over and one fell out.\n",
      "\n",
      "There were two in the bed\n",
      "and the little one said\n",
      "Roll over, roll over\n",
      "So they all rolled over and one fell out.\n",
      "\n",
      "There were one in the bed\n",
      "and the little one said\n",
      "I'm lonely...\n"
     ]
    }
   ],
   "source": [
    "numbers <- c(\n",
    "  \"ten\", \"nine\", \"eight\", \"seven\", \"six\", \"five\",\n",
    "  \"four\", \"three\", \"two\", \"one\"\n",
    ")\n",
    "for (i in numbers) {\n",
    "  cat(str_c(\"There were \", i, \" in the bed\\n\"))\n",
    "  cat(\"and the little one said\\n\")\n",
    "  if (i == \"one\") {\n",
    "    cat(\"I'm lonely...\")\n",
    "  } else {\n",
    "    cat(\"Roll over, roll over\\n\")\n",
    "    cat(\"So they all rolled over and one fell out.\\n\")\n",
    "  }\n",
    "  cat(\"\\n\")\n",
    "}"
   ]
  },
  {
   "cell_type": "raw",
   "metadata": {},
   "source": [
    "Q3c. Convert the song “99 bottles of beer on the wall” to a function. Generalise to any number of any vessel containing any liquid on any surface.\n",
    "\n",
    "Take one down, pass it around, 98 bottles of beer on the wall\n",
    "\n",
    "This verse is repeated, each time with one few bottle, until there are no more bottles of beer. The last verse is\n",
    "\n",
    "No more bottles of beer on the wall, no more bottles of beer.\n",
    "We’ve taken them down and passed them around; now we’re drunk and passed out!\n",
    "\n",
    "For the bottles of beer, I define a helper function to correctly print the number of bottles.\n",
    "\n"
   ]
  },
  {
   "cell_type": "code",
   "execution_count": 27,
   "metadata": {},
   "outputs": [
    {
     "name": "stdout",
     "output_type": "stream",
     "text": [
      "3 Bottles of beer on the wall, 3 bottles of beer.\n",
      "Take one down and pass it around, 2 bottles of beer on the wall.\n",
      "\n",
      "2 Bottles of beer on the wall, 2 bottles of beer.\n",
      "Take one down and pass it around, 1 bottle of beer on the wall.\n",
      "\n",
      "1 Bottle of beer on the wall, 1 bottle of beer.\n",
      "Take one down and pass it around, no more bottles of beer on the wall.\n",
      "\n",
      "No more bottles of beer on the wall, no more bottles of beer.\n",
      "Go to the store and buy some more, 3 bottles of beer on the wall.\n",
      "\n"
     ]
    }
   ],
   "source": [
    "bottles <- function(n) {\n",
    "  if (n > 1) {\n",
    "    str_c(n, \" bottles\")\n",
    "  } else if (n == 1) {\n",
    "    \"1 bottle\"\n",
    "  } else {\n",
    "    \"no more bottles\"\n",
    "  }\n",
    "}\n",
    "\n",
    "beer_bottles <- function(total_bottles) {\n",
    "  # print each lyric\n",
    "  for (current_bottles in seq(total_bottles, 0)) {\n",
    "    # first line\n",
    "    cat(str_to_sentence(str_c(bottles(current_bottles), \" of beer on the wall, \", bottles(current_bottles), \" of beer.\\n\")))\n",
    "    # second line\n",
    "    if (current_bottles > 0) {\n",
    "      cat(str_c(\n",
    "        \"Take one down and pass it around, \", bottles(current_bottles - 1),\n",
    "        \" of beer on the wall.\\n\"\n",
    "      ))\n",
    "    } else {\n",
    "      cat(str_c(\"Go to the store and buy some more, \", bottles(total_bottles), \" of beer on the wall.\\n\"))\n",
    "    }\n",
    "    cat(\"\\n\")\n",
    "  }\n",
    "}\n",
    "beer_bottles(3)"
   ]
  },
  {
   "cell_type": "raw",
   "metadata": {},
   "source": [
    "Q4. It’s common to see for loops that don’t preallocate the output and instead increase the length of a vector at each step:\n",
    "\n",
    "NN\n",
    "preallocate\n",
    "microbenchmark\n",
    "*******"
   ]
  },
  {
   "cell_type": "code",
   "execution_count": 28,
   "metadata": {},
   "outputs": [
    {
     "data": {
      "text/html": [
       "<ol class=list-inline>\n",
       "\t<li>1</li>\n",
       "\t<li>1</li>\n",
       "\t<li>1</li>\n",
       "\t<li>1</li>\n",
       "\t<li>1</li>\n",
       "\t<li>1</li>\n",
       "\t<li>1</li>\n",
       "\t<li>1</li>\n",
       "\t<li>1</li>\n",
       "\t<li>1</li>\n",
       "\t<li>1</li>\n",
       "\t<li>1</li>\n",
       "\t<li>1</li>\n",
       "\t<li>1</li>\n",
       "\t<li>1</li>\n",
       "\t<li>1</li>\n",
       "\t<li>1</li>\n",
       "\t<li>1</li>\n",
       "\t<li>1</li>\n",
       "\t<li>1</li>\n",
       "\t<li>1</li>\n",
       "\t<li>1</li>\n",
       "\t<li>1</li>\n",
       "\t<li>1</li>\n",
       "\t<li>1</li>\n",
       "\t<li>1</li>\n",
       "\t<li>1</li>\n",
       "\t<li>1</li>\n",
       "\t<li>1</li>\n",
       "\t<li>1</li>\n",
       "\t<li>1</li>\n",
       "\t<li>1</li>\n",
       "\t<li>1</li>\n",
       "\t<li>1</li>\n",
       "\t<li>1</li>\n",
       "\t<li>1</li>\n",
       "\t<li>1</li>\n",
       "\t<li>1</li>\n",
       "\t<li>1</li>\n",
       "\t<li>1</li>\n",
       "\t<li>1</li>\n",
       "\t<li>1</li>\n",
       "\t<li>1</li>\n",
       "\t<li>1</li>\n",
       "\t<li>1</li>\n",
       "\t<li>1</li>\n",
       "\t<li>1</li>\n",
       "\t<li>1</li>\n",
       "\t<li>1</li>\n",
       "\t<li>1</li>\n",
       "\t<li>1</li>\n",
       "\t<li>1</li>\n",
       "\t<li>1</li>\n",
       "\t<li>1</li>\n",
       "\t<li>1</li>\n",
       "\t<li>1</li>\n",
       "\t<li>1</li>\n",
       "\t<li>1</li>\n",
       "\t<li>1</li>\n",
       "\t<li>1</li>\n",
       "\t<li>1</li>\n",
       "\t<li>1</li>\n",
       "\t<li>1</li>\n",
       "\t<li>1</li>\n",
       "\t<li>1</li>\n",
       "\t<li>1</li>\n",
       "\t<li>1</li>\n",
       "\t<li>1</li>\n",
       "\t<li>1</li>\n",
       "\t<li>1</li>\n",
       "\t<li>1</li>\n",
       "\t<li>1</li>\n",
       "\t<li>1</li>\n",
       "\t<li>1</li>\n",
       "\t<li>1</li>\n",
       "\t<li>1</li>\n",
       "\t<li>1</li>\n",
       "\t<li>1</li>\n",
       "\t<li>1</li>\n",
       "\t<li>1</li>\n",
       "\t<li>1</li>\n",
       "\t<li>1</li>\n",
       "\t<li>1</li>\n",
       "\t<li>1</li>\n",
       "\t<li>1</li>\n",
       "\t<li>1</li>\n",
       "\t<li>1</li>\n",
       "\t<li>1</li>\n",
       "\t<li>1</li>\n",
       "\t<li>1</li>\n",
       "\t<li>1</li>\n",
       "\t<li>1</li>\n",
       "\t<li>1</li>\n",
       "\t<li>1</li>\n",
       "\t<li>1</li>\n",
       "\t<li>1</li>\n",
       "\t<li>1</li>\n",
       "\t<li>1</li>\n",
       "\t<li>1</li>\n",
       "\t<li>1</li>\n",
       "</ol>\n"
      ],
      "text/latex": [
       "\\begin{enumerate*}\n",
       "\\item 1\n",
       "\\item 1\n",
       "\\item 1\n",
       "\\item 1\n",
       "\\item 1\n",
       "\\item 1\n",
       "\\item 1\n",
       "\\item 1\n",
       "\\item 1\n",
       "\\item 1\n",
       "\\item 1\n",
       "\\item 1\n",
       "\\item 1\n",
       "\\item 1\n",
       "\\item 1\n",
       "\\item 1\n",
       "\\item 1\n",
       "\\item 1\n",
       "\\item 1\n",
       "\\item 1\n",
       "\\item 1\n",
       "\\item 1\n",
       "\\item 1\n",
       "\\item 1\n",
       "\\item 1\n",
       "\\item 1\n",
       "\\item 1\n",
       "\\item 1\n",
       "\\item 1\n",
       "\\item 1\n",
       "\\item 1\n",
       "\\item 1\n",
       "\\item 1\n",
       "\\item 1\n",
       "\\item 1\n",
       "\\item 1\n",
       "\\item 1\n",
       "\\item 1\n",
       "\\item 1\n",
       "\\item 1\n",
       "\\item 1\n",
       "\\item 1\n",
       "\\item 1\n",
       "\\item 1\n",
       "\\item 1\n",
       "\\item 1\n",
       "\\item 1\n",
       "\\item 1\n",
       "\\item 1\n",
       "\\item 1\n",
       "\\item 1\n",
       "\\item 1\n",
       "\\item 1\n",
       "\\item 1\n",
       "\\item 1\n",
       "\\item 1\n",
       "\\item 1\n",
       "\\item 1\n",
       "\\item 1\n",
       "\\item 1\n",
       "\\item 1\n",
       "\\item 1\n",
       "\\item 1\n",
       "\\item 1\n",
       "\\item 1\n",
       "\\item 1\n",
       "\\item 1\n",
       "\\item 1\n",
       "\\item 1\n",
       "\\item 1\n",
       "\\item 1\n",
       "\\item 1\n",
       "\\item 1\n",
       "\\item 1\n",
       "\\item 1\n",
       "\\item 1\n",
       "\\item 1\n",
       "\\item 1\n",
       "\\item 1\n",
       "\\item 1\n",
       "\\item 1\n",
       "\\item 1\n",
       "\\item 1\n",
       "\\item 1\n",
       "\\item 1\n",
       "\\item 1\n",
       "\\item 1\n",
       "\\item 1\n",
       "\\item 1\n",
       "\\item 1\n",
       "\\item 1\n",
       "\\item 1\n",
       "\\item 1\n",
       "\\item 1\n",
       "\\item 1\n",
       "\\item 1\n",
       "\\item 1\n",
       "\\item 1\n",
       "\\item 1\n",
       "\\item 1\n",
       "\\end{enumerate*}\n"
      ],
      "text/markdown": [
       "1. 1\n",
       "2. 1\n",
       "3. 1\n",
       "4. 1\n",
       "5. 1\n",
       "6. 1\n",
       "7. 1\n",
       "8. 1\n",
       "9. 1\n",
       "10. 1\n",
       "11. 1\n",
       "12. 1\n",
       "13. 1\n",
       "14. 1\n",
       "15. 1\n",
       "16. 1\n",
       "17. 1\n",
       "18. 1\n",
       "19. 1\n",
       "20. 1\n",
       "21. 1\n",
       "22. 1\n",
       "23. 1\n",
       "24. 1\n",
       "25. 1\n",
       "26. 1\n",
       "27. 1\n",
       "28. 1\n",
       "29. 1\n",
       "30. 1\n",
       "31. 1\n",
       "32. 1\n",
       "33. 1\n",
       "34. 1\n",
       "35. 1\n",
       "36. 1\n",
       "37. 1\n",
       "38. 1\n",
       "39. 1\n",
       "40. 1\n",
       "41. 1\n",
       "42. 1\n",
       "43. 1\n",
       "44. 1\n",
       "45. 1\n",
       "46. 1\n",
       "47. 1\n",
       "48. 1\n",
       "49. 1\n",
       "50. 1\n",
       "51. 1\n",
       "52. 1\n",
       "53. 1\n",
       "54. 1\n",
       "55. 1\n",
       "56. 1\n",
       "57. 1\n",
       "58. 1\n",
       "59. 1\n",
       "60. 1\n",
       "61. 1\n",
       "62. 1\n",
       "63. 1\n",
       "64. 1\n",
       "65. 1\n",
       "66. 1\n",
       "67. 1\n",
       "68. 1\n",
       "69. 1\n",
       "70. 1\n",
       "71. 1\n",
       "72. 1\n",
       "73. 1\n",
       "74. 1\n",
       "75. 1\n",
       "76. 1\n",
       "77. 1\n",
       "78. 1\n",
       "79. 1\n",
       "80. 1\n",
       "81. 1\n",
       "82. 1\n",
       "83. 1\n",
       "84. 1\n",
       "85. 1\n",
       "86. 1\n",
       "87. 1\n",
       "88. 1\n",
       "89. 1\n",
       "90. 1\n",
       "91. 1\n",
       "92. 1\n",
       "93. 1\n",
       "94. 1\n",
       "95. 1\n",
       "96. 1\n",
       "97. 1\n",
       "98. 1\n",
       "99. 1\n",
       "100. 1\n",
       "\n",
       "\n"
      ],
      "text/plain": [
       "  [1] 1 1 1 1 1 1 1 1 1 1 1 1 1 1 1 1 1 1 1 1 1 1 1 1 1 1 1 1 1 1 1 1 1 1 1 1 1\n",
       " [38] 1 1 1 1 1 1 1 1 1 1 1 1 1 1 1 1 1 1 1 1 1 1 1 1 1 1 1 1 1 1 1 1 1 1 1 1 1\n",
       " [75] 1 1 1 1 1 1 1 1 1 1 1 1 1 1 1 1 1 1 1 1 1 1 1 1 1 1"
      ]
     },
     "metadata": {},
     "output_type": "display_data"
    }
   ],
   "source": [
    "output <- vector(\"integer\", 0)\n",
    "for (i in seq_along(x)) {\n",
    "  output <- c(output, lengths(x[[i]]))\n",
    "}\n",
    "output"
   ]
  },
  {
   "cell_type": "raw",
   "metadata": {},
   "source": [
    "How does this affect performance? Design and execute an experiment."
   ]
  },
  {
   "cell_type": "raw",
   "metadata": {},
   "source": [
    "In order to compare these two approaches, I’ll define two functions: add_to_vector will append to a vector, like the example in the question, and add_to_vector_2 which pre-allocates a vector."
   ]
  },
  {
   "cell_type": "code",
   "execution_count": 29,
   "metadata": {},
   "outputs": [],
   "source": [
    "add_to_vector <- function(n) {\n",
    "  output <- vector(\"integer\", 0)\n",
    "  for (i in seq_len(n)) {\n",
    "    output <- c(output, i)\n",
    "  }\n",
    "  output\n",
    "}"
   ]
  },
  {
   "cell_type": "code",
   "execution_count": 30,
   "metadata": {},
   "outputs": [],
   "source": [
    "add_to_vector_2 <- function(n) {\n",
    "  output <- vector(\"integer\", n)\n",
    "  for (i in seq_len(n)) {\n",
    "    output[[i]] <- i\n",
    "  }\n",
    "  output\n",
    "}"
   ]
  },
  {
   "cell_type": "raw",
   "metadata": {},
   "source": [
    "I’ll use the package microbenchmark to run these functions several times and compare the time it takes. The package microbenchmark contains utilities for benchmarking R expressions. In particular, the microbenchmark() function will run an R expression a number of times and time it."
   ]
  },
  {
   "cell_type": "code",
   "execution_count": 31,
   "metadata": {},
   "outputs": [],
   "source": [
    "library( 'microbenchmark')"
   ]
  },
  {
   "cell_type": "code",
   "execution_count": 32,
   "metadata": {},
   "outputs": [
    {
     "data": {
      "text/html": [
       "<table>\n",
       "<thead><tr><th scope=col>expr</th><th scope=col>mean(time)</th></tr></thead>\n",
       "<tbody>\n",
       "\t<tr><td>add_to_vector(10000)  </td><td>116894574.8           </td></tr>\n",
       "\t<tr><td>add_to_vector_2(10000)</td><td>   612716.1           </td></tr>\n",
       "</tbody>\n",
       "</table>\n"
      ],
      "text/latex": [
       "\\begin{tabular}{r|ll}\n",
       " expr & mean(time)\\\\\n",
       "\\hline\n",
       "\t add\\_to\\_vector(10000)   & 116894574.8               \\\\\n",
       "\t add\\_to\\_vector\\_2(10000) &    612716.1                 \\\\\n",
       "\\end{tabular}\n"
      ],
      "text/markdown": [
       "\n",
       "| expr | mean(time) |\n",
       "|---|---|\n",
       "| add_to_vector(10000)   | 116894574.8            |\n",
       "| add_to_vector_2(10000) |    612716.1            |\n",
       "\n"
      ],
      "text/plain": [
       "  expr                   mean(time) \n",
       "1 add_to_vector(10000)   116894574.8\n",
       "2 add_to_vector_2(10000)    612716.1"
      ]
     },
     "metadata": {},
     "output_type": "display_data"
    },
    {
     "data": {
      "text/html": [
       "247.139156909693"
      ],
      "text/latex": [
       "247.139156909693"
      ],
      "text/markdown": [
       "247.139156909693"
      ],
      "text/plain": [
       "[1] 247.1392"
      ]
     },
     "metadata": {},
     "output_type": "display_data"
    }
   ],
   "source": [
    "timings <- microbenchmark(add_to_vector(10000), add_to_vector_2(10000), times = 10)\n",
    "group_by(timings, expr) %>% summarize(mean(time))\n",
    "108089374.8/437362.4"
   ]
  },
  {
   "cell_type": "raw",
   "metadata": {},
   "source": [
    "In this example, appending to a vector takes 183 times longer than pre-allocating the vector. You may get different answers, but the longer the vector and the larger the objects, the more that pre-allocation will outperform appending."
   ]
  },
  {
   "cell_type": "raw",
   "metadata": {},
   "source": [
    "21.3 For loop variations"
   ]
  },
  {
   "cell_type": "raw",
   "metadata": {},
   "source": [
    "Once you have the basic for loop under your belt, there are some variations that you should be aware of. These variations are important regardless of how you do iteration, so don’t forget about them once you’ve mastered the FP techniques you’ll learn about in the next section.\n",
    "\n",
    "There are four variations on the basic theme of the for loop:\n",
    "*****\n",
    "1.    Modifying an existing object, instead of creating a new object.\n",
    "2.    Looping over names or values, instead of indices.\n",
    "3.    Handling outputs of unknown length.\n",
    "4.    Handling sequences of unknown length."
   ]
  },
  {
   "cell_type": "raw",
   "metadata": {},
   "source": [
    "21.3.1 Modifying an existing object"
   ]
  },
  {
   "cell_type": "raw",
   "metadata": {},
   "source": [
    "Sometimes you want to use a for loop to modify an existing object. For example, remember our challenge from functions. We wanted to rescale every column in a data frame:"
   ]
  },
  {
   "cell_type": "code",
   "execution_count": 33,
   "metadata": {},
   "outputs": [],
   "source": [
    "df <- tibble(\n",
    "  a = rnorm(10),\n",
    "  b = rnorm(10),\n",
    "  c = rnorm(10),\n",
    "  d = rnorm(10)\n",
    ")\n",
    "rescale01 <- function(x) {\n",
    "  rng <- range(x, na.rm = TRUE)\n",
    "  (x - rng[1]) / (rng[2] - rng[1])\n",
    "}\n",
    "\n",
    "df$a <- rescale01(df$a)\n",
    "df$b <- rescale01(df$b)\n",
    "df$c <- rescale01(df$c)\n",
    "df$d <- rescale01(df$d)"
   ]
  },
  {
   "cell_type": "raw",
   "metadata": {},
   "source": [
    "To solve this with a for loop we again think about the three components:\n",
    "\n",
    "Output: we already have the output — it’s the same as the input!\n",
    "\n",
    "Sequence: we can think about a data frame as a list of columns, so we can iterate over each column with seq_along(df).\n",
    "\n",
    "Body: apply rescale01().\n",
    "\n",
    "This gives us:"
   ]
  },
  {
   "cell_type": "code",
   "execution_count": 34,
   "metadata": {},
   "outputs": [
    {
     "data": {
      "text/html": [
       "<table>\n",
       "<thead><tr><th scope=col>a</th><th scope=col>b</th><th scope=col>c</th><th scope=col>d</th></tr></thead>\n",
       "<tbody>\n",
       "\t<tr><td>-1.65870313</td><td> 0.8898213 </td><td> 0.21803583</td><td>-1.23351548</td></tr>\n",
       "\t<tr><td>-0.10106095</td><td>-0.1085400 </td><td> 0.06276408</td><td>-0.05652137</td></tr>\n",
       "\t<tr><td> 1.12204645</td><td>-0.3282752 </td><td> 0.08635750</td><td>-0.02476151</td></tr>\n",
       "\t<tr><td>-0.74494592</td><td> 0.3532742 </td><td>-1.40377465</td><td> 0.04680996</td></tr>\n",
       "\t<tr><td> 0.04103412</td><td>-1.0800582 </td><td> 0.03029361</td><td>-1.66457577</td></tr>\n",
       "\t<tr><td> 1.26499195</td><td>-0.1260430 </td><td>-2.06537794</td><td> 1.97101453</td></tr>\n",
       "\t<tr><td>-0.77250646</td><td> 0.5109971 </td><td> 0.46679435</td><td>-1.17071321</td></tr>\n",
       "\t<tr><td> 0.41534472</td><td>-0.7715237 </td><td>-0.35117882</td><td>-2.09326902</td></tr>\n",
       "\t<tr><td> 1.60379451</td><td>-2.1168517 </td><td>-1.30345489</td><td> 0.51463094</td></tr>\n",
       "\t<tr><td>-1.10763229</td><td> 0.4912592 </td><td> 1.96830149</td><td>-0.36977722</td></tr>\n",
       "</tbody>\n",
       "</table>\n"
      ],
      "text/latex": [
       "\\begin{tabular}{r|llll}\n",
       " a & b & c & d\\\\\n",
       "\\hline\n",
       "\t -1.65870313 &  0.8898213  &  0.21803583 & -1.23351548\\\\\n",
       "\t -0.10106095 & -0.1085400  &  0.06276408 & -0.05652137\\\\\n",
       "\t  1.12204645 & -0.3282752  &  0.08635750 & -0.02476151\\\\\n",
       "\t -0.74494592 &  0.3532742  & -1.40377465 &  0.04680996\\\\\n",
       "\t  0.04103412 & -1.0800582  &  0.03029361 & -1.66457577\\\\\n",
       "\t  1.26499195 & -0.1260430  & -2.06537794 &  1.97101453\\\\\n",
       "\t -0.77250646 &  0.5109971  &  0.46679435 & -1.17071321\\\\\n",
       "\t  0.41534472 & -0.7715237  & -0.35117882 & -2.09326902\\\\\n",
       "\t  1.60379451 & -2.1168517  & -1.30345489 &  0.51463094\\\\\n",
       "\t -1.10763229 &  0.4912592  &  1.96830149 & -0.36977722\\\\\n",
       "\\end{tabular}\n"
      ],
      "text/markdown": [
       "\n",
       "| a | b | c | d |\n",
       "|---|---|---|---|\n",
       "| -1.65870313 |  0.8898213  |  0.21803583 | -1.23351548 |\n",
       "| -0.10106095 | -0.1085400  |  0.06276408 | -0.05652137 |\n",
       "|  1.12204645 | -0.3282752  |  0.08635750 | -0.02476151 |\n",
       "| -0.74494592 |  0.3532742  | -1.40377465 |  0.04680996 |\n",
       "|  0.04103412 | -1.0800582  |  0.03029361 | -1.66457577 |\n",
       "|  1.26499195 | -0.1260430  | -2.06537794 |  1.97101453 |\n",
       "| -0.77250646 |  0.5109971  |  0.46679435 | -1.17071321 |\n",
       "|  0.41534472 | -0.7715237  | -0.35117882 | -2.09326902 |\n",
       "|  1.60379451 | -2.1168517  | -1.30345489 |  0.51463094 |\n",
       "| -1.10763229 |  0.4912592  |  1.96830149 | -0.36977722 |\n",
       "\n"
      ],
      "text/plain": [
       "   a           b          c           d          \n",
       "1  -1.65870313  0.8898213  0.21803583 -1.23351548\n",
       "2  -0.10106095 -0.1085400  0.06276408 -0.05652137\n",
       "3   1.12204645 -0.3282752  0.08635750 -0.02476151\n",
       "4  -0.74494592  0.3532742 -1.40377465  0.04680996\n",
       "5   0.04103412 -1.0800582  0.03029361 -1.66457577\n",
       "6   1.26499195 -0.1260430 -2.06537794  1.97101453\n",
       "7  -0.77250646  0.5109971  0.46679435 -1.17071321\n",
       "8   0.41534472 -0.7715237 -0.35117882 -2.09326902\n",
       "9   1.60379451 -2.1168517 -1.30345489  0.51463094\n",
       "10 -1.10763229  0.4912592  1.96830149 -0.36977722"
      ]
     },
     "metadata": {},
     "output_type": "display_data"
    },
    {
     "data": {
      "text/html": [
       "<table>\n",
       "<thead><tr><th scope=col>a</th><th scope=col>b</th><th scope=col>c</th><th scope=col>d</th></tr></thead>\n",
       "<tbody>\n",
       "\t<tr><td>0.0000000</td><td>1.0000000</td><td>0.5660871</td><td>0.2115388</td></tr>\n",
       "\t<tr><td>0.4774386</td><td>0.6679515</td><td>0.5275932</td><td>0.5011333</td></tr>\n",
       "\t<tr><td>0.8523377</td><td>0.5948690</td><td>0.5334424</td><td>0.5089476</td></tr>\n",
       "\t<tr><td>0.2800790</td><td>0.8215479</td><td>0.1640198</td><td>0.5265575</td></tr>\n",
       "\t<tr><td>0.5209926</td><td>0.3448308</td><td>0.5195434</td><td>0.1054782</td></tr>\n",
       "\t<tr><td>0.8961524</td><td>0.6621301</td><td>0.0000000</td><td>1.0000000</td></tr>\n",
       "\t<tr><td>0.2716314</td><td>0.8740055</td><td>0.6277574</td><td>0.2269910</td></tr>\n",
       "\t<tr><td>0.6357239</td><td>0.4474474</td><td>0.4249716</td><td>0.0000000</td></tr>\n",
       "\t<tr><td>1.0000000</td><td>0.0000000</td><td>0.1888903</td><td>0.6416629</td></tr>\n",
       "\t<tr><td>0.1689107</td><td>0.8674408</td><td>1.0000000</td><td>0.4240580</td></tr>\n",
       "</tbody>\n",
       "</table>\n"
      ],
      "text/latex": [
       "\\begin{tabular}{r|llll}\n",
       " a & b & c & d\\\\\n",
       "\\hline\n",
       "\t 0.0000000 & 1.0000000 & 0.5660871 & 0.2115388\\\\\n",
       "\t 0.4774386 & 0.6679515 & 0.5275932 & 0.5011333\\\\\n",
       "\t 0.8523377 & 0.5948690 & 0.5334424 & 0.5089476\\\\\n",
       "\t 0.2800790 & 0.8215479 & 0.1640198 & 0.5265575\\\\\n",
       "\t 0.5209926 & 0.3448308 & 0.5195434 & 0.1054782\\\\\n",
       "\t 0.8961524 & 0.6621301 & 0.0000000 & 1.0000000\\\\\n",
       "\t 0.2716314 & 0.8740055 & 0.6277574 & 0.2269910\\\\\n",
       "\t 0.6357239 & 0.4474474 & 0.4249716 & 0.0000000\\\\\n",
       "\t 1.0000000 & 0.0000000 & 0.1888903 & 0.6416629\\\\\n",
       "\t 0.1689107 & 0.8674408 & 1.0000000 & 0.4240580\\\\\n",
       "\\end{tabular}\n"
      ],
      "text/markdown": [
       "\n",
       "| a | b | c | d |\n",
       "|---|---|---|---|\n",
       "| 0.0000000 | 1.0000000 | 0.5660871 | 0.2115388 |\n",
       "| 0.4774386 | 0.6679515 | 0.5275932 | 0.5011333 |\n",
       "| 0.8523377 | 0.5948690 | 0.5334424 | 0.5089476 |\n",
       "| 0.2800790 | 0.8215479 | 0.1640198 | 0.5265575 |\n",
       "| 0.5209926 | 0.3448308 | 0.5195434 | 0.1054782 |\n",
       "| 0.8961524 | 0.6621301 | 0.0000000 | 1.0000000 |\n",
       "| 0.2716314 | 0.8740055 | 0.6277574 | 0.2269910 |\n",
       "| 0.6357239 | 0.4474474 | 0.4249716 | 0.0000000 |\n",
       "| 1.0000000 | 0.0000000 | 0.1888903 | 0.6416629 |\n",
       "| 0.1689107 | 0.8674408 | 1.0000000 | 0.4240580 |\n",
       "\n"
      ],
      "text/plain": [
       "   a         b         c         d        \n",
       "1  0.0000000 1.0000000 0.5660871 0.2115388\n",
       "2  0.4774386 0.6679515 0.5275932 0.5011333\n",
       "3  0.8523377 0.5948690 0.5334424 0.5089476\n",
       "4  0.2800790 0.8215479 0.1640198 0.5265575\n",
       "5  0.5209926 0.3448308 0.5195434 0.1054782\n",
       "6  0.8961524 0.6621301 0.0000000 1.0000000\n",
       "7  0.2716314 0.8740055 0.6277574 0.2269910\n",
       "8  0.6357239 0.4474474 0.4249716 0.0000000\n",
       "9  1.0000000 0.0000000 0.1888903 0.6416629\n",
       "10 0.1689107 0.8674408 1.0000000 0.4240580"
      ]
     },
     "metadata": {},
     "output_type": "display_data"
    }
   ],
   "source": [
    "df <- tibble(\n",
    "  a = rnorm(10),\n",
    "  b = rnorm(10),\n",
    "  c = rnorm(10),\n",
    "  d = rnorm(10)\n",
    ")\n",
    "df\n",
    "for (i in seq_along(df)) {\n",
    "  df[[i]] <- rescale01(df[[i]])\n",
    "}\n",
    "df"
   ]
  },
  {
   "cell_type": "raw",
   "metadata": {},
   "source": [
    "NN\n",
    "{{ not [ \n",
    "******\n",
    "\n",
    "Typically you’ll be modifying a list or data frame with this sort of loop, so remember to use [[, not [. You might have spotted that I used [[ in all my for loops: I think it’s better to use [[ even for atomic vectors because it makes it clear that I want to work with a single element."
   ]
  },
  {
   "cell_type": "raw",
   "metadata": {},
   "source": [
    "21.3.2 Looping patterns"
   ]
  },
  {
   "cell_type": "raw",
   "metadata": {},
   "source": [
    "There are three basic ways to loop over a vector. So far I’ve shown you the most general: looping over the numeric indices with for (i in seq_along(xs)), and extracting the value with x[[i]]. There are two other forms:\n",
    "\n",
    "1.    Loop over the elements: for (x in xs). This is most useful if you only care about side-effects, like plotting or saving a file, because it’s difficult to save the output efficiently.\n",
    "\n",
    "2.    Loop over the names: for (nm in names(xs)). This gives you name, which you can use to access the value with x[[nm]]. This is useful if you want to use the name in a plot title or a file name. If you’re creating named output, make sure to name the results vector like so:******"
   ]
  },
  {
   "cell_type": "code",
   "execution_count": 35,
   "metadata": {},
   "outputs": [],
   "source": [
    "results <- vector(\"list\", length(x))\n",
    "names(results) <- names(x)\n",
    "#*******"
   ]
  },
  {
   "cell_type": "raw",
   "metadata": {},
   "source": [
    "Iteration over the numeric indices is the most general form, because given the position you can extract both the name and the value:\n",
    "********below"
   ]
  },
  {
   "cell_type": "code",
   "execution_count": 36,
   "metadata": {},
   "outputs": [],
   "source": [
    "for (i in seq_along(x)) {\n",
    "  name <- names(x)[[i]]\n",
    "  value <- x[[i]]\n",
    "}"
   ]
  },
  {
   "cell_type": "raw",
   "metadata": {},
   "source": [
    "21.3.3 Unknown output length"
   ]
  },
  {
   "cell_type": "raw",
   "metadata": {},
   "source": [
    "Sometimes you might not know how long the output will be. For example, imagine you want to simulate some random vectors of random lengths. You might be tempted to solve this problem by progressively growing the vector:"
   ]
  },
  {
   "cell_type": "code",
   "execution_count": 37,
   "metadata": {},
   "outputs": [
    {
     "data": {
      "text/html": [
       "1"
      ],
      "text/latex": [
       "1"
      ],
      "text/markdown": [
       "1"
      ],
      "text/plain": [
       "[1] 1"
      ]
     },
     "metadata": {},
     "output_type": "display_data"
    },
    {
     "data": {
      "text/html": [
       "46"
      ],
      "text/latex": [
       "46"
      ],
      "text/markdown": [
       "46"
      ],
      "text/plain": [
       "[1] 46"
      ]
     },
     "metadata": {},
     "output_type": "display_data"
    },
    {
     "data": {
      "text/html": [
       "<ol class=list-inline>\n",
       "\t<li>1.72117888663905</li>\n",
       "\t<li>1.25562753801331</li>\n",
       "\t<li>3.29475155182276</li>\n",
       "\t<li>1.2341567315297</li>\n",
       "\t<li>2.21393595095969</li>\n",
       "</ol>\n"
      ],
      "text/latex": [
       "\\begin{enumerate*}\n",
       "\\item 1.72117888663905\n",
       "\\item 1.25562753801331\n",
       "\\item 3.29475155182276\n",
       "\\item 1.2341567315297\n",
       "\\item 2.21393595095969\n",
       "\\end{enumerate*}\n"
      ],
      "text/markdown": [
       "1. 1.72117888663905\n",
       "2. 1.25562753801331\n",
       "3. 3.29475155182276\n",
       "4. 1.2341567315297\n",
       "5. 2.21393595095969\n",
       "\n",
       "\n"
      ],
      "text/plain": [
       "[1] 1.721179 1.255628 3.294752 1.234157 2.213936"
      ]
     },
     "metadata": {},
     "output_type": "display_data"
    }
   ],
   "source": [
    "means <- c(0, 1, 2)\n",
    "means[[2]]\n",
    "sample(100, 1)\n",
    "rnorm(5, 2)"
   ]
  },
  {
   "cell_type": "code",
   "execution_count": 38,
   "metadata": {},
   "outputs": [
    {
     "name": "stdout",
     "output_type": "stream",
     "text": [
      "[1] 73\n",
      " [1]  0.13021897 -1.80399107 -0.38435209 -1.04859988 -0.45102652 -0.83435273\n",
      " [7] -0.78570654 -0.17844081 -0.92766519 -1.87119095 -2.26553125 -0.10061040\n",
      "[13] -0.46885397  2.24144690 -0.26314670  0.14756582  1.88933400 -0.03440059\n",
      "[19]  0.31780181 -0.50265356  0.15092950  0.98729588  0.03143098 -1.23784014\n",
      "[25] -0.14109820  0.72165714 -0.77792560  1.30738513 -1.77978223  1.06974237\n",
      "[31]  1.26255146 -0.33166849  0.36756640  0.19142350  0.92273121  0.59538132\n",
      "[37]  1.46363065 -0.84960016 -0.96366405  0.74689395  0.34505717 -0.90624788\n",
      "[43] -0.41971146  1.26553137 -0.76532767  1.29770250 -1.11099594 -0.48157803\n",
      "[49] -0.60139367  0.25403655  0.54601580  1.23416339 -0.19875705  0.64514950\n",
      "[55]  0.70142655 -1.02021479  1.28098328  0.70939893 -0.25969012  1.46306918\n",
      "[61] -1.13151155  1.13138554  2.99445813  1.22869447 -0.27012674 -0.07443295\n",
      "[67] -1.94224871 -0.78660877 -0.19462340  0.88343010  0.42108203  2.39780634\n",
      "[73] -1.07810317\n",
      "[1] 83\n",
      "  [1]  0.13021897 -1.80399107 -0.38435209 -1.04859988 -0.45102652 -0.83435273\n",
      "  [7] -0.78570654 -0.17844081 -0.92766519 -1.87119095 -2.26553125 -0.10061040\n",
      " [13] -0.46885397  2.24144690 -0.26314670  0.14756582  1.88933400 -0.03440059\n",
      " [19]  0.31780181 -0.50265356  0.15092950  0.98729588  0.03143098 -1.23784014\n",
      " [25] -0.14109820  0.72165714 -0.77792560  1.30738513 -1.77978223  1.06974237\n",
      " [31]  1.26255146 -0.33166849  0.36756640  0.19142350  0.92273121  0.59538132\n",
      " [37]  1.46363065 -0.84960016 -0.96366405  0.74689395  0.34505717 -0.90624788\n",
      " [43] -0.41971146  1.26553137 -0.76532767  1.29770250 -1.11099594 -0.48157803\n",
      " [49] -0.60139367  0.25403655  0.54601580  1.23416339 -0.19875705  0.64514950\n",
      " [55]  0.70142655 -1.02021479  1.28098328  0.70939893 -0.25969012  1.46306918\n",
      " [61] -1.13151155  1.13138554  2.99445813  1.22869447 -0.27012674 -0.07443295\n",
      " [67] -1.94224871 -0.78660877 -0.19462340  0.88343010  0.42108203  2.39780634\n",
      " [73] -1.07810317  0.55312838  2.08451788  1.49818401  2.75054623  2.37585965\n",
      " [79]  0.20072768  0.48987119  2.36657262 -0.25822509  1.85449935  0.94612428\n",
      " [85]  0.97536056 -0.66298486 -0.29836920 -0.08430118  0.57673777  0.24698008\n",
      " [91]  1.59257595  1.71808847  1.07570632  1.79120281  0.27706449  3.05390856\n",
      " [97]  0.30912408 -0.03477355  2.10070892 -0.61071479  0.61975390  2.14195986\n",
      "[103]  0.66819822  0.98584681  2.15061020  2.73603792  0.71634179  2.19825113\n",
      "[109]  1.67725036  0.91035394  0.93977257  0.06235383  2.06754105  1.41173400\n",
      "[115] -1.01565402  2.36390256  1.25441821  2.49498583  1.46024043  1.84458546\n",
      "[121]  0.98790527  1.88402939  0.84261219  1.87041466 -0.80941119  2.03954614\n",
      "[127]  0.09229446 -0.73148523 -1.30388303  2.74860706  0.28517688 -0.56242428\n",
      "[133]  0.49249299  0.89855580  1.39591370 -0.56233092  0.61508190  0.34886244\n",
      "[139]  0.82419616  1.64589395  1.31985250  1.19101935  1.47726039  1.39959064\n",
      "[145]  1.16907961  1.33672705 -0.49476101  2.46136158  1.22269926  1.15459863\n",
      "[151] -0.47470190  1.93472265  1.38855021  0.43577710  0.75338008 -0.09904357\n",
      "[1] 75\n",
      "  [1]  0.130218969 -1.803991071 -0.384352090 -1.048599880 -0.451026525\n",
      "  [6] -0.834352733 -0.785706541 -0.178440812 -0.927665188 -1.871190947\n",
      " [11] -2.265531255 -0.100610402 -0.468853971  2.241446898 -0.263146697\n",
      " [16]  0.147565825  1.889333999 -0.034400593  0.317801814 -0.502653560\n",
      " [21]  0.150929496  0.987295882  0.031430981 -1.237840141 -0.141098197\n",
      " [26]  0.721657138 -0.777925602  1.307385132 -1.779782233  1.069742370\n",
      " [31]  1.262551456 -0.331668488  0.367566398  0.191423504  0.922731209\n",
      " [36]  0.595381323  1.463630651 -0.849600158 -0.963664045  0.746893948\n",
      " [41]  0.345057167 -0.906247883 -0.419711459  1.265531372 -0.765327670\n",
      " [46]  1.297702501 -1.110995942 -0.481578028 -0.601393667  0.254036547\n",
      " [51]  0.546015803  1.234163393 -0.198757047  0.645149499  0.701426554\n",
      " [56] -1.020214786  1.280983278  0.709398931 -0.259690124  1.463069183\n",
      " [61] -1.131511548  1.131385537  2.994458127  1.228694469 -0.270126739\n",
      " [66] -0.074432946 -1.942248709 -0.786608769 -0.194623405  0.883430098\n",
      " [71]  0.421082033  2.397806345 -1.078103168  0.553128375  2.084517878\n",
      " [76]  1.498184014  2.750546230  2.375859651  0.200727678  0.489871191\n",
      " [81]  2.366572625 -0.258225091  1.854499349  0.946124277  0.975360562\n",
      " [86] -0.662984863 -0.298369201 -0.084301175  0.576737766  0.246980076\n",
      " [91]  1.592575948  1.718088466  1.075706319  1.791202814  0.277064486\n",
      " [96]  3.053908562  0.309124075 -0.034773549  2.100708921 -0.610714792\n",
      "[101]  0.619753900  2.141959860  0.668198217  0.985846813  2.150610195\n",
      "[106]  2.736037919  0.716341786  2.198251126  1.677250363  0.910353938\n",
      "[111]  0.939772573  0.062353828  2.067541047  1.411733999 -1.015654024\n",
      "[116]  2.363902557  1.254418208  2.494985827  1.460240425  1.844585461\n",
      "[121]  0.987905268  1.884029390  0.842612191  1.870414664 -0.809411187\n",
      "[126]  2.039546140  0.092294459 -0.731485233 -1.303883028  2.748607061\n",
      "[131]  0.285176880 -0.562424283  0.492492995  0.898555803  1.395913696\n",
      "[136] -0.562330916  0.615081901  0.348862439  0.824196155  1.645893953\n",
      "[141]  1.319852504  1.191019350  1.477260389  1.399590641  1.169079606\n",
      "[146]  1.336727046 -0.494761011  2.461361577  1.222699258  1.154598631\n",
      "[151] -0.474701897  1.934722652  1.388550211  0.435777101  0.753380078\n",
      "[156] -0.099043567  2.956755492  2.197580182  2.103499766  2.026375413\n",
      "[161]  3.325112850  3.595600063  2.095415793  1.759510487  2.760272532\n",
      "[166]  2.401519684  2.626689739  2.850515918  1.471989494  0.773403969\n",
      "[171]  2.531149946  2.792749907  2.976012639  1.480349350  2.208109628\n",
      "[176]  2.946803130  1.560926526  3.325584686  2.716271962  1.656945004\n",
      "[181]  0.936912937  1.323412031  2.376535339  2.420839798  2.902627209\n",
      "[186]  0.117144379  0.895238421  2.675712569  3.707356655  0.687105563\n",
      "[191]  2.262767364  1.377778094  3.343762886  2.287702955  1.977078444\n",
      "[196]  1.364011397  2.344575602  2.067248029  3.972034186 -0.797192874\n",
      "[201]  1.345453895  0.057040299  0.745345113  1.647139807  2.483977743\n",
      "[206]  3.802057378  1.561116816  1.076144664  2.460980713  4.183435015\n",
      "[211]  2.209429693  0.940516969  0.003464894  2.416592828  1.900728884\n",
      "[216]  1.541843151  3.217289254  3.566698261  1.916767426  0.565347576\n",
      "[221]  0.704939610  1.694738359  1.101380194  2.261157409  2.314291271\n",
      "[226]  2.425309305  2.316385322  2.324766164  2.633351847  1.401738127\n",
      "[231]  1.572676576\n",
      " num [1:231] 0.13 -1.804 -0.384 -1.049 -0.451 ...\n"
     ]
    }
   ],
   "source": [
    "means <- c(0, 1, 2)\n",
    "\n",
    "output <- double()\n",
    "for (i in seq_along(means)) {\n",
    "  n <- sample(100, 1)\n",
    "  output <- c(output, rnorm(n, means[[i]]))\n",
    "  print(n)\n",
    "    print(output)\n",
    "}\n",
    "str(output)\n",
    "#>  num [1:202] 0.912 0.205 2.584 -0.789 0.588 ..."
   ]
  },
  {
   "cell_type": "code",
   "execution_count": 39,
   "metadata": {},
   "outputs": [
    {
     "data": {
      "text/html": [
       "0.130218968530928"
      ],
      "text/latex": [
       "0.130218968530928"
      ],
      "text/markdown": [
       "0.130218968530928"
      ],
      "text/plain": [
       "[1] 0.130219"
      ]
     },
     "metadata": {},
     "output_type": "display_data"
    }
   ],
   "source": [
    "output[1]"
   ]
  },
  {
   "cell_type": "code",
   "execution_count": 40,
   "metadata": {},
   "outputs": [
    {
     "data": {
      "text/html": [
       "<ol class=list-inline>\n",
       "\t<li>1</li>\n",
       "\t<li>2</li>\n",
       "\t<li>3</li>\n",
       "\t<li>4</li>\n",
       "\t<li>3</li>\n",
       "\t<li>4</li>\n",
       "\t<li>5</li>\n",
       "</ol>\n"
      ],
      "text/latex": [
       "\\begin{enumerate*}\n",
       "\\item 1\n",
       "\\item 2\n",
       "\\item 3\n",
       "\\item 4\n",
       "\\item 3\n",
       "\\item 4\n",
       "\\item 5\n",
       "\\end{enumerate*}\n"
      ],
      "text/markdown": [
       "1. 1\n",
       "2. 2\n",
       "3. 3\n",
       "4. 4\n",
       "5. 3\n",
       "6. 4\n",
       "7. 5\n",
       "\n",
       "\n"
      ],
      "text/plain": [
       "[1] 1 2 3 4 3 4 5"
      ]
     },
     "metadata": {},
     "output_type": "display_data"
    }
   ],
   "source": [
    "a <- double()\n",
    "a <- c(1,2,3,4)\n",
    "a <- c(a, 3,4,5)\n",
    "a"
   ]
  },
  {
   "cell_type": "raw",
   "metadata": {},
   "source": [
    "But this is not very efficient because in each iteration, R has to copy all the data from the previous iterations. In technical terms you get “quadratic” (O(n^2)) behaviour which means that a loop with three times as many elements would take nine (3^2) times as long to run.\n",
    "\n",
    "A better solution to save the results in a list, and then combine into a single vector after the loop is done:******* cool code"
   ]
  },
  {
   "cell_type": "code",
   "execution_count": 41,
   "metadata": {},
   "outputs": [
    {
     "name": "stdout",
     "output_type": "stream",
     "text": [
      "List of 3\n",
      " $ : num [1:33] 0.3688 -0.7212 0.1814 0.6576 -0.0999 ...\n",
      " $ : num [1:70] 0.168 0.696 1.978 -0.814 0.194 ...\n",
      " $ : num [1:62] 1.32 1.45 1.61 1.13 2.3 ...\n",
      " num [1:165] 0.3688 -0.7212 0.1814 0.6576 -0.0999 ...\n"
     ]
    }
   ],
   "source": [
    "means <- c(0, 1, 2)\n",
    "out <- vector(\"list\", length(means))\n",
    "for (i in seq_along(means)) {\n",
    "  n <- sample(100, 1)\n",
    "  out[[i]] <- rnorm(n, means[[i]])\n",
    "}\n",
    "str(out)\n",
    "str(unlist(out))"
   ]
  },
  {
   "cell_type": "raw",
   "metadata": {},
   "source": [
    "NN\n",
    "unlist()\n",
    "purrr:flatten_dbl()\n",
    "paste(output, collapse = \"\")\n",
    "dplyr::bind_rows(output) not rbind()\n",
    "*******\n",
    "\n",
    "Here I’ve used unlist() to flatten a list of vectors into a single vector. A stricter option is to use purrr::flatten_dbl() — it will throw an error if the input isn’t a list of doubles.\n",
    "\n",
    "This pattern occurs in other places too:\n",
    "\n",
    "1.    You might be generating a long string. Instead of paste()ing together each iteration with the previous, save the output in a character vector and then combine that vector into a single string with paste(output, collapse = \"\").*******\n",
    "\n",
    "2.    You might be generating a big data frame. Instead of sequentially rbind()ing in each iteration, save the output in a list, then use dplyr::bind_rows(output) to combine the output into a single data frame.******\n",
    "\n",
    "Watch out for this pattern. Whenever you see it, switch to a more complex result object, and then combine in one step at the end."
   ]
  },
  {
   "cell_type": "raw",
   "metadata": {},
   "source": [
    "21.3.4 Unknown sequence length"
   ]
  },
  {
   "cell_type": "raw",
   "metadata": {},
   "source": [
    "Sometimes you don’t even know how long the input sequence should run for. This is common when doing simulations. For example, you might want to loop until you get three heads in a row. You can’t do that sort of iteration with the for loop. Instead, you can use a while loop. A while loop is simpler than for loop because it only has two components, a condition and a body:\n",
    "\n",
    "NN\n",
    "when a while vs a for\n",
    "while for 3 heads; how many coin tosses?! no one knows , thus while\n",
    "**********"
   ]
  },
  {
   "cell_type": "code",
   "execution_count": 42,
   "metadata": {},
   "outputs": [
    {
     "ename": "ERROR",
     "evalue": "Error in eval(expr, envir, enclos): object 'condition' not found\n",
     "output_type": "error",
     "traceback": [
      "Error in eval(expr, envir, enclos): object 'condition' not found\nTraceback:\n"
     ]
    }
   ],
   "source": [
    "while (condition) {\n",
    "  # body\n",
    "}"
   ]
  },
  {
   "cell_type": "raw",
   "metadata": {},
   "source": [
    "******\n",
    "A while loop is also more general than a for loop, because you can rewrite any for loop as a while loop, but you can’t rewrite every while loop as a for loop:\n",
    "\n",
    "NN\n",
    "rewriting for as while\n",
    "*****"
   ]
  },
  {
   "cell_type": "code",
   "execution_count": 43,
   "metadata": {},
   "outputs": [],
   "source": [
    "for (i in seq_along(x)) {\n",
    "  # body\n",
    "}\n",
    "\n",
    "# Equivalent to\n",
    "i <- 1\n",
    "while (i <= length(x)) {\n",
    "  # body\n",
    "  i <- i + 1 \n",
    "}"
   ]
  },
  {
   "cell_type": "raw",
   "metadata": {},
   "source": [
    "Here’s how we could use a while loop to find how many tries it takes to get three heads in a row:\n",
    "NN\n",
    "while\n",
    "great code******"
   ]
  },
  {
   "cell_type": "code",
   "execution_count": 44,
   "metadata": {},
   "outputs": [
    {
     "data": {
      "text/html": [
       "27"
      ],
      "text/latex": [
       "27"
      ],
      "text/markdown": [
       "27"
      ],
      "text/plain": [
       "[1] 27"
      ]
     },
     "metadata": {},
     "output_type": "display_data"
    }
   ],
   "source": [
    "flip <- function() sample(c(\"T\", \"H\"), 1)\n",
    "\n",
    "flips <- 0\n",
    "nheads <- 0\n",
    "\n",
    "while (nheads < 3) {\n",
    "  if (flip() == \"H\") {\n",
    "    nheads <- nheads + 1\n",
    "  } else {\n",
    "    nheads <- 0\n",
    "  }\n",
    "  flips <- flips + 1\n",
    "}\n",
    "flips"
   ]
  },
  {
   "cell_type": "raw",
   "metadata": {},
   "source": [
    "I mention while loops only briefly, because I hardly ever use them. They’re most often used for simulation, which is outside the scope of this book. However, it is good to know they exist so that you’re prepared for problems where the number of iterations is not known in advance."
   ]
  },
  {
   "cell_type": "raw",
   "metadata": {},
   "source": [
    "21.3.5 Exercises"
   ]
  },
  {
   "cell_type": "raw",
   "metadata": {},
   "source": [
    "Q1. Imagine you have a directory full of CSV files that you want to read in. You have their paths in a vector, files <- dir(\"data/\", pattern = \"\\\\.csv$\", full.names = TRUE), and now want to read each one with read_csv(). Write the for loop that will load them into a single data frame.\n",
    "\n",
    "\n",
    "NN\n",
    "partially finished code to read in files and contents without knowing the names of files\n",
    "dir()\n",
    "bind_rows()\n",
    "read_csv()\n",
    "******"
   ]
  },
  {
   "cell_type": "code",
   "execution_count": 45,
   "metadata": {},
   "outputs": [
    {
     "data": {
      "text/html": [
       "'/Users/stevedepp/Documents/Personal/MSDS/413/R'"
      ],
      "text/latex": [
       "'/Users/stevedepp/Documents/Personal/MSDS/413/R'"
      ],
      "text/markdown": [
       "'/Users/stevedepp/Documents/Personal/MSDS/413/R'"
      ],
      "text/plain": [
       "[1] \"/Users/stevedepp/Documents/Personal/MSDS/413/R\""
      ]
     },
     "metadata": {},
     "output_type": "display_data"
    }
   ],
   "source": [
    "directory <- getwd()\n",
    "directory"
   ]
  },
  {
   "cell_type": "code",
   "execution_count": 48,
   "metadata": {},
   "outputs": [
    {
     "data": {
      "text/html": [
       "<ol class=list-inline>\n",
       "\t<li>'/Users/stevedepp/Documents/Personal/MSDS/413/R/challenge-2.csv'</li>\n",
       "\t<li>'/Users/stevedepp/Documents/Personal/MSDS/413/R/challenge.csv'</li>\n",
       "\t<li>'/Users/stevedepp/Documents/Personal/MSDS/413/R/diamonds.csv'</li>\n",
       "\t<li>'/Users/stevedepp/Documents/Personal/MSDS/413/R/heights.csv'</li>\n",
       "</ol>\n"
      ],
      "text/latex": [
       "\\begin{enumerate*}\n",
       "\\item '/Users/stevedepp/Documents/Personal/MSDS/413/R/challenge-2.csv'\n",
       "\\item '/Users/stevedepp/Documents/Personal/MSDS/413/R/challenge.csv'\n",
       "\\item '/Users/stevedepp/Documents/Personal/MSDS/413/R/diamonds.csv'\n",
       "\\item '/Users/stevedepp/Documents/Personal/MSDS/413/R/heights.csv'\n",
       "\\end{enumerate*}\n"
      ],
      "text/markdown": [
       "1. '/Users/stevedepp/Documents/Personal/MSDS/413/R/challenge-2.csv'\n",
       "2. '/Users/stevedepp/Documents/Personal/MSDS/413/R/challenge.csv'\n",
       "3. '/Users/stevedepp/Documents/Personal/MSDS/413/R/diamonds.csv'\n",
       "4. '/Users/stevedepp/Documents/Personal/MSDS/413/R/heights.csv'\n",
       "\n",
       "\n"
      ],
      "text/plain": [
       "[1] \"/Users/stevedepp/Documents/Personal/MSDS/413/R/challenge-2.csv\"\n",
       "[2] \"/Users/stevedepp/Documents/Personal/MSDS/413/R/challenge.csv\"  \n",
       "[3] \"/Users/stevedepp/Documents/Personal/MSDS/413/R/diamonds.csv\"   \n",
       "[4] \"/Users/stevedepp/Documents/Personal/MSDS/413/R/heights.csv\"    "
      ]
     },
     "metadata": {},
     "output_type": "display_data"
    }
   ],
   "source": [
    "files <- dir(directory, pattern = \"\\\\.csv$\", full.names = TRUE)\n",
    "files"
   ]
  },
  {
   "cell_type": "raw",
   "metadata": {},
   "source": [
    "Since, the number of files is know, pre-allocate a list with a length equal to the number of files."
   ]
  },
  {
   "cell_type": "code",
   "execution_count": 52,
   "metadata": {},
   "outputs": [
    {
     "data": {
      "text/html": [
       "<ol>\n",
       "\t<li>NULL</li>\n",
       "\t<li>NULL</li>\n",
       "\t<li>NULL</li>\n",
       "\t<li>NULL</li>\n",
       "</ol>\n"
      ],
      "text/latex": [
       "\\begin{enumerate}\n",
       "\\item NULL\n",
       "\\item NULL\n",
       "\\item NULL\n",
       "\\item NULL\n",
       "\\end{enumerate}\n"
      ],
      "text/markdown": [
       "1. NULL\n",
       "2. NULL\n",
       "3. NULL\n",
       "4. NULL\n",
       "\n",
       "\n"
      ],
      "text/plain": [
       "[[1]]\n",
       "NULL\n",
       "\n",
       "[[2]]\n",
       "NULL\n",
       "\n",
       "[[3]]\n",
       "NULL\n",
       "\n",
       "[[4]]\n",
       "NULL\n"
      ]
     },
     "metadata": {},
     "output_type": "display_data"
    }
   ],
   "source": [
    "df_list <- vector(\"list\", length(files))\n",
    "df_list"
   ]
  },
  {
   "cell_type": "raw",
   "metadata": {},
   "source": [
    "Then, read each file into a data frame, and assign it to an element in that list. The result is a list of data frames."
   ]
  },
  {
   "cell_type": "code",
   "execution_count": 53,
   "metadata": {},
   "outputs": [
    {
     "name": "stderr",
     "output_type": "stream",
     "text": [
      "Parsed with column specification:\n",
      "cols(\n",
      "  x = col_double(),\n",
      "  y = col_logical()\n",
      ")\n",
      "Warning message:\n",
      "“1000 parsing failures.\n",
      " row col           expected     actual                                                             file\n",
      "1001   y 1/0/T/F/TRUE/FALSE 2015-01-16 '/Users/stevedepp/Documents/Personal/MSDS/413/R/challenge-2.csv'\n",
      "1002   y 1/0/T/F/TRUE/FALSE 2018-05-18 '/Users/stevedepp/Documents/Personal/MSDS/413/R/challenge-2.csv'\n",
      "1003   y 1/0/T/F/TRUE/FALSE 2015-09-05 '/Users/stevedepp/Documents/Personal/MSDS/413/R/challenge-2.csv'\n",
      "1004   y 1/0/T/F/TRUE/FALSE 2012-11-28 '/Users/stevedepp/Documents/Personal/MSDS/413/R/challenge-2.csv'\n",
      "1005   y 1/0/T/F/TRUE/FALSE 2020-01-13 '/Users/stevedepp/Documents/Personal/MSDS/413/R/challenge-2.csv'\n",
      ".... ... .................. .......... ................................................................\n",
      "See problems(...) for more details.\n",
      "”Parsed with column specification:\n",
      "cols(\n",
      "  x = col_double(),\n",
      "  y = col_logical()\n",
      ")\n",
      "Warning message:\n",
      "“1000 parsing failures.\n",
      " row col           expected     actual                                                           file\n",
      "1001   y 1/0/T/F/TRUE/FALSE 2015-01-16 '/Users/stevedepp/Documents/Personal/MSDS/413/R/challenge.csv'\n",
      "1002   y 1/0/T/F/TRUE/FALSE 2018-05-18 '/Users/stevedepp/Documents/Personal/MSDS/413/R/challenge.csv'\n",
      "1003   y 1/0/T/F/TRUE/FALSE 2015-09-05 '/Users/stevedepp/Documents/Personal/MSDS/413/R/challenge.csv'\n",
      "1004   y 1/0/T/F/TRUE/FALSE 2012-11-28 '/Users/stevedepp/Documents/Personal/MSDS/413/R/challenge.csv'\n",
      "1005   y 1/0/T/F/TRUE/FALSE 2020-01-13 '/Users/stevedepp/Documents/Personal/MSDS/413/R/challenge.csv'\n",
      ".... ... .................. .......... ..............................................................\n",
      "See problems(...) for more details.\n",
      "”Parsed with column specification:\n",
      "cols(\n",
      "  carat = col_double(),\n",
      "  cut = col_character(),\n",
      "  color = col_character(),\n",
      "  clarity = col_character(),\n",
      "  depth = col_double(),\n",
      "  table = col_double(),\n",
      "  price = col_double(),\n",
      "  x = col_double(),\n",
      "  y = col_double(),\n",
      "  z = col_double()\n",
      ")\n",
      "Parsed with column specification:\n",
      "cols(\n",
      "  earn = col_double(),\n",
      "  height = col_double(),\n",
      "  sex = col_character(),\n",
      "  ed = col_double(),\n",
      "  age = col_double(),\n",
      "  race = col_character()\n",
      ")\n"
     ]
    }
   ],
   "source": [
    "for (i in seq_along(files)) {\n",
    "  df_list[[i]] <- read_csv(files[[i]])\n",
    "}"
   ]
  },
  {
   "cell_type": "code",
   "execution_count": 54,
   "metadata": {},
   "outputs": [
    {
     "name": "stdout",
     "output_type": "stream",
     "text": [
      "[[1]]\n",
      "# A tibble: 2,000 x 2\n",
      "       x y    \n",
      "   <dbl> <lgl>\n",
      " 1   404 NA   \n",
      " 2  4172 NA   \n",
      " 3  3004 NA   \n",
      " 4   787 NA   \n",
      " 5    37 NA   \n",
      " 6  2332 NA   \n",
      " 7  2489 NA   \n",
      " 8  1449 NA   \n",
      " 9  3665 NA   \n",
      "10  3863 NA   \n",
      "# … with 1,990 more rows\n",
      "\n",
      "[[2]]\n",
      "# A tibble: 2,000 x 2\n",
      "       x y    \n",
      "   <dbl> <lgl>\n",
      " 1   404 NA   \n",
      " 2  4172 NA   \n",
      " 3  3004 NA   \n",
      " 4   787 NA   \n",
      " 5    37 NA   \n",
      " 6  2332 NA   \n",
      " 7  2489 NA   \n",
      " 8  1449 NA   \n",
      " 9  3665 NA   \n",
      "10  3863 NA   \n",
      "# … with 1,990 more rows\n",
      "\n",
      "[[3]]\n",
      "# A tibble: 53,940 x 10\n",
      "   carat cut       color clarity depth table price     x     y     z\n",
      "   <dbl> <chr>     <chr> <chr>   <dbl> <dbl> <dbl> <dbl> <dbl> <dbl>\n",
      " 1 0.23  Ideal     E     SI2      61.5    55   326  3.95  3.98  2.43\n",
      " 2 0.21  Premium   E     SI1      59.8    61   326  3.89  3.84  2.31\n",
      " 3 0.23  Good      E     VS1      56.9    65   327  4.05  4.07  2.31\n",
      " 4 0.290 Premium   I     VS2      62.4    58   334  4.2   4.23  2.63\n",
      " 5 0.31  Good      J     SI2      63.3    58   335  4.34  4.35  2.75\n",
      " 6 0.24  Very Good J     VVS2     62.8    57   336  3.94  3.96  2.48\n",
      " 7 0.24  Very Good I     VVS1     62.3    57   336  3.95  3.98  2.47\n",
      " 8 0.26  Very Good H     SI1      61.9    55   337  4.07  4.11  2.53\n",
      " 9 0.22  Fair      E     VS2      65.1    61   337  3.87  3.78  2.49\n",
      "10 0.23  Very Good H     VS1      59.4    61   338  4     4.05  2.39\n",
      "# … with 53,930 more rows\n",
      "\n",
      "[[4]]\n",
      "# A tibble: 1,192 x 6\n",
      "    earn height sex       ed   age race    \n",
      "   <dbl>  <dbl> <chr>  <dbl> <dbl> <chr>   \n",
      " 1 50000   74.4 male      16    45 white   \n",
      " 2 60000   65.5 female    16    58 white   \n",
      " 3 30000   63.6 female    16    29 white   \n",
      " 4 50000   63.1 female    16    91 other   \n",
      " 5 51000   63.4 female    17    39 white   \n",
      " 6  9000   64.4 female    15    26 white   \n",
      " 7 29000   61.7 female    12    49 white   \n",
      " 8 32000   72.7 male      17    46 white   \n",
      " 9  2000   72.0 male      15    21 hispanic\n",
      "10 27000   72.2 male      12    26 white   \n",
      "# … with 1,182 more rows\n",
      "\n"
     ]
    }
   ],
   "source": [
    "print(df_list)"
   ]
  },
  {
   "cell_type": "raw",
   "metadata": {},
   "source": [
    "Finally, use use bind_rows() to combine the list of data frames into a single data frame."
   ]
  },
  {
   "cell_type": "code",
   "execution_count": 55,
   "metadata": {},
   "outputs": [],
   "source": [
    "df <- bind_rows(df_list)"
   ]
  },
  {
   "cell_type": "code",
   "execution_count": 56,
   "metadata": {},
   "outputs": [
    {
     "name": "stdout",
     "output_type": "stream",
     "text": [
      "# A tibble: 59,132 x 16\n",
      "       x     y carat cut   color clarity depth table price     z  earn height\n",
      "   <dbl> <dbl> <dbl> <chr> <chr> <chr>   <dbl> <dbl> <dbl> <dbl> <dbl>  <dbl>\n",
      " 1   404    NA    NA <NA>  <NA>  <NA>       NA    NA    NA    NA    NA     NA\n",
      " 2  4172    NA    NA <NA>  <NA>  <NA>       NA    NA    NA    NA    NA     NA\n",
      " 3  3004    NA    NA <NA>  <NA>  <NA>       NA    NA    NA    NA    NA     NA\n",
      " 4   787    NA    NA <NA>  <NA>  <NA>       NA    NA    NA    NA    NA     NA\n",
      " 5    37    NA    NA <NA>  <NA>  <NA>       NA    NA    NA    NA    NA     NA\n",
      " 6  2332    NA    NA <NA>  <NA>  <NA>       NA    NA    NA    NA    NA     NA\n",
      " 7  2489    NA    NA <NA>  <NA>  <NA>       NA    NA    NA    NA    NA     NA\n",
      " 8  1449    NA    NA <NA>  <NA>  <NA>       NA    NA    NA    NA    NA     NA\n",
      " 9  3665    NA    NA <NA>  <NA>  <NA>       NA    NA    NA    NA    NA     NA\n",
      "10  3863    NA    NA <NA>  <NA>  <NA>       NA    NA    NA    NA    NA     NA\n",
      "# … with 59,122 more rows, and 4 more variables: sex <chr>, ed <dbl>,\n",
      "#   age <dbl>, race <chr>\n"
     ]
    }
   ],
   "source": [
    "print(df)"
   ]
  },
  {
   "cell_type": "raw",
   "metadata": {},
   "source": [
    "Alternatively, I could have pre-allocated a list with the names of the files."
   ]
  },
  {
   "cell_type": "code",
   "execution_count": 58,
   "metadata": {},
   "outputs": [
    {
     "data": {
      "text/html": [
       "<ol>\n",
       "\t<li>NULL</li>\n",
       "\t<li>NULL</li>\n",
       "\t<li>NULL</li>\n",
       "\t<li>NULL</li>\n",
       "</ol>\n"
      ],
      "text/latex": [
       "\\begin{enumerate}\n",
       "\\item NULL\n",
       "\\item NULL\n",
       "\\item NULL\n",
       "\\item NULL\n",
       "\\end{enumerate}\n"
      ],
      "text/markdown": [
       "1. NULL\n",
       "2. NULL\n",
       "3. NULL\n",
       "4. NULL\n",
       "\n",
       "\n"
      ],
      "text/plain": [
       "[[1]]\n",
       "NULL\n",
       "\n",
       "[[2]]\n",
       "NULL\n",
       "\n",
       "[[3]]\n",
       "NULL\n",
       "\n",
       "[[4]]\n",
       "NULL\n"
      ]
     },
     "metadata": {},
     "output_type": "display_data"
    },
    {
     "name": "stderr",
     "output_type": "stream",
     "text": [
      "Parsed with column specification:\n",
      "cols(\n",
      "  x = col_double(),\n",
      "  y = col_logical()\n",
      ")\n",
      "Warning message:\n",
      "“1000 parsing failures.\n",
      " row col           expected     actual                                                             file\n",
      "1001   y 1/0/T/F/TRUE/FALSE 2015-01-16 '/Users/stevedepp/Documents/Personal/MSDS/413/R/challenge-2.csv'\n",
      "1002   y 1/0/T/F/TRUE/FALSE 2018-05-18 '/Users/stevedepp/Documents/Personal/MSDS/413/R/challenge-2.csv'\n",
      "1003   y 1/0/T/F/TRUE/FALSE 2015-09-05 '/Users/stevedepp/Documents/Personal/MSDS/413/R/challenge-2.csv'\n",
      "1004   y 1/0/T/F/TRUE/FALSE 2012-11-28 '/Users/stevedepp/Documents/Personal/MSDS/413/R/challenge-2.csv'\n",
      "1005   y 1/0/T/F/TRUE/FALSE 2020-01-13 '/Users/stevedepp/Documents/Personal/MSDS/413/R/challenge-2.csv'\n",
      ".... ... .................. .......... ................................................................\n",
      "See problems(...) for more details.\n",
      "”Parsed with column specification:\n",
      "cols(\n",
      "  x = col_double(),\n",
      "  y = col_logical()\n",
      ")\n",
      "Warning message:\n",
      "“1000 parsing failures.\n",
      " row col           expected     actual                                                           file\n",
      "1001   y 1/0/T/F/TRUE/FALSE 2015-01-16 '/Users/stevedepp/Documents/Personal/MSDS/413/R/challenge.csv'\n",
      "1002   y 1/0/T/F/TRUE/FALSE 2018-05-18 '/Users/stevedepp/Documents/Personal/MSDS/413/R/challenge.csv'\n",
      "1003   y 1/0/T/F/TRUE/FALSE 2015-09-05 '/Users/stevedepp/Documents/Personal/MSDS/413/R/challenge.csv'\n",
      "1004   y 1/0/T/F/TRUE/FALSE 2012-11-28 '/Users/stevedepp/Documents/Personal/MSDS/413/R/challenge.csv'\n",
      "1005   y 1/0/T/F/TRUE/FALSE 2020-01-13 '/Users/stevedepp/Documents/Personal/MSDS/413/R/challenge.csv'\n",
      ".... ... .................. .......... ..............................................................\n",
      "See problems(...) for more details.\n",
      "”Parsed with column specification:\n",
      "cols(\n",
      "  carat = col_double(),\n",
      "  cut = col_character(),\n",
      "  color = col_character(),\n",
      "  clarity = col_character(),\n",
      "  depth = col_double(),\n",
      "  table = col_double(),\n",
      "  price = col_double(),\n",
      "  x = col_double(),\n",
      "  y = col_double(),\n",
      "  z = col_double()\n",
      ")\n",
      "Parsed with column specification:\n",
      "cols(\n",
      "  earn = col_double(),\n",
      "  height = col_double(),\n",
      "  sex = col_character(),\n",
      "  ed = col_double(),\n",
      "  age = col_double(),\n",
      "  race = col_character()\n",
      ")\n"
     ]
    },
    {
     "data": {
      "text/html": [
       "<dl>\n",
       "\t<dt>$`/Users/stevedepp/Documents/Personal/MSDS/413/R/challenge-2.csv`</dt>\n",
       "\t\t<dd><table>\n",
       "<thead><tr><th scope=col>x</th><th scope=col>y</th></tr></thead>\n",
       "<tbody>\n",
       "\t<tr><td> 404</td><td>NA  </td></tr>\n",
       "\t<tr><td>4172</td><td>NA  </td></tr>\n",
       "\t<tr><td>3004</td><td>NA  </td></tr>\n",
       "\t<tr><td> 787</td><td>NA  </td></tr>\n",
       "\t<tr><td>  37</td><td>NA  </td></tr>\n",
       "\t<tr><td>2332</td><td>NA  </td></tr>\n",
       "\t<tr><td>2489</td><td>NA  </td></tr>\n",
       "\t<tr><td>1449</td><td>NA  </td></tr>\n",
       "\t<tr><td>3665</td><td>NA  </td></tr>\n",
       "\t<tr><td>3863</td><td>NA  </td></tr>\n",
       "\t<tr><td>4374</td><td>NA  </td></tr>\n",
       "\t<tr><td> 875</td><td>NA  </td></tr>\n",
       "\t<tr><td> 172</td><td>NA  </td></tr>\n",
       "\t<tr><td>1602</td><td>NA  </td></tr>\n",
       "\t<tr><td>2012</td><td>NA  </td></tr>\n",
       "\t<tr><td> 979</td><td>NA  </td></tr>\n",
       "\t<tr><td>2018</td><td>NA  </td></tr>\n",
       "\t<tr><td> 319</td><td>NA  </td></tr>\n",
       "\t<tr><td>1944</td><td>NA  </td></tr>\n",
       "\t<tr><td>4878</td><td>NA  </td></tr>\n",
       "\t<tr><td>1450</td><td>NA  </td></tr>\n",
       "\t<tr><td>3392</td><td>NA  </td></tr>\n",
       "\t<tr><td>3677</td><td>NA  </td></tr>\n",
       "\t<tr><td> 980</td><td>NA  </td></tr>\n",
       "\t<tr><td>4903</td><td>NA  </td></tr>\n",
       "\t<tr><td>3708</td><td>NA  </td></tr>\n",
       "\t<tr><td> 258</td><td>NA  </td></tr>\n",
       "\t<tr><td>2652</td><td>NA  </td></tr>\n",
       "\t<tr><td>3480</td><td>NA  </td></tr>\n",
       "\t<tr><td>3443</td><td>NA  </td></tr>\n",
       "\t<tr><td>...</td><td>...</td></tr>\n",
       "\t<tr><td>0.14324546</td><td>NA        </td></tr>\n",
       "\t<tr><td>0.42678032</td><td>NA        </td></tr>\n",
       "\t<tr><td>0.56445359</td><td>NA        </td></tr>\n",
       "\t<tr><td>0.18729942</td><td>NA        </td></tr>\n",
       "\t<tr><td>0.60274952</td><td>NA        </td></tr>\n",
       "\t<tr><td>0.73487829</td><td>NA        </td></tr>\n",
       "\t<tr><td>0.06834881</td><td>NA        </td></tr>\n",
       "\t<tr><td>0.78291796</td><td>NA        </td></tr>\n",
       "\t<tr><td>0.92149271</td><td>NA        </td></tr>\n",
       "\t<tr><td>0.04428217</td><td>NA        </td></tr>\n",
       "\t<tr><td>0.71311485</td><td>NA        </td></tr>\n",
       "\t<tr><td>0.90388602</td><td>NA        </td></tr>\n",
       "\t<tr><td>0.73958150</td><td>NA        </td></tr>\n",
       "\t<tr><td>0.17217563</td><td>NA        </td></tr>\n",
       "\t<tr><td>0.18658998</td><td>NA        </td></tr>\n",
       "\t<tr><td>0.38248836</td><td>NA        </td></tr>\n",
       "\t<tr><td>0.45361328</td><td>NA        </td></tr>\n",
       "\t<tr><td>0.45513148</td><td>NA        </td></tr>\n",
       "\t<tr><td>0.17310278</td><td>NA        </td></tr>\n",
       "\t<tr><td>0.30541726</td><td>NA        </td></tr>\n",
       "\t<tr><td>0.86775210</td><td>NA        </td></tr>\n",
       "\t<tr><td>0.26023225</td><td>NA        </td></tr>\n",
       "\t<tr><td>0.68087076</td><td>NA        </td></tr>\n",
       "\t<tr><td>0.85357656</td><td>NA        </td></tr>\n",
       "\t<tr><td>0.80527431</td><td>NA        </td></tr>\n",
       "\t<tr><td>0.16351634</td><td>NA        </td></tr>\n",
       "\t<tr><td>0.47193898</td><td>NA        </td></tr>\n",
       "\t<tr><td>0.71831865</td><td>NA        </td></tr>\n",
       "\t<tr><td>0.26987859</td><td>NA        </td></tr>\n",
       "\t<tr><td>0.60823719</td><td>NA        </td></tr>\n",
       "</tbody>\n",
       "</table>\n",
       "</dd>\n",
       "\t<dt>$`/Users/stevedepp/Documents/Personal/MSDS/413/R/challenge.csv`</dt>\n",
       "\t\t<dd><table>\n",
       "<thead><tr><th scope=col>x</th><th scope=col>y</th></tr></thead>\n",
       "<tbody>\n",
       "\t<tr><td> 404</td><td>NA  </td></tr>\n",
       "\t<tr><td>4172</td><td>NA  </td></tr>\n",
       "\t<tr><td>3004</td><td>NA  </td></tr>\n",
       "\t<tr><td> 787</td><td>NA  </td></tr>\n",
       "\t<tr><td>  37</td><td>NA  </td></tr>\n",
       "\t<tr><td>2332</td><td>NA  </td></tr>\n",
       "\t<tr><td>2489</td><td>NA  </td></tr>\n",
       "\t<tr><td>1449</td><td>NA  </td></tr>\n",
       "\t<tr><td>3665</td><td>NA  </td></tr>\n",
       "\t<tr><td>3863</td><td>NA  </td></tr>\n",
       "\t<tr><td>4374</td><td>NA  </td></tr>\n",
       "\t<tr><td> 875</td><td>NA  </td></tr>\n",
       "\t<tr><td> 172</td><td>NA  </td></tr>\n",
       "\t<tr><td>1602</td><td>NA  </td></tr>\n",
       "\t<tr><td>2012</td><td>NA  </td></tr>\n",
       "\t<tr><td> 979</td><td>NA  </td></tr>\n",
       "\t<tr><td>2018</td><td>NA  </td></tr>\n",
       "\t<tr><td> 319</td><td>NA  </td></tr>\n",
       "\t<tr><td>1944</td><td>NA  </td></tr>\n",
       "\t<tr><td>4878</td><td>NA  </td></tr>\n",
       "\t<tr><td>1450</td><td>NA  </td></tr>\n",
       "\t<tr><td>3392</td><td>NA  </td></tr>\n",
       "\t<tr><td>3677</td><td>NA  </td></tr>\n",
       "\t<tr><td> 980</td><td>NA  </td></tr>\n",
       "\t<tr><td>4903</td><td>NA  </td></tr>\n",
       "\t<tr><td>3708</td><td>NA  </td></tr>\n",
       "\t<tr><td> 258</td><td>NA  </td></tr>\n",
       "\t<tr><td>2652</td><td>NA  </td></tr>\n",
       "\t<tr><td>3480</td><td>NA  </td></tr>\n",
       "\t<tr><td>3443</td><td>NA  </td></tr>\n",
       "\t<tr><td>...</td><td>...</td></tr>\n",
       "\t<tr><td>0.14324546</td><td>NA        </td></tr>\n",
       "\t<tr><td>0.42678032</td><td>NA        </td></tr>\n",
       "\t<tr><td>0.56445359</td><td>NA        </td></tr>\n",
       "\t<tr><td>0.18729942</td><td>NA        </td></tr>\n",
       "\t<tr><td>0.60274952</td><td>NA        </td></tr>\n",
       "\t<tr><td>0.73487829</td><td>NA        </td></tr>\n",
       "\t<tr><td>0.06834881</td><td>NA        </td></tr>\n",
       "\t<tr><td>0.78291796</td><td>NA        </td></tr>\n",
       "\t<tr><td>0.92149271</td><td>NA        </td></tr>\n",
       "\t<tr><td>0.04428217</td><td>NA        </td></tr>\n",
       "\t<tr><td>0.71311485</td><td>NA        </td></tr>\n",
       "\t<tr><td>0.90388602</td><td>NA        </td></tr>\n",
       "\t<tr><td>0.73958150</td><td>NA        </td></tr>\n",
       "\t<tr><td>0.17217563</td><td>NA        </td></tr>\n",
       "\t<tr><td>0.18658998</td><td>NA        </td></tr>\n",
       "\t<tr><td>0.38248836</td><td>NA        </td></tr>\n",
       "\t<tr><td>0.45361328</td><td>NA        </td></tr>\n",
       "\t<tr><td>0.45513148</td><td>NA        </td></tr>\n",
       "\t<tr><td>0.17310278</td><td>NA        </td></tr>\n",
       "\t<tr><td>0.30541726</td><td>NA        </td></tr>\n",
       "\t<tr><td>0.86775210</td><td>NA        </td></tr>\n",
       "\t<tr><td>0.26023225</td><td>NA        </td></tr>\n",
       "\t<tr><td>0.68087076</td><td>NA        </td></tr>\n",
       "\t<tr><td>0.85357656</td><td>NA        </td></tr>\n",
       "\t<tr><td>0.80527431</td><td>NA        </td></tr>\n",
       "\t<tr><td>0.16351634</td><td>NA        </td></tr>\n",
       "\t<tr><td>0.47193898</td><td>NA        </td></tr>\n",
       "\t<tr><td>0.71831865</td><td>NA        </td></tr>\n",
       "\t<tr><td>0.26987859</td><td>NA        </td></tr>\n",
       "\t<tr><td>0.60823719</td><td>NA        </td></tr>\n",
       "</tbody>\n",
       "</table>\n",
       "</dd>\n",
       "\t<dt>$`/Users/stevedepp/Documents/Personal/MSDS/413/R/diamonds.csv`</dt>\n",
       "\t\t<dd><table>\n",
       "<thead><tr><th scope=col>carat</th><th scope=col>cut</th><th scope=col>color</th><th scope=col>clarity</th><th scope=col>depth</th><th scope=col>table</th><th scope=col>price</th><th scope=col>x</th><th scope=col>y</th><th scope=col>z</th></tr></thead>\n",
       "<tbody>\n",
       "\t<tr><td>0.23     </td><td>Ideal    </td><td>E        </td><td>SI2      </td><td>61.5     </td><td>55       </td><td>326      </td><td>3.95     </td><td>3.98     </td><td>2.43     </td></tr>\n",
       "\t<tr><td>0.21     </td><td>Premium  </td><td>E        </td><td>SI1      </td><td>59.8     </td><td>61       </td><td>326      </td><td>3.89     </td><td>3.84     </td><td>2.31     </td></tr>\n",
       "\t<tr><td>0.23     </td><td>Good     </td><td>E        </td><td>VS1      </td><td>56.9     </td><td>65       </td><td>327      </td><td>4.05     </td><td>4.07     </td><td>2.31     </td></tr>\n",
       "\t<tr><td>0.29     </td><td>Premium  </td><td>I        </td><td>VS2      </td><td>62.4     </td><td>58       </td><td>334      </td><td>4.20     </td><td>4.23     </td><td>2.63     </td></tr>\n",
       "\t<tr><td>0.31     </td><td>Good     </td><td>J        </td><td>SI2      </td><td>63.3     </td><td>58       </td><td>335      </td><td>4.34     </td><td>4.35     </td><td>2.75     </td></tr>\n",
       "\t<tr><td>0.24     </td><td>Very Good</td><td>J        </td><td>VVS2     </td><td>62.8     </td><td>57       </td><td>336      </td><td>3.94     </td><td>3.96     </td><td>2.48     </td></tr>\n",
       "\t<tr><td>0.24     </td><td>Very Good</td><td>I        </td><td>VVS1     </td><td>62.3     </td><td>57       </td><td>336      </td><td>3.95     </td><td>3.98     </td><td>2.47     </td></tr>\n",
       "\t<tr><td>0.26     </td><td>Very Good</td><td>H        </td><td>SI1      </td><td>61.9     </td><td>55       </td><td>337      </td><td>4.07     </td><td>4.11     </td><td>2.53     </td></tr>\n",
       "\t<tr><td>0.22     </td><td>Fair     </td><td>E        </td><td>VS2      </td><td>65.1     </td><td>61       </td><td>337      </td><td>3.87     </td><td>3.78     </td><td>2.49     </td></tr>\n",
       "\t<tr><td>0.23     </td><td>Very Good</td><td>H        </td><td>VS1      </td><td>59.4     </td><td>61       </td><td>338      </td><td>4.00     </td><td>4.05     </td><td>2.39     </td></tr>\n",
       "\t<tr><td>0.30     </td><td>Good     </td><td>J        </td><td>SI1      </td><td>64.0     </td><td>55       </td><td>339      </td><td>4.25     </td><td>4.28     </td><td>2.73     </td></tr>\n",
       "\t<tr><td>0.23     </td><td>Ideal    </td><td>J        </td><td>VS1      </td><td>62.8     </td><td>56       </td><td>340      </td><td>3.93     </td><td>3.90     </td><td>2.46     </td></tr>\n",
       "\t<tr><td>0.22     </td><td>Premium  </td><td>F        </td><td>SI1      </td><td>60.4     </td><td>61       </td><td>342      </td><td>3.88     </td><td>3.84     </td><td>2.33     </td></tr>\n",
       "\t<tr><td>0.31     </td><td>Ideal    </td><td>J        </td><td>SI2      </td><td>62.2     </td><td>54       </td><td>344      </td><td>4.35     </td><td>4.37     </td><td>2.71     </td></tr>\n",
       "\t<tr><td>0.20     </td><td>Premium  </td><td>E        </td><td>SI2      </td><td>60.2     </td><td>62       </td><td>345      </td><td>3.79     </td><td>3.75     </td><td>2.27     </td></tr>\n",
       "\t<tr><td>0.32     </td><td>Premium  </td><td>E        </td><td>I1       </td><td>60.9     </td><td>58       </td><td>345      </td><td>4.38     </td><td>4.42     </td><td>2.68     </td></tr>\n",
       "\t<tr><td>0.30     </td><td>Ideal    </td><td>I        </td><td>SI2      </td><td>62.0     </td><td>54       </td><td>348      </td><td>4.31     </td><td>4.34     </td><td>2.68     </td></tr>\n",
       "\t<tr><td>0.30     </td><td>Good     </td><td>J        </td><td>SI1      </td><td>63.4     </td><td>54       </td><td>351      </td><td>4.23     </td><td>4.29     </td><td>2.70     </td></tr>\n",
       "\t<tr><td>0.30     </td><td>Good     </td><td>J        </td><td>SI1      </td><td>63.8     </td><td>56       </td><td>351      </td><td>4.23     </td><td>4.26     </td><td>2.71     </td></tr>\n",
       "\t<tr><td>0.30     </td><td>Very Good</td><td>J        </td><td>SI1      </td><td>62.7     </td><td>59       </td><td>351      </td><td>4.21     </td><td>4.27     </td><td>2.66     </td></tr>\n",
       "\t<tr><td>0.30     </td><td>Good     </td><td>I        </td><td>SI2      </td><td>63.3     </td><td>56       </td><td>351      </td><td>4.26     </td><td>4.30     </td><td>2.71     </td></tr>\n",
       "\t<tr><td>0.23     </td><td>Very Good</td><td>E        </td><td>VS2      </td><td>63.8     </td><td>55       </td><td>352      </td><td>3.85     </td><td>3.92     </td><td>2.48     </td></tr>\n",
       "\t<tr><td>0.23     </td><td>Very Good</td><td>H        </td><td>VS1      </td><td>61.0     </td><td>57       </td><td>353      </td><td>3.94     </td><td>3.96     </td><td>2.41     </td></tr>\n",
       "\t<tr><td>0.31     </td><td>Very Good</td><td>J        </td><td>SI1      </td><td>59.4     </td><td>62       </td><td>353      </td><td>4.39     </td><td>4.43     </td><td>2.62     </td></tr>\n",
       "\t<tr><td>0.31     </td><td>Very Good</td><td>J        </td><td>SI1      </td><td>58.1     </td><td>62       </td><td>353      </td><td>4.44     </td><td>4.47     </td><td>2.59     </td></tr>\n",
       "\t<tr><td>0.23     </td><td>Very Good</td><td>G        </td><td>VVS2     </td><td>60.4     </td><td>58       </td><td>354      </td><td>3.97     </td><td>4.01     </td><td>2.41     </td></tr>\n",
       "\t<tr><td>0.24     </td><td>Premium  </td><td>I        </td><td>VS1      </td><td>62.5     </td><td>57       </td><td>355      </td><td>3.97     </td><td>3.94     </td><td>2.47     </td></tr>\n",
       "\t<tr><td>0.30     </td><td>Very Good</td><td>J        </td><td>VS2      </td><td>62.2     </td><td>57       </td><td>357      </td><td>4.28     </td><td>4.30     </td><td>2.67     </td></tr>\n",
       "\t<tr><td>0.23     </td><td>Very Good</td><td>D        </td><td>VS2      </td><td>60.5     </td><td>61       </td><td>357      </td><td>3.96     </td><td>3.97     </td><td>2.40     </td></tr>\n",
       "\t<tr><td>0.23     </td><td>Very Good</td><td>F        </td><td>VS1      </td><td>60.9     </td><td>57       </td><td>357      </td><td>3.96     </td><td>3.99     </td><td>2.42     </td></tr>\n",
       "\t<tr><td>...</td><td>...</td><td>...</td><td>...</td><td>...</td><td>...</td><td>...</td><td>...</td><td>...</td><td>...</td></tr>\n",
       "\t<tr><td>0.70     </td><td>Premium  </td><td>E        </td><td>SI1      </td><td>60.5     </td><td>58       </td><td>2753     </td><td>5.74     </td><td>5.77     </td><td>3.48     </td></tr>\n",
       "\t<tr><td>0.57     </td><td>Premium  </td><td>E        </td><td>IF       </td><td>59.8     </td><td>60       </td><td>2753     </td><td>5.43     </td><td>5.38     </td><td>3.23     </td></tr>\n",
       "\t<tr><td>0.61     </td><td>Premium  </td><td>F        </td><td>VVS1     </td><td>61.8     </td><td>59       </td><td>2753     </td><td>5.48     </td><td>5.40     </td><td>3.36     </td></tr>\n",
       "\t<tr><td>0.80     </td><td>Good     </td><td>G        </td><td>VS2      </td><td>64.2     </td><td>58       </td><td>2753     </td><td>5.84     </td><td>5.81     </td><td>3.74     </td></tr>\n",
       "\t<tr><td>0.84     </td><td>Good     </td><td>I        </td><td>VS1      </td><td>63.7     </td><td>59       </td><td>2753     </td><td>5.94     </td><td>5.90     </td><td>3.77     </td></tr>\n",
       "\t<tr><td>0.77     </td><td>Ideal    </td><td>E        </td><td>SI2      </td><td>62.1     </td><td>56       </td><td>2753     </td><td>5.84     </td><td>5.86     </td><td>3.63     </td></tr>\n",
       "\t<tr><td>0.74     </td><td>Good     </td><td>D        </td><td>SI1      </td><td>63.1     </td><td>59       </td><td>2753     </td><td>5.71     </td><td>5.74     </td><td>3.61     </td></tr>\n",
       "\t<tr><td>0.90     </td><td>Very Good</td><td>J        </td><td>SI1      </td><td>63.2     </td><td>60       </td><td>2753     </td><td>6.12     </td><td>6.09     </td><td>3.86     </td></tr>\n",
       "\t<tr><td>0.76     </td><td>Premium  </td><td>I        </td><td>VS1      </td><td>59.3     </td><td>62       </td><td>2753     </td><td>5.93     </td><td>5.85     </td><td>3.49     </td></tr>\n",
       "\t<tr><td>0.76     </td><td>Ideal    </td><td>I        </td><td>VVS1     </td><td>62.2     </td><td>55       </td><td>2753     </td><td>5.89     </td><td>5.87     </td><td>3.66     </td></tr>\n",
       "\t<tr><td>0.70     </td><td>Very Good</td><td>E        </td><td>VS2      </td><td>62.4     </td><td>60       </td><td>2755     </td><td>5.57     </td><td>5.61     </td><td>3.49     </td></tr>\n",
       "\t<tr><td>0.70     </td><td>Very Good</td><td>E        </td><td>VS2      </td><td>62.8     </td><td>60       </td><td>2755     </td><td>5.59     </td><td>5.65     </td><td>3.53     </td></tr>\n",
       "\t<tr><td>0.70     </td><td>Very Good</td><td>D        </td><td>VS1      </td><td>63.1     </td><td>59       </td><td>2755     </td><td>5.67     </td><td>5.58     </td><td>3.55     </td></tr>\n",
       "\t<tr><td>0.73     </td><td>Ideal    </td><td>I        </td><td>VS2      </td><td>61.3     </td><td>56       </td><td>2756     </td><td>5.80     </td><td>5.84     </td><td>3.57     </td></tr>\n",
       "\t<tr><td>0.73     </td><td>Ideal    </td><td>I        </td><td>VS2      </td><td>61.6     </td><td>55       </td><td>2756     </td><td>5.82     </td><td>5.84     </td><td>3.59     </td></tr>\n",
       "\t<tr><td>0.79     </td><td>Ideal    </td><td>I        </td><td>SI1      </td><td>61.6     </td><td>56       </td><td>2756     </td><td>5.95     </td><td>5.97     </td><td>3.67     </td></tr>\n",
       "\t<tr><td>0.71     </td><td>Ideal    </td><td>E        </td><td>SI1      </td><td>61.9     </td><td>56       </td><td>2756     </td><td>5.71     </td><td>5.73     </td><td>3.54     </td></tr>\n",
       "\t<tr><td>0.79     </td><td>Good     </td><td>F        </td><td>SI1      </td><td>58.1     </td><td>59       </td><td>2756     </td><td>6.06     </td><td>6.13     </td><td>3.54     </td></tr>\n",
       "\t<tr><td>0.79     </td><td>Premium  </td><td>E        </td><td>SI2      </td><td>61.4     </td><td>58       </td><td>2756     </td><td>6.03     </td><td>5.96     </td><td>3.68     </td></tr>\n",
       "\t<tr><td>0.71     </td><td>Ideal    </td><td>G        </td><td>VS1      </td><td>61.4     </td><td>56       </td><td>2756     </td><td>5.76     </td><td>5.73     </td><td>3.53     </td></tr>\n",
       "\t<tr><td>0.71     </td><td>Premium  </td><td>E        </td><td>SI1      </td><td>60.5     </td><td>55       </td><td>2756     </td><td>5.79     </td><td>5.74     </td><td>3.49     </td></tr>\n",
       "\t<tr><td>0.71     </td><td>Premium  </td><td>F        </td><td>SI1      </td><td>59.8     </td><td>62       </td><td>2756     </td><td>5.74     </td><td>5.73     </td><td>3.43     </td></tr>\n",
       "\t<tr><td>0.70     </td><td>Very Good</td><td>E        </td><td>VS2      </td><td>60.5     </td><td>59       </td><td>2757     </td><td>5.71     </td><td>5.76     </td><td>3.47     </td></tr>\n",
       "\t<tr><td>0.70     </td><td>Very Good</td><td>E        </td><td>VS2      </td><td>61.2     </td><td>59       </td><td>2757     </td><td>5.69     </td><td>5.72     </td><td>3.49     </td></tr>\n",
       "\t<tr><td>0.72     </td><td>Premium  </td><td>D        </td><td>SI1      </td><td>62.7     </td><td>59       </td><td>2757     </td><td>5.69     </td><td>5.73     </td><td>3.58     </td></tr>\n",
       "\t<tr><td>0.72     </td><td>Ideal    </td><td>D        </td><td>SI1      </td><td>60.8     </td><td>57       </td><td>2757     </td><td>5.75     </td><td>5.76     </td><td>3.50     </td></tr>\n",
       "\t<tr><td>0.72     </td><td>Good     </td><td>D        </td><td>SI1      </td><td>63.1     </td><td>55       </td><td>2757     </td><td>5.69     </td><td>5.75     </td><td>3.61     </td></tr>\n",
       "\t<tr><td>0.70     </td><td>Very Good</td><td>D        </td><td>SI1      </td><td>62.8     </td><td>60       </td><td>2757     </td><td>5.66     </td><td>5.68     </td><td>3.56     </td></tr>\n",
       "\t<tr><td>0.86     </td><td>Premium  </td><td>H        </td><td>SI2      </td><td>61.0     </td><td>58       </td><td>2757     </td><td>6.15     </td><td>6.12     </td><td>3.74     </td></tr>\n",
       "\t<tr><td>0.75     </td><td>Ideal    </td><td>D        </td><td>SI2      </td><td>62.2     </td><td>55       </td><td>2757     </td><td>5.83     </td><td>5.87     </td><td>3.64     </td></tr>\n",
       "</tbody>\n",
       "</table>\n",
       "</dd>\n",
       "\t<dt>$`/Users/stevedepp/Documents/Personal/MSDS/413/R/heights.csv`</dt>\n",
       "\t\t<dd><table>\n",
       "<thead><tr><th scope=col>earn</th><th scope=col>height</th><th scope=col>sex</th><th scope=col>ed</th><th scope=col>age</th><th scope=col>race</th></tr></thead>\n",
       "<tbody>\n",
       "\t<tr><td>50000   </td><td>74.42444</td><td>male    </td><td>16      </td><td>45      </td><td>white   </td></tr>\n",
       "\t<tr><td>60000   </td><td>65.53754</td><td>female  </td><td>16      </td><td>58      </td><td>white   </td></tr>\n",
       "\t<tr><td>30000   </td><td>63.62920</td><td>female  </td><td>16      </td><td>29      </td><td>white   </td></tr>\n",
       "\t<tr><td>50000   </td><td>63.10856</td><td>female  </td><td>16      </td><td>91      </td><td>other   </td></tr>\n",
       "\t<tr><td>51000   </td><td>63.40248</td><td>female  </td><td>17      </td><td>39      </td><td>white   </td></tr>\n",
       "\t<tr><td> 9000   </td><td>64.39951</td><td>female  </td><td>15      </td><td>26      </td><td>white   </td></tr>\n",
       "\t<tr><td>29000   </td><td>61.65633</td><td>female  </td><td>12      </td><td>49      </td><td>white   </td></tr>\n",
       "\t<tr><td>32000   </td><td>72.69854</td><td>male    </td><td>17      </td><td>46      </td><td>white   </td></tr>\n",
       "\t<tr><td> 2000   </td><td>72.03947</td><td>male    </td><td>15      </td><td>21      </td><td>hispanic</td></tr>\n",
       "\t<tr><td>27000   </td><td>72.23493</td><td>male    </td><td>12      </td><td>26      </td><td>white   </td></tr>\n",
       "\t<tr><td> 6530   </td><td>69.51215</td><td>male    </td><td>16      </td><td>65      </td><td>white   </td></tr>\n",
       "\t<tr><td>30000   </td><td>68.03161</td><td>male    </td><td>11      </td><td>34      </td><td>white   </td></tr>\n",
       "\t<tr><td>12000   </td><td>67.55693</td><td>male    </td><td>12      </td><td>27      </td><td>white   </td></tr>\n",
       "\t<tr><td>12000   </td><td>65.43059</td><td>female  </td><td>12      </td><td>51      </td><td>white   </td></tr>\n",
       "\t<tr><td>22000   </td><td>65.66285</td><td>female  </td><td>16      </td><td>35      </td><td>white   </td></tr>\n",
       "\t<tr><td>17000   </td><td>67.75877</td><td>male    </td><td>12      </td><td>58      </td><td>white   </td></tr>\n",
       "\t<tr><td>40000   </td><td>68.35184</td><td>female  </td><td>14      </td><td>29      </td><td>white   </td></tr>\n",
       "\t<tr><td>44000   </td><td>69.60957</td><td>male    </td><td>13      </td><td>44      </td><td>white   </td></tr>\n",
       "\t<tr><td> 7000   </td><td>64.18457</td><td>female  </td><td>12      </td><td>55      </td><td>black   </td></tr>\n",
       "\t<tr><td>53000   </td><td>73.07461</td><td>male    </td><td>13      </td><td>35      </td><td>black   </td></tr>\n",
       "\t<tr><td> 5000   </td><td>62.37553</td><td>female  </td><td>13      </td><td>51      </td><td>white   </td></tr>\n",
       "\t<tr><td>14000   </td><td>63.02393</td><td>female  </td><td>14      </td><td>21      </td><td>white   </td></tr>\n",
       "\t<tr><td> 5500   </td><td>67.22990</td><td>male    </td><td>14      </td><td>22      </td><td>white   </td></tr>\n",
       "\t<tr><td>40000   </td><td>65.55111</td><td>female  </td><td>12      </td><td>41      </td><td>white   </td></tr>\n",
       "\t<tr><td>34000   </td><td>72.07965</td><td>male    </td><td>12      </td><td>45      </td><td>white   </td></tr>\n",
       "\t<tr><td>10000   </td><td>63.09113</td><td>female  </td><td>12      </td><td>35      </td><td>black   </td></tr>\n",
       "\t<tr><td>27000   </td><td>64.32355</td><td>female  </td><td>16      </td><td>60      </td><td>white   </td></tr>\n",
       "\t<tr><td>50000   </td><td>71.64285</td><td>male    </td><td>16      </td><td>38      </td><td>white   </td></tr>\n",
       "\t<tr><td>41000   </td><td>76.79309</td><td>male    </td><td>16      </td><td>33      </td><td>white   </td></tr>\n",
       "\t<tr><td>15000   </td><td>63.89391</td><td>female  </td><td>14      </td><td>25      </td><td>white   </td></tr>\n",
       "\t<tr><td>...</td><td>...</td><td>...</td><td>...</td><td>...</td><td>...</td></tr>\n",
       "\t<tr><td> 20000  </td><td>66.01494</td><td>female  </td><td>14      </td><td>43      </td><td>white   </td></tr>\n",
       "\t<tr><td> 40000  </td><td>65.76547</td><td>female  </td><td>16      </td><td>59      </td><td>white   </td></tr>\n",
       "\t<tr><td> 10000  </td><td>66.74771</td><td>male    </td><td>12      </td><td>77      </td><td>white   </td></tr>\n",
       "\t<tr><td> 16000  </td><td>66.14089</td><td>male    </td><td>12      </td><td>37      </td><td>white   </td></tr>\n",
       "\t<tr><td> 11000  </td><td>63.30037</td><td>female  </td><td> 9      </td><td>51      </td><td>white   </td></tr>\n",
       "\t<tr><td> 16000  </td><td>67.61928</td><td>female  </td><td>13      </td><td>43      </td><td>white   </td></tr>\n",
       "\t<tr><td> 18000  </td><td>70.42987</td><td>male    </td><td>12      </td><td>27      </td><td>white   </td></tr>\n",
       "\t<tr><td> 12000  </td><td>62.62478</td><td>female  </td><td>16      </td><td>26      </td><td>white   </td></tr>\n",
       "\t<tr><td>  4000  </td><td>69.98806</td><td>male    </td><td>14      </td><td>21      </td><td>black   </td></tr>\n",
       "\t<tr><td> 60000  </td><td>71.81932</td><td>male    </td><td>12      </td><td>45      </td><td>white   </td></tr>\n",
       "\t<tr><td> 43000  </td><td>74.77192</td><td>male    </td><td>17      </td><td>40      </td><td>white   </td></tr>\n",
       "\t<tr><td> 31000  </td><td>61.96560</td><td>female  </td><td>14      </td><td>39      </td><td>white   </td></tr>\n",
       "\t<tr><td> 50000  </td><td>68.21042</td><td>female  </td><td>17      </td><td>39      </td><td>white   </td></tr>\n",
       "\t<tr><td> 27000  </td><td>68.04935</td><td>female  </td><td>14      </td><td>29      </td><td>white   </td></tr>\n",
       "\t<tr><td> 30000  </td><td>70.49075</td><td>male    </td><td>17      </td><td>56      </td><td>white   </td></tr>\n",
       "\t<tr><td> 12000  </td><td>73.38321</td><td>male    </td><td>13      </td><td>21      </td><td>black   </td></tr>\n",
       "\t<tr><td> 20000  </td><td>62.13713</td><td>female  </td><td>17      </td><td>30      </td><td>white   </td></tr>\n",
       "\t<tr><td> 15000  </td><td>59.77629</td><td>female  </td><td>12      </td><td>76      </td><td>black   </td></tr>\n",
       "\t<tr><td> 25000  </td><td>64.15965</td><td>female  </td><td>16      </td><td>37      </td><td>other   </td></tr>\n",
       "\t<tr><td>  2000  </td><td>60.19710</td><td>female  </td><td> 6      </td><td>67      </td><td>hispanic</td></tr>\n",
       "\t<tr><td>  3000  </td><td>73.26521</td><td>male    </td><td>15      </td><td>20      </td><td>hispanic</td></tr>\n",
       "\t<tr><td>110000  </td><td>66.31204</td><td>female  </td><td>18      </td><td>48      </td><td>other   </td></tr>\n",
       "\t<tr><td> 55000  </td><td>68.99589</td><td>male    </td><td>18      </td><td>71      </td><td>white   </td></tr>\n",
       "\t<tr><td> 58000  </td><td>70.34337</td><td>male    </td><td>18      </td><td>53      </td><td>white   </td></tr>\n",
       "\t<tr><td> 10000  </td><td>70.05628</td><td>female  </td><td>16      </td><td>36      </td><td>white   </td></tr>\n",
       "\t<tr><td> 19000  </td><td>72.16573</td><td>male    </td><td>12      </td><td>29      </td><td>white   </td></tr>\n",
       "\t<tr><td> 15000  </td><td>61.13580</td><td>female  </td><td>18      </td><td>82      </td><td>white   </td></tr>\n",
       "\t<tr><td>  8000  </td><td>63.66416</td><td>female  </td><td>12      </td><td>33      </td><td>white   </td></tr>\n",
       "\t<tr><td> 60000  </td><td>71.92584</td><td>male    </td><td>12      </td><td>50      </td><td>white   </td></tr>\n",
       "\t<tr><td>  6000  </td><td>68.36849</td><td>male    </td><td>12      </td><td>27      </td><td>white   </td></tr>\n",
       "</tbody>\n",
       "</table>\n",
       "</dd>\n",
       "</dl>\n"
      ],
      "text/latex": [
       "\\begin{description}\n",
       "\\item[\\$`/Users/stevedepp/Documents/Personal/MSDS/413/R/challenge-2.csv`] \\begin{tabular}{r|ll}\n",
       " x & y\\\\\n",
       "\\hline\n",
       "\t  404 & NA  \\\\\n",
       "\t 4172 & NA  \\\\\n",
       "\t 3004 & NA  \\\\\n",
       "\t  787 & NA  \\\\\n",
       "\t   37 & NA  \\\\\n",
       "\t 2332 & NA  \\\\\n",
       "\t 2489 & NA  \\\\\n",
       "\t 1449 & NA  \\\\\n",
       "\t 3665 & NA  \\\\\n",
       "\t 3863 & NA  \\\\\n",
       "\t 4374 & NA  \\\\\n",
       "\t  875 & NA  \\\\\n",
       "\t  172 & NA  \\\\\n",
       "\t 1602 & NA  \\\\\n",
       "\t 2012 & NA  \\\\\n",
       "\t  979 & NA  \\\\\n",
       "\t 2018 & NA  \\\\\n",
       "\t  319 & NA  \\\\\n",
       "\t 1944 & NA  \\\\\n",
       "\t 4878 & NA  \\\\\n",
       "\t 1450 & NA  \\\\\n",
       "\t 3392 & NA  \\\\\n",
       "\t 3677 & NA  \\\\\n",
       "\t  980 & NA  \\\\\n",
       "\t 4903 & NA  \\\\\n",
       "\t 3708 & NA  \\\\\n",
       "\t  258 & NA  \\\\\n",
       "\t 2652 & NA  \\\\\n",
       "\t 3480 & NA  \\\\\n",
       "\t 3443 & NA  \\\\\n",
       "\t ... & ...\\\\\n",
       "\t 0.14324546 & NA        \\\\\n",
       "\t 0.42678032 & NA        \\\\\n",
       "\t 0.56445359 & NA        \\\\\n",
       "\t 0.18729942 & NA        \\\\\n",
       "\t 0.60274952 & NA        \\\\\n",
       "\t 0.73487829 & NA        \\\\\n",
       "\t 0.06834881 & NA        \\\\\n",
       "\t 0.78291796 & NA        \\\\\n",
       "\t 0.92149271 & NA        \\\\\n",
       "\t 0.04428217 & NA        \\\\\n",
       "\t 0.71311485 & NA        \\\\\n",
       "\t 0.90388602 & NA        \\\\\n",
       "\t 0.73958150 & NA        \\\\\n",
       "\t 0.17217563 & NA        \\\\\n",
       "\t 0.18658998 & NA        \\\\\n",
       "\t 0.38248836 & NA        \\\\\n",
       "\t 0.45361328 & NA        \\\\\n",
       "\t 0.45513148 & NA        \\\\\n",
       "\t 0.17310278 & NA        \\\\\n",
       "\t 0.30541726 & NA        \\\\\n",
       "\t 0.86775210 & NA        \\\\\n",
       "\t 0.26023225 & NA        \\\\\n",
       "\t 0.68087076 & NA        \\\\\n",
       "\t 0.85357656 & NA        \\\\\n",
       "\t 0.80527431 & NA        \\\\\n",
       "\t 0.16351634 & NA        \\\\\n",
       "\t 0.47193898 & NA        \\\\\n",
       "\t 0.71831865 & NA        \\\\\n",
       "\t 0.26987859 & NA        \\\\\n",
       "\t 0.60823719 & NA        \\\\\n",
       "\\end{tabular}\n",
       "\n",
       "\\item[\\$`/Users/stevedepp/Documents/Personal/MSDS/413/R/challenge.csv`] \\begin{tabular}{r|ll}\n",
       " x & y\\\\\n",
       "\\hline\n",
       "\t  404 & NA  \\\\\n",
       "\t 4172 & NA  \\\\\n",
       "\t 3004 & NA  \\\\\n",
       "\t  787 & NA  \\\\\n",
       "\t   37 & NA  \\\\\n",
       "\t 2332 & NA  \\\\\n",
       "\t 2489 & NA  \\\\\n",
       "\t 1449 & NA  \\\\\n",
       "\t 3665 & NA  \\\\\n",
       "\t 3863 & NA  \\\\\n",
       "\t 4374 & NA  \\\\\n",
       "\t  875 & NA  \\\\\n",
       "\t  172 & NA  \\\\\n",
       "\t 1602 & NA  \\\\\n",
       "\t 2012 & NA  \\\\\n",
       "\t  979 & NA  \\\\\n",
       "\t 2018 & NA  \\\\\n",
       "\t  319 & NA  \\\\\n",
       "\t 1944 & NA  \\\\\n",
       "\t 4878 & NA  \\\\\n",
       "\t 1450 & NA  \\\\\n",
       "\t 3392 & NA  \\\\\n",
       "\t 3677 & NA  \\\\\n",
       "\t  980 & NA  \\\\\n",
       "\t 4903 & NA  \\\\\n",
       "\t 3708 & NA  \\\\\n",
       "\t  258 & NA  \\\\\n",
       "\t 2652 & NA  \\\\\n",
       "\t 3480 & NA  \\\\\n",
       "\t 3443 & NA  \\\\\n",
       "\t ... & ...\\\\\n",
       "\t 0.14324546 & NA        \\\\\n",
       "\t 0.42678032 & NA        \\\\\n",
       "\t 0.56445359 & NA        \\\\\n",
       "\t 0.18729942 & NA        \\\\\n",
       "\t 0.60274952 & NA        \\\\\n",
       "\t 0.73487829 & NA        \\\\\n",
       "\t 0.06834881 & NA        \\\\\n",
       "\t 0.78291796 & NA        \\\\\n",
       "\t 0.92149271 & NA        \\\\\n",
       "\t 0.04428217 & NA        \\\\\n",
       "\t 0.71311485 & NA        \\\\\n",
       "\t 0.90388602 & NA        \\\\\n",
       "\t 0.73958150 & NA        \\\\\n",
       "\t 0.17217563 & NA        \\\\\n",
       "\t 0.18658998 & NA        \\\\\n",
       "\t 0.38248836 & NA        \\\\\n",
       "\t 0.45361328 & NA        \\\\\n",
       "\t 0.45513148 & NA        \\\\\n",
       "\t 0.17310278 & NA        \\\\\n",
       "\t 0.30541726 & NA        \\\\\n",
       "\t 0.86775210 & NA        \\\\\n",
       "\t 0.26023225 & NA        \\\\\n",
       "\t 0.68087076 & NA        \\\\\n",
       "\t 0.85357656 & NA        \\\\\n",
       "\t 0.80527431 & NA        \\\\\n",
       "\t 0.16351634 & NA        \\\\\n",
       "\t 0.47193898 & NA        \\\\\n",
       "\t 0.71831865 & NA        \\\\\n",
       "\t 0.26987859 & NA        \\\\\n",
       "\t 0.60823719 & NA        \\\\\n",
       "\\end{tabular}\n",
       "\n",
       "\\item[\\$`/Users/stevedepp/Documents/Personal/MSDS/413/R/diamonds.csv`] \\begin{tabular}{r|llllllllll}\n",
       " carat & cut & color & clarity & depth & table & price & x & y & z\\\\\n",
       "\\hline\n",
       "\t 0.23      & Ideal     & E         & SI2       & 61.5      & 55        & 326       & 3.95      & 3.98      & 2.43     \\\\\n",
       "\t 0.21      & Premium   & E         & SI1       & 59.8      & 61        & 326       & 3.89      & 3.84      & 2.31     \\\\\n",
       "\t 0.23      & Good      & E         & VS1       & 56.9      & 65        & 327       & 4.05      & 4.07      & 2.31     \\\\\n",
       "\t 0.29      & Premium   & I         & VS2       & 62.4      & 58        & 334       & 4.20      & 4.23      & 2.63     \\\\\n",
       "\t 0.31      & Good      & J         & SI2       & 63.3      & 58        & 335       & 4.34      & 4.35      & 2.75     \\\\\n",
       "\t 0.24      & Very Good & J         & VVS2      & 62.8      & 57        & 336       & 3.94      & 3.96      & 2.48     \\\\\n",
       "\t 0.24      & Very Good & I         & VVS1      & 62.3      & 57        & 336       & 3.95      & 3.98      & 2.47     \\\\\n",
       "\t 0.26      & Very Good & H         & SI1       & 61.9      & 55        & 337       & 4.07      & 4.11      & 2.53     \\\\\n",
       "\t 0.22      & Fair      & E         & VS2       & 65.1      & 61        & 337       & 3.87      & 3.78      & 2.49     \\\\\n",
       "\t 0.23      & Very Good & H         & VS1       & 59.4      & 61        & 338       & 4.00      & 4.05      & 2.39     \\\\\n",
       "\t 0.30      & Good      & J         & SI1       & 64.0      & 55        & 339       & 4.25      & 4.28      & 2.73     \\\\\n",
       "\t 0.23      & Ideal     & J         & VS1       & 62.8      & 56        & 340       & 3.93      & 3.90      & 2.46     \\\\\n",
       "\t 0.22      & Premium   & F         & SI1       & 60.4      & 61        & 342       & 3.88      & 3.84      & 2.33     \\\\\n",
       "\t 0.31      & Ideal     & J         & SI2       & 62.2      & 54        & 344       & 4.35      & 4.37      & 2.71     \\\\\n",
       "\t 0.20      & Premium   & E         & SI2       & 60.2      & 62        & 345       & 3.79      & 3.75      & 2.27     \\\\\n",
       "\t 0.32      & Premium   & E         & I1        & 60.9      & 58        & 345       & 4.38      & 4.42      & 2.68     \\\\\n",
       "\t 0.30      & Ideal     & I         & SI2       & 62.0      & 54        & 348       & 4.31      & 4.34      & 2.68     \\\\\n",
       "\t 0.30      & Good      & J         & SI1       & 63.4      & 54        & 351       & 4.23      & 4.29      & 2.70     \\\\\n",
       "\t 0.30      & Good      & J         & SI1       & 63.8      & 56        & 351       & 4.23      & 4.26      & 2.71     \\\\\n",
       "\t 0.30      & Very Good & J         & SI1       & 62.7      & 59        & 351       & 4.21      & 4.27      & 2.66     \\\\\n",
       "\t 0.30      & Good      & I         & SI2       & 63.3      & 56        & 351       & 4.26      & 4.30      & 2.71     \\\\\n",
       "\t 0.23      & Very Good & E         & VS2       & 63.8      & 55        & 352       & 3.85      & 3.92      & 2.48     \\\\\n",
       "\t 0.23      & Very Good & H         & VS1       & 61.0      & 57        & 353       & 3.94      & 3.96      & 2.41     \\\\\n",
       "\t 0.31      & Very Good & J         & SI1       & 59.4      & 62        & 353       & 4.39      & 4.43      & 2.62     \\\\\n",
       "\t 0.31      & Very Good & J         & SI1       & 58.1      & 62        & 353       & 4.44      & 4.47      & 2.59     \\\\\n",
       "\t 0.23      & Very Good & G         & VVS2      & 60.4      & 58        & 354       & 3.97      & 4.01      & 2.41     \\\\\n",
       "\t 0.24      & Premium   & I         & VS1       & 62.5      & 57        & 355       & 3.97      & 3.94      & 2.47     \\\\\n",
       "\t 0.30      & Very Good & J         & VS2       & 62.2      & 57        & 357       & 4.28      & 4.30      & 2.67     \\\\\n",
       "\t 0.23      & Very Good & D         & VS2       & 60.5      & 61        & 357       & 3.96      & 3.97      & 2.40     \\\\\n",
       "\t 0.23      & Very Good & F         & VS1       & 60.9      & 57        & 357       & 3.96      & 3.99      & 2.42     \\\\\n",
       "\t ... & ... & ... & ... & ... & ... & ... & ... & ... & ...\\\\\n",
       "\t 0.70      & Premium   & E         & SI1       & 60.5      & 58        & 2753      & 5.74      & 5.77      & 3.48     \\\\\n",
       "\t 0.57      & Premium   & E         & IF        & 59.8      & 60        & 2753      & 5.43      & 5.38      & 3.23     \\\\\n",
       "\t 0.61      & Premium   & F         & VVS1      & 61.8      & 59        & 2753      & 5.48      & 5.40      & 3.36     \\\\\n",
       "\t 0.80      & Good      & G         & VS2       & 64.2      & 58        & 2753      & 5.84      & 5.81      & 3.74     \\\\\n",
       "\t 0.84      & Good      & I         & VS1       & 63.7      & 59        & 2753      & 5.94      & 5.90      & 3.77     \\\\\n",
       "\t 0.77      & Ideal     & E         & SI2       & 62.1      & 56        & 2753      & 5.84      & 5.86      & 3.63     \\\\\n",
       "\t 0.74      & Good      & D         & SI1       & 63.1      & 59        & 2753      & 5.71      & 5.74      & 3.61     \\\\\n",
       "\t 0.90      & Very Good & J         & SI1       & 63.2      & 60        & 2753      & 6.12      & 6.09      & 3.86     \\\\\n",
       "\t 0.76      & Premium   & I         & VS1       & 59.3      & 62        & 2753      & 5.93      & 5.85      & 3.49     \\\\\n",
       "\t 0.76      & Ideal     & I         & VVS1      & 62.2      & 55        & 2753      & 5.89      & 5.87      & 3.66     \\\\\n",
       "\t 0.70      & Very Good & E         & VS2       & 62.4      & 60        & 2755      & 5.57      & 5.61      & 3.49     \\\\\n",
       "\t 0.70      & Very Good & E         & VS2       & 62.8      & 60        & 2755      & 5.59      & 5.65      & 3.53     \\\\\n",
       "\t 0.70      & Very Good & D         & VS1       & 63.1      & 59        & 2755      & 5.67      & 5.58      & 3.55     \\\\\n",
       "\t 0.73      & Ideal     & I         & VS2       & 61.3      & 56        & 2756      & 5.80      & 5.84      & 3.57     \\\\\n",
       "\t 0.73      & Ideal     & I         & VS2       & 61.6      & 55        & 2756      & 5.82      & 5.84      & 3.59     \\\\\n",
       "\t 0.79      & Ideal     & I         & SI1       & 61.6      & 56        & 2756      & 5.95      & 5.97      & 3.67     \\\\\n",
       "\t 0.71      & Ideal     & E         & SI1       & 61.9      & 56        & 2756      & 5.71      & 5.73      & 3.54     \\\\\n",
       "\t 0.79      & Good      & F         & SI1       & 58.1      & 59        & 2756      & 6.06      & 6.13      & 3.54     \\\\\n",
       "\t 0.79      & Premium   & E         & SI2       & 61.4      & 58        & 2756      & 6.03      & 5.96      & 3.68     \\\\\n",
       "\t 0.71      & Ideal     & G         & VS1       & 61.4      & 56        & 2756      & 5.76      & 5.73      & 3.53     \\\\\n",
       "\t 0.71      & Premium   & E         & SI1       & 60.5      & 55        & 2756      & 5.79      & 5.74      & 3.49     \\\\\n",
       "\t 0.71      & Premium   & F         & SI1       & 59.8      & 62        & 2756      & 5.74      & 5.73      & 3.43     \\\\\n",
       "\t 0.70      & Very Good & E         & VS2       & 60.5      & 59        & 2757      & 5.71      & 5.76      & 3.47     \\\\\n",
       "\t 0.70      & Very Good & E         & VS2       & 61.2      & 59        & 2757      & 5.69      & 5.72      & 3.49     \\\\\n",
       "\t 0.72      & Premium   & D         & SI1       & 62.7      & 59        & 2757      & 5.69      & 5.73      & 3.58     \\\\\n",
       "\t 0.72      & Ideal     & D         & SI1       & 60.8      & 57        & 2757      & 5.75      & 5.76      & 3.50     \\\\\n",
       "\t 0.72      & Good      & D         & SI1       & 63.1      & 55        & 2757      & 5.69      & 5.75      & 3.61     \\\\\n",
       "\t 0.70      & Very Good & D         & SI1       & 62.8      & 60        & 2757      & 5.66      & 5.68      & 3.56     \\\\\n",
       "\t 0.86      & Premium   & H         & SI2       & 61.0      & 58        & 2757      & 6.15      & 6.12      & 3.74     \\\\\n",
       "\t 0.75      & Ideal     & D         & SI2       & 62.2      & 55        & 2757      & 5.83      & 5.87      & 3.64     \\\\\n",
       "\\end{tabular}\n",
       "\n",
       "\\item[\\$`/Users/stevedepp/Documents/Personal/MSDS/413/R/heights.csv`] \\begin{tabular}{r|llllll}\n",
       " earn & height & sex & ed & age & race\\\\\n",
       "\\hline\n",
       "\t 50000    & 74.42444 & male     & 16       & 45       & white   \\\\\n",
       "\t 60000    & 65.53754 & female   & 16       & 58       & white   \\\\\n",
       "\t 30000    & 63.62920 & female   & 16       & 29       & white   \\\\\n",
       "\t 50000    & 63.10856 & female   & 16       & 91       & other   \\\\\n",
       "\t 51000    & 63.40248 & female   & 17       & 39       & white   \\\\\n",
       "\t  9000    & 64.39951 & female   & 15       & 26       & white   \\\\\n",
       "\t 29000    & 61.65633 & female   & 12       & 49       & white   \\\\\n",
       "\t 32000    & 72.69854 & male     & 17       & 46       & white   \\\\\n",
       "\t  2000    & 72.03947 & male     & 15       & 21       & hispanic\\\\\n",
       "\t 27000    & 72.23493 & male     & 12       & 26       & white   \\\\\n",
       "\t  6530    & 69.51215 & male     & 16       & 65       & white   \\\\\n",
       "\t 30000    & 68.03161 & male     & 11       & 34       & white   \\\\\n",
       "\t 12000    & 67.55693 & male     & 12       & 27       & white   \\\\\n",
       "\t 12000    & 65.43059 & female   & 12       & 51       & white   \\\\\n",
       "\t 22000    & 65.66285 & female   & 16       & 35       & white   \\\\\n",
       "\t 17000    & 67.75877 & male     & 12       & 58       & white   \\\\\n",
       "\t 40000    & 68.35184 & female   & 14       & 29       & white   \\\\\n",
       "\t 44000    & 69.60957 & male     & 13       & 44       & white   \\\\\n",
       "\t  7000    & 64.18457 & female   & 12       & 55       & black   \\\\\n",
       "\t 53000    & 73.07461 & male     & 13       & 35       & black   \\\\\n",
       "\t  5000    & 62.37553 & female   & 13       & 51       & white   \\\\\n",
       "\t 14000    & 63.02393 & female   & 14       & 21       & white   \\\\\n",
       "\t  5500    & 67.22990 & male     & 14       & 22       & white   \\\\\n",
       "\t 40000    & 65.55111 & female   & 12       & 41       & white   \\\\\n",
       "\t 34000    & 72.07965 & male     & 12       & 45       & white   \\\\\n",
       "\t 10000    & 63.09113 & female   & 12       & 35       & black   \\\\\n",
       "\t 27000    & 64.32355 & female   & 16       & 60       & white   \\\\\n",
       "\t 50000    & 71.64285 & male     & 16       & 38       & white   \\\\\n",
       "\t 41000    & 76.79309 & male     & 16       & 33       & white   \\\\\n",
       "\t 15000    & 63.89391 & female   & 14       & 25       & white   \\\\\n",
       "\t ... & ... & ... & ... & ... & ...\\\\\n",
       "\t  20000   & 66.01494 & female   & 14       & 43       & white   \\\\\n",
       "\t  40000   & 65.76547 & female   & 16       & 59       & white   \\\\\n",
       "\t  10000   & 66.74771 & male     & 12       & 77       & white   \\\\\n",
       "\t  16000   & 66.14089 & male     & 12       & 37       & white   \\\\\n",
       "\t  11000   & 63.30037 & female   &  9       & 51       & white   \\\\\n",
       "\t  16000   & 67.61928 & female   & 13       & 43       & white   \\\\\n",
       "\t  18000   & 70.42987 & male     & 12       & 27       & white   \\\\\n",
       "\t  12000   & 62.62478 & female   & 16       & 26       & white   \\\\\n",
       "\t   4000   & 69.98806 & male     & 14       & 21       & black   \\\\\n",
       "\t  60000   & 71.81932 & male     & 12       & 45       & white   \\\\\n",
       "\t  43000   & 74.77192 & male     & 17       & 40       & white   \\\\\n",
       "\t  31000   & 61.96560 & female   & 14       & 39       & white   \\\\\n",
       "\t  50000   & 68.21042 & female   & 17       & 39       & white   \\\\\n",
       "\t  27000   & 68.04935 & female   & 14       & 29       & white   \\\\\n",
       "\t  30000   & 70.49075 & male     & 17       & 56       & white   \\\\\n",
       "\t  12000   & 73.38321 & male     & 13       & 21       & black   \\\\\n",
       "\t  20000   & 62.13713 & female   & 17       & 30       & white   \\\\\n",
       "\t  15000   & 59.77629 & female   & 12       & 76       & black   \\\\\n",
       "\t  25000   & 64.15965 & female   & 16       & 37       & other   \\\\\n",
       "\t   2000   & 60.19710 & female   &  6       & 67       & hispanic\\\\\n",
       "\t   3000   & 73.26521 & male     & 15       & 20       & hispanic\\\\\n",
       "\t 110000   & 66.31204 & female   & 18       & 48       & other   \\\\\n",
       "\t  55000   & 68.99589 & male     & 18       & 71       & white   \\\\\n",
       "\t  58000   & 70.34337 & male     & 18       & 53       & white   \\\\\n",
       "\t  10000   & 70.05628 & female   & 16       & 36       & white   \\\\\n",
       "\t  19000   & 72.16573 & male     & 12       & 29       & white   \\\\\n",
       "\t  15000   & 61.13580 & female   & 18       & 82       & white   \\\\\n",
       "\t   8000   & 63.66416 & female   & 12       & 33       & white   \\\\\n",
       "\t  60000   & 71.92584 & male     & 12       & 50       & white   \\\\\n",
       "\t   6000   & 68.36849 & male     & 12       & 27       & white   \\\\\n",
       "\\end{tabular}\n",
       "\n",
       "\\end{description}\n"
      ],
      "text/markdown": [
       "$`/Users/stevedepp/Documents/Personal/MSDS/413/R/challenge-2.csv`\n",
       ":   \n",
       "| x | y |\n",
       "|---|---|\n",
       "|  404 | NA   |\n",
       "| 4172 | NA   |\n",
       "| 3004 | NA   |\n",
       "|  787 | NA   |\n",
       "|   37 | NA   |\n",
       "| 2332 | NA   |\n",
       "| 2489 | NA   |\n",
       "| 1449 | NA   |\n",
       "| 3665 | NA   |\n",
       "| 3863 | NA   |\n",
       "| 4374 | NA   |\n",
       "|  875 | NA   |\n",
       "|  172 | NA   |\n",
       "| 1602 | NA   |\n",
       "| 2012 | NA   |\n",
       "|  979 | NA   |\n",
       "| 2018 | NA   |\n",
       "|  319 | NA   |\n",
       "| 1944 | NA   |\n",
       "| 4878 | NA   |\n",
       "| 1450 | NA   |\n",
       "| 3392 | NA   |\n",
       "| 3677 | NA   |\n",
       "|  980 | NA   |\n",
       "| 4903 | NA   |\n",
       "| 3708 | NA   |\n",
       "|  258 | NA   |\n",
       "| 2652 | NA   |\n",
       "| 3480 | NA   |\n",
       "| 3443 | NA   |\n",
       "| ... | ... |\n",
       "| 0.14324546 | NA         |\n",
       "| 0.42678032 | NA         |\n",
       "| 0.56445359 | NA         |\n",
       "| 0.18729942 | NA         |\n",
       "| 0.60274952 | NA         |\n",
       "| 0.73487829 | NA         |\n",
       "| 0.06834881 | NA         |\n",
       "| 0.78291796 | NA         |\n",
       "| 0.92149271 | NA         |\n",
       "| 0.04428217 | NA         |\n",
       "| 0.71311485 | NA         |\n",
       "| 0.90388602 | NA         |\n",
       "| 0.73958150 | NA         |\n",
       "| 0.17217563 | NA         |\n",
       "| 0.18658998 | NA         |\n",
       "| 0.38248836 | NA         |\n",
       "| 0.45361328 | NA         |\n",
       "| 0.45513148 | NA         |\n",
       "| 0.17310278 | NA         |\n",
       "| 0.30541726 | NA         |\n",
       "| 0.86775210 | NA         |\n",
       "| 0.26023225 | NA         |\n",
       "| 0.68087076 | NA         |\n",
       "| 0.85357656 | NA         |\n",
       "| 0.80527431 | NA         |\n",
       "| 0.16351634 | NA         |\n",
       "| 0.47193898 | NA         |\n",
       "| 0.71831865 | NA         |\n",
       "| 0.26987859 | NA         |\n",
       "| 0.60823719 | NA         |\n",
       "\n",
       "\n",
       "$`/Users/stevedepp/Documents/Personal/MSDS/413/R/challenge.csv`\n",
       ":   \n",
       "| x | y |\n",
       "|---|---|\n",
       "|  404 | NA   |\n",
       "| 4172 | NA   |\n",
       "| 3004 | NA   |\n",
       "|  787 | NA   |\n",
       "|   37 | NA   |\n",
       "| 2332 | NA   |\n",
       "| 2489 | NA   |\n",
       "| 1449 | NA   |\n",
       "| 3665 | NA   |\n",
       "| 3863 | NA   |\n",
       "| 4374 | NA   |\n",
       "|  875 | NA   |\n",
       "|  172 | NA   |\n",
       "| 1602 | NA   |\n",
       "| 2012 | NA   |\n",
       "|  979 | NA   |\n",
       "| 2018 | NA   |\n",
       "|  319 | NA   |\n",
       "| 1944 | NA   |\n",
       "| 4878 | NA   |\n",
       "| 1450 | NA   |\n",
       "| 3392 | NA   |\n",
       "| 3677 | NA   |\n",
       "|  980 | NA   |\n",
       "| 4903 | NA   |\n",
       "| 3708 | NA   |\n",
       "|  258 | NA   |\n",
       "| 2652 | NA   |\n",
       "| 3480 | NA   |\n",
       "| 3443 | NA   |\n",
       "| ... | ... |\n",
       "| 0.14324546 | NA         |\n",
       "| 0.42678032 | NA         |\n",
       "| 0.56445359 | NA         |\n",
       "| 0.18729942 | NA         |\n",
       "| 0.60274952 | NA         |\n",
       "| 0.73487829 | NA         |\n",
       "| 0.06834881 | NA         |\n",
       "| 0.78291796 | NA         |\n",
       "| 0.92149271 | NA         |\n",
       "| 0.04428217 | NA         |\n",
       "| 0.71311485 | NA         |\n",
       "| 0.90388602 | NA         |\n",
       "| 0.73958150 | NA         |\n",
       "| 0.17217563 | NA         |\n",
       "| 0.18658998 | NA         |\n",
       "| 0.38248836 | NA         |\n",
       "| 0.45361328 | NA         |\n",
       "| 0.45513148 | NA         |\n",
       "| 0.17310278 | NA         |\n",
       "| 0.30541726 | NA         |\n",
       "| 0.86775210 | NA         |\n",
       "| 0.26023225 | NA         |\n",
       "| 0.68087076 | NA         |\n",
       "| 0.85357656 | NA         |\n",
       "| 0.80527431 | NA         |\n",
       "| 0.16351634 | NA         |\n",
       "| 0.47193898 | NA         |\n",
       "| 0.71831865 | NA         |\n",
       "| 0.26987859 | NA         |\n",
       "| 0.60823719 | NA         |\n",
       "\n",
       "\n",
       "$`/Users/stevedepp/Documents/Personal/MSDS/413/R/diamonds.csv`\n",
       ":   \n",
       "| carat | cut | color | clarity | depth | table | price | x | y | z |\n",
       "|---|---|---|---|---|---|---|---|---|---|\n",
       "| 0.23      | Ideal     | E         | SI2       | 61.5      | 55        | 326       | 3.95      | 3.98      | 2.43      |\n",
       "| 0.21      | Premium   | E         | SI1       | 59.8      | 61        | 326       | 3.89      | 3.84      | 2.31      |\n",
       "| 0.23      | Good      | E         | VS1       | 56.9      | 65        | 327       | 4.05      | 4.07      | 2.31      |\n",
       "| 0.29      | Premium   | I         | VS2       | 62.4      | 58        | 334       | 4.20      | 4.23      | 2.63      |\n",
       "| 0.31      | Good      | J         | SI2       | 63.3      | 58        | 335       | 4.34      | 4.35      | 2.75      |\n",
       "| 0.24      | Very Good | J         | VVS2      | 62.8      | 57        | 336       | 3.94      | 3.96      | 2.48      |\n",
       "| 0.24      | Very Good | I         | VVS1      | 62.3      | 57        | 336       | 3.95      | 3.98      | 2.47      |\n",
       "| 0.26      | Very Good | H         | SI1       | 61.9      | 55        | 337       | 4.07      | 4.11      | 2.53      |\n",
       "| 0.22      | Fair      | E         | VS2       | 65.1      | 61        | 337       | 3.87      | 3.78      | 2.49      |\n",
       "| 0.23      | Very Good | H         | VS1       | 59.4      | 61        | 338       | 4.00      | 4.05      | 2.39      |\n",
       "| 0.30      | Good      | J         | SI1       | 64.0      | 55        | 339       | 4.25      | 4.28      | 2.73      |\n",
       "| 0.23      | Ideal     | J         | VS1       | 62.8      | 56        | 340       | 3.93      | 3.90      | 2.46      |\n",
       "| 0.22      | Premium   | F         | SI1       | 60.4      | 61        | 342       | 3.88      | 3.84      | 2.33      |\n",
       "| 0.31      | Ideal     | J         | SI2       | 62.2      | 54        | 344       | 4.35      | 4.37      | 2.71      |\n",
       "| 0.20      | Premium   | E         | SI2       | 60.2      | 62        | 345       | 3.79      | 3.75      | 2.27      |\n",
       "| 0.32      | Premium   | E         | I1        | 60.9      | 58        | 345       | 4.38      | 4.42      | 2.68      |\n",
       "| 0.30      | Ideal     | I         | SI2       | 62.0      | 54        | 348       | 4.31      | 4.34      | 2.68      |\n",
       "| 0.30      | Good      | J         | SI1       | 63.4      | 54        | 351       | 4.23      | 4.29      | 2.70      |\n",
       "| 0.30      | Good      | J         | SI1       | 63.8      | 56        | 351       | 4.23      | 4.26      | 2.71      |\n",
       "| 0.30      | Very Good | J         | SI1       | 62.7      | 59        | 351       | 4.21      | 4.27      | 2.66      |\n",
       "| 0.30      | Good      | I         | SI2       | 63.3      | 56        | 351       | 4.26      | 4.30      | 2.71      |\n",
       "| 0.23      | Very Good | E         | VS2       | 63.8      | 55        | 352       | 3.85      | 3.92      | 2.48      |\n",
       "| 0.23      | Very Good | H         | VS1       | 61.0      | 57        | 353       | 3.94      | 3.96      | 2.41      |\n",
       "| 0.31      | Very Good | J         | SI1       | 59.4      | 62        | 353       | 4.39      | 4.43      | 2.62      |\n",
       "| 0.31      | Very Good | J         | SI1       | 58.1      | 62        | 353       | 4.44      | 4.47      | 2.59      |\n",
       "| 0.23      | Very Good | G         | VVS2      | 60.4      | 58        | 354       | 3.97      | 4.01      | 2.41      |\n",
       "| 0.24      | Premium   | I         | VS1       | 62.5      | 57        | 355       | 3.97      | 3.94      | 2.47      |\n",
       "| 0.30      | Very Good | J         | VS2       | 62.2      | 57        | 357       | 4.28      | 4.30      | 2.67      |\n",
       "| 0.23      | Very Good | D         | VS2       | 60.5      | 61        | 357       | 3.96      | 3.97      | 2.40      |\n",
       "| 0.23      | Very Good | F         | VS1       | 60.9      | 57        | 357       | 3.96      | 3.99      | 2.42      |\n",
       "| ... | ... | ... | ... | ... | ... | ... | ... | ... | ... |\n",
       "| 0.70      | Premium   | E         | SI1       | 60.5      | 58        | 2753      | 5.74      | 5.77      | 3.48      |\n",
       "| 0.57      | Premium   | E         | IF        | 59.8      | 60        | 2753      | 5.43      | 5.38      | 3.23      |\n",
       "| 0.61      | Premium   | F         | VVS1      | 61.8      | 59        | 2753      | 5.48      | 5.40      | 3.36      |\n",
       "| 0.80      | Good      | G         | VS2       | 64.2      | 58        | 2753      | 5.84      | 5.81      | 3.74      |\n",
       "| 0.84      | Good      | I         | VS1       | 63.7      | 59        | 2753      | 5.94      | 5.90      | 3.77      |\n",
       "| 0.77      | Ideal     | E         | SI2       | 62.1      | 56        | 2753      | 5.84      | 5.86      | 3.63      |\n",
       "| 0.74      | Good      | D         | SI1       | 63.1      | 59        | 2753      | 5.71      | 5.74      | 3.61      |\n",
       "| 0.90      | Very Good | J         | SI1       | 63.2      | 60        | 2753      | 6.12      | 6.09      | 3.86      |\n",
       "| 0.76      | Premium   | I         | VS1       | 59.3      | 62        | 2753      | 5.93      | 5.85      | 3.49      |\n",
       "| 0.76      | Ideal     | I         | VVS1      | 62.2      | 55        | 2753      | 5.89      | 5.87      | 3.66      |\n",
       "| 0.70      | Very Good | E         | VS2       | 62.4      | 60        | 2755      | 5.57      | 5.61      | 3.49      |\n",
       "| 0.70      | Very Good | E         | VS2       | 62.8      | 60        | 2755      | 5.59      | 5.65      | 3.53      |\n",
       "| 0.70      | Very Good | D         | VS1       | 63.1      | 59        | 2755      | 5.67      | 5.58      | 3.55      |\n",
       "| 0.73      | Ideal     | I         | VS2       | 61.3      | 56        | 2756      | 5.80      | 5.84      | 3.57      |\n",
       "| 0.73      | Ideal     | I         | VS2       | 61.6      | 55        | 2756      | 5.82      | 5.84      | 3.59      |\n",
       "| 0.79      | Ideal     | I         | SI1       | 61.6      | 56        | 2756      | 5.95      | 5.97      | 3.67      |\n",
       "| 0.71      | Ideal     | E         | SI1       | 61.9      | 56        | 2756      | 5.71      | 5.73      | 3.54      |\n",
       "| 0.79      | Good      | F         | SI1       | 58.1      | 59        | 2756      | 6.06      | 6.13      | 3.54      |\n",
       "| 0.79      | Premium   | E         | SI2       | 61.4      | 58        | 2756      | 6.03      | 5.96      | 3.68      |\n",
       "| 0.71      | Ideal     | G         | VS1       | 61.4      | 56        | 2756      | 5.76      | 5.73      | 3.53      |\n",
       "| 0.71      | Premium   | E         | SI1       | 60.5      | 55        | 2756      | 5.79      | 5.74      | 3.49      |\n",
       "| 0.71      | Premium   | F         | SI1       | 59.8      | 62        | 2756      | 5.74      | 5.73      | 3.43      |\n",
       "| 0.70      | Very Good | E         | VS2       | 60.5      | 59        | 2757      | 5.71      | 5.76      | 3.47      |\n",
       "| 0.70      | Very Good | E         | VS2       | 61.2      | 59        | 2757      | 5.69      | 5.72      | 3.49      |\n",
       "| 0.72      | Premium   | D         | SI1       | 62.7      | 59        | 2757      | 5.69      | 5.73      | 3.58      |\n",
       "| 0.72      | Ideal     | D         | SI1       | 60.8      | 57        | 2757      | 5.75      | 5.76      | 3.50      |\n",
       "| 0.72      | Good      | D         | SI1       | 63.1      | 55        | 2757      | 5.69      | 5.75      | 3.61      |\n",
       "| 0.70      | Very Good | D         | SI1       | 62.8      | 60        | 2757      | 5.66      | 5.68      | 3.56      |\n",
       "| 0.86      | Premium   | H         | SI2       | 61.0      | 58        | 2757      | 6.15      | 6.12      | 3.74      |\n",
       "| 0.75      | Ideal     | D         | SI2       | 62.2      | 55        | 2757      | 5.83      | 5.87      | 3.64      |\n",
       "\n",
       "\n",
       "$`/Users/stevedepp/Documents/Personal/MSDS/413/R/heights.csv`\n",
       ":   \n",
       "| earn | height | sex | ed | age | race |\n",
       "|---|---|---|---|---|---|\n",
       "| 50000    | 74.42444 | male     | 16       | 45       | white    |\n",
       "| 60000    | 65.53754 | female   | 16       | 58       | white    |\n",
       "| 30000    | 63.62920 | female   | 16       | 29       | white    |\n",
       "| 50000    | 63.10856 | female   | 16       | 91       | other    |\n",
       "| 51000    | 63.40248 | female   | 17       | 39       | white    |\n",
       "|  9000    | 64.39951 | female   | 15       | 26       | white    |\n",
       "| 29000    | 61.65633 | female   | 12       | 49       | white    |\n",
       "| 32000    | 72.69854 | male     | 17       | 46       | white    |\n",
       "|  2000    | 72.03947 | male     | 15       | 21       | hispanic |\n",
       "| 27000    | 72.23493 | male     | 12       | 26       | white    |\n",
       "|  6530    | 69.51215 | male     | 16       | 65       | white    |\n",
       "| 30000    | 68.03161 | male     | 11       | 34       | white    |\n",
       "| 12000    | 67.55693 | male     | 12       | 27       | white    |\n",
       "| 12000    | 65.43059 | female   | 12       | 51       | white    |\n",
       "| 22000    | 65.66285 | female   | 16       | 35       | white    |\n",
       "| 17000    | 67.75877 | male     | 12       | 58       | white    |\n",
       "| 40000    | 68.35184 | female   | 14       | 29       | white    |\n",
       "| 44000    | 69.60957 | male     | 13       | 44       | white    |\n",
       "|  7000    | 64.18457 | female   | 12       | 55       | black    |\n",
       "| 53000    | 73.07461 | male     | 13       | 35       | black    |\n",
       "|  5000    | 62.37553 | female   | 13       | 51       | white    |\n",
       "| 14000    | 63.02393 | female   | 14       | 21       | white    |\n",
       "|  5500    | 67.22990 | male     | 14       | 22       | white    |\n",
       "| 40000    | 65.55111 | female   | 12       | 41       | white    |\n",
       "| 34000    | 72.07965 | male     | 12       | 45       | white    |\n",
       "| 10000    | 63.09113 | female   | 12       | 35       | black    |\n",
       "| 27000    | 64.32355 | female   | 16       | 60       | white    |\n",
       "| 50000    | 71.64285 | male     | 16       | 38       | white    |\n",
       "| 41000    | 76.79309 | male     | 16       | 33       | white    |\n",
       "| 15000    | 63.89391 | female   | 14       | 25       | white    |\n",
       "| ... | ... | ... | ... | ... | ... |\n",
       "|  20000   | 66.01494 | female   | 14       | 43       | white    |\n",
       "|  40000   | 65.76547 | female   | 16       | 59       | white    |\n",
       "|  10000   | 66.74771 | male     | 12       | 77       | white    |\n",
       "|  16000   | 66.14089 | male     | 12       | 37       | white    |\n",
       "|  11000   | 63.30037 | female   |  9       | 51       | white    |\n",
       "|  16000   | 67.61928 | female   | 13       | 43       | white    |\n",
       "|  18000   | 70.42987 | male     | 12       | 27       | white    |\n",
       "|  12000   | 62.62478 | female   | 16       | 26       | white    |\n",
       "|   4000   | 69.98806 | male     | 14       | 21       | black    |\n",
       "|  60000   | 71.81932 | male     | 12       | 45       | white    |\n",
       "|  43000   | 74.77192 | male     | 17       | 40       | white    |\n",
       "|  31000   | 61.96560 | female   | 14       | 39       | white    |\n",
       "|  50000   | 68.21042 | female   | 17       | 39       | white    |\n",
       "|  27000   | 68.04935 | female   | 14       | 29       | white    |\n",
       "|  30000   | 70.49075 | male     | 17       | 56       | white    |\n",
       "|  12000   | 73.38321 | male     | 13       | 21       | black    |\n",
       "|  20000   | 62.13713 | female   | 17       | 30       | white    |\n",
       "|  15000   | 59.77629 | female   | 12       | 76       | black    |\n",
       "|  25000   | 64.15965 | female   | 16       | 37       | other    |\n",
       "|   2000   | 60.19710 | female   |  6       | 67       | hispanic |\n",
       "|   3000   | 73.26521 | male     | 15       | 20       | hispanic |\n",
       "| 110000   | 66.31204 | female   | 18       | 48       | other    |\n",
       "|  55000   | 68.99589 | male     | 18       | 71       | white    |\n",
       "|  58000   | 70.34337 | male     | 18       | 53       | white    |\n",
       "|  10000   | 70.05628 | female   | 16       | 36       | white    |\n",
       "|  19000   | 72.16573 | male     | 12       | 29       | white    |\n",
       "|  15000   | 61.13580 | female   | 18       | 82       | white    |\n",
       "|   8000   | 63.66416 | female   | 12       | 33       | white    |\n",
       "|  60000   | 71.92584 | male     | 12       | 50       | white    |\n",
       "|   6000   | 68.36849 | male     | 12       | 27       | white    |\n",
       "\n",
       "\n",
       "\n",
       "\n"
      ],
      "text/plain": [
       "$`/Users/stevedepp/Documents/Personal/MSDS/413/R/challenge-2.csv`\n",
       "# A tibble: 2,000 x 2\n",
       "       x y    \n",
       "   <dbl> <lgl>\n",
       " 1   404 NA   \n",
       " 2  4172 NA   \n",
       " 3  3004 NA   \n",
       " 4   787 NA   \n",
       " 5    37 NA   \n",
       " 6  2332 NA   \n",
       " 7  2489 NA   \n",
       " 8  1449 NA   \n",
       " 9  3665 NA   \n",
       "10  3863 NA   \n",
       "# … with 1,990 more rows\n",
       "\n",
       "$`/Users/stevedepp/Documents/Personal/MSDS/413/R/challenge.csv`\n",
       "# A tibble: 2,000 x 2\n",
       "       x y    \n",
       "   <dbl> <lgl>\n",
       " 1   404 NA   \n",
       " 2  4172 NA   \n",
       " 3  3004 NA   \n",
       " 4   787 NA   \n",
       " 5    37 NA   \n",
       " 6  2332 NA   \n",
       " 7  2489 NA   \n",
       " 8  1449 NA   \n",
       " 9  3665 NA   \n",
       "10  3863 NA   \n",
       "# … with 1,990 more rows\n",
       "\n",
       "$`/Users/stevedepp/Documents/Personal/MSDS/413/R/diamonds.csv`\n",
       "# A tibble: 53,940 x 10\n",
       "   carat cut       color clarity depth table price     x     y     z\n",
       "   <dbl> <chr>     <chr> <chr>   <dbl> <dbl> <dbl> <dbl> <dbl> <dbl>\n",
       " 1 0.23  Ideal     E     SI2      61.5    55   326  3.95  3.98  2.43\n",
       " 2 0.21  Premium   E     SI1      59.8    61   326  3.89  3.84  2.31\n",
       " 3 0.23  Good      E     VS1      56.9    65   327  4.05  4.07  2.31\n",
       " 4 0.290 Premium   I     VS2      62.4    58   334  4.2   4.23  2.63\n",
       " 5 0.31  Good      J     SI2      63.3    58   335  4.34  4.35  2.75\n",
       " 6 0.24  Very Good J     VVS2     62.8    57   336  3.94  3.96  2.48\n",
       " 7 0.24  Very Good I     VVS1     62.3    57   336  3.95  3.98  2.47\n",
       " 8 0.26  Very Good H     SI1      61.9    55   337  4.07  4.11  2.53\n",
       " 9 0.22  Fair      E     VS2      65.1    61   337  3.87  3.78  2.49\n",
       "10 0.23  Very Good H     VS1      59.4    61   338  4     4.05  2.39\n",
       "# … with 53,930 more rows\n",
       "\n",
       "$`/Users/stevedepp/Documents/Personal/MSDS/413/R/heights.csv`\n",
       "# A tibble: 1,192 x 6\n",
       "    earn height sex       ed   age race    \n",
       "   <dbl>  <dbl> <chr>  <dbl> <dbl> <chr>   \n",
       " 1 50000   74.4 male      16    45 white   \n",
       " 2 60000   65.5 female    16    58 white   \n",
       " 3 30000   63.6 female    16    29 white   \n",
       " 4 50000   63.1 female    16    91 other   \n",
       " 5 51000   63.4 female    17    39 white   \n",
       " 6  9000   64.4 female    15    26 white   \n",
       " 7 29000   61.7 female    12    49 white   \n",
       " 8 32000   72.7 male      17    46 white   \n",
       " 9  2000   72.0 male      15    21 hispanic\n",
       "10 27000   72.2 male      12    26 white   \n",
       "# … with 1,182 more rows\n"
      ]
     },
     "metadata": {},
     "output_type": "display_data"
    }
   ],
   "source": [
    "df2_list <- vector(\"list\", length(files))\n",
    "df2_list\n",
    "names(df2_list) <- files\n",
    "for (fname in files) {\n",
    "  df2_list[[fname]] <- read_csv(fname)\n",
    "}\n",
    "df2_list"
   ]
  },
  {
   "cell_type": "code",
   "execution_count": 59,
   "metadata": {},
   "outputs": [
    {
     "data": {
      "text/html": [
       "<table>\n",
       "<thead><tr><th scope=col>x</th><th scope=col>y</th><th scope=col>carat</th><th scope=col>cut</th><th scope=col>color</th><th scope=col>clarity</th><th scope=col>depth</th><th scope=col>table</th><th scope=col>price</th><th scope=col>z</th><th scope=col>earn</th><th scope=col>height</th><th scope=col>sex</th><th scope=col>ed</th><th scope=col>age</th><th scope=col>race</th></tr></thead>\n",
       "<tbody>\n",
       "\t<tr><td> 404</td><td>NA  </td><td>NA  </td><td>NA  </td><td>NA  </td><td>NA  </td><td>NA  </td><td>NA  </td><td>NA  </td><td>NA  </td><td>NA  </td><td>NA  </td><td>NA  </td><td>NA  </td><td>NA  </td><td>NA  </td></tr>\n",
       "\t<tr><td>4172</td><td>NA  </td><td>NA  </td><td>NA  </td><td>NA  </td><td>NA  </td><td>NA  </td><td>NA  </td><td>NA  </td><td>NA  </td><td>NA  </td><td>NA  </td><td>NA  </td><td>NA  </td><td>NA  </td><td>NA  </td></tr>\n",
       "\t<tr><td>3004</td><td>NA  </td><td>NA  </td><td>NA  </td><td>NA  </td><td>NA  </td><td>NA  </td><td>NA  </td><td>NA  </td><td>NA  </td><td>NA  </td><td>NA  </td><td>NA  </td><td>NA  </td><td>NA  </td><td>NA  </td></tr>\n",
       "\t<tr><td> 787</td><td>NA  </td><td>NA  </td><td>NA  </td><td>NA  </td><td>NA  </td><td>NA  </td><td>NA  </td><td>NA  </td><td>NA  </td><td>NA  </td><td>NA  </td><td>NA  </td><td>NA  </td><td>NA  </td><td>NA  </td></tr>\n",
       "\t<tr><td>  37</td><td>NA  </td><td>NA  </td><td>NA  </td><td>NA  </td><td>NA  </td><td>NA  </td><td>NA  </td><td>NA  </td><td>NA  </td><td>NA  </td><td>NA  </td><td>NA  </td><td>NA  </td><td>NA  </td><td>NA  </td></tr>\n",
       "\t<tr><td>2332</td><td>NA  </td><td>NA  </td><td>NA  </td><td>NA  </td><td>NA  </td><td>NA  </td><td>NA  </td><td>NA  </td><td>NA  </td><td>NA  </td><td>NA  </td><td>NA  </td><td>NA  </td><td>NA  </td><td>NA  </td></tr>\n",
       "\t<tr><td>2489</td><td>NA  </td><td>NA  </td><td>NA  </td><td>NA  </td><td>NA  </td><td>NA  </td><td>NA  </td><td>NA  </td><td>NA  </td><td>NA  </td><td>NA  </td><td>NA  </td><td>NA  </td><td>NA  </td><td>NA  </td></tr>\n",
       "\t<tr><td>1449</td><td>NA  </td><td>NA  </td><td>NA  </td><td>NA  </td><td>NA  </td><td>NA  </td><td>NA  </td><td>NA  </td><td>NA  </td><td>NA  </td><td>NA  </td><td>NA  </td><td>NA  </td><td>NA  </td><td>NA  </td></tr>\n",
       "\t<tr><td>3665</td><td>NA  </td><td>NA  </td><td>NA  </td><td>NA  </td><td>NA  </td><td>NA  </td><td>NA  </td><td>NA  </td><td>NA  </td><td>NA  </td><td>NA  </td><td>NA  </td><td>NA  </td><td>NA  </td><td>NA  </td></tr>\n",
       "\t<tr><td>3863</td><td>NA  </td><td>NA  </td><td>NA  </td><td>NA  </td><td>NA  </td><td>NA  </td><td>NA  </td><td>NA  </td><td>NA  </td><td>NA  </td><td>NA  </td><td>NA  </td><td>NA  </td><td>NA  </td><td>NA  </td></tr>\n",
       "\t<tr><td>4374</td><td>NA  </td><td>NA  </td><td>NA  </td><td>NA  </td><td>NA  </td><td>NA  </td><td>NA  </td><td>NA  </td><td>NA  </td><td>NA  </td><td>NA  </td><td>NA  </td><td>NA  </td><td>NA  </td><td>NA  </td></tr>\n",
       "\t<tr><td> 875</td><td>NA  </td><td>NA  </td><td>NA  </td><td>NA  </td><td>NA  </td><td>NA  </td><td>NA  </td><td>NA  </td><td>NA  </td><td>NA  </td><td>NA  </td><td>NA  </td><td>NA  </td><td>NA  </td><td>NA  </td></tr>\n",
       "\t<tr><td> 172</td><td>NA  </td><td>NA  </td><td>NA  </td><td>NA  </td><td>NA  </td><td>NA  </td><td>NA  </td><td>NA  </td><td>NA  </td><td>NA  </td><td>NA  </td><td>NA  </td><td>NA  </td><td>NA  </td><td>NA  </td></tr>\n",
       "\t<tr><td>1602</td><td>NA  </td><td>NA  </td><td>NA  </td><td>NA  </td><td>NA  </td><td>NA  </td><td>NA  </td><td>NA  </td><td>NA  </td><td>NA  </td><td>NA  </td><td>NA  </td><td>NA  </td><td>NA  </td><td>NA  </td></tr>\n",
       "\t<tr><td>2012</td><td>NA  </td><td>NA  </td><td>NA  </td><td>NA  </td><td>NA  </td><td>NA  </td><td>NA  </td><td>NA  </td><td>NA  </td><td>NA  </td><td>NA  </td><td>NA  </td><td>NA  </td><td>NA  </td><td>NA  </td></tr>\n",
       "\t<tr><td> 979</td><td>NA  </td><td>NA  </td><td>NA  </td><td>NA  </td><td>NA  </td><td>NA  </td><td>NA  </td><td>NA  </td><td>NA  </td><td>NA  </td><td>NA  </td><td>NA  </td><td>NA  </td><td>NA  </td><td>NA  </td></tr>\n",
       "\t<tr><td>2018</td><td>NA  </td><td>NA  </td><td>NA  </td><td>NA  </td><td>NA  </td><td>NA  </td><td>NA  </td><td>NA  </td><td>NA  </td><td>NA  </td><td>NA  </td><td>NA  </td><td>NA  </td><td>NA  </td><td>NA  </td></tr>\n",
       "\t<tr><td> 319</td><td>NA  </td><td>NA  </td><td>NA  </td><td>NA  </td><td>NA  </td><td>NA  </td><td>NA  </td><td>NA  </td><td>NA  </td><td>NA  </td><td>NA  </td><td>NA  </td><td>NA  </td><td>NA  </td><td>NA  </td></tr>\n",
       "\t<tr><td>1944</td><td>NA  </td><td>NA  </td><td>NA  </td><td>NA  </td><td>NA  </td><td>NA  </td><td>NA  </td><td>NA  </td><td>NA  </td><td>NA  </td><td>NA  </td><td>NA  </td><td>NA  </td><td>NA  </td><td>NA  </td></tr>\n",
       "\t<tr><td>4878</td><td>NA  </td><td>NA  </td><td>NA  </td><td>NA  </td><td>NA  </td><td>NA  </td><td>NA  </td><td>NA  </td><td>NA  </td><td>NA  </td><td>NA  </td><td>NA  </td><td>NA  </td><td>NA  </td><td>NA  </td></tr>\n",
       "\t<tr><td>1450</td><td>NA  </td><td>NA  </td><td>NA  </td><td>NA  </td><td>NA  </td><td>NA  </td><td>NA  </td><td>NA  </td><td>NA  </td><td>NA  </td><td>NA  </td><td>NA  </td><td>NA  </td><td>NA  </td><td>NA  </td></tr>\n",
       "\t<tr><td>3392</td><td>NA  </td><td>NA  </td><td>NA  </td><td>NA  </td><td>NA  </td><td>NA  </td><td>NA  </td><td>NA  </td><td>NA  </td><td>NA  </td><td>NA  </td><td>NA  </td><td>NA  </td><td>NA  </td><td>NA  </td></tr>\n",
       "\t<tr><td>3677</td><td>NA  </td><td>NA  </td><td>NA  </td><td>NA  </td><td>NA  </td><td>NA  </td><td>NA  </td><td>NA  </td><td>NA  </td><td>NA  </td><td>NA  </td><td>NA  </td><td>NA  </td><td>NA  </td><td>NA  </td></tr>\n",
       "\t<tr><td> 980</td><td>NA  </td><td>NA  </td><td>NA  </td><td>NA  </td><td>NA  </td><td>NA  </td><td>NA  </td><td>NA  </td><td>NA  </td><td>NA  </td><td>NA  </td><td>NA  </td><td>NA  </td><td>NA  </td><td>NA  </td></tr>\n",
       "\t<tr><td>4903</td><td>NA  </td><td>NA  </td><td>NA  </td><td>NA  </td><td>NA  </td><td>NA  </td><td>NA  </td><td>NA  </td><td>NA  </td><td>NA  </td><td>NA  </td><td>NA  </td><td>NA  </td><td>NA  </td><td>NA  </td></tr>\n",
       "\t<tr><td>3708</td><td>NA  </td><td>NA  </td><td>NA  </td><td>NA  </td><td>NA  </td><td>NA  </td><td>NA  </td><td>NA  </td><td>NA  </td><td>NA  </td><td>NA  </td><td>NA  </td><td>NA  </td><td>NA  </td><td>NA  </td></tr>\n",
       "\t<tr><td> 258</td><td>NA  </td><td>NA  </td><td>NA  </td><td>NA  </td><td>NA  </td><td>NA  </td><td>NA  </td><td>NA  </td><td>NA  </td><td>NA  </td><td>NA  </td><td>NA  </td><td>NA  </td><td>NA  </td><td>NA  </td></tr>\n",
       "\t<tr><td>2652</td><td>NA  </td><td>NA  </td><td>NA  </td><td>NA  </td><td>NA  </td><td>NA  </td><td>NA  </td><td>NA  </td><td>NA  </td><td>NA  </td><td>NA  </td><td>NA  </td><td>NA  </td><td>NA  </td><td>NA  </td></tr>\n",
       "\t<tr><td>3480</td><td>NA  </td><td>NA  </td><td>NA  </td><td>NA  </td><td>NA  </td><td>NA  </td><td>NA  </td><td>NA  </td><td>NA  </td><td>NA  </td><td>NA  </td><td>NA  </td><td>NA  </td><td>NA  </td><td>NA  </td></tr>\n",
       "\t<tr><td>3443</td><td>NA  </td><td>NA  </td><td>NA  </td><td>NA  </td><td>NA  </td><td>NA  </td><td>NA  </td><td>NA  </td><td>NA  </td><td>NA  </td><td>NA  </td><td>NA  </td><td>NA  </td><td>NA  </td><td>NA  </td></tr>\n",
       "\t<tr><td>...</td><td>...</td><td>...</td><td>...</td><td>...</td><td>...</td><td>...</td><td>...</td><td>...</td><td>...</td><td>...</td><td>...</td><td>...</td><td>...</td><td>...</td><td>...</td></tr>\n",
       "\t<tr><td>NA      </td><td>NA      </td><td>NA      </td><td>NA      </td><td>NA      </td><td>NA      </td><td>NA      </td><td>NA      </td><td>NA      </td><td>NA      </td><td> 20000  </td><td>66.01494</td><td>female  </td><td>14      </td><td>43      </td><td>white   </td></tr>\n",
       "\t<tr><td>NA      </td><td>NA      </td><td>NA      </td><td>NA      </td><td>NA      </td><td>NA      </td><td>NA      </td><td>NA      </td><td>NA      </td><td>NA      </td><td> 40000  </td><td>65.76547</td><td>female  </td><td>16      </td><td>59      </td><td>white   </td></tr>\n",
       "\t<tr><td>NA      </td><td>NA      </td><td>NA      </td><td>NA      </td><td>NA      </td><td>NA      </td><td>NA      </td><td>NA      </td><td>NA      </td><td>NA      </td><td> 10000  </td><td>66.74771</td><td>male    </td><td>12      </td><td>77      </td><td>white   </td></tr>\n",
       "\t<tr><td>NA      </td><td>NA      </td><td>NA      </td><td>NA      </td><td>NA      </td><td>NA      </td><td>NA      </td><td>NA      </td><td>NA      </td><td>NA      </td><td> 16000  </td><td>66.14089</td><td>male    </td><td>12      </td><td>37      </td><td>white   </td></tr>\n",
       "\t<tr><td>NA      </td><td>NA      </td><td>NA      </td><td>NA      </td><td>NA      </td><td>NA      </td><td>NA      </td><td>NA      </td><td>NA      </td><td>NA      </td><td> 11000  </td><td>63.30037</td><td>female  </td><td> 9      </td><td>51      </td><td>white   </td></tr>\n",
       "\t<tr><td>NA      </td><td>NA      </td><td>NA      </td><td>NA      </td><td>NA      </td><td>NA      </td><td>NA      </td><td>NA      </td><td>NA      </td><td>NA      </td><td> 16000  </td><td>67.61928</td><td>female  </td><td>13      </td><td>43      </td><td>white   </td></tr>\n",
       "\t<tr><td>NA      </td><td>NA      </td><td>NA      </td><td>NA      </td><td>NA      </td><td>NA      </td><td>NA      </td><td>NA      </td><td>NA      </td><td>NA      </td><td> 18000  </td><td>70.42987</td><td>male    </td><td>12      </td><td>27      </td><td>white   </td></tr>\n",
       "\t<tr><td>NA      </td><td>NA      </td><td>NA      </td><td>NA      </td><td>NA      </td><td>NA      </td><td>NA      </td><td>NA      </td><td>NA      </td><td>NA      </td><td> 12000  </td><td>62.62478</td><td>female  </td><td>16      </td><td>26      </td><td>white   </td></tr>\n",
       "\t<tr><td>NA      </td><td>NA      </td><td>NA      </td><td>NA      </td><td>NA      </td><td>NA      </td><td>NA      </td><td>NA      </td><td>NA      </td><td>NA      </td><td>  4000  </td><td>69.98806</td><td>male    </td><td>14      </td><td>21      </td><td>black   </td></tr>\n",
       "\t<tr><td>NA      </td><td>NA      </td><td>NA      </td><td>NA      </td><td>NA      </td><td>NA      </td><td>NA      </td><td>NA      </td><td>NA      </td><td>NA      </td><td> 60000  </td><td>71.81932</td><td>male    </td><td>12      </td><td>45      </td><td>white   </td></tr>\n",
       "\t<tr><td>NA      </td><td>NA      </td><td>NA      </td><td>NA      </td><td>NA      </td><td>NA      </td><td>NA      </td><td>NA      </td><td>NA      </td><td>NA      </td><td> 43000  </td><td>74.77192</td><td>male    </td><td>17      </td><td>40      </td><td>white   </td></tr>\n",
       "\t<tr><td>NA      </td><td>NA      </td><td>NA      </td><td>NA      </td><td>NA      </td><td>NA      </td><td>NA      </td><td>NA      </td><td>NA      </td><td>NA      </td><td> 31000  </td><td>61.96560</td><td>female  </td><td>14      </td><td>39      </td><td>white   </td></tr>\n",
       "\t<tr><td>NA      </td><td>NA      </td><td>NA      </td><td>NA      </td><td>NA      </td><td>NA      </td><td>NA      </td><td>NA      </td><td>NA      </td><td>NA      </td><td> 50000  </td><td>68.21042</td><td>female  </td><td>17      </td><td>39      </td><td>white   </td></tr>\n",
       "\t<tr><td>NA      </td><td>NA      </td><td>NA      </td><td>NA      </td><td>NA      </td><td>NA      </td><td>NA      </td><td>NA      </td><td>NA      </td><td>NA      </td><td> 27000  </td><td>68.04935</td><td>female  </td><td>14      </td><td>29      </td><td>white   </td></tr>\n",
       "\t<tr><td>NA      </td><td>NA      </td><td>NA      </td><td>NA      </td><td>NA      </td><td>NA      </td><td>NA      </td><td>NA      </td><td>NA      </td><td>NA      </td><td> 30000  </td><td>70.49075</td><td>male    </td><td>17      </td><td>56      </td><td>white   </td></tr>\n",
       "\t<tr><td>NA      </td><td>NA      </td><td>NA      </td><td>NA      </td><td>NA      </td><td>NA      </td><td>NA      </td><td>NA      </td><td>NA      </td><td>NA      </td><td> 12000  </td><td>73.38321</td><td>male    </td><td>13      </td><td>21      </td><td>black   </td></tr>\n",
       "\t<tr><td>NA      </td><td>NA      </td><td>NA      </td><td>NA      </td><td>NA      </td><td>NA      </td><td>NA      </td><td>NA      </td><td>NA      </td><td>NA      </td><td> 20000  </td><td>62.13713</td><td>female  </td><td>17      </td><td>30      </td><td>white   </td></tr>\n",
       "\t<tr><td>NA      </td><td>NA      </td><td>NA      </td><td>NA      </td><td>NA      </td><td>NA      </td><td>NA      </td><td>NA      </td><td>NA      </td><td>NA      </td><td> 15000  </td><td>59.77629</td><td>female  </td><td>12      </td><td>76      </td><td>black   </td></tr>\n",
       "\t<tr><td>NA      </td><td>NA      </td><td>NA      </td><td>NA      </td><td>NA      </td><td>NA      </td><td>NA      </td><td>NA      </td><td>NA      </td><td>NA      </td><td> 25000  </td><td>64.15965</td><td>female  </td><td>16      </td><td>37      </td><td>other   </td></tr>\n",
       "\t<tr><td>NA      </td><td>NA      </td><td>NA      </td><td>NA      </td><td>NA      </td><td>NA      </td><td>NA      </td><td>NA      </td><td>NA      </td><td>NA      </td><td>  2000  </td><td>60.19710</td><td>female  </td><td> 6      </td><td>67      </td><td>hispanic</td></tr>\n",
       "\t<tr><td>NA      </td><td>NA      </td><td>NA      </td><td>NA      </td><td>NA      </td><td>NA      </td><td>NA      </td><td>NA      </td><td>NA      </td><td>NA      </td><td>  3000  </td><td>73.26521</td><td>male    </td><td>15      </td><td>20      </td><td>hispanic</td></tr>\n",
       "\t<tr><td>NA      </td><td>NA      </td><td>NA      </td><td>NA      </td><td>NA      </td><td>NA      </td><td>NA      </td><td>NA      </td><td>NA      </td><td>NA      </td><td>110000  </td><td>66.31204</td><td>female  </td><td>18      </td><td>48      </td><td>other   </td></tr>\n",
       "\t<tr><td>NA      </td><td>NA      </td><td>NA      </td><td>NA      </td><td>NA      </td><td>NA      </td><td>NA      </td><td>NA      </td><td>NA      </td><td>NA      </td><td> 55000  </td><td>68.99589</td><td>male    </td><td>18      </td><td>71      </td><td>white   </td></tr>\n",
       "\t<tr><td>NA      </td><td>NA      </td><td>NA      </td><td>NA      </td><td>NA      </td><td>NA      </td><td>NA      </td><td>NA      </td><td>NA      </td><td>NA      </td><td> 58000  </td><td>70.34337</td><td>male    </td><td>18      </td><td>53      </td><td>white   </td></tr>\n",
       "\t<tr><td>NA      </td><td>NA      </td><td>NA      </td><td>NA      </td><td>NA      </td><td>NA      </td><td>NA      </td><td>NA      </td><td>NA      </td><td>NA      </td><td> 10000  </td><td>70.05628</td><td>female  </td><td>16      </td><td>36      </td><td>white   </td></tr>\n",
       "\t<tr><td>NA      </td><td>NA      </td><td>NA      </td><td>NA      </td><td>NA      </td><td>NA      </td><td>NA      </td><td>NA      </td><td>NA      </td><td>NA      </td><td> 19000  </td><td>72.16573</td><td>male    </td><td>12      </td><td>29      </td><td>white   </td></tr>\n",
       "\t<tr><td>NA      </td><td>NA      </td><td>NA      </td><td>NA      </td><td>NA      </td><td>NA      </td><td>NA      </td><td>NA      </td><td>NA      </td><td>NA      </td><td> 15000  </td><td>61.13580</td><td>female  </td><td>18      </td><td>82      </td><td>white   </td></tr>\n",
       "\t<tr><td>NA      </td><td>NA      </td><td>NA      </td><td>NA      </td><td>NA      </td><td>NA      </td><td>NA      </td><td>NA      </td><td>NA      </td><td>NA      </td><td>  8000  </td><td>63.66416</td><td>female  </td><td>12      </td><td>33      </td><td>white   </td></tr>\n",
       "\t<tr><td>NA      </td><td>NA      </td><td>NA      </td><td>NA      </td><td>NA      </td><td>NA      </td><td>NA      </td><td>NA      </td><td>NA      </td><td>NA      </td><td> 60000  </td><td>71.92584</td><td>male    </td><td>12      </td><td>50      </td><td>white   </td></tr>\n",
       "\t<tr><td>NA      </td><td>NA      </td><td>NA      </td><td>NA      </td><td>NA      </td><td>NA      </td><td>NA      </td><td>NA      </td><td>NA      </td><td>NA      </td><td>  6000  </td><td>68.36849</td><td>male    </td><td>12      </td><td>27      </td><td>white   </td></tr>\n",
       "</tbody>\n",
       "</table>\n"
      ],
      "text/latex": [
       "\\begin{tabular}{r|llllllllllllllll}\n",
       " x & y & carat & cut & color & clarity & depth & table & price & z & earn & height & sex & ed & age & race\\\\\n",
       "\\hline\n",
       "\t  404 & NA   & NA   & NA   & NA   & NA   & NA   & NA   & NA   & NA   & NA   & NA   & NA   & NA   & NA   & NA  \\\\\n",
       "\t 4172 & NA   & NA   & NA   & NA   & NA   & NA   & NA   & NA   & NA   & NA   & NA   & NA   & NA   & NA   & NA  \\\\\n",
       "\t 3004 & NA   & NA   & NA   & NA   & NA   & NA   & NA   & NA   & NA   & NA   & NA   & NA   & NA   & NA   & NA  \\\\\n",
       "\t  787 & NA   & NA   & NA   & NA   & NA   & NA   & NA   & NA   & NA   & NA   & NA   & NA   & NA   & NA   & NA  \\\\\n",
       "\t   37 & NA   & NA   & NA   & NA   & NA   & NA   & NA   & NA   & NA   & NA   & NA   & NA   & NA   & NA   & NA  \\\\\n",
       "\t 2332 & NA   & NA   & NA   & NA   & NA   & NA   & NA   & NA   & NA   & NA   & NA   & NA   & NA   & NA   & NA  \\\\\n",
       "\t 2489 & NA   & NA   & NA   & NA   & NA   & NA   & NA   & NA   & NA   & NA   & NA   & NA   & NA   & NA   & NA  \\\\\n",
       "\t 1449 & NA   & NA   & NA   & NA   & NA   & NA   & NA   & NA   & NA   & NA   & NA   & NA   & NA   & NA   & NA  \\\\\n",
       "\t 3665 & NA   & NA   & NA   & NA   & NA   & NA   & NA   & NA   & NA   & NA   & NA   & NA   & NA   & NA   & NA  \\\\\n",
       "\t 3863 & NA   & NA   & NA   & NA   & NA   & NA   & NA   & NA   & NA   & NA   & NA   & NA   & NA   & NA   & NA  \\\\\n",
       "\t 4374 & NA   & NA   & NA   & NA   & NA   & NA   & NA   & NA   & NA   & NA   & NA   & NA   & NA   & NA   & NA  \\\\\n",
       "\t  875 & NA   & NA   & NA   & NA   & NA   & NA   & NA   & NA   & NA   & NA   & NA   & NA   & NA   & NA   & NA  \\\\\n",
       "\t  172 & NA   & NA   & NA   & NA   & NA   & NA   & NA   & NA   & NA   & NA   & NA   & NA   & NA   & NA   & NA  \\\\\n",
       "\t 1602 & NA   & NA   & NA   & NA   & NA   & NA   & NA   & NA   & NA   & NA   & NA   & NA   & NA   & NA   & NA  \\\\\n",
       "\t 2012 & NA   & NA   & NA   & NA   & NA   & NA   & NA   & NA   & NA   & NA   & NA   & NA   & NA   & NA   & NA  \\\\\n",
       "\t  979 & NA   & NA   & NA   & NA   & NA   & NA   & NA   & NA   & NA   & NA   & NA   & NA   & NA   & NA   & NA  \\\\\n",
       "\t 2018 & NA   & NA   & NA   & NA   & NA   & NA   & NA   & NA   & NA   & NA   & NA   & NA   & NA   & NA   & NA  \\\\\n",
       "\t  319 & NA   & NA   & NA   & NA   & NA   & NA   & NA   & NA   & NA   & NA   & NA   & NA   & NA   & NA   & NA  \\\\\n",
       "\t 1944 & NA   & NA   & NA   & NA   & NA   & NA   & NA   & NA   & NA   & NA   & NA   & NA   & NA   & NA   & NA  \\\\\n",
       "\t 4878 & NA   & NA   & NA   & NA   & NA   & NA   & NA   & NA   & NA   & NA   & NA   & NA   & NA   & NA   & NA  \\\\\n",
       "\t 1450 & NA   & NA   & NA   & NA   & NA   & NA   & NA   & NA   & NA   & NA   & NA   & NA   & NA   & NA   & NA  \\\\\n",
       "\t 3392 & NA   & NA   & NA   & NA   & NA   & NA   & NA   & NA   & NA   & NA   & NA   & NA   & NA   & NA   & NA  \\\\\n",
       "\t 3677 & NA   & NA   & NA   & NA   & NA   & NA   & NA   & NA   & NA   & NA   & NA   & NA   & NA   & NA   & NA  \\\\\n",
       "\t  980 & NA   & NA   & NA   & NA   & NA   & NA   & NA   & NA   & NA   & NA   & NA   & NA   & NA   & NA   & NA  \\\\\n",
       "\t 4903 & NA   & NA   & NA   & NA   & NA   & NA   & NA   & NA   & NA   & NA   & NA   & NA   & NA   & NA   & NA  \\\\\n",
       "\t 3708 & NA   & NA   & NA   & NA   & NA   & NA   & NA   & NA   & NA   & NA   & NA   & NA   & NA   & NA   & NA  \\\\\n",
       "\t  258 & NA   & NA   & NA   & NA   & NA   & NA   & NA   & NA   & NA   & NA   & NA   & NA   & NA   & NA   & NA  \\\\\n",
       "\t 2652 & NA   & NA   & NA   & NA   & NA   & NA   & NA   & NA   & NA   & NA   & NA   & NA   & NA   & NA   & NA  \\\\\n",
       "\t 3480 & NA   & NA   & NA   & NA   & NA   & NA   & NA   & NA   & NA   & NA   & NA   & NA   & NA   & NA   & NA  \\\\\n",
       "\t 3443 & NA   & NA   & NA   & NA   & NA   & NA   & NA   & NA   & NA   & NA   & NA   & NA   & NA   & NA   & NA  \\\\\n",
       "\t ... & ... & ... & ... & ... & ... & ... & ... & ... & ... & ... & ... & ... & ... & ... & ...\\\\\n",
       "\t NA       & NA       & NA       & NA       & NA       & NA       & NA       & NA       & NA       & NA       &  20000   & 66.01494 & female   & 14       & 43       & white   \\\\\n",
       "\t NA       & NA       & NA       & NA       & NA       & NA       & NA       & NA       & NA       & NA       &  40000   & 65.76547 & female   & 16       & 59       & white   \\\\\n",
       "\t NA       & NA       & NA       & NA       & NA       & NA       & NA       & NA       & NA       & NA       &  10000   & 66.74771 & male     & 12       & 77       & white   \\\\\n",
       "\t NA       & NA       & NA       & NA       & NA       & NA       & NA       & NA       & NA       & NA       &  16000   & 66.14089 & male     & 12       & 37       & white   \\\\\n",
       "\t NA       & NA       & NA       & NA       & NA       & NA       & NA       & NA       & NA       & NA       &  11000   & 63.30037 & female   &  9       & 51       & white   \\\\\n",
       "\t NA       & NA       & NA       & NA       & NA       & NA       & NA       & NA       & NA       & NA       &  16000   & 67.61928 & female   & 13       & 43       & white   \\\\\n",
       "\t NA       & NA       & NA       & NA       & NA       & NA       & NA       & NA       & NA       & NA       &  18000   & 70.42987 & male     & 12       & 27       & white   \\\\\n",
       "\t NA       & NA       & NA       & NA       & NA       & NA       & NA       & NA       & NA       & NA       &  12000   & 62.62478 & female   & 16       & 26       & white   \\\\\n",
       "\t NA       & NA       & NA       & NA       & NA       & NA       & NA       & NA       & NA       & NA       &   4000   & 69.98806 & male     & 14       & 21       & black   \\\\\n",
       "\t NA       & NA       & NA       & NA       & NA       & NA       & NA       & NA       & NA       & NA       &  60000   & 71.81932 & male     & 12       & 45       & white   \\\\\n",
       "\t NA       & NA       & NA       & NA       & NA       & NA       & NA       & NA       & NA       & NA       &  43000   & 74.77192 & male     & 17       & 40       & white   \\\\\n",
       "\t NA       & NA       & NA       & NA       & NA       & NA       & NA       & NA       & NA       & NA       &  31000   & 61.96560 & female   & 14       & 39       & white   \\\\\n",
       "\t NA       & NA       & NA       & NA       & NA       & NA       & NA       & NA       & NA       & NA       &  50000   & 68.21042 & female   & 17       & 39       & white   \\\\\n",
       "\t NA       & NA       & NA       & NA       & NA       & NA       & NA       & NA       & NA       & NA       &  27000   & 68.04935 & female   & 14       & 29       & white   \\\\\n",
       "\t NA       & NA       & NA       & NA       & NA       & NA       & NA       & NA       & NA       & NA       &  30000   & 70.49075 & male     & 17       & 56       & white   \\\\\n",
       "\t NA       & NA       & NA       & NA       & NA       & NA       & NA       & NA       & NA       & NA       &  12000   & 73.38321 & male     & 13       & 21       & black   \\\\\n",
       "\t NA       & NA       & NA       & NA       & NA       & NA       & NA       & NA       & NA       & NA       &  20000   & 62.13713 & female   & 17       & 30       & white   \\\\\n",
       "\t NA       & NA       & NA       & NA       & NA       & NA       & NA       & NA       & NA       & NA       &  15000   & 59.77629 & female   & 12       & 76       & black   \\\\\n",
       "\t NA       & NA       & NA       & NA       & NA       & NA       & NA       & NA       & NA       & NA       &  25000   & 64.15965 & female   & 16       & 37       & other   \\\\\n",
       "\t NA       & NA       & NA       & NA       & NA       & NA       & NA       & NA       & NA       & NA       &   2000   & 60.19710 & female   &  6       & 67       & hispanic\\\\\n",
       "\t NA       & NA       & NA       & NA       & NA       & NA       & NA       & NA       & NA       & NA       &   3000   & 73.26521 & male     & 15       & 20       & hispanic\\\\\n",
       "\t NA       & NA       & NA       & NA       & NA       & NA       & NA       & NA       & NA       & NA       & 110000   & 66.31204 & female   & 18       & 48       & other   \\\\\n",
       "\t NA       & NA       & NA       & NA       & NA       & NA       & NA       & NA       & NA       & NA       &  55000   & 68.99589 & male     & 18       & 71       & white   \\\\\n",
       "\t NA       & NA       & NA       & NA       & NA       & NA       & NA       & NA       & NA       & NA       &  58000   & 70.34337 & male     & 18       & 53       & white   \\\\\n",
       "\t NA       & NA       & NA       & NA       & NA       & NA       & NA       & NA       & NA       & NA       &  10000   & 70.05628 & female   & 16       & 36       & white   \\\\\n",
       "\t NA       & NA       & NA       & NA       & NA       & NA       & NA       & NA       & NA       & NA       &  19000   & 72.16573 & male     & 12       & 29       & white   \\\\\n",
       "\t NA       & NA       & NA       & NA       & NA       & NA       & NA       & NA       & NA       & NA       &  15000   & 61.13580 & female   & 18       & 82       & white   \\\\\n",
       "\t NA       & NA       & NA       & NA       & NA       & NA       & NA       & NA       & NA       & NA       &   8000   & 63.66416 & female   & 12       & 33       & white   \\\\\n",
       "\t NA       & NA       & NA       & NA       & NA       & NA       & NA       & NA       & NA       & NA       &  60000   & 71.92584 & male     & 12       & 50       & white   \\\\\n",
       "\t NA       & NA       & NA       & NA       & NA       & NA       & NA       & NA       & NA       & NA       &   6000   & 68.36849 & male     & 12       & 27       & white   \\\\\n",
       "\\end{tabular}\n"
      ],
      "text/markdown": [
       "\n",
       "| x | y | carat | cut | color | clarity | depth | table | price | z | earn | height | sex | ed | age | race |\n",
       "|---|---|---|---|---|---|---|---|---|---|---|---|---|---|---|---|\n",
       "|  404 | NA   | NA   | NA   | NA   | NA   | NA   | NA   | NA   | NA   | NA   | NA   | NA   | NA   | NA   | NA   |\n",
       "| 4172 | NA   | NA   | NA   | NA   | NA   | NA   | NA   | NA   | NA   | NA   | NA   | NA   | NA   | NA   | NA   |\n",
       "| 3004 | NA   | NA   | NA   | NA   | NA   | NA   | NA   | NA   | NA   | NA   | NA   | NA   | NA   | NA   | NA   |\n",
       "|  787 | NA   | NA   | NA   | NA   | NA   | NA   | NA   | NA   | NA   | NA   | NA   | NA   | NA   | NA   | NA   |\n",
       "|   37 | NA   | NA   | NA   | NA   | NA   | NA   | NA   | NA   | NA   | NA   | NA   | NA   | NA   | NA   | NA   |\n",
       "| 2332 | NA   | NA   | NA   | NA   | NA   | NA   | NA   | NA   | NA   | NA   | NA   | NA   | NA   | NA   | NA   |\n",
       "| 2489 | NA   | NA   | NA   | NA   | NA   | NA   | NA   | NA   | NA   | NA   | NA   | NA   | NA   | NA   | NA   |\n",
       "| 1449 | NA   | NA   | NA   | NA   | NA   | NA   | NA   | NA   | NA   | NA   | NA   | NA   | NA   | NA   | NA   |\n",
       "| 3665 | NA   | NA   | NA   | NA   | NA   | NA   | NA   | NA   | NA   | NA   | NA   | NA   | NA   | NA   | NA   |\n",
       "| 3863 | NA   | NA   | NA   | NA   | NA   | NA   | NA   | NA   | NA   | NA   | NA   | NA   | NA   | NA   | NA   |\n",
       "| 4374 | NA   | NA   | NA   | NA   | NA   | NA   | NA   | NA   | NA   | NA   | NA   | NA   | NA   | NA   | NA   |\n",
       "|  875 | NA   | NA   | NA   | NA   | NA   | NA   | NA   | NA   | NA   | NA   | NA   | NA   | NA   | NA   | NA   |\n",
       "|  172 | NA   | NA   | NA   | NA   | NA   | NA   | NA   | NA   | NA   | NA   | NA   | NA   | NA   | NA   | NA   |\n",
       "| 1602 | NA   | NA   | NA   | NA   | NA   | NA   | NA   | NA   | NA   | NA   | NA   | NA   | NA   | NA   | NA   |\n",
       "| 2012 | NA   | NA   | NA   | NA   | NA   | NA   | NA   | NA   | NA   | NA   | NA   | NA   | NA   | NA   | NA   |\n",
       "|  979 | NA   | NA   | NA   | NA   | NA   | NA   | NA   | NA   | NA   | NA   | NA   | NA   | NA   | NA   | NA   |\n",
       "| 2018 | NA   | NA   | NA   | NA   | NA   | NA   | NA   | NA   | NA   | NA   | NA   | NA   | NA   | NA   | NA   |\n",
       "|  319 | NA   | NA   | NA   | NA   | NA   | NA   | NA   | NA   | NA   | NA   | NA   | NA   | NA   | NA   | NA   |\n",
       "| 1944 | NA   | NA   | NA   | NA   | NA   | NA   | NA   | NA   | NA   | NA   | NA   | NA   | NA   | NA   | NA   |\n",
       "| 4878 | NA   | NA   | NA   | NA   | NA   | NA   | NA   | NA   | NA   | NA   | NA   | NA   | NA   | NA   | NA   |\n",
       "| 1450 | NA   | NA   | NA   | NA   | NA   | NA   | NA   | NA   | NA   | NA   | NA   | NA   | NA   | NA   | NA   |\n",
       "| 3392 | NA   | NA   | NA   | NA   | NA   | NA   | NA   | NA   | NA   | NA   | NA   | NA   | NA   | NA   | NA   |\n",
       "| 3677 | NA   | NA   | NA   | NA   | NA   | NA   | NA   | NA   | NA   | NA   | NA   | NA   | NA   | NA   | NA   |\n",
       "|  980 | NA   | NA   | NA   | NA   | NA   | NA   | NA   | NA   | NA   | NA   | NA   | NA   | NA   | NA   | NA   |\n",
       "| 4903 | NA   | NA   | NA   | NA   | NA   | NA   | NA   | NA   | NA   | NA   | NA   | NA   | NA   | NA   | NA   |\n",
       "| 3708 | NA   | NA   | NA   | NA   | NA   | NA   | NA   | NA   | NA   | NA   | NA   | NA   | NA   | NA   | NA   |\n",
       "|  258 | NA   | NA   | NA   | NA   | NA   | NA   | NA   | NA   | NA   | NA   | NA   | NA   | NA   | NA   | NA   |\n",
       "| 2652 | NA   | NA   | NA   | NA   | NA   | NA   | NA   | NA   | NA   | NA   | NA   | NA   | NA   | NA   | NA   |\n",
       "| 3480 | NA   | NA   | NA   | NA   | NA   | NA   | NA   | NA   | NA   | NA   | NA   | NA   | NA   | NA   | NA   |\n",
       "| 3443 | NA   | NA   | NA   | NA   | NA   | NA   | NA   | NA   | NA   | NA   | NA   | NA   | NA   | NA   | NA   |\n",
       "| ... | ... | ... | ... | ... | ... | ... | ... | ... | ... | ... | ... | ... | ... | ... | ... |\n",
       "| NA       | NA       | NA       | NA       | NA       | NA       | NA       | NA       | NA       | NA       |  20000   | 66.01494 | female   | 14       | 43       | white    |\n",
       "| NA       | NA       | NA       | NA       | NA       | NA       | NA       | NA       | NA       | NA       |  40000   | 65.76547 | female   | 16       | 59       | white    |\n",
       "| NA       | NA       | NA       | NA       | NA       | NA       | NA       | NA       | NA       | NA       |  10000   | 66.74771 | male     | 12       | 77       | white    |\n",
       "| NA       | NA       | NA       | NA       | NA       | NA       | NA       | NA       | NA       | NA       |  16000   | 66.14089 | male     | 12       | 37       | white    |\n",
       "| NA       | NA       | NA       | NA       | NA       | NA       | NA       | NA       | NA       | NA       |  11000   | 63.30037 | female   |  9       | 51       | white    |\n",
       "| NA       | NA       | NA       | NA       | NA       | NA       | NA       | NA       | NA       | NA       |  16000   | 67.61928 | female   | 13       | 43       | white    |\n",
       "| NA       | NA       | NA       | NA       | NA       | NA       | NA       | NA       | NA       | NA       |  18000   | 70.42987 | male     | 12       | 27       | white    |\n",
       "| NA       | NA       | NA       | NA       | NA       | NA       | NA       | NA       | NA       | NA       |  12000   | 62.62478 | female   | 16       | 26       | white    |\n",
       "| NA       | NA       | NA       | NA       | NA       | NA       | NA       | NA       | NA       | NA       |   4000   | 69.98806 | male     | 14       | 21       | black    |\n",
       "| NA       | NA       | NA       | NA       | NA       | NA       | NA       | NA       | NA       | NA       |  60000   | 71.81932 | male     | 12       | 45       | white    |\n",
       "| NA       | NA       | NA       | NA       | NA       | NA       | NA       | NA       | NA       | NA       |  43000   | 74.77192 | male     | 17       | 40       | white    |\n",
       "| NA       | NA       | NA       | NA       | NA       | NA       | NA       | NA       | NA       | NA       |  31000   | 61.96560 | female   | 14       | 39       | white    |\n",
       "| NA       | NA       | NA       | NA       | NA       | NA       | NA       | NA       | NA       | NA       |  50000   | 68.21042 | female   | 17       | 39       | white    |\n",
       "| NA       | NA       | NA       | NA       | NA       | NA       | NA       | NA       | NA       | NA       |  27000   | 68.04935 | female   | 14       | 29       | white    |\n",
       "| NA       | NA       | NA       | NA       | NA       | NA       | NA       | NA       | NA       | NA       |  30000   | 70.49075 | male     | 17       | 56       | white    |\n",
       "| NA       | NA       | NA       | NA       | NA       | NA       | NA       | NA       | NA       | NA       |  12000   | 73.38321 | male     | 13       | 21       | black    |\n",
       "| NA       | NA       | NA       | NA       | NA       | NA       | NA       | NA       | NA       | NA       |  20000   | 62.13713 | female   | 17       | 30       | white    |\n",
       "| NA       | NA       | NA       | NA       | NA       | NA       | NA       | NA       | NA       | NA       |  15000   | 59.77629 | female   | 12       | 76       | black    |\n",
       "| NA       | NA       | NA       | NA       | NA       | NA       | NA       | NA       | NA       | NA       |  25000   | 64.15965 | female   | 16       | 37       | other    |\n",
       "| NA       | NA       | NA       | NA       | NA       | NA       | NA       | NA       | NA       | NA       |   2000   | 60.19710 | female   |  6       | 67       | hispanic |\n",
       "| NA       | NA       | NA       | NA       | NA       | NA       | NA       | NA       | NA       | NA       |   3000   | 73.26521 | male     | 15       | 20       | hispanic |\n",
       "| NA       | NA       | NA       | NA       | NA       | NA       | NA       | NA       | NA       | NA       | 110000   | 66.31204 | female   | 18       | 48       | other    |\n",
       "| NA       | NA       | NA       | NA       | NA       | NA       | NA       | NA       | NA       | NA       |  55000   | 68.99589 | male     | 18       | 71       | white    |\n",
       "| NA       | NA       | NA       | NA       | NA       | NA       | NA       | NA       | NA       | NA       |  58000   | 70.34337 | male     | 18       | 53       | white    |\n",
       "| NA       | NA       | NA       | NA       | NA       | NA       | NA       | NA       | NA       | NA       |  10000   | 70.05628 | female   | 16       | 36       | white    |\n",
       "| NA       | NA       | NA       | NA       | NA       | NA       | NA       | NA       | NA       | NA       |  19000   | 72.16573 | male     | 12       | 29       | white    |\n",
       "| NA       | NA       | NA       | NA       | NA       | NA       | NA       | NA       | NA       | NA       |  15000   | 61.13580 | female   | 18       | 82       | white    |\n",
       "| NA       | NA       | NA       | NA       | NA       | NA       | NA       | NA       | NA       | NA       |   8000   | 63.66416 | female   | 12       | 33       | white    |\n",
       "| NA       | NA       | NA       | NA       | NA       | NA       | NA       | NA       | NA       | NA       |  60000   | 71.92584 | male     | 12       | 50       | white    |\n",
       "| NA       | NA       | NA       | NA       | NA       | NA       | NA       | NA       | NA       | NA       |   6000   | 68.36849 | male     | 12       | 27       | white    |\n",
       "\n"
      ],
      "text/plain": [
       "      x    y   carat cut color clarity depth table price z   earn   height  \n",
       "1      404 NA  NA    NA  NA    NA      NA    NA    NA    NA  NA     NA      \n",
       "2     4172 NA  NA    NA  NA    NA      NA    NA    NA    NA  NA     NA      \n",
       "3     3004 NA  NA    NA  NA    NA      NA    NA    NA    NA  NA     NA      \n",
       "4      787 NA  NA    NA  NA    NA      NA    NA    NA    NA  NA     NA      \n",
       "5       37 NA  NA    NA  NA    NA      NA    NA    NA    NA  NA     NA      \n",
       "6     2332 NA  NA    NA  NA    NA      NA    NA    NA    NA  NA     NA      \n",
       "7     2489 NA  NA    NA  NA    NA      NA    NA    NA    NA  NA     NA      \n",
       "8     1449 NA  NA    NA  NA    NA      NA    NA    NA    NA  NA     NA      \n",
       "9     3665 NA  NA    NA  NA    NA      NA    NA    NA    NA  NA     NA      \n",
       "10    3863 NA  NA    NA  NA    NA      NA    NA    NA    NA  NA     NA      \n",
       "11    4374 NA  NA    NA  NA    NA      NA    NA    NA    NA  NA     NA      \n",
       "12     875 NA  NA    NA  NA    NA      NA    NA    NA    NA  NA     NA      \n",
       "13     172 NA  NA    NA  NA    NA      NA    NA    NA    NA  NA     NA      \n",
       "14    1602 NA  NA    NA  NA    NA      NA    NA    NA    NA  NA     NA      \n",
       "15    2012 NA  NA    NA  NA    NA      NA    NA    NA    NA  NA     NA      \n",
       "16     979 NA  NA    NA  NA    NA      NA    NA    NA    NA  NA     NA      \n",
       "17    2018 NA  NA    NA  NA    NA      NA    NA    NA    NA  NA     NA      \n",
       "18     319 NA  NA    NA  NA    NA      NA    NA    NA    NA  NA     NA      \n",
       "19    1944 NA  NA    NA  NA    NA      NA    NA    NA    NA  NA     NA      \n",
       "20    4878 NA  NA    NA  NA    NA      NA    NA    NA    NA  NA     NA      \n",
       "21    1450 NA  NA    NA  NA    NA      NA    NA    NA    NA  NA     NA      \n",
       "22    3392 NA  NA    NA  NA    NA      NA    NA    NA    NA  NA     NA      \n",
       "23    3677 NA  NA    NA  NA    NA      NA    NA    NA    NA  NA     NA      \n",
       "24     980 NA  NA    NA  NA    NA      NA    NA    NA    NA  NA     NA      \n",
       "25    4903 NA  NA    NA  NA    NA      NA    NA    NA    NA  NA     NA      \n",
       "26    3708 NA  NA    NA  NA    NA      NA    NA    NA    NA  NA     NA      \n",
       "27     258 NA  NA    NA  NA    NA      NA    NA    NA    NA  NA     NA      \n",
       "28    2652 NA  NA    NA  NA    NA      NA    NA    NA    NA  NA     NA      \n",
       "29    3480 NA  NA    NA  NA    NA      NA    NA    NA    NA  NA     NA      \n",
       "30    3443 NA  NA    NA  NA    NA      NA    NA    NA    NA  NA     NA      \n",
       "...   ...  ... ...   ... ...   ...     ...   ...   ...   ... ...    ...     \n",
       "59103 NA   NA  NA    NA  NA    NA      NA    NA    NA    NA   20000 66.01494\n",
       "59104 NA   NA  NA    NA  NA    NA      NA    NA    NA    NA   40000 65.76547\n",
       "59105 NA   NA  NA    NA  NA    NA      NA    NA    NA    NA   10000 66.74771\n",
       "59106 NA   NA  NA    NA  NA    NA      NA    NA    NA    NA   16000 66.14089\n",
       "59107 NA   NA  NA    NA  NA    NA      NA    NA    NA    NA   11000 63.30037\n",
       "59108 NA   NA  NA    NA  NA    NA      NA    NA    NA    NA   16000 67.61928\n",
       "59109 NA   NA  NA    NA  NA    NA      NA    NA    NA    NA   18000 70.42987\n",
       "59110 NA   NA  NA    NA  NA    NA      NA    NA    NA    NA   12000 62.62478\n",
       "59111 NA   NA  NA    NA  NA    NA      NA    NA    NA    NA    4000 69.98806\n",
       "59112 NA   NA  NA    NA  NA    NA      NA    NA    NA    NA   60000 71.81932\n",
       "59113 NA   NA  NA    NA  NA    NA      NA    NA    NA    NA   43000 74.77192\n",
       "59114 NA   NA  NA    NA  NA    NA      NA    NA    NA    NA   31000 61.96560\n",
       "59115 NA   NA  NA    NA  NA    NA      NA    NA    NA    NA   50000 68.21042\n",
       "59116 NA   NA  NA    NA  NA    NA      NA    NA    NA    NA   27000 68.04935\n",
       "59117 NA   NA  NA    NA  NA    NA      NA    NA    NA    NA   30000 70.49075\n",
       "59118 NA   NA  NA    NA  NA    NA      NA    NA    NA    NA   12000 73.38321\n",
       "59119 NA   NA  NA    NA  NA    NA      NA    NA    NA    NA   20000 62.13713\n",
       "59120 NA   NA  NA    NA  NA    NA      NA    NA    NA    NA   15000 59.77629\n",
       "59121 NA   NA  NA    NA  NA    NA      NA    NA    NA    NA   25000 64.15965\n",
       "59122 NA   NA  NA    NA  NA    NA      NA    NA    NA    NA    2000 60.19710\n",
       "59123 NA   NA  NA    NA  NA    NA      NA    NA    NA    NA    3000 73.26521\n",
       "59124 NA   NA  NA    NA  NA    NA      NA    NA    NA    NA  110000 66.31204\n",
       "59125 NA   NA  NA    NA  NA    NA      NA    NA    NA    NA   55000 68.99589\n",
       "59126 NA   NA  NA    NA  NA    NA      NA    NA    NA    NA   58000 70.34337\n",
       "59127 NA   NA  NA    NA  NA    NA      NA    NA    NA    NA   10000 70.05628\n",
       "59128 NA   NA  NA    NA  NA    NA      NA    NA    NA    NA   19000 72.16573\n",
       "59129 NA   NA  NA    NA  NA    NA      NA    NA    NA    NA   15000 61.13580\n",
       "59130 NA   NA  NA    NA  NA    NA      NA    NA    NA    NA    8000 63.66416\n",
       "59131 NA   NA  NA    NA  NA    NA      NA    NA    NA    NA   60000 71.92584\n",
       "59132 NA   NA  NA    NA  NA    NA      NA    NA    NA    NA    6000 68.36849\n",
       "      sex    ed  age race    \n",
       "1     NA     NA  NA  NA      \n",
       "2     NA     NA  NA  NA      \n",
       "3     NA     NA  NA  NA      \n",
       "4     NA     NA  NA  NA      \n",
       "5     NA     NA  NA  NA      \n",
       "6     NA     NA  NA  NA      \n",
       "7     NA     NA  NA  NA      \n",
       "8     NA     NA  NA  NA      \n",
       "9     NA     NA  NA  NA      \n",
       "10    NA     NA  NA  NA      \n",
       "11    NA     NA  NA  NA      \n",
       "12    NA     NA  NA  NA      \n",
       "13    NA     NA  NA  NA      \n",
       "14    NA     NA  NA  NA      \n",
       "15    NA     NA  NA  NA      \n",
       "16    NA     NA  NA  NA      \n",
       "17    NA     NA  NA  NA      \n",
       "18    NA     NA  NA  NA      \n",
       "19    NA     NA  NA  NA      \n",
       "20    NA     NA  NA  NA      \n",
       "21    NA     NA  NA  NA      \n",
       "22    NA     NA  NA  NA      \n",
       "23    NA     NA  NA  NA      \n",
       "24    NA     NA  NA  NA      \n",
       "25    NA     NA  NA  NA      \n",
       "26    NA     NA  NA  NA      \n",
       "27    NA     NA  NA  NA      \n",
       "28    NA     NA  NA  NA      \n",
       "29    NA     NA  NA  NA      \n",
       "30    NA     NA  NA  NA      \n",
       "...   ...    ... ... ...     \n",
       "59103 female 14  43  white   \n",
       "59104 female 16  59  white   \n",
       "59105 male   12  77  white   \n",
       "59106 male   12  37  white   \n",
       "59107 female  9  51  white   \n",
       "59108 female 13  43  white   \n",
       "59109 male   12  27  white   \n",
       "59110 female 16  26  white   \n",
       "59111 male   14  21  black   \n",
       "59112 male   12  45  white   \n",
       "59113 male   17  40  white   \n",
       "59114 female 14  39  white   \n",
       "59115 female 17  39  white   \n",
       "59116 female 14  29  white   \n",
       "59117 male   17  56  white   \n",
       "59118 male   13  21  black   \n",
       "59119 female 17  30  white   \n",
       "59120 female 12  76  black   \n",
       "59121 female 16  37  other   \n",
       "59122 female  6  67  hispanic\n",
       "59123 male   15  20  hispanic\n",
       "59124 female 18  48  other   \n",
       "59125 male   18  71  white   \n",
       "59126 male   18  53  white   \n",
       "59127 female 16  36  white   \n",
       "59128 male   12  29  white   \n",
       "59129 female 18  82  white   \n",
       "59130 female 12  33  white   \n",
       "59131 male   12  50  white   \n",
       "59132 male   12  27  white   "
      ]
     },
     "metadata": {},
     "output_type": "display_data"
    }
   ],
   "source": [
    "df2 <- bind_rows(df2_list)\n",
    "df2"
   ]
  },
  {
   "cell_type": "raw",
   "metadata": {},
   "source": [
    "Q2. What happens if you use for (nm in names(x)) and x has no names? What if only some of the elements are named? What if the names are not unique?"
   ]
  },
  {
   "cell_type": "raw",
   "metadata": {},
   "source": [
    "Let’s try it out and see what happens. When there are no names for the vector, it does not run the code in the loop. In other words, it runs zero iterations of the loop.\n",
    "\n",
    "NN\n",
    "so if no items in for loop to loop over then maybe doesnt loop?\n",
    "if no names then names length is zero = length(NULL)\n",
    "if only a few are named and try to loop over names then get error\n",
    "if duplicate names, then only first named element returned\n",
    "*****"
   ]
  },
  {
   "cell_type": "code",
   "execution_count": 60,
   "metadata": {},
   "outputs": [
    {
     "name": "stdout",
     "output_type": "stream",
     "text": [
      "NULL\n"
     ]
    }
   ],
   "source": [
    "x <- c(11, 12, 13)\n",
    "print(names(x))\n",
    "for (nm in names(x)) {\n",
    "  print(nm)\n",
    "  print(x[[nm]])\n",
    "}"
   ]
  },
  {
   "cell_type": "raw",
   "metadata": {},
   "source": [
    "Note that the length of NULL is zero:*****"
   ]
  },
  {
   "cell_type": "code",
   "execution_count": 61,
   "metadata": {},
   "outputs": [
    {
     "data": {
      "text/html": [
       "0"
      ],
      "text/latex": [
       "0"
      ],
      "text/markdown": [
       "0"
      ],
      "text/plain": [
       "[1] 0"
      ]
     },
     "metadata": {},
     "output_type": "display_data"
    }
   ],
   "source": [
    "length(NULL)"
   ]
  },
  {
   "cell_type": "raw",
   "metadata": {},
   "source": [
    "If there only some names, then we get an error for trying to access an element without a name.\n",
    "\n"
   ]
  },
  {
   "cell_type": "code",
   "execution_count": 62,
   "metadata": {},
   "outputs": [
    {
     "data": {
      "text/html": [
       "<ol class=list-inline>\n",
       "\t<li>'a'</li>\n",
       "\t<li>''</li>\n",
       "\t<li>'c'</li>\n",
       "</ol>\n"
      ],
      "text/latex": [
       "\\begin{enumerate*}\n",
       "\\item 'a'\n",
       "\\item ''\n",
       "\\item 'c'\n",
       "\\end{enumerate*}\n"
      ],
      "text/markdown": [
       "1. 'a'\n",
       "2. ''\n",
       "3. 'c'\n",
       "\n",
       "\n"
      ],
      "text/plain": [
       "[1] \"a\" \"\"  \"c\""
      ]
     },
     "metadata": {},
     "output_type": "display_data"
    }
   ],
   "source": [
    "x <- c(a = 11, 12, c = 13)\n",
    "names(x)"
   ]
  },
  {
   "cell_type": "code",
   "execution_count": 64,
   "metadata": {},
   "outputs": [
    {
     "name": "stdout",
     "output_type": "stream",
     "text": [
      "[1] \"a\"\n",
      "[1] 11\n",
      "[1] \"\"\n"
     ]
    },
    {
     "ename": "ERROR",
     "evalue": "Error in x[[nm]]: subscript out of bounds\n",
     "output_type": "error",
     "traceback": [
      "Error in x[[nm]]: subscript out of bounds\nTraceback:\n",
      "1. print(x[[nm]])"
     ]
    }
   ],
   "source": [
    "for (nm in names(x)) {\n",
    "  print(nm)\n",
    "  print(x[[nm]])\n",
    "}"
   ]
  },
  {
   "cell_type": "raw",
   "metadata": {},
   "source": [
    "Finally, if the vector contains duplicate names, then x[[nm]] returns the first element with that name."
   ]
  },
  {
   "cell_type": "code",
   "execution_count": 65,
   "metadata": {},
   "outputs": [
    {
     "data": {
      "text/html": [
       "<ol class=list-inline>\n",
       "\t<li>'a'</li>\n",
       "\t<li>'a'</li>\n",
       "\t<li>'c'</li>\n",
       "</ol>\n"
      ],
      "text/latex": [
       "\\begin{enumerate*}\n",
       "\\item 'a'\n",
       "\\item 'a'\n",
       "\\item 'c'\n",
       "\\end{enumerate*}\n"
      ],
      "text/markdown": [
       "1. 'a'\n",
       "2. 'a'\n",
       "3. 'c'\n",
       "\n",
       "\n"
      ],
      "text/plain": [
       "[1] \"a\" \"a\" \"c\""
      ]
     },
     "metadata": {},
     "output_type": "display_data"
    }
   ],
   "source": [
    "x <- c(a = 11, a = 12, c = 13)\n",
    "names(x)"
   ]
  },
  {
   "cell_type": "code",
   "execution_count": 66,
   "metadata": {},
   "outputs": [
    {
     "name": "stdout",
     "output_type": "stream",
     "text": [
      "[1] \"a\"\n",
      "[1] 11\n",
      "[1] \"a\"\n",
      "[1] 11\n",
      "[1] \"c\"\n",
      "[1] 13\n"
     ]
    }
   ],
   "source": [
    "for (nm in names(x)) {\n",
    "  print(nm)\n",
    "  print(x[[nm]])\n",
    "}"
   ]
  },
  {
   "cell_type": "raw",
   "metadata": {},
   "source": [
    "Q3. Write a function, show_mean, that prints the mean of each numeric column in a data frame, along with its name. For example, show_mean(iris) would print:"
   ]
  },
  {
   "cell_type": "raw",
   "metadata": {},
   "source": [
    "(Extra challenge: what function did I use to make sure that the numbers lined up nicely, even though the variable names had different lengths?)"
   ]
  },
  {
   "cell_type": "raw",
   "metadata": {},
   "source": [
    "There may be other functions to do this, but I’ll use str_pad(), and str_length() to ensure that the space given to the variable names is the same. I messed around with the options to format() until I got two digits.\n",
    "\n",
    "NN\n",
    "lots of new code\n",
    "format( item, , digits = digits, nsmall = digits)\n",
    "cat(str_c(pad(str_c(etc, side=right))))"
   ]
  },
  {
   "cell_type": "code",
   "execution_count": 73,
   "metadata": {},
   "outputs": [
    {
     "name": "stdout",
     "output_type": "stream",
     "text": [
      "Sepal.Length: 5.84 \n",
      "Sepal.Width:  3.06 \n",
      "Petal.Length: 3.76 \n",
      "Petal.Width:  1.20 \n"
     ]
    }
   ],
   "source": [
    "show_mean <- function(df, digits = 2) {\n",
    "  # Get max length of all variable names in the dataset\n",
    "  maxstr <- max(str_length(names(df)))\n",
    "  for (nm in names(df)) {\n",
    "    if (is.numeric(df[[nm]])) {\n",
    "      cat(\n",
    "        str_c(str_pad(str_c(nm, \":\"), maxstr + 1L, side = \"right\"),\n",
    "          format(mean(df[[nm]]), digits = digits, nsmall = digits),\n",
    "          sep = \" \"\n",
    "        ),\n",
    "        \"\\n\"\n",
    "      )\n",
    "    }\n",
    "  }\n",
    "}\n",
    "show_mean(iris)"
   ]
  },
  {
   "cell_type": "raw",
   "metadata": {},
   "source": [
    "Q4. What does this code do? How does it work?\n",
    "\n",
    "NN\n",
    "i dont get it\n",
    "is a list of 2 functions and their arg x\n",
    "so which ever of the list uyou choose the () after is the arg for that \n",
    "just like any arg is following the func name in ()\n",
    "********\n",
    "but cool"
   ]
  },
  {
   "cell_type": "code",
   "execution_count": 86,
   "metadata": {},
   "outputs": [
    {
     "data": {
      "text/html": [
       "<dl>\n",
       "\t<dt>$disp</dt>\n",
       "\t\t<dd><pre class=language-r><code>function (x) \n",
       "x * 0.0163871</code></pre></dd>\n",
       "\t<dt>$am</dt>\n",
       "\t\t<dd><pre class=language-r><code>function (x) \n",
       "{\n",
       "<span style=white-space:pre-wrap>    factor(x, labels = c(\"auto\", \"manual\"))</span>\n",
       "}</code></pre></dd>\n",
       "</dl>\n"
      ],
      "text/latex": [
       "\\begin{description}\n",
       "\\item[\\$disp] \\begin{minted}{r}\n",
       "function (x) \n",
       "x * 0.0163871\n",
       "\\end{minted}\n",
       "\\item[\\$am] \\begin{minted}{r}\n",
       "function (x) \n",
       "\\{\n",
       "    factor(x, labels = c(\"auto\", \"manual\"))\n",
       "\\}\n",
       "\\end{minted}\n",
       "\\end{description}\n"
      ],
      "text/markdown": [
       "$disp\n",
       ":   ```r\n",
       "function (x) \n",
       "x * 0.0163871\n",
       "```\n",
       "$am\n",
       ":   ```r\n",
       "function (x) \n",
       "{\n",
       "    factor(x, labels = c(\"auto\", \"manual\"))\n",
       "}\n",
       "```\n",
       "\n",
       "\n"
      ],
      "text/plain": [
       "$disp\n",
       "function(x) x * 0.0163871\n",
       "\n",
       "$am\n",
       "function(x) {\n",
       "    factor(x, labels = c(\"auto\", \"manual\"))\n",
       "  }\n"
      ]
     },
     "metadata": {},
     "output_type": "display_data"
    }
   ],
   "source": [
    "trans <- list( \n",
    "  disp = function(x) x * 0.0163871,\n",
    "  am = function(x) {\n",
    "    factor(x, labels = c(\"auto\", \"manual\"))\n",
    "  }\n",
    ")\n",
    "for (var in names(trans)) {\n",
    "  mtcars[[var]] <- trans[[var]](mtcars[[var]])\n",
    "}\n",
    "trans"
   ]
  },
  {
   "cell_type": "raw",
   "metadata": {},
   "source": [
    "This code mutates the disp and am columns:\n",
    "\n",
    "disp is multiplied by 0.0163871\n",
    "am is replaced by a factor variable.\n",
    "The code works by looping over a named list of functions. It calls the named function in the list on the column of mtcars with the same name, and replaces the values of that column.\n",
    "\n",
    "This is a function."
   ]
  },
  {
   "cell_type": "code",
   "execution_count": 87,
   "metadata": {},
   "outputs": [
    {
     "data": {
      "text/html": [
       "<pre class=language-r><code>function (x) \n",
       "x * 0.0163871</code></pre>"
      ],
      "text/latex": [
       "\\begin{minted}{r}\n",
       "function (x) \n",
       "x * 0.0163871\n",
       "\\end{minted}"
      ],
      "text/markdown": [
       "```r\n",
       "function (x) \n",
       "x * 0.0163871\n",
       "```"
      ],
      "text/plain": [
       "function(x) x * 0.0163871"
      ]
     },
     "metadata": {},
     "output_type": "display_data"
    }
   ],
   "source": [
    "trans[[\"disp\"]]"
   ]
  },
  {
   "cell_type": "raw",
   "metadata": {},
   "source": [
    "This applies the function to the column of mtcars with the same name"
   ]
  },
  {
   "cell_type": "code",
   "execution_count": 88,
   "metadata": {},
   "outputs": [
    {
     "data": {
      "text/html": [
       "<ol class=list-inline>\n",
       "\t<li>8.32025839838471e-13</li>\n",
       "\t<li>8.32025839838471e-13</li>\n",
       "\t<li>5.61617441890968e-13</li>\n",
       "\t<li>1.34164166673953e-12</li>\n",
       "\t<li>1.87205813963656e-12</li>\n",
       "\t<li>1.17003633727285e-12</li>\n",
       "\t<li>1.87205813963656e-12</li>\n",
       "\t<li>7.62863691901898e-13</li>\n",
       "\t<li>7.32182739057854e-13</li>\n",
       "\t<li>8.71547067230798e-13</li>\n",
       "\t<li>8.71547067230798e-13</li>\n",
       "\t<li>1.43420454142156e-12</li>\n",
       "\t<li>1.43420454142156e-12</li>\n",
       "\t<li>1.43420454142156e-12</li>\n",
       "\t<li>2.45447622752349e-12</li>\n",
       "\t<li>2.3920742895356e-12</li>\n",
       "\t<li>2.28807105955579e-12</li>\n",
       "\t<li>4.09252709970548e-13</li>\n",
       "\t<li>3.93652225473576e-13</li>\n",
       "\t<li>3.6973148257822e-13</li>\n",
       "\t<li>6.24539396028752e-13</li>\n",
       "\t<li>1.65365135667896e-12</li>\n",
       "\t<li>1.58084909569309e-12</li>\n",
       "\t<li>1.82005652464665e-12</li>\n",
       "\t<li>2.08006459959618e-12</li>\n",
       "\t<li>4.10812758420245e-13</li>\n",
       "\t<li>6.2557942832855e-13</li>\n",
       "\t<li>4.94535358553991e-13</li>\n",
       "\t<li>1.82525668614565e-12</li>\n",
       "\t<li>7.54023417353614e-13</li>\n",
       "\t<li>1.56524861119612e-12</li>\n",
       "\t<li>6.29219541377844e-13</li>\n",
       "</ol>\n"
      ],
      "text/latex": [
       "\\begin{enumerate*}\n",
       "\\item 8.32025839838471e-13\n",
       "\\item 8.32025839838471e-13\n",
       "\\item 5.61617441890968e-13\n",
       "\\item 1.34164166673953e-12\n",
       "\\item 1.87205813963656e-12\n",
       "\\item 1.17003633727285e-12\n",
       "\\item 1.87205813963656e-12\n",
       "\\item 7.62863691901898e-13\n",
       "\\item 7.32182739057854e-13\n",
       "\\item 8.71547067230798e-13\n",
       "\\item 8.71547067230798e-13\n",
       "\\item 1.43420454142156e-12\n",
       "\\item 1.43420454142156e-12\n",
       "\\item 1.43420454142156e-12\n",
       "\\item 2.45447622752349e-12\n",
       "\\item 2.3920742895356e-12\n",
       "\\item 2.28807105955579e-12\n",
       "\\item 4.09252709970548e-13\n",
       "\\item 3.93652225473576e-13\n",
       "\\item 3.6973148257822e-13\n",
       "\\item 6.24539396028752e-13\n",
       "\\item 1.65365135667896e-12\n",
       "\\item 1.58084909569309e-12\n",
       "\\item 1.82005652464665e-12\n",
       "\\item 2.08006459959618e-12\n",
       "\\item 4.10812758420245e-13\n",
       "\\item 6.2557942832855e-13\n",
       "\\item 4.94535358553991e-13\n",
       "\\item 1.82525668614565e-12\n",
       "\\item 7.54023417353614e-13\n",
       "\\item 1.56524861119612e-12\n",
       "\\item 6.29219541377844e-13\n",
       "\\end{enumerate*}\n"
      ],
      "text/markdown": [
       "1. 8.32025839838471e-13\n",
       "2. 8.32025839838471e-13\n",
       "3. 5.61617441890968e-13\n",
       "4. 1.34164166673953e-12\n",
       "5. 1.87205813963656e-12\n",
       "6. 1.17003633727285e-12\n",
       "7. 1.87205813963656e-12\n",
       "8. 7.62863691901898e-13\n",
       "9. 7.32182739057854e-13\n",
       "10. 8.71547067230798e-13\n",
       "11. 8.71547067230798e-13\n",
       "12. 1.43420454142156e-12\n",
       "13. 1.43420454142156e-12\n",
       "14. 1.43420454142156e-12\n",
       "15. 2.45447622752349e-12\n",
       "16. 2.3920742895356e-12\n",
       "17. 2.28807105955579e-12\n",
       "18. 4.09252709970548e-13\n",
       "19. 3.93652225473576e-13\n",
       "20. 3.6973148257822e-13\n",
       "21. 6.24539396028752e-13\n",
       "22. 1.65365135667896e-12\n",
       "23. 1.58084909569309e-12\n",
       "24. 1.82005652464665e-12\n",
       "25. 2.08006459959618e-12\n",
       "26. 4.10812758420245e-13\n",
       "27. 6.2557942832855e-13\n",
       "28. 4.94535358553991e-13\n",
       "29. 1.82525668614565e-12\n",
       "30. 7.54023417353614e-13\n",
       "31. 1.56524861119612e-12\n",
       "32. 6.29219541377844e-13\n",
       "\n",
       "\n"
      ],
      "text/plain": [
       " [1] 8.320258e-13 8.320258e-13 5.616174e-13 1.341642e-12 1.872058e-12\n",
       " [6] 1.170036e-12 1.872058e-12 7.628637e-13 7.321827e-13 8.715471e-13\n",
       "[11] 8.715471e-13 1.434205e-12 1.434205e-12 1.434205e-12 2.454476e-12\n",
       "[16] 2.392074e-12 2.288071e-12 4.092527e-13 3.936522e-13 3.697315e-13\n",
       "[21] 6.245394e-13 1.653651e-12 1.580849e-12 1.820057e-12 2.080065e-12\n",
       "[26] 4.108128e-13 6.255794e-13 4.945354e-13 1.825257e-12 7.540234e-13\n",
       "[31] 1.565249e-12 6.292195e-13"
      ]
     },
     "metadata": {},
     "output_type": "display_data"
    }
   ],
   "source": [
    "trans[[\"disp\"]](mtcars[[\"disp\"]])"
   ]
  },
  {
   "cell_type": "raw",
   "metadata": {},
   "source": [
    "21.4 For loops vs. functionals"
   ]
  },
  {
   "cell_type": "raw",
   "metadata": {},
   "source": [
    "For loops are not as important in R as they are in other languages because R is a functional programming language. This means that it’s possible to wrap up for loops in a function, and call that function instead of using the for loop directly.\n",
    "\n",
    "To see why this is important, consider (again) this simple data frame:"
   ]
  },
  {
   "cell_type": "code",
   "execution_count": 91,
   "metadata": {},
   "outputs": [
    {
     "data": {
      "text/html": [
       "<table>\n",
       "<thead><tr><th scope=col>a</th><th scope=col>b</th><th scope=col>c</th><th scope=col>d</th></tr></thead>\n",
       "<tbody>\n",
       "\t<tr><td> 0.69599252</td><td>-1.0655331 </td><td> 0.5314005 </td><td> 0.3191809 </td></tr>\n",
       "\t<tr><td> 0.85964916</td><td>-0.5118658 </td><td>-1.4972315 </td><td> 0.6041698 </td></tr>\n",
       "\t<tr><td> 0.53655068</td><td> 1.1515601 </td><td> 0.4350854 </td><td>-0.3489059 </td></tr>\n",
       "\t<tr><td>-0.81275795</td><td>-1.2041002 </td><td>-0.8539332 </td><td> 0.2469793 </td></tr>\n",
       "\t<tr><td> 0.37780445</td><td> 1.8458505 </td><td>-0.7586393 </td><td> 0.7072787 </td></tr>\n",
       "\t<tr><td> 0.18586637</td><td>-0.2037110 </td><td> 0.2611558 </td><td>-0.1108127 </td></tr>\n",
       "\t<tr><td> 0.44741760</td><td>-2.0784025 </td><td>-0.5718391 </td><td> 0.8167312 </td></tr>\n",
       "\t<tr><td> 0.71453865</td><td> 0.8705420 </td><td>-1.0678644 </td><td>-1.0333848 </td></tr>\n",
       "\t<tr><td>-0.03116637</td><td>-1.6230948 </td><td> 1.2388485 </td><td> 0.5812793 </td></tr>\n",
       "\t<tr><td>-0.89666264</td><td>-1.4497480 </td><td> 0.9952018 </td><td>-0.6371937 </td></tr>\n",
       "</tbody>\n",
       "</table>\n"
      ],
      "text/latex": [
       "\\begin{tabular}{r|llll}\n",
       " a & b & c & d\\\\\n",
       "\\hline\n",
       "\t  0.69599252 & -1.0655331  &  0.5314005  &  0.3191809 \\\\\n",
       "\t  0.85964916 & -0.5118658  & -1.4972315  &  0.6041698 \\\\\n",
       "\t  0.53655068 &  1.1515601  &  0.4350854  & -0.3489059 \\\\\n",
       "\t -0.81275795 & -1.2041002  & -0.8539332  &  0.2469793 \\\\\n",
       "\t  0.37780445 &  1.8458505  & -0.7586393  &  0.7072787 \\\\\n",
       "\t  0.18586637 & -0.2037110  &  0.2611558  & -0.1108127 \\\\\n",
       "\t  0.44741760 & -2.0784025  & -0.5718391  &  0.8167312 \\\\\n",
       "\t  0.71453865 &  0.8705420  & -1.0678644  & -1.0333848 \\\\\n",
       "\t -0.03116637 & -1.6230948  &  1.2388485  &  0.5812793 \\\\\n",
       "\t -0.89666264 & -1.4497480  &  0.9952018  & -0.6371937 \\\\\n",
       "\\end{tabular}\n"
      ],
      "text/markdown": [
       "\n",
       "| a | b | c | d |\n",
       "|---|---|---|---|\n",
       "|  0.69599252 | -1.0655331  |  0.5314005  |  0.3191809  |\n",
       "|  0.85964916 | -0.5118658  | -1.4972315  |  0.6041698  |\n",
       "|  0.53655068 |  1.1515601  |  0.4350854  | -0.3489059  |\n",
       "| -0.81275795 | -1.2041002  | -0.8539332  |  0.2469793  |\n",
       "|  0.37780445 |  1.8458505  | -0.7586393  |  0.7072787  |\n",
       "|  0.18586637 | -0.2037110  |  0.2611558  | -0.1108127  |\n",
       "|  0.44741760 | -2.0784025  | -0.5718391  |  0.8167312  |\n",
       "|  0.71453865 |  0.8705420  | -1.0678644  | -1.0333848  |\n",
       "| -0.03116637 | -1.6230948  |  1.2388485  |  0.5812793  |\n",
       "| -0.89666264 | -1.4497480  |  0.9952018  | -0.6371937  |\n",
       "\n"
      ],
      "text/plain": [
       "   a           b          c          d         \n",
       "1   0.69599252 -1.0655331  0.5314005  0.3191809\n",
       "2   0.85964916 -0.5118658 -1.4972315  0.6041698\n",
       "3   0.53655068  1.1515601  0.4350854 -0.3489059\n",
       "4  -0.81275795 -1.2041002 -0.8539332  0.2469793\n",
       "5   0.37780445  1.8458505 -0.7586393  0.7072787\n",
       "6   0.18586637 -0.2037110  0.2611558 -0.1108127\n",
       "7   0.44741760 -2.0784025 -0.5718391  0.8167312\n",
       "8   0.71453865  0.8705420 -1.0678644 -1.0333848\n",
       "9  -0.03116637 -1.6230948  1.2388485  0.5812793\n",
       "10 -0.89666264 -1.4497480  0.9952018 -0.6371937"
      ]
     },
     "metadata": {},
     "output_type": "display_data"
    }
   ],
   "source": [
    "df <- tibble(\n",
    "  a = rnorm(10),\n",
    "  b = rnorm(10),\n",
    "  c = rnorm(10),\n",
    "  d = rnorm(10)\n",
    ")\n",
    "df"
   ]
  },
  {
   "cell_type": "raw",
   "metadata": {},
   "source": [
    "Imagine you want to compute the mean of every column. You could do that with a for loop:"
   ]
  },
  {
   "cell_type": "code",
   "execution_count": 92,
   "metadata": {},
   "outputs": [
    {
     "data": {
      "text/html": [
       "<ol class=list-inline>\n",
       "\t<li>0.207723247178079</li>\n",
       "\t<li>-0.426850275663575</li>\n",
       "\t<li>-0.12878155531548</li>\n",
       "\t<li>0.114532208131338</li>\n",
       "</ol>\n"
      ],
      "text/latex": [
       "\\begin{enumerate*}\n",
       "\\item 0.207723247178079\n",
       "\\item -0.426850275663575\n",
       "\\item -0.12878155531548\n",
       "\\item 0.114532208131338\n",
       "\\end{enumerate*}\n"
      ],
      "text/markdown": [
       "1. 0.207723247178079\n",
       "2. -0.426850275663575\n",
       "3. -0.12878155531548\n",
       "4. 0.114532208131338\n",
       "\n",
       "\n"
      ],
      "text/plain": [
       "[1]  0.2077232 -0.4268503 -0.1287816  0.1145322"
      ]
     },
     "metadata": {},
     "output_type": "display_data"
    }
   ],
   "source": [
    "output <- vector(\"double\", length(df))\n",
    "for (i in seq_along(df)) {\n",
    "  output[[i]] <- mean(df[[i]])\n",
    "}\n",
    "output"
   ]
  },
  {
   "cell_type": "raw",
   "metadata": {},
   "source": [
    "You realise that you’re going to want to compute the means of every column pretty frequently, so you extract it out into a function:"
   ]
  },
  {
   "cell_type": "code",
   "execution_count": 93,
   "metadata": {},
   "outputs": [],
   "source": [
    "col_mean <- function(df) {\n",
    "  output <- vector(\"double\", length(df))\n",
    "  for (i in seq_along(df)) {\n",
    "    output[i] <- mean(df[[i]])\n",
    "  }\n",
    "  output\n",
    "}"
   ]
  },
  {
   "cell_type": "raw",
   "metadata": {},
   "source": [
    "But then you think it’d also be helpful to be able to compute the median, and the standard deviation, so you copy and paste your col_mean() function and replace the mean() with median() and sd():"
   ]
  },
  {
   "cell_type": "code",
   "execution_count": 94,
   "metadata": {},
   "outputs": [],
   "source": [
    "col_median <- function(df) {\n",
    "  output <- vector(\"double\", length(df))\n",
    "  for (i in seq_along(df)) {\n",
    "    output[i] <- median(df[[i]])\n",
    "  }\n",
    "  output\n",
    "}\n",
    "col_sd <- function(df) {\n",
    "  output <- vector(\"double\", length(df))\n",
    "  for (i in seq_along(df)) {\n",
    "    output[i] <- sd(df[[i]])\n",
    "  }\n",
    "  output\n",
    "}"
   ]
  },
  {
   "cell_type": "raw",
   "metadata": {},
   "source": [
    "Uh oh! You’ve copied-and-pasted this code twice, so it’s time to think about how to generalise it. Notice that most of this code is for-loop boilerplate and it’s hard to see the one thing (mean(), median(), sd()) that is different between the functions.\n",
    "\n",
    "What would you do if you saw a set of functions like this:"
   ]
  },
  {
   "cell_type": "code",
   "execution_count": 95,
   "metadata": {},
   "outputs": [],
   "source": [
    "f1 <- function(x) abs(x - mean(x)) ^ 1\n",
    "f2 <- function(x) abs(x - mean(x)) ^ 2\n",
    "f3 <- function(x) abs(x - mean(x)) ^ 3"
   ]
  },
  {
   "cell_type": "raw",
   "metadata": {},
   "source": [
    "Hopefully, you’d notice that there’s a lot of duplication, and extract it out into an additional argument:"
   ]
  },
  {
   "cell_type": "code",
   "execution_count": 96,
   "metadata": {},
   "outputs": [],
   "source": [
    "f <- function(x, i) abs(x - mean(x)) ^ i"
   ]
  },
  {
   "cell_type": "raw",
   "metadata": {},
   "source": [
    "You’ve reduced the chance of bugs (because you now have 1/3 of the original code), and made it easy to generalise to new situations.\n",
    "\n",
    "We can do exactly the same thing with col_mean(), col_median() and col_sd() by adding an argument that supplies the function to apply to each column:\n",
    "[*******cool code]"
   ]
  },
  {
   "cell_type": "code",
   "execution_count": 97,
   "metadata": {},
   "outputs": [
    {
     "data": {
      "text/html": [
       "<ol class=list-inline>\n",
       "\t<li>0.412611027221364</li>\n",
       "\t<li>-0.788699464417224</li>\n",
       "\t<li>-0.15534164477985</li>\n",
       "\t<li>0.283080084524218</li>\n",
       "</ol>\n"
      ],
      "text/latex": [
       "\\begin{enumerate*}\n",
       "\\item 0.412611027221364\n",
       "\\item -0.788699464417224\n",
       "\\item -0.15534164477985\n",
       "\\item 0.283080084524218\n",
       "\\end{enumerate*}\n"
      ],
      "text/markdown": [
       "1. 0.412611027221364\n",
       "2. -0.788699464417224\n",
       "3. -0.15534164477985\n",
       "4. 0.283080084524218\n",
       "\n",
       "\n"
      ],
      "text/plain": [
       "[1]  0.4126110 -0.7886995 -0.1553416  0.2830801"
      ]
     },
     "metadata": {},
     "output_type": "display_data"
    },
    {
     "data": {
      "text/html": [
       "<ol class=list-inline>\n",
       "\t<li>0.207723247178079</li>\n",
       "\t<li>-0.426850275663575</li>\n",
       "\t<li>-0.12878155531548</li>\n",
       "\t<li>0.114532208131338</li>\n",
       "</ol>\n"
      ],
      "text/latex": [
       "\\begin{enumerate*}\n",
       "\\item 0.207723247178079\n",
       "\\item -0.426850275663575\n",
       "\\item -0.12878155531548\n",
       "\\item 0.114532208131338\n",
       "\\end{enumerate*}\n"
      ],
      "text/markdown": [
       "1. 0.207723247178079\n",
       "2. -0.426850275663575\n",
       "3. -0.12878155531548\n",
       "4. 0.114532208131338\n",
       "\n",
       "\n"
      ],
      "text/plain": [
       "[1]  0.2077232 -0.4268503 -0.1287816  0.1145322"
      ]
     },
     "metadata": {},
     "output_type": "display_data"
    }
   ],
   "source": [
    "col_summary <- function(df, fun) {\n",
    "  out <- vector(\"double\", length(df))\n",
    "  for (i in seq_along(df)) {\n",
    "    out[i] <- fun(df[[i]])\n",
    "  }\n",
    "  out\n",
    "}\n",
    "col_summary(df, median)\n",
    "col_summary(df, mean)"
   ]
  },
  {
   "cell_type": "raw",
   "metadata": {},
   "source": [
    "******\n",
    "purr\n",
    "intro tapply, sapply, apply\n",
    "The idea of passing a function to another function is extremely powerful idea, and it’s one of the behaviours that makes R a functional programming language. \n",
    "\n",
    "It might take you a while to wrap your head around the idea, but it’s worth the investment. In the rest of the chapter, you’ll learn about and use the purrr package, which provides functions that eliminate the need for many common for loops. \n",
    "\n",
    "The apply family of functions in base R (apply(), lapply(), tapply(), etc) solve a similar problem, but purrr is more consistent and thus is easier to learn.\n",
    "\n",
    "The goal of using purrr functions instead of for loops is to allow you break common list manipulation challenges into independent pieces:\n",
    "\n",
    "1.    How can you solve the problem for a single element of the list? Once you’ve solved that problem, purrr takes care of generalising your solution to every element in the list.\n",
    "\n",
    "2.    If you’re solving a complex problem, how can you break it down into bite-sized pieces that allow you to advance one small step towards a solution? With purrr, you get lots of small pieces that you can compose together with the pipe.\n",
    "\n",
    "This structure makes it easier to solve new problems. It also makes it easier to understand your solutions to old problems when you re-read your old code."
   ]
  },
  {
   "cell_type": "raw",
   "metadata": {},
   "source": [
    "21.4.1 Exercises"
   ]
  },
  {
   "cell_type": "raw",
   "metadata": {},
   "source": [
    "Q1. Read the documentation for apply(). In the 2d case, what two for loops does it generalise?"
   ]
  },
  {
   "cell_type": "raw",
   "metadata": {},
   "source": [
    "#?apply\n",
    "\n",
    "apply {base}\tR Documentation\n",
    "Apply Functions Over Array Margins\n",
    "Description\n",
    "Returns a vector or array or list of values obtained by applying a function to margins of an array or matrix.\n",
    "Usage\n",
    "apply(X, MARGIN, FUN, ...)\n",
    "Arguments\n",
    "X\t\n",
    "an array, including a matrix.\n",
    "MARGIN\t\n",
    "a vector giving the subscripts which the function will be applied over. E.g., for a matrix 1 indicates rows, 2 indicates columns, c(1, 2) indicates rows and columns. Where X has named dimnames, it can be a character vector selecting dimension names.\n",
    "FUN\t\n",
    "the function to be applied: see ‘Details’. In the case of functions like +, %*%, etc., the function name must be backquoted or quoted.\n",
    "...\t\n",
    "optional arguments to FUN.\n",
    "Details\n",
    "If X is not an array but an object of a class with a non-null dim value (such as a data frame), apply attempts to coerce it to an array via as.matrix if it is two-dimensional (e.g., a data frame) or via as.array.\n",
    "FUN is found by a call to match.fun and typically is either a function or a symbol (e.g., a backquoted name) or a character string specifying a function to be searched for from the environment of the call to apply.\n",
    "Arguments in ... cannot have the same name as any of the other arguments, and care may be needed to avoid partial matching to MARGIN or FUN. In general-purpose code it is good practice to name the first three arguments if ... is passed through: this both avoids partial matching to MARGIN or FUN and ensures that a sensible error message is given if arguments named X, MARGIN or FUN are passed through ....\n",
    "Value\n",
    "If each call to FUN returns a vector of length n, then apply returns an array of dimension c(n, dim(X)[MARGIN]) if n > 1. If n equals 1, apply returns a vector if MARGIN has length 1 and an array of dimension dim(X)[MARGIN] otherwise. If n is 0, the result has length 0 but not necessarily the ‘correct’ dimension.\n",
    "If the calls to FUN return vectors of different lengths, apply returns a list of length prod(dim(X)[MARGIN]) with dim set to MARGIN if this has length greater than one.\n",
    "In all cases the result is coerced by as.vector to one of the basic vector types before the dimensions are set, so that (for example) factor results will be coerced to a character array.\n",
    "References\n",
    "Becker, R. A., Chambers, J. M. and Wilks, A. R. (1988) The New S Language. Wadsworth & Brooks/Cole.\n",
    "See Also\n",
    "lapply and there, simplify2array; tapply, and convenience functions sweep and aggregate.\n",
    "Examples\n",
    "## Compute row and column sums for a matrix:\n",
    "x <- cbind(x1 = 3, x2 = c(4:1, 2:5))\n",
    "dimnames(x)[[1]] <- letters[1:8]\n",
    "apply(x, 2, mean, trim = .2)\n",
    "col.sums <- apply(x, 2, sum)\n",
    "row.sums <- apply(x, 1, sum)\n",
    "rbind(cbind(x, Rtot = row.sums), Ctot = c(col.sums, sum(col.sums)))\n",
    "\n",
    "stopifnot( apply(x, 2, is.vector))\n",
    "\n",
    "## Sort the columns of a matrix\n",
    "apply(x, 2, sort)\n",
    "\n",
    "## keeping named dimnames\n",
    "names(dimnames(x)) <- c(\"row\", \"col\")\n",
    "x3 <- array(x, dim = c(dim(x),3),\n",
    "\t    dimnames = c(dimnames(x), list(C = paste0(\"cop.\",1:3))))\n",
    "identical(x,  apply( x,  2,  identity))\n",
    "identical(x3, apply(x3, 2:3, identity))\n",
    "\n",
    "##- function with extra args:\n",
    "cave <- function(x, c1, c2) c(mean(x[c1]), mean(x[c2]))\n",
    "apply(x, 1, cave,  c1 = \"x1\", c2 = c(\"x1\",\"x2\"))\n",
    "\n",
    "ma <- matrix(c(1:4, 1, 6:8), nrow = 2)\n",
    "ma\n",
    "apply(ma, 1, table)  #--> a list of length 2\n",
    "apply(ma, 1, stats::quantile) # 5 x n matrix with rownames\n",
    "\n",
    "stopifnot(dim(ma) == dim(apply(ma, 1:2, sum)))\n",
    "\n",
    "## Example with different lengths for each call\n",
    "z <- array(1:24, dim = 2:4)\n",
    "zseq <- apply(z, 1:2, function(x) seq_len(max(x)))\n",
    "zseq         ## a 2 x 3 matrix\n",
    "typeof(zseq) ## list\n",
    "dim(zseq) ## 2 3\n",
    "zseq[1,]\n",
    "apply(z, 3, function(x) seq_len(max(x)))\n",
    "# a list without a dim attribute\n",
    "\n",
    "NN\n",
    "dimnames() to be named*******\n",
    "apply (the df or matrix to apply to, the dim to apply to, the function to apply, any args for func)********\n",
    "rbind(\n",
    "cbind(\n",
    "rbind(cbind(...\n",
    "cool code here******* table, quantile!"
   ]
  },
  {
   "cell_type": "code",
   "execution_count": 143,
   "metadata": {},
   "outputs": [
    {
     "data": {
      "text/html": [
       "<table>\n",
       "<tbody>\n",
       "\t<tr><td>3.0</td><td>3  </td><td>3.0</td><td>3  </td><td>3.0</td><td>3  </td><td>3.0</td><td>3  </td></tr>\n",
       "\t<tr><td>3.5</td><td>3  </td><td>2.5</td><td>2  </td><td>2.5</td><td>3  </td><td>3.5</td><td>4  </td></tr>\n",
       "</tbody>\n",
       "</table>\n"
      ],
      "text/latex": [
       "\\begin{tabular}{llllllll}\n",
       "\t 3.0 & 3   & 3.0 & 3   & 3.0 & 3   & 3.0 & 3  \\\\\n",
       "\t 3.5 & 3   & 2.5 & 2   & 2.5 & 3   & 3.5 & 4  \\\\\n",
       "\\end{tabular}\n"
      ],
      "text/markdown": [
       "\n",
       "| 3.0 | 3   | 3.0 | 3   | 3.0 | 3   | 3.0 | 3   |\n",
       "| 3.5 | 3   | 2.5 | 2   | 2.5 | 3   | 3.5 | 4   |\n",
       "\n"
      ],
      "text/plain": [
       "      row\n",
       "       [,1] [,2] [,3] [,4] [,5] [,6] [,7] [,8]\n",
       "  [1,] 3.0  3    3.0  3    3.0  3    3.0  3   \n",
       "  [2,] 3.5  3    2.5  2    2.5  3    3.5  4   "
      ]
     },
     "metadata": {},
     "output_type": "display_data"
    },
    {
     "data": {
      "text/html": [
       "<table>\n",
       "<tbody>\n",
       "\t<tr><td>1</td><td>3</td><td>1</td><td>7</td></tr>\n",
       "\t<tr><td>2</td><td>4</td><td>6</td><td>8</td></tr>\n",
       "</tbody>\n",
       "</table>\n"
      ],
      "text/latex": [
       "\\begin{tabular}{llll}\n",
       "\t 1 & 3 & 1 & 7\\\\\n",
       "\t 2 & 4 & 6 & 8\\\\\n",
       "\\end{tabular}\n"
      ],
      "text/markdown": [
       "\n",
       "| 1 | 3 | 1 | 7 |\n",
       "| 2 | 4 | 6 | 8 |\n",
       "\n"
      ],
      "text/plain": [
       "     [,1] [,2] [,3] [,4]\n",
       "[1,] 1    3    1    7   \n",
       "[2,] 2    4    6    8   "
      ]
     },
     "metadata": {},
     "output_type": "display_data"
    },
    {
     "data": {
      "text/plain": [
       "[[1]]\n",
       "\n",
       "1 3 7 \n",
       "2 1 1 \n",
       "\n",
       "[[2]]\n",
       "\n",
       "2 4 6 8 \n",
       "1 1 1 1 \n"
      ]
     },
     "metadata": {},
     "output_type": "display_data"
    },
    {
     "data": {
      "text/html": [
       "<table>\n",
       "<tbody>\n",
       "\t<tr><th scope=row>0%</th><td>1  </td><td>2.0</td></tr>\n",
       "\t<tr><th scope=row>25%</th><td>1  </td><td>3.5</td></tr>\n",
       "\t<tr><th scope=row>50%</th><td>2  </td><td>5.0</td></tr>\n",
       "\t<tr><th scope=row>75%</th><td>4  </td><td>6.5</td></tr>\n",
       "\t<tr><th scope=row>100%</th><td>7  </td><td>8.0</td></tr>\n",
       "</tbody>\n",
       "</table>\n"
      ],
      "text/latex": [
       "\\begin{tabular}{r|ll}\n",
       "\t0\\% & 1   & 2.0\\\\\n",
       "\t25\\% & 1   & 3.5\\\\\n",
       "\t50\\% & 2   & 5.0\\\\\n",
       "\t75\\% & 4   & 6.5\\\\\n",
       "\t100\\% & 7   & 8.0\\\\\n",
       "\\end{tabular}\n"
      ],
      "text/markdown": [
       "\n",
       "| 0% | 1   | 2.0 |\n",
       "| 25% | 1   | 3.5 |\n",
       "| 50% | 2   | 5.0 |\n",
       "| 75% | 4   | 6.5 |\n",
       "| 100% | 7   | 8.0 |\n",
       "\n"
      ],
      "text/plain": [
       "     [,1] [,2]\n",
       "0%   1    2.0 \n",
       "25%  1    3.5 \n",
       "50%  2    5.0 \n",
       "75%  4    6.5 \n",
       "100% 7    8.0 "
      ]
     },
     "metadata": {},
     "output_type": "display_data"
    }
   ],
   "source": [
    "cave <- function(x, c1, c2) c(mean(x[c1]), mean(x[c2]))\n",
    "apply(x, 1, cave,  c1 = \"x1\", c2 = c(\"x1\",\"x2\"))\n",
    "cave(x, 'x1', c('x1', 'x2'))\n",
    "\n",
    "ma <- matrix(c(1:4, 1, 6:8), nrow = 2)\n",
    "ma\n",
    "apply(ma, 1, table)  #--> a list of length 2 = frequency table!\n",
    "apply(ma, 1, stats::quantile) # 5 x n matrix with rownames\n",
    "\n",
    "stopifnot(dim(ma) == dim(apply(ma, 1:2, sum)))"
   ]
  },
  {
   "cell_type": "code",
   "execution_count": 122,
   "metadata": {},
   "outputs": [
    {
     "data": {
      "text/html": [
       "<ol>\n",
       "\t<li>NULL</li>\n",
       "\t<li><ol class=list-inline>\n",
       "\t<li>'x1'</li>\n",
       "\t<li>'x2'</li>\n",
       "</ol>\n",
       "</li>\n",
       "</ol>\n"
      ],
      "text/latex": [
       "\\begin{enumerate}\n",
       "\\item NULL\n",
       "\\item \\begin{enumerate*}\n",
       "\\item 'x1'\n",
       "\\item 'x2'\n",
       "\\end{enumerate*}\n",
       "\n",
       "\\end{enumerate}\n"
      ],
      "text/markdown": [
       "1. NULL\n",
       "2. 1. 'x1'\n",
       "2. 'x2'\n",
       "\n",
       "\n",
       "\n",
       "\n",
       "\n"
      ],
      "text/plain": [
       "[[1]]\n",
       "NULL\n",
       "\n",
       "[[2]]\n",
       "[1] \"x1\" \"x2\"\n"
      ]
     },
     "metadata": {},
     "output_type": "display_data"
    },
    {
     "data": {
      "text/html": [
       "<ol class=list-inline>\n",
       "\t<li>'x1'</li>\n",
       "\t<li>'x2'</li>\n",
       "</ol>\n"
      ],
      "text/latex": [
       "\\begin{enumerate*}\n",
       "\\item 'x1'\n",
       "\\item 'x2'\n",
       "\\end{enumerate*}\n"
      ],
      "text/markdown": [
       "1. 'x1'\n",
       "2. 'x2'\n",
       "\n",
       "\n"
      ],
      "text/plain": [
       "[1] \"x1\" \"x2\""
      ]
     },
     "metadata": {},
     "output_type": "display_data"
    },
    {
     "data": {
      "text/html": [
       "<ol>\n",
       "\t<li><ol class=list-inline>\n",
       "\t<li>'a'</li>\n",
       "\t<li>'b'</li>\n",
       "\t<li>'c'</li>\n",
       "\t<li>'d'</li>\n",
       "\t<li>'e'</li>\n",
       "\t<li>'f'</li>\n",
       "\t<li>'g'</li>\n",
       "\t<li>'h'</li>\n",
       "</ol>\n",
       "</li>\n",
       "\t<li><ol class=list-inline>\n",
       "\t<li>'x1'</li>\n",
       "\t<li>'x2'</li>\n",
       "</ol>\n",
       "</li>\n",
       "</ol>\n"
      ],
      "text/latex": [
       "\\begin{enumerate}\n",
       "\\item \\begin{enumerate*}\n",
       "\\item 'a'\n",
       "\\item 'b'\n",
       "\\item 'c'\n",
       "\\item 'd'\n",
       "\\item 'e'\n",
       "\\item 'f'\n",
       "\\item 'g'\n",
       "\\item 'h'\n",
       "\\end{enumerate*}\n",
       "\n",
       "\\item \\begin{enumerate*}\n",
       "\\item 'x1'\n",
       "\\item 'x2'\n",
       "\\end{enumerate*}\n",
       "\n",
       "\\end{enumerate}\n"
      ],
      "text/markdown": [
       "1. 1. 'a'\n",
       "2. 'b'\n",
       "3. 'c'\n",
       "4. 'd'\n",
       "5. 'e'\n",
       "6. 'f'\n",
       "7. 'g'\n",
       "8. 'h'\n",
       "\n",
       "\n",
       "\n",
       "2. 1. 'x1'\n",
       "2. 'x2'\n",
       "\n",
       "\n",
       "\n",
       "\n",
       "\n"
      ],
      "text/plain": [
       "[[1]]\n",
       "[1] \"a\" \"b\" \"c\" \"d\" \"e\" \"f\" \"g\" \"h\"\n",
       "\n",
       "[[2]]\n",
       "[1] \"x1\" \"x2\"\n"
      ]
     },
     "metadata": {},
     "output_type": "display_data"
    },
    {
     "data": {
      "text/html": [
       "<dl class=dl-horizontal>\n",
       "\t<dt>a</dt>\n",
       "\t\t<dd>3.5</dd>\n",
       "\t<dt>b</dt>\n",
       "\t\t<dd>3</dd>\n",
       "\t<dt>c</dt>\n",
       "\t\t<dd>2.5</dd>\n",
       "\t<dt>d</dt>\n",
       "\t\t<dd>2</dd>\n",
       "\t<dt>e</dt>\n",
       "\t\t<dd>2.5</dd>\n",
       "\t<dt>f</dt>\n",
       "\t\t<dd>3</dd>\n",
       "\t<dt>g</dt>\n",
       "\t\t<dd>3.5</dd>\n",
       "\t<dt>h</dt>\n",
       "\t\t<dd>4</dd>\n",
       "</dl>\n"
      ],
      "text/latex": [
       "\\begin{description*}\n",
       "\\item[a] 3.5\n",
       "\\item[b] 3\n",
       "\\item[c] 2.5\n",
       "\\item[d] 2\n",
       "\\item[e] 2.5\n",
       "\\item[f] 3\n",
       "\\item[g] 3.5\n",
       "\\item[h] 4\n",
       "\\end{description*}\n"
      ],
      "text/markdown": [
       "a\n",
       ":   3.5b\n",
       ":   3c\n",
       ":   2.5d\n",
       ":   2e\n",
       ":   2.5f\n",
       ":   3g\n",
       ":   3.5h\n",
       ":   4\n",
       "\n"
      ],
      "text/plain": [
       "  a   b   c   d   e   f   g   h \n",
       "3.5 3.0 2.5 2.0 2.5 3.0 3.5 4.0 "
      ]
     },
     "metadata": {},
     "output_type": "display_data"
    },
    {
     "data": {
      "text/html": [
       "<dl class=dl-horizontal>\n",
       "\t<dt>x1</dt>\n",
       "\t\t<dd>3</dd>\n",
       "\t<dt>x2</dt>\n",
       "\t\t<dd>3</dd>\n",
       "</dl>\n"
      ],
      "text/latex": [
       "\\begin{description*}\n",
       "\\item[x1] 3\n",
       "\\item[x2] 3\n",
       "\\end{description*}\n"
      ],
      "text/markdown": [
       "x1\n",
       ":   3x2\n",
       ":   3\n",
       "\n"
      ],
      "text/plain": [
       "x1 x2 \n",
       " 3  3 "
      ]
     },
     "metadata": {},
     "output_type": "display_data"
    },
    {
     "data": {
      "text/html": [
       "<table>\n",
       "<thead><tr><th></th><th scope=col>x1</th><th scope=col>x2</th><th scope=col>Rtot</th></tr></thead>\n",
       "<tbody>\n",
       "\t<tr><th scope=row>a</th><td>3</td><td>4</td><td>7</td></tr>\n",
       "\t<tr><th scope=row>b</th><td>3</td><td>3</td><td>6</td></tr>\n",
       "\t<tr><th scope=row>c</th><td>3</td><td>2</td><td>5</td></tr>\n",
       "\t<tr><th scope=row>d</th><td>3</td><td>1</td><td>4</td></tr>\n",
       "\t<tr><th scope=row>e</th><td>3</td><td>2</td><td>5</td></tr>\n",
       "\t<tr><th scope=row>f</th><td>3</td><td>3</td><td>6</td></tr>\n",
       "\t<tr><th scope=row>g</th><td>3</td><td>4</td><td>7</td></tr>\n",
       "\t<tr><th scope=row>h</th><td>3</td><td>5</td><td>8</td></tr>\n",
       "</tbody>\n",
       "</table>\n"
      ],
      "text/latex": [
       "\\begin{tabular}{r|lll}\n",
       "  & x1 & x2 & Rtot\\\\\n",
       "\\hline\n",
       "\ta & 3 & 4 & 7\\\\\n",
       "\tb & 3 & 3 & 6\\\\\n",
       "\tc & 3 & 2 & 5\\\\\n",
       "\td & 3 & 1 & 4\\\\\n",
       "\te & 3 & 2 & 5\\\\\n",
       "\tf & 3 & 3 & 6\\\\\n",
       "\tg & 3 & 4 & 7\\\\\n",
       "\th & 3 & 5 & 8\\\\\n",
       "\\end{tabular}\n"
      ],
      "text/markdown": [
       "\n",
       "| <!--/--> | x1 | x2 | Rtot |\n",
       "|---|---|---|---|\n",
       "| a | 3 | 4 | 7 |\n",
       "| b | 3 | 3 | 6 |\n",
       "| c | 3 | 2 | 5 |\n",
       "| d | 3 | 1 | 4 |\n",
       "| e | 3 | 2 | 5 |\n",
       "| f | 3 | 3 | 6 |\n",
       "| g | 3 | 4 | 7 |\n",
       "| h | 3 | 5 | 8 |\n",
       "\n"
      ],
      "text/plain": [
       "  x1 x2 Rtot\n",
       "a 3  4  7   \n",
       "b 3  3  6   \n",
       "c 3  2  5   \n",
       "d 3  1  4   \n",
       "e 3  2  5   \n",
       "f 3  3  6   \n",
       "g 3  4  7   \n",
       "h 3  5  8   "
      ]
     },
     "metadata": {},
     "output_type": "display_data"
    },
    {
     "name": "stderr",
     "output_type": "stream",
     "text": [
      "Warning message in rbind(x, Ctot = c(col.sums, sum(col.sums))):\n",
      "“number of columns of result is not a multiple of vector length (arg 2)”"
     ]
    },
    {
     "data": {
      "text/html": [
       "<table>\n",
       "<thead><tr><th></th><th scope=col>x1</th><th scope=col>x2</th></tr></thead>\n",
       "<tbody>\n",
       "\t<tr><th scope=row>a</th><td> 3</td><td> 4</td></tr>\n",
       "\t<tr><th scope=row>b</th><td> 3</td><td> 3</td></tr>\n",
       "\t<tr><th scope=row>c</th><td> 3</td><td> 2</td></tr>\n",
       "\t<tr><th scope=row>d</th><td> 3</td><td> 1</td></tr>\n",
       "\t<tr><th scope=row>e</th><td> 3</td><td> 2</td></tr>\n",
       "\t<tr><th scope=row>f</th><td> 3</td><td> 3</td></tr>\n",
       "\t<tr><th scope=row>g</th><td> 3</td><td> 4</td></tr>\n",
       "\t<tr><th scope=row>h</th><td> 3</td><td> 5</td></tr>\n",
       "\t<tr><th scope=row>Ctot</th><td>24</td><td>24</td></tr>\n",
       "</tbody>\n",
       "</table>\n"
      ],
      "text/latex": [
       "\\begin{tabular}{r|ll}\n",
       "  & x1 & x2\\\\\n",
       "\\hline\n",
       "\ta &  3 &  4\\\\\n",
       "\tb &  3 &  3\\\\\n",
       "\tc &  3 &  2\\\\\n",
       "\td &  3 &  1\\\\\n",
       "\te &  3 &  2\\\\\n",
       "\tf &  3 &  3\\\\\n",
       "\tg &  3 &  4\\\\\n",
       "\th &  3 &  5\\\\\n",
       "\tCtot & 24 & 24\\\\\n",
       "\\end{tabular}\n"
      ],
      "text/markdown": [
       "\n",
       "| <!--/--> | x1 | x2 |\n",
       "|---|---|---|\n",
       "| a |  3 |  4 |\n",
       "| b |  3 |  3 |\n",
       "| c |  3 |  2 |\n",
       "| d |  3 |  1 |\n",
       "| e |  3 |  2 |\n",
       "| f |  3 |  3 |\n",
       "| g |  3 |  4 |\n",
       "| h |  3 |  5 |\n",
       "| Ctot | 24 | 24 |\n",
       "\n"
      ],
      "text/plain": [
       "     x1 x2\n",
       "a     3  4\n",
       "b     3  3\n",
       "c     3  2\n",
       "d     3  1\n",
       "e     3  2\n",
       "f     3  3\n",
       "g     3  4\n",
       "h     3  5\n",
       "Ctot 24 24"
      ]
     },
     "metadata": {},
     "output_type": "display_data"
    },
    {
     "data": {
      "text/html": [
       "<table>\n",
       "<thead><tr><th></th><th scope=col>x1</th><th scope=col>x2</th><th scope=col>Rtot</th></tr></thead>\n",
       "<tbody>\n",
       "\t<tr><th scope=row>a</th><td> 3</td><td> 4</td><td> 7</td></tr>\n",
       "\t<tr><th scope=row>b</th><td> 3</td><td> 3</td><td> 6</td></tr>\n",
       "\t<tr><th scope=row>c</th><td> 3</td><td> 2</td><td> 5</td></tr>\n",
       "\t<tr><th scope=row>d</th><td> 3</td><td> 1</td><td> 4</td></tr>\n",
       "\t<tr><th scope=row>e</th><td> 3</td><td> 2</td><td> 5</td></tr>\n",
       "\t<tr><th scope=row>f</th><td> 3</td><td> 3</td><td> 6</td></tr>\n",
       "\t<tr><th scope=row>g</th><td> 3</td><td> 4</td><td> 7</td></tr>\n",
       "\t<tr><th scope=row>h</th><td> 3</td><td> 5</td><td> 8</td></tr>\n",
       "\t<tr><th scope=row>Ctot</th><td>24</td><td>24</td><td>48</td></tr>\n",
       "</tbody>\n",
       "</table>\n"
      ],
      "text/latex": [
       "\\begin{tabular}{r|lll}\n",
       "  & x1 & x2 & Rtot\\\\\n",
       "\\hline\n",
       "\ta &  3 &  4 &  7\\\\\n",
       "\tb &  3 &  3 &  6\\\\\n",
       "\tc &  3 &  2 &  5\\\\\n",
       "\td &  3 &  1 &  4\\\\\n",
       "\te &  3 &  2 &  5\\\\\n",
       "\tf &  3 &  3 &  6\\\\\n",
       "\tg &  3 &  4 &  7\\\\\n",
       "\th &  3 &  5 &  8\\\\\n",
       "\tCtot & 24 & 24 & 48\\\\\n",
       "\\end{tabular}\n"
      ],
      "text/markdown": [
       "\n",
       "| <!--/--> | x1 | x2 | Rtot |\n",
       "|---|---|---|---|\n",
       "| a |  3 |  4 |  7 |\n",
       "| b |  3 |  3 |  6 |\n",
       "| c |  3 |  2 |  5 |\n",
       "| d |  3 |  1 |  4 |\n",
       "| e |  3 |  2 |  5 |\n",
       "| f |  3 |  3 |  6 |\n",
       "| g |  3 |  4 |  7 |\n",
       "| h |  3 |  5 |  8 |\n",
       "| Ctot | 24 | 24 | 48 |\n",
       "\n"
      ],
      "text/plain": [
       "     x1 x2 Rtot\n",
       "a     3  4  7  \n",
       "b     3  3  6  \n",
       "c     3  2  5  \n",
       "d     3  1  4  \n",
       "e     3  2  5  \n",
       "f     3  3  6  \n",
       "g     3  4  7  \n",
       "h     3  5  8  \n",
       "Ctot 24 24 48  "
      ]
     },
     "metadata": {},
     "output_type": "display_data"
    },
    {
     "data": {
      "text/html": [
       "<table>\n",
       "<thead><tr><th scope=col>x1</th><th scope=col>x2</th></tr></thead>\n",
       "<tbody>\n",
       "\t<tr><td>3</td><td>1</td></tr>\n",
       "\t<tr><td>3</td><td>2</td></tr>\n",
       "\t<tr><td>3</td><td>2</td></tr>\n",
       "\t<tr><td>3</td><td>3</td></tr>\n",
       "\t<tr><td>3</td><td>3</td></tr>\n",
       "\t<tr><td>3</td><td>4</td></tr>\n",
       "\t<tr><td>3</td><td>4</td></tr>\n",
       "\t<tr><td>3</td><td>5</td></tr>\n",
       "</tbody>\n",
       "</table>\n"
      ],
      "text/latex": [
       "\\begin{tabular}{ll}\n",
       " x1 & x2\\\\\n",
       "\\hline\n",
       "\t 3 & 1\\\\\n",
       "\t 3 & 2\\\\\n",
       "\t 3 & 2\\\\\n",
       "\t 3 & 3\\\\\n",
       "\t 3 & 3\\\\\n",
       "\t 3 & 4\\\\\n",
       "\t 3 & 4\\\\\n",
       "\t 3 & 5\\\\\n",
       "\\end{tabular}\n"
      ],
      "text/markdown": [
       "\n",
       "| x1 | x2 |\n",
       "|---|---|\n",
       "| 3 | 1 |\n",
       "| 3 | 2 |\n",
       "| 3 | 2 |\n",
       "| 3 | 3 |\n",
       "| 3 | 3 |\n",
       "| 3 | 4 |\n",
       "| 3 | 4 |\n",
       "| 3 | 5 |\n",
       "\n"
      ],
      "text/plain": [
       "     x1 x2\n",
       "[1,] 3  1 \n",
       "[2,] 3  2 \n",
       "[3,] 3  2 \n",
       "[4,] 3  3 \n",
       "[5,] 3  3 \n",
       "[6,] 3  4 \n",
       "[7,] 3  4 \n",
       "[8,] 3  5 "
      ]
     },
     "metadata": {},
     "output_type": "display_data"
    },
    {
     "data": {
      "text/html": [
       "<table>\n",
       "<thead><tr><th scope=col>x1</th><th scope=col>x2</th><th scope=col>Rtot</th></tr></thead>\n",
       "<tbody>\n",
       "\t<tr><td> 3</td><td> 1</td><td> 4</td></tr>\n",
       "\t<tr><td> 3</td><td> 2</td><td> 5</td></tr>\n",
       "\t<tr><td> 3</td><td> 2</td><td> 5</td></tr>\n",
       "\t<tr><td> 3</td><td> 3</td><td> 6</td></tr>\n",
       "\t<tr><td> 3</td><td> 3</td><td> 6</td></tr>\n",
       "\t<tr><td> 3</td><td> 4</td><td> 7</td></tr>\n",
       "\t<tr><td> 3</td><td> 4</td><td> 7</td></tr>\n",
       "\t<tr><td> 3</td><td> 5</td><td> 8</td></tr>\n",
       "\t<tr><td>24</td><td>24</td><td>48</td></tr>\n",
       "</tbody>\n",
       "</table>\n"
      ],
      "text/latex": [
       "\\begin{tabular}{lll}\n",
       " x1 & x2 & Rtot\\\\\n",
       "\\hline\n",
       "\t  3 &  1 &  4\\\\\n",
       "\t  3 &  2 &  5\\\\\n",
       "\t  3 &  2 &  5\\\\\n",
       "\t  3 &  3 &  6\\\\\n",
       "\t  3 &  3 &  6\\\\\n",
       "\t  3 &  4 &  7\\\\\n",
       "\t  3 &  4 &  7\\\\\n",
       "\t  3 &  5 &  8\\\\\n",
       "\t 24 & 24 & 48\\\\\n",
       "\\end{tabular}\n"
      ],
      "text/markdown": [
       "\n",
       "| x1 | x2 | Rtot |\n",
       "|---|---|---|\n",
       "|  3 |  1 |  4 |\n",
       "|  3 |  2 |  5 |\n",
       "|  3 |  2 |  5 |\n",
       "|  3 |  3 |  6 |\n",
       "|  3 |  3 |  6 |\n",
       "|  3 |  4 |  7 |\n",
       "|  3 |  4 |  7 |\n",
       "|  3 |  5 |  8 |\n",
       "| 24 | 24 | 48 |\n",
       "\n"
      ],
      "text/plain": [
       "      x1 x2 Rtot\n",
       " [1,]  3  1  4  \n",
       " [2,]  3  2  5  \n",
       " [3,]  3  2  5  \n",
       " [4,]  3  3  6  \n",
       " [5,]  3  3  6  \n",
       " [6,]  3  4  7  \n",
       " [7,]  3  4  7  \n",
       " [8,]  3  5  8  \n",
       " [9,] 24 24 48  "
      ]
     },
     "metadata": {},
     "output_type": "display_data"
    }
   ],
   "source": [
    "x <- cbind(x1 = 3, x2 = c(4:1, 2:5))\n",
    "dimnames(x)\n",
    "dimnames(x)[[2]]\n",
    "dimnames(x)[[1]] <- letters[1:8]  # name the rows which are 1st dim\n",
    "dimnames(x)\n",
    "apply(x, 1, mean, trim = .2)  #apply to x, 1st rows dim the mean of each rows\n",
    "apply(x, 2, mean, trim = .2)  #apply to x, 2nd dim the mean of each col\n",
    "col.sums <- apply(x, 2, sum)  # apply to x, 2nd dim = col, the sum of each col\n",
    "row.sums <- apply(x, 1, sum)\n",
    "cbind(x, Rtot = row.sums)\n",
    "rbind(x, Ctot = c(col.sums, sum(col.sums))) \n",
    "rbind(cbind(x, Rtot = row.sums), Ctot = c(col.sums, sum(col.sums)))\n",
    "\n",
    "stopifnot( apply(x, 2, is.vector)) # <-- not sure purpose\n",
    "apply(x, 2, sort)\n",
    "\n",
    "\n"
   ]
  },
  {
   "cell_type": "raw",
   "metadata": {},
   "source": [
    "####\n",
    "For an object with two-dimensions, such as a matrix or data frame, apply() replaces looping over the rows or columns of a matrix or data-frame. The apply() function is used like apply(X, MARGIN, FUN, ...), where X is a matrix or array, FUN is a function to apply, and ... are additional arguments passed to FUN.\n",
    "\n",
    "When MARGIN = 1, then the function is applied to each row. For example, the following example calculates the row means of a matrix."
   ]
  },
  {
   "cell_type": "code",
   "execution_count": 144,
   "metadata": {},
   "outputs": [
    {
     "data": {
      "text/html": [
       "<table>\n",
       "<tbody>\n",
       "\t<tr><td>-1.2034431</td><td>-0.3836496</td><td> 0.5718415</td></tr>\n",
       "\t<tr><td>-0.1186722</td><td>-0.8293949</td><td>-0.6155932</td></tr>\n",
       "\t<tr><td>-0.4679707</td><td>-0.2224359</td><td>-0.4110596</td></tr>\n",
       "\t<tr><td>-0.5255744</td><td> 0.5818216</td><td>-1.7463158</td></tr>\n",
       "\t<tr><td> 0.5431895</td><td> 0.4992724</td><td>-2.2597343</td></tr>\n",
       "</tbody>\n",
       "</table>\n"
      ],
      "text/latex": [
       "\\begin{tabular}{lll}\n",
       "\t -1.2034431 & -0.3836496 &  0.5718415\\\\\n",
       "\t -0.1186722 & -0.8293949 & -0.6155932\\\\\n",
       "\t -0.4679707 & -0.2224359 & -0.4110596\\\\\n",
       "\t -0.5255744 &  0.5818216 & -1.7463158\\\\\n",
       "\t  0.5431895 &  0.4992724 & -2.2597343\\\\\n",
       "\\end{tabular}\n"
      ],
      "text/markdown": [
       "\n",
       "| -1.2034431 | -0.3836496 |  0.5718415 |\n",
       "| -0.1186722 | -0.8293949 | -0.6155932 |\n",
       "| -0.4679707 | -0.2224359 | -0.4110596 |\n",
       "| -0.5255744 |  0.5818216 | -1.7463158 |\n",
       "|  0.5431895 |  0.4992724 | -2.2597343 |\n",
       "\n"
      ],
      "text/plain": [
       "     [,1]       [,2]       [,3]      \n",
       "[1,] -1.2034431 -0.3836496  0.5718415\n",
       "[2,] -0.1186722 -0.8293949 -0.6155932\n",
       "[3,] -0.4679707 -0.2224359 -0.4110596\n",
       "[4,] -0.5255744  0.5818216 -1.7463158\n",
       "[5,]  0.5431895  0.4992724 -2.2597343"
      ]
     },
     "metadata": {},
     "output_type": "display_data"
    }
   ],
   "source": [
    "X <- matrix(rnorm(15), nrow = 5)\n",
    "X"
   ]
  },
  {
   "cell_type": "raw",
   "metadata": {},
   "source": [
    "NN\n",
    "shows how apply can be done in for loop\n",
    "**********"
   ]
  },
  {
   "cell_type": "code",
   "execution_count": 146,
   "metadata": {},
   "outputs": [
    {
     "data": {
      "text/html": [
       "<ol class=list-inline>\n",
       "\t<li>-0.338417067110716</li>\n",
       "\t<li>-0.521220096458702</li>\n",
       "\t<li>-0.367155382512619</li>\n",
       "\t<li>-0.563356175326776</li>\n",
       "\t<li>-0.405757445926268</li>\n",
       "</ol>\n"
      ],
      "text/latex": [
       "\\begin{enumerate*}\n",
       "\\item -0.338417067110716\n",
       "\\item -0.521220096458702\n",
       "\\item -0.367155382512619\n",
       "\\item -0.563356175326776\n",
       "\\item -0.405757445926268\n",
       "\\end{enumerate*}\n"
      ],
      "text/markdown": [
       "1. -0.338417067110716\n",
       "2. -0.521220096458702\n",
       "3. -0.367155382512619\n",
       "4. -0.563356175326776\n",
       "5. -0.405757445926268\n",
       "\n",
       "\n"
      ],
      "text/plain": [
       "[1] -0.3384171 -0.5212201 -0.3671554 -0.5633562 -0.4057574"
      ]
     },
     "metadata": {},
     "output_type": "display_data"
    }
   ],
   "source": [
    "apply(X, 1, mean)"
   ]
  },
  {
   "cell_type": "code",
   "execution_count": 145,
   "metadata": {},
   "outputs": [
    {
     "data": {
      "text/html": [
       "<ol class=list-inline>\n",
       "\t<li>-0.338417067110716</li>\n",
       "\t<li>-0.521220096458702</li>\n",
       "\t<li>-0.367155382512619</li>\n",
       "\t<li>-0.563356175326776</li>\n",
       "\t<li>-0.405757445926268</li>\n",
       "</ol>\n"
      ],
      "text/latex": [
       "\\begin{enumerate*}\n",
       "\\item -0.338417067110716\n",
       "\\item -0.521220096458702\n",
       "\\item -0.367155382512619\n",
       "\\item -0.563356175326776\n",
       "\\item -0.405757445926268\n",
       "\\end{enumerate*}\n"
      ],
      "text/markdown": [
       "1. -0.338417067110716\n",
       "2. -0.521220096458702\n",
       "3. -0.367155382512619\n",
       "4. -0.563356175326776\n",
       "5. -0.405757445926268\n",
       "\n",
       "\n"
      ],
      "text/plain": [
       "[1] -0.3384171 -0.5212201 -0.3671554 -0.5633562 -0.4057574"
      ]
     },
     "metadata": {},
     "output_type": "display_data"
    }
   ],
   "source": [
    "X_row_means <- vector(\"numeric\", length = nrow(X))\n",
    "for (i in seq_len(nrow(X))) {\n",
    "  X_row_means[[i]] <- mean(X[i, ])\n",
    "}\n",
    "X_row_means"
   ]
  },
  {
   "cell_type": "code",
   "execution_count": 147,
   "metadata": {},
   "outputs": [
    {
     "data": {
      "text/html": [
       "<table>\n",
       "<tbody>\n",
       "\t<tr><td>-0.3939314</td><td>-1.0146050</td><td> 0.1493424</td></tr>\n",
       "\t<tr><td>-0.5929201</td><td> 0.3723339</td><td> 0.2873698</td></tr>\n",
       "\t<tr><td> 0.3488623</td><td>-0.7082053</td><td>-0.1197615</td></tr>\n",
       "\t<tr><td> 0.4852668</td><td>-1.1441649</td><td> 0.2303691</td></tr>\n",
       "\t<tr><td>-0.9792405</td><td>-0.6048917</td><td> 1.1837592</td></tr>\n",
       "</tbody>\n",
       "</table>\n"
      ],
      "text/latex": [
       "\\begin{tabular}{lll}\n",
       "\t -0.3939314 & -1.0146050 &  0.1493424\\\\\n",
       "\t -0.5929201 &  0.3723339 &  0.2873698\\\\\n",
       "\t  0.3488623 & -0.7082053 & -0.1197615\\\\\n",
       "\t  0.4852668 & -1.1441649 &  0.2303691\\\\\n",
       "\t -0.9792405 & -0.6048917 &  1.1837592\\\\\n",
       "\\end{tabular}\n"
      ],
      "text/markdown": [
       "\n",
       "| -0.3939314 | -1.0146050 |  0.1493424 |\n",
       "| -0.5929201 |  0.3723339 |  0.2873698 |\n",
       "|  0.3488623 | -0.7082053 | -0.1197615 |\n",
       "|  0.4852668 | -1.1441649 |  0.2303691 |\n",
       "| -0.9792405 | -0.6048917 |  1.1837592 |\n",
       "\n"
      ],
      "text/plain": [
       "     [,1]       [,2]       [,3]      \n",
       "[1,] -0.3939314 -1.0146050  0.1493424\n",
       "[2,] -0.5929201  0.3723339  0.2873698\n",
       "[3,]  0.3488623 -0.7082053 -0.1197615\n",
       "[4,]  0.4852668 -1.1441649  0.2303691\n",
       "[5,] -0.9792405 -0.6048917  1.1837592"
      ]
     },
     "metadata": {},
     "output_type": "display_data"
    }
   ],
   "source": [
    "X <- matrix(rnorm(15), nrow = 5)\n",
    "X"
   ]
  },
  {
   "cell_type": "raw",
   "metadata": {},
   "source": [
    "When MARGIN = 2, apply() is equivalent to a for-loop looping over columns."
   ]
  },
  {
   "cell_type": "code",
   "execution_count": 148,
   "metadata": {},
   "outputs": [
    {
     "data": {
      "text/html": [
       "<ol class=list-inline>\n",
       "\t<li>-0.22639257693448</li>\n",
       "\t<li>-0.619906583455447</li>\n",
       "\t<li>0.346215796745959</li>\n",
       "</ol>\n"
      ],
      "text/latex": [
       "\\begin{enumerate*}\n",
       "\\item -0.22639257693448\n",
       "\\item -0.619906583455447\n",
       "\\item 0.346215796745959\n",
       "\\end{enumerate*}\n"
      ],
      "text/markdown": [
       "1. -0.22639257693448\n",
       "2. -0.619906583455447\n",
       "3. 0.346215796745959\n",
       "\n",
       "\n"
      ],
      "text/plain": [
       "[1] -0.2263926 -0.6199066  0.3462158"
      ]
     },
     "metadata": {},
     "output_type": "display_data"
    }
   ],
   "source": [
    "apply(X, 2, mean)"
   ]
  },
  {
   "cell_type": "code",
   "execution_count": 149,
   "metadata": {},
   "outputs": [
    {
     "data": {
      "text/html": [
       "<ol class=list-inline>\n",
       "\t<li>-0.22639257693448</li>\n",
       "\t<li>-0.619906583455447</li>\n",
       "\t<li>0.346215796745959</li>\n",
       "</ol>\n"
      ],
      "text/latex": [
       "\\begin{enumerate*}\n",
       "\\item -0.22639257693448\n",
       "\\item -0.619906583455447\n",
       "\\item 0.346215796745959\n",
       "\\end{enumerate*}\n"
      ],
      "text/markdown": [
       "1. -0.22639257693448\n",
       "2. -0.619906583455447\n",
       "3. 0.346215796745959\n",
       "\n",
       "\n"
      ],
      "text/plain": [
       "[1] -0.2263926 -0.6199066  0.3462158"
      ]
     },
     "metadata": {},
     "output_type": "display_data"
    }
   ],
   "source": [
    "X_col_means <- vector(\"numeric\", length = ncol(X))\n",
    "for (i in seq_len(ncol(X))) {\n",
    "  X_col_means[[i]] <- mean(X[, i])\n",
    "}\n",
    "X_col_means"
   ]
  },
  {
   "cell_type": "raw",
   "metadata": {},
   "source": [
    "Q2. Adapt col_summary() so that it only applies to numeric columns You might want to start with an is_numeric() function that returns a logical vector that has a TRUE corresponding to each numeric column.\n",
    "\n",
    "NN\n",
    "great code for summarizing cols (or rows) that are only numeric!!\n",
    "*********"
   ]
  },
  {
   "cell_type": "raw",
   "metadata": {},
   "source": [
    "The original col_summary() function is"
   ]
  },
  {
   "cell_type": "code",
   "execution_count": 150,
   "metadata": {},
   "outputs": [],
   "source": [
    "col_summary <- function(df, fun) {\n",
    "  out <- vector(\"double\", length(df))\n",
    "  for (i in seq_along(df)) {\n",
    "    out[i] <- fun(df[[i]])\n",
    "  }\n",
    "  out\n",
    "}"
   ]
  },
  {
   "cell_type": "raw",
   "metadata": {},
   "source": [
    "The adapted version adds extra logic to only apply the function to numeric columns."
   ]
  },
  {
   "cell_type": "code",
   "execution_count": 151,
   "metadata": {},
   "outputs": [],
   "source": [
    "col_summary2 <- function(df, fun) {\n",
    "  # create an empty vector which will store whether each\n",
    "  # column is numeric\n",
    "  numeric_cols <- vector(\"logical\", length(df))\n",
    "  # test whether each column is numeric\n",
    "  for (i in seq_along(df)) {\n",
    "    numeric_cols[[i]] <- is.numeric(df[[i]])\n",
    "  }\n",
    "  # find the indexes of the numeric columns\n",
    "  idxs <- which(numeric_cols)\n",
    "  # find the number of numeric columns\n",
    "  n <- sum(numeric_cols)\n",
    "  # create a vector to hold the results\n",
    "  out <- vector(\"double\", n)\n",
    "  # apply the function only to numeric vectors\n",
    "  for (i in seq_along(idxs)) {\n",
    "    out[[i]] <- fun(df[[idxs[[i]]]])\n",
    "  }\n",
    "  # name the vector\n",
    "  names(out) <- names(df)[idxs]\n",
    "  out\n",
    "}"
   ]
  },
  {
   "cell_type": "raw",
   "metadata": {},
   "source": [
    "Let’s test that col_summary2() works by creating a small data frame with some numeric and non-numeric columns."
   ]
  },
  {
   "cell_type": "code",
   "execution_count": 152,
   "metadata": {},
   "outputs": [
    {
     "data": {
      "text/html": [
       "<dl class=dl-horizontal>\n",
       "\t<dt>X1</dt>\n",
       "\t\t<dd>2</dd>\n",
       "\t<dt>X3</dt>\n",
       "\t\t<dd>1.33333333333333</dd>\n",
       "</dl>\n"
      ],
      "text/latex": [
       "\\begin{description*}\n",
       "\\item[X1] 2\n",
       "\\item[X3] 1.33333333333333\n",
       "\\end{description*}\n"
      ],
      "text/markdown": [
       "X1\n",
       ":   2X3\n",
       ":   1.33333333333333\n",
       "\n"
      ],
      "text/plain": [
       "      X1       X3 \n",
       "2.000000 1.333333 "
      ]
     },
     "metadata": {},
     "output_type": "display_data"
    }
   ],
   "source": [
    "df <- tibble(\n",
    "  X1 = c(1, 2, 3),\n",
    "  X2 = c(\"A\", \"B\", \"C\"),\n",
    "  X3 = c(0, -1, 5),\n",
    "  X4 = c(TRUE, FALSE, TRUE)\n",
    ")\n",
    "col_summary2(df, mean)"
   ]
  },
  {
   "cell_type": "raw",
   "metadata": {},
   "source": [
    "As expected, it only calculates the mean of the numeric columns, X1 and X3. Let’s test that it works with another function."
   ]
  },
  {
   "cell_type": "code",
   "execution_count": 153,
   "metadata": {},
   "outputs": [
    {
     "data": {
      "text/html": [
       "<dl class=dl-horizontal>\n",
       "\t<dt>X1</dt>\n",
       "\t\t<dd>2</dd>\n",
       "\t<dt>X3</dt>\n",
       "\t\t<dd>0</dd>\n",
       "</dl>\n"
      ],
      "text/latex": [
       "\\begin{description*}\n",
       "\\item[X1] 2\n",
       "\\item[X3] 0\n",
       "\\end{description*}\n"
      ],
      "text/markdown": [
       "X1\n",
       ":   2X3\n",
       ":   0\n",
       "\n"
      ],
      "text/plain": [
       "X1 X3 \n",
       " 2  0 "
      ]
     },
     "metadata": {},
     "output_type": "display_data"
    }
   ],
   "source": [
    "col_summary2(df, median)"
   ]
  },
  {
   "cell_type": "raw",
   "metadata": {},
   "source": [
    "21.5 The map functions"
   ]
  },
  {
   "cell_type": "raw",
   "metadata": {},
   "source": [
    "The pattern of looping over a vector, doing something to each element and saving the results is so common that the purrr package provides a family of functions to do it for you. There is one function for each type of output:\n",
    "\n",
    "*   map() makes a list.\n",
    "*   map_lgl() makes a logical vector.\n",
    "*   map_int() makes an integer vector.\n",
    "*   map_dbl() makes a double vector.\n",
    "*   map_chr() makes a character vector.\n",
    "    \n",
    "Each function takes a vector as input, applies a function to each piece, and then returns a new vector that’s the same length (and has the same names) as the input. The type of the vector is determined by the suffix to the map function.\n",
    "\n",
    "Once you master these functions, you’ll find it takes much less time to solve iteration problems. But you should never feel bad about using a for loop instead of a map function. The map functions are a step up a tower of abstraction, and it can take a long time to get your head around how they work. The important thing is that you solve the problem that you’re working on, not write the most concise and elegant code (although that’s definitely something you want to strive towards!).\n",
    "\n",
    "Some people will tell you to avoid for loops because they are slow. They’re wrong! (Well at least they’re rather out of date, as for loops haven’t been slow for many years). The chief benefits of using functions like map() is not speed, but clarity: they make your code easier to write and to read.\n",
    "\n",
    "We can use these functions to perform the same computations as the last for loop. Those summary functions returned doubles, so we need to use map_dbl():\n",
    "\n",
    "NN\n",
    "purr\n",
    "for loops are not slow\n",
    "map functions are easier to read\n",
    "can use in pipe\n",
    "*******"
   ]
  },
  {
   "cell_type": "code",
   "execution_count": 154,
   "metadata": {},
   "outputs": [
    {
     "data": {
      "text/html": [
       "<table>\n",
       "<thead><tr><th scope=col>X1</th><th scope=col>X2</th><th scope=col>X3</th><th scope=col>X4</th></tr></thead>\n",
       "<tbody>\n",
       "\t<tr><td>1    </td><td>A    </td><td> 0   </td><td> TRUE</td></tr>\n",
       "\t<tr><td>2    </td><td>B    </td><td>-1   </td><td>FALSE</td></tr>\n",
       "\t<tr><td>3    </td><td>C    </td><td> 5   </td><td> TRUE</td></tr>\n",
       "</tbody>\n",
       "</table>\n"
      ],
      "text/latex": [
       "\\begin{tabular}{r|llll}\n",
       " X1 & X2 & X3 & X4\\\\\n",
       "\\hline\n",
       "\t 1     & A     &  0    &  TRUE\\\\\n",
       "\t 2     & B     & -1    & FALSE\\\\\n",
       "\t 3     & C     &  5    &  TRUE\\\\\n",
       "\\end{tabular}\n"
      ],
      "text/markdown": [
       "\n",
       "| X1 | X2 | X3 | X4 |\n",
       "|---|---|---|---|\n",
       "| 1     | A     |  0    |  TRUE |\n",
       "| 2     | B     | -1    | FALSE |\n",
       "| 3     | C     |  5    |  TRUE |\n",
       "\n"
      ],
      "text/plain": [
       "  X1 X2 X3 X4   \n",
       "1 1  A   0  TRUE\n",
       "2 2  B  -1 FALSE\n",
       "3 3  C   5  TRUE"
      ]
     },
     "metadata": {},
     "output_type": "display_data"
    },
    {
     "name": "stderr",
     "output_type": "stream",
     "text": [
      "Warning message in mean.default(.x[[i]], ...):\n",
      "“argument is not numeric or logical: returning NA”"
     ]
    },
    {
     "data": {
      "text/html": [
       "<dl class=dl-horizontal>\n",
       "\t<dt>X1</dt>\n",
       "\t\t<dd>2</dd>\n",
       "\t<dt>X2</dt>\n",
       "\t\t<dd>&lt;NA&gt;</dd>\n",
       "\t<dt>X3</dt>\n",
       "\t\t<dd>1.33333333333333</dd>\n",
       "\t<dt>X4</dt>\n",
       "\t\t<dd>0.666666666666667</dd>\n",
       "</dl>\n"
      ],
      "text/latex": [
       "\\begin{description*}\n",
       "\\item[X1] 2\n",
       "\\item[X2] <NA>\n",
       "\\item[X3] 1.33333333333333\n",
       "\\item[X4] 0.666666666666667\n",
       "\\end{description*}\n"
      ],
      "text/markdown": [
       "X1\n",
       ":   2X2\n",
       ":   &lt;NA&gt;X3\n",
       ":   1.33333333333333X4\n",
       ":   0.666666666666667\n",
       "\n"
      ],
      "text/plain": [
       "       X1        X2        X3        X4 \n",
       "2.0000000        NA 1.3333333 0.6666667 "
      ]
     },
     "metadata": {},
     "output_type": "display_data"
    },
    {
     "ename": "ERROR",
     "evalue": "Error: Can't coerce element 2 from a character to a double\n",
     "output_type": "error",
     "traceback": [
      "Error: Can't coerce element 2 from a character to a double\nTraceback:\n",
      "1. map_dbl(df, median)"
     ]
    }
   ],
   "source": [
    "df\n",
    "map_dbl(df, mean)\n",
    "map_dbl(df, median)\n",
    "map_dbl(df, sd)"
   ]
  },
  {
   "cell_type": "raw",
   "metadata": {},
   "source": [
    "Compared to using a for loop, focus is on the operation being performed (i.e. mean(), median(), sd()), not the bookkeeping required to loop over every element and store the output. This is even more apparent if we use the pipe:"
   ]
  },
  {
   "cell_type": "code",
   "execution_count": 155,
   "metadata": {},
   "outputs": [
    {
     "name": "stderr",
     "output_type": "stream",
     "text": [
      "Warning message in mean.default(.x[[i]], ...):\n",
      "“argument is not numeric or logical: returning NA”"
     ]
    },
    {
     "data": {
      "text/html": [
       "<dl class=dl-horizontal>\n",
       "\t<dt>X1</dt>\n",
       "\t\t<dd>2</dd>\n",
       "\t<dt>X2</dt>\n",
       "\t\t<dd>&lt;NA&gt;</dd>\n",
       "\t<dt>X3</dt>\n",
       "\t\t<dd>1.33333333333333</dd>\n",
       "\t<dt>X4</dt>\n",
       "\t\t<dd>0.666666666666667</dd>\n",
       "</dl>\n"
      ],
      "text/latex": [
       "\\begin{description*}\n",
       "\\item[X1] 2\n",
       "\\item[X2] <NA>\n",
       "\\item[X3] 1.33333333333333\n",
       "\\item[X4] 0.666666666666667\n",
       "\\end{description*}\n"
      ],
      "text/markdown": [
       "X1\n",
       ":   2X2\n",
       ":   &lt;NA&gt;X3\n",
       ":   1.33333333333333X4\n",
       ":   0.666666666666667\n",
       "\n"
      ],
      "text/plain": [
       "       X1        X2        X3        X4 \n",
       "2.0000000        NA 1.3333333 0.6666667 "
      ]
     },
     "metadata": {},
     "output_type": "display_data"
    },
    {
     "ename": "ERROR",
     "evalue": "Error: Can't coerce element 2 from a character to a double\n",
     "output_type": "error",
     "traceback": [
      "Error: Can't coerce element 2 from a character to a double\nTraceback:\n",
      "1. df %>% map_dbl(median)",
      "2. withVisible(eval(quote(`_fseq`(`_lhs`)), env, env))",
      "3. eval(quote(`_fseq`(`_lhs`)), env, env)",
      "4. eval(quote(`_fseq`(`_lhs`)), env, env)",
      "5. `_fseq`(`_lhs`)",
      "6. freduce(value, `_function_list`)",
      "7. withVisible(function_list[[k]](value))",
      "8. function_list[[k]](value)",
      "9. map_dbl(., median)"
     ]
    }
   ],
   "source": [
    "df %>% map_dbl(mean)\n",
    "df %>% map_dbl(median)\n",
    "df %>% map_dbl(sd)"
   ]
  },
  {
   "cell_type": "raw",
   "metadata": {},
   "source": [
    "There are a few differences between map_*() and col_summary():\n",
    "\n",
    "*   All purrr functions are implemented in C. This makes them a little faster at the expense of readability.\n",
    "\n",
    "*   The second argument, .f, the function to apply, can be a formula, a character vector, or an integer vector. You’ll learn about those handy shortcuts in the next section.\n",
    "\n",
    "*   map_*() uses … ([dot dot dot]) to pass along additional arguments to .f each time it’s called:\n",
    "\n",
    "NN\n",
    "advantages of purrr map_*s\n",
    "******"
   ]
  },
  {
   "cell_type": "code",
   "execution_count": 156,
   "metadata": {},
   "outputs": [
    {
     "name": "stderr",
     "output_type": "stream",
     "text": [
      "Warning message in mean.default(.x[[i]], ...):\n",
      "“argument is not numeric or logical: returning NA”"
     ]
    },
    {
     "data": {
      "text/html": [
       "<dl class=dl-horizontal>\n",
       "\t<dt>X1</dt>\n",
       "\t\t<dd>2</dd>\n",
       "\t<dt>X2</dt>\n",
       "\t\t<dd>&lt;NA&gt;</dd>\n",
       "\t<dt>X3</dt>\n",
       "\t\t<dd>0</dd>\n",
       "\t<dt>X4</dt>\n",
       "\t\t<dd>1</dd>\n",
       "</dl>\n"
      ],
      "text/latex": [
       "\\begin{description*}\n",
       "\\item[X1] 2\n",
       "\\item[X2] <NA>\n",
       "\\item[X3] 0\n",
       "\\item[X4] 1\n",
       "\\end{description*}\n"
      ],
      "text/markdown": [
       "X1\n",
       ":   2X2\n",
       ":   &lt;NA&gt;X3\n",
       ":   0X4\n",
       ":   1\n",
       "\n"
      ],
      "text/plain": [
       "X1 X2 X3 X4 \n",
       " 2 NA  0  1 "
      ]
     },
     "metadata": {},
     "output_type": "display_data"
    }
   ],
   "source": [
    "map_dbl(df, mean, trim = 0.5)"
   ]
  },
  {
   "cell_type": "raw",
   "metadata": {},
   "source": [
    "The map functions also preserve names:"
   ]
  },
  {
   "cell_type": "code",
   "execution_count": 157,
   "metadata": {},
   "outputs": [
    {
     "data": {
      "text/html": [
       "<dl class=dl-horizontal>\n",
       "\t<dt>x</dt>\n",
       "\t\t<dd>3</dd>\n",
       "\t<dt>y</dt>\n",
       "\t\t<dd>2</dd>\n",
       "</dl>\n"
      ],
      "text/latex": [
       "\\begin{description*}\n",
       "\\item[x] 3\n",
       "\\item[y] 2\n",
       "\\end{description*}\n"
      ],
      "text/markdown": [
       "x\n",
       ":   3y\n",
       ":   2\n",
       "\n"
      ],
      "text/plain": [
       "x y \n",
       "3 2 "
      ]
     },
     "metadata": {},
     "output_type": "display_data"
    }
   ],
   "source": [
    "z <- list(x = 1:3, y = 4:5)\n",
    "map_int(z, length)"
   ]
  },
  {
   "cell_type": "raw",
   "metadata": {},
   "source": [
    "21.5.1 Shortcuts"
   ]
  },
  {
   "cell_type": "raw",
   "metadata": {},
   "source": [
    "There are a few shortcuts that you can use with .f in order to save a little typing. Imagine you want to fit a linear model to each group in a dataset. The following toy example splits the up the mtcars dataset in to three pieces (one for each value of cylinder) and fits the same linear model to each piece:\n",
    "\n",
    "NN\n",
    "split\n",
    "lm\n",
    "map\n",
    "anon func\n",
    ". = current list\n",
    "********"
   ]
  },
  {
   "cell_type": "code",
   "execution_count": 160,
   "metadata": {},
   "outputs": [
    {
     "data": {
      "text/plain": [
       "$`4`\n",
       "\n",
       "Call:\n",
       "lm(formula = mpg ~ wt, data = df)\n",
       "\n",
       "Coefficients:\n",
       "(Intercept)           wt  \n",
       "     39.571       -5.647  \n",
       "\n",
       "\n",
       "$`6`\n",
       "\n",
       "Call:\n",
       "lm(formula = mpg ~ wt, data = df)\n",
       "\n",
       "Coefficients:\n",
       "(Intercept)           wt  \n",
       "      28.41        -2.78  \n",
       "\n",
       "\n",
       "$`8`\n",
       "\n",
       "Call:\n",
       "lm(formula = mpg ~ wt, data = df)\n",
       "\n",
       "Coefficients:\n",
       "(Intercept)           wt  \n",
       "     23.868       -2.192  \n",
       "\n"
      ]
     },
     "metadata": {},
     "output_type": "display_data"
    }
   ],
   "source": [
    "models <- mtcars %>% \n",
    "  split(.$cyl) %>% \n",
    "  map(function(df) lm(mpg ~ wt, data = df))\n",
    "models"
   ]
  },
  {
   "cell_type": "markdown",
   "metadata": {},
   "source": [
    "The syntax for creating an anonymous function in R is quite verbose so purrr provides a convenient shortcut: a one-sided formula.  ( looks easy to create verbose to call )\n",
    "\n",
    "http://adv-r.had.co.nz/Functional-programming.html#anonymous-functions"
   ]
  },
  {
   "cell_type": "code",
   "execution_count": 161,
   "metadata": {},
   "outputs": [
    {
     "data": {
      "text/plain": [
       "$`4`\n",
       "\n",
       "Call:\n",
       "lm(formula = mpg ~ wt, data = .)\n",
       "\n",
       "Coefficients:\n",
       "(Intercept)           wt  \n",
       "     39.571       -5.647  \n",
       "\n",
       "\n",
       "$`6`\n",
       "\n",
       "Call:\n",
       "lm(formula = mpg ~ wt, data = .)\n",
       "\n",
       "Coefficients:\n",
       "(Intercept)           wt  \n",
       "      28.41        -2.78  \n",
       "\n",
       "\n",
       "$`8`\n",
       "\n",
       "Call:\n",
       "lm(formula = mpg ~ wt, data = .)\n",
       "\n",
       "Coefficients:\n",
       "(Intercept)           wt  \n",
       "     23.868       -2.192  \n",
       "\n"
      ]
     },
     "metadata": {},
     "output_type": "display_data"
    }
   ],
   "source": [
    "models <- mtcars %>% \n",
    "  split(.$cyl) %>% \n",
    "  map(~lm(mpg ~ wt, data = .))\n",
    "models"
   ]
  },
  {
   "cell_type": "raw",
   "metadata": {},
   "source": [
    "Here I’ve used . as a pronoun: it refers to the current list element (in the same way that i referred to the current index in the for loop).\n",
    "\n",
    "When you’re looking at many models, you might want to extract a summary statistic like the R^2. To do that we need to first run summary() and then extract the component called r.squared. We could do that using the shorthand for anonymous functions:\n",
    "\n",
    "NN\n",
    "first run summary\n",
    "then extract component\n",
    "anonumymous func\n",
    "*******"
   ]
  },
  {
   "cell_type": "code",
   "execution_count": 165,
   "metadata": {},
   "outputs": [
    {
     "data": {
      "text/plain": [
       "$`4`\n",
       "\n",
       "Call:\n",
       "lm(formula = mpg ~ wt, data = .)\n",
       "\n",
       "Residuals:\n",
       "    Min      1Q  Median      3Q     Max \n",
       "-4.1513 -1.9795 -0.6272  1.9299  5.2523 \n",
       "\n",
       "Coefficients:\n",
       "            Estimate Std. Error t value Pr(>|t|)    \n",
       "(Intercept)   39.571      4.347   9.104 7.77e-06 ***\n",
       "wt            -5.647      1.850  -3.052   0.0137 *  \n",
       "---\n",
       "Signif. codes:  0 ‘***’ 0.001 ‘**’ 0.01 ‘*’ 0.05 ‘.’ 0.1 ‘ ’ 1\n",
       "\n",
       "Residual standard error: 3.332 on 9 degrees of freedom\n",
       "Multiple R-squared:  0.5086,\tAdjusted R-squared:  0.454 \n",
       "F-statistic: 9.316 on 1 and 9 DF,  p-value: 0.01374\n",
       "\n",
       "\n",
       "$`6`\n",
       "\n",
       "Call:\n",
       "lm(formula = mpg ~ wt, data = .)\n",
       "\n",
       "Residuals:\n",
       "     Mazda RX4  Mazda RX4 Wag Hornet 4 Drive        Valiant       Merc 280 \n",
       "       -0.1250         0.5840         1.9292        -0.6897         0.3547 \n",
       "     Merc 280C   Ferrari Dino \n",
       "       -1.0453        -1.0080 \n",
       "\n",
       "Coefficients:\n",
       "            Estimate Std. Error t value Pr(>|t|)   \n",
       "(Intercept)   28.409      4.184   6.789  0.00105 **\n",
       "wt            -2.780      1.335  -2.083  0.09176 . \n",
       "---\n",
       "Signif. codes:  0 ‘***’ 0.001 ‘**’ 0.01 ‘*’ 0.05 ‘.’ 0.1 ‘ ’ 1\n",
       "\n",
       "Residual standard error: 1.165 on 5 degrees of freedom\n",
       "Multiple R-squared:  0.4645,\tAdjusted R-squared:  0.3574 \n",
       "F-statistic: 4.337 on 1 and 5 DF,  p-value: 0.09176\n",
       "\n",
       "\n",
       "$`8`\n",
       "\n",
       "Call:\n",
       "lm(formula = mpg ~ wt, data = .)\n",
       "\n",
       "Residuals:\n",
       "    Min      1Q  Median      3Q     Max \n",
       "-2.1491 -1.4664 -0.8458  1.5711  3.7619 \n",
       "\n",
       "Coefficients:\n",
       "            Estimate Std. Error t value Pr(>|t|)    \n",
       "(Intercept)  23.8680     3.0055   7.942 4.05e-06 ***\n",
       "wt           -2.1924     0.7392  -2.966   0.0118 *  \n",
       "---\n",
       "Signif. codes:  0 ‘***’ 0.001 ‘**’ 0.01 ‘*’ 0.05 ‘.’ 0.1 ‘ ’ 1\n",
       "\n",
       "Residual standard error: 2.024 on 12 degrees of freedom\n",
       "Multiple R-squared:  0.423,\tAdjusted R-squared:  0.3749 \n",
       "F-statistic: 8.796 on 1 and 12 DF,  p-value: 0.01179\n",
       "\n"
      ]
     },
     "metadata": {},
     "output_type": "display_data"
    },
    {
     "name": "stdout",
     "output_type": "stream",
     "text": [
      "[1] \"extracting the r2\"\n"
     ]
    },
    {
     "data": {
      "text/html": [
       "<dl class=dl-horizontal>\n",
       "\t<dt>4</dt>\n",
       "\t\t<dd>0.50863259632314</dd>\n",
       "\t<dt>6</dt>\n",
       "\t\t<dd>0.464510150550548</dd>\n",
       "\t<dt>8</dt>\n",
       "\t\t<dd>0.422965536496111</dd>\n",
       "</dl>\n"
      ],
      "text/latex": [
       "\\begin{description*}\n",
       "\\item[4] 0.50863259632314\n",
       "\\item[6] 0.464510150550548\n",
       "\\item[8] 0.422965536496111\n",
       "\\end{description*}\n"
      ],
      "text/markdown": [
       "4\n",
       ":   0.508632596323146\n",
       ":   0.4645101505505488\n",
       ":   0.422965536496111\n",
       "\n"
      ],
      "text/plain": [
       "        4         6         8 \n",
       "0.5086326 0.4645102 0.4229655 "
      ]
     },
     "metadata": {},
     "output_type": "display_data"
    }
   ],
   "source": [
    "models %>% \n",
    "  map(summary) \n",
    "\n",
    "print('extracting the r2')\n",
    "models %>% \n",
    "  map(summary) %>% \n",
    "  map_dbl(~.$r.squared)"
   ]
  },
  {
   "cell_type": "raw",
   "metadata": {},
   "source": [
    "But extracting named components is a common operation, so purrr provides an even shorter shortcut: you can use a string.\n",
    "NNevenshorter*****"
   ]
  },
  {
   "cell_type": "code",
   "execution_count": 166,
   "metadata": {},
   "outputs": [
    {
     "data": {
      "text/html": [
       "<dl class=dl-horizontal>\n",
       "\t<dt>4</dt>\n",
       "\t\t<dd>0.50863259632314</dd>\n",
       "\t<dt>6</dt>\n",
       "\t\t<dd>0.464510150550548</dd>\n",
       "\t<dt>8</dt>\n",
       "\t\t<dd>0.422965536496111</dd>\n",
       "</dl>\n"
      ],
      "text/latex": [
       "\\begin{description*}\n",
       "\\item[4] 0.50863259632314\n",
       "\\item[6] 0.464510150550548\n",
       "\\item[8] 0.422965536496111\n",
       "\\end{description*}\n"
      ],
      "text/markdown": [
       "4\n",
       ":   0.508632596323146\n",
       ":   0.4645101505505488\n",
       ":   0.422965536496111\n",
       "\n"
      ],
      "text/plain": [
       "        4         6         8 \n",
       "0.5086326 0.4645102 0.4229655 "
      ]
     },
     "metadata": {},
     "output_type": "display_data"
    }
   ],
   "source": [
    "models %>% \n",
    "  map(summary) %>% \n",
    "  map_dbl(\"r.squared\")"
   ]
  },
  {
   "cell_type": "raw",
   "metadata": {},
   "source": [
    "You can also use an integer to select elements by position:\n",
    "selectin via map*******"
   ]
  },
  {
   "cell_type": "code",
   "execution_count": 167,
   "metadata": {},
   "outputs": [
    {
     "data": {
      "text/html": [
       "<ol class=list-inline>\n",
       "\t<li>2</li>\n",
       "\t<li>5</li>\n",
       "\t<li>8</li>\n",
       "</ol>\n"
      ],
      "text/latex": [
       "\\begin{enumerate*}\n",
       "\\item 2\n",
       "\\item 5\n",
       "\\item 8\n",
       "\\end{enumerate*}\n"
      ],
      "text/markdown": [
       "1. 2\n",
       "2. 5\n",
       "3. 8\n",
       "\n",
       "\n"
      ],
      "text/plain": [
       "[1] 2 5 8"
      ]
     },
     "metadata": {},
     "output_type": "display_data"
    }
   ],
   "source": [
    "x <- list(list(1, 2, 3), list(4, 5, 6), list(7, 8, 9))\n",
    "x %>% map_dbl(2)"
   ]
  },
  {
   "cell_type": "raw",
   "metadata": {},
   "source": [
    "21.5.2 Base R"
   ]
  },
  {
   "cell_type": "raw",
   "metadata": {},
   "source": [
    "If you’re familiar with the apply family of functions in base R, you might have noticed some similarities with the purrr functions:\n",
    "\n",
    "*   lapply() is basically identical to map(), except that map() is consistent with all the other functions in purrr, and you can use the shortcuts for .f.\n",
    "\n",
    "*   Base sapply() is a wrapper around lapply() that automatically simplifies the output. This is useful for interactive work but is problematic in a function because you never know what sort of output you’ll get:\n",
    "\n",
    "[sapply unpredictable: below 2 identical lists in structure. one returns a list other a numerical vector because theres one in each row in the 2nd table]*****"
   ]
  },
  {
   "cell_type": "code",
   "execution_count": 171,
   "metadata": {},
   "outputs": [
    {
     "name": "stdout",
     "output_type": "stream",
     "text": [
      "List of 3\n",
      " $ : num 0.91\n",
      " $ : num [1:2] 0.9 0.94\n",
      " $ : num(0) \n",
      " num [1:3] 0.99 0.93 0.87\n"
     ]
    }
   ],
   "source": [
    "x1 <- list(\n",
    "  c(0.27, 0.37, 0.57, 0.91, 0.20),\n",
    "  c(0.90, 0.94, 0.66, 0.63, 0.06), \n",
    "  c(0.21, 0.18, 0.69, 0.38, 0.77)\n",
    ")\n",
    "x2 <- list(\n",
    "  c(0.50, 0.72, 0.99, 0.38, 0.78), \n",
    "  c(0.93, 0.21, 0.65, 0.13, 0.27), \n",
    "  c(0.39, 0.01, 0.38, 0.87, 0.34)\n",
    ")\n",
    "\n",
    "threshold <- function(x, cutoff = 0.8) x[x > cutoff]\n",
    "x1 %>% sapply(threshold) %>% str()\n",
    "x2 %>% sapply(threshold) %>% str()"
   ]
  },
  {
   "cell_type": "raw",
   "metadata": {},
   "source": [
    "*   vapply() is a safe alternative to sapply() because you supply an additional argument that defines the type. The only problem with vapply() is that it’s a lot of typing: vapply(df, is.numeric, logical(1)) is equivalent to map_lgl(df, is.numeric). One advantage of vapply() over purrr’s map functions is that it can also produce matrices — the map functions only ever produce vectors.\n",
    "\n",
    "*****vapply(df, is.numeric, logical(1)) is equivalent to map_lgl(df, is.numeric)\n",
    "abd vapply produces matrixes where map only vectors"
   ]
  },
  {
   "cell_type": "raw",
   "metadata": {},
   "source": [
    "I focus on purrr functions here because they have more consistent names and arguments, helpful shortcuts, and in the future will provide easy parallelism and progress bars."
   ]
  },
  {
   "cell_type": "raw",
   "metadata": {},
   "source": [
    "21.5.3 Exercises"
   ]
  },
  {
   "cell_type": "raw",
   "metadata": {},
   "source": [
    "Q1. Write code that uses one of the map functions to:"
   ]
  },
  {
   "cell_type": "raw",
   "metadata": {},
   "source": [
    "Q1a. Compute the mean of every column in mtcars."
   ]
  },
  {
   "cell_type": "raw",
   "metadata": {},
   "source": [
    "To calculate the mean of every column in mtcars, apply the function mean() to each column, and use map_dbl, since the results are numeric.\n",
    "\n",
    "NN \n",
    "names\n",
    "map_dbl!!!!\n",
    "*******"
   ]
  },
  {
   "cell_type": "code",
   "execution_count": 172,
   "metadata": {},
   "outputs": [
    {
     "data": {
      "text/html": [
       "<ol class=list-inline>\n",
       "\t<li>'mpg'</li>\n",
       "\t<li>'cyl'</li>\n",
       "\t<li>'disp'</li>\n",
       "\t<li>'hp'</li>\n",
       "\t<li>'drat'</li>\n",
       "\t<li>'wt'</li>\n",
       "\t<li>'qsec'</li>\n",
       "\t<li>'vs'</li>\n",
       "\t<li>'am'</li>\n",
       "\t<li>'gear'</li>\n",
       "\t<li>'carb'</li>\n",
       "</ol>\n"
      ],
      "text/latex": [
       "\\begin{enumerate*}\n",
       "\\item 'mpg'\n",
       "\\item 'cyl'\n",
       "\\item 'disp'\n",
       "\\item 'hp'\n",
       "\\item 'drat'\n",
       "\\item 'wt'\n",
       "\\item 'qsec'\n",
       "\\item 'vs'\n",
       "\\item 'am'\n",
       "\\item 'gear'\n",
       "\\item 'carb'\n",
       "\\end{enumerate*}\n"
      ],
      "text/markdown": [
       "1. 'mpg'\n",
       "2. 'cyl'\n",
       "3. 'disp'\n",
       "4. 'hp'\n",
       "5. 'drat'\n",
       "6. 'wt'\n",
       "7. 'qsec'\n",
       "8. 'vs'\n",
       "9. 'am'\n",
       "10. 'gear'\n",
       "11. 'carb'\n",
       "\n",
       "\n"
      ],
      "text/plain": [
       " [1] \"mpg\"  \"cyl\"  \"disp\" \"hp\"   \"drat\" \"wt\"   \"qsec\" \"vs\"   \"am\"   \"gear\"\n",
       "[11] \"carb\""
      ]
     },
     "metadata": {},
     "output_type": "display_data"
    }
   ],
   "source": [
    "names(mtcars)"
   ]
  },
  {
   "cell_type": "code",
   "execution_count": 173,
   "metadata": {},
   "outputs": [
    {
     "name": "stderr",
     "output_type": "stream",
     "text": [
      "Warning message in mean.default(.x[[i]], ...):\n",
      "“argument is not numeric or logical: returning NA”"
     ]
    },
    {
     "data": {
      "text/html": [
       "<dl class=dl-horizontal>\n",
       "\t<dt>mpg</dt>\n",
       "\t\t<dd>20.090625</dd>\n",
       "\t<dt>cyl</dt>\n",
       "\t\t<dd>6.1875</dd>\n",
       "\t<dt>disp</dt>\n",
       "\t\t<dd>7.32155787997806e-11</dd>\n",
       "\t<dt>hp</dt>\n",
       "\t\t<dd>146.6875</dd>\n",
       "\t<dt>drat</dt>\n",
       "\t\t<dd>3.5965625</dd>\n",
       "\t<dt>wt</dt>\n",
       "\t\t<dd>3.21725</dd>\n",
       "\t<dt>qsec</dt>\n",
       "\t\t<dd>17.84875</dd>\n",
       "\t<dt>vs</dt>\n",
       "\t\t<dd>0.4375</dd>\n",
       "\t<dt>am</dt>\n",
       "\t\t<dd>&lt;NA&gt;</dd>\n",
       "\t<dt>gear</dt>\n",
       "\t\t<dd>3.6875</dd>\n",
       "\t<dt>carb</dt>\n",
       "\t\t<dd>2.8125</dd>\n",
       "</dl>\n"
      ],
      "text/latex": [
       "\\begin{description*}\n",
       "\\item[mpg] 20.090625\n",
       "\\item[cyl] 6.1875\n",
       "\\item[disp] 7.32155787997806e-11\n",
       "\\item[hp] 146.6875\n",
       "\\item[drat] 3.5965625\n",
       "\\item[wt] 3.21725\n",
       "\\item[qsec] 17.84875\n",
       "\\item[vs] 0.4375\n",
       "\\item[am] <NA>\n",
       "\\item[gear] 3.6875\n",
       "\\item[carb] 2.8125\n",
       "\\end{description*}\n"
      ],
      "text/markdown": [
       "mpg\n",
       ":   20.090625cyl\n",
       ":   6.1875disp\n",
       ":   7.32155787997806e-11hp\n",
       ":   146.6875drat\n",
       ":   3.5965625wt\n",
       ":   3.21725qsec\n",
       ":   17.84875vs\n",
       ":   0.4375am\n",
       ":   &lt;NA&gt;gear\n",
       ":   3.6875carb\n",
       ":   2.8125\n",
       "\n"
      ],
      "text/plain": [
       "         mpg          cyl         disp           hp         drat           wt \n",
       "2.009062e+01 6.187500e+00 7.321558e-11 1.466875e+02 3.596563e+00 3.217250e+00 \n",
       "        qsec           vs           am         gear         carb \n",
       "1.784875e+01 4.375000e-01           NA 3.687500e+00 2.812500e+00 "
      ]
     },
     "metadata": {},
     "output_type": "display_data"
    }
   ],
   "source": [
    "map_dbl(mtcars, mean)"
   ]
  },
  {
   "cell_type": "raw",
   "metadata": {},
   "source": [
    "Q1b. Determine the type of each column in nycflights13::flights."
   ]
  },
  {
   "cell_type": "raw",
   "metadata": {},
   "source": [
    "To calculate the type of every column in nycflights13::flights apply the function typeof(), discussed in the section on Vector basics, and use map_chr(), since the results are character.\n",
    "\n",
    "NN\n",
    "wow!!!\n",
    "typeof returns char so use map_chr()\n",
    "*****"
   ]
  },
  {
   "cell_type": "code",
   "execution_count": 174,
   "metadata": {},
   "outputs": [
    {
     "data": {
      "text/html": [
       "<dl class=dl-horizontal>\n",
       "\t<dt>year</dt>\n",
       "\t\t<dd>'integer'</dd>\n",
       "\t<dt>month</dt>\n",
       "\t\t<dd>'integer'</dd>\n",
       "\t<dt>day</dt>\n",
       "\t\t<dd>'integer'</dd>\n",
       "\t<dt>dep_time</dt>\n",
       "\t\t<dd>'integer'</dd>\n",
       "\t<dt>sched_dep_time</dt>\n",
       "\t\t<dd>'integer'</dd>\n",
       "\t<dt>dep_delay</dt>\n",
       "\t\t<dd>'double'</dd>\n",
       "\t<dt>arr_time</dt>\n",
       "\t\t<dd>'integer'</dd>\n",
       "\t<dt>sched_arr_time</dt>\n",
       "\t\t<dd>'integer'</dd>\n",
       "\t<dt>arr_delay</dt>\n",
       "\t\t<dd>'double'</dd>\n",
       "\t<dt>carrier</dt>\n",
       "\t\t<dd>'character'</dd>\n",
       "\t<dt>flight</dt>\n",
       "\t\t<dd>'integer'</dd>\n",
       "\t<dt>tailnum</dt>\n",
       "\t\t<dd>'character'</dd>\n",
       "\t<dt>origin</dt>\n",
       "\t\t<dd>'character'</dd>\n",
       "\t<dt>dest</dt>\n",
       "\t\t<dd>'character'</dd>\n",
       "\t<dt>air_time</dt>\n",
       "\t\t<dd>'double'</dd>\n",
       "\t<dt>distance</dt>\n",
       "\t\t<dd>'double'</dd>\n",
       "\t<dt>hour</dt>\n",
       "\t\t<dd>'double'</dd>\n",
       "\t<dt>minute</dt>\n",
       "\t\t<dd>'double'</dd>\n",
       "\t<dt>time_hour</dt>\n",
       "\t\t<dd>'double'</dd>\n",
       "</dl>\n"
      ],
      "text/latex": [
       "\\begin{description*}\n",
       "\\item[year] 'integer'\n",
       "\\item[month] 'integer'\n",
       "\\item[day] 'integer'\n",
       "\\item[dep\\textbackslash{}\\_time] 'integer'\n",
       "\\item[sched\\textbackslash{}\\_dep\\textbackslash{}\\_time] 'integer'\n",
       "\\item[dep\\textbackslash{}\\_delay] 'double'\n",
       "\\item[arr\\textbackslash{}\\_time] 'integer'\n",
       "\\item[sched\\textbackslash{}\\_arr\\textbackslash{}\\_time] 'integer'\n",
       "\\item[arr\\textbackslash{}\\_delay] 'double'\n",
       "\\item[carrier] 'character'\n",
       "\\item[flight] 'integer'\n",
       "\\item[tailnum] 'character'\n",
       "\\item[origin] 'character'\n",
       "\\item[dest] 'character'\n",
       "\\item[air\\textbackslash{}\\_time] 'double'\n",
       "\\item[distance] 'double'\n",
       "\\item[hour] 'double'\n",
       "\\item[minute] 'double'\n",
       "\\item[time\\textbackslash{}\\_hour] 'double'\n",
       "\\end{description*}\n"
      ],
      "text/markdown": [
       "year\n",
       ":   'integer'month\n",
       ":   'integer'day\n",
       ":   'integer'dep_time\n",
       ":   'integer'sched_dep_time\n",
       ":   'integer'dep_delay\n",
       ":   'double'arr_time\n",
       ":   'integer'sched_arr_time\n",
       ":   'integer'arr_delay\n",
       ":   'double'carrier\n",
       ":   'character'flight\n",
       ":   'integer'tailnum\n",
       ":   'character'origin\n",
       ":   'character'dest\n",
       ":   'character'air_time\n",
       ":   'double'distance\n",
       ":   'double'hour\n",
       ":   'double'minute\n",
       ":   'double'time_hour\n",
       ":   'double'\n",
       "\n"
      ],
      "text/plain": [
       "          year          month            day       dep_time sched_dep_time \n",
       "     \"integer\"      \"integer\"      \"integer\"      \"integer\"      \"integer\" \n",
       "     dep_delay       arr_time sched_arr_time      arr_delay        carrier \n",
       "      \"double\"      \"integer\"      \"integer\"       \"double\"    \"character\" \n",
       "        flight        tailnum         origin           dest       air_time \n",
       "     \"integer\"    \"character\"    \"character\"    \"character\"       \"double\" \n",
       "      distance           hour         minute      time_hour \n",
       "      \"double\"       \"double\"       \"double\"       \"double\" "
      ]
     },
     "metadata": {},
     "output_type": "display_data"
    }
   ],
   "source": [
    "map_chr(nycflights13::flights, typeof)"
   ]
  },
  {
   "cell_type": "raw",
   "metadata": {},
   "source": [
    "Q1c. Compute the number of unique values in each column of iris."
   ]
  },
  {
   "cell_type": "raw",
   "metadata": {},
   "source": [
    "There is no function that directly calculates the number of unique values in a vector. For a single column, the number of unique values of a vector can be calculated like so,"
   ]
  },
  {
   "cell_type": "code",
   "execution_count": 175,
   "metadata": {},
   "outputs": [
    {
     "data": {
      "text/html": [
       "3"
      ],
      "text/latex": [
       "3"
      ],
      "text/markdown": [
       "3"
      ],
      "text/plain": [
       "[1] 3"
      ]
     },
     "metadata": {},
     "output_type": "display_data"
    }
   ],
   "source": [
    "length(unique(iris$Species))"
   ]
  },
  {
   "cell_type": "raw",
   "metadata": {},
   "source": [
    "To apply this to all columns, we can provide the map an anonymous function. We can write anonymous function using the standard R syntax.\n",
    "\n",
    "NN\n",
    "anonumyous func = lambda\n",
    "*********v\n",
    "very useful"
   ]
  },
  {
   "cell_type": "code",
   "execution_count": 176,
   "metadata": {},
   "outputs": [
    {
     "data": {
      "text/html": [
       "<dl class=dl-horizontal>\n",
       "\t<dt>Sepal.Length</dt>\n",
       "\t\t<dd>35</dd>\n",
       "\t<dt>Sepal.Width</dt>\n",
       "\t\t<dd>23</dd>\n",
       "\t<dt>Petal.Length</dt>\n",
       "\t\t<dd>43</dd>\n",
       "\t<dt>Petal.Width</dt>\n",
       "\t\t<dd>22</dd>\n",
       "\t<dt>Species</dt>\n",
       "\t\t<dd>3</dd>\n",
       "</dl>\n"
      ],
      "text/latex": [
       "\\begin{description*}\n",
       "\\item[Sepal.Length] 35\n",
       "\\item[Sepal.Width] 23\n",
       "\\item[Petal.Length] 43\n",
       "\\item[Petal.Width] 22\n",
       "\\item[Species] 3\n",
       "\\end{description*}\n"
      ],
      "text/markdown": [
       "Sepal.Length\n",
       ":   35Sepal.Width\n",
       ":   23Petal.Length\n",
       ":   43Petal.Width\n",
       ":   22Species\n",
       ":   3\n",
       "\n"
      ],
      "text/plain": [
       "Sepal.Length  Sepal.Width Petal.Length  Petal.Width      Species \n",
       "          35           23           43           22            3 "
      ]
     },
     "metadata": {},
     "output_type": "display_data"
    }
   ],
   "source": [
    "map_int(iris, function(x) length(unique(x)))"
   ]
  },
  {
   "cell_type": "raw",
   "metadata": {},
   "source": [
    "We could also use the compact, one-sided formula shortcut that purrr provides.\n",
    "NNN\n",
    "so far i dont get one-sided formual a shortcut******"
   ]
  },
  {
   "cell_type": "code",
   "execution_count": null,
   "metadata": {},
   "outputs": [],
   "source": [
    "map_int(iris, ~ length(unique(.)))"
   ]
  },
  {
   "cell_type": "raw",
   "metadata": {},
   "source": [
    "In these examples, the map_int() function is used since length() returns an integer. However, the map_dbl() function will also work.\n",
    "\n",
    "map_int( or map_dbl******"
   ]
  },
  {
   "cell_type": "code",
   "execution_count": 177,
   "metadata": {},
   "outputs": [
    {
     "data": {
      "text/html": [
       "<dl class=dl-horizontal>\n",
       "\t<dt>Sepal.Length</dt>\n",
       "\t\t<dd>35</dd>\n",
       "\t<dt>Sepal.Width</dt>\n",
       "\t\t<dd>23</dd>\n",
       "\t<dt>Petal.Length</dt>\n",
       "\t\t<dd>43</dd>\n",
       "\t<dt>Petal.Width</dt>\n",
       "\t\t<dd>22</dd>\n",
       "\t<dt>Species</dt>\n",
       "\t\t<dd>3</dd>\n",
       "</dl>\n"
      ],
      "text/latex": [
       "\\begin{description*}\n",
       "\\item[Sepal.Length] 35\n",
       "\\item[Sepal.Width] 23\n",
       "\\item[Petal.Length] 43\n",
       "\\item[Petal.Width] 22\n",
       "\\item[Species] 3\n",
       "\\end{description*}\n"
      ],
      "text/markdown": [
       "Sepal.Length\n",
       ":   35Sepal.Width\n",
       ":   23Petal.Length\n",
       ":   43Petal.Width\n",
       ":   22Species\n",
       ":   3\n",
       "\n"
      ],
      "text/plain": [
       "Sepal.Length  Sepal.Width Petal.Length  Petal.Width      Species \n",
       "          35           23           43           22            3 "
      ]
     },
     "metadata": {},
     "output_type": "display_data"
    }
   ],
   "source": [
    "map_dbl(iris, ~ length(unique(.)))"
   ]
  },
  {
   "cell_type": "raw",
   "metadata": {},
   "source": [
    "Q1d. Generate 10 random normals for each of μ = −10, 0, 10, and 100."
   ]
  },
  {
   "cell_type": "raw",
   "metadata": {},
   "source": [
    "To generate 10 random normals for each of  μ = −10, 0, 10, and 100.: The result is a list of numeric vectors.\n",
    "\n",
    "***map for list"
   ]
  },
  {
   "cell_type": "code",
   "execution_count": 178,
   "metadata": {},
   "outputs": [
    {
     "data": {
      "text/html": [
       "<ol>\n",
       "\t<li><ol class=list-inline>\n",
       "\t<li>-9.5512794198415</li>\n",
       "\t<li>-11.5608345074551</li>\n",
       "\t<li>-10.4862301448161</li>\n",
       "\t<li>-9.08889231229905</li>\n",
       "\t<li>-9.29501555357562</li>\n",
       "\t<li>-9.85644325536268</li>\n",
       "\t<li>-8.77809714869012</li>\n",
       "\t<li>-10.8815225752438</li>\n",
       "\t<li>-10.5332293064718</li>\n",
       "\t<li>-9.48330425612033</li>\n",
       "</ol>\n",
       "</li>\n",
       "\t<li><ol class=list-inline>\n",
       "\t<li>-0.130076419087432</li>\n",
       "\t<li>0.952284920400968</li>\n",
       "\t<li>-0.126469492454045</li>\n",
       "\t<li>-0.314240254367083</li>\n",
       "\t<li>-0.215351837171058</li>\n",
       "\t<li>-0.514173071663453</li>\n",
       "\t<li>-0.42723583933596</li>\n",
       "\t<li>-1.0527827118765</li>\n",
       "\t<li>0.57311622956408</li>\n",
       "\t<li>-0.965813489783843</li>\n",
       "</ol>\n",
       "</li>\n",
       "\t<li><ol class=list-inline>\n",
       "\t<li>9.15665677903616</li>\n",
       "\t<li>12.8498538988842</li>\n",
       "\t<li>9.06031370616471</li>\n",
       "\t<li>9.94643535484741</li>\n",
       "\t<li>11.0937255526846</li>\n",
       "\t<li>9.89932263777391</li>\n",
       "\t<li>10.2643943892584</li>\n",
       "\t<li>11.101310556945</li>\n",
       "\t<li>10.3403775217282</li>\n",
       "\t<li>9.70986400163241</li>\n",
       "</ol>\n",
       "</li>\n",
       "\t<li><ol class=list-inline>\n",
       "\t<li>99.3637644589406</li>\n",
       "\t<li>98.7881812209627</li>\n",
       "\t<li>99.1776452207521</li>\n",
       "\t<li>99.6713082599679</li>\n",
       "\t<li>100.104625514855</li>\n",
       "\t<li>98.6669336544044</li>\n",
       "\t<li>99.9875457676771</li>\n",
       "\t<li>99.6396071854372</li>\n",
       "\t<li>100.993235395746</li>\n",
       "\t<li>99.358846425842</li>\n",
       "</ol>\n",
       "</li>\n",
       "</ol>\n"
      ],
      "text/latex": [
       "\\begin{enumerate}\n",
       "\\item \\begin{enumerate*}\n",
       "\\item -9.5512794198415\n",
       "\\item -11.5608345074551\n",
       "\\item -10.4862301448161\n",
       "\\item -9.08889231229905\n",
       "\\item -9.29501555357562\n",
       "\\item -9.85644325536268\n",
       "\\item -8.77809714869012\n",
       "\\item -10.8815225752438\n",
       "\\item -10.5332293064718\n",
       "\\item -9.48330425612033\n",
       "\\end{enumerate*}\n",
       "\n",
       "\\item \\begin{enumerate*}\n",
       "\\item -0.130076419087432\n",
       "\\item 0.952284920400968\n",
       "\\item -0.126469492454045\n",
       "\\item -0.314240254367083\n",
       "\\item -0.215351837171058\n",
       "\\item -0.514173071663453\n",
       "\\item -0.42723583933596\n",
       "\\item -1.0527827118765\n",
       "\\item 0.57311622956408\n",
       "\\item -0.965813489783843\n",
       "\\end{enumerate*}\n",
       "\n",
       "\\item \\begin{enumerate*}\n",
       "\\item 9.15665677903616\n",
       "\\item 12.8498538988842\n",
       "\\item 9.06031370616471\n",
       "\\item 9.94643535484741\n",
       "\\item 11.0937255526846\n",
       "\\item 9.89932263777391\n",
       "\\item 10.2643943892584\n",
       "\\item 11.101310556945\n",
       "\\item 10.3403775217282\n",
       "\\item 9.70986400163241\n",
       "\\end{enumerate*}\n",
       "\n",
       "\\item \\begin{enumerate*}\n",
       "\\item 99.3637644589406\n",
       "\\item 98.7881812209627\n",
       "\\item 99.1776452207521\n",
       "\\item 99.6713082599679\n",
       "\\item 100.104625514855\n",
       "\\item 98.6669336544044\n",
       "\\item 99.9875457676771\n",
       "\\item 99.6396071854372\n",
       "\\item 100.993235395746\n",
       "\\item 99.358846425842\n",
       "\\end{enumerate*}\n",
       "\n",
       "\\end{enumerate}\n"
      ],
      "text/markdown": [
       "1. 1. -9.5512794198415\n",
       "2. -11.5608345074551\n",
       "3. -10.4862301448161\n",
       "4. -9.08889231229905\n",
       "5. -9.29501555357562\n",
       "6. -9.85644325536268\n",
       "7. -8.77809714869012\n",
       "8. -10.8815225752438\n",
       "9. -10.5332293064718\n",
       "10. -9.48330425612033\n",
       "\n",
       "\n",
       "\n",
       "2. 1. -0.130076419087432\n",
       "2. 0.952284920400968\n",
       "3. -0.126469492454045\n",
       "4. -0.314240254367083\n",
       "5. -0.215351837171058\n",
       "6. -0.514173071663453\n",
       "7. -0.42723583933596\n",
       "8. -1.0527827118765\n",
       "9. 0.57311622956408\n",
       "10. -0.965813489783843\n",
       "\n",
       "\n",
       "\n",
       "3. 1. 9.15665677903616\n",
       "2. 12.8498538988842\n",
       "3. 9.06031370616471\n",
       "4. 9.94643535484741\n",
       "5. 11.0937255526846\n",
       "6. 9.89932263777391\n",
       "7. 10.2643943892584\n",
       "8. 11.101310556945\n",
       "9. 10.3403775217282\n",
       "10. 9.70986400163241\n",
       "\n",
       "\n",
       "\n",
       "4. 1. 99.3637644589406\n",
       "2. 98.7881812209627\n",
       "3. 99.1776452207521\n",
       "4. 99.6713082599679\n",
       "5. 100.104625514855\n",
       "6. 98.6669336544044\n",
       "7. 99.9875457676771\n",
       "8. 99.6396071854372\n",
       "9. 100.993235395746\n",
       "10. 99.358846425842\n",
       "\n",
       "\n",
       "\n",
       "\n",
       "\n"
      ],
      "text/plain": [
       "[[1]]\n",
       " [1]  -9.551279 -11.560835 -10.486230  -9.088892  -9.295016  -9.856443\n",
       " [7]  -8.778097 -10.881523 -10.533229  -9.483304\n",
       "\n",
       "[[2]]\n",
       " [1] -0.1300764  0.9522849 -0.1264695 -0.3142403 -0.2153518 -0.5141731\n",
       " [7] -0.4272358 -1.0527827  0.5731162 -0.9658135\n",
       "\n",
       "[[3]]\n",
       " [1]  9.156657 12.849854  9.060314  9.946435 11.093726  9.899323 10.264394\n",
       " [8] 11.101311 10.340378  9.709864\n",
       "\n",
       "[[4]]\n",
       " [1]  99.36376  98.78818  99.17765  99.67131 100.10463  98.66693  99.98755\n",
       " [8]  99.63961 100.99324  99.35885\n"
      ]
     },
     "metadata": {},
     "output_type": "display_data"
    }
   ],
   "source": [
    "map(c(-10, 0, 10, 100), ~ rnorm(n = 10, mean = .))"
   ]
  },
  {
   "cell_type": "raw",
   "metadata": {},
   "source": [
    "Since a single call of rnorm() returns a numeric vector with a length greater than one we cannot use map_dbl, which requires the function to return a numeric vector that is only length one (see Exercise 21.5.4). The map functions pass any additional arguments to the function being called."
   ]
  },
  {
   "cell_type": "raw",
   "metadata": {},
   "source": [
    "Q2. How can you create a single vector that for each column in a data frame indicates whether or not it’s a factor?"
   ]
  },
  {
   "cell_type": "raw",
   "metadata": {},
   "source": [
    "The function is.factor() indicates whether a vector is a factor.\n",
    "**** is.factor"
   ]
  },
  {
   "cell_type": "code",
   "execution_count": 179,
   "metadata": {},
   "outputs": [
    {
     "data": {
      "text/html": [
       "TRUE"
      ],
      "text/latex": [
       "TRUE"
      ],
      "text/markdown": [
       "TRUE"
      ],
      "text/plain": [
       "[1] TRUE"
      ]
     },
     "metadata": {},
     "output_type": "display_data"
    }
   ],
   "source": [
    "is.factor(diamonds$color)"
   ]
  },
  {
   "cell_type": "raw",
   "metadata": {},
   "source": [
    "To check all columns in a factor for whether it is a factor is a job for a map_*() function. Since the result of is.factor() is logical, we will use map_lgl() to apply is.factor() to the columns of the data frame.\n",
    "***map_lgl"
   ]
  },
  {
   "cell_type": "code",
   "execution_count": 180,
   "metadata": {},
   "outputs": [
    {
     "data": {
      "text/html": [
       "<dl class=dl-horizontal>\n",
       "\t<dt>carat</dt>\n",
       "\t\t<dd>FALSE</dd>\n",
       "\t<dt>cut</dt>\n",
       "\t\t<dd>TRUE</dd>\n",
       "\t<dt>color</dt>\n",
       "\t\t<dd>TRUE</dd>\n",
       "\t<dt>clarity</dt>\n",
       "\t\t<dd>TRUE</dd>\n",
       "\t<dt>depth</dt>\n",
       "\t\t<dd>FALSE</dd>\n",
       "\t<dt>table</dt>\n",
       "\t\t<dd>FALSE</dd>\n",
       "\t<dt>price</dt>\n",
       "\t\t<dd>FALSE</dd>\n",
       "\t<dt>x</dt>\n",
       "\t\t<dd>FALSE</dd>\n",
       "\t<dt>y</dt>\n",
       "\t\t<dd>FALSE</dd>\n",
       "\t<dt>z</dt>\n",
       "\t\t<dd>FALSE</dd>\n",
       "</dl>\n"
      ],
      "text/latex": [
       "\\begin{description*}\n",
       "\\item[carat] FALSE\n",
       "\\item[cut] TRUE\n",
       "\\item[color] TRUE\n",
       "\\item[clarity] TRUE\n",
       "\\item[depth] FALSE\n",
       "\\item[table] FALSE\n",
       "\\item[price] FALSE\n",
       "\\item[x] FALSE\n",
       "\\item[y] FALSE\n",
       "\\item[z] FALSE\n",
       "\\end{description*}\n"
      ],
      "text/markdown": [
       "carat\n",
       ":   FALSEcut\n",
       ":   TRUEcolor\n",
       ":   TRUEclarity\n",
       ":   TRUEdepth\n",
       ":   FALSEtable\n",
       ":   FALSEprice\n",
       ":   FALSEx\n",
       ":   FALSEy\n",
       ":   FALSEz\n",
       ":   FALSE\n",
       "\n"
      ],
      "text/plain": [
       "  carat     cut   color clarity   depth   table   price       x       y       z \n",
       "  FALSE    TRUE    TRUE    TRUE   FALSE   FALSE   FALSE   FALSE   FALSE   FALSE "
      ]
     },
     "metadata": {},
     "output_type": "display_data"
    }
   ],
   "source": [
    "map_lgl(diamonds, is.factor)"
   ]
  },
  {
   "cell_type": "raw",
   "metadata": {},
   "source": [
    "Q3. What happens when you use the map functions on vectors that aren’t lists? What does map(1:5, runif) do? Why?"
   ]
  },
  {
   "cell_type": "raw",
   "metadata": {},
   "source": [
    "Map functions work with any vectors, not just lists. As with lists, the map functions will apply the function to each element of the vector. In the following examples, the inputs to map() are atomic vectors (logical, character, integer, double).\n",
    "\n",
    "******cool!!!! the first one esp, but 3rd too, and 4th with . used as arg for mean!!"
   ]
  },
  {
   "cell_type": "code",
   "execution_count": 181,
   "metadata": {},
   "outputs": [
    {
     "data": {
      "text/html": [
       "<ol>\n",
       "\t<li>FALSE</li>\n",
       "\t<li>TRUE</li>\n",
       "\t<li>FALSE</li>\n",
       "</ol>\n"
      ],
      "text/latex": [
       "\\begin{enumerate}\n",
       "\\item FALSE\n",
       "\\item TRUE\n",
       "\\item FALSE\n",
       "\\end{enumerate}\n"
      ],
      "text/markdown": [
       "1. FALSE\n",
       "2. TRUE\n",
       "3. FALSE\n",
       "\n",
       "\n"
      ],
      "text/plain": [
       "[[1]]\n",
       "[1] FALSE\n",
       "\n",
       "[[2]]\n",
       "[1] TRUE\n",
       "\n",
       "[[3]]\n",
       "[1] FALSE\n"
      ]
     },
     "metadata": {},
     "output_type": "display_data"
    },
    {
     "data": {
      "text/html": [
       "<ol>\n",
       "\t<li>'HELLO'</li>\n",
       "\t<li>'WORLD'</li>\n",
       "</ol>\n"
      ],
      "text/latex": [
       "\\begin{enumerate}\n",
       "\\item 'HELLO'\n",
       "\\item 'WORLD'\n",
       "\\end{enumerate}\n"
      ],
      "text/markdown": [
       "1. 'HELLO'\n",
       "2. 'WORLD'\n",
       "\n",
       "\n"
      ],
      "text/plain": [
       "[[1]]\n",
       "[1] \"HELLO\"\n",
       "\n",
       "[[2]]\n",
       "[1] \"WORLD\"\n"
      ]
     },
     "metadata": {},
     "output_type": "display_data"
    },
    {
     "data": {
      "text/html": [
       "<ol>\n",
       "\t<li>-0.732232643348178</li>\n",
       "\t<li><ol class=list-inline>\n",
       "\t<li>0.56040091206782</li>\n",
       "\t<li>1.4448431370931</li>\n",
       "</ol>\n",
       "</li>\n",
       "\t<li><ol class=list-inline>\n",
       "\t<li>0.485972383562634</li>\n",
       "\t<li>1.13768068672511</li>\n",
       "\t<li>0.693325045481813</li>\n",
       "</ol>\n",
       "</li>\n",
       "\t<li><ol class=list-inline>\n",
       "\t<li>-0.70077865412474</li>\n",
       "\t<li>0.653937851221352</li>\n",
       "\t<li>0.745144624460373</li>\n",
       "\t<li>1.52127629800285</li>\n",
       "</ol>\n",
       "</li>\n",
       "\t<li><ol class=list-inline>\n",
       "\t<li>-0.449115398822758</li>\n",
       "\t<li>0.156161211334328</li>\n",
       "\t<li>-0.727130082059505</li>\n",
       "\t<li>-0.312874858148455</li>\n",
       "\t<li>0.101203992059858</li>\n",
       "</ol>\n",
       "</li>\n",
       "</ol>\n"
      ],
      "text/latex": [
       "\\begin{enumerate}\n",
       "\\item -0.732232643348178\n",
       "\\item \\begin{enumerate*}\n",
       "\\item 0.56040091206782\n",
       "\\item 1.4448431370931\n",
       "\\end{enumerate*}\n",
       "\n",
       "\\item \\begin{enumerate*}\n",
       "\\item 0.485972383562634\n",
       "\\item 1.13768068672511\n",
       "\\item 0.693325045481813\n",
       "\\end{enumerate*}\n",
       "\n",
       "\\item \\begin{enumerate*}\n",
       "\\item -0.70077865412474\n",
       "\\item 0.653937851221352\n",
       "\\item 0.745144624460373\n",
       "\\item 1.52127629800285\n",
       "\\end{enumerate*}\n",
       "\n",
       "\\item \\begin{enumerate*}\n",
       "\\item -0.449115398822758\n",
       "\\item 0.156161211334328\n",
       "\\item -0.727130082059505\n",
       "\\item -0.312874858148455\n",
       "\\item 0.101203992059858\n",
       "\\end{enumerate*}\n",
       "\n",
       "\\end{enumerate}\n"
      ],
      "text/markdown": [
       "1. -0.732232643348178\n",
       "2. 1. 0.56040091206782\n",
       "2. 1.4448431370931\n",
       "\n",
       "\n",
       "\n",
       "3. 1. 0.485972383562634\n",
       "2. 1.13768068672511\n",
       "3. 0.693325045481813\n",
       "\n",
       "\n",
       "\n",
       "4. 1. -0.70077865412474\n",
       "2. 0.653937851221352\n",
       "3. 0.745144624460373\n",
       "4. 1.52127629800285\n",
       "\n",
       "\n",
       "\n",
       "5. 1. -0.449115398822758\n",
       "2. 0.156161211334328\n",
       "3. -0.727130082059505\n",
       "4. -0.312874858148455\n",
       "5. 0.101203992059858\n",
       "\n",
       "\n",
       "\n",
       "\n",
       "\n"
      ],
      "text/plain": [
       "[[1]]\n",
       "[1] -0.7322326\n",
       "\n",
       "[[2]]\n",
       "[1] 0.5604009 1.4448431\n",
       "\n",
       "[[3]]\n",
       "[1] 0.4859724 1.1376807 0.6933250\n",
       "\n",
       "[[4]]\n",
       "[1] -0.7007787  0.6539379  0.7451446  1.5212763\n",
       "\n",
       "[[5]]\n",
       "[1] -0.4491154  0.1561612 -0.7271301 -0.3128749  0.1012040\n"
      ]
     },
     "metadata": {},
     "output_type": "display_data"
    },
    {
     "data": {
      "text/html": [
       "<ol>\n",
       "\t<li>-0.925751331521839</li>\n",
       "\t<li>-1.1663473611277</li>\n",
       "\t<li>1.76706248739101</li>\n",
       "</ol>\n"
      ],
      "text/latex": [
       "\\begin{enumerate}\n",
       "\\item -0.925751331521839\n",
       "\\item -1.1663473611277\n",
       "\\item 1.76706248739101\n",
       "\\end{enumerate}\n"
      ],
      "text/markdown": [
       "1. -0.925751331521839\n",
       "2. -1.1663473611277\n",
       "3. 1.76706248739101\n",
       "\n",
       "\n"
      ],
      "text/plain": [
       "[[1]]\n",
       "[1] -0.9257513\n",
       "\n",
       "[[2]]\n",
       "[1] -1.166347\n",
       "\n",
       "[[3]]\n",
       "[1] 1.767062\n"
      ]
     },
     "metadata": {},
     "output_type": "display_data"
    }
   ],
   "source": [
    "map(c(TRUE, FALSE, TRUE), ~ !.)\n",
    "map(c(\"Hello\", \"World\"), str_to_upper)\n",
    "map(1:5, ~ rnorm(.))\n",
    "map(c(-0.5, 0, 1), ~ rnorm(1, mean = .))"
   ]
  },
  {
   "cell_type": "raw",
   "metadata": {},
   "source": [
    "It is important to be aware that while the input of map() can be any vector, the output is always a list.\n",
    "********"
   ]
  },
  {
   "cell_type": "code",
   "execution_count": 189,
   "metadata": {},
   "outputs": [
    {
     "data": {
      "text/html": [
       "<ol>\n",
       "\t<li>0.312217786442488</li>\n",
       "\t<li><ol class=list-inline>\n",
       "\t<li>0.49413781426847</li>\n",
       "\t<li>0.729550961405039</li>\n",
       "</ol>\n",
       "</li>\n",
       "\t<li><ol class=list-inline>\n",
       "\t<li>0.554672884289175</li>\n",
       "\t<li>0.50396500970237</li>\n",
       "\t<li>0.268149191979319</li>\n",
       "</ol>\n",
       "</li>\n",
       "\t<li><ol class=list-inline>\n",
       "\t<li>0.621845046756789</li>\n",
       "\t<li>0.920215195510536</li>\n",
       "\t<li>0.999484956730157</li>\n",
       "\t<li>0.687198295956478</li>\n",
       "</ol>\n",
       "</li>\n",
       "\t<li><ol class=list-inline>\n",
       "\t<li>0.644440030446276</li>\n",
       "\t<li>0.129777418682352</li>\n",
       "\t<li>0.355890616774559</li>\n",
       "\t<li>0.389545565936714</li>\n",
       "\t<li>0.568934849929065</li>\n",
       "</ol>\n",
       "</li>\n",
       "</ol>\n"
      ],
      "text/latex": [
       "\\begin{enumerate}\n",
       "\\item 0.312217786442488\n",
       "\\item \\begin{enumerate*}\n",
       "\\item 0.49413781426847\n",
       "\\item 0.729550961405039\n",
       "\\end{enumerate*}\n",
       "\n",
       "\\item \\begin{enumerate*}\n",
       "\\item 0.554672884289175\n",
       "\\item 0.50396500970237\n",
       "\\item 0.268149191979319\n",
       "\\end{enumerate*}\n",
       "\n",
       "\\item \\begin{enumerate*}\n",
       "\\item 0.621845046756789\n",
       "\\item 0.920215195510536\n",
       "\\item 0.999484956730157\n",
       "\\item 0.687198295956478\n",
       "\\end{enumerate*}\n",
       "\n",
       "\\item \\begin{enumerate*}\n",
       "\\item 0.644440030446276\n",
       "\\item 0.129777418682352\n",
       "\\item 0.355890616774559\n",
       "\\item 0.389545565936714\n",
       "\\item 0.568934849929065\n",
       "\\end{enumerate*}\n",
       "\n",
       "\\end{enumerate}\n"
      ],
      "text/markdown": [
       "1. 0.312217786442488\n",
       "2. 1. 0.49413781426847\n",
       "2. 0.729550961405039\n",
       "\n",
       "\n",
       "\n",
       "3. 1. 0.554672884289175\n",
       "2. 0.50396500970237\n",
       "3. 0.268149191979319\n",
       "\n",
       "\n",
       "\n",
       "4. 1. 0.621845046756789\n",
       "2. 0.920215195510536\n",
       "3. 0.999484956730157\n",
       "4. 0.687198295956478\n",
       "\n",
       "\n",
       "\n",
       "5. 1. 0.644440030446276\n",
       "2. 0.129777418682352\n",
       "3. 0.355890616774559\n",
       "4. 0.389545565936714\n",
       "5. 0.568934849929065\n",
       "\n",
       "\n",
       "\n",
       "\n",
       "\n"
      ],
      "text/plain": [
       "[[1]]\n",
       "[1] 0.3122178\n",
       "\n",
       "[[2]]\n",
       "[1] 0.4941378 0.7295510\n",
       "\n",
       "[[3]]\n",
       "[1] 0.5546729 0.5039650 0.2681492\n",
       "\n",
       "[[4]]\n",
       "[1] 0.6218450 0.9202152 0.9994850 0.6871983\n",
       "\n",
       "[[5]]\n",
       "[1] 0.6444400 0.1297774 0.3558906 0.3895456 0.5689348\n"
      ]
     },
     "metadata": {},
     "output_type": "display_data"
    },
    {
     "data": {
      "text/html": [
       "'list'"
      ],
      "text/latex": [
       "'list'"
      ],
      "text/markdown": [
       "'list'"
      ],
      "text/plain": [
       "[1] \"list\""
      ]
     },
     "metadata": {},
     "output_type": "display_data"
    },
    {
     "data": {
      "text/html": [
       "<ol>\n",
       "\t<li>'double'</li>\n",
       "\t<li>'double'</li>\n",
       "\t<li>'double'</li>\n",
       "\t<li>'double'</li>\n",
       "\t<li>'double'</li>\n",
       "</ol>\n"
      ],
      "text/latex": [
       "\\begin{enumerate}\n",
       "\\item 'double'\n",
       "\\item 'double'\n",
       "\\item 'double'\n",
       "\\item 'double'\n",
       "\\item 'double'\n",
       "\\end{enumerate}\n"
      ],
      "text/markdown": [
       "1. 'double'\n",
       "2. 'double'\n",
       "3. 'double'\n",
       "4. 'double'\n",
       "5. 'double'\n",
       "\n",
       "\n"
      ],
      "text/plain": [
       "[[1]]\n",
       "[1] \"double\"\n",
       "\n",
       "[[2]]\n",
       "[1] \"double\"\n",
       "\n",
       "[[3]]\n",
       "[1] \"double\"\n",
       "\n",
       "[[4]]\n",
       "[1] \"double\"\n",
       "\n",
       "[[5]]\n",
       "[1] \"double\"\n"
      ]
     },
     "metadata": {},
     "output_type": "display_data"
    }
   ],
   "source": [
    "map(1:5, runif)\n",
    "typeof(map(1:5, runif))\n",
    "map(map(1:5, runif),~typeof(.))"
   ]
  },
  {
   "cell_type": "raw",
   "metadata": {},
   "source": [
    "This expression is equivalent to running the following."
   ]
  },
  {
   "cell_type": "code",
   "execution_count": 192,
   "metadata": {},
   "outputs": [
    {
     "data": {
      "text/html": [
       "<ol>\n",
       "\t<li>0.125744975870475</li>\n",
       "\t<li><ol class=list-inline>\n",
       "\t<li>0.899144678143784</li>\n",
       "\t<li>0.903174685081467</li>\n",
       "</ol>\n",
       "</li>\n",
       "\t<li><ol class=list-inline>\n",
       "\t<li>0.912612535292283</li>\n",
       "\t<li>0.357064426178113</li>\n",
       "\t<li>0.938786776270717</li>\n",
       "</ol>\n",
       "</li>\n",
       "\t<li><ol class=list-inline>\n",
       "\t<li>0.698865746846423</li>\n",
       "\t<li>0.407193497987464</li>\n",
       "\t<li>0.470053920755163</li>\n",
       "\t<li>0.982085239840671</li>\n",
       "</ol>\n",
       "</li>\n",
       "\t<li><ol class=list-inline>\n",
       "\t<li>0.324910608585924</li>\n",
       "\t<li>0.860156259965152</li>\n",
       "\t<li>0.373597485246137</li>\n",
       "\t<li>0.8711568468716</li>\n",
       "\t<li>0.707821677206084</li>\n",
       "</ol>\n",
       "</li>\n",
       "</ol>\n"
      ],
      "text/latex": [
       "\\begin{enumerate}\n",
       "\\item 0.125744975870475\n",
       "\\item \\begin{enumerate*}\n",
       "\\item 0.899144678143784\n",
       "\\item 0.903174685081467\n",
       "\\end{enumerate*}\n",
       "\n",
       "\\item \\begin{enumerate*}\n",
       "\\item 0.912612535292283\n",
       "\\item 0.357064426178113\n",
       "\\item 0.938786776270717\n",
       "\\end{enumerate*}\n",
       "\n",
       "\\item \\begin{enumerate*}\n",
       "\\item 0.698865746846423\n",
       "\\item 0.407193497987464\n",
       "\\item 0.470053920755163\n",
       "\\item 0.982085239840671\n",
       "\\end{enumerate*}\n",
       "\n",
       "\\item \\begin{enumerate*}\n",
       "\\item 0.324910608585924\n",
       "\\item 0.860156259965152\n",
       "\\item 0.373597485246137\n",
       "\\item 0.8711568468716\n",
       "\\item 0.707821677206084\n",
       "\\end{enumerate*}\n",
       "\n",
       "\\end{enumerate}\n"
      ],
      "text/markdown": [
       "1. 0.125744975870475\n",
       "2. 1. 0.899144678143784\n",
       "2. 0.903174685081467\n",
       "\n",
       "\n",
       "\n",
       "3. 1. 0.912612535292283\n",
       "2. 0.357064426178113\n",
       "3. 0.938786776270717\n",
       "\n",
       "\n",
       "\n",
       "4. 1. 0.698865746846423\n",
       "2. 0.407193497987464\n",
       "3. 0.470053920755163\n",
       "4. 0.982085239840671\n",
       "\n",
       "\n",
       "\n",
       "5. 1. 0.324910608585924\n",
       "2. 0.860156259965152\n",
       "3. 0.373597485246137\n",
       "4. 0.8711568468716\n",
       "5. 0.707821677206084\n",
       "\n",
       "\n",
       "\n",
       "\n",
       "\n"
      ],
      "text/plain": [
       "[[1]]\n",
       "[1] 0.125745\n",
       "\n",
       "[[2]]\n",
       "[1] 0.8991447 0.9031747\n",
       "\n",
       "[[3]]\n",
       "[1] 0.9126125 0.3570644 0.9387868\n",
       "\n",
       "[[4]]\n",
       "[1] 0.6988657 0.4071935 0.4700539 0.9820852\n",
       "\n",
       "[[5]]\n",
       "[1] 0.3249106 0.8601563 0.3735975 0.8711568 0.7078217\n"
      ]
     },
     "metadata": {},
     "output_type": "display_data"
    },
    {
     "data": {
      "text/html": [
       "'double'"
      ],
      "text/latex": [
       "'double'"
      ],
      "text/markdown": [
       "'double'"
      ],
      "text/plain": [
       "[1] \"double\""
      ]
     },
     "metadata": {},
     "output_type": "display_data"
    }
   ],
   "source": [
    "list(\n",
    "  runif(1),\n",
    "  runif(2),\n",
    "  runif(3),\n",
    "  runif(4),\n",
    "  runif(5)\n",
    ")\n",
    "\n",
    "typeof(runif(5))"
   ]
  },
  {
   "cell_type": "raw",
   "metadata": {},
   "source": [
    "The map() function loops through the numbers 1 to 5. For each value, it calls the runif() with that number as the first argument, which is the number of sample to draw. The result is a length five list with numeric vectors of sizes one through five, each with random samples from a uniform distribution. Note that although input to map() was an integer vector, the return value was a list."
   ]
  },
  {
   "cell_type": "raw",
   "metadata": {},
   "source": [
    "Q4. What does map(-3:3, rnorm, n = 5) do? Why? What does map_dbl(-3:3, rnorm, n = 5) do? Why?"
   ]
  },
  {
   "cell_type": "raw",
   "metadata": {},
   "source": [
    "Consider the first expression."
   ]
  },
  {
   "cell_type": "code",
   "execution_count": 194,
   "metadata": {},
   "outputs": [
    {
     "data": {
      "text/html": [
       "<ol>\n",
       "\t<li><ol class=list-inline>\n",
       "\t<li>-4.08732497878354</li>\n",
       "\t<li>-4.16472610862951</li>\n",
       "\t<li>-2.40570272710776</li>\n",
       "\t<li>-3.56993678384279</li>\n",
       "\t<li>-2.40353094428696</li>\n",
       "</ol>\n",
       "</li>\n",
       "\t<li><ol class=list-inline>\n",
       "\t<li>-2.60735525689927</li>\n",
       "\t<li>-0.404603946939155</li>\n",
       "\t<li>-0.283525089836465</li>\n",
       "\t<li>-2.299566149981</li>\n",
       "\t<li>-1.12806942724872</li>\n",
       "</ol>\n",
       "</li>\n",
       "\t<li><ol class=list-inline>\n",
       "\t<li>-1.98435972741952</li>\n",
       "\t<li>0.792514524236356</li>\n",
       "\t<li>1.51043255386093</li>\n",
       "\t<li>-0.960592524145824</li>\n",
       "\t<li>-0.45415366274934</li>\n",
       "</ol>\n",
       "</li>\n",
       "\t<li><ol class=list-inline>\n",
       "\t<li>0.899680190110367</li>\n",
       "\t<li>-1.76448419100275</li>\n",
       "\t<li>0.820671712013567</li>\n",
       "\t<li>0.381022056698316</li>\n",
       "\t<li>0.646163255428656</li>\n",
       "</ol>\n",
       "</li>\n",
       "\t<li><ol class=list-inline>\n",
       "\t<li>0.953217678514798</li>\n",
       "\t<li>2.0435327740766</li>\n",
       "\t<li>-0.0755545926032994</li>\n",
       "\t<li>-0.478278312207795</li>\n",
       "\t<li>1.91308407596702</li>\n",
       "</ol>\n",
       "</li>\n",
       "\t<li><ol class=list-inline>\n",
       "\t<li>2.28035458195362</li>\n",
       "\t<li>1.90322053492935</li>\n",
       "\t<li>0.327200127159254</li>\n",
       "\t<li>3.47761573404564</li>\n",
       "\t<li>3.08205789432621</li>\n",
       "</ol>\n",
       "</li>\n",
       "\t<li><ol class=list-inline>\n",
       "\t<li>3.19364226757917</li>\n",
       "\t<li>3.21564490879169</li>\n",
       "\t<li>3.41157156692459</li>\n",
       "\t<li>4.71902770391053</li>\n",
       "\t<li>3.6664389763745</li>\n",
       "</ol>\n",
       "</li>\n",
       "</ol>\n"
      ],
      "text/latex": [
       "\\begin{enumerate}\n",
       "\\item \\begin{enumerate*}\n",
       "\\item -4.08732497878354\n",
       "\\item -4.16472610862951\n",
       "\\item -2.40570272710776\n",
       "\\item -3.56993678384279\n",
       "\\item -2.40353094428696\n",
       "\\end{enumerate*}\n",
       "\n",
       "\\item \\begin{enumerate*}\n",
       "\\item -2.60735525689927\n",
       "\\item -0.404603946939155\n",
       "\\item -0.283525089836465\n",
       "\\item -2.299566149981\n",
       "\\item -1.12806942724872\n",
       "\\end{enumerate*}\n",
       "\n",
       "\\item \\begin{enumerate*}\n",
       "\\item -1.98435972741952\n",
       "\\item 0.792514524236356\n",
       "\\item 1.51043255386093\n",
       "\\item -0.960592524145824\n",
       "\\item -0.45415366274934\n",
       "\\end{enumerate*}\n",
       "\n",
       "\\item \\begin{enumerate*}\n",
       "\\item 0.899680190110367\n",
       "\\item -1.76448419100275\n",
       "\\item 0.820671712013567\n",
       "\\item 0.381022056698316\n",
       "\\item 0.646163255428656\n",
       "\\end{enumerate*}\n",
       "\n",
       "\\item \\begin{enumerate*}\n",
       "\\item 0.953217678514798\n",
       "\\item 2.0435327740766\n",
       "\\item -0.0755545926032994\n",
       "\\item -0.478278312207795\n",
       "\\item 1.91308407596702\n",
       "\\end{enumerate*}\n",
       "\n",
       "\\item \\begin{enumerate*}\n",
       "\\item 2.28035458195362\n",
       "\\item 1.90322053492935\n",
       "\\item 0.327200127159254\n",
       "\\item 3.47761573404564\n",
       "\\item 3.08205789432621\n",
       "\\end{enumerate*}\n",
       "\n",
       "\\item \\begin{enumerate*}\n",
       "\\item 3.19364226757917\n",
       "\\item 3.21564490879169\n",
       "\\item 3.41157156692459\n",
       "\\item 4.71902770391053\n",
       "\\item 3.6664389763745\n",
       "\\end{enumerate*}\n",
       "\n",
       "\\end{enumerate}\n"
      ],
      "text/markdown": [
       "1. 1. -4.08732497878354\n",
       "2. -4.16472610862951\n",
       "3. -2.40570272710776\n",
       "4. -3.56993678384279\n",
       "5. -2.40353094428696\n",
       "\n",
       "\n",
       "\n",
       "2. 1. -2.60735525689927\n",
       "2. -0.404603946939155\n",
       "3. -0.283525089836465\n",
       "4. -2.299566149981\n",
       "5. -1.12806942724872\n",
       "\n",
       "\n",
       "\n",
       "3. 1. -1.98435972741952\n",
       "2. 0.792514524236356\n",
       "3. 1.51043255386093\n",
       "4. -0.960592524145824\n",
       "5. -0.45415366274934\n",
       "\n",
       "\n",
       "\n",
       "4. 1. 0.899680190110367\n",
       "2. -1.76448419100275\n",
       "3. 0.820671712013567\n",
       "4. 0.381022056698316\n",
       "5. 0.646163255428656\n",
       "\n",
       "\n",
       "\n",
       "5. 1. 0.953217678514798\n",
       "2. 2.0435327740766\n",
       "3. -0.0755545926032994\n",
       "4. -0.478278312207795\n",
       "5. 1.91308407596702\n",
       "\n",
       "\n",
       "\n",
       "6. 1. 2.28035458195362\n",
       "2. 1.90322053492935\n",
       "3. 0.327200127159254\n",
       "4. 3.47761573404564\n",
       "5. 3.08205789432621\n",
       "\n",
       "\n",
       "\n",
       "7. 1. 3.19364226757917\n",
       "2. 3.21564490879169\n",
       "3. 3.41157156692459\n",
       "4. 4.71902770391053\n",
       "5. 3.6664389763745\n",
       "\n",
       "\n",
       "\n",
       "\n",
       "\n"
      ],
      "text/plain": [
       "[[1]]\n",
       "[1] -4.087325 -4.164726 -2.405703 -3.569937 -2.403531\n",
       "\n",
       "[[2]]\n",
       "[1] -2.6073553 -0.4046039 -0.2835251 -2.2995661 -1.1280694\n",
       "\n",
       "[[3]]\n",
       "[1] -1.9843597  0.7925145  1.5104326 -0.9605925 -0.4541537\n",
       "\n",
       "[[4]]\n",
       "[1]  0.8996802 -1.7644842  0.8206717  0.3810221  0.6461633\n",
       "\n",
       "[[5]]\n",
       "[1]  0.95321768  2.04353277 -0.07555459 -0.47827831  1.91308408\n",
       "\n",
       "[[6]]\n",
       "[1] 2.2803546 1.9032205 0.3272001 3.4776157 3.0820579\n",
       "\n",
       "[[7]]\n",
       "[1] 3.193642 3.215645 3.411572 4.719028 3.666439\n"
      ]
     },
     "metadata": {},
     "output_type": "display_data"
    }
   ],
   "source": [
    "map(-3:3, rnorm, n = 5)"
   ]
  },
  {
   "cell_type": "raw",
   "metadata": {},
   "source": [
    "This expression takes samples of size five from five normal distributions, with means of (-3, -2, -1, 0, 1, 2, and 3), but the same standard deviation (1). It returns a list with each element a numeric vectors of length 5.\n",
    "\n",
    "However, if instead, we use map_dbl(), the expression raises an error.\n",
    "\n",
    "NN\n",
    "error from map_dbl because its returning a list"
   ]
  },
  {
   "cell_type": "code",
   "execution_count": 196,
   "metadata": {},
   "outputs": [
    {
     "ename": "ERROR",
     "evalue": "Result 1 must be a single double, not a double vector of length 5",
     "output_type": "error",
     "traceback": [
      "Result 1 must be a single double, not a double vector of length 5Traceback:\n",
      "1. map_dbl(-3:3, rnorm, n = 5)",
      "2. purrr:::stop_bad_element_vector(c(-2.53689781042618, -3.16822367935536, \n . -4.66948290582429, -3.81461059249666, -2.73603254814605), 1, \n .     numeric(0), 1, what = \"Result\", arg = NULL, recycle = FALSE)",
      "3. stop_bad_vector(x, expected_ptype, expected_length, what = what, \n .     arg = arg, index = index, ..., recycle = recycle, message = message, \n .     .subclass = c(.subclass, \"purrr_error_bad_element_vector\"))",
      "4. stop_bad_type(x, expected, actual = actual, what = what, arg = arg, \n .     recycle = recycle, message = message, .subclass = c(.subclass, \n .         \"purrr_error_bad_vector\"))",
      "5. abort(message, x = x, expected = expected, actual = actual, what = what, \n .     arg = arg, ..., .subclass = c(.subclass, \"purrr_error_bad_type\"))"
     ]
    }
   ],
   "source": [
    "map_dbl(-3:3, rnorm, n = 5)"
   ]
  },
  {
   "cell_type": "raw",
   "metadata": {},
   "source": [
    "******\n",
    "if list or vecgor of length >1 , map then flatten_dbl or flatten_chr\n",
    "\n",
    "This is because the map_dbl() function requires the function it applies to each element to return a numeric vector of length one. If the function returns either a non-numeric vector or a numeric vector with a length greater than one, map_dbl() will raise an error. The reason for this strictness is that map_dbl() guarantees that it will return a numeric vector of the same length as its input vector.\n",
    "\n",
    "This concept applies to the other map_*() functions. The function map_chr() requires that the function always return a character vector of length one; map_int() requires that the function always return an integer vector of length one; map_lgl() requires that the function always return an logical vector of length one. Use the map() function if the function will return values of varying types or lengths.\n",
    "\n",
    "If we wanted a numeric vector, we could use map() followed by flatten_dbl(),"
   ]
  },
  {
   "cell_type": "code",
   "execution_count": 197,
   "metadata": {},
   "outputs": [
    {
     "data": {
      "text/html": [
       "<ol class=list-inline>\n",
       "\t<li>-1.24457593812773</li>\n",
       "\t<li>-1.98041308919195</li>\n",
       "\t<li>-1.79850901001097</li>\n",
       "\t<li>-3.41333437565905</li>\n",
       "\t<li>-1.79520492645276</li>\n",
       "\t<li>0.700104905966263</li>\n",
       "\t<li>-0.553341854595112</li>\n",
       "\t<li>-1.93300813146445</li>\n",
       "\t<li>-0.900275799760515</li>\n",
       "\t<li>0.681798296844992</li>\n",
       "\t<li>0.284480434184331</li>\n",
       "\t<li>-0.675602010040092</li>\n",
       "\t<li>-0.611863654489549</li>\n",
       "\t<li>-0.530726867540363</li>\n",
       "\t<li>-0.00740548952460127</li>\n",
       "\t<li>2.22691451945891</li>\n",
       "\t<li>0.225830467967473</li>\n",
       "\t<li>1.6813184019343</li>\n",
       "\t<li>-0.203942848467009</li>\n",
       "\t<li>1.0313864031056</li>\n",
       "\t<li>2.92957150897827</li>\n",
       "\t<li>1.99710679195852</li>\n",
       "\t<li>1.33915246399678</li>\n",
       "\t<li>2.69406907819105</li>\n",
       "\t<li>2.74232897234248</li>\n",
       "</ol>\n"
      ],
      "text/latex": [
       "\\begin{enumerate*}\n",
       "\\item -1.24457593812773\n",
       "\\item -1.98041308919195\n",
       "\\item -1.79850901001097\n",
       "\\item -3.41333437565905\n",
       "\\item -1.79520492645276\n",
       "\\item 0.700104905966263\n",
       "\\item -0.553341854595112\n",
       "\\item -1.93300813146445\n",
       "\\item -0.900275799760515\n",
       "\\item 0.681798296844992\n",
       "\\item 0.284480434184331\n",
       "\\item -0.675602010040092\n",
       "\\item -0.611863654489549\n",
       "\\item -0.530726867540363\n",
       "\\item -0.00740548952460127\n",
       "\\item 2.22691451945891\n",
       "\\item 0.225830467967473\n",
       "\\item 1.6813184019343\n",
       "\\item -0.203942848467009\n",
       "\\item 1.0313864031056\n",
       "\\item 2.92957150897827\n",
       "\\item 1.99710679195852\n",
       "\\item 1.33915246399678\n",
       "\\item 2.69406907819105\n",
       "\\item 2.74232897234248\n",
       "\\end{enumerate*}\n"
      ],
      "text/markdown": [
       "1. -1.24457593812773\n",
       "2. -1.98041308919195\n",
       "3. -1.79850901001097\n",
       "4. -3.41333437565905\n",
       "5. -1.79520492645276\n",
       "6. 0.700104905966263\n",
       "7. -0.553341854595112\n",
       "8. -1.93300813146445\n",
       "9. -0.900275799760515\n",
       "10. 0.681798296844992\n",
       "11. 0.284480434184331\n",
       "12. -0.675602010040092\n",
       "13. -0.611863654489549\n",
       "14. -0.530726867540363\n",
       "15. -0.00740548952460127\n",
       "16. 2.22691451945891\n",
       "17. 0.225830467967473\n",
       "18. 1.6813184019343\n",
       "19. -0.203942848467009\n",
       "20. 1.0313864031056\n",
       "21. 2.92957150897827\n",
       "22. 1.99710679195852\n",
       "23. 1.33915246399678\n",
       "24. 2.69406907819105\n",
       "25. 2.74232897234248\n",
       "\n",
       "\n"
      ],
      "text/plain": [
       " [1] -1.24457594 -1.98041309 -1.79850901 -3.41333438 -1.79520493  0.70010491\n",
       " [7] -0.55334185 -1.93300813 -0.90027580  0.68179830  0.28448043 -0.67560201\n",
       "[13] -0.61186365 -0.53072687 -0.00740549  2.22691452  0.22583047  1.68131840\n",
       "[19] -0.20394285  1.03138640  2.92957151  1.99710679  1.33915246  2.69406908\n",
       "[25]  2.74232897"
      ]
     },
     "metadata": {},
     "output_type": "display_data"
    }
   ],
   "source": [
    "flatten_dbl(map(-2:2, rnorm, n = 5))"
   ]
  },
  {
   "cell_type": "raw",
   "metadata": {},
   "source": [
    "Q5. Rewrite map(x, function(df) lm(mpg ~ wt, data = df)) to eliminate the anonymous function."
   ]
  },
  {
   "cell_type": "raw",
   "metadata": {},
   "source": [
    "This code in this question does not run, so I will use the following code.\n",
    "\n",
    "****cool code"
   ]
  },
  {
   "cell_type": "code",
   "execution_count": 198,
   "metadata": {},
   "outputs": [
    {
     "data": {
      "text/plain": [
       "$`4`\n",
       "\n",
       "Call:\n",
       "lm(formula = mpg ~ wt, data = df)\n",
       "\n",
       "Coefficients:\n",
       "(Intercept)           wt  \n",
       "     39.571       -5.647  \n",
       "\n",
       "\n",
       "$`6`\n",
       "\n",
       "Call:\n",
       "lm(formula = mpg ~ wt, data = df)\n",
       "\n",
       "Coefficients:\n",
       "(Intercept)           wt  \n",
       "      28.41        -2.78  \n",
       "\n",
       "\n",
       "$`8`\n",
       "\n",
       "Call:\n",
       "lm(formula = mpg ~ wt, data = df)\n",
       "\n",
       "Coefficients:\n",
       "(Intercept)           wt  \n",
       "     23.868       -2.192  \n",
       "\n"
      ]
     },
     "metadata": {},
     "output_type": "display_data"
    }
   ],
   "source": [
    "x <- split(mtcars, mtcars$cyl)\n",
    "map(x, function(df) lm(mpg ~ wt, data = df))"
   ]
  },
  {
   "cell_type": "raw",
   "metadata": {},
   "source": [
    "We can eliminate the use of an anonymous function using the ~ shortcut."
   ]
  },
  {
   "cell_type": "code",
   "execution_count": 199,
   "metadata": {},
   "outputs": [
    {
     "data": {
      "text/plain": [
       "$`4`\n",
       "\n",
       "Call:\n",
       "lm(formula = mpg ~ wt, data = .)\n",
       "\n",
       "Coefficients:\n",
       "(Intercept)           wt  \n",
       "     39.571       -5.647  \n",
       "\n",
       "\n",
       "$`6`\n",
       "\n",
       "Call:\n",
       "lm(formula = mpg ~ wt, data = .)\n",
       "\n",
       "Coefficients:\n",
       "(Intercept)           wt  \n",
       "      28.41        -2.78  \n",
       "\n",
       "\n",
       "$`8`\n",
       "\n",
       "Call:\n",
       "lm(formula = mpg ~ wt, data = .)\n",
       "\n",
       "Coefficients:\n",
       "(Intercept)           wt  \n",
       "     23.868       -2.192  \n",
       "\n"
      ]
     },
     "metadata": {},
     "output_type": "display_data"
    }
   ],
   "source": [
    "map(x, ~ lm(mpg ~ wt, data = .))"
   ]
  },
  {
   "cell_type": "raw",
   "metadata": {},
   "source": [
    "Though not the intent of this question, the other way to eliminate anonymous function is to create a named one."
   ]
  },
  {
   "cell_type": "code",
   "execution_count": 200,
   "metadata": {},
   "outputs": [
    {
     "data": {
      "text/plain": [
       "$`4`\n",
       "\n",
       "Call:\n",
       "lm(formula = mpg ~ wt, data = df)\n",
       "\n",
       "Coefficients:\n",
       "(Intercept)           wt  \n",
       "     39.571       -5.647  \n",
       "\n",
       "\n",
       "$`6`\n",
       "\n",
       "Call:\n",
       "lm(formula = mpg ~ wt, data = df)\n",
       "\n",
       "Coefficients:\n",
       "(Intercept)           wt  \n",
       "      28.41        -2.78  \n",
       "\n",
       "\n",
       "$`8`\n",
       "\n",
       "Call:\n",
       "lm(formula = mpg ~ wt, data = df)\n",
       "\n",
       "Coefficients:\n",
       "(Intercept)           wt  \n",
       "     23.868       -2.192  \n",
       "\n"
      ]
     },
     "metadata": {},
     "output_type": "display_data"
    }
   ],
   "source": [
    "run_reg <- function(df) {\n",
    "  lm(mpg ~ wt, data = df)\n",
    "}\n",
    "map(x, run_reg)"
   ]
  },
  {
   "cell_type": "raw",
   "metadata": {},
   "source": [
    "21.6 Dealing with failure"
   ]
  },
  {
   "cell_type": "raw",
   "metadata": {},
   "source": [
    "When you use the map functions to repeat many operations, the chances are much higher that one of those operations will fail. When this happens, you’ll get an error message, and no output. This is annoying: why does one failure prevent you from accessing all the other successes? How do you ensure that one bad apple doesn’t ruin the whole barrel?\n",
    "\n",
    "In this section you’ll learn how to deal this situation with a new function: safely(). safely() is an adverb: it takes a function (a verb) and returns a modified version. In this case, the modified function will never throw an error. Instead, it always returns a list with two elements:\n",
    "\n",
    "1.    result is the original result. If there was an error, this will be NULL.\n",
    "\n",
    "2.    error is an error object. If the operation was successful, this will be NULL.\n",
    "\n",
    "(You might be familiar with the try() function in base R. It’s similar, but because it sometimes returns the original result and it sometimes returns an error object it’s more difficult to work with.)\n",
    "\n",
    "Let’s illustrate this with a simple example: log():\n",
    "\n",
    "[NN\n",
    "****** \n",
    "safely\n",
    "put the function inside safely and assign to a variable and then call the variable instead of the function\n",
    "returns answer if ok and error NULL if ok\n",
    "returns answer NULL if not ok and error msg if not ok]"
   ]
  },
  {
   "cell_type": "code",
   "execution_count": 201,
   "metadata": {},
   "outputs": [
    {
     "name": "stdout",
     "output_type": "stream",
     "text": [
      "List of 2\n",
      " $ result: num 2.3\n",
      " $ error : NULL\n",
      "List of 2\n",
      " $ result: NULL\n",
      " $ error :List of 2\n",
      "  ..$ message: chr \"non-numeric argument to mathematical function\"\n",
      "  ..$ call   : language .Primitive(\"log\")(x, base)\n",
      "  ..- attr(*, \"class\")= chr [1:3] \"simpleError\" \"error\" \"condition\"\n"
     ]
    }
   ],
   "source": [
    "safe_log <- safely(log)\n",
    "str(safe_log(10))\n",
    "str(safe_log(\"a\"))"
   ]
  },
  {
   "cell_type": "raw",
   "metadata": {},
   "source": [
    "When the function succeeds, the result element contains the result and the error element is NULL. When the function fails, the result element is NULL and the error element contains an error object.\n",
    "\n",
    "safely() is designed to work with map:\n",
    "*(******** safely with map"
   ]
  },
  {
   "cell_type": "code",
   "execution_count": 210,
   "metadata": {},
   "outputs": [
    {
     "name": "stdout",
     "output_type": "stream",
     "text": [
      "List of 3\n",
      " $ :List of 2\n",
      "  ..$ result: num 0\n",
      "  ..$ error : NULL\n",
      " $ :List of 2\n",
      "  ..$ result: num 2.3\n",
      "  ..$ error : NULL\n",
      " $ :List of 2\n",
      "  ..$ result: NULL\n",
      "  ..$ error :List of 2\n",
      "  .. ..$ message: chr \"non-numeric argument to mathematical function\"\n",
      "  .. ..$ call   : language .Primitive(\"log\")(x, base)\n",
      "  .. ..- attr(*, \"class\")= chr [1:3] \"simpleError\" \"error\" \"condition\"\n"
     ]
    }
   ],
   "source": [
    "x <- list(1, 10, \"a\")\n",
    "y <- x %>% map(safely(log))\n",
    "str(y)"
   ]
  },
  {
   "cell_type": "raw",
   "metadata": {},
   "source": [
    "This would be easier to work with if we had two lists: one of all the errors and one of all the output. That’s easy to get with purrr::transpose():\n",
    "\n",
    "NN\n",
    "transpose\n",
    "cool!! wonder what else can use this onb\n",
    "*******"
   ]
  },
  {
   "cell_type": "code",
   "execution_count": 211,
   "metadata": {},
   "outputs": [
    {
     "name": "stdout",
     "output_type": "stream",
     "text": [
      "List of 2\n",
      " $ result:List of 3\n",
      "  ..$ : num 0\n",
      "  ..$ : num 2.3\n",
      "  ..$ : NULL\n",
      " $ error :List of 3\n",
      "  ..$ : NULL\n",
      "  ..$ : NULL\n",
      "  ..$ :List of 2\n",
      "  .. ..$ message: chr \"non-numeric argument to mathematical function\"\n",
      "  .. ..$ call   : language .Primitive(\"log\")(x, base)\n",
      "  .. ..- attr(*, \"class\")= chr [1:3] \"simpleError\" \"error\" \"condition\"\n"
     ]
    }
   ],
   "source": [
    "y <- y %>% transpose()\n",
    "str(y)\n"
   ]
  },
  {
   "cell_type": "raw",
   "metadata": {},
   "source": [
    "It’s up to you how to deal with the errors, but typically you’ll either look at the values of x where y is an error, or work with the values of y that are ok:\n",
    "NN\n",
    "extract the good stuff\n",
    "*******"
   ]
  },
  {
   "cell_type": "code",
   "execution_count": 212,
   "metadata": {},
   "outputs": [
    {
     "data": {
      "text/html": [
       "<ol>\n",
       "\t<li>'a'</li>\n",
       "</ol>\n"
      ],
      "text/latex": [
       "\\begin{enumerate}\n",
       "\\item 'a'\n",
       "\\end{enumerate}\n"
      ],
      "text/markdown": [
       "1. 'a'\n",
       "\n",
       "\n"
      ],
      "text/plain": [
       "[[1]]\n",
       "[1] \"a\"\n"
      ]
     },
     "metadata": {},
     "output_type": "display_data"
    },
    {
     "data": {
      "text/html": [
       "<ol class=list-inline>\n",
       "\t<li>0</li>\n",
       "\t<li>2.30258509299405</li>\n",
       "</ol>\n"
      ],
      "text/latex": [
       "\\begin{enumerate*}\n",
       "\\item 0\n",
       "\\item 2.30258509299405\n",
       "\\end{enumerate*}\n"
      ],
      "text/markdown": [
       "1. 0\n",
       "2. 2.30258509299405\n",
       "\n",
       "\n"
      ],
      "text/plain": [
       "[1] 0.000000 2.302585"
      ]
     },
     "metadata": {},
     "output_type": "display_data"
    }
   ],
   "source": [
    "is_ok <- y$error %>% map_lgl(is_null)\n",
    "x[!is_ok]\n",
    "y$result[is_ok] %>% flatten_dbl()"
   ]
  },
  {
   "cell_type": "raw",
   "metadata": {},
   "source": [
    "Purrr provides two other useful adverbs:\n",
    "\n",
    "*   Like safely(), possibly() always succeeds. It’s simpler than safely(), because you give it a default value to return when there is an error.\n",
    "\n",
    "NN\n",
    "possibly()\n",
    "quietly()\n",
    "******"
   ]
  },
  {
   "cell_type": "code",
   "execution_count": 215,
   "metadata": {},
   "outputs": [
    {
     "data": {
      "text/html": [
       "<ol class=list-inline>\n",
       "\t<li>0</li>\n",
       "\t<li>2.30258509299405</li>\n",
       "\t<li>&lt;NA&gt;</li>\n",
       "</ol>\n"
      ],
      "text/latex": [
       "\\begin{enumerate*}\n",
       "\\item 0\n",
       "\\item 2.30258509299405\n",
       "\\item <NA>\n",
       "\\end{enumerate*}\n"
      ],
      "text/markdown": [
       "1. 0\n",
       "2. 2.30258509299405\n",
       "3. &lt;NA&gt;\n",
       "\n",
       "\n"
      ],
      "text/plain": [
       "[1] 0.000000 2.302585       NA"
      ]
     },
     "metadata": {},
     "output_type": "display_data"
    }
   ],
   "source": [
    "x <- list(1, 10, \"a\")\n",
    "x %>% map_dbl(possibly(log, NA_real_))"
   ]
  },
  {
   "cell_type": "raw",
   "metadata": {},
   "source": [
    "*   quietly() performs a similar role to safely(), but instead of capturing errors, it captures printed output, messages, and warnings:"
   ]
  },
  {
   "cell_type": "code",
   "execution_count": 216,
   "metadata": {},
   "outputs": [
    {
     "name": "stdout",
     "output_type": "stream",
     "text": [
      "List of 2\n",
      " $ :List of 4\n",
      "  ..$ result  : num 0\n",
      "  ..$ output  : chr \"\"\n",
      "  ..$ warnings: chr(0) \n",
      "  ..$ messages: chr(0) \n",
      " $ :List of 4\n",
      "  ..$ result  : num NaN\n",
      "  ..$ output  : chr \"\"\n",
      "  ..$ warnings: chr \"NaNs produced\"\n",
      "  ..$ messages: chr(0) \n"
     ]
    }
   ],
   "source": [
    "x <- list(1, -1)\n",
    "x %>% map(quietly(log)) %>% str()"
   ]
  },
  {
   "cell_type": "raw",
   "metadata": {},
   "source": [
    "21.7 Mapping over multiple arguments"
   ]
  },
  {
   "cell_type": "raw",
   "metadata": {},
   "source": [
    "So far we’ve mapped along a single input. But often you have multiple related inputs that you need iterate along in parallel. That’s the job of the map2() and pmap() functions. For example, imagine you want to simulate some random normals with different means. You know how to do that with map():"
   ]
  },
  {
   "cell_type": "code",
   "execution_count": 217,
   "metadata": {},
   "outputs": [
    {
     "name": "stdout",
     "output_type": "stream",
     "text": [
      "List of 3\n",
      " $ : num [1:5] 4.79 4.3 2.7 4.51 3.67\n",
      " $ : num [1:5] 11.13 12.09 9.01 9.54 9.27\n",
      " $ : num [1:5] -2.27 -2.8 -5.04 -2.27 -4.36\n"
     ]
    }
   ],
   "source": [
    "mu <- list(5, 10, -3)\n",
    "mu %>% \n",
    "  map(rnorm, n = 5) %>% \n",
    "  str()"
   ]
  },
  {
   "cell_type": "raw",
   "metadata": {},
   "source": [
    "What if you also want to vary the standard deviation? One way to do that would be to iterate over the indices and index into vectors of means and sds:\n",
    "NN\n",
    "2 variables iin map\n",
    "****"
   ]
  },
  {
   "cell_type": "code",
   "execution_count": 219,
   "metadata": {},
   "outputs": [
    {
     "name": "stdout",
     "output_type": "stream",
     "text": [
      "List of 3\n",
      " $ : num [1:5] 2.92 4.72 5.83 4.12 4.05\n",
      " $ : num [1:5] 7.01 12.37 8.3 12.94 0.89\n",
      " $ : num [1:5] -9.288 -5.721 -13.687 -0.928 -0.798\n"
     ]
    }
   ],
   "source": [
    "mu <- list(5, 10, -3)\n",
    "sigma <- list(1, 5, 10)\n",
    "seq_along(mu) %>% \n",
    "  map(~rnorm(5, mu[[.]], sigma[[.]])) %>% \n",
    "  str()"
   ]
  },
  {
   "cell_type": "raw",
   "metadata": {},
   "source": [
    "But that obfuscates the intent of the code. Instead we could use map2() which iterates over two vectors in parallel:\n",
    "\n",
    "NN\n",
    "map2\n",
    "cleaner\n",
    "*******"
   ]
  },
  {
   "cell_type": "code",
   "execution_count": null,
   "metadata": {},
   "outputs": [],
   "source": [
    "map2(mu, sigma, rnorm, n = 5) %>% str()"
   ]
  },
  {
   "cell_type": "raw",
   "metadata": {},
   "source": [
    "map2() generates this series of function calls:"
   ]
  },
  {
   "attachments": {
    "lists-map2.png": {
     "image/png": "[encoded data removed]"
    }
   },
   "cell_type": "markdown",
   "metadata": {},
   "source": [
    "![lists-map2.png](attachment:lists-map2.png)"
   ]
  },
  {
   "cell_type": "raw",
   "metadata": {},
   "source": [
    "******Note that the arguments that vary for each call come before the function; arguments that are the same for every call come after.\n",
    "****\n",
    "Like map(), map2() is just a wrapper around a for loop:"
   ]
  },
  {
   "cell_type": "code",
   "execution_count": 220,
   "metadata": {},
   "outputs": [],
   "source": [
    "map2 <- function(x, y, f, ...) {\n",
    "  out <- vector(\"list\", length(x))\n",
    "  for (i in seq_along(x)) {\n",
    "    out[[i]] <- f(x[[i]], y[[i]], ...)\n",
    "  }\n",
    "  out\n",
    "}"
   ]
  },
  {
   "cell_type": "raw",
   "metadata": {},
   "source": [
    "You could also imagine map3(), map4(), map5(), map6() etc, but that would get tedious quickly. Instead, purrr provides pmap() which takes a list of arguments. You might use that if you wanted to vary the mean, standard deviation, and number of samples:\n",
    "\n",
    "NN\n",
    "pmap\n",
    "******"
   ]
  },
  {
   "cell_type": "code",
   "execution_count": null,
   "metadata": {},
   "outputs": [],
   "source": [
    "n <- list(1, 3, 5)\n",
    "args1 <- list(n, mu, sigma)\n",
    "args1 %>%\n",
    "  pmap(rnorm) %>% \n",
    "  str()"
   ]
  },
  {
   "cell_type": "raw",
   "metadata": {},
   "source": [
    "That looks like:"
   ]
  },
  {
   "attachments": {
    "lists-pmap-unnamed.png": {
     "image/png": "[encoded data removed]"
    }
   },
   "cell_type": "markdown",
   "metadata": {},
   "source": [
    "![lists-pmap-unnamed.png](attachment:lists-pmap-unnamed.png)"
   ]
  },
  {
   "cell_type": "raw",
   "metadata": {},
   "source": [
    "If you don’t name the elements of list, pmap() will use positional matching when calling the function. That’s a little fragile, and makes the code harder to read, so it’s better to name the arguments:\n",
    "\n",
    "NN\n",
    "name args pls\n",
    "*******"
   ]
  },
  {
   "cell_type": "code",
   "execution_count": null,
   "metadata": {},
   "outputs": [],
   "source": [
    "args2 <- list(mean = mu, sd = sigma, n = n)\n",
    "args2 %>% \n",
    "  pmap(rnorm) %>% \n",
    "  str()"
   ]
  },
  {
   "cell_type": "raw",
   "metadata": {},
   "source": [
    "That generates longer, but safer, calls:"
   ]
  },
  {
   "attachments": {
    "lists-pmap-named.png": {
     "image/png": "[encoded data removed]"
    }
   },
   "cell_type": "markdown",
   "metadata": {},
   "source": [
    "![lists-pmap-named.png](attachment:lists-pmap-named.png)"
   ]
  },
  {
   "cell_type": "raw",
   "metadata": {},
   "source": [
    "Since the arguments are all the same length, it makes sense to store them in a data frame:\n",
    "NN\n",
    "use df pls\n",
    "*******"
   ]
  },
  {
   "cell_type": "code",
   "execution_count": null,
   "metadata": {},
   "outputs": [],
   "source": [
    "params <- tribble(\n",
    "  ~mean, ~sd, ~n,\n",
    "    5,     1,  1,\n",
    "   10,     5,  3,\n",
    "   -3,    10,  5\n",
    ")\n",
    "params %>% \n",
    "  pmap(rnorm)"
   ]
  },
  {
   "cell_type": "raw",
   "metadata": {},
   "source": [
    "As soon as your code gets complicated, I think a data frame is a good approach because it ensures that each column has a name and is the same length as all the other columns."
   ]
  },
  {
   "cell_type": "raw",
   "metadata": {},
   "source": [
    "21.7.1 Invoking different functions"
   ]
  },
  {
   "cell_type": "raw",
   "metadata": {},
   "source": [
    "There’s one more step up in complexity - as well as varying the arguments to the function you might also vary the function itself:\n",
    "\n",
    "NN\n",
    "vary 1 input map\n",
    "vary 2 inputs map2\n",
    "vary multiple inputs pmap\n",
    "put those inputs in df pmap\n",
    "vary func\n",
    "    here the params recylce if not long enuf <- not happening here !\n",
    "put those in a df\n",
    "**********"
   ]
  },
  {
   "cell_type": "code",
   "execution_count": 227,
   "metadata": {},
   "outputs": [],
   "source": [
    "f <- c(\"runif\", \"rnorm\", \"rpois\")\n",
    "param <- list(\n",
    "  list(min = -1, max = 1), \n",
    "  list(sd = 5), \n",
    "  list(lambda = 10)\n",
    ")"
   ]
  },
  {
   "cell_type": "raw",
   "metadata": {},
   "source": [
    "To handle this case, you can use invoke_map():"
   ]
  },
  {
   "cell_type": "code",
   "execution_count": 228,
   "metadata": {},
   "outputs": [
    {
     "name": "stdout",
     "output_type": "stream",
     "text": [
      "List of 3\n",
      " $ : num [1:5] -0.02488 -0.00825 0.16138 0.65859 -0.92968\n",
      " $ : num [1:5] 4.026 0.944 -2.367 -0.774 1.403\n",
      " $ : int [1:5] 12 14 11 10 12\n"
     ]
    }
   ],
   "source": [
    "invoke_map(f, param, n = 5) %>% str()"
   ]
  },
  {
   "attachments": {
    "lists-invoke-2.png": {
     "image/png": "[encoded data removed]"
    }
   },
   "cell_type": "markdown",
   "metadata": {},
   "source": [
    "![lists-invoke-2.png](attachment:lists-invoke-2.png)"
   ]
  },
  {
   "cell_type": "raw",
   "metadata": {},
   "source": [
    "The first argument is a list of functions or character vector of function names. The second argument is a list of lists giving the arguments that vary for each function. The subsequent arguments are passed on to every function.\n",
    "\n",
    "And again, you can use tribble() to make creating these matching pairs a little easier:"
   ]
  },
  {
   "cell_type": "code",
   "execution_count": 229,
   "metadata": {},
   "outputs": [
    {
     "data": {
      "text/html": [
       "<table>\n",
       "<thead><tr><th scope=col>f</th><th scope=col>params</th></tr></thead>\n",
       "<tbody>\n",
       "\t<tr><td>runif</td><td>-1, 1</td></tr>\n",
       "\t<tr><td>rnorm</td><td>5    </td></tr>\n",
       "\t<tr><td>rpois</td><td>10   </td></tr>\n",
       "</tbody>\n",
       "</table>\n"
      ],
      "text/latex": [
       "\\begin{tabular}{r|ll}\n",
       " f & params\\\\\n",
       "\\hline\n",
       "\t runif & -1, 1\\\\\n",
       "\t rnorm & 5    \\\\\n",
       "\t rpois & 10   \\\\\n",
       "\\end{tabular}\n"
      ],
      "text/markdown": [
       "\n",
       "| f | params |\n",
       "|---|---|\n",
       "| runif | -1, 1 |\n",
       "| rnorm | 5     |\n",
       "| rpois | 10    |\n",
       "\n"
      ],
      "text/plain": [
       "  f     params\n",
       "1 runif -1, 1 \n",
       "2 rnorm 5     \n",
       "3 rpois 10    "
      ]
     },
     "metadata": {},
     "output_type": "display_data"
    },
    {
     "data": {
      "text/html": [
       "<table>\n",
       "<thead><tr><th scope=col>f</th><th scope=col>params</th><th scope=col>sim</th></tr></thead>\n",
       "<tbody>\n",
       "\t<tr><td>runif                                                                                                                         </td><td>-1, 1                                                                                                                         </td><td>-0.81220164, -0.28001047, -0.82171651, -0.88351396, -0.92440252, -0.44058450, 0.45182348, -0.18015649, 0.24284203, -0.06296939</td></tr>\n",
       "\t<tr><td>rnorm                                                                                                             </td><td>5                                                                                                                 </td><td>-1.1637516, -7.7498957, -6.4110040, 7.0708530, -4.0638899, -5.7401910, 0.9153298, 0.2218304, -2.0107916, 3.0336977</td></tr>\n",
       "\t<tr><td>rpois                           </td><td>10                              </td><td>7, 8, 11, 11, 9, 5, 8, 14, 17, 4</td></tr>\n",
       "</tbody>\n",
       "</table>\n"
      ],
      "text/latex": [
       "\\begin{tabular}{r|lll}\n",
       " f & params & sim\\\\\n",
       "\\hline\n",
       "\t runif                                                                                                                          & -1, 1                                                                                                                          & -0.81220164, -0.28001047, -0.82171651, -0.88351396, -0.92440252, -0.44058450, 0.45182348, -0.18015649, 0.24284203, -0.06296939\\\\\n",
       "\t rnorm                                                                                                              & 5                                                                                                                  & -1.1637516, -7.7498957, -6.4110040, 7.0708530, -4.0638899, -5.7401910, 0.9153298, 0.2218304, -2.0107916, 3.0336977\\\\\n",
       "\t rpois                            & 10                               & 7, 8, 11, 11, 9, 5, 8, 14, 17, 4\\\\\n",
       "\\end{tabular}\n"
      ],
      "text/markdown": [
       "\n",
       "| f | params | sim |\n",
       "|---|---|---|\n",
       "| runif                                                                                                                          | -1, 1                                                                                                                          | -0.81220164, -0.28001047, -0.82171651, -0.88351396, -0.92440252, -0.44058450, 0.45182348, -0.18015649, 0.24284203, -0.06296939 |\n",
       "| rnorm                                                                                                              | 5                                                                                                                  | -1.1637516, -7.7498957, -6.4110040, 7.0708530, -4.0638899, -5.7401910, 0.9153298, 0.2218304, -2.0107916, 3.0336977 |\n",
       "| rpois                            | 10                               | 7, 8, 11, 11, 9, 5, 8, 14, 17, 4 |\n",
       "\n"
      ],
      "text/plain": [
       "  f     params\n",
       "1 runif -1, 1 \n",
       "2 rnorm 5     \n",
       "3 rpois 10    \n",
       "  sim                                                                                                                           \n",
       "1 -0.81220164, -0.28001047, -0.82171651, -0.88351396, -0.92440252, -0.44058450, 0.45182348, -0.18015649, 0.24284203, -0.06296939\n",
       "2 -1.1637516, -7.7498957, -6.4110040, 7.0708530, -4.0638899, -5.7401910, 0.9153298, 0.2218304, -2.0107916, 3.0336977            \n",
       "3 7, 8, 11, 11, 9, 5, 8, 14, 17, 4                                                                                              "
      ]
     },
     "metadata": {},
     "output_type": "display_data"
    }
   ],
   "source": [
    "sim <- tribble(\n",
    "  ~f,      ~params,\n",
    "  \"runif\", list(min = -1, max = 1),\n",
    "  \"rnorm\", list(sd = 5),\n",
    "  \"rpois\", list(lambda = 10)\n",
    ")\n",
    "sim\n",
    "sim %>% \n",
    "  mutate(sim = invoke_map(f, params, n = 10))"
   ]
  },
  {
   "cell_type": "raw",
   "metadata": {},
   "source": [
    "21.8 Walk"
   ]
  },
  {
   "cell_type": "raw",
   "metadata": {},
   "source": [
    "Walk is an alternative to map that you use when you want to call a function for its side effects, rather than for its return value. You typically do this because you want to render output to the screen or save files to disk - the important thing is the action, not the return value. Here’s a very simple example:\n",
    "\n",
    "NN\n",
    "walk for its action = sideeffect not return values\n",
    "*******"
   ]
  },
  {
   "cell_type": "code",
   "execution_count": 231,
   "metadata": {},
   "outputs": [
    {
     "data": {
      "text/html": [
       "<ol>\n",
       "\t<li>1</li>\n",
       "\t<li>'a'</li>\n",
       "\t<li>3</li>\n",
       "</ol>\n"
      ],
      "text/latex": [
       "\\begin{enumerate}\n",
       "\\item 1\n",
       "\\item 'a'\n",
       "\\item 3\n",
       "\\end{enumerate}\n"
      ],
      "text/markdown": [
       "1. 1\n",
       "2. 'a'\n",
       "3. 3\n",
       "\n",
       "\n"
      ],
      "text/plain": [
       "[[1]]\n",
       "[1] 1\n",
       "\n",
       "[[2]]\n",
       "[1] \"a\"\n",
       "\n",
       "[[3]]\n",
       "[1] 3\n"
      ]
     },
     "metadata": {},
     "output_type": "display_data"
    },
    {
     "name": "stdout",
     "output_type": "stream",
     "text": [
      "[1] 1\n",
      "[1] \"a\"\n",
      "[1] 3\n"
     ]
    }
   ],
   "source": [
    "x <- list(1, \"a\", 3)\n",
    "x\n",
    "x %>% \n",
    "  walk(print)"
   ]
  },
  {
   "cell_type": "raw",
   "metadata": {},
   "source": [
    "walk() is generally not that useful compared to walk2() or pwalk(). For example, if you had a list of plots and a vector of file names, you could use pwalk() to save each file to the corresponding location on disk:\n",
    "\n",
    "\n",
    "NN\n",
    "shows use of map with pipe in ggplot\n",
    "shows saving plots\n",
    "ggsave function\n",
    "cool useful code\n",
    "*********"
   ]
  },
  {
   "cell_type": "code",
   "execution_count": 232,
   "metadata": {},
   "outputs": [
    {
     "name": "stderr",
     "output_type": "stream",
     "text": [
      "Saving 7 x 7 in image\n",
      "Saving 7 x 7 in image\n",
      "Saving 7 x 7 in image\n"
     ]
    }
   ],
   "source": [
    "library(ggplot2)\n",
    "plots <- mtcars %>% \n",
    "  split(.$cyl) %>% \n",
    "  map(~ggplot(., aes(mpg, wt)) + geom_point())\n",
    "paths <- stringr::str_c(names(plots), \".pdf\")\n",
    "\n",
    "pwalk(list(paths, plots), ggsave, path = tempdir())"
   ]
  },
  {
   "cell_type": "raw",
   "metadata": {},
   "source": [
    "walk(), walk2() and pwalk() all invisibly return .x, the first argument. This makes them suitable for use in the middle of pipelines.*******"
   ]
  },
  {
   "cell_type": "raw",
   "metadata": {},
   "source": [
    "21.9 Other patterns of for loops"
   ]
  },
  {
   "cell_type": "raw",
   "metadata": {},
   "source": [
    "Purrr provides a number of other functions that abstract over other types of for loops. You’ll use them less frequently than the map functions, but they’re useful to know about. The goal here is to briefly illustrate each function, so hopefully it will come to mind if you see a similar problem in the future. Then you can go look up the documentation for more details."
   ]
  },
  {
   "cell_type": "raw",
   "metadata": {},
   "source": [
    "21.9.1 Predicate functions"
   ]
  },
  {
   "cell_type": "raw",
   "metadata": {},
   "source": [
    "A number of functions work with predicate functions that return either a single TRUE or FALSE.\n",
    "\n",
    "keep() and discard() keep elements of the input where the predicate is TRUE or FALSE respectively:\n",
    "\n",
    "NN\n",
    "useful for manage df\n",
    "keep \n",
    "discrd\n",
    "******"
   ]
  },
  {
   "cell_type": "code",
   "execution_count": 233,
   "metadata": {},
   "outputs": [
    {
     "name": "stdout",
     "output_type": "stream",
     "text": [
      "'data.frame':\t150 obs. of  1 variable:\n",
      " $ Species: Factor w/ 3 levels \"setosa\",\"versicolor\",..: 1 1 1 1 1 1 1 1 1 1 ...\n",
      "'data.frame':\t150 obs. of  4 variables:\n",
      " $ Sepal.Length: num  5.1 4.9 4.7 4.6 5 5.4 4.6 5 4.4 4.9 ...\n",
      " $ Sepal.Width : num  3.5 3 3.2 3.1 3.6 3.9 3.4 3.4 2.9 3.1 ...\n",
      " $ Petal.Length: num  1.4 1.4 1.3 1.5 1.4 1.7 1.4 1.5 1.4 1.5 ...\n",
      " $ Petal.Width : num  0.2 0.2 0.2 0.2 0.2 0.4 0.3 0.2 0.2 0.1 ...\n"
     ]
    }
   ],
   "source": [
    "iris %>% \n",
    "  keep(is.factor) %>% \n",
    "  str()\n",
    "\n",
    "iris %>% \n",
    "  discard(is.factor) %>% \n",
    "  str()"
   ]
  },
  {
   "cell_type": "raw",
   "metadata": {},
   "source": [
    "some() and every() determine if the predicate is true for any or for all of the elements.\n",
    "\n",
    "******some every"
   ]
  },
  {
   "cell_type": "code",
   "execution_count": 235,
   "metadata": {},
   "outputs": [
    {
     "data": {
      "text/html": [
       "TRUE"
      ],
      "text/latex": [
       "TRUE"
      ],
      "text/markdown": [
       "TRUE"
      ],
      "text/plain": [
       "[1] TRUE"
      ]
     },
     "metadata": {},
     "output_type": "display_data"
    },
    {
     "data": {
      "text/html": [
       "TRUE"
      ],
      "text/latex": [
       "TRUE"
      ],
      "text/markdown": [
       "TRUE"
      ],
      "text/plain": [
       "[1] TRUE"
      ]
     },
     "metadata": {},
     "output_type": "display_data"
    }
   ],
   "source": [
    "x <- list(1:5, letters, list(10))\n",
    "\n",
    "x %>% \n",
    "  some(is_character)\n",
    "\n",
    "x %>% \n",
    "  every(is_vector)"
   ]
  },
  {
   "cell_type": "raw",
   "metadata": {},
   "source": [
    "detect() finds the first element where the predicate is true; detect_index() returns its position.\n",
    "\n",
    "\n",
    "NN\n",
    "detect\n",
    "detect_index\n",
    "******"
   ]
  },
  {
   "cell_type": "code",
   "execution_count": 236,
   "metadata": {},
   "outputs": [
    {
     "data": {
      "text/html": [
       "<ol class=list-inline>\n",
       "\t<li>6</li>\n",
       "\t<li>10</li>\n",
       "\t<li>2</li>\n",
       "\t<li>4</li>\n",
       "\t<li>8</li>\n",
       "\t<li>5</li>\n",
       "\t<li>7</li>\n",
       "\t<li>9</li>\n",
       "\t<li>1</li>\n",
       "\t<li>3</li>\n",
       "</ol>\n"
      ],
      "text/latex": [
       "\\begin{enumerate*}\n",
       "\\item 6\n",
       "\\item 10\n",
       "\\item 2\n",
       "\\item 4\n",
       "\\item 8\n",
       "\\item 5\n",
       "\\item 7\n",
       "\\item 9\n",
       "\\item 1\n",
       "\\item 3\n",
       "\\end{enumerate*}\n"
      ],
      "text/markdown": [
       "1. 6\n",
       "2. 10\n",
       "3. 2\n",
       "4. 4\n",
       "5. 8\n",
       "6. 5\n",
       "7. 7\n",
       "8. 9\n",
       "9. 1\n",
       "10. 3\n",
       "\n",
       "\n"
      ],
      "text/plain": [
       " [1]  6 10  2  4  8  5  7  9  1  3"
      ]
     },
     "metadata": {},
     "output_type": "display_data"
    },
    {
     "data": {
      "text/html": [
       "6"
      ],
      "text/latex": [
       "6"
      ],
      "text/markdown": [
       "6"
      ],
      "text/plain": [
       "[1] 6"
      ]
     },
     "metadata": {},
     "output_type": "display_data"
    },
    {
     "data": {
      "text/html": [
       "1"
      ],
      "text/latex": [
       "1"
      ],
      "text/markdown": [
       "1"
      ],
      "text/plain": [
       "[1] 1"
      ]
     },
     "metadata": {},
     "output_type": "display_data"
    }
   ],
   "source": [
    "x <- sample(10)\n",
    "x\n",
    "\n",
    "x %>% \n",
    "  detect(~ . > 5)\n",
    "\n",
    "x %>% \n",
    "  detect_index(~ . > 5)"
   ]
  },
  {
   "cell_type": "raw",
   "metadata": {},
   "source": [
    "head_while() and tail_while() take elements from the start or end of a vector while a predicate is true:\n",
    "\n",
    "head_while\n",
    "tail_while\n",
    "********"
   ]
  },
  {
   "cell_type": "code",
   "execution_count": null,
   "metadata": {},
   "outputs": [],
   "source": [
    "x %>% \n",
    "  head_while(~ . > 5)\n",
    "\n",
    "x %>% \n",
    "  tail_while(~ . > 5)"
   ]
  },
  {
   "cell_type": "raw",
   "metadata": {},
   "source": [
    "21.9.2 Reduce and accumulate"
   ]
  },
  {
   "cell_type": "raw",
   "metadata": {},
   "source": [
    "Sometimes you have a complex list that you want to reduce to a simple list by repeatedly applying a function that reduces a pair to a singleton. This is useful if you want to apply a two-table dplyr verb to multiple tables. For example, you might have a list of data frames, and you want to reduce to a single data frame by joining the elements together:\n",
    "\n",
    "\n",
    "alll tghese\n",
    "\\***********"
   ]
  },
  {
   "cell_type": "code",
   "execution_count": 237,
   "metadata": {},
   "outputs": [
    {
     "data": {
      "text/html": [
       "<dl>\n",
       "\t<dt>$age</dt>\n",
       "\t\t<dd><table>\n",
       "<thead><tr><th scope=col>name</th><th scope=col>age</th></tr></thead>\n",
       "<tbody>\n",
       "\t<tr><td>John</td><td>30  </td></tr>\n",
       "</tbody>\n",
       "</table>\n",
       "</dd>\n",
       "\t<dt>$sex</dt>\n",
       "\t\t<dd><table>\n",
       "<thead><tr><th scope=col>name</th><th scope=col>sex</th></tr></thead>\n",
       "<tbody>\n",
       "\t<tr><td>John</td><td>M   </td></tr>\n",
       "\t<tr><td>Mary</td><td>F   </td></tr>\n",
       "</tbody>\n",
       "</table>\n",
       "</dd>\n",
       "\t<dt>$trt</dt>\n",
       "\t\t<dd><table>\n",
       "<thead><tr><th scope=col>name</th><th scope=col>treatment</th></tr></thead>\n",
       "<tbody>\n",
       "\t<tr><td>Mary</td><td>A   </td></tr>\n",
       "</tbody>\n",
       "</table>\n",
       "</dd>\n",
       "</dl>\n"
      ],
      "text/latex": [
       "\\begin{description}\n",
       "\\item[\\$age] \\begin{tabular}{r|ll}\n",
       " name & age\\\\\n",
       "\\hline\n",
       "\t John & 30  \\\\\n",
       "\\end{tabular}\n",
       "\n",
       "\\item[\\$sex] \\begin{tabular}{r|ll}\n",
       " name & sex\\\\\n",
       "\\hline\n",
       "\t John & M   \\\\\n",
       "\t Mary & F   \\\\\n",
       "\\end{tabular}\n",
       "\n",
       "\\item[\\$trt] \\begin{tabular}{r|ll}\n",
       " name & treatment\\\\\n",
       "\\hline\n",
       "\t Mary & A   \\\\\n",
       "\\end{tabular}\n",
       "\n",
       "\\end{description}\n"
      ],
      "text/markdown": [
       "$age\n",
       ":   \n",
       "| name | age |\n",
       "|---|---|\n",
       "| John | 30   |\n",
       "\n",
       "\n",
       "$sex\n",
       ":   \n",
       "| name | sex |\n",
       "|---|---|\n",
       "| John | M    |\n",
       "| Mary | F    |\n",
       "\n",
       "\n",
       "$trt\n",
       ":   \n",
       "| name | treatment |\n",
       "|---|---|\n",
       "| Mary | A    |\n",
       "\n",
       "\n",
       "\n",
       "\n"
      ],
      "text/plain": [
       "$age\n",
       "# A tibble: 1 x 2\n",
       "  name    age\n",
       "  <chr> <dbl>\n",
       "1 John     30\n",
       "\n",
       "$sex\n",
       "# A tibble: 2 x 2\n",
       "  name  sex  \n",
       "  <chr> <chr>\n",
       "1 John  M    \n",
       "2 Mary  F    \n",
       "\n",
       "$trt\n",
       "# A tibble: 1 x 2\n",
       "  name  treatment\n",
       "  <chr> <chr>    \n",
       "1 Mary  A        \n"
      ]
     },
     "metadata": {},
     "output_type": "display_data"
    },
    {
     "name": "stderr",
     "output_type": "stream",
     "text": [
      "Joining, by = \"name\"\n",
      "Joining, by = \"name\"\n"
     ]
    },
    {
     "data": {
      "text/html": [
       "<table>\n",
       "<thead><tr><th scope=col>name</th><th scope=col>age</th><th scope=col>sex</th><th scope=col>treatment</th></tr></thead>\n",
       "<tbody>\n",
       "\t<tr><td>John</td><td>30  </td><td>M   </td><td>NA  </td></tr>\n",
       "\t<tr><td>Mary</td><td>NA  </td><td>F   </td><td>A   </td></tr>\n",
       "</tbody>\n",
       "</table>\n"
      ],
      "text/latex": [
       "\\begin{tabular}{r|llll}\n",
       " name & age & sex & treatment\\\\\n",
       "\\hline\n",
       "\t John & 30   & M    & NA  \\\\\n",
       "\t Mary & NA   & F    & A   \\\\\n",
       "\\end{tabular}\n"
      ],
      "text/markdown": [
       "\n",
       "| name | age | sex | treatment |\n",
       "|---|---|---|---|\n",
       "| John | 30   | M    | NA   |\n",
       "| Mary | NA   | F    | A    |\n",
       "\n"
      ],
      "text/plain": [
       "  name age sex treatment\n",
       "1 John 30  M   NA       \n",
       "2 Mary NA  F   A        "
      ]
     },
     "metadata": {},
     "output_type": "display_data"
    }
   ],
   "source": [
    "dfs <- list(\n",
    "  age = tibble(name = \"John\", age = 30),\n",
    "  sex = tibble(name = c(\"John\", \"Mary\"), sex = c(\"M\", \"F\")),\n",
    "  trt = tibble(name = \"Mary\", treatment = \"A\")\n",
    ")\n",
    "dfs\n",
    "\n",
    "dfs %>% reduce(full_join)"
   ]
  },
  {
   "cell_type": "raw",
   "metadata": {},
   "source": [
    "Or maybe you have a list of vectors, and want to find the intersection:"
   ]
  },
  {
   "cell_type": "code",
   "execution_count": 238,
   "metadata": {},
   "outputs": [
    {
     "data": {
      "text/html": [
       "<ol class=list-inline>\n",
       "\t<li>1</li>\n",
       "\t<li>3</li>\n",
       "\t<li>10</li>\n",
       "</ol>\n"
      ],
      "text/latex": [
       "\\begin{enumerate*}\n",
       "\\item 1\n",
       "\\item 3\n",
       "\\item 10\n",
       "\\end{enumerate*}\n"
      ],
      "text/markdown": [
       "1. 1\n",
       "2. 3\n",
       "3. 10\n",
       "\n",
       "\n"
      ],
      "text/plain": [
       "[1]  1  3 10"
      ]
     },
     "metadata": {},
     "output_type": "display_data"
    }
   ],
   "source": [
    "vs <- list(\n",
    "  c(1, 3, 5, 6, 10),\n",
    "  c(1, 2, 3, 7, 8, 10),\n",
    "  c(1, 2, 3, 4, 8, 9, 10)\n",
    ")\n",
    "\n",
    "vs %>% reduce(intersect)"
   ]
  },
  {
   "cell_type": "raw",
   "metadata": {},
   "source": [
    "The reduce function takes a “binary” function (i.e. a function with two primary inputs), and applies it repeatedly to a list until there is only a single element left.\n",
    "\n",
    "Accumulate is similar but it keeps all the interim results. You could use it to implement a cumulative sum:\n",
    "\n"
   ]
  },
  {
   "cell_type": "code",
   "execution_count": 239,
   "metadata": {},
   "outputs": [
    {
     "data": {
      "text/html": [
       "<ol class=list-inline>\n",
       "\t<li>7</li>\n",
       "\t<li>10</li>\n",
       "\t<li>3</li>\n",
       "\t<li>4</li>\n",
       "\t<li>5</li>\n",
       "\t<li>8</li>\n",
       "\t<li>1</li>\n",
       "\t<li>6</li>\n",
       "\t<li>9</li>\n",
       "\t<li>2</li>\n",
       "</ol>\n"
      ],
      "text/latex": [
       "\\begin{enumerate*}\n",
       "\\item 7\n",
       "\\item 10\n",
       "\\item 3\n",
       "\\item 4\n",
       "\\item 5\n",
       "\\item 8\n",
       "\\item 1\n",
       "\\item 6\n",
       "\\item 9\n",
       "\\item 2\n",
       "\\end{enumerate*}\n"
      ],
      "text/markdown": [
       "1. 7\n",
       "2. 10\n",
       "3. 3\n",
       "4. 4\n",
       "5. 5\n",
       "6. 8\n",
       "7. 1\n",
       "8. 6\n",
       "9. 9\n",
       "10. 2\n",
       "\n",
       "\n"
      ],
      "text/plain": [
       " [1]  7 10  3  4  5  8  1  6  9  2"
      ]
     },
     "metadata": {},
     "output_type": "display_data"
    },
    {
     "data": {
      "text/html": [
       "<ol class=list-inline>\n",
       "\t<li>7</li>\n",
       "\t<li>17</li>\n",
       "\t<li>20</li>\n",
       "\t<li>24</li>\n",
       "\t<li>29</li>\n",
       "\t<li>37</li>\n",
       "\t<li>38</li>\n",
       "\t<li>44</li>\n",
       "\t<li>53</li>\n",
       "\t<li>55</li>\n",
       "</ol>\n"
      ],
      "text/latex": [
       "\\begin{enumerate*}\n",
       "\\item 7\n",
       "\\item 17\n",
       "\\item 20\n",
       "\\item 24\n",
       "\\item 29\n",
       "\\item 37\n",
       "\\item 38\n",
       "\\item 44\n",
       "\\item 53\n",
       "\\item 55\n",
       "\\end{enumerate*}\n"
      ],
      "text/markdown": [
       "1. 7\n",
       "2. 17\n",
       "3. 20\n",
       "4. 24\n",
       "5. 29\n",
       "6. 37\n",
       "7. 38\n",
       "8. 44\n",
       "9. 53\n",
       "10. 55\n",
       "\n",
       "\n"
      ],
      "text/plain": [
       " [1]  7 17 20 24 29 37 38 44 53 55"
      ]
     },
     "metadata": {},
     "output_type": "display_data"
    }
   ],
   "source": [
    "x <- sample(10)\n",
    "x\n",
    "x %>% accumulate(`+`)"
   ]
  },
  {
   "cell_type": "raw",
   "metadata": {},
   "source": [
    "21.9.3 Exercises"
   ]
  },
  {
   "cell_type": "raw",
   "metadata": {},
   "source": [
    "Q1. Implement your own version of every() using a for loop. Compare it with purrr::every(). What does purrr’s version do that your version doesn’t?"
   ]
  },
  {
   "cell_type": "code",
   "execution_count": 240,
   "metadata": {},
   "outputs": [
    {
     "data": {
      "text/html": [
       "FALSE"
      ],
      "text/latex": [
       "FALSE"
      ],
      "text/markdown": [
       "FALSE"
      ],
      "text/plain": [
       "[1] FALSE"
      ]
     },
     "metadata": {},
     "output_type": "display_data"
    },
    {
     "data": {
      "text/html": [
       "TRUE"
      ],
      "text/latex": [
       "TRUE"
      ],
      "text/markdown": [
       "TRUE"
      ],
      "text/plain": [
       "[1] TRUE"
      ]
     },
     "metadata": {},
     "output_type": "display_data"
    }
   ],
   "source": [
    "# Use ... to pass arguments to the function\n",
    "every2 <- function(.x, .p, ...) {\n",
    "  for (i in .x) {\n",
    "    if (!.p(i, ...)) {\n",
    "      # If any is FALSE we know not all of then were TRUE\n",
    "      return(FALSE)\n",
    "    }\n",
    "  }\n",
    "  # if nothing was FALSE, then it is TRUE\n",
    "  TRUE\n",
    "}\n",
    "\n",
    "every2(1:3, function(x) {\n",
    "  x > 1\n",
    "})\n",
    "#> [1] FALSE\n",
    "every2(1:3, function(x) {\n",
    "  x > 0\n",
    "})"
   ]
  },
  {
   "cell_type": "raw",
   "metadata": {},
   "source": [
    "The function purrr::every() does fancy things with the predicate function argument .p, like taking a logical vector instead of a function, or being able to test part of a string if the elements of .x are lists.\n",
    "\n",
    "*****\n",
    "every\n",
    ".p"
   ]
  },
  {
   "cell_type": "raw",
   "metadata": {},
   "source": [
    "Q2. Create an enhanced col_summary() that applies a summary function to every numeric column in a data frame."
   ]
  },
  {
   "cell_type": "raw",
   "metadata": {},
   "source": [
    "I will use map to apply the function to all the columns, and keep to only select numeric columns.\n",
    "\n",
    "cool though didnt we do this alr?*********\n",
    "here using keep*****"
   ]
  },
  {
   "cell_type": "code",
   "execution_count": 241,
   "metadata": {},
   "outputs": [],
   "source": [
    "col_sum2 <- function(df, f, ...) {\n",
    "  map(keep(df, is.numeric), f, ...)\n",
    "}"
   ]
  },
  {
   "cell_type": "code",
   "execution_count": 242,
   "metadata": {},
   "outputs": [
    {
     "data": {
      "text/html": [
       "<dl>\n",
       "\t<dt>$Sepal.Length</dt>\n",
       "\t\t<dd>5.84333333333333</dd>\n",
       "\t<dt>$Sepal.Width</dt>\n",
       "\t\t<dd>3.05733333333333</dd>\n",
       "\t<dt>$Petal.Length</dt>\n",
       "\t\t<dd>3.758</dd>\n",
       "\t<dt>$Petal.Width</dt>\n",
       "\t\t<dd>1.19933333333333</dd>\n",
       "</dl>\n"
      ],
      "text/latex": [
       "\\begin{description}\n",
       "\\item[\\$Sepal.Length] 5.84333333333333\n",
       "\\item[\\$Sepal.Width] 3.05733333333333\n",
       "\\item[\\$Petal.Length] 3.758\n",
       "\\item[\\$Petal.Width] 1.19933333333333\n",
       "\\end{description}\n"
      ],
      "text/markdown": [
       "$Sepal.Length\n",
       ":   5.84333333333333\n",
       "$Sepal.Width\n",
       ":   3.05733333333333\n",
       "$Petal.Length\n",
       ":   3.758\n",
       "$Petal.Width\n",
       ":   1.19933333333333\n",
       "\n",
       "\n"
      ],
      "text/plain": [
       "$Sepal.Length\n",
       "[1] 5.843333\n",
       "\n",
       "$Sepal.Width\n",
       "[1] 3.057333\n",
       "\n",
       "$Petal.Length\n",
       "[1] 3.758\n",
       "\n",
       "$Petal.Width\n",
       "[1] 1.199333\n"
      ]
     },
     "metadata": {},
     "output_type": "display_data"
    }
   ],
   "source": [
    "col_sum2(iris, mean)"
   ]
  },
  {
   "cell_type": "raw",
   "metadata": {},
   "source": [
    "Q3. A possible base R equivalent of col_summary() is:"
   ]
  },
  {
   "cell_type": "code",
   "execution_count": 243,
   "metadata": {},
   "outputs": [],
   "source": [
    "col_sum3 <- function(df, f) {\n",
    "  is_num <- sapply(df, is.numeric)\n",
    "  df_num <- df[, is_num]\n",
    "\n",
    "  sapply(df_num, f)\n",
    "}"
   ]
  },
  {
   "cell_type": "raw",
   "metadata": {},
   "source": [
    "But it has a number of bugs as illustrated with the following inputs:"
   ]
  },
  {
   "cell_type": "code",
   "execution_count": 244,
   "metadata": {},
   "outputs": [
    {
     "data": {
      "text/html": [
       "<dl class=dl-horizontal>\n",
       "\t<dt>x</dt>\n",
       "\t\t<dd>2</dd>\n",
       "\t<dt>y</dt>\n",
       "\t\t<dd>2</dd>\n",
       "</dl>\n"
      ],
      "text/latex": [
       "\\begin{description*}\n",
       "\\item[x] 2\n",
       "\\item[y] 2\n",
       "\\end{description*}\n"
      ],
      "text/markdown": [
       "x\n",
       ":   2y\n",
       ":   2\n",
       "\n"
      ],
      "text/plain": [
       "x y \n",
       "2 2 "
      ]
     },
     "metadata": {},
     "output_type": "display_data"
    },
    {
     "data": {
      "text/html": [
       "<dl class=dl-horizontal>\n",
       "\t<dt>x</dt>\n",
       "\t\t<dd>2</dd>\n",
       "\t<dt>y</dt>\n",
       "\t\t<dd>2</dd>\n",
       "</dl>\n"
      ],
      "text/latex": [
       "\\begin{description*}\n",
       "\\item[x] 2\n",
       "\\item[y] 2\n",
       "\\end{description*}\n"
      ],
      "text/markdown": [
       "x\n",
       ":   2y\n",
       ":   2\n",
       "\n"
      ],
      "text/plain": [
       "x y \n",
       "2 2 "
      ]
     },
     "metadata": {},
     "output_type": "display_data"
    },
    {
     "data": {
      "text/html": [
       "<strong>x:</strong> 2"
      ],
      "text/latex": [
       "\\textbf{x:} 2"
      ],
      "text/markdown": [
       "**x:** 2"
      ],
      "text/plain": [
       "x \n",
       "2 "
      ]
     },
     "metadata": {},
     "output_type": "display_data"
    },
    {
     "ename": "ERROR",
     "evalue": "Can't subset with `[` using an object of class list.",
     "output_type": "error",
     "traceback": [
      "Can't subset with `[` using an object of class list.Traceback:\n",
      "1. col_sum3(df[0], mean)",
      "2. df[, is_num]   # at line 3 of file <text>",
      "3. `[.tbl_df`(df, , is_num)   # at line 3 of file <text>",
      "4. check_names_df(j, x)",
      "5. abort(error_unsupported_index(j))"
     ]
    }
   ],
   "source": [
    "df <- tibble(\n",
    "  x = 1:3, \n",
    "  y = 3:1,\n",
    "  z = c(\"a\", \"b\", \"c\")\n",
    ")\n",
    "# OK\n",
    "col_sum3(df, mean)\n",
    "# Has problems: don't always return numeric vector\n",
    "col_sum3(df[1:2], mean)\n",
    "col_sum3(df[1], mean)\n",
    "col_sum3(df[0], mean)"
   ]
  },
  {
   "cell_type": "raw",
   "metadata": {},
   "source": [
    "What causes the bugs?"
   ]
  },
  {
   "cell_type": "raw",
   "metadata": {},
   "source": [
    "The cause of these bugs is the behavior of sapply(). The sapply() function does not guarantee the type of vector it returns, and will returns different types of vectors depending on its inputs. If no columns are selected, instead of returning an empty numeric vector, it returns an empty list. This causes an error since we can’t use a list with [."
   ]
  },
  {
   "cell_type": "code",
   "execution_count": 245,
   "metadata": {},
   "outputs": [
    {
     "data": {
      "text/html": [
       "<dl>\n",
       "</dl>\n"
      ],
      "text/latex": [
       "\\begin{description}\n",
       "\\end{description}\n"
      ],
      "text/markdown": [
       "\n",
       "\n"
      ],
      "text/plain": [
       "named list()"
      ]
     },
     "metadata": {},
     "output_type": "display_data"
    }
   ],
   "source": [
    "sapply(df[0], is.numeric)"
   ]
  },
  {
   "cell_type": "code",
   "execution_count": 246,
   "metadata": {},
   "outputs": [
    {
     "data": {
      "text/html": [
       "<strong>x:</strong> TRUE"
      ],
      "text/latex": [
       "\\textbf{x:} TRUE"
      ],
      "text/markdown": [
       "**x:** TRUE"
      ],
      "text/plain": [
       "   x \n",
       "TRUE "
      ]
     },
     "metadata": {},
     "output_type": "display_data"
    }
   ],
   "source": [
    "sapply(df[1], is.numeric)"
   ]
  },
  {
   "cell_type": "code",
   "execution_count": 247,
   "metadata": {},
   "outputs": [
    {
     "data": {
      "text/html": [
       "<dl class=dl-horizontal>\n",
       "\t<dt>x</dt>\n",
       "\t\t<dd>TRUE</dd>\n",
       "\t<dt>y</dt>\n",
       "\t\t<dd>TRUE</dd>\n",
       "</dl>\n"
      ],
      "text/latex": [
       "\\begin{description*}\n",
       "\\item[x] TRUE\n",
       "\\item[y] TRUE\n",
       "\\end{description*}\n"
      ],
      "text/markdown": [
       "x\n",
       ":   TRUEy\n",
       ":   TRUE\n",
       "\n"
      ],
      "text/plain": [
       "   x    y \n",
       "TRUE TRUE "
      ]
     },
     "metadata": {},
     "output_type": "display_data"
    }
   ],
   "source": [
    "sapply(df[1:2], is.numeric)"
   ]
  },
  {
   "cell_type": "raw",
   "metadata": {},
   "source": [
    "The sapply() function tries to be helpful by simplifying the results, but this behavior can be counterproductive. It is okay to use the sapply() function interactively, but avoid programming with it."
   ]
  },
  {
   "cell_type": "code",
   "execution_count": null,
   "metadata": {},
   "outputs": [],
   "source": []
  }
 ],
 "metadata": {
  "kernelspec": {
   "display_name": "R",
   "language": "R",
   "name": "ir"
  },
  "language_info": {
   "codemirror_mode": "r",
   "file_extension": ".r",
   "mimetype": "text/x-r-source",
   "name": "R",
   "pygments_lexer": "r",
   "version": "3.6.0"
  }
 },
 "nbformat": 4,
 "nbformat_minor": 2
}
